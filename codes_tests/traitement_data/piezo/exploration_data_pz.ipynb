{
 "cells": [
  {
   "cell_type": "code",
   "execution_count": 2,
   "metadata": {},
   "outputs": [],
   "source": [
    "import pandas as pd\n",
    "import geopandas as gp\n",
    "import numpy as np\n",
    "import matplotlib.pyplot as plt\n",
    "import seaborn as sns"
   ]
  },
  {
   "cell_type": "code",
   "execution_count": 13,
   "metadata": {},
   "outputs": [
    {
     "data": {
      "text/html": [
       "<div>\n",
       "<style scoped>\n",
       "    .dataframe tbody tr th:only-of-type {\n",
       "        vertical-align: middle;\n",
       "    }\n",
       "\n",
       "    .dataframe tbody tr th {\n",
       "        vertical-align: top;\n",
       "    }\n",
       "\n",
       "    .dataframe thead th {\n",
       "        text-align: right;\n",
       "    }\n",
       "</style>\n",
       "<table border=\"1\" class=\"dataframe\">\n",
       "  <thead>\n",
       "    <tr style=\"text-align: right;\">\n",
       "      <th></th>\n",
       "      <th>N°Invent.</th>\n",
       "      <th>x</th>\n",
       "      <th>y</th>\n",
       "      <th>Côte margelle</th>\n",
       "      <th>Prof.Pz_étiage_1961</th>\n",
       "      <th>Pz_étiage_1961</th>\n",
       "      <th>AquifèreCapté</th>\n",
       "      <th>Date_piézo</th>\n",
       "      <th>Source</th>\n",
       "    </tr>\n",
       "  </thead>\n",
       "  <tbody>\n",
       "    <tr>\n",
       "      <td>0</td>\n",
       "      <td>??</td>\n",
       "      <td>683358.931439</td>\n",
       "      <td>6.178225e+06</td>\n",
       "      <td>70.19</td>\n",
       "      <td>1.126667</td>\n",
       "      <td>69.063333</td>\n",
       "      <td>Pliocène profond</td>\n",
       "      <td>Moyenne FinJuinOct.Nov.1961</td>\n",
       "      <td>Dazy,1961</td>\n",
       "    </tr>\n",
       "    <tr>\n",
       "      <td>1</td>\n",
       "      <td>B10</td>\n",
       "      <td>694569.790049</td>\n",
       "      <td>6.181817e+06</td>\n",
       "      <td>13.85</td>\n",
       "      <td>1.463333</td>\n",
       "      <td>12.386667</td>\n",
       "      <td>Quaternaire</td>\n",
       "      <td>Moyenne FinJuinOct.Nov.1961</td>\n",
       "      <td>Dazy,1961</td>\n",
       "    </tr>\n",
       "    <tr>\n",
       "      <td>2</td>\n",
       "      <td>B12</td>\n",
       "      <td>694521.925045</td>\n",
       "      <td>6.182088e+06</td>\n",
       "      <td>13.96</td>\n",
       "      <td>1.890000</td>\n",
       "      <td>12.070000</td>\n",
       "      <td>Quaternaire</td>\n",
       "      <td>Moyenne FinJuinOct.Nov.1961</td>\n",
       "      <td>Dazy,1961</td>\n",
       "    </tr>\n",
       "    <tr>\n",
       "      <td>3</td>\n",
       "      <td>B14</td>\n",
       "      <td>694115.468654</td>\n",
       "      <td>6.181341e+06</td>\n",
       "      <td>16.60</td>\n",
       "      <td>3.360000</td>\n",
       "      <td>13.240000</td>\n",
       "      <td>Quaternaire</td>\n",
       "      <td>Moyenne FinJuinOct.Nov.1961</td>\n",
       "      <td>Dazy,1961</td>\n",
       "    </tr>\n",
       "    <tr>\n",
       "      <td>4</td>\n",
       "      <td>B15</td>\n",
       "      <td>684819.157323</td>\n",
       "      <td>6.178062e+06</td>\n",
       "      <td>16.46</td>\n",
       "      <td>2.476667</td>\n",
       "      <td>13.983333</td>\n",
       "      <td>Quaternaire</td>\n",
       "      <td>Moyenne FinJuinOct.Nov.1961</td>\n",
       "      <td>Dazy,1961</td>\n",
       "    </tr>\n",
       "    <tr>\n",
       "      <td>...</td>\n",
       "      <td>...</td>\n",
       "      <td>...</td>\n",
       "      <td>...</td>\n",
       "      <td>...</td>\n",
       "      <td>...</td>\n",
       "      <td>...</td>\n",
       "      <td>...</td>\n",
       "      <td>...</td>\n",
       "      <td>...</td>\n",
       "    </tr>\n",
       "    <tr>\n",
       "      <td>967</td>\n",
       "      <td>148</td>\n",
       "      <td>688595.956113</td>\n",
       "      <td>6.187041e+06</td>\n",
       "      <td>27.63</td>\n",
       "      <td>4.500000</td>\n",
       "      <td>23.130000</td>\n",
       "      <td>Quaternaire et Pliocène (continental)</td>\n",
       "      <td>Moyenne Oct.Nov.1963</td>\n",
       "      <td>Gadel_1966</td>\n",
       "    </tr>\n",
       "    <tr>\n",
       "      <td>968</td>\n",
       "      <td>149</td>\n",
       "      <td>688299.331661</td>\n",
       "      <td>6.187494e+06</td>\n",
       "      <td>31.80</td>\n",
       "      <td>3.410000</td>\n",
       "      <td>28.390000</td>\n",
       "      <td>Quaternaire</td>\n",
       "      <td>Moyenne Oct.Nov.1963</td>\n",
       "      <td>Gadel_1966</td>\n",
       "    </tr>\n",
       "    <tr>\n",
       "      <td>969</td>\n",
       "      <td>145b</td>\n",
       "      <td>687604.775234</td>\n",
       "      <td>6.188250e+06</td>\n",
       "      <td>38.76</td>\n",
       "      <td>6.160000</td>\n",
       "      <td>32.600000</td>\n",
       "      <td>Quaternaire</td>\n",
       "      <td>Moyenne Oct.Nov.1963</td>\n",
       "      <td>Gadel_1966</td>\n",
       "    </tr>\n",
       "    <tr>\n",
       "      <td>970</td>\n",
       "      <td>47b</td>\n",
       "      <td>688394.143430</td>\n",
       "      <td>6.186843e+06</td>\n",
       "      <td>NaN</td>\n",
       "      <td>4.690000</td>\n",
       "      <td>NaN</td>\n",
       "      <td>Pliocène</td>\n",
       "      <td>Moyenne Oct.Nov.1963</td>\n",
       "      <td>Gadel_1966</td>\n",
       "    </tr>\n",
       "    <tr>\n",
       "      <td>971</td>\n",
       "      <td>60b</td>\n",
       "      <td>692881.366887</td>\n",
       "      <td>6.184704e+06</td>\n",
       "      <td>15.12</td>\n",
       "      <td>4.920000</td>\n",
       "      <td>10.200000</td>\n",
       "      <td>Quaternaire</td>\n",
       "      <td>Moyenne Oct.Nov.1963</td>\n",
       "      <td>Gadel_1966</td>\n",
       "    </tr>\n",
       "  </tbody>\n",
       "</table>\n",
       "<p>972 rows × 9 columns</p>\n",
       "</div>"
      ],
      "text/plain": [
       "    N°Invent.              x             y  Côte margelle  \\\n",
       "0          ??  683358.931439  6.178225e+06          70.19   \n",
       "1         B10  694569.790049  6.181817e+06          13.85   \n",
       "2         B12  694521.925045  6.182088e+06          13.96   \n",
       "3         B14  694115.468654  6.181341e+06          16.60   \n",
       "4         B15  684819.157323  6.178062e+06          16.46   \n",
       "..        ...            ...           ...            ...   \n",
       "967       148  688595.956113  6.187041e+06          27.63   \n",
       "968       149  688299.331661  6.187494e+06          31.80   \n",
       "969      145b  687604.775234  6.188250e+06          38.76   \n",
       "970       47b  688394.143430  6.186843e+06            NaN   \n",
       "971       60b  692881.366887  6.184704e+06          15.12   \n",
       "\n",
       "     Prof.Pz_étiage_1961  Pz_étiage_1961  \\\n",
       "0               1.126667       69.063333   \n",
       "1               1.463333       12.386667   \n",
       "2               1.890000       12.070000   \n",
       "3               3.360000       13.240000   \n",
       "4               2.476667       13.983333   \n",
       "..                   ...             ...   \n",
       "967             4.500000       23.130000   \n",
       "968             3.410000       28.390000   \n",
       "969             6.160000       32.600000   \n",
       "970             4.690000             NaN   \n",
       "971             4.920000       10.200000   \n",
       "\n",
       "                             AquifèreCapté                   Date_piézo  \\\n",
       "0                         Pliocène profond  Moyenne FinJuinOct.Nov.1961   \n",
       "1                              Quaternaire  Moyenne FinJuinOct.Nov.1961   \n",
       "2                              Quaternaire  Moyenne FinJuinOct.Nov.1961   \n",
       "3                              Quaternaire  Moyenne FinJuinOct.Nov.1961   \n",
       "4                              Quaternaire  Moyenne FinJuinOct.Nov.1961   \n",
       "..                                     ...                          ...   \n",
       "967  Quaternaire et Pliocène (continental)         Moyenne Oct.Nov.1963   \n",
       "968                            Quaternaire         Moyenne Oct.Nov.1963   \n",
       "969                            Quaternaire         Moyenne Oct.Nov.1963   \n",
       "970                               Pliocène         Moyenne Oct.Nov.1963   \n",
       "971                            Quaternaire         Moyenne Oct.Nov.1963   \n",
       "\n",
       "         Source  \n",
       "0     Dazy,1961  \n",
       "1     Dazy,1961  \n",
       "2     Dazy,1961  \n",
       "3     Dazy,1961  \n",
       "4     Dazy,1961  \n",
       "..          ...  \n",
       "967  Gadel_1966  \n",
       "968  Gadel_1966  \n",
       "969  Gadel_1966  \n",
       "970  Gadel_1966  \n",
       "971  Gadel_1966  \n",
       "\n",
       "[972 rows x 9 columns]"
      ]
     },
     "execution_count": 13,
     "metadata": {},
     "output_type": "execute_result"
    }
   ],
   "source": [
    "all_pz=pd.read_excel(\"../../data/piezos/liste_pz_60_65.xlsx\",sheet_name=0)\n",
    "all_pz"
   ]
  },
  {
   "cell_type": "code",
   "execution_count": 33,
   "metadata": {
    "scrolled": true
   },
   "outputs": [],
   "source": [
    "lst_pz=all_pz.groupby([\"x\",\"y\"]).aggregate({\"Pz_étiage_1961\":np.mean,\n",
    "                                                                 \"AquifèreCapté\":min})\n",
    "lst_pz.reset_index(inplace=True)\n",
    "lst_pz.rename(columns={\"x\":\"X\",\"y\":\"Y\",\"Pz_étiage_1961\":\"Head [m]\"},inplace=True)"
   ]
  },
  {
   "cell_type": "code",
   "execution_count": 34,
   "metadata": {
    "scrolled": false
   },
   "outputs": [
    {
     "data": {
      "text/plain": [
       "<matplotlib.colorbar.Colorbar at 0x14756917908>"
      ]
     },
     "execution_count": 34,
     "metadata": {},
     "output_type": "execute_result"
    },
    {
     "data": {
      "image/png": "[encoded data removed]",
      "text/plain": [
       "<Figure size 720x720 with 2 Axes>"
      ]
     },
     "metadata": {
      "needs_background": "light"
     },
     "output_type": "display_data"
    }
   ],
   "source": [
    "lst_pz = lst_pz[lst_pz[\"AquifèreCapté\"] == \"Pliocène\"]\n",
    "\n",
    "\n",
    "fig,ax=plt.subplots(figsize=(10,10))\n",
    "plt.scatter(lst_pz.X,lst_pz.Y,c = lst_pz[\"Head [m]\"])\n",
    "plt.colorbar()"
   ]
  },
  {
   "cell_type": "code",
   "execution_count": 21,
   "metadata": {},
   "outputs": [
    {
     "data": {
      "text/plain": [
       "AquifèreCapté\n",
       "Pliocène                                 AxesSubplot(0.125,0.125;0.775x0.755)\n",
       "Pliocène Profond                         AxesSubplot(0.125,0.125;0.775x0.755)\n",
       "Pliocène profond                         AxesSubplot(0.125,0.125;0.775x0.755)\n",
       "Pliocène superficiel                     AxesSubplot(0.125,0.125;0.775x0.755)\n",
       "Pliocène?                                AxesSubplot(0.125,0.125;0.775x0.755)\n",
       "Quaternaire                              AxesSubplot(0.125,0.125;0.775x0.755)\n",
       "Quaternaire et Pliocène (continental)    AxesSubplot(0.125,0.125;0.775x0.755)\n",
       "Name: AquifèreCapté, dtype: object"
      ]
     },
     "execution_count": 21,
     "metadata": {},
     "output_type": "execute_result"
    },
    {
     "data": {
      "image/png": "[encoded data removed]",
      "text/plain": [
       "<Figure size 1296x360 with 1 Axes>"
      ]
     },
     "metadata": {
      "needs_background": "light"
     },
     "output_type": "display_data"
    }
   ],
   "source": [
    "fig,ax=plt.subplots(figsize=(18,5))\n",
    "lst_pz.AquifèreCapté.hist(ax=ax)"
   ]
  },
  {
   "cell_type": "code",
   "execution_count": null,
   "metadata": {},
   "outputs": [],
   "source": [
    "sns.pairplot(all_pz,hue=\"AquifèreCapté\")"
   ]
  },
  {
   "cell_type": "code",
   "execution_count": null,
   "metadata": {},
   "outputs": [],
   "source": []
  }
 ],
 "metadata": {
  "kernelspec": {
   "display_name": "Python 3",
   "language": "python",
   "name": "python3"
  },
  "language_info": {
   "codemirror_mode": {
    "name": "ipython",
    "version": 3
   },
   "file_extension": ".py",
   "mimetype": "text/x-python",
   "name": "python",
   "nbconvert_exporter": "python",
   "pygments_lexer": "ipython3",
   "version": "3.7.4"
  }
 },
 "nbformat": 4,
 "nbformat_minor": 2
}
