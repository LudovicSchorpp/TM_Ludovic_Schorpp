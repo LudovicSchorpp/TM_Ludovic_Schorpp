{
 "cells": [
  {
   "cell_type": "code",
   "execution_count": 1,
   "metadata": {},
   "outputs": [
    {
     "name": "stdout",
     "output_type": "stream",
     "text": [
      "flopy is installed in C:\\Users\\emmal\\Anaconda3\\lib\\site-packages\\flopy\n"
     ]
    }
   ],
   "source": [
    "import pandas as pd\n",
    "import geopandas as gp\n",
    "from shapely.geometry import *\n",
    "import numpy as np\n",
    "import seaborn as sns\n",
    "import matplotlib.pyplot as plt\n",
    "\n",
    "import flopy as fp\n",
    "from flopy.utils.gridintersect import GridIntersect\n",
    "from flopy.utils import Raster\n",
    "import rasterio"
   ]
  },
  {
   "cell_type": "code",
   "execution_count": 2,
   "metadata": {},
   "outputs": [],
   "source": [
    "def resample_rast(rast_path,grid,band=1):\n",
    "    arr = Raster.load(rast_path)\n",
    "    arr = arr.resample_to_grid(grid.xcellcenters,grid.ycellcenters,band)\n",
    "    return arr"
   ]
  },
  {
   "cell_type": "code",
   "execution_count": 3,
   "metadata": {},
   "outputs": [],
   "source": [
    "# extract boundaries data from surfaces\n",
    "MNT_path = \"../../data/surfaces_geoter_decoup/TOPO (inf 0 en mer).asc\"\n",
    "x0,y0,x1,y1 = rasterio.open(MNT_path).bounds\n",
    "x1 -= 3e4\n",
    "# set resolution of the array\n",
    "res = 50\n",
    "Lx = x1-x0\n",
    "Ly = y1-y0\n",
    "nrow = int(Ly/res)\n",
    "ncol = int(Lx/res)\n",
    "\n",
    "#create grid with flopy\n",
    "grid = fp.discretization.StructuredGrid(delc=res*np.ones([nrow]),delr=res*np.ones([ncol]),xoff=x0,yoff=y0)\n",
    "ix = GridIntersect(grid)"
   ]
  },
  {
   "cell_type": "code",
   "execution_count": 4,
   "metadata": {},
   "outputs": [],
   "source": [
    "shp = \"zones_irrigation/zCan.shp\" # a shp polygon near Canet where irrigation is only provided by wells\n",
    "parcelles = \"parcelles/Parcelles.shp\" # a shp with mulitple polygons, one per culture on the plain\n",
    "zones_irr = \"zones_irrigation/Zirr_mod.shp\" #list of irrigation zones made by Brli"
   ]
  },
  {
   "cell_type": "code",
   "execution_count": 5,
   "metadata": {},
   "outputs": [],
   "source": [
    "#load shp\n",
    "parc = gp.read_file(parcelles)\n",
    "zCan = gp.read_file(shp)\n",
    "zIrr = gp.read_file(zones_irr)\n",
    "\n",
    "#append the polygon from Canet\n",
    "\n",
    "zCan[\"Surf_Z_Ha\"] = zCan.geometry[0].area/1e4 #get area\n",
    "zCan[\"Irr_forage\"] = 1 # add info about irrgation source\n",
    "\n",
    "zIrr = zIrr.append(zCan,sort=False).reset_index(drop=True)\n",
    "\n",
    "# ajout d'une colonne pour l'irrigation par canaux\n",
    "zIrr[\"Irr_can\"] = 1-zIrr[\"Irr_forage\"]\n",
    "zIrr.loc[zIrr[\"Zones\"]==\"Zone 4\",\"Irr_can\"]=0"
   ]
  },
  {
   "cell_type": "code",
   "execution_count": 6,
   "metadata": {},
   "outputs": [],
   "source": [
    "#calculate area per culture type and by zones\n",
    "surf=[]\n",
    "\n",
    "## calculate surface for each culture\n",
    "for zi in range(zIrr.shape[0]):\n",
    "    mask=[]\n",
    "    for p in range(parc.shape[0]):\n",
    "        mask.append(zIrr.geometry[zi].intersects(parc.geometry[p]))\n",
    "    df = parc.loc[mask].groupby([\"Name\"]).sum()[\"Surf_P_Ha\"]\n",
    "    \n",
    "    surf_mar=0\n",
    "    surf_verg=0\n",
    "    for i in range(df.shape[0]):\n",
    "        if df.index[i] == \"Verger\":\n",
    "            surf_verg = df.values[i]\n",
    "        if df.index[i] == 'Maraichage':\n",
    "            surf_mar = df.values[i]\n",
    "                    \n",
    "    surf.append((zIrr.loc[zi,\"Zones\"],surf_mar,surf_verg))"
   ]
  },
  {
   "cell_type": "code",
   "execution_count": 7,
   "metadata": {},
   "outputs": [],
   "source": [
    "surf = pd.DataFrame(surf,columns=[\"Zones\",\"area_maraichage [Ha]\",\"area_verger [Ha]\"])"
   ]
  },
  {
   "cell_type": "markdown",
   "metadata": {},
   "source": [
    "- maraichage 90 % d'hiver 10 % d'été\n",
    "- verger 30 % abricots et 70 % pêchers"
   ]
  },
  {
   "cell_type": "code",
   "execution_count": 8,
   "metadata": {},
   "outputs": [],
   "source": [
    "mara_e = np.array([353,417,494])\n",
    "mara_h = np.array([25,46,60])\n",
    "abr = np.array([144,190,252])\n",
    "pech = np.array([458,545,648])"
   ]
  },
  {
   "cell_type": "code",
   "execution_count": 9,
   "metadata": {},
   "outputs": [],
   "source": [
    "verger = 0.3*abr+0.7*pech\n",
    "mara = 0.9*mara_h+0.1*mara_e\n",
    "\n",
    "# facteur besoins\n",
    "z=3\n",
    "besoins = np.ones([zIrr.shape[0],2])\n",
    "for i,z in enumerate(zIrr[\"ZC\"]):\n",
    "    besoins[int(i)] = [mara[z-1],verger[z-1]]\n",
    "\n",
    "W_need = surf.set_index(\"Zones\")*10*besoins\n",
    "W_need.columns = [\"w_need_mar [m$^3$]\",\"w_need_verg [m$^3$]\"]"
   ]
  },
  {
   "cell_type": "code",
   "execution_count": 10,
   "metadata": {},
   "outputs": [
    {
     "data": {
      "text/html": [
       "<style  type=\"text/css\" >\n",
       "    #T_dde5a270_ba28_11ea_be50_d050990ce69drow0_col1 {\n",
       "            background-color:  #e4e4ff;\n",
       "            color:  #000000;\n",
       "        }    #T_dde5a270_ba28_11ea_be50_d050990ce69drow0_col2 {\n",
       "            background-color:  #c2c2ff;\n",
       "            color:  #000000;\n",
       "        }    #T_dde5a270_ba28_11ea_be50_d050990ce69drow1_col1 {\n",
       "            background-color:  #c6c6ff;\n",
       "            color:  #000000;\n",
       "        }    #T_dde5a270_ba28_11ea_be50_d050990ce69drow1_col2 {\n",
       "            background-color:  #c4c4ff;\n",
       "            color:  #000000;\n",
       "        }    #T_dde5a270_ba28_11ea_be50_d050990ce69drow2_col1 {\n",
       "            background-color:  #e5e5ff;\n",
       "            color:  #000000;\n",
       "        }    #T_dde5a270_ba28_11ea_be50_d050990ce69drow2_col2 {\n",
       "            background-color:  #dedeff;\n",
       "            color:  #000000;\n",
       "        }    #T_dde5a270_ba28_11ea_be50_d050990ce69drow3_col1 {\n",
       "            background-color:  #4646ff;\n",
       "            color:  #f1f1f1;\n",
       "        }    #T_dde5a270_ba28_11ea_be50_d050990ce69drow3_col2 {\n",
       "            background-color:  #a5a5ff;\n",
       "            color:  #000000;\n",
       "        }    #T_dde5a270_ba28_11ea_be50_d050990ce69drow4_col1 {\n",
       "            background-color:  #dedeff;\n",
       "            color:  #000000;\n",
       "        }    #T_dde5a270_ba28_11ea_be50_d050990ce69drow4_col2 {\n",
       "            background-color:  #9696ff;\n",
       "            color:  #000000;\n",
       "        }    #T_dde5a270_ba28_11ea_be50_d050990ce69drow5_col1 {\n",
       "            background-color:  #ddddff;\n",
       "            color:  #000000;\n",
       "        }    #T_dde5a270_ba28_11ea_be50_d050990ce69drow5_col2 {\n",
       "            background-color:  #e5e5ff;\n",
       "            color:  #000000;\n",
       "        }    #T_dde5a270_ba28_11ea_be50_d050990ce69drow6_col1 {\n",
       "            background-color:  #bdbdff;\n",
       "            color:  #000000;\n",
       "        }    #T_dde5a270_ba28_11ea_be50_d050990ce69drow6_col2 {\n",
       "            background-color:  #dfdfff;\n",
       "            color:  #000000;\n",
       "        }    #T_dde5a270_ba28_11ea_be50_d050990ce69drow7_col1 {\n",
       "            background-color:  #c3c3ff;\n",
       "            color:  #000000;\n",
       "        }    #T_dde5a270_ba28_11ea_be50_d050990ce69drow7_col2 {\n",
       "            background-color:  #dcdcff;\n",
       "            color:  #000000;\n",
       "        }    #T_dde5a270_ba28_11ea_be50_d050990ce69drow8_col1 {\n",
       "            background-color:  #c3c3ff;\n",
       "            color:  #000000;\n",
       "        }    #T_dde5a270_ba28_11ea_be50_d050990ce69drow8_col2 {\n",
       "            background-color:  #0000ff;\n",
       "            color:  #f1f1f1;\n",
       "        }    #T_dde5a270_ba28_11ea_be50_d050990ce69drow9_col1 {\n",
       "            background-color:  #e5e5ff;\n",
       "            color:  #000000;\n",
       "        }    #T_dde5a270_ba28_11ea_be50_d050990ce69drow9_col2 {\n",
       "            background-color:  #d6d6ff;\n",
       "            color:  #000000;\n",
       "        }    #T_dde5a270_ba28_11ea_be50_d050990ce69drow10_col1 {\n",
       "            background-color:  #e5e5ff;\n",
       "            color:  #000000;\n",
       "        }    #T_dde5a270_ba28_11ea_be50_d050990ce69drow10_col2 {\n",
       "            background-color:  #e5e5ff;\n",
       "            color:  #000000;\n",
       "        }    #T_dde5a270_ba28_11ea_be50_d050990ce69drow11_col1 {\n",
       "            background-color:  #e5e5ff;\n",
       "            color:  #000000;\n",
       "        }    #T_dde5a270_ba28_11ea_be50_d050990ce69drow11_col2 {\n",
       "            background-color:  #ddddff;\n",
       "            color:  #000000;\n",
       "        }    #T_dde5a270_ba28_11ea_be50_d050990ce69drow12_col1 {\n",
       "            background-color:  #e5e5ff;\n",
       "            color:  #000000;\n",
       "        }    #T_dde5a270_ba28_11ea_be50_d050990ce69drow12_col2 {\n",
       "            background-color:  #e4e4ff;\n",
       "            color:  #000000;\n",
       "        }    #T_dde5a270_ba28_11ea_be50_d050990ce69drow13_col1 {\n",
       "            background-color:  #e5e5ff;\n",
       "            color:  #000000;\n",
       "        }    #T_dde5a270_ba28_11ea_be50_d050990ce69drow13_col2 {\n",
       "            background-color:  #e1e1ff;\n",
       "            color:  #000000;\n",
       "        }    #T_dde5a270_ba28_11ea_be50_d050990ce69drow14_col1 {\n",
       "            background-color:  #e2e2ff;\n",
       "            color:  #000000;\n",
       "        }    #T_dde5a270_ba28_11ea_be50_d050990ce69drow14_col2 {\n",
       "            background-color:  #9a9aff;\n",
       "            color:  #000000;\n",
       "        }    #T_dde5a270_ba28_11ea_be50_d050990ce69drow15_col1 {\n",
       "            background-color:  #e5e5ff;\n",
       "            color:  #000000;\n",
       "        }    #T_dde5a270_ba28_11ea_be50_d050990ce69drow15_col2 {\n",
       "            background-color:  #c9c9ff;\n",
       "            color:  #000000;\n",
       "        }    #T_dde5a270_ba28_11ea_be50_d050990ce69drow16_col1 {\n",
       "            background-color:  #e5e5ff;\n",
       "            color:  #000000;\n",
       "        }    #T_dde5a270_ba28_11ea_be50_d050990ce69drow16_col2 {\n",
       "            background-color:  #dfdfff;\n",
       "            color:  #000000;\n",
       "        }    #T_dde5a270_ba28_11ea_be50_d050990ce69drow17_col1 {\n",
       "            background-color:  #e5e5ff;\n",
       "            color:  #000000;\n",
       "        }    #T_dde5a270_ba28_11ea_be50_d050990ce69drow17_col2 {\n",
       "            background-color:  #d8d8ff;\n",
       "            color:  #000000;\n",
       "        }    #T_dde5a270_ba28_11ea_be50_d050990ce69drow18_col1 {\n",
       "            background-color:  #e5e5ff;\n",
       "            color:  #000000;\n",
       "        }    #T_dde5a270_ba28_11ea_be50_d050990ce69drow18_col2 {\n",
       "            background-color:  #d8d8ff;\n",
       "            color:  #000000;\n",
       "        }    #T_dde5a270_ba28_11ea_be50_d050990ce69drow19_col1 {\n",
       "            background-color:  #e5e5ff;\n",
       "            color:  #000000;\n",
       "        }    #T_dde5a270_ba28_11ea_be50_d050990ce69drow19_col2 {\n",
       "            background-color:  #d9d9ff;\n",
       "            color:  #000000;\n",
       "        }    #T_dde5a270_ba28_11ea_be50_d050990ce69drow20_col1 {\n",
       "            background-color:  #0000ff;\n",
       "            color:  #f1f1f1;\n",
       "        }    #T_dde5a270_ba28_11ea_be50_d050990ce69drow20_col2 {\n",
       "            background-color:  #7676ff;\n",
       "            color:  #000000;\n",
       "        }</style><table id=\"T_dde5a270_ba28_11ea_be50_d050990ce69d\" ><thead>    <tr>        <th class=\"blank level0\" ></th>        <th class=\"col_heading level0 col0\" >Zones</th>        <th class=\"col_heading level0 col1\" >w_need_mar [m$^3$]</th>        <th class=\"col_heading level0 col2\" >w_need_verg [m$^3$]</th>    </tr></thead><tbody>\n",
       "                <tr>\n",
       "                        <th id=\"T_dde5a270_ba28_11ea_be50_d050990ce69dlevel0_row0\" class=\"row_heading level0 row0\" >0</th>\n",
       "                        <td id=\"T_dde5a270_ba28_11ea_be50_d050990ce69drow0_col0\" class=\"data row0 col0\" >Zone 7</td>\n",
       "                        <td id=\"T_dde5a270_ba28_11ea_be50_d050990ce69drow0_col1\" class=\"data row0 col1\" >6465.18</td>\n",
       "                        <td id=\"T_dde5a270_ba28_11ea_be50_d050990ce69drow0_col2\" class=\"data row0 col2\" >1.17189e+06</td>\n",
       "            </tr>\n",
       "            <tr>\n",
       "                        <th id=\"T_dde5a270_ba28_11ea_be50_d050990ce69dlevel0_row1\" class=\"row_heading level0 row1\" >1</th>\n",
       "                        <td id=\"T_dde5a270_ba28_11ea_be50_d050990ce69drow1_col0\" class=\"data row1 col0\" >Zone 8</td>\n",
       "                        <td id=\"T_dde5a270_ba28_11ea_be50_d050990ce69drow1_col1\" class=\"data row1 col1\" >88107.1</td>\n",
       "                        <td id=\"T_dde5a270_ba28_11ea_be50_d050990ce69drow1_col2\" class=\"data row1 col2\" >1.07809e+06</td>\n",
       "            </tr>\n",
       "            <tr>\n",
       "                        <th id=\"T_dde5a270_ba28_11ea_be50_d050990ce69dlevel0_row2\" class=\"row_heading level0 row2\" >2</th>\n",
       "                        <td id=\"T_dde5a270_ba28_11ea_be50_d050990ce69drow2_col0\" class=\"data row2 col0\" >Zone 7</td>\n",
       "                        <td id=\"T_dde5a270_ba28_11ea_be50_d050990ce69drow2_col1\" class=\"data row2 col1\" >1969.47</td>\n",
       "                        <td id=\"T_dde5a270_ba28_11ea_be50_d050990ce69drow2_col2\" class=\"data row2 col2\" >236088</td>\n",
       "            </tr>\n",
       "            <tr>\n",
       "                        <th id=\"T_dde5a270_ba28_11ea_be50_d050990ce69dlevel0_row3\" class=\"row_heading level0 row3\" >3</th>\n",
       "                        <td id=\"T_dde5a270_ba28_11ea_be50_d050990ce69drow3_col0\" class=\"data row3 col0\" >Zone 4</td>\n",
       "                        <td id=\"T_dde5a270_ba28_11ea_be50_d050990ce69drow3_col1\" class=\"data row3 col1\" >441208</td>\n",
       "                        <td id=\"T_dde5a270_ba28_11ea_be50_d050990ce69drow3_col2\" class=\"data row3 col2\" >2.09373e+06</td>\n",
       "            </tr>\n",
       "            <tr>\n",
       "                        <th id=\"T_dde5a270_ba28_11ea_be50_d050990ce69dlevel0_row4\" class=\"row_heading level0 row4\" >4</th>\n",
       "                        <td id=\"T_dde5a270_ba28_11ea_be50_d050990ce69drow4_col0\" class=\"data row4 col0\" >Zone 2B</td>\n",
       "                        <td id=\"T_dde5a270_ba28_11ea_be50_d050990ce69drow4_col1\" class=\"data row4 col1\" >20855.8</td>\n",
       "                        <td id=\"T_dde5a270_ba28_11ea_be50_d050990ce69drow4_col2\" class=\"data row4 col2\" >2.53243e+06</td>\n",
       "            </tr>\n",
       "            <tr>\n",
       "                        <th id=\"T_dde5a270_ba28_11ea_be50_d050990ce69dlevel0_row5\" class=\"row_heading level0 row5\" >5</th>\n",
       "                        <td id=\"T_dde5a270_ba28_11ea_be50_d050990ce69drow5_col0\" class=\"data row5 col0\" >Zone 3B</td>\n",
       "                        <td id=\"T_dde5a270_ba28_11ea_be50_d050990ce69drow5_col1\" class=\"data row5 col1\" >24867.7</td>\n",
       "                        <td id=\"T_dde5a270_ba28_11ea_be50_d050990ce69drow5_col2\" class=\"data row5 col2\" >28312.2</td>\n",
       "            </tr>\n",
       "            <tr>\n",
       "                        <th id=\"T_dde5a270_ba28_11ea_be50_d050990ce69dlevel0_row6\" class=\"row_heading level0 row6\" >6</th>\n",
       "                        <td id=\"T_dde5a270_ba28_11ea_be50_d050990ce69drow6_col0\" class=\"data row6 col0\" >Zone 3</td>\n",
       "                        <td id=\"T_dde5a270_ba28_11ea_be50_d050990ce69drow6_col1\" class=\"data row6 col1\" >112634</td>\n",
       "                        <td id=\"T_dde5a270_ba28_11ea_be50_d050990ce69drow6_col2\" class=\"data row6 col2\" >212103</td>\n",
       "            </tr>\n",
       "            <tr>\n",
       "                        <th id=\"T_dde5a270_ba28_11ea_be50_d050990ce69dlevel0_row7\" class=\"row_heading level0 row7\" >7</th>\n",
       "                        <td id=\"T_dde5a270_ba28_11ea_be50_d050990ce69drow7_col0\" class=\"data row7 col0\" >Zone 3</td>\n",
       "                        <td id=\"T_dde5a270_ba28_11ea_be50_d050990ce69drow7_col1\" class=\"data row7 col1\" >96172.3</td>\n",
       "                        <td id=\"T_dde5a270_ba28_11ea_be50_d050990ce69drow7_col2\" class=\"data row7 col2\" >328104</td>\n",
       "            </tr>\n",
       "            <tr>\n",
       "                        <th id=\"T_dde5a270_ba28_11ea_be50_d050990ce69dlevel0_row8\" class=\"row_heading level0 row8\" >8</th>\n",
       "                        <td id=\"T_dde5a270_ba28_11ea_be50_d050990ce69drow8_col0\" class=\"data row8 col0\" >Zone 3</td>\n",
       "                        <td id=\"T_dde5a270_ba28_11ea_be50_d050990ce69drow8_col1\" class=\"data row8 col1\" >96637</td>\n",
       "                        <td id=\"T_dde5a270_ba28_11ea_be50_d050990ce69drow8_col2\" class=\"data row8 col2\" >7.34803e+06</td>\n",
       "            </tr>\n",
       "            <tr>\n",
       "                        <th id=\"T_dde5a270_ba28_11ea_be50_d050990ce69dlevel0_row9\" class=\"row_heading level0 row9\" >9</th>\n",
       "                        <td id=\"T_dde5a270_ba28_11ea_be50_d050990ce69drow9_col0\" class=\"data row9 col0\" >Zone 6</td>\n",
       "                        <td id=\"T_dde5a270_ba28_11ea_be50_d050990ce69drow9_col1\" class=\"data row9 col1\" >754.82</td>\n",
       "                        <td id=\"T_dde5a270_ba28_11ea_be50_d050990ce69drow9_col2\" class=\"data row9 col2\" >506180</td>\n",
       "            </tr>\n",
       "            <tr>\n",
       "                        <th id=\"T_dde5a270_ba28_11ea_be50_d050990ce69dlevel0_row10\" class=\"row_heading level0 row10\" >10</th>\n",
       "                        <td id=\"T_dde5a270_ba28_11ea_be50_d050990ce69drow10_col0\" class=\"data row10 col0\" >Zone 6</td>\n",
       "                        <td id=\"T_dde5a270_ba28_11ea_be50_d050990ce69drow10_col1\" class=\"data row10 col1\" >2977.92</td>\n",
       "                        <td id=\"T_dde5a270_ba28_11ea_be50_d050990ce69drow10_col2\" class=\"data row10 col2\" >1428.84</td>\n",
       "            </tr>\n",
       "            <tr>\n",
       "                        <th id=\"T_dde5a270_ba28_11ea_be50_d050990ce69dlevel0_row11\" class=\"row_heading level0 row11\" >11</th>\n",
       "                        <td id=\"T_dde5a270_ba28_11ea_be50_d050990ce69drow11_col0\" class=\"data row11 col0\" >Zone 5</td>\n",
       "                        <td id=\"T_dde5a270_ba28_11ea_be50_d050990ce69drow11_col1\" class=\"data row11 col1\" >4477.22</td>\n",
       "                        <td id=\"T_dde5a270_ba28_11ea_be50_d050990ce69drow11_col2\" class=\"data row11 col2\" >260155</td>\n",
       "            </tr>\n",
       "            <tr>\n",
       "                        <th id=\"T_dde5a270_ba28_11ea_be50_d050990ce69dlevel0_row12\" class=\"row_heading level0 row12\" >12</th>\n",
       "                        <td id=\"T_dde5a270_ba28_11ea_be50_d050990ce69drow12_col0\" class=\"data row12 col0\" >Zone 6</td>\n",
       "                        <td id=\"T_dde5a270_ba28_11ea_be50_d050990ce69drow12_col1\" class=\"data row12 col1\" >361.9</td>\n",
       "                        <td id=\"T_dde5a270_ba28_11ea_be50_d050990ce69drow12_col2\" class=\"data row12 col2\" >82978.6</td>\n",
       "            </tr>\n",
       "            <tr>\n",
       "                        <th id=\"T_dde5a270_ba28_11ea_be50_d050990ce69dlevel0_row13\" class=\"row_heading level0 row13\" >13</th>\n",
       "                        <td id=\"T_dde5a270_ba28_11ea_be50_d050990ce69drow13_col0\" class=\"data row13 col0\" >Zone 9</td>\n",
       "                        <td id=\"T_dde5a270_ba28_11ea_be50_d050990ce69drow13_col1\" class=\"data row13 col1\" >1236.92</td>\n",
       "                        <td id=\"T_dde5a270_ba28_11ea_be50_d050990ce69drow13_col2\" class=\"data row13 col2\" >156907</td>\n",
       "            </tr>\n",
       "            <tr>\n",
       "                        <th id=\"T_dde5a270_ba28_11ea_be50_d050990ce69dlevel0_row14\" class=\"row_heading level0 row14\" >14</th>\n",
       "                        <td id=\"T_dde5a270_ba28_11ea_be50_d050990ce69drow14_col0\" class=\"data row14 col0\" >Zone 2A</td>\n",
       "                        <td id=\"T_dde5a270_ba28_11ea_be50_d050990ce69drow14_col1\" class=\"data row14 col1\" >12149.6</td>\n",
       "                        <td id=\"T_dde5a270_ba28_11ea_be50_d050990ce69drow14_col2\" class=\"data row14 col2\" >2.42393e+06</td>\n",
       "            </tr>\n",
       "            <tr>\n",
       "                        <th id=\"T_dde5a270_ba28_11ea_be50_d050990ce69dlevel0_row15\" class=\"row_heading level0 row15\" >15</th>\n",
       "                        <td id=\"T_dde5a270_ba28_11ea_be50_d050990ce69drow15_col0\" class=\"data row15 col0\" >Zone Rea</td>\n",
       "                        <td id=\"T_dde5a270_ba28_11ea_be50_d050990ce69drow15_col1\" class=\"data row15 col1\" >1230.46</td>\n",
       "                        <td id=\"T_dde5a270_ba28_11ea_be50_d050990ce69drow15_col2\" class=\"data row15 col2\" >946845</td>\n",
       "            </tr>\n",
       "            <tr>\n",
       "                        <th id=\"T_dde5a270_ba28_11ea_be50_d050990ce69dlevel0_row16\" class=\"row_heading level0 row16\" >16</th>\n",
       "                        <td id=\"T_dde5a270_ba28_11ea_be50_d050990ce69drow16_col0\" class=\"data row16 col0\" >Villeneuve</td>\n",
       "                        <td id=\"T_dde5a270_ba28_11ea_be50_d050990ce69drow16_col1\" class=\"data row16 col1\" >3619</td>\n",
       "                        <td id=\"T_dde5a270_ba28_11ea_be50_d050990ce69drow16_col2\" class=\"data row16 col2\" >212950</td>\n",
       "            </tr>\n",
       "            <tr>\n",
       "                        <th id=\"T_dde5a270_ba28_11ea_be50_d050990ce69dlevel0_row17\" class=\"row_heading level0 row17\" >17</th>\n",
       "                        <td id=\"T_dde5a270_ba28_11ea_be50_d050990ce69drow17_col0\" class=\"data row17 col0\" >Tech3</td>\n",
       "                        <td id=\"T_dde5a270_ba28_11ea_be50_d050990ce69drow17_col1\" class=\"data row17 col1\" >0</td>\n",
       "                        <td id=\"T_dde5a270_ba28_11ea_be50_d050990ce69drow17_col2\" class=\"data row17 col2\" >443946</td>\n",
       "            </tr>\n",
       "            <tr>\n",
       "                        <th id=\"T_dde5a270_ba28_11ea_be50_d050990ce69dlevel0_row18\" class=\"row_heading level0 row18\" >18</th>\n",
       "                        <td id=\"T_dde5a270_ba28_11ea_be50_d050990ce69drow18_col0\" class=\"data row18 col0\" >Rear3</td>\n",
       "                        <td id=\"T_dde5a270_ba28_11ea_be50_d050990ce69drow18_col1\" class=\"data row18 col1\" >2068</td>\n",
       "                        <td id=\"T_dde5a270_ba28_11ea_be50_d050990ce69drow18_col2\" class=\"data row18 col2\" >444422</td>\n",
       "            </tr>\n",
       "            <tr>\n",
       "                        <th id=\"T_dde5a270_ba28_11ea_be50_d050990ce69dlevel0_row19\" class=\"row_heading level0 row19\" >19</th>\n",
       "                        <td id=\"T_dde5a270_ba28_11ea_be50_d050990ce69drow19_col0\" class=\"data row19 col0\" >Rea2</td>\n",
       "                        <td id=\"T_dde5a270_ba28_11ea_be50_d050990ce69drow19_col1\" class=\"data row19 col1\" >4828.78</td>\n",
       "                        <td id=\"T_dde5a270_ba28_11ea_be50_d050990ce69drow19_col2\" class=\"data row19 col2\" >416110</td>\n",
       "            </tr>\n",
       "            <tr>\n",
       "                        <th id=\"T_dde5a270_ba28_11ea_be50_d050990ce69dlevel0_row20\" class=\"row_heading level0 row20\" >20</th>\n",
       "                        <td id=\"T_dde5a270_ba28_11ea_be50_d050990ce69drow20_col0\" class=\"data row20 col0\" >Zone_Canet</td>\n",
       "                        <td id=\"T_dde5a270_ba28_11ea_be50_d050990ce69drow20_col1\" class=\"data row20 col1\" >637047</td>\n",
       "                        <td id=\"T_dde5a270_ba28_11ea_be50_d050990ce69drow20_col2\" class=\"data row20 col2\" >3.57882e+06</td>\n",
       "            </tr>\n",
       "    </tbody></table>"
      ],
      "text/plain": [
       "<pandas.io.formats.style.Styler at 0x23f49968d48>"
      ]
     },
     "execution_count": 10,
     "metadata": {},
     "output_type": "execute_result"
    }
   ],
   "source": [
    "cm = sns.light_palette(\"blue\", as_cmap=True)\n",
    "W_need.reset_index().style.background_gradient(cmap=cm)"
   ]
  },
  {
   "cell_type": "code",
   "execution_count": 11,
   "metadata": {
    "scrolled": false
   },
   "outputs": [
    {
     "name": "stdout",
     "output_type": "stream",
     "text": [
      "Total Water need: 26063115.27 m3\n",
      "Calculs de Brli : 30 millions de m3\n"
     ]
    }
   ],
   "source": [
    "print(\"Total Water need: {} m3\".format(W_need.sum().iloc[0:2].sum()))\n",
    "print(\"Calculs de Brli : 30 millions de m3\")"
   ]
  },
  {
   "cell_type": "markdown",
   "metadata": {},
   "source": [
    "Il manque l'intégration de quelques cultures en dehors des shp, ainsi que des prairies"
   ]
  },
  {
   "cell_type": "code",
   "execution_count": 12,
   "metadata": {},
   "outputs": [],
   "source": [
    "# sum water need\n",
    "df = W_need.sum(axis=1).reset_index()\n",
    "df.columns = [\"Zones\",\"Water_need/year\"]"
   ]
  },
  {
   "cell_type": "code",
   "execution_count": 13,
   "metadata": {
    "scrolled": false
   },
   "outputs": [],
   "source": [
    "# merge data and get water need in mm/y\n",
    "data_irrig = pd.merge(zIrr.reset_index(),df.reset_index()).drop(\"index\",axis=1).loc[:,[\"Zones\",\"Irr_forage\",\"geometry\",\"Surf_Z_Ha\",\"Water_need/year\",\"Irr_can\"]]\n",
    "data_irrig[\"Wneed [mm/year]\"] = data_irrig.loc[:,\"Water_need/year\"]/data_irrig.loc[:,\"Surf_Z_Ha\"]*1e-1\n",
    "#data_irrig = data_irrig.drop([\"Water_need/year\",\"Surf_Z_Ha\"],axis=1)"
   ]
  },
  {
   "cell_type": "code",
   "execution_count": 14,
   "metadata": {},
   "outputs": [
    {
     "data": {
      "text/html": [
       "<div>\n",
       "<style scoped>\n",
       "    .dataframe tbody tr th:only-of-type {\n",
       "        vertical-align: middle;\n",
       "    }\n",
       "\n",
       "    .dataframe tbody tr th {\n",
       "        vertical-align: top;\n",
       "    }\n",
       "\n",
       "    .dataframe thead th {\n",
       "        text-align: right;\n",
       "    }\n",
       "</style>\n",
       "<table border=\"1\" class=\"dataframe\">\n",
       "  <thead>\n",
       "    <tr style=\"text-align: right;\">\n",
       "      <th></th>\n",
       "      <th>Zones</th>\n",
       "      <th>Irr_forage</th>\n",
       "      <th>geometry</th>\n",
       "      <th>Surf_Z_Ha</th>\n",
       "      <th>Water_need/year</th>\n",
       "      <th>Irr_can</th>\n",
       "      <th>Wneed [mm/year]</th>\n",
       "    </tr>\n",
       "  </thead>\n",
       "  <tbody>\n",
       "    <tr>\n",
       "      <td>0</td>\n",
       "      <td>Zone 7</td>\n",
       "      <td>0.00</td>\n",
       "      <td>POLYGON ((689548.932 6159779.286, 689330.629 6...</td>\n",
       "      <td>1235.030000</td>\n",
       "      <td>1178356.43</td>\n",
       "      <td>1.00</td>\n",
       "      <td>95.411158</td>\n",
       "    </tr>\n",
       "    <tr>\n",
       "      <td>1</td>\n",
       "      <td>Zone 8</td>\n",
       "      <td>0.80</td>\n",
       "      <td>POLYGON ((702638.710 6164713.007, 702702.478 6...</td>\n",
       "      <td>1694.310000</td>\n",
       "      <td>1166193.38</td>\n",
       "      <td>0.20</td>\n",
       "      <td>68.829989</td>\n",
       "    </tr>\n",
       "    <tr>\n",
       "      <td>2</td>\n",
       "      <td>Zone 7</td>\n",
       "      <td>0.00</td>\n",
       "      <td>MULTIPOLYGON (((683722.928 6156383.584, 683813...</td>\n",
       "      <td>1227.440000</td>\n",
       "      <td>238057.87</td>\n",
       "      <td>1.00</td>\n",
       "      <td>19.394665</td>\n",
       "    </tr>\n",
       "    <tr>\n",
       "      <td>3</td>\n",
       "      <td>Zone 4</td>\n",
       "      <td>0.70</td>\n",
       "      <td>POLYGON ((700069.343 6173529.460, 701428.421 6...</td>\n",
       "      <td>7033.390000</td>\n",
       "      <td>2534934.68</td>\n",
       "      <td>0.00</td>\n",
       "      <td>36.041435</td>\n",
       "    </tr>\n",
       "    <tr>\n",
       "      <td>4</td>\n",
       "      <td>Zone 2B</td>\n",
       "      <td>0.30</td>\n",
       "      <td>POLYGON ((678247.347 6173329.417, 678248.682 6...</td>\n",
       "      <td>799.450000</td>\n",
       "      <td>2553289.46</td>\n",
       "      <td>0.70</td>\n",
       "      <td>319.380757</td>\n",
       "    </tr>\n",
       "    <tr>\n",
       "      <td>5</td>\n",
       "      <td>Zone 3B</td>\n",
       "      <td>0.75</td>\n",
       "      <td>POLYGON ((691908.474 6179742.319, 691911.937 6...</td>\n",
       "      <td>410.770000</td>\n",
       "      <td>53179.90</td>\n",
       "      <td>0.25</td>\n",
       "      <td>12.946393</td>\n",
       "    </tr>\n",
       "    <tr>\n",
       "      <td>6</td>\n",
       "      <td>Zone 3</td>\n",
       "      <td>0.75</td>\n",
       "      <td>POLYGON ((692589.108 6178710.935, 693491.651 6...</td>\n",
       "      <td>402.030000</td>\n",
       "      <td>324736.98</td>\n",
       "      <td>0.25</td>\n",
       "      <td>80.774315</td>\n",
       "    </tr>\n",
       "    <tr>\n",
       "      <td>7</td>\n",
       "      <td>Zone 3</td>\n",
       "      <td>0.75</td>\n",
       "      <td>POLYGON ((681182.001 6177675.798, 681201.069 6...</td>\n",
       "      <td>1766.310000</td>\n",
       "      <td>424276.34</td>\n",
       "      <td>0.25</td>\n",
       "      <td>24.020491</td>\n",
       "    </tr>\n",
       "    <tr>\n",
       "      <td>8</td>\n",
       "      <td>Zone 3</td>\n",
       "      <td>0.75</td>\n",
       "      <td>POLYGON ((673869.847 6177678.511, 673893.666 6...</td>\n",
       "      <td>5964.980000</td>\n",
       "      <td>7444669.19</td>\n",
       "      <td>0.25</td>\n",
       "      <td>124.806272</td>\n",
       "    </tr>\n",
       "    <tr>\n",
       "      <td>9</td>\n",
       "      <td>Zone 6</td>\n",
       "      <td>0.80</td>\n",
       "      <td>POLYGON ((694653.450 6185424.447, 694630.271 6...</td>\n",
       "      <td>233.280000</td>\n",
       "      <td>506934.62</td>\n",
       "      <td>0.20</td>\n",
       "      <td>217.307365</td>\n",
       "    </tr>\n",
       "    <tr>\n",
       "      <td>10</td>\n",
       "      <td>Zone 6</td>\n",
       "      <td>0.80</td>\n",
       "      <td>POLYGON ((696117.660 6183683.036, 696166.229 6...</td>\n",
       "      <td>69.570000</td>\n",
       "      <td>4406.76</td>\n",
       "      <td>0.20</td>\n",
       "      <td>6.334282</td>\n",
       "    </tr>\n",
       "    <tr>\n",
       "      <td>11</td>\n",
       "      <td>Zone 5</td>\n",
       "      <td>0.00</td>\n",
       "      <td>POLYGON ((687062.065 6185375.996, 687145.561 6...</td>\n",
       "      <td>273.920000</td>\n",
       "      <td>264631.94</td>\n",
       "      <td>1.00</td>\n",
       "      <td>96.609207</td>\n",
       "    </tr>\n",
       "    <tr>\n",
       "      <td>12</td>\n",
       "      <td>Zone 6</td>\n",
       "      <td>0.80</td>\n",
       "      <td>POLYGON ((687419.911 6185886.348, 687373.275 6...</td>\n",
       "      <td>238.300000</td>\n",
       "      <td>83340.46</td>\n",
       "      <td>0.20</td>\n",
       "      <td>34.972916</td>\n",
       "    </tr>\n",
       "    <tr>\n",
       "      <td>13</td>\n",
       "      <td>Zone 9</td>\n",
       "      <td>0.30</td>\n",
       "      <td>POLYGON ((665087.911 6173464.872, 665059.118 6...</td>\n",
       "      <td>267.490000</td>\n",
       "      <td>158143.86</td>\n",
       "      <td>0.70</td>\n",
       "      <td>59.121410</td>\n",
       "    </tr>\n",
       "    <tr>\n",
       "      <td>14</td>\n",
       "      <td>Zone 2A</td>\n",
       "      <td>0.05</td>\n",
       "      <td>POLYGON ((675039.198 6174802.025, 675030.185 6...</td>\n",
       "      <td>1070.870000</td>\n",
       "      <td>2436076.20</td>\n",
       "      <td>0.95</td>\n",
       "      <td>227.485708</td>\n",
       "    </tr>\n",
       "    <tr>\n",
       "      <td>15</td>\n",
       "      <td>Zone Rea</td>\n",
       "      <td>1.00</td>\n",
       "      <td>POLYGON ((682924.314 6165679.201, 684481.057 6...</td>\n",
       "      <td>767.140000</td>\n",
       "      <td>948075.10</td>\n",
       "      <td>0.00</td>\n",
       "      <td>123.585669</td>\n",
       "    </tr>\n",
       "    <tr>\n",
       "      <td>16</td>\n",
       "      <td>Villeneuve</td>\n",
       "      <td>1.00</td>\n",
       "      <td>POLYGON ((689622.225 6166337.178, 689407.582 6...</td>\n",
       "      <td>496.120000</td>\n",
       "      <td>216569.08</td>\n",
       "      <td>0.00</td>\n",
       "      <td>43.652560</td>\n",
       "    </tr>\n",
       "    <tr>\n",
       "      <td>17</td>\n",
       "      <td>Tech3</td>\n",
       "      <td>1.00</td>\n",
       "      <td>POLYGON ((697963.012 6162165.097, 698171.928 6...</td>\n",
       "      <td>225.060000</td>\n",
       "      <td>443945.88</td>\n",
       "      <td>0.00</td>\n",
       "      <td>197.256678</td>\n",
       "    </tr>\n",
       "    <tr>\n",
       "      <td>18</td>\n",
       "      <td>Rear3</td>\n",
       "      <td>1.00</td>\n",
       "      <td>POLYGON ((697149.730 6173312.273, 697163.099 6...</td>\n",
       "      <td>581.410000</td>\n",
       "      <td>446490.16</td>\n",
       "      <td>0.00</td>\n",
       "      <td>76.794372</td>\n",
       "    </tr>\n",
       "    <tr>\n",
       "      <td>19</td>\n",
       "      <td>Rea2</td>\n",
       "      <td>1.00</td>\n",
       "      <td>POLYGON ((682524.036 6171173.368, 682782.694 6...</td>\n",
       "      <td>511.300000</td>\n",
       "      <td>420938.74</td>\n",
       "      <td>0.00</td>\n",
       "      <td>82.327154</td>\n",
       "    </tr>\n",
       "    <tr>\n",
       "      <td>20</td>\n",
       "      <td>Zone_Canet</td>\n",
       "      <td>1.00</td>\n",
       "      <td>MULTIPOLYGON (((696237.446 6195219.837, 696238...</td>\n",
       "      <td>9038.624153</td>\n",
       "      <td>4215868.24</td>\n",
       "      <td>0.00</td>\n",
       "      <td>46.642809</td>\n",
       "    </tr>\n",
       "  </tbody>\n",
       "</table>\n",
       "</div>"
      ],
      "text/plain": [
       "         Zones  Irr_forage                                           geometry  \\\n",
       "0       Zone 7        0.00  POLYGON ((689548.932 6159779.286, 689330.629 6...   \n",
       "1       Zone 8        0.80  POLYGON ((702638.710 6164713.007, 702702.478 6...   \n",
       "2       Zone 7        0.00  MULTIPOLYGON (((683722.928 6156383.584, 683813...   \n",
       "3       Zone 4        0.70  POLYGON ((700069.343 6173529.460, 701428.421 6...   \n",
       "4      Zone 2B        0.30  POLYGON ((678247.347 6173329.417, 678248.682 6...   \n",
       "5      Zone 3B        0.75  POLYGON ((691908.474 6179742.319, 691911.937 6...   \n",
       "6       Zone 3        0.75  POLYGON ((692589.108 6178710.935, 693491.651 6...   \n",
       "7       Zone 3        0.75  POLYGON ((681182.001 6177675.798, 681201.069 6...   \n",
       "8       Zone 3        0.75  POLYGON ((673869.847 6177678.511, 673893.666 6...   \n",
       "9       Zone 6        0.80  POLYGON ((694653.450 6185424.447, 694630.271 6...   \n",
       "10      Zone 6        0.80  POLYGON ((696117.660 6183683.036, 696166.229 6...   \n",
       "11      Zone 5        0.00  POLYGON ((687062.065 6185375.996, 687145.561 6...   \n",
       "12      Zone 6        0.80  POLYGON ((687419.911 6185886.348, 687373.275 6...   \n",
       "13      Zone 9        0.30  POLYGON ((665087.911 6173464.872, 665059.118 6...   \n",
       "14     Zone 2A        0.05  POLYGON ((675039.198 6174802.025, 675030.185 6...   \n",
       "15    Zone Rea        1.00  POLYGON ((682924.314 6165679.201, 684481.057 6...   \n",
       "16  Villeneuve        1.00  POLYGON ((689622.225 6166337.178, 689407.582 6...   \n",
       "17       Tech3        1.00  POLYGON ((697963.012 6162165.097, 698171.928 6...   \n",
       "18       Rear3        1.00  POLYGON ((697149.730 6173312.273, 697163.099 6...   \n",
       "19        Rea2        1.00  POLYGON ((682524.036 6171173.368, 682782.694 6...   \n",
       "20  Zone_Canet        1.00  MULTIPOLYGON (((696237.446 6195219.837, 696238...   \n",
       "\n",
       "      Surf_Z_Ha  Water_need/year  Irr_can  Wneed [mm/year]  \n",
       "0   1235.030000       1178356.43     1.00        95.411158  \n",
       "1   1694.310000       1166193.38     0.20        68.829989  \n",
       "2   1227.440000        238057.87     1.00        19.394665  \n",
       "3   7033.390000       2534934.68     0.00        36.041435  \n",
       "4    799.450000       2553289.46     0.70       319.380757  \n",
       "5    410.770000         53179.90     0.25        12.946393  \n",
       "6    402.030000        324736.98     0.25        80.774315  \n",
       "7   1766.310000        424276.34     0.25        24.020491  \n",
       "8   5964.980000       7444669.19     0.25       124.806272  \n",
       "9    233.280000        506934.62     0.20       217.307365  \n",
       "10    69.570000          4406.76     0.20         6.334282  \n",
       "11   273.920000        264631.94     1.00        96.609207  \n",
       "12   238.300000         83340.46     0.20        34.972916  \n",
       "13   267.490000        158143.86     0.70        59.121410  \n",
       "14  1070.870000       2436076.20     0.95       227.485708  \n",
       "15   767.140000        948075.10     0.00       123.585669  \n",
       "16   496.120000        216569.08     0.00        43.652560  \n",
       "17   225.060000        443945.88     0.00       197.256678  \n",
       "18   581.410000        446490.16     0.00        76.794372  \n",
       "19   511.300000        420938.74     0.00        82.327154  \n",
       "20  9038.624153       4215868.24     0.00        46.642809  "
      ]
     },
     "execution_count": 14,
     "metadata": {},
     "output_type": "execute_result"
    }
   ],
   "source": [
    "data_irrig"
   ]
  },
  {
   "cell_type": "markdown",
   "metadata": {},
   "source": [
    "#### Calcul des prélèvements agricoles sur la base des besoins en eaux X le mode d'adduction de chaque zone"
   ]
  },
  {
   "cell_type": "code",
   "execution_count": 15,
   "metadata": {},
   "outputs": [],
   "source": [
    "arr = np.zeros([nrow,ncol])\n",
    "for iz in range(data_irrig.shape[0]):\n",
    "    res = ix.intersect_polygon(data_irrig.geometry[iz])\n",
    "    for cellid in res.cellids:\n",
    "        arr[cellid[0],cellid[1]] = -data_irrig.loc[iz,\"Wneed [mm/year]\"]*data_irrig.loc[iz,\"Irr_forage\"]"
   ]
  },
  {
   "cell_type": "code",
   "execution_count": 16,
   "metadata": {
    "scrolled": true
   },
   "outputs": [
    {
     "data": {
      "text/plain": [
       "<matplotlib.colorbar.Colorbar at 0x23f4d8bafc8>"
      ]
     },
     "execution_count": 16,
     "metadata": {},
     "output_type": "execute_result"
    },
    {
     "data": {
      "image/png": "[encoded data removed]",
      "text/plain": [
       "<Figure size 432x288 with 2 Axes>"
      ]
     },
     "metadata": {
      "needs_background": "light"
     },
     "output_type": "display_data"
    }
   ],
   "source": [
    "arr = np.round(arr,decimals=1)\n",
    "plt.imshow(arr)\n",
    "plt.colorbar()"
   ]
  },
  {
   "cell_type": "code",
   "execution_count": 17,
   "metadata": {},
   "outputs": [],
   "source": [
    "def arr2ascii(arr,filename,x0,y0,res,nodata=-9999):\n",
    "    ncol = arr.shape[1]\n",
    "    nrow = arr.shape[0]\n",
    "    with open(filename,\"w\") as file:\n",
    "        file.write(\"ncols {}\\n\".format(ncol))\n",
    "        file.write(\"nrows {}\\n\".format(nrow))\n",
    "        file.write(\"xllcorner {}\\n\".format(x0))\n",
    "        file.write(\"yllcorner {}\\n\".format(y0))\n",
    "        file.write(\"cellsize {}\\n\".format(res))\n",
    "        file.write(\"nodata_value {}\\n\".format(nodata))\n",
    "        for irow in range(nrow):\n",
    "            for icol in range(ncol):\n",
    "                file.write(str(arr[irow,icol])+\" \")"
   ]
  },
  {
   "cell_type": "code",
   "execution_count": 18,
   "metadata": {},
   "outputs": [],
   "source": [
    "arr2ascii(arr,\"../../data/prélèvements/prlvm_agri.asc\",x0,y0,50)"
   ]
  },
  {
   "cell_type": "code",
   "execution_count": 19,
   "metadata": {},
   "outputs": [
    {
     "data": {
      "text/plain": [
       "-17496021.5"
      ]
     },
     "execution_count": 19,
     "metadata": {},
     "output_type": "execute_result"
    }
   ],
   "source": [
    "(arr/1000*50*50).sum()"
   ]
  },
  {
   "cell_type": "markdown",
   "metadata": {},
   "source": [
    "#### Calcul des retours nappes des canaux"
   ]
  },
  {
   "cell_type": "code",
   "execution_count": 20,
   "metadata": {},
   "outputs": [],
   "source": [
    "coeff = 2 # !!! Coefficient de 2 déjà appliqué donc coeff à définir entre 1 et 2 dans le modèle.\n",
    "\n",
    "rch_a = np.zeros([nrow,ncol])\n",
    "for iz in range(data_irrig.shape[0]):\n",
    "    res = ix.intersect_polygon(data_irrig.geometry[iz])\n",
    "    for cellid in res.cellids:\n",
    "        rch_a[cellid[0],cellid[1]] = data_irrig.loc[iz,\"Wneed [mm/year]\"]*data_irrig.loc[iz,\"Irr_can\"]*coeff"
   ]
  },
  {
   "cell_type": "code",
   "execution_count": 21,
   "metadata": {},
   "outputs": [
    {
     "data": {
      "text/plain": [
       "<matplotlib.colorbar.Colorbar at 0x23f4a7468c8>"
      ]
     },
     "execution_count": 21,
     "metadata": {},
     "output_type": "execute_result"
    },
    {
     "data": {
      "image/png": "[encoded data removed]",
      "text/plain": [
       "<Figure size 432x288 with 2 Axes>"
      ]
     },
     "metadata": {
      "needs_background": "light"
     },
     "output_type": "display_data"
    }
   ],
   "source": [
    "rch_a = np.round(rch_a,decimals=1)\n",
    "plt.imshow(rch_a)\n",
    "plt.colorbar()"
   ]
  },
  {
   "cell_type": "code",
   "execution_count": 24,
   "metadata": {},
   "outputs": [],
   "source": [
    "arr2ascii(rch_a,\"../../data/recharge/rast_irr.asc\",x0,y0,50)"
   ]
  },
  {
   "cell_type": "code",
   "execution_count": 23,
   "metadata": {},
   "outputs": [
    {
     "data": {
      "text/plain": [
       "17003931.25"
      ]
     },
     "execution_count": 23,
     "metadata": {},
     "output_type": "execute_result"
    }
   ],
   "source": [
    "(rch_a/1000*50*50).sum()"
   ]
  }
 ],
 "metadata": {
  "kernelspec": {
   "display_name": "Python 3",
   "language": "python",
   "name": "python3"
  },
  "language_info": {
   "codemirror_mode": {
    "name": "ipython",
    "version": 3
   },
   "file_extension": ".py",
   "mimetype": "text/x-python",
   "name": "python",
   "nbconvert_exporter": "python",
   "pygments_lexer": "ipython3",
   "version": "3.7.4"
  }
 },
 "nbformat": 4,
 "nbformat_minor": 2
}
