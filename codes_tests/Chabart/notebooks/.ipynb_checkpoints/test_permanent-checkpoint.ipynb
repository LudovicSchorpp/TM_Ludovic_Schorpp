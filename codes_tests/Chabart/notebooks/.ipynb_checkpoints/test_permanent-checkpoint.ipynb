{
 "cells": [
  {
   "cell_type": "code",
   "execution_count": 369,
   "metadata": {},
   "outputs": [],
   "source": [
    "import flopy as fp\n",
    "import numpy as np\n",
    "import geopandas as gp\n",
    "import pandas as pd\n",
    "import os\n",
    "from osgeo import ogr\n",
    "import gdal\n",
    "import matplotlib.pyplot as plt\n",
    "from flopy.utils.gridgen import Gridgen \n",
    "from flopy.utils.gridintersect import GridIntersect\n",
    "from flopy.utils import Raster\n",
    "import shapely\n",
    "from shapely.geometry import Polygon, Point, LineString, MultiLineString, MultiPoint, MultiPolygon,shape\n",
    "from shapely.strtree import STRtree  \n",
    "\n",
    "# hand made functions\n",
    "from Rouss1 import gp2idomain, gp2cellids, get_heads, get_spdis, get_MNTbbox, import_riv\n",
    "from Rouss1 import inter_lst,get_cellcenters, lin_interp,ibd_bcdata"
   ]
  },
  {
   "cell_type": "code",
   "execution_count": 370,
   "metadata": {},
   "outputs": [],
   "source": [
    "model_dir = \"working\"\n",
    "model_name = \"test_perma\"\n",
    "exe_name= \"../../exe/mf6\""
   ]
  },
  {
   "cell_type": "code",
   "execution_count": 371,
   "metadata": {},
   "outputs": [],
   "source": [
    "#path to data already pre-processed\n",
    "top_name = \"top.npy\"\n",
    "bot_name = \"bot.npy\"\n",
    "idom_name = \"idomain.npy\""
   ]
  },
  {
   "cell_type": "code",
   "execution_count": 372,
   "metadata": {},
   "outputs": [],
   "source": [
    "top = np.load(os.path.join(model_dir,top_name))\n",
    "bot = np.load(os.path.join(model_dir,bot_name))\n",
    "idomain = np.load(os.path.join(model_dir,idom_name))"
   ]
  },
  {
   "cell_type": "code",
   "execution_count": 373,
   "metadata": {},
   "outputs": [],
   "source": [
    "# spatial parameters\n",
    "x0 = 620e3\n",
    "y0 = 3024e3\n",
    "nlay = 5\n",
    "nrow = 38\n",
    "ncol = 42\n",
    "delr = np.ones(ncol)*1000\n",
    "delc = np.ones(nrow)*1000"
   ]
  },
  {
   "cell_type": "code",
   "execution_count": 374,
   "metadata": {},
   "outputs": [],
   "source": [
    "# recharge\n",
    "rch_zones = \"../data/rch_zone.csv\"\n",
    "rch_data = pd.read_csv(rch_zones,sep=\";\",header=None,na_values=None)\n",
    "rch_val = [90,120,120,60,60,50,25,45]\n",
    "for i in range(len(rch_val)):\n",
    "    rch_data[rch_data==i+1]=rch_val[i]\n",
    "rch_data[rch_data==7777]=0"
   ]
  },
  {
   "cell_type": "code",
   "execution_count": 375,
   "metadata": {},
   "outputs": [],
   "source": [
    "# constant head\n",
    "lst_chd=[]\n",
    "for j in range(3):\n",
    "    for i in range(36):\n",
    "        lst_chd.append(((0,i,j+39),0))"
   ]
  },
  {
   "cell_type": "code",
   "execution_count": 388,
   "metadata": {},
   "outputs": [],
   "source": [
    "sim = fp.mf6.MFSimulation(sim_name='theis_mf6', version='mf6', exe_name=exe_name, \n",
    "                             sim_ws=model_dir)\n",
    "gwf = fp.mf6.ModflowGwf(sim, modelname=model_name,\n",
    "                           model_nam_file='{}.nam'.format(model_name))\n",
    "dis = fp.mf6.ModflowGwfdis(gwf, nlay=nlay, nrow=nrow, ncol=ncol,\n",
    "                              delr=delr, delc=delc,\n",
    "                              top=top, botm=bot,xorigin=x0,yorigin=y0,idomain=idomain)\n",
    "\n",
    "tdis = fp.mf6.ModflowTdis(sim, time_units='SECONDS',perioddata=[[1.0, 1, 1.]])\n",
    "ims  = fp.mf6.ModflowIms(sim, print_option='SUMMARY', complexity='simple')\n",
    "\n",
    "# initial conditions\n",
    "ic   = fp.mf6.ModflowGwfic(gwf)\n",
    "\n",
    "# nodeflowproperty\n",
    "kh = [1e-3,0.25e-8,1e-3,0.25e-8,0.5e-4]\n",
    "npf  = fp.mf6.ModflowGwfnpf(gwf, icelltype=0, k=kh, save_flows=True,save_specific_discharge=True)\n",
    "\n",
    "# recharge, to do... !\n",
    "mm = rch_data.values\n",
    "rch  = fp.mf6.ModflowGwfrcha(gwf, recharge = mm/1000/365/86400)\n",
    "\n",
    "# output control\n",
    "oc   = fp.mf6.ModflowGwfoc(gwf,budget_filerecord='{}.cbc'.format(model_name),\n",
    "                            head_filerecord='{}.hds'.format(model_name),\n",
    "                            saverecord=[('HEAD', 'LAST'),\n",
    "                                        ('BUDGET', 'ALL')],\n",
    "                            printrecord=[('HEAD', 'LAST'),\n",
    "                                         ('BUDGET', 'ALL')])\n",
    "\n",
    "# constant heads\n",
    "chd = fp.mf6.modflow.mfgwfchd.ModflowGwfchd(gwf,pname=\"sea\",filename=\"sea.chd\",maxbound=len(lst_chd),\n",
    "                                            stress_period_data={0:lst_chd})"
   ]
  },
  {
   "cell_type": "code",
   "execution_count": 389,
   "metadata": {},
   "outputs": [
    {
     "name": "stdout",
     "output_type": "stream",
     "text": [
      "writing simulation...\n",
      "  writing simulation name file...\n",
      "  writing simulation tdis package...\n",
      "  writing ims package ims_-1...\n",
      "  writing model test_perma...\n",
      "    writing model name file...\n",
      "    writing package dis...\n",
      "    writing package ic...\n",
      "    writing package npf...\n",
      "    writing package rcha...\n",
      "    writing package oc...\n",
      "    writing package sea...\n"
     ]
    }
   ],
   "source": [
    "sim.write_simulation()"
   ]
  },
  {
   "cell_type": "code",
   "execution_count": 390,
   "metadata": {},
   "outputs": [
    {
     "name": "stdout",
     "output_type": "stream",
     "text": [
      "FloPy is using the following  executable to run the model: ../../exe/mf6.exe\n",
      "                                   MODFLOW 6\n",
      "                U.S. GEOLOGICAL SURVEY MODULAR HYDROLOGIC MODEL\n",
      "                            VERSION 6.0.4 03/13/2019\n",
      "\n",
      "   MODFLOW 6 compiled Mar 21 2019 15:37:31 with IFORT compiler (ver. 19.0.0)\n",
      "\n",
      "This software has been approved for release by the U.S. Geological \n",
      "Survey (USGS). Although the software has been subjected to rigorous \n",
      "review, the USGS reserves the right to update the software as needed \n",
      "pursuant to further analysis and review. No warranty, expressed or \n",
      "implied, is made by the USGS or the U.S. Government as to the \n",
      "functionality of the software and related material nor shall the \n",
      "fact of release constitute any such warranty. Furthermore, the \n",
      "software is released on condition that neither the USGS nor the U.S. \n",
      "Government shall be held liable for any damages resulting from its \n",
      "authorized or unauthorized use. Also refer to the USGS Water \n",
      "Resources Software User Rights Notice for complete use, copyright, \n",
      "and distribution information.\n",
      "\n",
      " Run start date and time (yyyy/mm/dd hh:mm:ss): 2020/02/27 15:47:23\n",
      "\n",
      " Writing simulation list file: mfsim.lst\n",
      " Using Simulation name file: mfsim.nam\n",
      " Solving:  Stress period:     1    Time step:     1\n",
      " Run end date and time (yyyy/mm/dd hh:mm:ss): 2020/02/27 15:47:23\n",
      " Elapsed run time:  0.271 Seconds\n",
      "\n",
      " Normal termination of simulation.\n"
     ]
    },
    {
     "data": {
      "text/plain": [
       "(True, [])"
      ]
     },
     "execution_count": 390,
     "metadata": {},
     "output_type": "execute_result"
    }
   ],
   "source": [
    "sim.run_simulation()"
   ]
  },
  {
   "cell_type": "code",
   "execution_count": 391,
   "metadata": {},
   "outputs": [],
   "source": [
    "head = get_heads(model_name,model_dir)"
   ]
  },
  {
   "cell_type": "code",
   "execution_count": 395,
   "metadata": {},
   "outputs": [
    {
     "data": {
      "text/plain": [
       "<matplotlib.collections.QuadMesh at 0x1bdae3f3908>"
      ]
     },
     "execution_count": 395,
     "metadata": {},
     "output_type": "execute_result"
    },
    {
     "data": {
      "image/png": "[encoded data removed]",
      "text/plain": [
       "<Figure size 720x720 with 2 Axes>"
      ]
     },
     "metadata": {
      "needs_background": "light"
     },
     "output_type": "display_data"
    }
   ],
   "source": [
    "fig = plt.figure(figsize=(10,10))\n",
    "ax  = plt.subplot(1, 1, 1, aspect='equal')\n",
    "ml = fp.plot.PlotMapView(model=gwf)\n",
    "\n",
    "#hmesh=ml.plot_ibound()\n",
    "hmesh=ml.plot_array(head[0],masked_values=[1e30],cmap=\"viridis\")\n",
    "plt.colorbar(hmesh)\n",
    "ml.plot_bc(\"sea\")"
   ]
  },
  {
   "cell_type": "code",
   "execution_count": null,
   "metadata": {},
   "outputs": [],
   "source": []
  }
 ],
 "metadata": {
  "kernelspec": {
   "display_name": "Python 3",
   "language": "python",
   "name": "python3"
  }
 },
 "nbformat": 4,
 "nbformat_minor": 2
}
