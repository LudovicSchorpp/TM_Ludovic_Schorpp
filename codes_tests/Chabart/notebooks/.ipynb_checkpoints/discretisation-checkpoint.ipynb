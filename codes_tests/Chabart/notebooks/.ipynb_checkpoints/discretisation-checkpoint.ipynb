{
 "cells": [
  {
   "cell_type": "code",
   "execution_count": 1,
   "metadata": {},
   "outputs": [
    {
     "name": "stdout",
     "output_type": "stream",
     "text": [
      "flopy is installed in C:\\Users\\emmal\\Anaconda3\\lib\\site-packages\\flopy\n"
     ]
    }
   ],
   "source": [
    "import flopy as fp\n",
    "import numpy as np\n",
    "import geopandas as gp\n",
    "import pandas as pd\n",
    "import os\n",
    "from osgeo import ogr\n",
    "import gdal\n",
    "import matplotlib.pyplot as plt\n",
    "from flopy.utils.gridgen import Gridgen \n",
    "from flopy.utils.gridintersect import GridIntersect\n",
    "from flopy.utils import Raster\n",
    "import shapely\n",
    "from shapely.geometry import Polygon, Point, LineString, MultiLineString, MultiPoint, MultiPolygon,shape\n",
    "from shapely.strtree import STRtree  \n",
    "\n",
    "# hand made functions\n",
    "from Rouss1 import gp2idomain, gp2cellids, get_heads, get_spdis, get_MNTbbox, import_riv\n",
    "from Rouss1 import inter_lst,get_cellcenters, lin_interp,ibd_bcdata"
   ]
  },
  {
   "cell_type": "code",
   "execution_count": 2,
   "metadata": {},
   "outputs": [],
   "source": [
    "model_dir = \"working\"\n",
    "model_name = \"DIS_Chabart\"\n",
    "exe_name= \"../../exe/mf6\""
   ]
  },
  {
   "cell_type": "code",
   "execution_count": 3,
   "metadata": {},
   "outputs": [],
   "source": [
    "#data paths\n",
    "sub_c1 = \"../data/sub_c1.csv\"\n",
    "sub_c2 = \"../data/sub_c2.csv\"\n",
    "sub_c3 = \"../data/sub_c3.csv\"\n",
    "ep1 = \"../data/sub_ep1.csv\"\n",
    "ep2 = \"../data/sub_ep2.csv\"\n",
    "deb_c1 = \"../data/prelev_c1.csv\"\n",
    "deb_c2 = \"../data/prelev_c2.csv\"\n",
    "deb_c3 = \"../data/prelev_c3.csv\"\n",
    "rch_zones = \"../data/rch_zone.csv\"\n",
    "topo = \"../data/topo.csv\"\n",
    "perma1 = \"../data/perma1.csv\"\n",
    "perma2 = \"../data/perma2.csv\"\n",
    "perma3 = \"../data/perma3.csv\""
   ]
  },
  {
   "cell_type": "code",
   "execution_count": 4,
   "metadata": {},
   "outputs": [],
   "source": [
    "# spatial parameters\n",
    "x0 = 620e3\n",
    "y0 = 3024e3\n",
    "nlay = 5\n",
    "nrow = 38\n",
    "ncol = 42\n",
    "delr = np.ones(ncol)*1000\n",
    "delc = np.ones(nrow)*1000\n"
   ]
  },
  {
   "cell_type": "code",
   "execution_count": 5,
   "metadata": {},
   "outputs": [],
   "source": [
    "# import surfaces\n",
    "botm_c1 = pd.read_csv(sub_c1,sep=\";\",header=None,na_values=None)\n",
    "botm_c1[botm_c1==7777]=None # remove nodata\n",
    "\n",
    "botm_c2 = pd.read_csv(sub_c2,sep=\";\",header=None,na_values=None)\n",
    "botm_c2[botm_c2==7777]=None # remove nodata\n",
    "\n",
    "botm_c3 = pd.read_csv(sub_c3,sep=\";\",header=None,na_values=None)\n",
    "botm_c3[botm_c3==7777]=None\n",
    "\n",
    "epo1 = pd.read_csv(ep1,sep=\";\",header=None,na_values=None)\n",
    "epo1[epo1>7776]=None # remove nodata\n",
    "\n",
    "epo2 = pd.read_csv(ep2,sep=\";\",header=None,na_values=None)\n",
    "epo2[epo2>7776]=None # remove nodata\n",
    "\n",
    "top = pd.read_csv(topo,sep=\";\",header=None)\n",
    "#top[top==7777]=None # remove nodata"
   ]
  },
  {
   "cell_type": "code",
   "execution_count": 6,
   "metadata": {},
   "outputs": [],
   "source": [
    "## assign idomain\n",
    "idomain_1 = np.zeros([38,42])\n",
    "idomain_2 = np.zeros([38,42])\n",
    "idomain_3 = np.zeros([38,42])\n",
    "idomain_4 = np.zeros([38,42])\n",
    "idomain_5 = np.zeros([38,42])\n",
    "\n",
    "idomain_2[(botm_c3.notnull())]=-1\n",
    "idomain_3[(botm_c3.notnull())]=-1\n",
    "\n",
    "idomain_1[botm_c1.notnull()] = 1\n",
    "idomain_2[epo2.notnull()] = 1\n",
    "idomain_3[botm_c2.notnull()] = 1\n",
    "idomain_4[epo1.notnull()] = 1\n",
    "idomain_5[botm_c3.notnull()] = 1"
   ]
  },
  {
   "cell_type": "code",
   "execution_count": 7,
   "metadata": {},
   "outputs": [],
   "source": [
    "# create the surfaces\n",
    "bot1 = top.copy()\n",
    "\n",
    "bot1[pd.DataFrame(idomain_1!=1)] = top[pd.DataFrame(idomain_1!=1)] - 0.1\n",
    "bot1[pd.DataFrame(idomain_1==1)] = botm_c1[pd.DataFrame(idomain_1==1)]\n",
    "\n",
    "bot1.iloc[31,33]=top.iloc[31,33]-1 # bricolage pour corriger qqch\n",
    "\n",
    "bot2 = bot1.copy()\n",
    "bot2[pd.DataFrame(idomain_2!=1)] = bot1[pd.DataFrame(idomain_2!=1)]-0.1\n",
    "bot2[pd.DataFrame(idomain_2==1)] = epo2[pd.DataFrame(idomain_2==1)]\n",
    "\n",
    "bot2.iloc[31,33]=bot1.iloc[31,33]-1 # bricolage pour corriger \n",
    "bot2.iloc[7,23]=bot1.iloc[7,23]-1\n",
    "bot2.iloc[4,24]=bot1.iloc[4,24]-1\n",
    "\n",
    "bot3 = bot2.copy()\n",
    "bot3[pd.DataFrame(idomain_3!=1)] = bot2[pd.DataFrame(idomain_3!=1)]-0.1\n",
    "bot3[pd.DataFrame(idomain_3==1)] = botm_c2[pd.DataFrame(idomain_3==1)]\n",
    "\n",
    "bot4 = bot3.copy()\n",
    "bot4[pd.DataFrame(idomain_4!=1)] = bot3[pd.DataFrame(idomain_4!=1)]-0.1\n",
    "bot4[pd.DataFrame(idomain_4==1)] = epo1[pd.DataFrame(idomain_4==1)]\n",
    "\n",
    "bot5 = bot4.copy()\n",
    "bot5[pd.DataFrame(idomain_5!=1)] = bot4[pd.DataFrame(idomain_5!=1)]-0.1\n",
    "bot5[pd.DataFrame(idomain_5==1)] = botm_c3[pd.DataFrame(idomain_5==1)]"
   ]
  },
  {
   "cell_type": "code",
   "execution_count": 8,
   "metadata": {},
   "outputs": [],
   "source": [
    "idomain=np.ones([nlay,nrow,ncol])\n",
    "idomain[0,:,:]=idomain_1\n",
    "idomain[1,:,:]=idomain_2\n",
    "idomain[2,:,:]=idomain_3\n",
    "idomain[3,:,:]=idomain_4\n",
    "idomain[4,:,:]=idomain_5\n",
    "\n",
    "bot = np.ones([nlay,nrow,ncol])\n",
    "bot[0,:,:]=bot1\n",
    "bot[1,:,:]=bot2\n",
    "bot[2,:,:]=bot3\n",
    "bot[3,:,:]=bot4\n",
    "bot[4,:,:]=bot5\n",
    "bot[bot>1000]=150"
   ]
  },
  {
   "cell_type": "code",
   "execution_count": 9,
   "metadata": {},
   "outputs": [],
   "source": [
    "sim = fp.mf6.MFSimulation(sim_name='theis_mf6', version='mf6', exe_name=exe_name, \n",
    "                             sim_ws=model_dir)\n",
    "gwf = fp.mf6.ModflowGwf(sim, modelname=model_name,\n",
    "                           model_nam_file='{}.nam'.format(model_name))\n",
    "dis = fp.mf6.ModflowGwfdis(gwf, nlay=nlay, nrow=nrow, ncol=ncol,\n",
    "                              delr=delr, delc=delc,\n",
    "                              top=top.values, botm=bot,xorigin=x0,yorigin=y0,idomain=idomain)\n",
    "tdis = fp.mf6.ModflowTdis(sim, time_units='SECONDS',perioddata=[[1.0, 1, 1.]])\n",
    "\n",
    "\n",
    "ims  = fp.mf6.ModflowIms(sim, print_option='SUMMARY', complexity='simple')\n",
    "\n",
    "# initial conditions\n",
    "ic   = fp.mf6.ModflowGwfic(gwf)\n",
    "\n",
    "# nodeflowproperty\n",
    "kh = 1e-4\n",
    "npf  = fp.mf6.ModflowGwfnpf(gwf, icelltype=0, k=kh, save_flows=True,save_specific_discharge=True)\n"
   ]
  },
  {
   "cell_type": "code",
   "execution_count": 10,
   "metadata": {},
   "outputs": [],
   "source": [
    "file_bot = \"working/bot\"\n",
    "np.save(file_bot,bot)\n",
    "\n",
    "file_top = \"working/top\"\n",
    "np.save(file_top,top.values)\n",
    "\n",
    "file_idom = \"working/idomain\"\n",
    "np.save(file_idom,idomain)"
   ]
  },
  {
   "cell_type": "code",
   "execution_count": 11,
   "metadata": {},
   "outputs": [
    {
     "data": {
      "text/plain": [
       "<matplotlib.colorbar.Colorbar at 0x2dd7a9e3b88>"
      ]
     },
     "execution_count": 11,
     "metadata": {},
     "output_type": "execute_result"
    },
    {
     "data": {
      "image/png": "[encoded data removed]",
      "text/plain": [
       "<Figure size 432x288 with 2 Axes>"
      ]
     },
     "metadata": {
      "needs_background": "light"
     },
     "output_type": "display_data"
    }
   ],
   "source": [
    "plt.imshow(top-bot1)\n",
    "plt.colorbar()"
   ]
  },
  {
   "cell_type": "code",
   "execution_count": 12,
   "metadata": {},
   "outputs": [
    {
     "data": {
      "image/png": "[encoded data removed]",
      "text/plain": [
       "<Figure size 1080x720 with 6 Axes>"
      ]
     },
     "metadata": {
      "needs_background": "light"
     },
     "output_type": "display_data"
    }
   ],
   "source": [
    "surface = [top,bot1,bot2,bot3,bot4,bot5]\n",
    "fig,ax = plt.subplots(2,3,sharey=True,figsize=(15,10))\n",
    "i=0;l=0\n",
    "for s in np.arange(len(surface)-1):\n",
    "    b=ax[l,i].imshow(surface[s]-surface[s+1])\n",
    "    #b.set_clim(0,50)\n",
    "    i +=1\n",
    "    if i == 3:\n",
    "        i=0\n",
    "        l+=1"
   ]
  },
  {
   "cell_type": "code",
   "execution_count": 13,
   "metadata": {},
   "outputs": [
    {
     "data": {
      "image/png": "[encoded data removed]",
      "text/plain": [
       "<Figure size 1080x720 with 6 Axes>"
      ]
     },
     "metadata": {
      "needs_background": "light"
     },
     "output_type": "display_data"
    }
   ],
   "source": [
    "surface = [idomain_1,idomain_2,idomain_3,idomain_4,idomain_5]\n",
    "fig,ax = plt.subplots(2,3,sharey=True,figsize=(15,10))\n",
    "i=0;l=0\n",
    "for s in surface:\n",
    "    b=ax[l,i].imshow(s)\n",
    "    i +=1\n",
    "    if i == 3:\n",
    "        i=0\n",
    "        l+=1"
   ]
  },
  {
   "cell_type": "code",
   "execution_count": null,
   "metadata": {},
   "outputs": [],
   "source": []
  }
 ],
 "metadata": {
  "kernelspec": {
   "display_name": "Python 3",
   "language": "python",
   "name": "python3"
  },
  "language_info": {
   "codemirror_mode": {
    "name": "ipython",
    "version": 3
   },
   "file_extension": ".py",
   "mimetype": "text/x-python",
   "name": "python",
   "nbconvert_exporter": "python",
   "pygments_lexer": "ipython3",
   "version": "3.7.4"
  }
 },
 "nbformat": 4,
 "nbformat_minor": 2
}
