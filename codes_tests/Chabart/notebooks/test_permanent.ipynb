{
 "cells": [
  {
   "cell_type": "code",
   "execution_count": 108,
   "metadata": {},
   "outputs": [],
   "source": [
    "import flopy as fp\n",
    "import numpy as np\n",
    "import geopandas as gp\n",
    "import pandas as pd\n",
    "import os\n",
    "from osgeo import ogr\n",
    "import gdal\n",
    "import matplotlib.pyplot as plt\n",
    "from flopy.utils.gridgen import Gridgen \n",
    "from flopy.utils.gridintersect import GridIntersect\n",
    "from flopy.utils import Raster\n",
    "import shapely\n",
    "from shapely.geometry import Polygon, Point, LineString, MultiLineString, MultiPoint, MultiPolygon,shape\n",
    "from shapely.strtree import STRtree  \n",
    "\n",
    "# hand made functions\n",
    "from Rouss1 import get_heads, get_spdis, get_budgetobj\n",
    "\n",
    "from Chabart_fun import pump_data"
   ]
  },
  {
   "cell_type": "code",
   "execution_count": 109,
   "metadata": {},
   "outputs": [],
   "source": [
    "model_dir = \"working\"\n",
    "model_name = \"test_perma\"\n",
    "exe_name= \"../../exe/mf6\""
   ]
  },
  {
   "cell_type": "code",
   "execution_count": 110,
   "metadata": {},
   "outputs": [],
   "source": [
    "#path to data already pre-processed\n",
    "top_name = \"top.npy\"\n",
    "bot_name = \"bot.npy\"\n",
    "idom_name = \"idomain.npy\"\n",
    "\n",
    "top = np.load(os.path.join(model_dir,top_name))\n",
    "bot = np.load(os.path.join(model_dir,bot_name))\n",
    "idomain = np.load(os.path.join(model_dir,idom_name))"
   ]
  },
  {
   "cell_type": "code",
   "execution_count": 111,
   "metadata": {},
   "outputs": [],
   "source": [
    "# spatial parameters\n",
    "x0 = 620e3\n",
    "y0 = 3024e3\n",
    "nlay = 5\n",
    "nrow = 38\n",
    "ncol = 42\n",
    "delr = np.ones(ncol)*1000\n",
    "delc = np.ones(nrow)*1000"
   ]
  },
  {
   "cell_type": "code",
   "execution_count": 112,
   "metadata": {},
   "outputs": [],
   "source": [
    "# recharge\n",
    "rch_zones = \"../data/rch_zone.csv\"\n",
    "rch_data = pd.read_csv(rch_zones,sep=\";\",header=None,na_values=None)\n",
    "rch_val = [90,120,120,60,60,50,25,45]\n",
    "for i in range(len(rch_val)):\n",
    "    rch_data[rch_data==i+1]=rch_val[i]\n",
    "rch_data[rch_data==7777]=0"
   ]
  },
  {
   "cell_type": "code",
   "execution_count": 156,
   "metadata": {},
   "outputs": [],
   "source": [
    "#irrig\n",
    "irrig_zon = \"../data/zir.csv\"\n",
    "irrig = pd.read_csv(irrig_zon,sep=\";\",header=None,na_values=None)\n",
    "irrig[irrig==7777]=0\n",
    "irr_val = [-110.5,12,3,12,420]\n",
    "i_val = [9,11,12,15,16]\n",
    "for i in range(len(irr_val)):\n",
    "    irrig[irrig==i_val[i]]=irr_val[i]\n",
    "\n",
    "    \n",
    "#combine the two recharge : efficient rain + irrigation\n",
    "rch_tot = rch_data + irrig"
   ]
  },
  {
   "cell_type": "code",
   "execution_count": 155,
   "metadata": {},
   "outputs": [],
   "source": [
    "# drain from the rivers\n",
    "drain_path = \"../data/debordement.csv\"\n",
    "drain_zones = pd.read_csv(drain_path,sep=\";\",header=None,na_values=None)\n",
    "drain_zones[drain_zones==7777]=0\n",
    "\n",
    "cond = 1e-2\n",
    "lst_drn=[]\n",
    "for irow in np.arange(nrow):\n",
    "    for icol in np.arange(ncol):\n",
    "        if drain_zones.iloc[irow,icol]:\n",
    "            drain = ((0,irow,icol),top[irow,icol],cond)\n",
    "            lst_drn.append(drain)       "
   ]
  },
  {
   "cell_type": "code",
   "execution_count": 148,
   "metadata": {},
   "outputs": [],
   "source": [
    "# constant head\n",
    "# TO DOOOOOO !!\n",
    "lst_chd=[]\n",
    "for j in range(3):\n",
    "    for i in range(36):\n",
    "        lst_chd.append(((0,i,j+39),0))"
   ]
  },
  {
   "cell_type": "code",
   "execution_count": 116,
   "metadata": {},
   "outputs": [],
   "source": [
    "# pumping\n",
    "#path\n",
    "deb_c1 = \"../data/prelev_c1.csv\"\n",
    "deb_c2 = \"../data/prelev_c2.csv\"\n",
    "deb_c3 = \"../data/prelev_c3.csv\"\n",
    "\n",
    "fac = 1000/365/86400\n",
    "pumpc1 = pump_data(deb_c1,layer=0,fac=fac)\n",
    "pumpc2 = pump_data(deb_c2,layer=2,fac=fac)\n",
    "pumpc3 = pump_data(deb_c3,layer=4,fac=fac)\n",
    "\n",
    "well_data = [];suma=0\n",
    "for i in [pumpc1,pumpc2,pumpc3]:\n",
    "    for o in i:\n",
    "        well_data.append(o)\n",
    "        suma += o[1]\n",
    "        \n",
    "well_data.remove(((4, 3, 21), -2*fac)) # outside of the domain ???"
   ]
  },
  {
   "cell_type": "code",
   "execution_count": 117,
   "metadata": {},
   "outputs": [],
   "source": [
    "#permeability\n",
    "perma1 = \"../data/perma1.csv\"\n",
    "perma2 = \"../data/perma2.csv\"\n",
    "perma3 = \"../data/perma3.csv\"\n",
    "\n",
    "KH = np.ones([5,nrow,ncol])\n",
    "\n",
    "perma_c1 = pd.read_csv(perma1,sep=\";\",header=None)\n",
    "perma_c2 = pd.read_csv(perma2,sep=\";\",header=None)\n",
    "perma_c3 = pd.read_csv(perma3,sep=\";\",header=None)\n",
    "\n",
    "#attribute the value at each layer\n",
    "KH[0]=perma_c1.values*1e-4 #Quat\n",
    "KH[1]=0.25e-8 #epontes\n",
    "KH[2]=perma_c2.values*1e-4 #Salanque\n",
    "KH[3]=0.25e-8 #epontes\n",
    "KH[4]=perma_c3.values*1e-4 #Plio"
   ]
  },
  {
   "cell_type": "code",
   "execution_count": 157,
   "metadata": {},
   "outputs": [],
   "source": [
    "sim = fp.mf6.MFSimulation(sim_name='theis_mf6', version='mf6', exe_name=exe_name, \n",
    "                          sim_ws=model_dir)\n",
    "gwf = fp.mf6.ModflowGwf(sim, modelname=model_name,\n",
    "                           model_nam_file='{}.nam'.format(model_name))\n",
    "dis = fp.mf6.ModflowGwfdis(gwf, nlay=nlay, nrow=nrow, ncol=ncol,\n",
    "                              delr=delr, delc=delc,\n",
    "                              top=top, botm=bot,xorigin=x0,yorigin=y0,idomain=idomain)\n",
    "\n",
    "tdis = fp.mf6.ModflowTdis(sim, time_units='SECONDS',perioddata=[[1.0, 1, 1.]])\n",
    "ims  = fp.mf6.ModflowIms(sim, print_option='SUMMARY', complexity='simple')\n",
    "\n",
    "# initial conditions\n",
    "ic   = fp.mf6.ModflowGwfic(gwf)\n",
    "\n",
    "# nodeflowproperty\n",
    "kh = [1e-3,0.25e-8,1e-3,0.25e-8,0.5e-4]\n",
    "npf  = fp.mf6.ModflowGwfnpf(gwf, icelltype=0, k=KH, save_flows=True,save_specific_discharge=True)\n",
    "\n",
    "# recharge, to do... !\n",
    "mm = rch_tot.values\n",
    "rch  = fp.mf6.ModflowGwfrcha(gwf, recharge = mm/1000/365/86400)\n",
    "\n",
    "# output control\n",
    "oc   = fp.mf6.ModflowGwfoc(gwf,budget_filerecord='{}.cbc'.format(model_name),\n",
    "                            head_filerecord='{}.hds'.format(model_name),\n",
    "                            saverecord=[('HEAD', 'LAST'),\n",
    "                                        ('BUDGET', 'ALL')],\n",
    "                            printrecord=[('HEAD', 'LAST'),\n",
    "                                         ('BUDGET', 'ALL')])\n",
    "\n",
    "# constant heads\n",
    "chd = fp.mf6.modflow.mfgwfchd.ModflowGwfchd(gwf,pname=\"sea\",filename=\"sea.chd\",maxbound=len(lst_chd),\n",
    "                                            stress_period_data={0:lst_chd})\n",
    "\n",
    "\n",
    "# well package\n",
    "wel1 = fp.mf6.modflow.mfgwfwel.ModflowGwfwel(gwf,pname=\"well\",filename=\"well.wel\",maxbound=len(well_data),\n",
    "                                             stress_period_data={0:well_data})\n",
    "\n",
    "#drain package\n",
    "debordement = fp.mf6.modflow.mfgwfdrn.ModflowGwfdrn(gwf,pname=\"debordement\",filename=\"debordement.drn\",\n",
    "                                                   maxbound=len(lst_drn),stress_period_data={0:lst_drn})"
   ]
  },
  {
   "cell_type": "code",
   "execution_count": 158,
   "metadata": {},
   "outputs": [
    {
     "name": "stdout",
     "output_type": "stream",
     "text": [
      "writing simulation...\n",
      "  writing simulation name file...\n",
      "  writing simulation tdis package...\n",
      "  writing ims package ims_-1...\n",
      "  writing model test_perma...\n",
      "    writing model name file...\n",
      "    writing package dis...\n",
      "    writing package ic...\n",
      "    writing package npf...\n",
      "    writing package rcha...\n",
      "    writing package oc...\n",
      "    writing package sea...\n",
      "    writing package well...\n",
      "    writing package debordement...\n"
     ]
    }
   ],
   "source": [
    "sim.write_simulation()"
   ]
  },
  {
   "cell_type": "code",
   "execution_count": 159,
   "metadata": {},
   "outputs": [
    {
     "name": "stdout",
     "output_type": "stream",
     "text": [
      "FloPy is using the following  executable to run the model: ../../exe/mf6.exe\n",
      "                                   MODFLOW 6\n",
      "                U.S. GEOLOGICAL SURVEY MODULAR HYDROLOGIC MODEL\n",
      "                            VERSION 6.0.4 03/13/2019\n",
      "\n",
      "   MODFLOW 6 compiled Mar 21 2019 15:37:31 with IFORT compiler (ver. 19.0.0)\n",
      "\n",
      "This software has been approved for release by the U.S. Geological \n",
      "Survey (USGS). Although the software has been subjected to rigorous \n",
      "review, the USGS reserves the right to update the software as needed \n",
      "pursuant to further analysis and review. No warranty, expressed or \n",
      "implied, is made by the USGS or the U.S. Government as to the \n",
      "functionality of the software and related material nor shall the \n",
      "fact of release constitute any such warranty. Furthermore, the \n",
      "software is released on condition that neither the USGS nor the U.S. \n",
      "Government shall be held liable for any damages resulting from its \n",
      "authorized or unauthorized use. Also refer to the USGS Water \n",
      "Resources Software User Rights Notice for complete use, copyright, \n",
      "and distribution information.\n",
      "\n",
      " Run start date and time (yyyy/mm/dd hh:mm:ss): 2020/02/29 17:13:40\n",
      "\n",
      " Writing simulation list file: mfsim.lst\n",
      " Using Simulation name file: mfsim.nam\n",
      " Solving:  Stress period:     1    Time step:     1\n",
      " Run end date and time (yyyy/mm/dd hh:mm:ss): 2020/02/29 17:13:40\n",
      " Elapsed run time:  0.114 Seconds\n",
      "\n",
      " Normal termination of simulation.\n"
     ]
    },
    {
     "data": {
      "text/plain": [
       "(True, [])"
      ]
     },
     "execution_count": 159,
     "metadata": {},
     "output_type": "execute_result"
    }
   ],
   "source": [
    "sim.run_simulation()"
   ]
  },
  {
   "cell_type": "code",
   "execution_count": 160,
   "metadata": {},
   "outputs": [],
   "source": [
    "head = get_heads(model_name,model_dir)\n",
    "spd = get_spdis(model_name,model_dir)"
   ]
  },
  {
   "cell_type": "code",
   "execution_count": 161,
   "metadata": {},
   "outputs": [
    {
     "data": {
      "text/plain": [
       "<matplotlib.collections.QuadMesh at 0x16571a98288>"
      ]
     },
     "execution_count": 161,
     "metadata": {},
     "output_type": "execute_result"
    },
    {
     "data": {
      "image/png": "[encoded data removed]",
      "text/plain": [
       "<Figure size 720x720 with 2 Axes>"
      ]
     },
     "metadata": {
      "needs_background": "light"
     },
     "output_type": "display_data"
    }
   ],
   "source": [
    "fig = plt.figure(figsize=(10,10))\n",
    "ax  = plt.subplot(1, 1, 1, aspect='equal')\n",
    "ml = fp.plot.PlotMapView(model=gwf)\n",
    "\n",
    "#hmesh=ml.plot_ibound()\n",
    "hmesh=ml.plot_array(head[0],masked_values=[1e30],cmap=\"inferno\")\n",
    "\n",
    "plt.colorbar(hmesh)\n",
    "ml.plot_bc(\"sea\")"
   ]
  },
  {
   "cell_type": "code",
   "execution_count": 145,
   "metadata": {},
   "outputs": [
    {
     "data": {
      "text/plain": [
       "<matplotlib.image.AxesImage at 0x165718110c8>"
      ]
     },
     "execution_count": 145,
     "metadata": {},
     "output_type": "execute_result"
    },
    {
     "data": {
      "image/png": "[encoded data removed]",
      "text/plain": [
       "<Figure size 432x288 with 1 Axes>"
      ]
     },
     "metadata": {
      "needs_background": "light"
     },
     "output_type": "display_data"
    }
   ],
   "source": [
    "plt.imshow(drain_zones)"
   ]
  },
  {
   "cell_type": "code",
   "execution_count": null,
   "metadata": {},
   "outputs": [],
   "source": []
  }
 ],
 "metadata": {
  "kernelspec": {
   "display_name": "Python 3",
   "language": "python",
   "name": "python3"
  },
  "language_info": {
   "codemirror_mode": {
    "name": "ipython",
    "version": 3
   },
   "file_extension": ".py",
   "mimetype": "text/x-python",
   "name": "python",
   "nbconvert_exporter": "python",
   "pygments_lexer": "ipython3",
   "version": "3.7.4"
  }
 },
 "nbformat": 4,
 "nbformat_minor": 2
}
