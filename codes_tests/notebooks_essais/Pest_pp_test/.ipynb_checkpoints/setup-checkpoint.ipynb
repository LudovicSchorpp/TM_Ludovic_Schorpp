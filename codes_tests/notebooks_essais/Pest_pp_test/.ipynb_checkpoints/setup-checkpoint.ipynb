{
 "cells": [
  {
   "cell_type": "code",
   "execution_count": 20,
   "metadata": {},
   "outputs": [],
   "source": [
    "import flopy as fp\n",
    "import numpy as np\n",
    "import matplotlib.pyplot as plt\n",
    "plt.rcParams['font.size']=12\n",
    "import pandas as pd\n",
    "import os\n",
    "import sys"
   ]
  },
  {
   "cell_type": "code",
   "execution_count": 21,
   "metadata": {},
   "outputs": [],
   "source": [
    "workspace = \"workspace\"\n",
    "model_name = \"test_pst\"\n",
    "exe_name=\"../../exe/mf6.exe\"\n",
    "\n",
    "nrow = 100\n",
    "ncol = 100\n",
    "delc = 1\n",
    "delr = 1"
   ]
  },
  {
   "cell_type": "code",
   "execution_count": 22,
   "metadata": {},
   "outputs": [],
   "source": [
    "def model_run(k):\n",
    "    \n",
    "    # spatial param\n",
    "    nlay = 1\n",
    "\n",
    "    top = 10\n",
    "    botm = 0\n",
    "\n",
    "    # packages\n",
    "    sim = fp.mf6.MFSimulation(sim_name=model_name, version='mf6', exe_name=exe_name, \n",
    "                                 sim_ws=workspace)\n",
    "    tdis = fp.mf6.ModflowTdis(sim, pname='tdis', time_units='SECONDS', \n",
    "                                 nper=1, perioddata=[(1.0, 1, 1.0)])\n",
    "    gwf = fp.mf6.ModflowGwf(sim, modelname=model_name,\n",
    "                               model_nam_file='{}.nam'.format(model_name))\n",
    "    dis = fp.mf6.ModflowGwfdis(gwf, nlay=nlay, nrow=nrow, ncol=ncol,\n",
    "                                  delr=delr, delc=delc,top=top, botm=botm)\n",
    "    ims  = fp.mf6.ModflowIms(sim, print_option='SUMMARY', complexity=\"simple\")\n",
    "    ic   = fp.mf6.ModflowGwfic(gwf,strt=botm+1)\n",
    "\n",
    "    oc   = fp.mf6.ModflowGwfoc(gwf,budget_filerecord='{}.cbc'.format(model_name),\n",
    "                                head_filerecord='{}.hds'.format(model_name),\n",
    "                                saverecord=[('HEAD', 'LAST'),\n",
    "                                            ('BUDGET', 'LAST')],\n",
    "                                printrecord=[('HEAD', 'ALL')])\n",
    "    \n",
    "\n",
    "    npf  = fp.mf6.ModflowGwfnpf(gwf, icelltype=0, k=k,save_flows=True)\n",
    "    rch = fp.mf6.ModflowGwfrcha(gwf,recharge=1/86400/365,save_flows=True)\n",
    "    \n",
    "    #bc\n",
    "    chd = []\n",
    "    for irow in range(nrow):\n",
    "        chd.append(((0,irow,0),10))\n",
    "        chd.append(((0,irow,ncol-1),0))\n",
    "    chd = fp.mf6.ModflowGwfchd(gwf,pname=\"chd\",filename=\"bc.chd\",maxbound=len(chd),stress_period_data=chd,save_flows=True)\n",
    "    \n",
    "    lst_pts = []\n",
    "    for irow in range(1,nrow-1,7):\n",
    "        for icol in range(1,ncol-1,7):\n",
    "            lst_pts.append((0,irow,icol))\n",
    "            \n",
    "    obs_lst1=[]\n",
    "    for pts in lst_pts:\n",
    "        obs_lst1.append((\"0_{}_{}\".format(pts[1],pts[2]),\"HEAD\",pts))\n",
    "\n",
    "    obs_recarray = {('heads.csv'):obs_lst1}\n",
    "    obs_package = fp.mf6.ModflowUtlobs(gwf, pname='head_obs', filename='{}.obs'.format(model_name), \n",
    "                                          digits=10, print_input=True,\n",
    "                                          continuous=obs_recarray)\n",
    "    \n",
    "    \n",
    "    sim.write_simulation(silent=True)\n",
    "    sim.run_simulation()"
   ]
  },
  {
   "cell_type": "code",
   "execution_count": 23,
   "metadata": {},
   "outputs": [],
   "source": [
    "def gauss(A,sig,x,y,x0=0,y0=0):\n",
    "    g = A**(-((((x-x0)**2)/(2*sig**2))+((y-y0)**2)/(2*sig**2)))\n",
    "    return g"
   ]
  },
  {
   "cell_type": "code",
   "execution_count": 24,
   "metadata": {},
   "outputs": [
    {
     "name": "stdout",
     "output_type": "stream",
     "text": [
      "FloPy is using the following  executable to run the model: ../../exe/mf6.exe\n",
      "                                   MODFLOW 6\n",
      "                U.S. GEOLOGICAL SURVEY MODULAR HYDROLOGIC MODEL\n",
      "                            VERSION 6.0.4 03/13/2019\n",
      "\n",
      "   MODFLOW 6 compiled Mar 21 2019 15:37:31 with IFORT compiler (ver. 19.0.0)\n",
      "\n",
      "This software has been approved for release by the U.S. Geological \n",
      "Survey (USGS). Although the software has been subjected to rigorous \n",
      "review, the USGS reserves the right to update the software as needed \n",
      "pursuant to further analysis and review. No warranty, expressed or \n",
      "implied, is made by the USGS or the U.S. Government as to the \n",
      "functionality of the software and related material nor shall the \n",
      "fact of release constitute any such warranty. Furthermore, the \n",
      "software is released on condition that neither the USGS nor the U.S. \n",
      "Government shall be held liable for any damages resulting from its \n",
      "authorized or unauthorized use. Also refer to the USGS Water \n",
      "Resources Software User Rights Notice for complete use, copyright, \n",
      "and distribution information.\n",
      "\n",
      " Run start date and time (yyyy/mm/dd hh:mm:ss): 2020/07/21 15:54:47\n",
      "\n",
      " Writing simulation list file: mfsim.lst\n",
      " Using Simulation name file: mfsim.nam\n",
      " Solving:  Stress period:     1    Time step:     1\n",
      " Run end date and time (yyyy/mm/dd hh:mm:ss): 2020/07/21 15:54:47\n",
      " Elapsed run time:  0.284 Seconds\n",
      "\n",
      " Normal termination of simulation.\n"
     ]
    },
    {
     "data": {
      "image/png": "[encoded data removed]",
      "text/plain": [
       "<Figure size 432x288 with 2 Axes>"
      ]
     },
     "metadata": {
      "needs_background": "light"
     },
     "output_type": "display_data"
    }
   ],
   "source": [
    "x = np.arange(0,ncol,delr)\n",
    "y = np.arange(0,nrow,delc)\n",
    "X,Y = np.meshgrid(x,y)\n",
    "\n",
    "k = 1e-3*gauss(5,10,X,Y,x0=50,y0=20)\n",
    "k += 5e-4*gauss(5,10,X,Y,x0=30,y0=80)\n",
    "k += 5e-4*gauss(5,10,X,Y,x0=80,y0=80)\n",
    "k[k<1e-5]=1e-5\n",
    "plt.imshow(k)\n",
    "plt.colorbar()\n",
    "\n",
    "filnm = \"k.txt\"\n",
    "np.savetxt(os.path.join(workspace,filnm),k)\n",
    "model_run(filnm)"
   ]
  },
  {
   "cell_type": "code",
   "execution_count": 25,
   "metadata": {},
   "outputs": [
    {
     "data": {
      "text/plain": [
       "<matplotlib.colorbar.Colorbar at 0x222bd0051c8>"
      ]
     },
     "execution_count": 25,
     "metadata": {},
     "output_type": "execute_result"
    },
    {
     "data": {
      "image/png": "[encoded data removed]",
      "text/plain": [
       "<Figure size 432x288 with 2 Axes>"
      ]
     },
     "metadata": {
      "needs_background": "light"
     },
     "output_type": "display_data"
    }
   ],
   "source": [
    "plt.imshow(fp.utils.HeadFile(\"workspace/{}.hds\".format(model_name)).get_data((0,0))[0])\n",
    "plt.colorbar()"
   ]
  },
  {
   "cell_type": "code",
   "execution_count": 26,
   "metadata": {},
   "outputs": [
    {
     "name": "stdout",
     "output_type": "stream",
     "text": [
      "loading simulation...\n",
      "  loading simulation name file...\n",
      "  loading tdis package...\n",
      "  loading model gwf6...\n",
      "    loading package dis...\n",
      "    loading package ic...\n",
      "    loading package oc...\n",
      "    loading package npf...\n",
      "    loading package rch...\n",
      "    loading package chd...\n",
      "    loading package obs...\n",
      "  loading ims package test_pst...\n",
      "   could not remove start_datetime\n",
      "2020-07-21 15:54:48.503310 starting: opening PstFrom.log for logging\n",
      "2020-07-21 15:54:48.503310 starting PstFrom process\n",
      "2020-07-21 15:54:48.503310 starting: setting up dirs\n",
      "2020-07-21 15:54:48.503310 starting: removing existing new_d 'template'\n",
      "2020-07-21 15:54:48.531487 finished: removing existing new_d 'template' took: 0:00:00.028177\n",
      "2020-07-21 15:54:48.531487 starting: copying original_d 'workspace' to new_d 'template'\n",
      "2020-07-21 15:54:48.563709 finished: copying original_d 'workspace' to new_d 'template' took: 0:00:00.032222\n",
      "2020-07-21 15:54:48.563709 finished: setting up dirs took: 0:00:00.060399\n",
      "2020-07-21 15:54:48.583838 starting: adding observations from tabular output file\n",
      "2020-07-21 15:54:48.583838 starting: reading list template\\heads.csv\n",
      "2020-07-21 15:54:48.604018 finished: reading list template\\heads.csv took: 0:00:00.020180\n",
      "2020-07-21 15:54:48.604018 starting: building insfile for tabular output file heads.csv\n",
      "2020-07-21 15:54:48.644241 finished: building insfile for tabular output file heads.csv took: 0:00:00.040223\n",
      "2020-07-21 15:54:48.644241 starting: adding observation from instruction file 'template\\heads.csv.ins'\n",
      "2020-07-21 15:54:48.674439 finished: adding observation from instruction file 'template\\heads.csv.ins' took: 0:00:00.030198\n",
      "2020-07-21 15:54:48.682460 finished: adding observations from tabular output file took: 0:00:00.098622\n",
      "noptmax:30, npar_adj:0, nnz_obs:196\n"
     ]
    },
    {
     "data": {
      "text/plain": [
       "<pyemu.pst.pst_handler.Pst at 0x222be6ee848>"
      ]
     },
     "execution_count": 26,
     "metadata": {},
     "output_type": "execute_result"
    }
   ],
   "source": [
    "import pyemu\n",
    "sim = fp.mf6.MFSimulation.load(sim_ws=workspace)\n",
    "m = sim.get_model(model_name)\n",
    "sr = pyemu.helpers.SpatialReference.from_namfile(\n",
    "        os.path.join(workspace, \"{}.nam\".format(model_name)),\n",
    "        delr=m.dis.delr.array, delc=m.dis.delc.array)\n",
    "\n",
    "# empty pst from object\n",
    "template_ws = \"template\"\n",
    "pf = pyemu.prototypes.PstFrom(original_d=workspace, new_d=template_ws,\n",
    "                 remove_existing=True,\n",
    "                 longnames=True, spatial_reference=sr,\n",
    "                 zero_based=False)\n",
    "\n",
    "#add observation\n",
    "df = pd.read_csv(os.path.join(template_ws,\"heads.csv\"),index_col=0)\n",
    "\n",
    "hds_df = pf.add_observations(\"heads.csv\",insfile=\"heads.csv.ins\",index_cols=\"time\",\n",
    "                use_cols=list(df.columns.values),prefix=\"hds\",obsgp=False)\n",
    "\n",
    "case = \"pest_test\"\n",
    "pf.build_pst(\"{}.pst\".format(case))"
   ]
  },
  {
   "cell_type": "code",
   "execution_count": 27,
   "metadata": {},
   "outputs": [
    {
     "name": "stdout",
     "output_type": "stream",
     "text": [
      "spatial variogram\n"
     ]
    },
    {
     "data": {
      "image/png": "[encoded data removed]",
      "text/plain": [
       "<Figure size 576x288 with 1 Axes>"
      ]
     },
     "metadata": {
      "needs_background": "light"
     },
     "output_type": "display_data"
    }
   ],
   "source": [
    "v = pyemu.geostats.GauVario(contribution=0.3,a=20)\n",
    "grid_gs = pyemu.geostats.GeoStruct(variograms=v, transform='log')\n",
    "\n",
    "fig = plt.figure(figsize=(8,4))\n",
    "grid_gs.plot()\n",
    "print(\"spatial variogram\")"
   ]
  },
  {
   "cell_type": "code",
   "execution_count": 28,
   "metadata": {},
   "outputs": [
    {
     "name": "stdout",
     "output_type": "stream",
     "text": [
      "2020-07-21 15:54:49.379753 starting: adding pilotpoint type multiplier style parameters for file(s) ['k.txt']\n",
      "2020-07-21 15:54:49.379753 starting: loading array template\\k.txt\n",
      "2020-07-21 15:54:49.399841 finished: loading array template\\k.txt took: 0:00:00.020088\n",
      "2020-07-21 15:54:49.399841 loaded array 'k.txt' of shape (100, 100)\n",
      "2020-07-21 15:54:49.427998 starting: writing array-based template file 'kp_inst0_pilotpoint.csv.tpl'\n",
      "2020-07-21 15:54:49.430022 starting: setting up pilot point parameters\n",
      "2020-07-21 15:54:49.430022 No spatial reference (containing cell spacing) passed.\n",
      "2020-07-21 15:54:49.430022 OK - using spatial reference in parent object.\n",
      "ibound not passed, using array of ones\n",
      "2020-07-21 15:54:49.772242 64 pilot point parameters created\n",
      "2020-07-21 15:54:49.772242 pilot point 'pargp':kp_inst:0\n",
      "2020-07-21 15:54:49.772242 finished: setting up pilot point parameters took: 0:00:00.342220\n",
      "2020-07-21 15:54:49.801589 starting: calculating factors for pargp=kp_inst:0\n",
      "2020-07-21 15:54:49.801589 saving krige variance file:template\\kp_inst0pp.var.dat\n",
      "2020-07-21 15:54:49.802588 saving krige factors file:template\\kp_inst0pp.fac\n",
      "starting interp point loop for 10000 points\n",
      "starting 0\n",
      "starting 1\n",
      "starting 2\n",
      "starting 3\n",
      "starting 4\n",
      "starting 5\n",
      "starting 6\n",
      "starting 7\n",
      "starting 8\n",
      "starting 9\n",
      "took 52.607506 seconds\n",
      "2020-07-21 15:55:43.650713 finished: calculating factors for pargp=kp_inst:0 took: 0:00:53.849124\n",
      "2020-07-21 15:55:43.650713 starting: writing array-based template file 'kp_inst0pp.dat.tpl'\n",
      "2020-07-21 15:55:43.709092 starting: adding parameters for file(s) ['k.txt']\n"
     ]
    }
   ],
   "source": [
    "# set an homogeneous k array (as initial value)\n",
    "k = 1e-4*np.ones([nrow,ncol])\n",
    "filnm = \"k.txt\"\n",
    "np.savetxt(os.path.join(template_ws,filnm),k)\n",
    "\n",
    "pf.add_parameters(filenames=\"k.txt\",par_type=\"pilotpoint\",pp_space=12,\n",
    "                   par_name_base=\"kp\",pargp=\"hp\",\n",
    "                   upper_bound=10.,lower_bound=0.1,ult_ubound=1e-3,ult_lbound=1e-5,geostruct=grid_gs)"
   ]
  },
  {
   "cell_type": "code",
   "execution_count": 29,
   "metadata": {},
   "outputs": [
    {
     "name": "stdout",
     "output_type": "stream",
     "text": [
      "noptmax:30, npar_adj:64, nnz_obs:196\n",
      "2020-07-21 15:55:44.084797 forward_run line:pyemu.os_utils.run(r'..\\mf6')\n",
      "\n"
     ]
    }
   ],
   "source": [
    "# add run model command\n",
    "pf.mod_sys_cmds.append(\"..\\mf6\")\n",
    "pf.build_pst(\"{}.pst\".format(case))\n",
    "\n",
    "#Rewrite ins file because Pyemu isn't smart enough\n",
    "\n",
    "file = \"template/heads.csv.ins\"\n",
    "fileout = \"template/heads2.csv.ins\"\n",
    "with open(file) as f:\n",
    "    with open(fileout,\"w\") as fout:\n",
    "        for i,line in enumerate(f):\n",
    "            if i < 2:\n",
    "                fout.write(line)\n",
    "            if i > 1:\n",
    "                for o,split in enumerate(line.split(\"w\")):\n",
    "                    if o == 1:\n",
    "                        fout.write(\"~,~\")\n",
    "                    fout.write(split)\n",
    "                        \n",
    "from shutil import copyfile\n",
    "copyfile(fileout, file) # copy \n",
    "os.remove(fileout) # delete tmp file"
   ]
  },
  {
   "cell_type": "code",
   "execution_count": 30,
   "metadata": {},
   "outputs": [
    {
     "name": "stdout",
     "output_type": "stream",
     "text": [
      "noptmax:30, npar_adj:64, nnz_obs:196\n",
      "2020-07-21 15:55:44.437090 WARNING: sys_cmd 'pyemu.os_utils.run(r'..\\mf6')\n",
      "' already in sys cmds, skipping...\n",
      "2020-07-21 15:55:44.467301 starting: building prior covariance matrix\n",
      "2020-07-21 15:55:44.517598 saving prior covariance matrix to file template\\pest_test.prior.cov\n",
      "2020-07-21 15:55:44.527679 finished: building prior covariance matrix took: 0:00:00.060378\n"
     ]
    },
    {
     "data": {
      "image/png": "[encoded data removed]",
      "text/plain": [
       "<Figure size 504x504 with 1 Axes>"
      ]
     },
     "metadata": {
      "needs_background": "light"
     },
     "output_type": "display_data"
    }
   ],
   "source": [
    "pst = pf.build_pst(\"{}.pst\".format(case))\n",
    "cov = pf.build_prior()\n",
    "x = cov.x.copy()\n",
    "x[x==0.0] = np.NaN\n",
    "fig,ax = plt.subplots(1,1,figsize=(7,7))\n",
    "g = ax.imshow(x)"
   ]
  },
  {
   "cell_type": "code",
   "execution_count": 31,
   "metadata": {},
   "outputs": [
    {
     "name": "stdout",
     "output_type": "stream",
     "text": [
      "noptmax:-1, npar_adj:64, nnz_obs:196\n"
     ]
    }
   ],
   "source": [
    "t_d = \"template\"\n",
    "m_d = \"master_glm\"\n",
    "\n",
    "pst.control_data.noptmax = -1 # FOR JACOBIAN\n",
    "pst.write(os.path.join(t_d,\"{}.pst\".format(case)))"
   ]
  },
  {
   "cell_type": "code",
   "execution_count": 32,
   "metadata": {},
   "outputs": [],
   "source": [
    "pyemu.os_utils.start_workers(t_d,\"../pestpp-glm.exe\",\"{}.pst\".format(case),num_workers=8,worker_root=\".\",master_dir=m_d)"
   ]
  },
  {
   "cell_type": "code",
   "execution_count": null,
   "metadata": {},
   "outputs": [],
   "source": []
  }
 ],
 "metadata": {
  "kernelspec": {
   "display_name": "Python 3",
   "language": "python",
   "name": "python3"
  },
  "language_info": {
   "codemirror_mode": {
    "name": "ipython",
    "version": 3
   },
   "file_extension": ".py",
   "mimetype": "text/x-python",
   "name": "python",
   "nbconvert_exporter": "python",
   "pygments_lexer": "ipython3",
   "version": "3.7.4"
  }
 },
 "nbformat": 4,
 "nbformat_minor": 2
}
