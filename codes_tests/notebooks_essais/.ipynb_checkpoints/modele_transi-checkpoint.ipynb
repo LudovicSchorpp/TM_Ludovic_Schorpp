{
 "cells": [
  {
   "cell_type": "code",
   "execution_count": 2,
   "metadata": {},
   "outputs": [],
   "source": [
    "import sys\n",
    "import os\n",
    "import flopy as fp\n",
    "import numpy as np\n",
    "import matplotlib.pyplot as plt\n",
    "import pandas as pd\n",
    "from scipy import stats\n",
    "\n",
    "sys.path.append(\"../modules\")\n",
    "from Rouss1 import *"
   ]
  },
  {
   "cell_type": "code",
   "execution_count": 3,
   "metadata": {},
   "outputs": [],
   "source": [
    "workspace = \"workspace\"\n",
    "model_name = \"test_trans\"\n",
    "exe_name=\"../exe/mf6.exe\""
   ]
  },
  {
   "cell_type": "code",
   "execution_count": 4,
   "metadata": {},
   "outputs": [],
   "source": [
    "# create simulation\n",
    "sim = fp.mf6.MFSimulation(sim_name=model_name, version='mf6', exe_name=exe_name, \n",
    "                             sim_ws=workspace)\n",
    "\n",
    "# create tdis package\n",
    "tdis_rc = [(1.0, 1, 1.0)]\n",
    "nper=36\n",
    "for i in range(nper-1):\n",
    "    tdis_rc.append((30.0,10,1.0))\n",
    "\n",
    "tdis = fp.mf6.ModflowTdis(sim, pname='tdis', time_units='DAYS', \n",
    "                             nper=nper, perioddata=tdis_rc)\n",
    "\n",
    "# create gwf model\n",
    "gwf = fp.mf6.ModflowGwf(sim, modelname=model_name,\n",
    "                           model_nam_file='{}.nam'.format(model_name))\n",
    "gwf.name_file.save_flows = True\n",
    "\n",
    "# create iterative model solution and register the gwf model with it\n",
    "ims = fp.mf6.ModflowIms(sim, pname='ims', print_option='SUMMARY', \n",
    "                           complexity='moderate', outer_hclose=0.0001, \n",
    "                           outer_maximum=500, under_relaxation='NONE', \n",
    "                           inner_maximum=100, inner_hclose=0.0001, \n",
    "                           rcloserecord=0.001, linear_acceleration='CG', \n",
    "                           scaling_method='NONE', reordering_method='NONE', \n",
    "                           relaxation_factor=0.97)\n",
    "#sim.register_ims_package(ims, [gwf.name])"
   ]
  },
  {
   "cell_type": "code",
   "execution_count": 5,
   "metadata": {},
   "outputs": [],
   "source": [
    "# dis\n",
    "nlay = 1\n",
    "nrow = 30\n",
    "ncol = 30\n",
    "dis = fp.mf6.ModflowGwfdis(gwf, pname='dis', nlay=nlay, nrow=nrow, ncol=ncol, \n",
    "                              delr=10, delc=10, top=30.0, \n",
    "                              botm=23,idomain=1, \n",
    "                              filename='{}.dis'.format(model_name))\n",
    "\n",
    "# initial conditions\n",
    "ic = fp.mf6.ModflowGwfic(gwf, pname='ic', strt=25,\n",
    "                            filename='{}.ic'.format(model_name))\n",
    "\n",
    "# node property flow\n",
    "npf = fp.mf6.ModflowGwfnpf(gwf, pname='npf', save_flows=True, \n",
    "                              icelltype=1,k=1e-4*86400)\n",
    "\n",
    "# output control\n",
    "oc = fp.mf6.ModflowGwfoc(gwf, pname='oc', budget_filerecord='{}.cbb'.format(model_name),\n",
    "                            head_filerecord='{}.hds'.format(model_name),\n",
    "                            headprintrecord=[('COLUMNS', 10, 'WIDTH', 15,\n",
    "                                              'DIGITS', 6, 'GENERAL')],\n",
    "                            saverecord=[('HEAD', 'ALL'), ('BUDGET', 'ALL')],\n",
    "                            printrecord=[('HEAD', 'FIRST'), ('HEAD', 'LAST'), \n",
    "                                         ('BUDGET', 'LAST')])"
   ]
  },
  {
   "cell_type": "code",
   "execution_count": 6,
   "metadata": {},
   "outputs": [],
   "source": [
    "# storage package\n",
    "sy = 0.2\n",
    "ss = 0.00001\n",
    "sto = fp.mf6.ModflowGwfsto(gwf, pname='sto', save_flows=True, iconvert=1, \n",
    "                              ss=ss, sy=sy, steady_state={0:True},\n",
    "                              transient={1:True}) "
   ]
  },
  {
   "cell_type": "code",
   "execution_count": 7,
   "metadata": {},
   "outputs": [],
   "source": [
    "#variable recharge \n",
    "i=0\n",
    "dic_rch={}\n",
    "rch_lst=np.array([1000.0,1200.0,900,600,450,300,200,400,600,800,900,1000])\n",
    "rch_lst = rch_lst/(1000*365) # m/j\n",
    "for im in range(nper):\n",
    "    if i >=12:\n",
    "        i = 0\n",
    "    dic_rch[im]=rch_lst[i]\n",
    "    i+=1\n",
    "rcha = fp.mf6.modflow.mfgwfrcha.ModflowGwfrcha(gwf, recharge=dic_rch)"
   ]
  },
  {
   "cell_type": "code",
   "execution_count": 8,
   "metadata": {},
   "outputs": [],
   "source": [
    "#create fake variations of the constant head limit following a normal distribution\n",
    "\n",
    "asc = np.sort(np.random.normal(25,0.5,size=6))\n",
    "dsc = np.sort(np.random.normal(25,0.5,size=6))[::-1]\n",
    "chd_ts = np.ones(12)\n",
    "chd_ts[0:6] = asc\n",
    "chd_ts[6:] = dsc"
   ]
  },
  {
   "cell_type": "code",
   "execution_count": 9,
   "metadata": {},
   "outputs": [],
   "source": [
    "#constant head\n",
    "\n",
    "chd_spd={} # dic with all the data at each period\n",
    "chd_p=[] #data within a single period\n",
    "i=0\n",
    "for im in range(nper):\n",
    "    if i >=12:\n",
    "        i = 0\n",
    "    for irow in range(nrow):\n",
    "        chd_p.append(((0,irow,ncol-1),chd_ts[i]))\n",
    "    chd_spd[im]=chd_p\n",
    "    chd_p=[]\n",
    "    i+=1      \n",
    "\n",
    "chd = fp.mf6.ModflowGwfchd(gwf,pname=\"chd\",stress_period_data=chd_spd)"
   ]
  },
  {
   "cell_type": "code",
   "execution_count": 10,
   "metadata": {},
   "outputs": [],
   "source": [
    "# observation --> {filename:[(\"observation name\",\"type of observation\",(cellid)),\n",
    "#                            (\"observation name2\",\"flux observation\",(cellid2n),(cellid2m))]\n",
    "#                  filename2:[(observation name3,\"type of observation3,(cellid3)\")]}\n",
    "\n",
    "obs_recarray = {'head_obs.csv':[('h1', 'HEAD', (0, 1, 27))],\n",
    "                'intercell_flow_obs1.csv':[('ICF1_1.0', 'FLOW-JA-FACE', (0, 4, 5), (0, 5, 5))],\n",
    "                'heads.csv':[('h3-13-9', 'HEAD', (0, 12, 8))]}\n",
    "obs_package = fp.mf6.ModflowUtlobs(gwf, pname='head_obs', filename='{}.obs'.format(model_name), \n",
    "                                      digits=10, print_input=True,\n",
    "                                      continuous=obs_recarray)"
   ]
  },
  {
   "cell_type": "code",
   "execution_count": 11,
   "metadata": {},
   "outputs": [
    {
     "name": "stdout",
     "output_type": "stream",
     "text": [
      "writing simulation...\n",
      "  writing simulation name file...\n",
      "  writing simulation tdis package...\n",
      "  writing ims package ims...\n",
      "  writing model test_trans...\n",
      "    writing model name file...\n",
      "    writing package dis...\n",
      "    writing package ic...\n",
      "    writing package npf...\n",
      "    writing package oc...\n",
      "    writing package sto...\n",
      "    writing package rcha...\n",
      "    writing package chd...\n",
      "INFORMATION: maxbound in ('gwf6', 'chd', 'dimensions') changed to 30 based on size of stress_period_data\n",
      "    writing package head_obs...\n",
      "FloPy is using the following  executable to run the model: ../exe/mf6.exe\n",
      "                                   MODFLOW 6\n",
      "                U.S. GEOLOGICAL SURVEY MODULAR HYDROLOGIC MODEL\n",
      "                            VERSION 6.0.4 03/13/2019\n",
      "\n",
      "   MODFLOW 6 compiled Mar 21 2019 15:37:31 with IFORT compiler (ver. 19.0.0)\n",
      "\n",
      "This software has been approved for release by the U.S. Geological \n",
      "Survey (USGS). Although the software has been subjected to rigorous \n",
      "review, the USGS reserves the right to update the software as needed \n",
      "pursuant to further analysis and review. No warranty, expressed or \n",
      "implied, is made by the USGS or the U.S. Government as to the \n",
      "functionality of the software and related material nor shall the \n",
      "fact of release constitute any such warranty. Furthermore, the \n",
      "software is released on condition that neither the USGS nor the U.S. \n",
      "Government shall be held liable for any damages resulting from its \n",
      "authorized or unauthorized use. Also refer to the USGS Water \n",
      "Resources Software User Rights Notice for complete use, copyright, \n",
      "and distribution information.\n",
      "\n",
      " Run start date and time (yyyy/mm/dd hh:mm:ss): 2020/04/21 14:39:47\n",
      "\n",
      " Writing simulation list file: mfsim.lst\n",
      " Using Simulation name file: mfsim.nam\n",
      " Solving:  Stress period:     1    Time step:     1\n",
      " Solving:  Stress period:     2    Time step:     1\n",
      " Solving:  Stress period:     2    Time step:     2\n",
      " Solving:  Stress period:     2    Time step:     3\n",
      " Solving:  Stress period:     2    Time step:     4\n",
      " Solving:  Stress period:     2    Time step:     5\n",
      " Solving:  Stress period:     2    Time step:     6\n",
      " Solving:  Stress period:     2    Time step:     7\n",
      " Solving:  Stress period:     2    Time step:     8\n",
      " Solving:  Stress period:     2    Time step:     9\n",
      " Solving:  Stress period:     2    Time step:    10\n",
      " Solving:  Stress period:     3    Time step:     1\n",
      " Solving:  Stress period:     3    Time step:     2\n",
      " Solving:  Stress period:     3    Time step:     3\n",
      " Solving:  Stress period:     3    Time step:     4\n",
      " Solving:  Stress period:     3    Time step:     5\n",
      " Solving:  Stress period:     3    Time step:     6\n",
      " Solving:  Stress period:     3    Time step:     7\n",
      " Solving:  Stress period:     3    Time step:     8\n",
      " Solving:  Stress period:     3    Time step:     9\n",
      " Solving:  Stress period:     3    Time step:    10\n",
      " Solving:  Stress period:     4    Time step:     1\n",
      " Solving:  Stress period:     4    Time step:     2\n",
      " Solving:  Stress period:     4    Time step:     3\n",
      " Solving:  Stress period:     4    Time step:     4\n",
      " Solving:  Stress period:     4    Time step:     5\n",
      " Solving:  Stress period:     4    Time step:     6\n",
      " Solving:  Stress period:     4    Time step:     7\n",
      " Solving:  Stress period:     4    Time step:     8\n",
      " Solving:  Stress period:     4    Time step:     9\n",
      " Solving:  Stress period:     4    Time step:    10\n",
      " Solving:  Stress period:     5    Time step:     1\n",
      " Solving:  Stress period:     5    Time step:     2\n",
      " Solving:  Stress period:     5    Time step:     3\n",
      " Solving:  Stress period:     5    Time step:     4\n",
      " Solving:  Stress period:     5    Time step:     5\n",
      " Solving:  Stress period:     5    Time step:     6\n",
      " Solving:  Stress period:     5    Time step:     7\n",
      " Solving:  Stress period:     5    Time step:     8\n",
      " Solving:  Stress period:     5    Time step:     9\n",
      " Solving:  Stress period:     5    Time step:    10\n",
      " Solving:  Stress period:     6    Time step:     1\n",
      " Solving:  Stress period:     6    Time step:     2\n",
      " Solving:  Stress period:     6    Time step:     3\n",
      " Solving:  Stress period:     6    Time step:     4\n",
      " Solving:  Stress period:     6    Time step:     5\n",
      " Solving:  Stress period:     6    Time step:     6\n",
      " Solving:  Stress period:     6    Time step:     7\n",
      " Solving:  Stress period:     6    Time step:     8\n",
      " Solving:  Stress period:     6    Time step:     9\n",
      " Solving:  Stress period:     6    Time step:    10\n",
      " Solving:  Stress period:     7    Time step:     1\n",
      " Solving:  Stress period:     7    Time step:     2\n",
      " Solving:  Stress period:     7    Time step:     3\n",
      " Solving:  Stress period:     7    Time step:     4\n",
      " Solving:  Stress period:     7    Time step:     5\n",
      " Solving:  Stress period:     7    Time step:     6\n",
      " Solving:  Stress period:     7    Time step:     7\n",
      " Solving:  Stress period:     7    Time step:     8\n",
      " Solving:  Stress period:     7    Time step:     9\n",
      " Solving:  Stress period:     7    Time step:    10\n",
      " Solving:  Stress period:     8    Time step:     1\n",
      " Solving:  Stress period:     8    Time step:     2\n",
      " Solving:  Stress period:     8    Time step:     3\n",
      " Solving:  Stress period:     8    Time step:     4\n",
      " Solving:  Stress period:     8    Time step:     5\n",
      " Solving:  Stress period:     8    Time step:     6\n",
      " Solving:  Stress period:     8    Time step:     7\n",
      " Solving:  Stress period:     8    Time step:     8\n",
      " Solving:  Stress period:     8    Time step:     9\n",
      " Solving:  Stress period:     8    Time step:    10\n",
      " Solving:  Stress period:     9    Time step:     1\n",
      " Solving:  Stress period:     9    Time step:     2\n",
      " Solving:  Stress period:     9    Time step:     3\n",
      " Solving:  Stress period:     9    Time step:     4\n",
      " Solving:  Stress period:     9    Time step:     5\n",
      " Solving:  Stress period:     9    Time step:     6\n",
      " Solving:  Stress period:     9    Time step:     7\n",
      " Solving:  Stress period:     9    Time step:     8\n",
      " Solving:  Stress period:     9    Time step:     9\n",
      " Solving:  Stress period:     9    Time step:    10\n",
      " Solving:  Stress period:    10    Time step:     1\n",
      " Solving:  Stress period:    10    Time step:     2\n",
      " Solving:  Stress period:    10    Time step:     3\n",
      " Solving:  Stress period:    10    Time step:     4\n",
      " Solving:  Stress period:    10    Time step:     5\n",
      " Solving:  Stress period:    10    Time step:     6\n",
      " Solving:  Stress period:    10    Time step:     7\n",
      " Solving:  Stress period:    10    Time step:     8\n",
      " Solving:  Stress period:    10    Time step:     9\n",
      " Solving:  Stress period:    10    Time step:    10\n",
      " Solving:  Stress period:    11    Time step:     1\n",
      " Solving:  Stress period:    11    Time step:     2\n",
      " Solving:  Stress period:    11    Time step:     3\n",
      " Solving:  Stress period:    11    Time step:     4\n",
      " Solving:  Stress period:    11    Time step:     5\n",
      " Solving:  Stress period:    11    Time step:     6\n",
      " Solving:  Stress period:    11    Time step:     7\n",
      " Solving:  Stress period:    11    Time step:     8\n",
      " Solving:  Stress period:    11    Time step:     9\n",
      " Solving:  Stress period:    11    Time step:    10\n",
      " Solving:  Stress period:    12    Time step:     1\n",
      " Solving:  Stress period:    12    Time step:     2\n",
      " Solving:  Stress period:    12    Time step:     3\n",
      " Solving:  Stress period:    12    Time step:     4\n",
      " Solving:  Stress period:    12    Time step:     5\n",
      " Solving:  Stress period:    12    Time step:     6\n",
      " Solving:  Stress period:    12    Time step:     7\n",
      " Solving:  Stress period:    12    Time step:     8\n",
      " Solving:  Stress period:    12    Time step:     9\n",
      " Solving:  Stress period:    12    Time step:    10\n",
      " Solving:  Stress period:    13    Time step:     1\n",
      " Solving:  Stress period:    13    Time step:     2\n",
      " Solving:  Stress period:    13    Time step:     3\n",
      " Solving:  Stress period:    13    Time step:     4\n",
      " Solving:  Stress period:    13    Time step:     5\n",
      " Solving:  Stress period:    13    Time step:     6\n",
      " Solving:  Stress period:    13    Time step:     7\n",
      " Solving:  Stress period:    13    Time step:     8\n",
      " Solving:  Stress period:    13    Time step:     9\n",
      " Solving:  Stress period:    13    Time step:    10\n",
      " Solving:  Stress period:    14    Time step:     1\n",
      " Solving:  Stress period:    14    Time step:     2\n",
      " Solving:  Stress period:    14    Time step:     3\n",
      " Solving:  Stress period:    14    Time step:     4\n",
      " Solving:  Stress period:    14    Time step:     5\n",
      " Solving:  Stress period:    14    Time step:     6\n",
      " Solving:  Stress period:    14    Time step:     7\n"
     ]
    },
    {
     "name": "stdout",
     "output_type": "stream",
     "text": [
      " Solving:  Stress period:    14    Time step:     8\n",
      " Solving:  Stress period:    14    Time step:     9\n",
      " Solving:  Stress period:    14    Time step:    10\n",
      " Solving:  Stress period:    15    Time step:     1\n",
      " Solving:  Stress period:    15    Time step:     2\n",
      " Solving:  Stress period:    15    Time step:     3\n",
      " Solving:  Stress period:    15    Time step:     4\n",
      " Solving:  Stress period:    15    Time step:     5\n",
      " Solving:  Stress period:    15    Time step:     6\n",
      " Solving:  Stress period:    15    Time step:     7\n",
      " Solving:  Stress period:    15    Time step:     8\n",
      " Solving:  Stress period:    15    Time step:     9\n",
      " Solving:  Stress period:    15    Time step:    10\n",
      " Solving:  Stress period:    16    Time step:     1\n",
      " Solving:  Stress period:    16    Time step:     2\n",
      " Solving:  Stress period:    16    Time step:     3\n",
      " Solving:  Stress period:    16    Time step:     4\n",
      " Solving:  Stress period:    16    Time step:     5\n",
      " Solving:  Stress period:    16    Time step:     6\n",
      " Solving:  Stress period:    16    Time step:     7\n",
      " Solving:  Stress period:    16    Time step:     8\n",
      " Solving:  Stress period:    16    Time step:     9\n",
      " Solving:  Stress period:    16    Time step:    10\n",
      " Solving:  Stress period:    17    Time step:     1\n",
      " Solving:  Stress period:    17    Time step:     2\n",
      " Solving:  Stress period:    17    Time step:     3\n",
      " Solving:  Stress period:    17    Time step:     4\n",
      " Solving:  Stress period:    17    Time step:     5\n",
      " Solving:  Stress period:    17    Time step:     6\n",
      " Solving:  Stress period:    17    Time step:     7\n",
      " Solving:  Stress period:    17    Time step:     8\n",
      " Solving:  Stress period:    17    Time step:     9\n",
      " Solving:  Stress period:    17    Time step:    10\n",
      " Solving:  Stress period:    18    Time step:     1\n",
      " Solving:  Stress period:    18    Time step:     2\n",
      " Solving:  Stress period:    18    Time step:     3\n",
      " Solving:  Stress period:    18    Time step:     4\n",
      " Solving:  Stress period:    18    Time step:     5\n",
      " Solving:  Stress period:    18    Time step:     6\n",
      " Solving:  Stress period:    18    Time step:     7\n",
      " Solving:  Stress period:    18    Time step:     8\n",
      " Solving:  Stress period:    18    Time step:     9\n",
      " Solving:  Stress period:    18    Time step:    10\n",
      " Solving:  Stress period:    19    Time step:     1\n",
      " Solving:  Stress period:    19    Time step:     2\n",
      " Solving:  Stress period:    19    Time step:     3\n",
      " Solving:  Stress period:    19    Time step:     4\n",
      " Solving:  Stress period:    19    Time step:     5\n",
      " Solving:  Stress period:    19    Time step:     6\n",
      " Solving:  Stress period:    19    Time step:     7\n",
      " Solving:  Stress period:    19    Time step:     8\n",
      " Solving:  Stress period:    19    Time step:     9\n",
      " Solving:  Stress period:    19    Time step:    10\n",
      " Solving:  Stress period:    20    Time step:     1\n",
      " Solving:  Stress period:    20    Time step:     2\n",
      " Solving:  Stress period:    20    Time step:     3\n",
      " Solving:  Stress period:    20    Time step:     4\n",
      " Solving:  Stress period:    20    Time step:     5\n",
      " Solving:  Stress period:    20    Time step:     6\n",
      " Solving:  Stress period:    20    Time step:     7\n",
      " Solving:  Stress period:    20    Time step:     8\n",
      " Solving:  Stress period:    20    Time step:     9\n",
      " Solving:  Stress period:    20    Time step:    10\n",
      " Solving:  Stress period:    21    Time step:     1\n",
      " Solving:  Stress period:    21    Time step:     2\n",
      " Solving:  Stress period:    21    Time step:     3\n",
      " Solving:  Stress period:    21    Time step:     4\n",
      " Solving:  Stress period:    21    Time step:     5\n",
      " Solving:  Stress period:    21    Time step:     6\n",
      " Solving:  Stress period:    21    Time step:     7\n",
      " Solving:  Stress period:    21    Time step:     8\n",
      " Solving:  Stress period:    21    Time step:     9\n",
      " Solving:  Stress period:    21    Time step:    10\n",
      " Solving:  Stress period:    22    Time step:     1\n",
      " Solving:  Stress period:    22    Time step:     2\n",
      " Solving:  Stress period:    22    Time step:     3\n",
      " Solving:  Stress period:    22    Time step:     4\n",
      " Solving:  Stress period:    22    Time step:     5\n",
      " Solving:  Stress period:    22    Time step:     6\n",
      " Solving:  Stress period:    22    Time step:     7\n",
      " Solving:  Stress period:    22    Time step:     8\n",
      " Solving:  Stress period:    22    Time step:     9\n",
      " Solving:  Stress period:    22    Time step:    10\n",
      " Solving:  Stress period:    23    Time step:     1\n",
      " Solving:  Stress period:    23    Time step:     2\n",
      " Solving:  Stress period:    23    Time step:     3\n",
      " Solving:  Stress period:    23    Time step:     4\n",
      " Solving:  Stress period:    23    Time step:     5\n",
      " Solving:  Stress period:    23    Time step:     6\n",
      " Solving:  Stress period:    23    Time step:     7\n",
      " Solving:  Stress period:    23    Time step:     8\n",
      " Solving:  Stress period:    23    Time step:     9\n",
      " Solving:  Stress period:    23    Time step:    10\n",
      " Solving:  Stress period:    24    Time step:     1\n",
      " Solving:  Stress period:    24    Time step:     2\n",
      " Solving:  Stress period:    24    Time step:     3\n",
      " Solving:  Stress period:    24    Time step:     4\n",
      " Solving:  Stress period:    24    Time step:     5\n",
      " Solving:  Stress period:    24    Time step:     6\n",
      " Solving:  Stress period:    24    Time step:     7\n",
      " Solving:  Stress period:    24    Time step:     8\n",
      " Solving:  Stress period:    24    Time step:     9\n",
      " Solving:  Stress period:    24    Time step:    10\n",
      " Solving:  Stress period:    25    Time step:     1\n",
      " Solving:  Stress period:    25    Time step:     2\n",
      " Solving:  Stress period:    25    Time step:     3\n",
      " Solving:  Stress period:    25    Time step:     4\n",
      " Solving:  Stress period:    25    Time step:     5\n",
      " Solving:  Stress period:    25    Time step:     6\n",
      " Solving:  Stress period:    25    Time step:     7\n",
      " Solving:  Stress period:    25    Time step:     8\n",
      " Solving:  Stress period:    25    Time step:     9\n",
      " Solving:  Stress period:    25    Time step:    10\n",
      " Solving:  Stress period:    26    Time step:     1\n",
      " Solving:  Stress period:    26    Time step:     2\n",
      " Solving:  Stress period:    26    Time step:     3\n",
      " Solving:  Stress period:    26    Time step:     4\n",
      " Solving:  Stress period:    26    Time step:     5\n",
      " Solving:  Stress period:    26    Time step:     6\n",
      " Solving:  Stress period:    26    Time step:     7\n",
      " Solving:  Stress period:    26    Time step:     8\n",
      " Solving:  Stress period:    26    Time step:     9\n",
      " Solving:  Stress period:    26    Time step:    10\n",
      " Solving:  Stress period:    27    Time step:     1\n",
      " Solving:  Stress period:    27    Time step:     2\n",
      " Solving:  Stress period:    27    Time step:     3\n",
      " Solving:  Stress period:    27    Time step:     4\n",
      " Solving:  Stress period:    27    Time step:     5\n",
      " Solving:  Stress period:    27    Time step:     6\n",
      " Solving:  Stress period:    27    Time step:     7\n",
      " Solving:  Stress period:    27    Time step:     8\n",
      " Solving:  Stress period:    27    Time step:     9\n",
      " Solving:  Stress period:    27    Time step:    10\n",
      " Solving:  Stress period:    28    Time step:     1\n",
      " Solving:  Stress period:    28    Time step:     2\n",
      " Solving:  Stress period:    28    Time step:     3\n",
      " Solving:  Stress period:    28    Time step:     4\n",
      " Solving:  Stress period:    28    Time step:     5\n",
      " Solving:  Stress period:    28    Time step:     6\n",
      " Solving:  Stress period:    28    Time step:     7\n",
      " Solving:  Stress period:    28    Time step:     8\n",
      " Solving:  Stress period:    28    Time step:     9\n",
      " Solving:  Stress period:    28    Time step:    10\n",
      " Solving:  Stress period:    29    Time step:     1\n",
      " Solving:  Stress period:    29    Time step:     2\n",
      " Solving:  Stress period:    29    Time step:     3\n",
      " Solving:  Stress period:    29    Time step:     4\n",
      " Solving:  Stress period:    29    Time step:     5\n",
      " Solving:  Stress period:    29    Time step:     6\n",
      " Solving:  Stress period:    29    Time step:     7\n",
      " Solving:  Stress period:    29    Time step:     8\n",
      " Solving:  Stress period:    29    Time step:     9\n",
      " Solving:  Stress period:    29    Time step:    10\n",
      " Solving:  Stress period:    30    Time step:     1\n",
      " Solving:  Stress period:    30    Time step:     2\n",
      " Solving:  Stress period:    30    Time step:     3\n",
      " Solving:  Stress period:    30    Time step:     4\n",
      " Solving:  Stress period:    30    Time step:     5\n",
      " Solving:  Stress period:    30    Time step:     6\n",
      " Solving:  Stress period:    30    Time step:     7\n",
      " Solving:  Stress period:    30    Time step:     8\n",
      " Solving:  Stress period:    30    Time step:     9\n",
      " Solving:  Stress period:    30    Time step:    10\n",
      " Solving:  Stress period:    31    Time step:     1\n",
      " Solving:  Stress period:    31    Time step:     2\n",
      " Solving:  Stress period:    31    Time step:     3\n",
      " Solving:  Stress period:    31    Time step:     4\n",
      " Solving:  Stress period:    31    Time step:     5\n",
      " Solving:  Stress period:    31    Time step:     6\n",
      " Solving:  Stress period:    31    Time step:     7\n",
      " Solving:  Stress period:    31    Time step:     8\n"
     ]
    },
    {
     "name": "stdout",
     "output_type": "stream",
     "text": [
      " Solving:  Stress period:    31    Time step:     9\n",
      " Solving:  Stress period:    31    Time step:    10\n",
      " Solving:  Stress period:    32    Time step:     1\n",
      " Solving:  Stress period:    32    Time step:     2\n",
      " Solving:  Stress period:    32    Time step:     3\n",
      " Solving:  Stress period:    32    Time step:     4\n",
      " Solving:  Stress period:    32    Time step:     5\n",
      " Solving:  Stress period:    32    Time step:     6\n",
      " Solving:  Stress period:    32    Time step:     7\n",
      " Solving:  Stress period:    32    Time step:     8\n",
      " Solving:  Stress period:    32    Time step:     9\n",
      " Solving:  Stress period:    32    Time step:    10\n",
      " Solving:  Stress period:    33    Time step:     1\n",
      " Solving:  Stress period:    33    Time step:     2\n",
      " Solving:  Stress period:    33    Time step:     3\n",
      " Solving:  Stress period:    33    Time step:     4\n",
      " Solving:  Stress period:    33    Time step:     5\n",
      " Solving:  Stress period:    33    Time step:     6\n",
      " Solving:  Stress period:    33    Time step:     7\n",
      " Solving:  Stress period:    33    Time step:     8\n",
      " Solving:  Stress period:    33    Time step:     9\n",
      " Solving:  Stress period:    33    Time step:    10\n",
      " Solving:  Stress period:    34    Time step:     1\n",
      " Solving:  Stress period:    34    Time step:     2\n",
      " Solving:  Stress period:    34    Time step:     3\n",
      " Solving:  Stress period:    34    Time step:     4\n",
      " Solving:  Stress period:    34    Time step:     5\n",
      " Solving:  Stress period:    34    Time step:     6\n",
      " Solving:  Stress period:    34    Time step:     7\n",
      " Solving:  Stress period:    34    Time step:     8\n",
      " Solving:  Stress period:    34    Time step:     9\n",
      " Solving:  Stress period:    34    Time step:    10\n",
      " Solving:  Stress period:    35    Time step:     1\n",
      " Solving:  Stress period:    35    Time step:     2\n",
      " Solving:  Stress period:    35    Time step:     3\n",
      " Solving:  Stress period:    35    Time step:     4\n",
      " Solving:  Stress period:    35    Time step:     5\n",
      " Solving:  Stress period:    35    Time step:     6\n",
      " Solving:  Stress period:    35    Time step:     7\n",
      " Solving:  Stress period:    35    Time step:     8\n",
      " Solving:  Stress period:    35    Time step:     9\n",
      " Solving:  Stress period:    35    Time step:    10\n",
      " Solving:  Stress period:    36    Time step:     1\n",
      " Solving:  Stress period:    36    Time step:     2\n",
      " Solving:  Stress period:    36    Time step:     3\n",
      " Solving:  Stress period:    36    Time step:     4\n",
      " Solving:  Stress period:    36    Time step:     5\n",
      " Solving:  Stress period:    36    Time step:     6\n",
      " Solving:  Stress period:    36    Time step:     7\n",
      " Solving:  Stress period:    36    Time step:     8\n",
      " Solving:  Stress period:    36    Time step:     9\n",
      " Solving:  Stress period:    36    Time step:    10\n",
      " Run end date and time (yyyy/mm/dd hh:mm:ss): 2020/04/21 14:39:50\n",
      " Elapsed run time:  3.108 Seconds\n",
      "\n",
      " Normal termination of simulation.\n"
     ]
    },
    {
     "data": {
      "text/plain": [
       "(True, [])"
      ]
     },
     "execution_count": 11,
     "metadata": {},
     "output_type": "execute_result"
    }
   ],
   "source": [
    "sim.write_simulation()\n",
    "sim.run_simulation()"
   ]
  },
  {
   "cell_type": "code",
   "execution_count": 12,
   "metadata": {},
   "outputs": [
    {
     "data": {
      "text/plain": [
       "<matplotlib.collections.PathCollection at 0x2235b1cc988>"
      ]
     },
     "execution_count": 12,
     "metadata": {},
     "output_type": "execute_result"
    },
    {
     "data": {
      "image/png": "[encoded data removed]",
      "text/plain": [
       "<Figure size 432x288 with 2 Axes>"
      ]
     },
     "metadata": {
      "needs_background": "light"
     },
     "output_type": "display_data"
    }
   ],
   "source": [
    "hds_path = os.path.join(workspace, model_name + '.hds')\n",
    "hds = fp.utils.HeadFile(hds_path)\n",
    "head2 = hds.get_data(kstpkper=(5,1))\n",
    "plt.imshow(head2[0])\n",
    "plt.colorbar()\n",
    "plt.scatter(27,1,color=\"r\")"
   ]
  },
  {
   "cell_type": "code",
   "execution_count": 19,
   "metadata": {},
   "outputs": [
    {
     "data": {
      "image/png": "[encoded data removed]",
      "text/plain": [
       "<Figure size 432x288 with 1 Axes>"
      ]
     },
     "metadata": {
      "needs_background": "light"
     },
     "output_type": "display_data"
    }
   ],
   "source": [
    "i=0\n",
    "for it in hds.get_kstpkper():\n",
    "    head2 = hds.get_data(kstpkper=it)\n",
    "    i+=1\n",
    "    plt.scatter(i,head2[0,1,27])"
   ]
  },
  {
   "cell_type": "code",
   "execution_count": 14,
   "metadata": {},
   "outputs": [
    {
     "data": {
      "text/plain": [
       "[<matplotlib.lines.Line2D at 0x2235bcc6488>]"
      ]
     },
     "execution_count": 14,
     "metadata": {},
     "output_type": "execute_result"
    },
    {
     "data": {
      "image/png": "[encoded data removed]",
      "text/plain": [
       "<Figure size 432x288 with 1 Axes>"
      ]
     },
     "metadata": {
      "needs_background": "light"
     },
     "output_type": "display_data"
    }
   ],
   "source": [
    "#head cross section\n",
    "plt.plot(head2[0,5,:])"
   ]
  },
  {
   "cell_type": "code",
   "execution_count": 15,
   "metadata": {},
   "outputs": [],
   "source": [
    "#budget\n",
    "cbb_path = os.path.join(workspace, model_name + '.cbb')\n",
    "cbb = fp.utils.CellBudgetFile(cbb_path,precision=\"double\")\n"
   ]
  },
  {
   "cell_type": "code",
   "execution_count": 16,
   "metadata": {
    "scrolled": true
   },
   "outputs": [
    {
     "data": {
      "text/plain": [
       "Text(0, 0.5, 'head [m]')"
      ]
     },
     "execution_count": 16,
     "metadata": {},
     "output_type": "execute_result"
    },
    {
     "data": {
      "image/png": "[encoded data removed]",
      "text/plain": [
       "<Figure size 432x288 with 1 Axes>"
      ]
     },
     "metadata": {
      "needs_background": "light"
     },
     "output_type": "display_data"
    }
   ],
   "source": [
    "h = pd.read_csv(\"workspace/head_obs.csv\")[\"H1\"]\n",
    "t = pd.read_csv(\"workspace/head_obs.csv\")[\"time\"]\n",
    "plt.scatter(t,h,label=\"obs package\",marker=\"*\",s=4)\n",
    "\n",
    "plt.legend([\"obs package\"])\n",
    "plt.xlabel(\"time [days]\")\n",
    "plt.ylabel(\"head [m]\")"
   ]
  },
  {
   "cell_type": "code",
   "execution_count": 17,
   "metadata": {},
   "outputs": [],
   "source": [
    "head = hds.get_alldata()"
   ]
  },
  {
   "cell_type": "code",
   "execution_count": 18,
   "metadata": {},
   "outputs": [
    {
     "data": {
      "text/plain": [
       "(351, 1, 30, 30)"
      ]
     },
     "execution_count": 18,
     "metadata": {},
     "output_type": "execute_result"
    }
   ],
   "source": [
    "head.shape"
   ]
  },
  {
   "cell_type": "code",
   "execution_count": null,
   "metadata": {},
   "outputs": [],
   "source": [
    "def makePDF_animated(head,filename,vmin,vmax,title):\n",
    "    from matplotlib.backends.backend_pdf import PdfPages\n",
    "    with PdfPages('youpi.pdf') as pdfout:\n",
    "        for i, chead in enumerate(head):\n",
    "            printhead = np.squeeze(chead)\n",
    "            plt.figure(figsize=(8,8))\n",
    "            plt.imshow(printhead,\n",
    "                      interpolation='nearest',\n",
    "                      vmin=vmin,\n",
    "                      vmax=vmax)\n",
    "            plt.colorbar()\n",
    "            plt.title(title)\n",
    "            pdfout.savefig()\n",
    "            plt.close()"
   ]
  },
  {
   "cell_type": "code",
   "execution_count": null,
   "metadata": {},
   "outputs": [],
   "source": [
    "makePDF_animated(head,\"youpi\",24,28,\"put title here pls\")"
   ]
  }
 ],
 "metadata": {
  "kernelspec": {
   "display_name": "Python 3",
   "language": "python",
   "name": "python3"
  },
  "language_info": {
   "codemirror_mode": {
    "name": "ipython",
    "version": 3
   },
   "file_extension": ".py",
   "mimetype": "text/x-python",
   "name": "python",
   "nbconvert_exporter": "python",
   "pygments_lexer": "ipython3",
   "version": "3.7.4"
  }
 },
 "nbformat": 4,
 "nbformat_minor": 2
}
