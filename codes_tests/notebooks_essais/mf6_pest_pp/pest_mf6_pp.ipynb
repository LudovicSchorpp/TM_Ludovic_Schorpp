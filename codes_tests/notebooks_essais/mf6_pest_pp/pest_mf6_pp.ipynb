{
 "cells": [
  {
   "cell_type": "code",
   "execution_count": 23,
   "metadata": {},
   "outputs": [],
   "source": [
    "import flopy as fp\n",
    "import numpy as np\n",
    "import matplotlib.pyplot as plt\n",
    "plt.rcParams['font.size']=12\n",
    "import pandas as pd\n",
    "import os\n",
    "import sys"
   ]
  },
  {
   "cell_type": "code",
   "execution_count": 2,
   "metadata": {},
   "outputs": [],
   "source": [
    "workspace = \"workspace\"\n",
    "model_name = \"test_mf6_pst\"\n",
    "exe_name=\"../../exe/mf6.exe\"\n",
    "\n",
    "nrow = 10\n",
    "ncol = 10"
   ]
  },
  {
   "cell_type": "code",
   "execution_count": 3,
   "metadata": {},
   "outputs": [],
   "source": [
    "def model_run(k):\n",
    "    \n",
    "    # spatial param\n",
    "    nlay = 1\n",
    "    delc = 10\n",
    "    delr = 10\n",
    "    top = 10\n",
    "    botm = 0\n",
    "\n",
    "    # packages\n",
    "    sim = fp.mf6.MFSimulation(sim_name=model_name, version='mf6', exe_name=exe_name, \n",
    "                                 sim_ws=workspace)\n",
    "    tdis = fp.mf6.ModflowTdis(sim, pname='tdis', time_units='SECONDS', \n",
    "                                 nper=1, perioddata=[(1.0, 1, 1.0)])\n",
    "    gwf = fp.mf6.ModflowGwf(sim, modelname=model_name,\n",
    "                               model_nam_file='{}.nam'.format(model_name))\n",
    "    dis = fp.mf6.ModflowGwfdis(gwf, nlay=nlay, nrow=nrow, ncol=ncol,\n",
    "                                  delr=delr, delc=delc,top=top, botm=botm)\n",
    "    ims  = fp.mf6.ModflowIms(sim, print_option='SUMMARY', complexity=\"simple\")\n",
    "    ic   = fp.mf6.ModflowGwfic(gwf,strt=botm+1)\n",
    "\n",
    "    oc   = fp.mf6.ModflowGwfoc(gwf,budget_filerecord='{}.cbc'.format(model_name),\n",
    "                                head_filerecord='{}.hds'.format(model_name),\n",
    "                                saverecord=[('HEAD', 'LAST'),\n",
    "                                            ('BUDGET', 'LAST')],\n",
    "                                printrecord=[('HEAD', 'ALL')])\n",
    "    \n",
    "\n",
    "    npf  = fp.mf6.ModflowGwfnpf(gwf, icelltype=0, k=k,save_flows=True)\n",
    "    \n",
    "    #bc\n",
    "    chd = []\n",
    "    for irow in range(nrow):\n",
    "        chd.append(((0,irow,0),10))\n",
    "        chd.append(((0,irow,ncol-1),0))\n",
    "    chd = fp.mf6.ModflowGwfchd(gwf,pname=\"chd\",filename=\"bc.chd\",maxbound=len(chd),stress_period_data=chd,save_flows=True)\n",
    "    \n",
    "    \n",
    "    \n",
    "    lst_pts = []\n",
    "    for irow in range(1,nrow-1):\n",
    "        for icol in range(1,ncol-1):\n",
    "            lst_pts.append((0,irow,icol))\n",
    "            \n",
    "    obs_lst1=[]\n",
    "    for pts in lst_pts:\n",
    "        obs_lst1.append((\"0_{}_{}\".format(pts[1],pts[2]),\"HEAD\",pts))\n",
    "\n",
    "    obs_recarray = {('heads.csv'):obs_lst1}\n",
    "    obs_package = fp.mf6.ModflowUtlobs(gwf, pname='head_obs', filename='{}.obs'.format(model_name), \n",
    "                                          digits=10, print_input=True,\n",
    "                                          continuous=obs_recarray)\n",
    "    \n",
    "    \n",
    "    sim.write_simulation(silent=True)\n",
    "    sim.run_simulation()"
   ]
  },
  {
   "cell_type": "code",
   "execution_count": 4,
   "metadata": {},
   "outputs": [
    {
     "data": {
      "text/plain": [
       "array([1.29923666e-04, 4.84621460e-05, 8.46043905e-05, 7.33924303e-06,\n",
       "       1.43692740e-06, 1.02058229e-05, 2.42770050e-04, 1.93518783e-07,\n",
       "       9.80553523e-06, 8.31029325e-06, 8.23909584e-05, 5.59893989e-05,\n",
       "       4.24000821e-05, 2.05270714e-04, 4.50658043e-06, 1.37469726e-05,\n",
       "       8.04213544e-07, 2.23606910e-06, 7.72786147e-06, 5.65652413e-06,\n",
       "       3.33506234e-05, 2.56703658e-05, 2.23254965e-05, 1.64325182e-06,\n",
       "       4.69027711e-07, 2.41079647e-05, 2.48525061e-04, 1.02481753e-05,\n",
       "       2.48249240e-04, 1.71274350e-05, 3.30297031e-05, 3.80304843e-05,\n",
       "       4.26715151e-05, 1.40675353e-05, 8.17094778e-07, 1.72875141e-05,\n",
       "       2.65527458e-04, 1.47245255e-04, 1.84428119e-05, 8.08790934e-05,\n",
       "       3.56184332e-05, 1.53795512e-05, 7.96602674e-05, 1.37966986e-06,\n",
       "       1.23142400e-05, 2.98675750e-05, 1.17382479e-04, 2.26433244e-05,\n",
       "       1.50141828e-05, 5.77798085e-07, 2.33582426e-04, 7.27272789e-05,\n",
       "       1.91933145e-05, 3.48019037e-06, 1.20549523e-04, 3.41229628e-06,\n",
       "       2.20289989e-05, 1.61348104e-05, 8.95794636e-05, 3.37886279e-05,\n",
       "       9.08470769e-05, 7.03580973e-06, 3.68848924e-05, 6.47329067e-05,\n",
       "       5.65582532e-06, 7.18045998e-06, 1.89589797e-06, 1.80965550e-06,\n",
       "       1.45901335e-04, 5.88568344e-05, 4.28598447e-05, 1.38912721e-05,\n",
       "       6.33505815e-06, 2.72341867e-05, 2.94118136e-07, 1.01783978e-04,\n",
       "       1.94680269e-05, 6.76713559e-05, 4.94360299e-05, 8.93743406e-05,\n",
       "       1.03537980e-05, 1.07613258e-05, 2.40373956e-04, 3.19241040e-05,\n",
       "       3.18371278e-06, 6.82896191e-05, 2.29899700e-05, 3.98047986e-05,\n",
       "       3.51781164e-06, 2.85929794e-05, 1.28442935e-05, 1.62274725e-05,\n",
       "       3.53983578e-06, 1.45992949e-04, 3.14041748e-05, 5.75686104e-06,\n",
       "       5.19053144e-05, 4.74820739e-06, 9.28769652e-06, 7.86657226e-05])"
      ]
     },
     "execution_count": 4,
     "metadata": {},
     "output_type": "execute_result"
    }
   ],
   "source": [
    "np.random.seed(4)\n",
    "-1e-4*np.random.rand(nrow*ncol)*np.log(np.random.rand(nrow*ncol)) "
   ]
  },
  {
   "cell_type": "code",
   "execution_count": 5,
   "metadata": {},
   "outputs": [
    {
     "name": "stdout",
     "output_type": "stream",
     "text": [
      "FloPy is using the following  executable to run the model: ../../exe/mf6.exe\n",
      "                                   MODFLOW 6\n",
      "                U.S. GEOLOGICAL SURVEY MODULAR HYDROLOGIC MODEL\n",
      "                            VERSION 6.0.4 03/13/2019\n",
      "\n",
      "   MODFLOW 6 compiled Mar 21 2019 15:37:31 with IFORT compiler (ver. 19.0.0)\n",
      "\n",
      "This software has been approved for release by the U.S. Geological \n",
      "Survey (USGS). Although the software has been subjected to rigorous \n",
      "review, the USGS reserves the right to update the software as needed \n",
      "pursuant to further analysis and review. No warranty, expressed or \n",
      "implied, is made by the USGS or the U.S. Government as to the \n",
      "functionality of the software and related material nor shall the \n",
      "fact of release constitute any such warranty. Furthermore, the \n",
      "software is released on condition that neither the USGS nor the U.S. \n",
      "Government shall be held liable for any damages resulting from its \n",
      "authorized or unauthorized use. Also refer to the USGS Water \n",
      "Resources Software User Rights Notice for complete use, copyright, \n",
      "and distribution information.\n",
      "\n",
      " Run start date and time (yyyy/mm/dd hh:mm:ss): 2020/06/28  9:33:53\n",
      "\n",
      " Writing simulation list file: mfsim.lst\n",
      " Using Simulation name file: mfsim.nam\n",
      " Solving:  Stress period:     1    Time step:     1\n",
      " Run end date and time (yyyy/mm/dd hh:mm:ss): 2020/06/28  9:33:53\n",
      " Elapsed run time:  0.201 Seconds\n",
      "\n",
      " Normal termination of simulation.\n"
     ]
    }
   ],
   "source": [
    "# generate random permeability array for the inversion\n",
    "np.random.seed(4)\n",
    "k = -1e-4*np.random.rand(nrow*ncol)*np.log(np.random.rand(nrow*ncol)) \n",
    "filnm = \"k.txt\"\n",
    "np.savetxt(os.path.join(workspace,filnm),k)\n",
    "model_run(filnm)"
   ]
  },
  {
   "cell_type": "code",
   "execution_count": 6,
   "metadata": {},
   "outputs": [
    {
     "data": {
      "text/plain": [
       "<matplotlib.image.AxesImage at 0x21f9a7b9c08>"
      ]
     },
     "execution_count": 6,
     "metadata": {},
     "output_type": "execute_result"
    },
    {
     "data": {
      "image/png": "[encoded data removed]",
      "text/plain": [
       "<Figure size 432x288 with 1 Axes>"
      ]
     },
     "metadata": {
      "needs_background": "light"
     },
     "output_type": "display_data"
    }
   ],
   "source": [
    "plt.imshow(fp.utils.HeadFile(\"workspace/test_mf6_pst.hds\").get_data((0,0))[0])"
   ]
  },
  {
   "cell_type": "markdown",
   "metadata": {},
   "source": [
    "Setup PEST"
   ]
  },
  {
   "cell_type": "code",
   "execution_count": 7,
   "metadata": {},
   "outputs": [],
   "source": [
    "import pyemu"
   ]
  },
  {
   "cell_type": "code",
   "execution_count": 8,
   "metadata": {},
   "outputs": [
    {
     "name": "stdout",
     "output_type": "stream",
     "text": [
      "loading simulation...\n",
      "  loading simulation name file...\n",
      "  loading tdis package...\n",
      "  loading model gwf6...\n",
      "    loading package dis...\n",
      "    loading package ic...\n",
      "    loading package oc...\n",
      "    loading package npf...\n",
      "    loading package chd...\n",
      "    loading package obs...\n",
      "  loading ims package test_mf6_pst...\n"
     ]
    }
   ],
   "source": [
    "sim = fp.mf6.MFSimulation.load(sim_ws=workspace)\n",
    "m = sim.get_model(\"test_mf6_pst\")"
   ]
  },
  {
   "cell_type": "markdown",
   "metadata": {},
   "source": [
    "Get spatialReference"
   ]
  },
  {
   "cell_type": "code",
   "execution_count": 9,
   "metadata": {},
   "outputs": [
    {
     "name": "stdout",
     "output_type": "stream",
     "text": [
      "   could not remove start_datetime\n"
     ]
    },
    {
     "data": {
      "text/plain": [
       "xul:0; yul:100; rotation:0; proj4_str:None; units:meters; lenuni:2; length_multiplier:1.0"
      ]
     },
     "execution_count": 9,
     "metadata": {},
     "output_type": "execute_result"
    }
   ],
   "source": [
    "sr = pyemu.helpers.SpatialReference.from_namfile(\n",
    "        os.path.join(workspace, \"{}.nam\".format(model_name)),\n",
    "        delr=m.dis.delr.array, delc=m.dis.delc.array)\n",
    "sr"
   ]
  },
  {
   "cell_type": "code",
   "execution_count": 10,
   "metadata": {},
   "outputs": [
    {
     "name": "stdout",
     "output_type": "stream",
     "text": [
      "2020-06-28 09:46:58.091069 starting: opening PstFrom.log for logging\n",
      "2020-06-28 09:46:58.091069 starting PstFrom process\n",
      "2020-06-28 09:46:58.101131 starting: setting up dirs\n",
      "2020-06-28 09:46:58.109167 starting: removing existing new_d 'template'\n",
      "2020-06-28 09:46:58.139337 finished: removing existing new_d 'template' took: 0:00:00.030170\n",
      "2020-06-28 09:46:58.139337 starting: copying original_d 'workspace' to new_d 'template'\n",
      "2020-06-28 09:46:58.161475 finished: copying original_d 'workspace' to new_d 'template' took: 0:00:00.022138\n",
      "2020-06-28 09:46:58.161475 finished: setting up dirs took: 0:00:00.060344\n"
     ]
    }
   ],
   "source": [
    "# empty pst from object\n",
    "template_ws = \"template\"\n",
    "pf = pyemu.prototypes.PstFrom(original_d=workspace, new_d=template_ws,\n",
    "                 remove_existing=True,\n",
    "                 longnames=True, spatial_reference=sr,\n",
    "                 zero_based=False)"
   ]
  },
  {
   "cell_type": "code",
   "execution_count": 11,
   "metadata": {},
   "outputs": [
    {
     "name": "stdout",
     "output_type": "stream",
     "text": [
      "2020-06-28 09:46:58.350785 starting: adding observations from tabular output file\n",
      "2020-06-28 09:46:58.350785 starting: reading list template\\heads.csv\n",
      "2020-06-28 09:46:58.352808 finished: reading list template\\heads.csv took: 0:00:00.002023\n",
      "2020-06-28 09:46:58.360849 starting: building insfile for tabular output file heads.csv\n",
      "2020-06-28 09:46:58.433333 finished: building insfile for tabular output file heads.csv took: 0:00:00.072484\n",
      "2020-06-28 09:46:58.433333 starting: adding observation from instruction file 'template\\heads.csv.ins'\n",
      "2020-06-28 09:46:58.463563 finished: adding observation from instruction file 'template\\heads.csv.ins' took: 0:00:00.030230\n",
      "2020-06-28 09:46:58.463563 finished: adding observations from tabular output file took: 0:00:00.112778\n"
     ]
    }
   ],
   "source": [
    "#add observation\n",
    "df = pd.read_csv(os.path.join(template_ws,\"heads.csv\"),index_col=0)\n",
    "\n",
    "hds_df = pf.add_observations(\"heads.csv\",insfile=\"heads.csv.ins\",index_cols=\"time\",\n",
    "                use_cols=list(df.columns.values),prefix=\"hds\",obsgp=False)\n",
    "\n",
    "# pf.obs_dfs[0].iloc[1:5,2]=0.5 # change weight for fun"
   ]
  },
  {
   "cell_type": "code",
   "execution_count": 12,
   "metadata": {},
   "outputs": [
    {
     "name": "stdout",
     "output_type": "stream",
     "text": [
      "noptmax:30, npar_adj:0, nnz_obs:64\n"
     ]
    },
    {
     "data": {
      "text/plain": [
       "<pyemu.pst.pst_handler.Pst at 0x21f9e213408>"
      ]
     },
     "execution_count": 12,
     "metadata": {},
     "output_type": "execute_result"
    }
   ],
   "source": [
    "case = \"mf6_test_1\"\n",
    "pf.build_pst(\"{}.pst\".format(case))"
   ]
  },
  {
   "cell_type": "markdown",
   "metadata": {},
   "source": [
    "#### Parameters"
   ]
  },
  {
   "cell_type": "code",
   "execution_count": 24,
   "metadata": {},
   "outputs": [
    {
     "name": "stdout",
     "output_type": "stream",
     "text": [
      "spatial variogram\n"
     ]
    },
    {
     "data": {
      "image/png": "[encoded data removed]",
      "text/plain": [
       "<Figure size 576x288 with 1 Axes>"
      ]
     },
     "metadata": {
      "needs_background": "light"
     },
     "output_type": "display_data"
    }
   ],
   "source": [
    "v = pyemu.geostats.ExpVario(contribution=1.0,a=20)\n",
    "grid_gs = pyemu.geostats.GeoStruct(variograms=v, transform='log')\n",
    "\n",
    "fig = plt.figure(figsize=(8,4))\n",
    "grid_gs.plot()\n",
    "print(\"spatial variogram\")"
   ]
  },
  {
   "cell_type": "code",
   "execution_count": 14,
   "metadata": {},
   "outputs": [
    {
     "data": {
      "text/plain": [
       "['k.txt']"
      ]
     },
     "execution_count": 14,
     "metadata": {},
     "output_type": "execute_result"
    }
   ],
   "source": [
    "hk_arr_files = [f for f in os.listdir(template_ws) if \"k\" in f and f.endswith(\".txt\")]\n",
    "hk_arr_files"
   ]
  },
  {
   "cell_type": "code",
   "execution_count": 15,
   "metadata": {},
   "outputs": [],
   "source": [
    "# set an homogeneous k array (as initial value)\n",
    "k = 1e-4*np.ones([nrow,ncol])\n",
    "filnm = \"k.txt\"\n",
    "np.savetxt(os.path.join(template_ws,filnm),k)"
   ]
  },
  {
   "cell_type": "code",
   "execution_count": 16,
   "metadata": {
    "scrolled": true
   },
   "outputs": [
    {
     "name": "stdout",
     "output_type": "stream",
     "text": [
      "2020-06-28 09:47:00.385663 starting: adding pilotpoint type multiplier style parameters for file(s) ['k.txt']\n",
      "2020-06-28 09:47:00.387687 starting: loading array template\\k.txt\n",
      "2020-06-28 09:47:00.387687 finished: loading array template\\k.txt took: 0:00:00\n",
      "2020-06-28 09:47:00.387687 loaded array 'k.txt' of shape (10, 10)\n",
      "2020-06-28 09:47:00.387687 starting: writing array-based template file 'kp_inst0_pilotpoint.csv.tpl'\n",
      "2020-06-28 09:47:00.387687 starting: setting up pilot point parameters\n",
      "2020-06-28 09:47:00.387687 No spatial reference (containing cell spacing) passed.\n",
      "2020-06-28 09:47:00.395719 OK - using spatial reference in parent object.\n",
      "ibound not passed, using array of ones\n",
      "2020-06-28 09:47:00.578982 16 pilot point parameters created\n",
      "2020-06-28 09:47:00.578982 pilot point 'pargp':kp_inst:0\n",
      "2020-06-28 09:47:00.578982 finished: setting up pilot point parameters took: 0:00:00.191295\n",
      "2020-06-28 09:47:00.599104 starting: calculating factors for pargp=kp_inst:0\n",
      "2020-06-28 09:47:00.599104 saving krige variance file:template\\kp_inst0pp.var.dat\n",
      "2020-06-28 09:47:00.599104 saving krige factors file:template\\kp_inst0pp.fac\n",
      "starting interp point loop for 100 points\n",
      "starting 0\n",
      "starting 1\n",
      "starting 2\n",
      "starting 3\n",
      "starting 4\n",
      "starting 5\n",
      "starting 6\n",
      "starting 7\n",
      "starting 8\n",
      "starting 9\n",
      "took 8.595502 seconds\n",
      "2020-06-28 09:47:09.214760 finished: calculating factors for pargp=kp_inst:0 took: 0:00:08.615656\n",
      "2020-06-28 09:47:09.214760 starting: writing array-based template file 'kp_inst0pp.dat.tpl'\n",
      "2020-06-28 09:47:09.355820 starting: adding parameters for file(s) ['k.txt']\n"
     ]
    }
   ],
   "source": [
    "pf.add_parameters(filenames=\"k.txt\",par_type=\"pilotpoint\",pp_space=2,\n",
    "                   par_name_base=\"kp\",pargp=\"hp\",\n",
    "                   upper_bound=10.,lower_bound=0.1,ult_ubound=1e-3,ult_lbound=1e-6,geostruct=grid_gs)"
   ]
  },
  {
   "cell_type": "code",
   "execution_count": 17,
   "metadata": {},
   "outputs": [
    {
     "name": "stdout",
     "output_type": "stream",
     "text": [
      "noptmax:30, npar_adj:16, nnz_obs:64\n"
     ]
    },
    {
     "data": {
      "text/plain": [
       "<pyemu.pst.pst_handler.Pst at 0x21f9a258d88>"
      ]
     },
     "execution_count": 17,
     "metadata": {},
     "output_type": "execute_result"
    }
   ],
   "source": [
    "pf.build_pst(\"{}.pst\".format(case))"
   ]
  },
  {
   "cell_type": "code",
   "execution_count": 18,
   "metadata": {},
   "outputs": [
    {
     "name": "stdout",
     "output_type": "stream",
     "text": [
      "noptmax:30, npar_adj:16, nnz_obs:64\n",
      "2020-06-28 09:47:10.211963 forward_run line:pyemu.os_utils.run(r'..\\mf6')\n",
      "\n"
     ]
    },
    {
     "data": {
      "text/plain": [
       "<pyemu.pst.pst_handler.Pst at 0x21f9a508ec8>"
      ]
     },
     "execution_count": 18,
     "metadata": {},
     "output_type": "execute_result"
    }
   ],
   "source": [
    "# add run model command\n",
    "pf.mod_sys_cmds.append(\"..\\mf6\")\n",
    "pf.build_pst(\"{}.pst\".format(case))"
   ]
  },
  {
   "cell_type": "code",
   "execution_count": 19,
   "metadata": {},
   "outputs": [],
   "source": [
    "#Rewrite ins file because Pyemu isn't smart enough\n",
    "\n",
    "file = \"template/heads.csv.ins\"\n",
    "fileout = \"template/heads2.csv.ins\"\n",
    "with open(file) as f:\n",
    "    with open(fileout,\"w\") as fout:\n",
    "        for i,line in enumerate(f):\n",
    "            if i < 2:\n",
    "                fout.write(line)\n",
    "            if i > 1:\n",
    "                for o,split in enumerate(line.split(\"w\")):\n",
    "                    if o == 1:\n",
    "                        fout.write(\"~,~\")\n",
    "                    fout.write(split)\n",
    "                        \n",
    "from shutil import copyfile\n",
    "copyfile(fileout, file) # copy \n",
    "os.remove(fileout) # delete tmp file"
   ]
  },
  {
   "cell_type": "code",
   "execution_count": 35,
   "metadata": {
    "scrolled": false
   },
   "outputs": [
    {
     "name": "stdout",
     "output_type": "stream",
     "text": [
      "noptmax:30, npar_adj:16, nnz_obs:64\n",
      "2020-06-28 11:17:18.307738 WARNING: sys_cmd 'pyemu.os_utils.run(r'..\\mf6')\n",
      "' already in sys cmds, skipping...\n",
      "2020-06-28 11:17:18.307738 starting: building prior covariance matrix\n",
      "2020-06-28 11:17:18.323364 saving prior covariance matrix to file template\\mf6_test_1.prior.cov\n",
      "2020-06-28 11:17:18.323364 finished: building prior covariance matrix took: 0:00:00.015626\n"
     ]
    },
    {
     "data": {
      "image/png": "[encoded data removed]",
      "text/plain": [
       "<Figure size 504x504 with 1 Axes>"
      ]
     },
     "metadata": {
      "needs_background": "light"
     },
     "output_type": "display_data"
    }
   ],
   "source": [
    "pst = pf.build_pst(\"{}.pst\".format(case))\n",
    "cov = pf.build_prior()\n",
    "x = cov.x.copy()\n",
    "x[x==0.0] = np.NaN\n",
    "fig,ax = plt.subplots(1,1,figsize=(7,7))\n",
    "g = ax.imshow(x)"
   ]
  },
  {
   "cell_type": "code",
   "execution_count": 29,
   "metadata": {},
   "outputs": [
    {
     "name": "stdout",
     "output_type": "stream",
     "text": [
      "2020-06-28 09:58:25.422353 starting: drawing realizations\n",
      "2020-06-28 09:58:25.430388 starting: spectral simulation for grid-scale pars\n",
      "2020-06-28 09:58:25.432448 finished: spectral simulation for grid-scale pars took: 0:00:00.002060\n",
      "building diagonal cov\n",
      "processing  name:struct1,nugget:0.0,structures:\n",
      "name:var1,contribution:1.0,a:20.0,anisotropy:1.0,bearing:0.0\n",
      "\n",
      "working on pargroups ['kp_inst:0']\n",
      "build cov matrix\n",
      "done\n",
      "getting diag var cov 16\n",
      "scaling full cov by diag var cov\n",
      "adding remaining parameters to diagonal\n",
      "2020-06-28 09:58:25.472727 finished: drawing realizations took: 0:00:00.050374\n"
     ]
    }
   ],
   "source": [
    "pe = pf.draw(num_reals=100,use_specsim=True)"
   ]
  },
  {
   "cell_type": "code",
   "execution_count": 30,
   "metadata": {},
   "outputs": [
    {
     "name": "stdout",
     "output_type": "stream",
     "text": [
      "0     2.086913\n",
      "1     0.746829\n",
      "2     1.063467\n",
      "3     1.499560\n",
      "4     2.770342\n",
      "        ...   \n",
      "95    0.925538\n",
      "96    1.234135\n",
      "97    0.850076\n",
      "98    0.975223\n",
      "99    0.559196\n",
      "Name: kp_inst:0_i:1_j:1, Length: 100, dtype: float64\n"
     ]
    },
    {
     "data": {
      "text/plain": [
       "<matplotlib.axes._subplots.AxesSubplot at 0x21f9eadd788>"
      ]
     },
     "execution_count": 30,
     "metadata": {},
     "output_type": "execute_result"
    },
    {
     "data": {
      "image/png": "[encoded data removed]",
      "text/plain": [
       "<Figure size 432x288 with 1 Axes>"
      ]
     },
     "metadata": {
      "needs_background": "light"
     },
     "output_type": "display_data"
    }
   ],
   "source": [
    "print(pe.loc[:,pst.adj_par_names[0]])\n",
    "pe.loc[:,pst.adj_par_names[0]]._df.hist()"
   ]
  },
  {
   "cell_type": "code",
   "execution_count": 31,
   "metadata": {},
   "outputs": [
    {
     "name": "stdout",
     "output_type": "stream",
     "text": [
      "noptmax:-1, npar_adj:16, nnz_obs:64\n"
     ]
    }
   ],
   "source": [
    "t_d = \"template\"\n",
    "m_d = \"master_glm\"\n",
    "\n",
    "pst.control_data.noptmax = -1 # FOR JACOBIAN\n",
    "pst.write(os.path.join(t_d,\"{}.pst\".format(case)))"
   ]
  },
  {
   "cell_type": "code",
   "execution_count": 21,
   "metadata": {},
   "outputs": [],
   "source": [
    "#pyemu.os_utils.start_workers(t_d,\"../pestpp-glm.exe\",\"mf6_test_1.pst\",num_workers=1,worker_root=\".\",master_dir=m_d)"
   ]
  },
  {
   "cell_type": "code",
   "execution_count": 32,
   "metadata": {},
   "outputs": [],
   "source": [
    "# fill JACOBIAN\n",
    "pyemu.os_utils.run(\"..\\pestpp-glm.exe {}\".format(case),cwd=\"template\")"
   ]
  }
 ],
 "metadata": {
  "kernelspec": {
   "display_name": "Python 3",
   "language": "python",
   "name": "python3"
  },
  "language_info": {
   "codemirror_mode": {
    "name": "ipython",
    "version": 3
   },
   "file_extension": ".py",
   "mimetype": "text/x-python",
   "name": "python",
   "nbconvert_exporter": "python",
   "pygments_lexer": "ipython3",
   "version": "3.7.4"
  }
 },
 "nbformat": 4,
 "nbformat_minor": 2
}
