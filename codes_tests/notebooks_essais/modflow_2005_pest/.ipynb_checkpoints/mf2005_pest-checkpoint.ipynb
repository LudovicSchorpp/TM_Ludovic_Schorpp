{
 "cells": [
  {
   "cell_type": "code",
   "execution_count": 59,
   "metadata": {},
   "outputs": [],
   "source": [
    "import flopy as fp\n",
    "import matplotlib.pyplot as plt\n",
    "import numpy as np\n",
    "import pandas as pd"
   ]
  },
  {
   "cell_type": "code",
   "execution_count": 60,
   "metadata": {},
   "outputs": [],
   "source": [
    "# Define the model dimensions\n",
    "nlay = 1\n",
    "nrow = 10\n",
    "ncol = 10\n",
    "delr=10\n",
    "delc=10\n",
    "\n",
    "# Create the flopy model object and add the dis and lpf packages\n",
    "m = fp.modflow.Modflow(modelname='mf2005_pst', model_ws='workspace',exe_name=\"../../exe/mf2005.exe\")\n",
    "dis = fp.modflow.ModflowDis(m, nlay, nrow, ncol,delr=delr,delc=delc,top=10,botm=0)\n",
    "lpf = fp.modflow.ModflowLpf(m, hk=1e-4*np.ones([nrow,ncol]))\n",
    "\n",
    "#bc\n",
    "ibound=np.ones([nrow,ncol])\n",
    "strt = np.ones([nrow,ncol])\n",
    "for irow in range(nrow):\n",
    "    ibound[irow,0]=-1\n",
    "    strt[irow,0] = 10\n",
    "    \n",
    "    strt[irow,ncol-1]=0\n",
    "    ibound[irow,ncol-1]=-1\n",
    "bas = fp.modflow.ModflowBas(m,ibound=ibound,strt=strt)\n",
    "\n",
    "pcg = fp.modflow.ModflowPcg(m)\n",
    "oc = fp.modflow.ModflowOc(m,stress_period_data={(0,0):[\"save head\"]})"
   ]
  },
  {
   "cell_type": "code",
   "execution_count": 61,
   "metadata": {
    "scrolled": true
   },
   "outputs": [
    {
     "name": "stdout",
     "output_type": "stream",
     "text": [
      "FloPy is using the following  executable to run the model: ../../exe/mf2005.exe\n",
      "\n",
      "                                  MODFLOW-2005     \n",
      "    U.S. GEOLOGICAL SURVEY MODULAR FINITE-DIFFERENCE GROUND-WATER FLOW MODEL\n",
      "                             Version 1.12.00 2/3/2017                        \n",
      "\n",
      " Using NAME file: mf2005_pst.nam \n",
      " Run start date and time (yyyy/mm/dd hh:mm:ss): 2020/06/16 21:53:46\n",
      "\n",
      " Solving:  Stress period:     1    Time step:     1    Ground-Water Flow Eqn.\n",
      " Run end date and time (yyyy/mm/dd hh:mm:ss): 2020/06/16 21:53:46\n",
      " Elapsed run time:  0.037 Seconds\n",
      "\n",
      "  Normal termination of simulation\n"
     ]
    },
    {
     "data": {
      "text/plain": [
       "(True, [])"
      ]
     },
     "execution_count": 61,
     "metadata": {},
     "output_type": "execute_result"
    }
   ],
   "source": [
    "m.write_input()\n",
    "m.run_model()"
   ]
  },
  {
   "cell_type": "code",
   "execution_count": 4,
   "metadata": {},
   "outputs": [
    {
     "data": {
      "text/plain": [
       "<matplotlib.image.AxesImage at 0x18953aaec88>"
      ]
     },
     "execution_count": 4,
     "metadata": {},
     "output_type": "execute_result"
    },
    {
     "data": {
      "image/png": "[encoded data removed]",
      "text/plain": [
       "<Figure size 432x288 with 1 Axes>"
      ]
     },
     "metadata": {
      "needs_background": "light"
     },
     "output_type": "display_data"
    }
   ],
   "source": [
    "plt.imshow(fp.utils.HeadFile(\"workspace/mf2005_pst.hds\").get_data((0,0))[0])"
   ]
  },
  {
   "cell_type": "code",
   "execution_count": 5,
   "metadata": {},
   "outputs": [
    {
     "name": "stdout",
     "output_type": "stream",
     "text": [
      "WARNING: unit 15 of package LPF already in use\n",
      "****Warning -- two packages of the same type:  <class 'flopy.modflow.mflpf.ModflowLpf'> <class 'flopy.modflow.mflpf.ModflowLpf'>\n",
      "replacing existing Package...\n",
      "FloPy is using the following  executable to run the model: ../../exe/mf2005.exe\n",
      "\n",
      "                                  MODFLOW-2005     \n",
      "    U.S. GEOLOGICAL SURVEY MODULAR FINITE-DIFFERENCE GROUND-WATER FLOW MODEL\n",
      "                             Version 1.12.00 2/3/2017                        \n",
      "\n",
      " Using NAME file: mf2005_pst.nam \n",
      " Run start date and time (yyyy/mm/dd hh:mm:ss): 2020/06/16 21:34:13\n",
      "\n",
      " Solving:  Stress period:     1    Time step:     1    Ground-Water Flow Eqn.\n",
      " Run end date and time (yyyy/mm/dd hh:mm:ss): 2020/06/16 21:34:13\n",
      " Elapsed run time:  0.037 Seconds\n",
      "\n",
      "  Normal termination of simulation\n"
     ]
    },
    {
     "data": {
      "text/plain": [
       "(True, [])"
      ]
     },
     "execution_count": 5,
     "metadata": {},
     "output_type": "execute_result"
    }
   ],
   "source": [
    "k = -1e-4*np.random.rand(nrow*ncol)*np.log(np.random.rand(nrow*ncol))\n",
    "lpf = fp.modflow.ModflowLpf(m, hk=k.reshape(nrow,ncol))\n",
    "m.write_input()\n",
    "m.run_model()"
   ]
  },
  {
   "cell_type": "code",
   "execution_count": 6,
   "metadata": {},
   "outputs": [
    {
     "data": {
      "text/plain": [
       "<matplotlib.image.AxesImage at 0x18953b5cd08>"
      ]
     },
     "execution_count": 6,
     "metadata": {},
     "output_type": "execute_result"
    },
    {
     "data": {
      "image/png": "[encoded data removed]",
      "text/plain": [
       "<Figure size 432x288 with 1 Axes>"
      ]
     },
     "metadata": {
      "needs_background": "light"
     },
     "output_type": "display_data"
    }
   ],
   "source": [
    "plt.imshow(fp.utils.HeadFile(\"workspace/mf2005_pst.hds\").get_data((0,0))[0])"
   ]
  },
  {
   "cell_type": "code",
   "execution_count": 96,
   "metadata": {},
   "outputs": [],
   "source": [
    "# tpl file\n",
    "\n",
    "#set each cell as parameter\n",
    "file = \"workspace/mf2005_pst.lpf.tpl\"\n",
    "base_file = \"workspace/mf2005_pst.lpf\"\n",
    "\n",
    "i=0\n",
    "with open(base_file,\"r\") as fb,open(file,\"w\") as f:\n",
    "    f.write(\"ptf ~ \\n\")\n",
    "    for line in fb:\n",
    "        i += 1\n",
    "        if i > 8: break\n",
    "        f.write(line)\n",
    "    for irow in range(nrow):\n",
    "        for icol in range(ncol):\n",
    "            if icol == ncol-1:\n",
    "                f.write(\"~  kh{}_{}     ~ \\n\".format(irow,icol))\n",
    "            else:\n",
    "                f.write(\"~  kh{}_{}     ~ \".format(irow,icol))\n",
    "    \n",
    "    for line in fb:\n",
    "        i += 1\n",
    "        if i >18:\n",
    "            f.write(line)\n",
    "#open(file).readlines()"
   ]
  },
  {
   "cell_type": "code",
   "execution_count": null,
   "metadata": {},
   "outputs": [],
   "source": []
  }
 ],
 "metadata": {
  "kernelspec": {
   "display_name": "Python 3",
   "language": "python",
   "name": "python3"
  },
  "language_info": {
   "codemirror_mode": {
    "name": "ipython",
    "version": 3
   },
   "file_extension": ".py",
   "mimetype": "text/x-python",
   "name": "python",
   "nbconvert_exporter": "python",
   "pygments_lexer": "ipython3",
   "version": "3.7.4"
  }
 },
 "nbformat": 4,
 "nbformat_minor": 2
}
