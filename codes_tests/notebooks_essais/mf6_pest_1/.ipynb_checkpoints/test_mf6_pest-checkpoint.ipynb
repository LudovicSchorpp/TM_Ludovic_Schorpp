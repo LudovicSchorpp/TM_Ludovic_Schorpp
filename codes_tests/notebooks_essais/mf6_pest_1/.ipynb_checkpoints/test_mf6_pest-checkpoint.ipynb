{
 "cells": [
  {
   "cell_type": "code",
   "execution_count": 1,
   "metadata": {},
   "outputs": [
    {
     "name": "stdout",
     "output_type": "stream",
     "text": [
      "flopy is installed in C:\\Users\\emmal\\Anaconda3\\lib\\site-packages\\flopy\n"
     ]
    }
   ],
   "source": [
    "import flopy as fp\n",
    "import numpy as np\n",
    "import matplotlib.pyplot as plt\n",
    "import pandas as pd\n",
    "import os\n",
    "import sys"
   ]
  },
  {
   "cell_type": "code",
   "execution_count": 2,
   "metadata": {},
   "outputs": [],
   "source": [
    "workspace = \"workspace\"\n",
    "model_name = \"test_mf6_pst\"\n",
    "exe_name=\"../../exe/mf6.exe\"\n",
    "\n",
    "nrow = 10\n",
    "ncol = 10"
   ]
  },
  {
   "cell_type": "code",
   "execution_count": 3,
   "metadata": {},
   "outputs": [],
   "source": [
    "def model_run(k):\n",
    "    \n",
    "    # spatial param\n",
    "    nlay = 1\n",
    "    delc = 10\n",
    "    delr = 10\n",
    "    top = 10\n",
    "    botm = 0\n",
    "\n",
    "    # packages\n",
    "    sim = fp.mf6.MFSimulation(sim_name=model_name, version='mf6', exe_name=exe_name, \n",
    "                                 sim_ws=workspace)\n",
    "    tdis = fp.mf6.ModflowTdis(sim, pname='tdis', time_units='SECONDS', \n",
    "                                 nper=1, perioddata=[(1.0, 1, 1.0)])\n",
    "    gwf = fp.mf6.ModflowGwf(sim, modelname=model_name,\n",
    "                               model_nam_file='{}.nam'.format(model_name))\n",
    "    dis = fp.mf6.ModflowGwfdis(gwf, nlay=nlay, nrow=nrow, ncol=ncol,\n",
    "                                  delr=delr, delc=delc,top=top, botm=botm)\n",
    "    ims  = fp.mf6.ModflowIms(sim, print_option='SUMMARY', complexity=\"simple\")\n",
    "    ic   = fp.mf6.ModflowGwfic(gwf,strt=botm+1)\n",
    "\n",
    "    oc   = fp.mf6.ModflowGwfoc(gwf,budget_filerecord='{}.cbc'.format(model_name),\n",
    "                                head_filerecord='{}.hds'.format(model_name),\n",
    "                                saverecord=[('HEAD', 'LAST'),\n",
    "                                            ('BUDGET', 'LAST')],\n",
    "                                printrecord=[('HEAD', 'ALL')])\n",
    "    \n",
    "\n",
    "    npf  = fp.mf6.ModflowGwfnpf(gwf, icelltype=0, k=k,save_flows=True)\n",
    "    \n",
    "    #bc\n",
    "    chd = []\n",
    "    for irow in range(nrow):\n",
    "        chd.append(((0,irow,0),10))\n",
    "        chd.append(((0,irow,ncol-1),0))\n",
    "    chd = fp.mf6.ModflowGwfchd(gwf,pname=\"chd\",filename=\"bc.chd\",maxbound=len(chd),stress_period_data=chd,save_flows=True)\n",
    "    \n",
    "    \n",
    "    \n",
    "    lst_pts = []\n",
    "    for irow in range(1,nrow-1):\n",
    "        for icol in range(1,ncol-1):\n",
    "            lst_pts.append((0,irow,icol))\n",
    "            \n",
    "    obs_lst1=[]\n",
    "    for pts in lst_pts:\n",
    "        obs_lst1.append((\"0_{}_{}\".format(pts[1],pts[2]),\"HEAD\",pts))\n",
    "\n",
    "    obs_recarray = {('heads.csv'):obs_lst1}\n",
    "    obs_package = fp.mf6.ModflowUtlobs(gwf, pname='head_obs', filename='{}.obs'.format(model_name), \n",
    "                                          digits=10, print_input=True,\n",
    "                                          continuous=obs_recarray)\n",
    "    \n",
    "    \n",
    "    sim.write_simulation(silent=True)\n",
    "    sim.run_simulation()"
   ]
  },
  {
   "cell_type": "code",
   "execution_count": 4,
   "metadata": {},
   "outputs": [
    {
     "name": "stdout",
     "output_type": "stream",
     "text": [
      "FloPy is using the following  executable to run the model: ../../exe/mf6.exe\n",
      "                                   MODFLOW 6\n",
      "                U.S. GEOLOGICAL SURVEY MODULAR HYDROLOGIC MODEL\n",
      "                            VERSION 6.0.4 03/13/2019\n",
      "\n",
      "   MODFLOW 6 compiled Mar 21 2019 15:37:31 with IFORT compiler (ver. 19.0.0)\n",
      "\n",
      "This software has been approved for release by the U.S. Geological \n",
      "Survey (USGS). Although the software has been subjected to rigorous \n",
      "review, the USGS reserves the right to update the software as needed \n",
      "pursuant to further analysis and review. No warranty, expressed or \n",
      "implied, is made by the USGS or the U.S. Government as to the \n",
      "functionality of the software and related material nor shall the \n",
      "fact of release constitute any such warranty. Furthermore, the \n",
      "software is released on condition that neither the USGS nor the U.S. \n",
      "Government shall be held liable for any damages resulting from its \n",
      "authorized or unauthorized use. Also refer to the USGS Water \n",
      "Resources Software User Rights Notice for complete use, copyright, \n",
      "and distribution information.\n",
      "\n",
      " Run start date and time (yyyy/mm/dd hh:mm:ss): 2020/06/24 11:32:55\n",
      "\n",
      " Writing simulation list file: mfsim.lst\n",
      " Using Simulation name file: mfsim.nam\n",
      " Solving:  Stress period:     1    Time step:     1\n",
      " Run end date and time (yyyy/mm/dd hh:mm:ss): 2020/06/24 11:32:55\n",
      " Elapsed run time:  0.030 Seconds\n",
      "\n",
      " Normal termination of simulation.\n"
     ]
    }
   ],
   "source": [
    "# generate random permeability array for the inversion\n",
    "np.random.seed(4)\n",
    "k = -1e-4*np.random.rand(nrow*ncol)*np.log(np.random.rand(nrow*ncol)) \n",
    "filnm = \"k.txt\"\n",
    "np.savetxt(os.path.join(workspace,filnm),k)\n",
    "model_run(filnm)"
   ]
  },
  {
   "cell_type": "code",
   "execution_count": 5,
   "metadata": {},
   "outputs": [
    {
     "data": {
      "text/plain": [
       "<matplotlib.image.AxesImage at 0x21d2cc1d8c8>"
      ]
     },
     "execution_count": 5,
     "metadata": {},
     "output_type": "execute_result"
    },
    {
     "data": {
      "image/png": "[encoded data removed]",
      "text/plain": [
       "<Figure size 432x288 with 1 Axes>"
      ]
     },
     "metadata": {
      "needs_background": "light"
     },
     "output_type": "display_data"
    }
   ],
   "source": [
    "plt.imshow(fp.utils.HeadFile(\"workspace/test_mf6_pst.hds\").get_data((0,0))[0])"
   ]
  },
  {
   "cell_type": "markdown",
   "metadata": {},
   "source": [
    "Setup PEST"
   ]
  },
  {
   "cell_type": "code",
   "execution_count": 6,
   "metadata": {},
   "outputs": [],
   "source": [
    "import pyemu"
   ]
  },
  {
   "cell_type": "code",
   "execution_count": 7,
   "metadata": {},
   "outputs": [
    {
     "name": "stdout",
     "output_type": "stream",
     "text": [
      "loading simulation...\n",
      "  loading simulation name file...\n",
      "  loading tdis package...\n",
      "  loading model gwf6...\n",
      "    loading package dis...\n",
      "    loading package ic...\n",
      "    loading package oc...\n",
      "    loading package npf...\n",
      "    loading package chd...\n",
      "    loading package obs...\n",
      "  loading ims package test_mf6_pst...\n"
     ]
    }
   ],
   "source": [
    "sim = fp.mf6.MFSimulation.load(sim_ws=workspace)\n",
    "m = sim.get_model(\"test_mf6_pst\")"
   ]
  },
  {
   "cell_type": "markdown",
   "metadata": {},
   "source": [
    "Get spatialReference"
   ]
  },
  {
   "cell_type": "code",
   "execution_count": 8,
   "metadata": {},
   "outputs": [
    {
     "name": "stdout",
     "output_type": "stream",
     "text": [
      "   could not remove start_datetime\n"
     ]
    },
    {
     "data": {
      "text/plain": [
       "xul:0; yul:100; rotation:0; proj4_str:None; units:meters; lenuni:2; length_multiplier:1.0"
      ]
     },
     "execution_count": 8,
     "metadata": {},
     "output_type": "execute_result"
    }
   ],
   "source": [
    "sr = pyemu.helpers.SpatialReference.from_namfile(\n",
    "        os.path.join(workspace, \"{}.nam\".format(model_name)),\n",
    "        delr=m.dis.delr.array, delc=m.dis.delc.array)\n",
    "sr"
   ]
  },
  {
   "cell_type": "code",
   "execution_count": 11,
   "metadata": {},
   "outputs": [
    {
     "name": "stdout",
     "output_type": "stream",
     "text": [
      "2020-06-24 11:33:55.025766 starting: opening PstFrom.log for logging\n",
      "2020-06-24 11:33:55.025766 starting PstFrom process\n",
      "2020-06-24 11:33:55.025766 starting: setting up dirs\n",
      "2020-06-24 11:33:55.025766 starting: removing existing new_d 'template'\n",
      "2020-06-24 11:33:55.033809 finished: removing existing new_d 'template' took: 0:00:00.008043\n",
      "2020-06-24 11:33:55.033809 starting: copying original_d 'workspace' to new_d 'template'\n",
      "2020-06-24 11:33:55.055969 finished: copying original_d 'workspace' to new_d 'template' took: 0:00:00.022160\n",
      "2020-06-24 11:33:55.055969 finished: setting up dirs took: 0:00:00.030203\n"
     ]
    }
   ],
   "source": [
    "# empty pst from object\n",
    "template_ws = \"template\"\n",
    "pf = pyemu.prototypes.PstFrom(original_d=workspace, new_d=template_ws,\n",
    "                 remove_existing=True,\n",
    "                 longnames=True, spatial_reference=sr,\n",
    "                 zero_based=False)"
   ]
  },
  {
   "cell_type": "code",
   "execution_count": 12,
   "metadata": {},
   "outputs": [
    {
     "name": "stdout",
     "output_type": "stream",
     "text": [
      "2020-06-24 11:33:56.313817 starting: adding observations from tabular output file\n",
      "2020-06-24 11:33:56.313817 starting: reading list template\\heads.csv\n",
      "2020-06-24 11:33:56.318367 finished: reading list template\\heads.csv took: 0:00:00.004550\n",
      "2020-06-24 11:33:56.318367 starting: building insfile for tabular output file heads.csv\n",
      "2020-06-24 11:33:56.353255 finished: building insfile for tabular output file heads.csv took: 0:00:00.034888\n",
      "2020-06-24 11:33:56.353255 starting: adding observation from instruction file 'template\\heads.csv.ins'\n",
      "2020-06-24 11:33:56.368494 finished: adding observation from instruction file 'template\\heads.csv.ins' took: 0:00:00.015239\n",
      "2020-06-24 11:33:56.368494 finished: adding observations from tabular output file took: 0:00:00.054677\n"
     ]
    }
   ],
   "source": [
    "#add observation\n",
    "df = pd.read_csv(os.path.join(template_ws,\"heads.csv\"),index_col=0)\n",
    "\n",
    "hds_df = pf.add_observations(\"heads.csv\",insfile=\"heads.csv.ins\",index_cols=\"time\",\n",
    "                use_cols=list(df.columns.values),prefix=\"hds\",obsgp=False)\n",
    "\n",
    "# pf.obs_dfs[0].iloc[1:5,2]=0.5 # change weight for fun"
   ]
  },
  {
   "cell_type": "code",
   "execution_count": 13,
   "metadata": {},
   "outputs": [
    {
     "name": "stdout",
     "output_type": "stream",
     "text": [
      "noptmax:30, npar_adj:0, nnz_obs:64\n"
     ]
    },
    {
     "data": {
      "text/plain": [
       "<pyemu.pst.pst_handler.Pst at 0x21d2df9efc8>"
      ]
     },
     "execution_count": 13,
     "metadata": {},
     "output_type": "execute_result"
    }
   ],
   "source": [
    "pf.build_pst(\"mf6_test_1.pst\")"
   ]
  },
  {
   "cell_type": "markdown",
   "metadata": {},
   "source": [
    "#### Parameters"
   ]
  },
  {
   "cell_type": "code",
   "execution_count": 14,
   "metadata": {},
   "outputs": [
    {
     "name": "stdout",
     "output_type": "stream",
     "text": [
      "spatial variogram\n"
     ]
    },
    {
     "data": {
      "image/png": "[encoded data removed]",
      "text/plain": [
       "<Figure size 576x288 with 1 Axes>"
      ]
     },
     "metadata": {
      "needs_background": "light"
     },
     "output_type": "display_data"
    }
   ],
   "source": [
    "v = pyemu.geostats.ExpVario(contribution=1.0,a=20)\n",
    "grid_gs = pyemu.geostats.GeoStruct(variograms=v, transform='log')\n",
    "\n",
    "fig = plt.figure(figsize=(8,4))\n",
    "grid_gs.plot()\n",
    "print(\"spatial variogram\")"
   ]
  },
  {
   "cell_type": "code",
   "execution_count": 15,
   "metadata": {},
   "outputs": [
    {
     "data": {
      "text/plain": [
       "['k.txt']"
      ]
     },
     "execution_count": 15,
     "metadata": {},
     "output_type": "execute_result"
    }
   ],
   "source": [
    "hk_arr_files = [f for f in os.listdir(template_ws) if \"k\" in f and f.endswith(\".txt\")]\n",
    "hk_arr_files"
   ]
  },
  {
   "cell_type": "code",
   "execution_count": 16,
   "metadata": {},
   "outputs": [],
   "source": [
    "# set an homogeneous k array (as initial value)\n",
    "k = 1e-4*np.ones([nrow,ncol])\n",
    "filnm = \"k.txt\"\n",
    "np.savetxt(os.path.join(template_ws,filnm),k)"
   ]
  },
  {
   "cell_type": "code",
   "execution_count": 17,
   "metadata": {},
   "outputs": [
    {
     "name": "stdout",
     "output_type": "stream",
     "text": [
      "2020-06-24 11:34:02.798521 starting: adding grid type multiplier style parameters for file(s) ['k.txt']\n",
      "2020-06-24 11:34:02.801554 starting: loading array template\\k.txt\n",
      "2020-06-24 11:34:02.803560 finished: loading array template\\k.txt took: 0:00:00.002006\n",
      "2020-06-24 11:34:02.803579 loaded array 'k.txt' of shape (10, 10)\n",
      "2020-06-24 11:34:02.803579 starting: writing array-based template file 'hk_inst0_grid.csv.tpl'\n",
      "2020-06-24 11:34:02.803579 starting: writing template file hk_inst0_grid.csv.tpl for ['hk_inst:0']\n",
      "2020-06-24 11:34:02.828718 finished: writing template file hk_inst0_grid.csv.tpl for ['hk_inst:0'] took: 0:00:00.025139\n",
      "2020-06-24 11:34:02.828718 finished: writing array-based template file 'hk_inst0_grid.csv.tpl' took: 0:00:00.025139\n",
      "2020-06-24 11:34:02.851893 starting: adding parameters for file(s) ['k.txt']\n"
     ]
    }
   ],
   "source": [
    "pf.add_parameters(filenames=\"k.txt\",par_type=\"grid\",\n",
    "                   par_name_base=\"hk\",pargp=\"hk\",zone_array=None,\n",
    "                   upper_bound=10.,lower_bound=0.1,ult_ubound=100,ult_lbound=0.01,geostruct=grid_gs)"
   ]
  },
  {
   "cell_type": "code",
   "execution_count": 18,
   "metadata": {},
   "outputs": [
    {
     "name": "stdout",
     "output_type": "stream",
     "text": [
      "noptmax:30, npar_adj:100, nnz_obs:64\n"
     ]
    }
   ],
   "source": [
    "pst = pf.build_pst(\"mf6_test_1.pst\")"
   ]
  },
  {
   "cell_type": "code",
   "execution_count": 19,
   "metadata": {},
   "outputs": [
    {
     "name": "stdout",
     "output_type": "stream",
     "text": [
      "noptmax:30, npar_adj:100, nnz_obs:64\n",
      "2020-06-24 11:34:06.026251 forward_run line:pyemu.os_utils.run(r'..\\mf6')\n",
      "\n"
     ]
    }
   ],
   "source": [
    "# add run model\n",
    "pf.mod_sys_cmds.append(\"..\\mf6\")\n",
    "pst = pf.build_pst()"
   ]
  },
  {
   "cell_type": "code",
   "execution_count": null,
   "metadata": {
    "scrolled": false
   },
   "outputs": [],
   "source": [
    "pst = pf.build_pst('mf6_test_1.pst')\n",
    "cov = pf.build_prior()\n",
    "x = cov.x.copy()\n",
    "x[x==0.0] = np.NaN\n",
    "fig,ax = plt.subplots(1,1,figsize=(7,7))\n",
    "g = ax.imshow(x)"
   ]
  },
  {
   "cell_type": "code",
   "execution_count": 26,
   "metadata": {},
   "outputs": [
    {
     "name": "stdout",
     "output_type": "stream",
     "text": [
      "noptmax:-1, npar_adj:100, nnz_obs:64\n"
     ]
    }
   ],
   "source": [
    "t_d = \"template\"\n",
    "m_d = \"master_glm\"\n",
    "\n",
    "pst.control_data.noptmax = -1\n",
    "pst.write(os.path.join(t_d,\"mf6_test_1.pst\"))"
   ]
  },
  {
   "cell_type": "code",
   "execution_count": null,
   "metadata": {},
   "outputs": [],
   "source": [
    "#pyemu.os_utils.start_workers(t_d,\"../pestpp-glm.exe\",\"mf6_test_1.pst\",num_workers=1,worker_root=\".\",master_dir=m_d)"
   ]
  },
  {
   "cell_type": "code",
   "execution_count": 28,
   "metadata": {},
   "outputs": [
    {
     "ename": "Exception",
     "evalue": "run() returned non-zero: 1",
     "output_type": "error",
     "traceback": [
      "\u001b[1;31m---------------------------------------------------------------------------\u001b[0m",
      "\u001b[1;31mException\u001b[0m                                 Traceback (most recent call last)",
      "\u001b[1;32m<ipython-input-28-9767a218cade>\u001b[0m in \u001b[0;36m<module>\u001b[1;34m\u001b[0m\n\u001b[1;32m----> 1\u001b[1;33m \u001b[0mpyemu\u001b[0m\u001b[1;33m.\u001b[0m\u001b[0mos_utils\u001b[0m\u001b[1;33m.\u001b[0m\u001b[0mrun\u001b[0m\u001b[1;33m(\u001b[0m\u001b[1;34m\"..\\pestpp-glm.exe mf6_test_1\"\u001b[0m\u001b[1;33m,\u001b[0m\u001b[0mcwd\u001b[0m\u001b[1;33m=\u001b[0m\u001b[1;34m\"template\"\u001b[0m\u001b[1;33m)\u001b[0m\u001b[1;33m\u001b[0m\u001b[1;33m\u001b[0m\u001b[0m\n\u001b[0m",
      "\u001b[1;32m~\\Anaconda3\\lib\\site-packages\\pyemu\\utils\\os_utils.py\u001b[0m in \u001b[0;36mrun\u001b[1;34m(cmd_str, cwd, verbose)\u001b[0m\n\u001b[0;32m    125\u001b[0m     \u001b[1;32mif\u001b[0m \u001b[1;34m\"window\"\u001b[0m \u001b[1;32min\u001b[0m \u001b[0mplatform\u001b[0m\u001b[1;33m.\u001b[0m\u001b[0mplatform\u001b[0m\u001b[1;33m(\u001b[0m\u001b[1;33m)\u001b[0m\u001b[1;33m.\u001b[0m\u001b[0mlower\u001b[0m\u001b[1;33m(\u001b[0m\u001b[1;33m)\u001b[0m\u001b[1;33m:\u001b[0m\u001b[1;33m\u001b[0m\u001b[1;33m\u001b[0m\u001b[0m\n\u001b[0;32m    126\u001b[0m         \u001b[1;32mif\u001b[0m \u001b[0mret_val\u001b[0m \u001b[1;33m!=\u001b[0m \u001b[1;36m0\u001b[0m\u001b[1;33m:\u001b[0m\u001b[1;33m\u001b[0m\u001b[1;33m\u001b[0m\u001b[0m\n\u001b[1;32m--> 127\u001b[1;33m             \u001b[1;32mraise\u001b[0m \u001b[0mException\u001b[0m\u001b[1;33m(\u001b[0m\u001b[1;34m\"run() returned non-zero: {0}\"\u001b[0m\u001b[1;33m.\u001b[0m\u001b[0mformat\u001b[0m\u001b[1;33m(\u001b[0m\u001b[0mret_val\u001b[0m\u001b[1;33m)\u001b[0m\u001b[1;33m)\u001b[0m\u001b[1;33m\u001b[0m\u001b[1;33m\u001b[0m\u001b[0m\n\u001b[0m\u001b[0;32m    128\u001b[0m     \u001b[1;32melse\u001b[0m\u001b[1;33m:\u001b[0m\u001b[1;33m\u001b[0m\u001b[1;33m\u001b[0m\u001b[0m\n\u001b[0;32m    129\u001b[0m         \u001b[0mestat\u001b[0m \u001b[1;33m=\u001b[0m \u001b[0mos\u001b[0m\u001b[1;33m.\u001b[0m\u001b[0mWEXITSTATUS\u001b[0m\u001b[1;33m(\u001b[0m\u001b[0mret_val\u001b[0m\u001b[1;33m)\u001b[0m\u001b[1;33m\u001b[0m\u001b[1;33m\u001b[0m\u001b[0m\n",
      "\u001b[1;31mException\u001b[0m: run() returned non-zero: 1"
     ]
    }
   ],
   "source": [
    "pyemu.os_utils.run(\"..\\pestpp-glm.exe mf6_test_1\",cwd=\"template\")"
   ]
  },
  {
   "cell_type": "code",
   "execution_count": null,
   "metadata": {},
   "outputs": [],
   "source": []
  }
 ],
 "metadata": {
  "kernelspec": {
   "display_name": "Python 3",
   "language": "python",
   "name": "python3"
  }
 },
 "nbformat": 4,
 "nbformat_minor": 2
}
