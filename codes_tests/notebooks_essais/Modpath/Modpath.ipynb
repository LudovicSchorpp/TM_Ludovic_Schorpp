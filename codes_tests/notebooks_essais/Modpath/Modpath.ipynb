{
 "cells": [
  {
   "cell_type": "code",
   "execution_count": 1,
   "metadata": {},
   "outputs": [
    {
     "name": "stdout",
     "output_type": "stream",
     "text": [
      "flopy is installed in C:\\Users\\emmal\\Anaconda3\\lib\\site-packages\\flopy\n"
     ]
    }
   ],
   "source": [
    "import sys\n",
    "import os\n",
    "import numpy as np\n",
    "import matplotlib as mpl\n",
    "import matplotlib.pyplot as plt\n",
    "import flopy"
   ]
  },
  {
   "cell_type": "code",
   "execution_count": 7,
   "metadata": {},
   "outputs": [],
   "source": [
    "mpexe = \"../../exe/mp7.exe\"\n",
    "mfexe = \"../../exe/mf6.exe\"\n",
    "model_dir=\"working\"\n",
    "model_name=\"test_modpath\""
   ]
  },
  {
   "cell_type": "code",
   "execution_count": 18,
   "metadata": {},
   "outputs": [],
   "source": [
    "nper, nstp, perlen, tsmult = 1, 1, 1., 1.\n",
    "nlay, nrow, ncol = 3, 21, 20\n",
    "delr = delc = 500.\n",
    "top = 400.\n",
    "botm = [220., 200., 0.]\n",
    "laytyp = [1, 0, 0]\n",
    "kh = [50., 0.01, 200.]\n",
    "kv = [10., 0.01, 20.]\n",
    "\n",
    "wel_loc = (2, 10, 9)\n",
    "wel_q = -150000.\n",
    "\n",
    "rch = 0.005\n",
    "riv_h = 320.\n",
    "riv_z = 317.\n",
    "riv_c = 1.e5"
   ]
  },
  {
   "cell_type": "code",
   "execution_count": 19,
   "metadata": {},
   "outputs": [],
   "source": [
    "def get_nodes(locs):\n",
    "    nodes = []\n",
    "    for k, i, j in locs:\n",
    "        nodes.append(k * nrow * ncol + i * ncol + j)\n",
    "    return nodes"
   ]
  },
  {
   "cell_type": "code",
   "execution_count": 21,
   "metadata": {},
   "outputs": [
    {
     "name": "stdout",
     "output_type": "stream",
     "text": [
      "writing simulation...\n",
      "  writing simulation name file...\n",
      "  writing simulation tdis package...\n",
      "  writing ims package ims...\n",
      "  writing model test_modpath...\n",
      "    writing model name file...\n",
      "    writing package dis...\n",
      "    writing package ic...\n",
      "    writing package npf...\n",
      "    writing package rcha...\n",
      "    writing package wel_0...\n",
      "    writing package riv_0...\n",
      "    writing package oc...\n",
      "FloPy is using the following  executable to run the model: ../../exe/mf6.exe\n",
      "                                   MODFLOW 6\n",
      "                U.S. GEOLOGICAL SURVEY MODULAR HYDROLOGIC MODEL\n",
      "                            VERSION 6.0.4 03/13/2019\n",
      "\n",
      "   MODFLOW 6 compiled Mar 21 2019 15:37:31 with IFORT compiler (ver. 19.0.0)\n",
      "\n",
      "This software has been approved for release by the U.S. Geological \n",
      "Survey (USGS). Although the software has been subjected to rigorous \n",
      "review, the USGS reserves the right to update the software as needed \n",
      "pursuant to further analysis and review. No warranty, expressed or \n",
      "implied, is made by the USGS or the U.S. Government as to the \n",
      "functionality of the software and related material nor shall the \n",
      "fact of release constitute any such warranty. Furthermore, the \n",
      "software is released on condition that neither the USGS nor the U.S. \n",
      "Government shall be held liable for any damages resulting from its \n",
      "authorized or unauthorized use. Also refer to the USGS Water \n",
      "Resources Software User Rights Notice for complete use, copyright, \n",
      "and distribution information.\n",
      "\n",
      " Run start date and time (yyyy/mm/dd hh:mm:ss): 2020/05/21 17:25:20\n",
      "\n",
      " Writing simulation list file: mfsim.lst\n",
      " Using Simulation name file: mfsim.nam\n",
      " Solving:  Stress period:     1    Time step:     1\n",
      " Run end date and time (yyyy/mm/dd hh:mm:ss): 2020/05/21 17:25:20\n",
      " Elapsed run time:  0.043 Seconds\n",
      "\n",
      " Normal termination of simulation.\n"
     ]
    }
   ],
   "source": [
    "# Create the Flopy simulation object\n",
    "sim = flopy.mf6.MFSimulation(sim_name=model_name, exe_name=mfexe,\n",
    "                             version='mf6', sim_ws=model_dir)\n",
    "\n",
    "# Create the Flopy temporal discretization object\n",
    "periodd = (perlen, nstp, tsmult)\n",
    "tdis = flopy.mf6.modflow.mftdis.ModflowTdis(sim, pname='tdis',\n",
    "                                            time_units='DAYS', nper=nper,\n",
    "                                            perioddata=[periodd])\n",
    "\n",
    "model_nam_file = '{}.nam'.format(model_name)\n",
    "gwf = flopy.mf6.ModflowGwf(sim, modelname=model_name,\n",
    "                           model_nam_file=model_nam_file, save_flows=True)\n",
    "\n",
    "# Create the Flopy iterative model solver (ims) Package object\n",
    "ims = flopy.mf6.modflow.mfims.ModflowIms(sim, pname='ims', \n",
    "                                         complexity='SIMPLE')\n",
    "\n",
    "\n",
    "# create gwf file\n",
    "dis = flopy.mf6.modflow.mfgwfdis.ModflowGwfdis(gwf, pname='dis', nlay=nlay,\n",
    "                                               nrow=nrow, ncol=ncol,\n",
    "                                               delr=delr, delc=delc,\n",
    "                                               top=top,\n",
    "                                               botm=botm)\n",
    "\n",
    "# Create the initial conditions package\n",
    "ic = flopy.mf6.modflow.mfgwfic.ModflowGwfic(gwf, pname='ic', strt=top)\n",
    "\n",
    "# Create the node property flow package\n",
    "npf = flopy.mf6.modflow.mfgwfnpf.ModflowGwfnpf(gwf, pname='npf',\n",
    "                                               icelltype=laytyp, k=kh,\n",
    "                                               k33=kv)\n",
    "\n",
    "# recharge\n",
    "flopy.mf6.modflow.mfgwfrcha.ModflowGwfrcha(gwf, recharge=rch)\n",
    "\n",
    "# wel\n",
    "wd = [(wel_loc, wel_q)]\n",
    "wel=flopy.mf6.modflow.mfgwfwel.ModflowGwfwel(gwf, maxbound=1,\n",
    "                                         stress_period_data={0: wd})\n",
    "\n",
    "# river\n",
    "rd = []\n",
    "for i in range(nrow):\n",
    "    rd.append([(0, i, ncol - 1), riv_h, riv_c, riv_z])\n",
    "riv = flopy.mf6.modflow.mfgwfriv.ModflowGwfriv(gwf, maxbound=len(rd),stress_period_data={0: rd})\n",
    "\n",
    "# Create the output control package\n",
    "headfile = '{}.hds'.format(model_name)\n",
    "head_record = [headfile]\n",
    "budgetfile = '{}.cbc'.format(model_name)\n",
    "budget_record = [budgetfile]\n",
    "saverecord = [('HEAD', 'ALL'),\n",
    "              ('BUDGET', 'ALL')]\n",
    "oc = flopy.mf6.modflow.mfgwfoc.ModflowGwfoc(gwf, pname='oc',\n",
    "                                            saverecord=saverecord,\n",
    "                                            head_filerecord=head_record,\n",
    "                                            budget_filerecord=budget_record)\n",
    "\n",
    "# Write the datasets\n",
    "sim.write_simulation()\n",
    "# Run the simulation\n",
    "success, buff = sim.run_simulation()"
   ]
  },
  {
   "cell_type": "code",
   "execution_count": 25,
   "metadata": {},
   "outputs": [],
   "source": [
    "nodew = get_nodes([wel_loc])\n",
    "cellids = gwf.riv.stress_period_data.get_data()[0]['cellid']\n",
    "nodesr = get_nodes(cellids)"
   ]
  },
  {
   "cell_type": "code",
   "execution_count": 28,
   "metadata": {},
   "outputs": [
    {
     "name": "stdout",
     "output_type": "stream",
     "text": [
      "FloPy is using the following  executable to run the model: ../../exe/mp7.exe\n",
      "\n",
      "MODPATH Version 7.2.001   \n",
      "Program compiled Mar 21 2019 15:41:25 with IFORT compiler (ver. 19.0.0)         \n",
      " \n",
      " \n",
      "Run particle tracking simulation ...\n",
      "Processing Time Step     1 Period     1.  Time =  1.00000E+00  Steady-state flow                                                    \n",
      "\n",
      "Particle Summary:\n",
      "         0 particles are pending release.\n",
      "         0 particles remain active.\n",
      "         0 particles terminated at boundary faces.\n",
      "         0 particles terminated at weak sink cells.\n",
      "         0 particles terminated at weak source cells.\n",
      "      1260 particles terminated at strong source/sink cells.\n",
      "         0 particles terminated in cells with a specified zone number.\n",
      "         0 particles were stranded in inactive or dry cells.\n",
      "         0 particles were unreleased.\n",
      "         0 particles have an unknown status.\n",
      " \n",
      "Normal termination.                                                        \n"
     ]
    },
    {
     "data": {
      "text/plain": [
       "(True, [])"
      ]
     },
     "execution_count": 28,
     "metadata": {},
     "output_type": "execute_result"
    }
   ],
   "source": [
    "##forward \n",
    "\n",
    "# create modpath files\n",
    "mpnamf = model_name + '_mp_forward'\n",
    "\n",
    "# create basic forward tracking modpath simulation\n",
    "mp = flopy.modpath.Modpath7.create_mp7(modelname=mpnamf, trackdir='forward', flowmodel=gwf, model_ws=model_dir, \n",
    "                                       rowcelldivisions=1, columncelldivisions=1, layercelldivisions=1,\n",
    "                                       exe_name=mpexe)\n",
    "\n",
    "# write modpath datasets\n",
    "mp.write_input()\n",
    "\n",
    "# run modpath\n",
    "mp.run_model()"
   ]
  },
  {
   "cell_type": "code",
   "execution_count": null,
   "metadata": {},
   "outputs": [],
   "source": []
  }
 ],
 "metadata": {
  "kernelspec": {
   "display_name": "Python 3",
   "language": "python",
   "name": "python3"
  },
  "language_info": {
   "codemirror_mode": {
    "name": "ipython",
    "version": 3
   },
   "file_extension": ".py",
   "mimetype": "text/x-python",
   "name": "python",
   "nbconvert_exporter": "python",
   "pygments_lexer": "ipython3",
   "version": "3.7.4"
  }
 },
 "nbformat": 4,
 "nbformat_minor": 2
}
