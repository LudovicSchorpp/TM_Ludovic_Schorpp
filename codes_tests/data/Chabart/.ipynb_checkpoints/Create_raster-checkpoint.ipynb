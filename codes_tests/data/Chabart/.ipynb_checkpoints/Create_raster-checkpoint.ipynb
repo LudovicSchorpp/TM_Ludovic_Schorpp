{
 "cells": [
  {
   "cell_type": "code",
   "execution_count": 1,
   "metadata": {},
   "outputs": [
    {
     "name": "stdout",
     "output_type": "stream",
     "text": [
      "flopy is installed in C:\\Users\\emmal\\Anaconda3\\lib\\site-packages\\flopy\n"
     ]
    }
   ],
   "source": [
    "import flopy as fp\n",
    "import numpy as np\n",
    "import geopandas as gp\n",
    "import pandas as pd\n",
    "import os\n",
    "from osgeo import ogr\n",
    "from osgeo import gdal\n",
    "from osgeo import gdal_array\n",
    "from osgeo import osr\n",
    "import matplotlib.pyplot as plt\n",
    "from flopy.utils.gridgen import Gridgen \n",
    "from flopy.utils.gridintersect import GridIntersect\n",
    "from flopy.utils import Raster\n",
    "import shapely\n",
    "from shapely.geometry import Polygon, Point, LineString, MultiLineString, MultiPoint, MultiPolygon,shape\n",
    "from shapely.strtree import STRtree  \n",
    "import glob\n"
   ]
  },
  {
   "cell_type": "code",
   "execution_count": 2,
   "metadata": {},
   "outputs": [],
   "source": [
    "arr = pd.read_csv(\"../../Chabart/data/perma1.csv\",sep=\";\").values"
   ]
  },
  {
   "cell_type": "code",
   "execution_count": 5,
   "metadata": {},
   "outputs": [],
   "source": [
    "def array2raster(array,x0,y0,x1,y1,name):\n",
    "    nrows,ncols = np.shape(array)\n",
    "    xres = (x1-x0)/float(ncols)\n",
    "    yres = (y1-y0)/float(nrows)\n",
    "    geotransform=(x0,xres,0,y1,0, -yres)   \n",
    "\n",
    "    output_raster = gdal.GetDriverByName('GTiff').Create('{}.tif'.format(name),ncols, nrows, 1 ,gdal.GDT_Float32)  # Open the file\n",
    "    output_raster.SetGeoTransform(geotransform)  # Specify its coordinates\n",
    "    srs = osr.SpatialReference()                 # Establish its coordinate encoding\n",
    "    srs.ImportFromEPSG(27573)                     \n",
    "    output_raster.SetProjection(srs.ExportToWkt())   # Exports the coordinate system \n",
    "                                                       # to the file\n",
    "    output_raster.GetRasterBand(1).WriteArray(array)   # Writes my array to the raster\n",
    "    gdal.Warp('{}_proj.tif'.format(name),output_raster,dstSRS='EPSG:2154')\n",
    "    output_raster.FlushCache()\n",
    "    \n",
    "    "
   ]
  },
  {
   "cell_type": "code",
   "execution_count": 6,
   "metadata": {},
   "outputs": [],
   "source": [
    "arr = pd.read_csv(\"../../Chabart/data/perma1.csv\",sep=\";\").values\n",
    "array2raster(arr,620e3,3024e3,662e3,3062e3,\"gouzi\")"
   ]
  },
  {
   "cell_type": "code",
   "execution_count": 9,
   "metadata": {},
   "outputs": [],
   "source": [
    "files = [\"../../Chabart/data/perma1.csv\",\n",
    "         \"../../Chabart/data/perma2.csv\",\n",
    "         \"../../Chabart/data/perma3.csv\"]\n",
    "\n",
    "i = -1\n",
    "for file in files:\n",
    "    i += 1\n",
    "    arr = pd.read_csv(file,sep=\";\").values\n",
    "    array2raster(arr,620e3,3024e3,662e3,3062e3,\"perma_C{}\".format(i))"
   ]
  },
  {
   "cell_type": "code",
   "execution_count": null,
   "metadata": {},
   "outputs": [],
   "source": []
  }
 ],
 "metadata": {
  "kernelspec": {
   "display_name": "Python 3",
   "language": "python",
   "name": "python3"
  },
  "language_info": {
   "codemirror_mode": {
    "name": "ipython",
    "version": 3
   },
   "file_extension": ".py",
   "mimetype": "text/x-python",
   "name": "python",
   "nbconvert_exporter": "python",
   "pygments_lexer": "ipython3",
   "version": "3.7.4"
  }
 },
 "nbformat": 4,
 "nbformat_minor": 2
}
