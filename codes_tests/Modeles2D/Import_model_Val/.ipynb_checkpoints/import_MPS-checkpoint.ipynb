{
 "cells": [
  {
   "cell_type": "code",
   "execution_count": 3,
   "metadata": {},
   "outputs": [],
   "source": [
    "import flopy as fp\n",
    "import numpy as np\n",
    "import geopandas as gp\n",
    "import pandas as pd\n",
    "import pickle\n",
    "import os\n",
    "import sys\n",
    "from osgeo import ogr\n",
    "from osgeo import gdal\n",
    "from osgeo import gdal_array\n",
    "from osgeo import osr\n",
    "import matplotlib.pyplot as plt\n",
    "from flopy.utils.gridgen import Gridgen \n",
    "from flopy.utils.gridintersect import GridIntersect\n",
    "from flopy.utils import Raster\n",
    "import shapely\n",
    "from shapely.geometry import Polygon, Point, LineString, MultiLineString, MultiPoint, MultiPolygon,shape\n",
    "from shapely.strtree import STRtree  \n",
    "import glob\n",
    "\n",
    "\n",
    "sys.path.insert(1, '../test_premier_model/')\n",
    "# hand made functions\n",
    "from Rouss1 import *\n",
    "from Rouss2 import *"
   ]
  },
  {
   "cell_type": "code",
   "execution_count": 4,
   "metadata": {},
   "outputs": [],
   "source": [
    "def read_pickle(path):\n",
    "    '''\n",
    "    function to read a pickle file\n",
    "    '''\n",
    "    \n",
    "    with open(path, 'rb')as file:\n",
    "        f_read = pickle.load(file)\n",
    "    \n",
    "    return f_read\n",
    "\n",
    "def write_pickle(path, file):\n",
    "    '''\n",
    "    function to write picke file\n",
    "    '''\n",
    "    \n",
    "    with open(path,'wb')as f:\n",
    "        pickle.dump(file, f, pickle.HIGHEST_PROTOCOL)"
   ]
  },
  {
   "cell_type": "code",
   "execution_count": 8,
   "metadata": {},
   "outputs": [],
   "source": [
    "model_dir = \"working\"\n",
    "model_name = \"import_MPS\"\n",
    "exe_name= \"../../exe/mf6\""
   ]
  },
  {
   "cell_type": "code",
   "execution_count": 23,
   "metadata": {},
   "outputs": [],
   "source": [
    "R_path=\"../../data/shp/limiteModeleRoussillon_poly.shp\" # path to the shp of the aquifer\n",
    "MNT_path= \"../../data/MNT/MNT_50.tif\"\n",
    "\n",
    "#rivers paths\n",
    "Agly_path = \"../../data/Fleuves/Agly_ludo.shp\" # path to Agly\n",
    "Tet_path = \"../../data/Fleuves/Tet_ludo.shp\"\n",
    "Rea_path = \"../../data/Fleuves/Reart_ludo.shp\"\n",
    "Tech_path = \"../../data/Fleuves/Tech_ludo.shp\"\n",
    "Bol_path = \"../../data/Fleuves/Boules_ludo.shp\"\n",
    "Cant_path = \"../../data/Fleuves/Cant_ludo.shp\"\n",
    "\n",
    "#stations paths\n",
    "Agly_path = \"../../data/Fleuves/stations_agly.csv\" # path to Agly\n",
    "Tet_path = \"../../data/Fleuves/stations_tet2.csv\"\n",
    "Rea_path = \"../../data/Fleuves/stations_reart.csv\"\n",
    "Tech_path = \"../../data/Fleuves/stations_tech.csv\"\n",
    "Bol_path = \"../../data/Fleuves/stations_bol.csv\"\n",
    "Cant_path = \"../../data/Fleuves/stations_cant.csv\"\n",
    "\n",
    "#MPS and up\n",
    "data_mps = \"../../Model_val/upscalling/simu_np.pickle\"\n",
    "data_mps_up = \"../../Model_val/upscalling/export_up.pickle\""
   ]
  },
  {
   "cell_type": "code",
   "execution_count": 66,
   "metadata": {},
   "outputs": [],
   "source": [
    "#spatial parameters\n",
    "\n",
    "#x0,y0\n",
    "x0 = 664328.1865\n",
    "y0 = 6153000.2413\n",
    "x1 = x0 + read_pickle(data_mps).shape[1]*100\n",
    "y1 = y0 + read_pickle(data_mps).shape[0]*100\n",
    "\n",
    "\n",
    "nrow = read_pickle(data_mps_up)[0].shape[0]\n",
    "ncol = read_pickle(data_mps_up)[0].shape[1]\n",
    "delc = delr = 400\n",
    "\n"
   ]
  },
  {
   "cell_type": "code",
   "execution_count": 87,
   "metadata": {},
   "outputs": [],
   "source": [
    "#domain\n",
    "idomain = np.flipud(read_pickle(data_mps_up)[1]).reshape(nrow*ncol)\n",
    "lst_domain=[]\n",
    "for irow in range(nrow):\n",
    "    for icol in range(ncol):\n",
    "        if idomain[irow*ncol + icol] == 1:\n",
    "            lst_domain.append((irow,icol))"
   ]
  },
  {
   "cell_type": "code",
   "execution_count": 80,
   "metadata": {},
   "outputs": [],
   "source": [
    "# load top data----------------------------------------------------------------------------------------------------------\n",
    "MNT = Raster.load(MNT_path)\n",
    "\n",
    "grid = fp.discretization.StructuredGrid(delc*np.ones([nrow]),delr*np.ones([ncol]),xoff=x0,yoff=y0) # create a grid identical to the dis package, will be used\n",
    "                                                                 # to pre-process data\n",
    "\n",
    "top = MNT.resample_to_grid(grid.xcellcenters,\n",
    "                                grid.ycellcenters,\n",
    "                                band = MNT.bands[0],\n",
    "                                method=\"nearest\")\n",
    "\n",
    "\n",
    "### load botom based on the differents surfaces--------------------------------------------------------------------------\n",
    "folder_path = \"../../data/txt_couches_nouv\"\n",
    "surfaces = []\n",
    "for file in glob.glob(os.path.join(folder_path, '*.txt')):\n",
    "    Rast = Raster.load(file)\n",
    "    surfaces.append(Rast.resample_to_grid(grid.xcellcenters,\n",
    "                                grid.ycellcenters,\n",
    "                                band = Rast.bands[0],\n",
    "                                method=\"nearest\"))\n",
    "Q = surfaces[1]\n",
    "PC = surfaces[2]\n",
    "PMS = surfaces[3]\n",
    "BOT = PMS.copy()\n",
    "BOT[PMS==-9999] = PC[PMS==-9999]\n",
    "BOT[PC==-9999] = Q[PC==-9999]\n",
    "BOT[BOT==-9999] = top[BOT==-9999] - 50\n",
    "\n",
    "BOT[(top-BOT)<=10] = top[(top-BOT)<=10] - 10 # minimum of 10 m thickness to avoid bug and numerical issues"
   ]
  },
  {
   "cell_type": "code",
   "execution_count": 81,
   "metadata": {},
   "outputs": [
    {
     "data": {
      "text/plain": [
       "<matplotlib.image.AxesImage at 0x20ddc89f448>"
      ]
     },
     "execution_count": 81,
     "metadata": {},
     "output_type": "execute_result"
    },
    {
     "data": {
      "image/png": "[encoded data removed]",
      "text/plain": [
       "<Figure size 432x288 with 1 Axes>"
      ]
     },
     "metadata": {
      "needs_background": "light"
     },
     "output_type": "display_data"
    }
   ],
   "source": [
    "plt.imshow(top-BOT)"
   ]
  },
  {
   "cell_type": "code",
   "execution_count": 82,
   "metadata": {},
   "outputs": [],
   "source": [
    "# recharge areas\n",
    "path = \"../../data/recharge/rast_peff2.tif\"\n",
    "rcha = import_rch(path,grid)"
   ]
  },
  {
   "cell_type": "code",
   "execution_count": 91,
   "metadata": {},
   "outputs": [],
   "source": [
    "# BC sea\n",
    "# import the shapefile that correspond to the BC\n",
    "BCsea_path = \"../../data/shp/Sea_BC_L93.shp\"\n",
    "BC_sea = gp.read_file(BCsea_path)\n",
    "\n",
    "# extract cellids from the BC at the sea and make these cells active\n",
    "lst_chd = gp2cellids(grid,BC_sea,idomain,type=\"line\")\n",
    "\n",
    "# attribute a constant head at all the cells in the lst_chd\n",
    "CHD = 0; chd_lst=[];\n",
    "for x in lst_chd:\n",
    "    chd_lst.append((x,CHD))"
   ]
  },
  {
   "cell_type": "code",
   "execution_count": null,
   "metadata": {},
   "outputs": [],
   "source": []
  },
  {
   "cell_type": "code",
   "execution_count": null,
   "metadata": {},
   "outputs": [],
   "source": []
  }
 ],
 "metadata": {
  "kernelspec": {
   "display_name": "Python 3",
   "language": "python",
   "name": "python3"
  },
  "language_info": {
   "codemirror_mode": {
    "name": "ipython",
    "version": 3
   },
   "file_extension": ".py",
   "mimetype": "text/x-python",
   "name": "python",
   "nbconvert_exporter": "python",
   "pygments_lexer": "ipython3",
   "version": "3.7.4"
  }
 },
 "nbformat": 4,
 "nbformat_minor": 2
}
