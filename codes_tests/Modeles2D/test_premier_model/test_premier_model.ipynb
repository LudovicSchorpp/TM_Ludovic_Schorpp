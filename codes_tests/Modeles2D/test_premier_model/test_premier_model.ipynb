{
 "cells": [
  {
   "cell_type": "code",
   "execution_count": 1,
   "metadata": {},
   "outputs": [
    {
     "name": "stdout",
     "output_type": "stream",
     "text": [
      "flopy is installed in C:\\Users\\emmal\\Anaconda3\\lib\\site-packages\\flopy\n"
     ]
    },
    {
     "ename": "ModuleNotFoundError",
     "evalue": "No module named 'Rouss1'",
     "output_type": "error",
     "traceback": [
      "\u001b[1;31m---------------------------------------------------------------------------\u001b[0m",
      "\u001b[1;31mModuleNotFoundError\u001b[0m                       Traceback (most recent call last)",
      "\u001b[1;32m<ipython-input-1-d03115cccf5d>\u001b[0m in \u001b[0;36m<module>\u001b[1;34m\u001b[0m\n\u001b[0;32m     19\u001b[0m \u001b[1;33m\u001b[0m\u001b[0m\n\u001b[0;32m     20\u001b[0m \u001b[1;31m# hand made functions\u001b[0m\u001b[1;33m\u001b[0m\u001b[1;33m\u001b[0m\u001b[1;33m\u001b[0m\u001b[0m\n\u001b[1;32m---> 21\u001b[1;33m \u001b[1;32mfrom\u001b[0m \u001b[0mRouss1\u001b[0m \u001b[1;32mimport\u001b[0m \u001b[1;33m*\u001b[0m\u001b[1;33m\u001b[0m\u001b[1;33m\u001b[0m\u001b[0m\n\u001b[0m\u001b[0;32m     22\u001b[0m \u001b[1;32mfrom\u001b[0m \u001b[0mRouss2\u001b[0m \u001b[1;32mimport\u001b[0m \u001b[1;33m*\u001b[0m\u001b[1;33m\u001b[0m\u001b[1;33m\u001b[0m\u001b[0m\n",
      "\u001b[1;31mModuleNotFoundError\u001b[0m: No module named 'Rouss1'"
     ]
    }
   ],
   "source": [
    "import flopy as fp\n",
    "import numpy as np\n",
    "import geopandas as gp\n",
    "import pandas as pd\n",
    "import os\n",
    "from osgeo import ogr\n",
    "from osgeo import gdal\n",
    "from osgeo import gdal_array\n",
    "from osgeo import osr\n",
    "import matplotlib.pyplot as plt\n",
    "from flopy.utils.gridgen import Gridgen \n",
    "from flopy.utils.gridintersect import GridIntersect\n",
    "from flopy.utils import Raster\n",
    "import shapely\n",
    "from shapely.geometry import Polygon, Point, LineString, MultiLineString, MultiPoint, MultiPolygon,shape\n",
    "from shapely.strtree import STRtree  \n",
    "import glob\n",
    "\n",
    "\n",
    "# hand made functions\n",
    "from Rouss1 import *\n",
    "from Rouss2 import *"
   ]
  },
  {
   "cell_type": "code",
   "execution_count": null,
   "metadata": {},
   "outputs": [],
   "source": [
    "model_dir = \"working\"\n",
    "model_name = \"first_2D\"\n",
    "exe_name=\"../../exe/mf6\""
   ]
  },
  {
   "cell_type": "code",
   "execution_count": null,
   "metadata": {},
   "outputs": [],
   "source": [
    "R_path=\"../../data/shp/limiteModeleRoussillon_poly.shp\" # path to the shp of the aquifer\n",
    "MNT_path= \"../../data/MNT/MNT_50.tif\"\n",
    "MNT20_path = \"../../data/MNT/MNT_20.tif\"\n",
    "Agly_path= \"../../data/Fleuves/Agly_ludo.shp\" # path to Agly\n",
    "Tet_path= \"../../data/Fleuves/Tet_ludo.shp\"\n",
    "Rea_path = \"../../data/Fleuves/Reart_ludo.shp\"\n",
    "Tech_path = \"../../data/Fleuves/Tech_ludo.shp\"\n",
    "Bol_path = \"../../data/Fleuves/Boules_ludo.shp\"\n",
    "Cant_path = \"../../data/Fleuves/Cant_ludo.shp\""
   ]
  },
  {
   "cell_type": "code",
   "execution_count": null,
   "metadata": {},
   "outputs": [],
   "source": [
    "#spatial parameters\n",
    "\n",
    "# get x0,y0,y1 and x1 from the DEM\n",
    "x0,y0,x1,y1 = get_MNTbbox(MNT_path)\n",
    "x1 += 1000\n",
    "\n",
    "Lx = x1-x0\n",
    "Ly = y1-y0\n",
    "nlay = 1\n",
    "ncol = nrow = 150\n",
    "delr = np.ones(ncol)*(Lx/ncol)\n",
    "delc = np.ones(nrow)*(Ly/nrow)\n",
    "\n",
    "idomain = np.zeros((nrow*ncol))"
   ]
  },
  {
   "cell_type": "code",
   "execution_count": null,
   "metadata": {},
   "outputs": [],
   "source": [
    "# load top data\n",
    "MNT = Raster.load(MNT_path)\n",
    "#MNT20 = Raster.load(MNT20_path)\n",
    "\n",
    "grid = fp.discretization.StructuredGrid(delc,delr,xoff=x0,yoff=y0) # create a grid identical to the dis package, will be used\n",
    "                                                                 # to pre-process data\n",
    "\n",
    "top = MNT.resample_to_grid(grid.xcellcenters,\n",
    "                                grid.ycellcenters,\n",
    "                                band = MNT.bands[0],\n",
    "                                method=\"nearest\")"
   ]
  },
  {
   "cell_type": "code",
   "execution_count": null,
   "metadata": {},
   "outputs": [],
   "source": [
    "# load botom based on the differents surfaces\n",
    "folder_path = \"../../data/txt_couches_nouv\"\n",
    "surfaces = []\n",
    "for file in glob.glob(os.path.join(folder_path, '*.txt')):\n",
    "    Rast = Raster.load(file)\n",
    "    surfaces.append(Rast.resample_to_grid(grid.xcellcenters,\n",
    "                                grid.ycellcenters,\n",
    "                                band = Rast.bands[0],\n",
    "                                method=\"nearest\"))\n",
    "Q = surfaces[1]\n",
    "PC = surfaces[2]\n",
    "PMS = surfaces[3]\n",
    "BOT = PMS.copy()\n",
    "BOT[PMS==-9999] = PC[PMS==-9999]\n",
    "BOT[PC==-9999] = Q[PC==-9999]\n",
    "BOT[BOT==-9999] = top[BOT==-9999] - 50\n",
    "\n",
    "BOT[(top-BOT)<=10] = top[(top-BOT)<=10] - 10 # minimum of 10 m thickness to avoid bug and numerical issues"
   ]
  },
  {
   "cell_type": "code",
   "execution_count": null,
   "metadata": {},
   "outputs": [],
   "source": [
    "a=plt.imshow(top-BOT[0])\n",
    "a.set_clim(0,200)"
   ]
  },
  {
   "cell_type": "code",
   "execution_count": null,
   "metadata": {},
   "outputs": [],
   "source": [
    "# Define the domain\n",
    "\n",
    "R = gp.read_file(R_path) # import shapefile with geopandas\n",
    "\n",
    "# cells inside the aquifer become active and return the lst of the cellids\n",
    "lst_domain = gp2idomain(R,grid,idomain,area=0) # all the cells of the model"
   ]
  },
  {
   "cell_type": "code",
   "execution_count": null,
   "metadata": {},
   "outputs": [],
   "source": [
    "# recharge areas\n",
    "path = \"../../data/recharge/rast_peff2.tif\"\n",
    "rcha = import_rch(path,grid)"
   ]
  },
  {
   "cell_type": "code",
   "execution_count": null,
   "metadata": {},
   "outputs": [],
   "source": [
    "# BC sea\n",
    "# import the shapefile that correspond to the BC\n",
    "BCsea_path = \"../../data/shp/Sea_BC_L93.shp\"\n",
    "BC_sea = gp.read_file(BCsea_path)\n",
    "\n",
    "# extract cellids from the BC at the sea and make these cells active\n",
    "lst_chd = gp2cellids(grid,BC_sea,idomain,type=\"line\")\n",
    "\n",
    "# attribute a constant head at all the cells in the lst_chd\n",
    "CHD = 0; chd_lst=[];\n",
    "for x in lst_chd:\n",
    "    chd_lst.append((x,CHD))"
   ]
  },
  {
   "cell_type": "code",
   "execution_count": null,
   "metadata": {},
   "outputs": [],
   "source": [
    "# BC etangs\n",
    "BCetangs_path = \"../../data/shp/Surface_hydro/SURFACE_HYDROGRAPHIQUE.SHP\"\n",
    "Bcet = gp.read_file(BCetangs_path)\n",
    "etangs = Bcet[(Bcet[\"TOPONYME\"]==\"étang de canet\") | (Bcet[\"TOPONYME\"]==\"étang de leucate\")]\n",
    "\n",
    "# extract cellids from the BC \n",
    "etangs_chd = gp2cellids(grid,etangs.dissolve(by=\"NATURE\"),idomain)\n",
    "\n",
    "# attribute a constant head\n",
    "CHD = 0; et_chd_lst=[];\n",
    "for x in etangs_chd:\n",
    "    et_chd_lst.append((x,CHD))\n",
    "    lst_chd.append(x)"
   ]
  },
  {
   "cell_type": "code",
   "execution_count": null,
   "metadata": {},
   "outputs": [],
   "source": [
    "# BC Agly\n",
    "Agy_chd = Complete_riv(Agly_path,\"../../data/Fleuves/stations_agly.csv\",us=28,ds=0.1,lst_chd=lst_chd,\n",
    "                       lst_domain=lst_domain,grid=grid)"
   ]
  },
  {
   "cell_type": "code",
   "execution_count": null,
   "metadata": {},
   "outputs": [],
   "source": [
    "# BC Tet\n",
    "Tet_chd = Complete_riv(Tet_path,\"../../data/Fleuves/stations_tet2.csv\",us=180,ds=0.1,lst_chd=lst_chd,\n",
    "                       lst_domain=lst_domain,grid=grid)"
   ]
  },
  {
   "cell_type": "code",
   "execution_count": null,
   "metadata": {},
   "outputs": [],
   "source": [
    "#BC Boul\n",
    "Bol_chd = Complete_riv(Bol_path,\"../../data/Fleuves/stations_bol.csv\",us=180,ds=0.1,lst_chd=lst_chd,\n",
    "                       lst_domain=lst_domain,grid=grid)"
   ]
  },
  {
   "cell_type": "code",
   "execution_count": null,
   "metadata": {},
   "outputs": [],
   "source": [
    "## BC Reart\n",
    "Rea_chd = Complete_riv(Rea_path,\"../../data/Fleuves/stations_reart.csv\",us=130,ds=0,lst_chd=lst_chd,\n",
    "                       lst_domain=lst_domain,grid=grid)"
   ]
  },
  {
   "cell_type": "code",
   "execution_count": null,
   "metadata": {},
   "outputs": [],
   "source": [
    "## BC Cant\n",
    "Cant_chd = Complete_riv(Cant_path,\"../../data/Fleuves/stations_cant.csv\",us=135,ds=0.1,lst_chd=lst_chd,\n",
    "                       lst_domain=lst_domain,grid=grid)"
   ]
  },
  {
   "cell_type": "code",
   "execution_count": null,
   "metadata": {},
   "outputs": [],
   "source": [
    "# BC Tech\n",
    "Tech_chd = Complete_riv(Tech_path,\"../../data/Fleuves/stations_tech.csv\",us=170,ds=0.1,lst_chd=lst_chd,\n",
    "                       lst_domain=lst_domain,grid=grid)"
   ]
  },
  {
   "cell_type": "code",
   "execution_count": null,
   "metadata": {},
   "outputs": [],
   "source": [
    "# drains everywhere...\n",
    "# drains are applied at each cells 1 meter below the top in order to take into account superficial runoff and little rivers\n",
    "\n",
    "drn_areas=inter_lst(lst_domain,lst_chd,typ=\"unique\")\n",
    "lst_drn=[]\n",
    "for cellid in drn_areas:\n",
    "    i = cellid[0]\n",
    "    j = cellid[1]\n",
    "    k = cellid[2]\n",
    "    \n",
    "    xc = grid.xcellcenters[j,k]\n",
    "    yc = grid.ycellcenters[j,k]\n",
    "    \n",
    "    lst_drn.append(((i,j,k),top[j,k]-1,0.01))"
   ]
  },
  {
   "cell_type": "code",
   "execution_count": null,
   "metadata": {},
   "outputs": [],
   "source": [
    "# extraction\n",
    "path = \"../../data/prélèvements/BD_FORAGES_SMNPR/SMNPRV2.shp\"\n",
    "V_col = \"V_A_AEMRC\"\n",
    "layer = 0\n",
    "stress_data_well = importWells(path,grid,lst_domain,V_col=V_col,layer=layer)"
   ]
  },
  {
   "cell_type": "code",
   "execution_count": null,
   "metadata": {},
   "outputs": [],
   "source": [
    "# permeability\n",
    "\n",
    "# initialize arrays that will define the position of the formations\n",
    "idomainQ_rec = np.zeros([nrow*ncol])\n",
    "idomainQ_a = np.zeros([nrow*ncol])\n",
    "idomainPlio = np.zeros([nrow*ncol])\n",
    "\n",
    "pathQr = \"../../data/shp/entités/Alluv_rec.shp\" # shapefile of the Quaternary formations\n",
    "pathQa = \"../../data/shp/entités/Alluv_anc.shp\" #...\n",
    "pathP = \"../../data/shp/entités/Pliocene.shp\"\n",
    "lstIDQ_rec = gp2idomain(gp.read_file(pathQr),grid,idomainQ_rec,area=10) #create the domains of each shp\n",
    "lstIDQ_anc = gp2idomain(gp.read_file(pathQa),grid,idomainQ_a,area=10) \n",
    "lstIDQPlio = gp2idomain(gp.read_file(pathP),grid,idomainPlio,area=10)\n"
   ]
  },
  {
   "cell_type": "code",
   "execution_count": null,
   "metadata": {},
   "outputs": [],
   "source": [
    "# define k, different for each lithology\n",
    "kh = 1e-4 # general k\n",
    "kQr = 4e-5 # k for recent Quaternary\n",
    "kQa = 2.6e-5 # k for ancient Quaternary\n",
    "kp = 1e-5 # k for pliocene\n",
    "\n",
    "k = np.ones([nrow*ncol])*kh # vector containing the permeability array(layer,nrow,ncol)\n",
    "k[idomainPlio==1] = kp\n",
    "k[idomainQ_rec==1] = kQr\n",
    "k[idomainQ_a==1] = kQa"
   ]
  },
  {
   "cell_type": "code",
   "execution_count": null,
   "metadata": {},
   "outputs": [],
   "source": [
    "# control piezos\n",
    "piez_path=\"../../data/piezos/pz_hydriad.xlsx\"\n",
    "\n",
    "#import the data using this function (path,modelgrid, sheetname of the data,piezometric level column, x and y coor (in L93 !))\n",
    "Control_pz = importControlPz(piez_path,grid,sheetName=\"1990\",np_col=\"NP_corr\",x_col=\"x\",y_col=\"y\")"
   ]
  },
  {
   "cell_type": "code",
   "execution_count": null,
   "metadata": {},
   "outputs": [],
   "source": [
    "# basic modules\n",
    "\n",
    "sim = fp.mf6.MFSimulation(sim_name='first2D_mf6', version='mf6', exe_name=exe_name, \n",
    "                         sim_ws=model_dir)\n",
    "gwf = fp.mf6.ModflowGwf(sim, modelname=model_name,\n",
    "                           model_nam_file='{}.nam'.format(model_name))\n",
    "dis = fp.mf6.ModflowGwfdis(gwf, nlay=nlay, nrow=nrow, ncol=ncol,\n",
    "                              delr=delr, delc=delc,\n",
    "                              top=top, botm=BOT,xorigin=x0,yorigin=y0,idomain=idomain)\n",
    "\n",
    "tdis = fp.mf6.ModflowTdis(sim, time_units='SECONDS',perioddata=[[1.0, 1, 1.]])\n",
    "ims  = fp.mf6.ModflowIms(sim, print_option='SUMMARY', complexity='moderate')\n",
    "\n",
    "\n",
    "# initial conditions\n",
    "ic   = fp.mf6.ModflowGwfic(gwf,strt=BOT+1)\n",
    "\n",
    "\n",
    "# output control\n",
    "oc   = fp.mf6.ModflowGwfoc(gwf,budget_filerecord='{}.cbc'.format(model_name),\n",
    "                            head_filerecord='{}.hds'.format(model_name),\n",
    "                            saverecord=[('HEAD', 'LAST'),\n",
    "                                        ('BUDGET', 'ALL')],\n",
    "                            printrecord=[('HEAD', 'LAST'),\n",
    "                                         ('BUDGET', 'ALL')])\n",
    "\n",
    "\n",
    "# nodeflowproperty\n",
    "npf  = fp.mf6.ModflowGwfnpf(gwf, icelltype=0, k=k, save_flows=True,save_specific_discharge=True)\n",
    "\n",
    "\n",
    "# recharge\n",
    "rch  = fp.mf6.ModflowGwfrcha(gwf, recharge = rcha/1000/365/86400)\n",
    "   \n",
    "    \n",
    "# well package\n",
    "wel = fp.mf6.ModflowGwfwel(gwf, pname=\"wel\",filename=\"wel.wel\",\n",
    "                           stress_period_data=stress_data_well, maxbound=len(stress_data_well))\n",
    "\n",
    "# constant heads packages\n",
    "chd = fp.mf6.modflow.mfgwfchd.ModflowGwfchd(gwf, pname='sea', filename=\"sea.chd\", maxbound=len(chd_lst), \n",
    "                                               stress_period_data={0: chd_lst}, save_flows=True)\n",
    "\n",
    "etangs = fp.mf6.modflow.mfgwfchd.ModflowGwfchd(gwf, pname='eta', filename=\"eta.chd\", maxbound=len(et_chd_lst), \n",
    "                                               stress_period_data={0: et_chd_lst}, save_flows=True)\n",
    "\n",
    "drn = fp.mf6.modflow.mfgwfdrn.ModflowGwfdrn(gwf,pname='drn', maxbound=len(lst_drn), \n",
    "                                               stress_period_data={0: lst_drn}, save_flows=True)\n",
    "\n",
    "Riv1 = fp.mf6.modflow.mfgwfchd.ModflowGwfchd(gwf, pname='agy', filename=\"agy.chd\", maxbound=len(Agy_chd), \n",
    "                                              stress_period_data={0: Agy_chd}, save_flows=True)\n",
    "\n",
    "Riv2 = fp.mf6.modflow.mfgwfchd.ModflowGwfchd(gwf, pname='Tet', filename=\"Tet.chd\", maxbound=len(Tet_chd), \n",
    "                                               stress_period_data={0: Tet_chd}, save_flows=True)\n",
    "\n",
    "Riv3 = fp.mf6.modflow.mfgwfchd.ModflowGwfchd(gwf, pname='Rea', filename=\"Rea.chd\", maxbound=len(Rea_chd), \n",
    "                                               stress_period_data={0: Rea_chd}, save_flows=True)\n",
    "\n",
    "Riv6 = fp.mf6.modflow.mfgwfchd.ModflowGwfchd(gwf, pname='Cant', filename=\"Cant.chd\", maxbound=len(Cant_chd), \n",
    "                                               stress_period_data={0: Cant_chd}, save_flows=True)\n",
    "\n",
    "Riv4 = fp.mf6.modflow.mfgwfchd.ModflowGwfchd(gwf, pname='Tech', filename=\"Tech.chd\", maxbound=len(Tech_chd), \n",
    "                                               stress_period_data={0: Tech_chd}, save_flows=True)\n",
    "\n",
    "Riv5 = fp.mf6.modflow.mfgwfchd.ModflowGwfchd(gwf, pname='Bol', filename=\"Bol.chd\", maxbound=len(Bol_chd), \n",
    "                                               stress_period_data={0: Bol_chd}, save_flows=True)"
   ]
  },
  {
   "cell_type": "code",
   "execution_count": null,
   "metadata": {},
   "outputs": [],
   "source": [
    "sim.write_simulation()\n",
    "sim.run_simulation()"
   ]
  },
  {
   "cell_type": "code",
   "execution_count": null,
   "metadata": {},
   "outputs": [],
   "source": [
    "# retrieve heads and spdis \n",
    "head = get_heads(model_name,model_dir)\n",
    "spdis = get_spdis(model_name,model_dir)\n",
    "\n",
    "# retrieve the chd package name\n",
    "bdfile=[]\n",
    "for file in os.listdir(model_dir):\n",
    "    if file.endswith(\".chd\"):\n",
    "        bdfile.append(os.path.splitext(file)[0])"
   ]
  },
  {
   "cell_type": "code",
   "execution_count": null,
   "metadata": {
    "scrolled": false
   },
   "outputs": [],
   "source": [
    "# make a plot\n",
    "fig = plt.figure(figsize=(17,15))\n",
    "ax  = plt.subplot(1, 1,1, aspect='equal')\n",
    "ml = fp.plot.PlotMapView(model=gwf)\n",
    "\n",
    "hmesh=ml.plot_array(head,masked_values=[0,1e30],cmap=\"viridis\")\n",
    "hmesh.set_clim(0,180)\n",
    "#ml.plot_specific_discharge(spdis[0],color=\"w\",width=0.0050)\n",
    "cont=ml.contour_array(head,masked_values=[0,1e30],levels=np.linspace(0,170,18),cmap=\"jet\")\n",
    "\n",
    "# plot bc\n",
    "for bc in bdfile:\n",
    "    if bc == (\"sea\") or bc== (\"eta\"):\n",
    "        ml.plot_bc(bc,color=\"b\",alpha=0.5)\n",
    "    else : \n",
    "        ml.plot_bc(bc,color=\"lightblue\",alpha=0.5)\n",
    "ml.plot_bc(\"wel\") # plot the wells  \n",
    "\n",
    "# plot Cross-section\n",
    "row = 205\n",
    "x = [x0,x1]\n",
    "y = [y1-(row+.5)*delc,y1-(row+.5)*delc]\n",
    "ax.plot(x,y,\"k\",linewidth=3)\n",
    "\n",
    "\n",
    "ax.tick_params(labelsize=15)\n",
    "#ax.tick_params(axis=\"y\",direction=\"in\", pad=-120)\n",
    "\n",
    "g = plt.colorbar(cont)\n",
    "g.set_label(\"Head [m]\",fontsize=15)\n",
    "g.ax.tick_params(labelsize=15)\n",
    "\n",
    "ax.grid()"
   ]
  },
  {
   "cell_type": "code",
   "execution_count": null,
   "metadata": {
    "scrolled": false
   },
   "outputs": [],
   "source": [
    "fig,ax = plt.subplots(figsize=(30,10))\n",
    "x=fp.plot.PlotCrossSection(gwf,line={\"row\" :row})\n",
    "\n",
    "arr=x.plot_array(head,masked_values=[1e30],head=head)\n",
    "plt.colorbar(arr)\n",
    "arr.set_clim(0,170)\n",
    "x.plot_ibound()\n",
    "x.plot_grid()"
   ]
  },
  {
   "cell_type": "code",
   "execution_count": null,
   "metadata": {},
   "outputs": [],
   "source": [
    "# Total Budget\n",
    "lstBudgetfile = \"{}.lst\".format(model_name)\n",
    "fname = os.path.join(model_dir,lstBudgetfile)\n",
    "Budgetobj = fp.utils.Mf6ListBudget(fname)"
   ]
  },
  {
   "cell_type": "code",
   "execution_count": null,
   "metadata": {
    "scrolled": false
   },
   "outputs": [],
   "source": [
    "for i in Budgetobj.entries:\n",
    "    if i != \"PERCENT_DISCREPANCY\":\n",
    "        print(\"{} : {} m3/s\".format(i,Budgetobj.get_budget(names=i)[0][0][-1]))"
   ]
  },
  {
   "cell_type": "code",
   "execution_count": null,
   "metadata": {},
   "outputs": [],
   "source": [
    "head[head>1000]=0\n",
    "plt.scatter(Control_pz[Control_pz!=0],\n",
    "            head[0][Control_pz!=0],s=4)\n",
    "plt.plot(np.arange(160),np.arange(160),\"k\")\n",
    "plt.xlabel(\"measured head [m]\")\n",
    "plt.ylabel(\"simulated head [m]\")\n",
    "plt.title(\"fit measured vs simulated\")"
   ]
  },
  {
   "cell_type": "code",
   "execution_count": null,
   "metadata": {},
   "outputs": [],
   "source": [
    "Misfit = np.abs((Control_pz[Control_pz!=0] - head[0][Control_pz!=0]))\n",
    "print(\"Misfit : {} m \".format(np.nanmean(Misfit)))"
   ]
  },
  {
   "cell_type": "code",
   "execution_count": null,
   "metadata": {},
   "outputs": [],
   "source": [
    "Misfit2 = (np.sum((((Control_pz[Control_pz!=0] - head[0][Control_pz!=0])**2)/Control_pz[Control_pz!=0].shape[0])))**0.5\n",
    "print(\"RMSE : {}\".format(Misfit2))"
   ]
  },
  {
   "cell_type": "code",
   "execution_count": null,
   "metadata": {},
   "outputs": [],
   "source": []
  }
 ],
 "metadata": {
  "kernelspec": {
   "display_name": "Python 3",
   "language": "python",
   "name": "python3"
  },
  "language_info": {
   "codemirror_mode": {
    "name": "ipython",
    "version": 3
   },
   "file_extension": ".py",
   "mimetype": "text/x-python",
   "name": "python",
   "nbconvert_exporter": "python",
   "pygments_lexer": "ipython3",
   "version": "3.7.4"
  }
 },
 "nbformat": 4,
 "nbformat_minor": 2
}
