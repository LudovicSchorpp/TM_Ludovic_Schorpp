{
 "cells": [
  {
   "cell_type": "code",
   "execution_count": 37,
   "metadata": {},
   "outputs": [],
   "source": [
    "import flopy as fp\n",
    "import numpy as np\n",
    "import geopandas as gp\n",
    "import pandas as pd\n",
    "import os\n",
    "from osgeo import ogr\n",
    "import gdal\n",
    "import matplotlib.pyplot as plt\n",
    "from flopy.utils.gridgen import Gridgen \n",
    "from flopy.utils.gridintersect import GridIntersect\n",
    "import shapely\n",
    "from shapely.geometry import Polygon, Point, LineString, MultiLineString, MultiPoint, MultiPolygon,shape\n",
    "from shapely.strtree import STRtree  \n",
    "\n",
    "# hand made functions\n",
    "from Rouss1 import Imreduction, gp2idomain, gp2cellids,cellidBD, get_heads, get_spdis, get_MNTbbox"
   ]
  },
  {
   "cell_type": "code",
   "execution_count": 38,
   "metadata": {},
   "outputs": [],
   "source": [
    "model_dir = \"workingDis\"\n",
    "model_name=\"dis_test\"\n",
    "exe_name=\"../../exe/mf6\""
   ]
  },
  {
   "cell_type": "code",
   "execution_count": 39,
   "metadata": {},
   "outputs": [],
   "source": [
    "R_path=\"../data/limiteModeleRoussillon_poly.shp\" # path to the shp of the aquifer\n",
    "MNT_path= \"../../../../../MNT_demo_5m.tif\"\n",
    "Agly_path=\"../data/Fleuves/Fleuve_Agly.shp\" # path to Agly\n",
    "\n",
    "# get x0,y0,y1 and x1\n",
    "x0,y0,x1,y1 = get_MNTbbox(MNT_path)"
   ]
  },
  {
   "cell_type": "code",
   "execution_count": 40,
   "metadata": {},
   "outputs": [],
   "source": [
    "#spatial parameters\n",
    "Lx = x1-x0\n",
    "Ly = y1-y0\n",
    "nlay = 1\n",
    "ncol = 140\n",
    "nrow = 140\n",
    "delr = np.ones(ncol)*(Lx/ncol)\n",
    "delc = np.ones(nrow)*(Ly/nrow)\n",
    "botm = -50\n",
    "top = 10. # if no mnt is provided\n",
    "idomain = np.zeros((nrow*ncol))"
   ]
  },
  {
   "cell_type": "code",
   "execution_count": 41,
   "metadata": {
    "scrolled": false
   },
   "outputs": [],
   "source": [
    "# import a mnt and extract topography data --> add it to top of the cells\n",
    "\n",
    "from PIL import Image\n",
    "im = Image.open(MNT_path) # add path to MNT.tif\n",
    "imar = np.array(im) # create an array\n",
    "imar[imar==0]=None # None where it's nodata\n",
    "\n",
    "top = Imreduction(imar,nrow,ncol)"
   ]
  },
  {
   "cell_type": "code",
   "execution_count": 42,
   "metadata": {},
   "outputs": [],
   "source": [
    "R = gp.read_file(R_path) # import shapefile with geopandas\n",
    "grid = fp.discretization.StructuredGrid(delc,delr,xoff=x0,yoff=y0)\n",
    "\n",
    "#cells inside the aquifer become active and return the lst of the cellids\n",
    "lst_domain = gp2idomain(R,grid,idomain,area=3)"
   ]
  },
  {
   "cell_type": "code",
   "execution_count": 43,
   "metadata": {},
   "outputs": [
    {
     "data": {
      "text/plain": [
       "[((0, 2, 130), 0),\n",
       " ((0, 2, 131), 0),\n",
       " ((0, 3, 128), 0),\n",
       " ((0, 3, 129), 0),\n",
       " ((0, 3, 130), 0),\n",
       " ((0, 3, 131), 0),\n",
       " ((0, 3, 132), 0),\n",
       " ((0, 3, 133), 0),\n",
       " ((0, 3, 134), 0),\n",
       " ((0, 4, 127), 0),\n",
       " ((0, 4, 128), 0),\n",
       " ((0, 4, 134), 0),\n",
       " ((0, 4, 135), 0),\n",
       " ((0, 4, 136), 0),\n",
       " ((0, 4, 137), 0),\n",
       " ((0, 5, 137), 0),\n",
       " ((0, 5, 138), 0),\n",
       " ((0, 6, 138), 0),\n",
       " ((0, 6, 139), 0),\n",
       " ((0, 7, 139), 0),\n",
       " ((0, 8, 139), 0),\n",
       " ((0, 9, 139), 0),\n",
       " ((0, 10, 138), 0),\n",
       " ((0, 10, 139), 0),\n",
       " ((0, 11, 138), 0),\n",
       " ((0, 12, 138), 0),\n",
       " ((0, 13, 138), 0),\n",
       " ((0, 14, 137), 0),\n",
       " ((0, 14, 138), 0),\n",
       " ((0, 15, 137), 0),\n",
       " ((0, 16, 137), 0),\n",
       " ((0, 17, 137), 0),\n",
       " ((0, 18, 137), 0),\n",
       " ((0, 19, 137), 0),\n",
       " ((0, 20, 136), 0),\n",
       " ((0, 20, 137), 0),\n",
       " ((0, 21, 136), 0),\n",
       " ((0, 22, 136), 0),\n",
       " ((0, 23, 136), 0),\n",
       " ((0, 24, 136), 0),\n",
       " ((0, 25, 136), 0),\n",
       " ((0, 26, 135), 0),\n",
       " ((0, 26, 136), 0),\n",
       " ((0, 27, 135), 0),\n",
       " ((0, 28, 135), 0),\n",
       " ((0, 29, 135), 0),\n",
       " ((0, 30, 135), 0),\n",
       " ((0, 31, 135), 0),\n",
       " ((0, 32, 135), 0),\n",
       " ((0, 33, 135), 0),\n",
       " ((0, 34, 134), 0),\n",
       " ((0, 34, 135), 0),\n",
       " ((0, 35, 134), 0),\n",
       " ((0, 36, 134), 0),\n",
       " ((0, 37, 134), 0),\n",
       " ((0, 38, 134), 0),\n",
       " ((0, 39, 134), 0),\n",
       " ((0, 40, 134), 0),\n",
       " ((0, 41, 134), 0),\n",
       " ((0, 42, 134), 0),\n",
       " ((0, 43, 134), 0),\n",
       " ((0, 44, 134), 0),\n",
       " ((0, 45, 134), 0),\n",
       " ((0, 46, 134), 0),\n",
       " ((0, 47, 134), 0),\n",
       " ((0, 48, 134), 0),\n",
       " ((0, 49, 134), 0),\n",
       " ((0, 50, 134), 0),\n",
       " ((0, 51, 134), 0),\n",
       " ((0, 52, 134), 0),\n",
       " ((0, 53, 134), 0),\n",
       " ((0, 54, 134), 0),\n",
       " ((0, 55, 134), 0),\n",
       " ((0, 56, 134), 0),\n",
       " ((0, 57, 134), 0),\n",
       " ((0, 58, 134), 0),\n",
       " ((0, 59, 134), 0),\n",
       " ((0, 60, 134), 0),\n",
       " ((0, 61, 134), 0),\n",
       " ((0, 62, 134), 0),\n",
       " ((0, 63, 134), 0),\n",
       " ((0, 64, 134), 0),\n",
       " ((0, 65, 134), 0),\n",
       " ((0, 66, 134), 0),\n",
       " ((0, 67, 134), 0),\n",
       " ((0, 68, 134), 0),\n",
       " ((0, 69, 134), 0),\n",
       " ((0, 70, 133), 0),\n",
       " ((0, 70, 134), 0),\n",
       " ((0, 71, 133), 0),\n",
       " ((0, 72, 133), 0),\n",
       " ((0, 73, 133), 0),\n",
       " ((0, 74, 133), 0),\n",
       " ((0, 75, 133), 0),\n",
       " ((0, 76, 133), 0),\n",
       " ((0, 77, 133), 0),\n",
       " ((0, 78, 133), 0),\n",
       " ((0, 79, 133), 0),\n",
       " ((0, 80, 133), 0),\n",
       " ((0, 81, 133), 0),\n",
       " ((0, 82, 133), 0),\n",
       " ((0, 83, 133), 0),\n",
       " ((0, 84, 133), 0),\n",
       " ((0, 85, 133), 0),\n",
       " ((0, 86, 133), 0),\n",
       " ((0, 87, 133), 0),\n",
       " ((0, 88, 133), 0),\n",
       " ((0, 88, 134), 0),\n",
       " ((0, 89, 134), 0),\n",
       " ((0, 90, 134), 0),\n",
       " ((0, 91, 134), 0),\n",
       " ((0, 92, 134), 0),\n",
       " ((0, 93, 134), 0),\n",
       " ((0, 94, 134), 0),\n",
       " ((0, 94, 135), 0),\n",
       " ((0, 95, 135), 0),\n",
       " ((0, 96, 135), 0),\n",
       " ((0, 97, 135), 0),\n",
       " ((0, 98, 135), 0),\n",
       " ((0, 99, 135), 0),\n",
       " ((0, 99, 136), 0),\n",
       " ((0, 100, 136), 0),\n",
       " ((0, 101, 136), 0),\n",
       " ((0, 102, 136), 0),\n",
       " ((0, 103, 136), 0),\n",
       " ((0, 104, 136), 0),\n",
       " ((0, 105, 136), 0),\n",
       " ((0, 106, 136), 0),\n",
       " ((0, 107, 136), 0),\n",
       " ((0, 108, 136), 0),\n",
       " ((0, 109, 136), 0),\n",
       " ((0, 110, 136), 0),\n",
       " ((0, 110, 137), 0),\n",
       " ((0, 111, 137), 0),\n",
       " ((0, 112, 137), 0),\n",
       " ((0, 113, 137), 0),\n",
       " ((0, 113, 138), 0),\n",
       " ((0, 114, 138), 0),\n",
       " ((0, 115, 138), 0),\n",
       " ((0, 115, 139), 0),\n",
       " ((0, 116, 139), 0)]"
      ]
     },
     "execution_count": 43,
     "metadata": {},
     "output_type": "execute_result"
    }
   ],
   "source": [
    "### BC sea\n",
    "\n",
    "# import the shapefile that correspond to the BC\n",
    "BCsea_path = \"../data/Sea_BC_L93.shp\"\n",
    "BC_sea = gp.read_file(BCsea_path)\n",
    "\n",
    "# extract cellids from the BC at the sea and make these cells active\n",
    "lst_chd = gp2cellids(grid,BC_sea,idomain,type=\"line\")\n",
    "# attribute a constant head at all the cells in the lst_chd\n",
    "CHD = 0; chd_lst=[];\n",
    "for x in lst_chd:\n",
    "    chd_lst.append((x,CHD))\n",
    "chd_lst"
   ]
  },
  {
   "cell_type": "code",
   "execution_count": 44,
   "metadata": {},
   "outputs": [],
   "source": [
    "#BC Agly\n",
    "BC_Agly = gp.read_file(Agly_path)\n",
    "BC_Agly = BC_Agly.sort_values(by=\"ORDRE\").set_index(\"ORDRE\") # sort multilines by the ORDRE column \n",
    "                                                             #that I have added to the shp\n"
   ]
  },
  {
   "cell_type": "code",
   "execution_count": 45,
   "metadata": {},
   "outputs": [],
   "source": [
    "#extract cellids from the river\n",
    "ix = GridIntersect(grid)\n",
    "lst_Agy = [];o = 0\n",
    "\n",
    "for i in range(BC_Agly.shape[0]):\n",
    "    cellids = ix.intersect_linestring(BC_Agly.iloc[i].geometry).cellids\n",
    "    for k in range(cellids.size):\n",
    "        if cellids[k] not in lst_Agy:\n",
    "            lst_Agy.append(cellids[k])"
   ]
  },
  {
   "cell_type": "code",
   "execution_count": 46,
   "metadata": {},
   "outputs": [],
   "source": [
    "# basic modules\n",
    "sim = fp.mf6.MFSimulation(sim_name='theis_mf6', version='mf6', exe_name=exe_name, \n",
    "                             sim_ws=model_dir)\n",
    "gwf = fp.mf6.ModflowGwf(sim, modelname=model_name,\n",
    "                           model_nam_file='{}.nam'.format(model_name))\n",
    "dis = fp.mf6.ModflowGwfdis(gwf, nlay=nlay, nrow=nrow, ncol=ncol,\n",
    "                              delr=delr, delc=delc,\n",
    "                              top=top, botm=botm,xorigin=x0,yorigin=y0,idomain=idomain)\n",
    "\n",
    "tdis = fp.mf6.ModflowTdis(sim, time_units='SECONDS',perioddata=[[1.0, 1, 1.]])\n",
    "ims  = fp.mf6.ModflowIms(sim, print_option='SUMMARY', complexity='complex')\n",
    "\n",
    "# initial conditions\n",
    "ic   = fp.mf6.ModflowGwfic(gwf)\n",
    "\n",
    "# nodeflowproperty\n",
    "kh = 1e-4\n",
    "npf  = fp.mf6.ModflowGwfnpf(gwf, icelltype=0, k=kh, save_flows=True,save_specific_discharge=True)\n",
    "\n",
    "#recharge\n",
    "mm = 100\n",
    "rch  = fp.mf6.ModflowGwfrcha(gwf, recharge = mm/1000/365/86400)\n",
    "\n",
    "# output control\n",
    "headfile = '{}.hds'.format(model_name)\n",
    "oc   = fp.mf6.ModflowGwfoc(gwf,budget_filerecord='{}.cbc'.format(model_name),\n",
    "                            head_filerecord='{}.hds'.format(model_name),\n",
    "                            saverecord=[('HEAD', 'LAST'),\n",
    "                                        ('BUDGET', 'LAST')],\n",
    "                            printrecord=[('HEAD', 'LAST'),\n",
    "                                         ('BUDGET', 'LAST')])\n",
    "\n",
    "# constant heads package\n",
    "chd = fp.mf6.modflow.mfgwfchd.ModflowGwfchd(gwf, pname='chd', maxbound=len(chd_lst), \n",
    "                                               stress_period_data=chd_lst, save_flows=True)\n"
   ]
  },
  {
   "cell_type": "code",
   "execution_count": 47,
   "metadata": {},
   "outputs": [
    {
     "data": {
      "text/plain": [
       "Text(0.5, 1.0, 'Layer 1: Constant Head Cells')"
      ]
     },
     "execution_count": 47,
     "metadata": {},
     "output_type": "execute_result"
    },
    {
     "data": {
      "image/png": "[encoded data removed]",
      "text/plain": [
       "<Figure size 432x288 with 1 Axes>"
      ]
     },
     "metadata": {
      "needs_background": "light"
     },
     "output_type": "display_data"
    }
   ],
   "source": [
    "# vizualize the BC cells\n",
    "iper = 0\n",
    "ra = chd.stress_period_data.get_data(key=iper)\n",
    "\n",
    "ibd = np.ones((nlay, nrow, ncol), dtype=np.int)\n",
    "for k, i, j in ra['cellid']:\n",
    "    ibd[k, i, j] = -1\n",
    "\n",
    "ilay = 0\n",
    "plt.imshow(ibd[ilay, :, :], interpolation='none')\n",
    "plt.title('Layer {}: Constant Head Cells'.format(ilay + 1))"
   ]
  },
  {
   "cell_type": "code",
   "execution_count": 48,
   "metadata": {},
   "outputs": [
    {
     "name": "stdout",
     "output_type": "stream",
     "text": [
      "writing simulation...\n",
      "  writing simulation name file...\n",
      "  writing simulation tdis package...\n",
      "  writing ims package ims_-1...\n",
      "  writing model dis_test...\n",
      "    writing model name file...\n",
      "    writing package dis...\n",
      "    writing package ic...\n",
      "    writing package npf...\n",
      "    writing package rcha...\n",
      "    writing package oc...\n",
      "    writing package chd...\n"
     ]
    }
   ],
   "source": [
    "sim.write_simulation()"
   ]
  },
  {
   "cell_type": "code",
   "execution_count": 49,
   "metadata": {
    "scrolled": true
   },
   "outputs": [
    {
     "name": "stdout",
     "output_type": "stream",
     "text": [
      "FloPy is using the following  executable to run the model: ../../exe/mf6.exe\n",
      "                                   MODFLOW 6\n",
      "                U.S. GEOLOGICAL SURVEY MODULAR HYDROLOGIC MODEL\n",
      "                            VERSION 6.0.4 03/13/2019\n",
      "\n",
      "   MODFLOW 6 compiled Mar 21 2019 15:37:31 with IFORT compiler (ver. 19.0.0)\n",
      "\n",
      "This software has been approved for release by the U.S. Geological \n",
      "Survey (USGS). Although the software has been subjected to rigorous \n",
      "review, the USGS reserves the right to update the software as needed \n",
      "pursuant to further analysis and review. No warranty, expressed or \n",
      "implied, is made by the USGS or the U.S. Government as to the \n",
      "functionality of the software and related material nor shall the \n",
      "fact of release constitute any such warranty. Furthermore, the \n",
      "software is released on condition that neither the USGS nor the U.S. \n",
      "Government shall be held liable for any damages resulting from its \n",
      "authorized or unauthorized use. Also refer to the USGS Water \n",
      "Resources Software User Rights Notice for complete use, copyright, \n",
      "and distribution information.\n",
      "\n",
      " Run start date and time (yyyy/mm/dd hh:mm:ss): 2020/02/12 18:18:48\n",
      "\n",
      " Writing simulation list file: mfsim.lst\n",
      " Using Simulation name file: mfsim.nam\n",
      " Solving:  Stress period:     1    Time step:     1\n",
      " Run end date and time (yyyy/mm/dd hh:mm:ss): 2020/02/12 18:18:48\n",
      " Elapsed run time:  0.161 Seconds\n",
      "\n",
      " Normal termination of simulation.\n"
     ]
    },
    {
     "data": {
      "text/plain": [
       "(True, [])"
      ]
     },
     "execution_count": 49,
     "metadata": {},
     "output_type": "execute_result"
    }
   ],
   "source": [
    "sim.run_simulation()"
   ]
  },
  {
   "cell_type": "code",
   "execution_count": 50,
   "metadata": {},
   "outputs": [],
   "source": [
    "# retrieve heads and spdis \n",
    "head=get_heads(model_name,model_dir)\n",
    "spdis = get_spdis(model_name,model_dir)"
   ]
  },
  {
   "cell_type": "code",
   "execution_count": 53,
   "metadata": {},
   "outputs": [
    {
     "data": {
      "image/png": "[encoded data removed]",
      "text/plain": [
       "<Figure size 576x576 with 2 Axes>"
      ]
     },
     "metadata": {
      "needs_background": "light"
     },
     "output_type": "display_data"
    }
   ],
   "source": [
    "# make a plot\n",
    "\n",
    "fig = plt.figure(figsize=(8,8))\n",
    "ax  = plt.subplot(1, 1, 1, aspect='equal')\n",
    "ml = fp.plot.PlotMapView(model=gwf)\n",
    "\n",
    "#hmesh=ml.plot_ibound()\n",
    "hmesh=ml.plot_array(head,masked_values=[1e30],cmap=\"viridis\")\n",
    "#ml.plot_specific_discharge(spdis[0],color=\"w\",width=0.005)\n",
    "ml.plot_bc(\"chd\",color=\"r\")\n",
    "g=plt.colorbar(hmesh)\n",
    "g.set_label(\"Head [m]\")"
   ]
  },
  {
   "cell_type": "code",
   "execution_count": 54,
   "metadata": {},
   "outputs": [
    {
     "data": {
      "text/plain": [
       "<matplotlib.collections.PatchCollection at 0x1aea4108a88>"
      ]
     },
     "execution_count": 54,
     "metadata": {},
     "output_type": "execute_result"
    },
    {
     "data": {
      "image/png": "[encoded data removed]",
      "text/plain": [
       "<Figure size 576x576 with 1 Axes>"
      ]
     },
     "metadata": {
      "needs_background": "light"
     },
     "output_type": "display_data"
    }
   ],
   "source": [
    "fig = plt.figure(figsize=(8, 8))\n",
    "ax = fig.add_subplot(aspect='equal')\n",
    "\n",
    "mm = fp.plot.PlotMapView(model=gwf)\n",
    "#mm.plot_grid()\n",
    "fp.plot.plot_shapefile(R_path,ax=ax,facecolor=\"Red\",alpha=0.5)\n",
    "fp.plot.plot_shapefile(Agly_path,ax=ax,facecolor=\"blue\")\n",
    "mm.plot_array(dis.idomain.array,alpha=0.5)\n",
    "fp.plot.plot_shapefile(BCsea_path,ax=ax,edgecolor=\"r\",facecolor=\"none\",linewidth=4)"
   ]
  },
  {
   "cell_type": "code",
   "execution_count": null,
   "metadata": {},
   "outputs": [],
   "source": [
    "dis.plot()"
   ]
  },
  {
   "cell_type": "code",
   "execution_count": null,
   "metadata": {},
   "outputs": [],
   "source": []
  }
 ],
 "metadata": {
  "kernelspec": {
   "display_name": "Python 3",
   "language": "python",
   "name": "python3"
  },
  "language_info": {
   "codemirror_mode": {
    "name": "ipython",
    "version": 3
   },
   "file_extension": ".py",
   "mimetype": "text/x-python",
   "name": "python",
   "nbconvert_exporter": "python",
   "pygments_lexer": "ipython3",
   "version": "3.7.4"
  }
 },
 "nbformat": 4,
 "nbformat_minor": 2
}
