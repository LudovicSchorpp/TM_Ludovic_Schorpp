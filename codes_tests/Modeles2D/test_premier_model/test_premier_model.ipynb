{
 "cells": [
  {
   "cell_type": "code",
   "execution_count": 1,
   "metadata": {},
   "outputs": [
    {
     "name": "stdout",
     "output_type": "stream",
     "text": [
      "flopy is installed in C:\\Users\\emmal\\Anaconda3\\lib\\site-packages\\flopy\n"
     ]
    }
   ],
   "source": [
    "import flopy as fp\n",
    "import numpy as np\n",
    "import geopandas as gp\n",
    "import pandas as pd\n",
    "import os\n",
    "from osgeo import ogr\n",
    "import gdal\n",
    "import matplotlib.pyplot as plt\n",
    "from flopy.utils.gridgen import Gridgen \n",
    "from flopy.utils.gridintersect import GridIntersect\n",
    "import shapely\n",
    "from shapely.geometry import Polygon, Point, LineString, MultiLineString, MultiPoint, MultiPolygon,shape\n",
    "from shapely.strtree import STRtree  \n",
    "\n",
    "# hand made functions\n",
    "from Rouss1 import Imreduction, gp2idomain, gp2cellids,cellidBD, get_heads, get_spdis, get_MNTbbox"
   ]
  },
  {
   "cell_type": "code",
   "execution_count": 2,
   "metadata": {},
   "outputs": [],
   "source": [
    "model_dir = \"workingDis\"\n",
    "model_name=\"dis_test\"\n",
    "exe_name=\"../../exe/mf6\""
   ]
  },
  {
   "cell_type": "code",
   "execution_count": 3,
   "metadata": {},
   "outputs": [],
   "source": [
    "R_path=\"../data/limiteModeleRoussillon_poly.shp\" # path to the shp of the aquifer\n",
    "MNT_path= \"../../../../../MNT_demo_5m.tif\"\n",
    "Agly_path=\"../data/Fleuves/Fleuve_Agly.shp\" # path to Agly\n",
    "\n",
    "# get x0,y0,y1 and x1\n",
    "x0,y0,x1,y1 = get_MNTbbox(MNT_path)"
   ]
  },
  {
   "cell_type": "code",
   "execution_count": 4,
   "metadata": {},
   "outputs": [],
   "source": [
    "#spatial parameters\n",
    "Lx = x1-x0\n",
    "Ly = y1-y0\n",
    "nlay = 1\n",
    "ncol = 50\n",
    "nrow = 50\n",
    "delr = np.ones(ncol)*(Lx/ncol)\n",
    "delc = np.ones(nrow)*(Ly/nrow)\n",
    "botm = -100\n",
    "top = 10. # if no mnt is provided\n",
    "idomain = np.zeros((nrow*ncol))"
   ]
  },
  {
   "cell_type": "code",
   "execution_count": 5,
   "metadata": {
    "scrolled": false
   },
   "outputs": [],
   "source": [
    "# import a mnt and extract topography data --> add it to top of the cells\n",
    "\n",
    "from PIL import Image\n",
    "im = Image.open(MNT_path) # add path to MNT.tif\n",
    "imar = np.array(im) # create an array\n",
    "imar[imar==0]=None # None where it's nodata\n",
    "\n",
    "top = Imreduction(imar,nrow,ncol)"
   ]
  },
  {
   "cell_type": "code",
   "execution_count": 6,
   "metadata": {},
   "outputs": [],
   "source": [
    "R = gp.read_file(R_path) # import shapefile with geopandas\n",
    "grid = fp.discretization.StructuredGrid(delc,delr,xoff=x0,yoff=y0)\n",
    "\n",
    "#cells inside the aquifer become active and return the lst of the cellids\n",
    "lst_domain = gp2idomain(R,grid,idomain,area=3)"
   ]
  },
  {
   "cell_type": "code",
   "execution_count": 7,
   "metadata": {},
   "outputs": [],
   "source": [
    "### BC sea\n",
    "\n",
    "# import the shapefile that correspond to the BC\n",
    "BCsea_path = \"../data/Sea_BC_L93.shp\"\n",
    "BC_sea = gp.read_file(BCsea_path)\n",
    "\n",
    "# extract cellids from the BC at the sea and make these cells active\n",
    "lst_chd = gp2cellids(grid,BC_sea,idomain,type=\"line\")\n",
    "# attribute a constant head at all the cells in the lst_chd\n",
    "CHD = 0; chd_lst=[];\n",
    "for x in lst_chd:\n",
    "    chd_lst.append((x,CHD))"
   ]
  },
  {
   "cell_type": "code",
   "execution_count": 75,
   "metadata": {},
   "outputs": [
    {
     "data": {
      "text/plain": [
       "ID_BDCARTO                                               406328\n",
       "ETAT                                                  Permanent\n",
       "LARGEUR                                        De 0 à 15 mètres\n",
       "NATURE                                      Cours d'eau naturel\n",
       "NAVIGABLE                                         Non navigable\n",
       "POS_SOL                                                       0\n",
       "TOPONYME                                          fleuve l'agly\n",
       "SENS                                            Sens du tronçon\n",
       "CLASSE                                                      100\n",
       "geometry      (LINESTRING (660407 6188264, 660457 6188244), ...\n",
       "Name: 15, dtype: object"
      ]
     },
     "execution_count": 75,
     "metadata": {},
     "output_type": "execute_result"
    }
   ],
   "source": [
    "#BC Agly\n",
    "BC_Agly = gp.read_file(Agly_path)\n",
    "BC_Agly = BC_Agly.sort_values(by=\"ORDRE\").set_index(\"ORDRE\") # sort multilines by the ORDRE column \n",
    "                                                             #that I have added to the shp\n"
   ]
  },
  {
   "cell_type": "code",
   "execution_count": 89,
   "metadata": {},
   "outputs": [
    {
     "data": {
      "text/plain": [
       "[(15, 0),\n",
       " (15, 1),\n",
       " (16, 0),\n",
       " (16, 1),\n",
       " (17, 0),\n",
       " (18, 0),\n",
       " (18, 1),\n",
       " (19, 1),\n",
       " (19, 2),\n",
       " (19, 3),\n",
       " (19, 4),\n",
       " (20, 4),\n",
       " (20, 5),\n",
       " (20, 6),\n",
       " (20, 7),\n",
       " (19, 6),\n",
       " (19, 7),\n",
       " (18, 7),\n",
       " (18, 8),\n",
       " (18, 9),\n",
       " (18, 10),\n",
       " (17, 12),\n",
       " (18, 11),\n",
       " (18, 12),\n",
       " (17, 13),\n",
       " (17, 14),\n",
       " (17, 15),\n",
       " (16, 15),\n",
       " (16, 16),\n",
       " (17, 16),\n",
       " (17, 17),\n",
       " (16, 17),\n",
       " (16, 18),\n",
       " (16, 19),\n",
       " (16, 20),\n",
       " (17, 20),\n",
       " (17, 21),\n",
       " (17, 22),\n",
       " (16, 23),\n",
       " (17, 23),\n",
       " (16, 24),\n",
       " (17, 24),\n",
       " (15, 25),\n",
       " (16, 25),\n",
       " (17, 25),\n",
       " (15, 26),\n",
       " (16, 26),\n",
       " (16, 27),\n",
       " (16, 28),\n",
       " (16, 29),\n",
       " (16, 30),\n",
       " (17, 30),\n",
       " (17, 31),\n",
       " (17, 32),\n",
       " (17, 33),\n",
       " (17, 34),\n",
       " (17, 35),\n",
       " (17, 36),\n",
       " (18, 36),\n",
       " (18, 37),\n",
       " (18, 38),\n",
       " (19, 38),\n",
       " (19, 39),\n",
       " (19, 40),\n",
       " (18, 41),\n",
       " (19, 41),\n",
       " (18, 42),\n",
       " (18, 43),\n",
       " (18, 44),\n",
       " (17, 44),\n",
       " (17, 45),\n",
       " (17, 46),\n",
       " (16, 47),\n",
       " (17, 47)]"
      ]
     },
     "execution_count": 89,
     "metadata": {},
     "output_type": "execute_result"
    }
   ],
   "source": [
    "#extract cellids from the river\n",
    "ix = GridIntersect(grid)\n",
    "lst_Agy = [];o = 0\n",
    "\n",
    "for i in range(BC_Agly.shape[0]):\n",
    "    cellids = ix.intersect_linestring(BC_Agly.iloc[i].geometry).cellids\n",
    "    for k in range(cellids.size):\n",
    "        if cellids[k] not in lst_Agy:\n",
    "            lst_Agy.append(cellids[k])\n",
    "lst_Agy"
   ]
  },
  {
   "cell_type": "code",
   "execution_count": 8,
   "metadata": {},
   "outputs": [],
   "source": [
    "# basic modules\n",
    "sim = fp.mf6.MFSimulation(sim_name='theis_mf6', version='mf6', exe_name=exe_name, \n",
    "                             sim_ws=model_dir)\n",
    "gwf = fp.mf6.ModflowGwf(sim, modelname=model_name,\n",
    "                           model_nam_file='{}.nam'.format(model_name))\n",
    "dis = fp.mf6.ModflowGwfdis(gwf, nlay=nlay, nrow=nrow, ncol=ncol,\n",
    "                              delr=delr, delc=delc,\n",
    "                              top=top, botm=botm,xorigin=x0,yorigin=y0,idomain=idomain)\n",
    "\n",
    "tdis = fp.mf6.ModflowTdis(sim, time_units='SECONDS',perioddata=[[1.0, 1, 1.]])\n",
    "ims  = fp.mf6.ModflowIms(sim, print_option='SUMMARY', complexity='simple')\n",
    "\n",
    "# initial conditions\n",
    "ic   = fp.mf6.ModflowGwfic(gwf)\n",
    "\n",
    "# nodeflowproperty\n",
    "kh = 1e-4*np.ones(nrow*ncol)\n",
    "npf  = fp.mf6.ModflowGwfnpf(gwf, icelltype=0, k=kh, save_flows=True,save_specific_discharge=True)\n",
    "\n",
    "#recharge\n",
    "mm = 100\n",
    "rch  = fp.mf6.ModflowGwfrcha(gwf, recharge = mm/1000/365/86400)\n",
    "\n",
    "# output control\n",
    "headfile = '{}.hds'.format(model_name)\n",
    "oc   = fp.mf6.ModflowGwfoc(gwf,budget_filerecord='{}.cbc'.format(model_name),\n",
    "                            head_filerecord='{}.hds'.format(model_name),\n",
    "                            saverecord=[('HEAD', 'LAST'),\n",
    "                                        ('BUDGET', 'LAST')],\n",
    "                            printrecord=[('HEAD', 'LAST'),\n",
    "                                         ('BUDGET', 'LAST')])\n",
    "\n",
    "# constant heads package\n",
    "chd = fp.mf6.modflow.mfgwfchd.ModflowGwfchd(gwf, pname='chd', maxbound=len(chd_lst), \n",
    "                                               stress_period_data=chd_lst, save_flows=True)\n"
   ]
  },
  {
   "cell_type": "code",
   "execution_count": 9,
   "metadata": {},
   "outputs": [
    {
     "data": {
      "text/plain": [
       "Text(0.5, 1.0, 'Layer 1: Constant Head Cells')"
      ]
     },
     "execution_count": 9,
     "metadata": {},
     "output_type": "execute_result"
    },
    {
     "data": {
      "image/png": "[encoded data removed]",
      "text/plain": [
       "<Figure size 432x288 with 1 Axes>"
      ]
     },
     "metadata": {
      "needs_background": "light"
     },
     "output_type": "display_data"
    }
   ],
   "source": [
    "# vizualize the BC cells\n",
    "iper = 0\n",
    "ra = chd.stress_period_data.get_data(key=iper)\n",
    "\n",
    "ibd = np.ones((nlay, nrow, ncol), dtype=np.int)\n",
    "for k, i, j in ra['cellid']:\n",
    "    ibd[k, i, j] = -1\n",
    "\n",
    "ilay = 0\n",
    "plt.imshow(ibd[ilay, :, :], interpolation='none')\n",
    "plt.title('Layer {}: Constant Head Cells'.format(ilay + 1))"
   ]
  },
  {
   "cell_type": "code",
   "execution_count": 11,
   "metadata": {},
   "outputs": [
    {
     "name": "stdout",
     "output_type": "stream",
     "text": [
      "writing simulation...\n",
      "  writing simulation name file...\n",
      "  writing simulation tdis package...\n",
      "  writing ims package ims_-1...\n",
      "  writing model dis_test...\n",
      "    writing model name file...\n",
      "    writing package dis...\n",
      "    writing package ic...\n",
      "    writing package npf...\n",
      "    writing package rcha...\n",
      "    writing package oc...\n",
      "    writing package chd...\n"
     ]
    }
   ],
   "source": [
    "sim.write_simulation()"
   ]
  },
  {
   "cell_type": "code",
   "execution_count": 12,
   "metadata": {
    "scrolled": false
   },
   "outputs": [
    {
     "name": "stdout",
     "output_type": "stream",
     "text": [
      "FloPy is using the following  executable to run the model: ../../exe/mf6.exe\n",
      "                                   MODFLOW 6\n",
      "                U.S. GEOLOGICAL SURVEY MODULAR HYDROLOGIC MODEL\n",
      "                            VERSION 6.0.4 03/13/2019\n",
      "\n",
      "   MODFLOW 6 compiled Mar 21 2019 15:37:31 with IFORT compiler (ver. 19.0.0)\n",
      "\n",
      "This software has been approved for release by the U.S. Geological \n",
      "Survey (USGS). Although the software has been subjected to rigorous \n",
      "review, the USGS reserves the right to update the software as needed \n",
      "pursuant to further analysis and review. No warranty, expressed or \n",
      "implied, is made by the USGS or the U.S. Government as to the \n",
      "functionality of the software and related material nor shall the \n",
      "fact of release constitute any such warranty. Furthermore, the \n",
      "software is released on condition that neither the USGS nor the U.S. \n",
      "Government shall be held liable for any damages resulting from its \n",
      "authorized or unauthorized use. Also refer to the USGS Water \n",
      "Resources Software User Rights Notice for complete use, copyright, \n",
      "and distribution information.\n",
      "\n",
      " Run start date and time (yyyy/mm/dd hh:mm:ss): 2020/02/07 11:30:54\n",
      "\n",
      " Writing simulation list file: mfsim.lst\n",
      " Using Simulation name file: mfsim.nam\n",
      " Solving:  Stress period:     1    Time step:     1\n",
      " Run end date and time (yyyy/mm/dd hh:mm:ss): 2020/02/07 11:30:54\n",
      " Elapsed run time:  0.440 Seconds\n",
      "\n",
      " Normal termination of simulation.\n"
     ]
    },
    {
     "data": {
      "text/plain": [
       "(True, [])"
      ]
     },
     "execution_count": 12,
     "metadata": {},
     "output_type": "execute_result"
    }
   ],
   "source": [
    "sim.run_simulation()"
   ]
  },
  {
   "cell_type": "code",
   "execution_count": 13,
   "metadata": {},
   "outputs": [],
   "source": [
    "# retrieve heads and spdis \n",
    "head=get_heads(model_name,model_dir)\n",
    "spdis = get_spdis(model_name,model_dir)"
   ]
  },
  {
   "cell_type": "code",
   "execution_count": 14,
   "metadata": {},
   "outputs": [
    {
     "data": {
      "text/plain": [
       "<matplotlib.colorbar.Colorbar at 0x20846a2fe48>"
      ]
     },
     "execution_count": 14,
     "metadata": {},
     "output_type": "execute_result"
    },
    {
     "data": {
      "image/png": "[encoded data removed]",
      "text/plain": [
       "<Figure size 576x576 with 2 Axes>"
      ]
     },
     "metadata": {
      "needs_background": "light"
     },
     "output_type": "display_data"
    }
   ],
   "source": [
    "# make a plot\n",
    "\n",
    "fig = plt.figure(figsize=(8,8))\n",
    "ax  = plt.subplot(1, 1, 1, aspect='equal')\n",
    "ml = fp.plot.PlotMapView(model=gwf)\n",
    "\n",
    "#hmesh=ml.plot_ibound()\n",
    "hmesh=ml.plot_array(head,masked_values=[1e30],cmap=\"viridis\")\n",
    "#ml.plot_specific_discharge(spdis[0],color=\"w\",width=0.005)\n",
    "ml.plot_bc(\"chd\",color=\"r\")\n",
    "plt.colorbar(hmesh)"
   ]
  },
  {
   "cell_type": "code",
   "execution_count": 106,
   "metadata": {},
   "outputs": [
    {
     "data": {
      "image/svg+xml": [
       "<svg xmlns=\"http://www.w3.org/2000/svg\" xmlns:xlink=\"http://www.w3.org/1999/xlink\" width=\"300\" height=\"300\" viewBox=\"656401.48 6193481.48 1062.0400000000373 1418.039999999106\" preserveAspectRatio=\"xMinYMin meet\"><g transform=\"matrix(1,0,0,-1,0,12388381.0)\"><g><polyline fill=\"none\" stroke=\"#66cc99\" stroke-width=\"9.45359999999404\" points=\"656614.0,6194847.0 656649.0,6194831.0\" opacity=\"0.8\" /><polyline fill=\"none\" stroke=\"#66cc99\" stroke-width=\"9.45359999999404\" points=\"656649.0,6194831.0 656654.0,6194816.0\" opacity=\"0.8\" /><polyline fill=\"none\" stroke=\"#66cc99\" stroke-width=\"9.45359999999404\" points=\"656654.0,6194816.0 656654.0,6194791.0\" opacity=\"0.8\" /><polyline fill=\"none\" stroke=\"#66cc99\" stroke-width=\"9.45359999999404\" points=\"656654.0,6194791.0 656623.0,6194762.0\" opacity=\"0.8\" /><polyline fill=\"none\" stroke=\"#66cc99\" stroke-width=\"9.45359999999404\" points=\"656623.0,6194762.0 656623.0,6194702.0\" opacity=\"0.8\" /><polyline fill=\"none\" stroke=\"#66cc99\" stroke-width=\"9.45359999999404\" points=\"656623.0,6194702.0 656628.0,6194687.0\" opacity=\"0.8\" /><polyline fill=\"none\" stroke=\"#66cc99\" stroke-width=\"9.45359999999404\" points=\"656628.0,6194687.0 656658.0,6194661.0\" opacity=\"0.8\" /><polyline fill=\"none\" stroke=\"#66cc99\" stroke-width=\"9.45359999999404\" points=\"656658.0,6194661.0 656662.0,6194641.0\" opacity=\"0.8\" /><polyline fill=\"none\" stroke=\"#66cc99\" stroke-width=\"9.45359999999404\" points=\"656662.0,6194641.0 656682.0,6194610.0\" opacity=\"0.8\" /><polyline fill=\"none\" stroke=\"#66cc99\" stroke-width=\"9.45359999999404\" points=\"656682.0,6194610.0 656707.0,6194580.0\" opacity=\"0.8\" /><polyline fill=\"none\" stroke=\"#66cc99\" stroke-width=\"9.45359999999404\" points=\"656707.0,6194580.0 656712.0,6194555.0\" opacity=\"0.8\" /><polyline fill=\"none\" stroke=\"#66cc99\" stroke-width=\"9.45359999999404\" points=\"656712.0,6194555.0 656691.0,6194480.0\" opacity=\"0.8\" /><polyline fill=\"none\" stroke=\"#66cc99\" stroke-width=\"9.45359999999404\" points=\"656691.0,6194480.0 656671.0,6194456.0\" opacity=\"0.8\" /><polyline fill=\"none\" stroke=\"#66cc99\" stroke-width=\"9.45359999999404\" points=\"656671.0,6194456.0 656626.0,6194461.0\" opacity=\"0.8\" /><polyline fill=\"none\" stroke=\"#66cc99\" stroke-width=\"9.45359999999404\" points=\"656626.0,6194461.0 656576.0,6194481.0\" opacity=\"0.8\" /><polyline fill=\"none\" stroke=\"#66cc99\" stroke-width=\"9.45359999999404\" points=\"656576.0,6194481.0 656541.0,6194472.0\" opacity=\"0.8\" /><polyline fill=\"none\" stroke=\"#66cc99\" stroke-width=\"9.45359999999404\" points=\"656541.0,6194472.0 656490.0,6194422.0\" opacity=\"0.8\" /><polyline fill=\"none\" stroke=\"#66cc99\" stroke-width=\"9.45359999999404\" points=\"656490.0,6194422.0 656460.0,6194402.0\" opacity=\"0.8\" /><polyline fill=\"none\" stroke=\"#66cc99\" stroke-width=\"9.45359999999404\" points=\"656460.0,6194402.0 656454.0,6194377.0\" opacity=\"0.8\" /><polyline fill=\"none\" stroke=\"#66cc99\" stroke-width=\"9.45359999999404\" points=\"656454.0,6194377.0 656459.0,6194362.0\" opacity=\"0.8\" /><polyline fill=\"none\" stroke=\"#66cc99\" stroke-width=\"9.45359999999404\" points=\"656459.0,6194362.0 656489.0,6194337.0\" opacity=\"0.8\" /><polyline fill=\"none\" stroke=\"#66cc99\" stroke-width=\"9.45359999999404\" points=\"656489.0,6194337.0 656555.0,6194312.0\" opacity=\"0.8\" /><polyline fill=\"none\" stroke=\"#66cc99\" stroke-width=\"9.45359999999404\" points=\"656555.0,6194312.0 656589.0,6194271.0\" opacity=\"0.8\" /><polyline fill=\"none\" stroke=\"#66cc99\" stroke-width=\"9.45359999999404\" points=\"656589.0,6194271.0 656619.0,6194231.0\" opacity=\"0.8\" /><polyline fill=\"none\" stroke=\"#66cc99\" stroke-width=\"9.45359999999404\" points=\"656619.0,6194231.0 656649.0,6194206.0\" opacity=\"0.8\" /><polyline fill=\"none\" stroke=\"#66cc99\" stroke-width=\"9.45359999999404\" points=\"656649.0,6194206.0 656674.0,6194206.0\" opacity=\"0.8\" /><polyline fill=\"none\" stroke=\"#66cc99\" stroke-width=\"9.45359999999404\" points=\"656674.0,6194206.0 656709.0,6194230.0\" opacity=\"0.8\" /><polyline fill=\"none\" stroke=\"#66cc99\" stroke-width=\"9.45359999999404\" points=\"656709.0,6194230.0 656784.0,6194220.0\" opacity=\"0.8\" /><polyline fill=\"none\" stroke=\"#66cc99\" stroke-width=\"9.45359999999404\" points=\"656784.0,6194220.0 656809.0,6194230.0\" opacity=\"0.8\" /><polyline fill=\"none\" stroke=\"#66cc99\" stroke-width=\"9.45359999999404\" points=\"656809.0,6194230.0 656859.0,6194269.0\" opacity=\"0.8\" /><polyline fill=\"none\" stroke=\"#66cc99\" stroke-width=\"9.45359999999404\" points=\"656859.0,6194269.0 656919.0,6194294.0\" opacity=\"0.8\" /><polyline fill=\"none\" stroke=\"#66cc99\" stroke-width=\"9.45359999999404\" points=\"656919.0,6194294.0 656969.0,6194293.0\" opacity=\"0.8\" /><polyline fill=\"none\" stroke=\"#66cc99\" stroke-width=\"9.45359999999404\" points=\"656969.0,6194293.0 657020.0,6194283.0\" opacity=\"0.8\" /><polyline fill=\"none\" stroke=\"#66cc99\" stroke-width=\"9.45359999999404\" points=\"657020.0,6194283.0 657035.0,6194278.0\" opacity=\"0.8\" /><polyline fill=\"none\" stroke=\"#66cc99\" stroke-width=\"9.45359999999404\" points=\"657035.0,6194278.0 657070.0,6194237.0\" opacity=\"0.8\" /><polyline fill=\"none\" stroke=\"#66cc99\" stroke-width=\"9.45359999999404\" points=\"657070.0,6194237.0 657104.0,6194227.0\" opacity=\"0.8\" /><polyline fill=\"none\" stroke=\"#66cc99\" stroke-width=\"9.45359999999404\" points=\"657104.0,6194227.0 657174.0,6194227.0\" opacity=\"0.8\" /><polyline fill=\"none\" stroke=\"#66cc99\" stroke-width=\"9.45359999999404\" points=\"657174.0,6194227.0 657249.0,6194191.0\" opacity=\"0.8\" /><polyline fill=\"none\" stroke=\"#66cc99\" stroke-width=\"9.45359999999404\" points=\"657249.0,6194191.0 657259.0,6194181.0\" opacity=\"0.8\" /><polyline fill=\"none\" stroke=\"#66cc99\" stroke-width=\"9.45359999999404\" points=\"657259.0,6194181.0 657274.0,6194146.0\" opacity=\"0.8\" /><polyline fill=\"none\" stroke=\"#66cc99\" stroke-width=\"9.45359999999404\" points=\"657274.0,6194146.0 657293.0,6194126.0\" opacity=\"0.8\" /><polyline fill=\"none\" stroke=\"#66cc99\" stroke-width=\"9.45359999999404\" points=\"657293.0,6194126.0 657293.0,6194090.0\" opacity=\"0.8\" /><polyline fill=\"none\" stroke=\"#66cc99\" stroke-width=\"9.45359999999404\" points=\"657293.0,6194090.0 657283.0,6194070.0\" opacity=\"0.8\" /><polyline fill=\"none\" stroke=\"#66cc99\" stroke-width=\"9.45359999999404\" points=\"657283.0,6194070.0 657282.0,6193995.0\" opacity=\"0.8\" /><polyline fill=\"none\" stroke=\"#66cc99\" stroke-width=\"9.45359999999404\" points=\"657282.0,6193995.0 657347.0,6193924.0\" opacity=\"0.8\" /><polyline fill=\"none\" stroke=\"#66cc99\" stroke-width=\"9.45359999999404\" points=\"657347.0,6193924.0 657356.0,6193899.0\" opacity=\"0.8\" /><polyline fill=\"none\" stroke=\"#66cc99\" stroke-width=\"9.45359999999404\" points=\"657356.0,6193899.0 657396.0,6193849.0\" opacity=\"0.8\" /><polyline fill=\"none\" stroke=\"#66cc99\" stroke-width=\"9.45359999999404\" points=\"657396.0,6193849.0 657411.0,6193814.0\" opacity=\"0.8\" /><polyline fill=\"none\" stroke=\"#66cc99\" stroke-width=\"9.45359999999404\" points=\"657411.0,6193814.0 657405.0,6193714.0\" opacity=\"0.8\" /><polyline fill=\"none\" stroke=\"#66cc99\" stroke-width=\"9.45359999999404\" points=\"657405.0,6193714.0 657400.0,6193704.0\" opacity=\"0.8\" /><polyline fill=\"none\" stroke=\"#66cc99\" stroke-width=\"9.45359999999404\" points=\"657400.0,6193704.0 657369.0,6193670.0\" opacity=\"0.8\" /><polyline fill=\"none\" stroke=\"#66cc99\" stroke-width=\"9.45359999999404\" points=\"657369.0,6193670.0 657353.0,6193559.0\" opacity=\"0.8\" /><polyline fill=\"none\" stroke=\"#66cc99\" stroke-width=\"9.45359999999404\" points=\"657353.0,6193559.0 657360.0,6193534.0\" opacity=\"0.8\" /></g></g></svg>"
      ],
      "text/plain": [
       "<shapely.geometry.multilinestring.MultiLineString at 0x215ca05da88>"
      ]
     },
     "execution_count": 106,
     "metadata": {},
     "output_type": "execute_result"
    },
    {
     "data": {
      "image/png": "[encoded data removed]",
      "text/plain": [
       "<Figure size 576x576 with 1 Axes>"
      ]
     },
     "metadata": {
      "needs_background": "light"
     },
     "output_type": "display_data"
    }
   ],
   "source": [
    "fig = plt.figure(figsize=(8, 8))\n",
    "ax = fig.add_subplot(aspect='equal')\n",
    "\n",
    "mm = fp.plot.PlotMapView(model=gwf)\n",
    "#mm.plot_grid()\n",
    "fp.plot.plot_shapefile(R_path,ax=ax,facecolor=\"Red\",alpha=0.5)\n",
    "fp.plot.plot_shapefile(Agly_path,ax=ax,facecolor=\"blue\")\n",
    "mm.plot_array(dis.idomain.array,alpha=0.5)\n",
    "fp.plot.plot_shapefile(BCsea_path,ax=ax,edgecolor=\"r\",facecolor=\"none\",linewidth=4)"
   ]
  },
  {
   "cell_type": "code",
   "execution_count": null,
   "metadata": {},
   "outputs": [],
   "source": []
  },
  {
   "cell_type": "code",
   "execution_count": null,
   "metadata": {},
   "outputs": [],
   "source": []
  }
 ],
 "metadata": {
  "kernelspec": {
   "display_name": "Python 3",
   "language": "python",
   "name": "python3"
  },
  "language_info": {
   "codemirror_mode": {
    "name": "ipython",
    "version": 3
   },
   "file_extension": ".py",
   "mimetype": "text/x-python",
   "name": "python",
   "nbconvert_exporter": "python",
   "pygments_lexer": "ipython3",
   "version": "3.7.4"
  }
 },
 "nbformat": 4,
 "nbformat_minor": 2
}
