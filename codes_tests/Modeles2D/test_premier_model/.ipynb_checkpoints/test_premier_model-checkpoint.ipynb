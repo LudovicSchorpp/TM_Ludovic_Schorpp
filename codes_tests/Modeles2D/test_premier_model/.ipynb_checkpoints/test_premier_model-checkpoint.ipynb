{
 "cells": [
  {
   "cell_type": "code",
   "execution_count": 2,
   "metadata": {},
   "outputs": [],
   "source": [
    "import flopy as fp\n",
    "import numpy as np\n",
    "import geopandas as gp\n",
    "import pandas as pd\n",
    "import os\n",
    "from osgeo import ogr\n",
    "import gdal\n",
    "import matplotlib.pyplot as plt\n",
    "from flopy.utils.gridgen import Gridgen \n",
    "from flopy.utils.gridintersect import GridIntersect\n",
    "from flopy.utils import Raster\n",
    "import shapely\n",
    "from shapely.geometry import Polygon, Point, LineString, MultiLineString, MultiPoint, MultiPolygon,shape\n",
    "from shapely.strtree import STRtree  \n",
    "\n",
    "# hand made functions\n",
    "from Rouss1 import gp2idomain, gp2cellids, get_heads, get_spdis, get_MNTbbox, import_riv\n",
    "from Rouss1 import inter_lst,get_cellcenters, lin_interp,ibd_bcdata"
   ]
  },
  {
   "cell_type": "code",
   "execution_count": 3,
   "metadata": {},
   "outputs": [],
   "source": [
    "model_dir = \"working\"\n",
    "model_name = \"first_2D\"\n",
    "exe_name= \"../../exe/mf6\""
   ]
  },
  {
   "cell_type": "code",
   "execution_count": 252,
   "metadata": {},
   "outputs": [],
   "source": [
    "R_path=\"../data/limiteModeleRoussillon_poly.shp\" # path to the shp of the aquifer\n",
    "MNT_path= \"../data/MNT/MNT_50.tif\"\n",
    "Agly_path= \"../data/Fleuves/Agly_ludo.shp\" # path to Agly\n",
    "Tet_path= \"../data/Fleuves/Tet_ludo.shp\"\n",
    "Rea_path = \"../data/Fleuves/Reart_ludo.shp\"\n",
    "Tech_path = \"../data/Fleuves/Tech_ludo.shp\"\n"
   ]
  },
  {
   "cell_type": "code",
   "execution_count": 5,
   "metadata": {},
   "outputs": [],
   "source": [
    "#spatial parameters\n",
    "\n",
    "# get x0,y0,y1 and x1 from the DEM\n",
    "x0,y0,x1,y1 = get_MNTbbox(MNT_path)\n",
    "x1 += 4000\n",
    "\n",
    "Lx = x1-x0\n",
    "Ly = y1-y0\n",
    "nlay = 1\n",
    "ncol = nrow = 100\n",
    "delr = np.ones(ncol)*(Lx/ncol)\n",
    "delc = np.ones(nrow)*(Ly/nrow)\n",
    "botm = -50\n",
    "top = 10. # if no mnt is provided\n",
    "idomain = np.zeros((nrow*ncol))"
   ]
  },
  {
   "cell_type": "code",
   "execution_count": 6,
   "metadata": {},
   "outputs": [],
   "source": [
    "# load top data\n",
    "MNT = Raster.load(MNT_path)\n",
    "grid = fp.discretization.StructuredGrid(delc,delr,xoff=x0,yoff=y0)\n",
    "\n",
    "top = dem_data = MNT.resample_to_grid(grid.xcellcenters,\n",
    "                                grid.ycellcenters,\n",
    "                                band = MNT.bands[0],\n",
    "                                method=\"nearest\")"
   ]
  },
  {
   "cell_type": "code",
   "execution_count": 7,
   "metadata": {},
   "outputs": [],
   "source": [
    "R = gp.read_file(R_path) # import shapefile with geopandas\n",
    "\n",
    "#cells inside the aquifer become active and return the lst of the cellids\n",
    "lst_domain = gp2idomain(R,grid,idomain,area=0) # all the cells of the model\n"
   ]
  },
  {
   "cell_type": "code",
   "execution_count": 8,
   "metadata": {},
   "outputs": [],
   "source": [
    "### BC sea\n",
    "\n",
    "# import the shapefile that correspond to the BC\n",
    "BCsea_path = \"../data/Sea_BC_L93.shp\"\n",
    "BC_sea = gp.read_file(BCsea_path)\n",
    "\n",
    "# extract cellids from the BC at the sea and make these cells active\n",
    "lst_chd = gp2cellids(grid,BC_sea,idomain,type=\"line\")\n",
    "\n",
    "# attribute a constant head at all the cells in the lst_chd\n",
    "CHD = 0; chd_lst=[];\n",
    "for x in lst_chd:\n",
    "    chd_lst.append((x,CHD))"
   ]
  },
  {
   "cell_type": "code",
   "execution_count": 9,
   "metadata": {},
   "outputs": [],
   "source": [
    "# BC etangs\n",
    "BCetangs_path = \"../../data/shp/Surface_hydro/SURFACE_HYDROGRAPHIQUE.shp\"\n",
    "Bcet = gp.read_file(BCetangs_path)\n",
    "etangs = Bcet[(Bcet[\"TOPONYME\"]==\"étang de canet\") | (Bcet[\"TOPONYME\"]==\"étang de leucate\")]\n",
    "\n",
    "# extract cellids from the BC \n",
    "etangs_chd = gp2cellids(grid,etangs.dissolve(by=\"NATURE\"),idomain,areas=10)\n",
    "\n",
    "# attribute a constant head\n",
    "CHD = 0; et_chd_lst=[];\n",
    "for x in etangs_chd:\n",
    "    et_chd_lst.append((x,CHD))\n"
   ]
  },
  {
   "cell_type": "code",
   "execution_count": 234,
   "metadata": {},
   "outputs": [],
   "source": [
    "def linInt_Dfcol(df,col=\"head\",null=0):\n",
    "    \n",
    "    \"\"\"\n",
    "    function that linearly interpolates the values in a column btwn certain given value a null value is indicated by 0.\n",
    "    this function needs the lin_interp function.\n",
    "    \"\"\"\n",
    "    \n",
    "    new_heads=np.zeros([df.shape[0]])\n",
    "    for i in np.arange(df[df[col]!=0].index.shape[0]-1):\n",
    "        idx1 = df[df[col]!=0].index[i]\n",
    "        idx2 = df[df[col]!=0].index[i+1]\n",
    "        new_heads[idx1:idx2+1] = lin_interp(df.lengths[idx1:idx2+1],df[col][idx1],df[col][idx2])\n",
    "        \n",
    "    df[col]=new_heads"
   ]
  },
  {
   "cell_type": "code",
   "execution_count": 235,
   "metadata": {},
   "outputs": [
    {
     "name": "stderr",
     "output_type": "stream",
     "text": [
      "C:\\Users\\schorppl\\AppData\\Local\\Continuum\\anaconda3\\lib\\site-packages\\ipykernel_launcher.py:10: SettingWithCopyWarning: \n",
      "A value is trying to be set on a copy of a slice from a DataFrame\n",
      "\n",
      "See the caveats in the documentation: http://pandas.pydata.org/pandas-docs/stable/user_guide/indexing.html#returning-a-view-versus-a-copy\n",
      "  # Remove the CWD from sys.path while we load stuff.\n"
     ]
    }
   ],
   "source": [
    "# BC Agly\n",
    "BC_Agly = gp.read_file(Agly_path) # read shp, linestring from ups to dws\n",
    "df_agy = import_riv(grid,BC_Agly) # extract cellids intersected + lengths in each cells\n",
    "df_agy[\"xc\"],df_agy[\"yc\"] = get_cellcenters(grid,df_agy.cellids)\n",
    "df_agy[\"head\"] = np.zeros([df_agy.shape[0]])\n",
    "\n",
    "# station(s) and assignement of heads\n",
    "xs = 691850.9; ys = 6185873.7; elev = 11.39\n",
    "dist = ((df_agy[\"xc\"] - xs)**2 + (df_agy[\"yc\"] - ys)**2)**0.5\n",
    "df_agy[\"head\"][dist==np.min(dist)] = elev + 1\n",
    "\n",
    "# us and ds heads\n",
    "df_agy[\"head\"].iloc[0] = 28\n",
    "df_agy[\"head\"].iloc[-1] = 0.1\n",
    "\n",
    "# interpolation of the heads btw ups,stations and ds\n",
    "linInt_Dfcol(df_agy,col=\"head\")\n",
    "\n",
    "#drop cellids which are already constant head\n",
    "a = inter_lst(df_agy.cellids, lst_chd)\n",
    "for i in range (len(a)):\n",
    "    df_agy = df_agy.drop(df_agy[df_agy[\"cellids\"] == a[i]].index)\n",
    "\n",
    "# create the stress package\n",
    "H_riv = df_agy[\"head\"]\n",
    "Agy_chd=[]; o =-1;\n",
    "for x in df_agy.cellids:\n",
    "    o = o + 1\n",
    "    Agy_chd.append((x,H_riv[o]))"
   ]
  },
  {
   "cell_type": "code",
   "execution_count": 236,
   "metadata": {},
   "outputs": [
    {
     "data": {
      "text/plain": [
       "[<matplotlib.lines.Line2D at 0x21181129448>]"
      ]
     },
     "execution_count": 236,
     "metadata": {},
     "output_type": "execute_result"
    },
    {
     "data": {
      "image/png": "[encoded data removed]",
      "text/plain": [
       "<Figure size 432x288 with 1 Axes>"
      ]
     },
     "metadata": {
      "needs_background": "light"
     },
     "output_type": "display_data"
    }
   ],
   "source": [
    "df_agy[\"head\"].plot()\n",
    "plt.plot(lin_interp(df_agy.lengths,28,0))"
   ]
  },
  {
   "cell_type": "code",
   "execution_count": 265,
   "metadata": {},
   "outputs": [
    {
     "data": {
      "text/html": [
       "<div>\n",
       "<style scoped>\n",
       "    .dataframe tbody tr th:only-of-type {\n",
       "        vertical-align: middle;\n",
       "    }\n",
       "\n",
       "    .dataframe tbody tr th {\n",
       "        vertical-align: top;\n",
       "    }\n",
       "\n",
       "    .dataframe thead th {\n",
       "        text-align: right;\n",
       "    }\n",
       "</style>\n",
       "<table border=\"1\" class=\"dataframe\">\n",
       "  <thead>\n",
       "    <tr style=\"text-align: right;\">\n",
       "      <th></th>\n",
       "      <th>x</th>\n",
       "      <th>y</th>\n",
       "      <th>elev</th>\n",
       "      <th>stage</th>\n",
       "    </tr>\n",
       "  </thead>\n",
       "  <tbody>\n",
       "    <tr>\n",
       "      <td>0</td>\n",
       "      <td>679702.8</td>\n",
       "      <td>6176157.0</td>\n",
       "      <td>66.84</td>\n",
       "      <td>0.30</td>\n",
       "    </tr>\n",
       "    <tr>\n",
       "      <td>1</td>\n",
       "      <td>691227.0</td>\n",
       "      <td>6178207.6</td>\n",
       "      <td>23.56</td>\n",
       "      <td>0.15</td>\n",
       "    </tr>\n",
       "    <tr>\n",
       "      <td>2</td>\n",
       "      <td>694635.1</td>\n",
       "      <td>6179627.3</td>\n",
       "      <td>13.03</td>\n",
       "      <td>0.20</td>\n",
       "    </tr>\n",
       "    <tr>\n",
       "      <td>3</td>\n",
       "      <td>698474.4</td>\n",
       "      <td>6179465.1</td>\n",
       "      <td>5.15</td>\n",
       "      <td>0.20</td>\n",
       "    </tr>\n",
       "    <tr>\n",
       "      <td>4</td>\n",
       "      <td>677680.2</td>\n",
       "      <td>6176763.4</td>\n",
       "      <td>78.82</td>\n",
       "      <td>5.20</td>\n",
       "    </tr>\n",
       "    <tr>\n",
       "      <td>5</td>\n",
       "      <td>669648.4</td>\n",
       "      <td>6176060.0</td>\n",
       "      <td>127.00</td>\n",
       "      <td>1.00</td>\n",
       "    </tr>\n",
       "    <tr>\n",
       "      <td>6</td>\n",
       "      <td>663915.3</td>\n",
       "      <td>6173486.8</td>\n",
       "      <td>180.00</td>\n",
       "      <td>1.50</td>\n",
       "    </tr>\n",
       "  </tbody>\n",
       "</table>\n",
       "</div>"
      ],
      "text/plain": [
       "          x          y    elev  stage\n",
       "0  679702.8  6176157.0   66.84   0.30\n",
       "1  691227.0  6178207.6   23.56   0.15\n",
       "2  694635.1  6179627.3   13.03   0.20\n",
       "3  698474.4  6179465.1    5.15   0.20\n",
       "4  677680.2  6176763.4   78.82   5.20\n",
       "5  669648.4  6176060.0  127.00   1.00\n",
       "6  663915.3  6173486.8  180.00   1.50"
      ]
     },
     "execution_count": 265,
     "metadata": {},
     "output_type": "execute_result"
    }
   ],
   "source": [
    "pd.read_csv(\"../data/stations_tet.csv\",sep=\";\")"
   ]
  },
  {
   "cell_type": "code",
   "execution_count": 253,
   "metadata": {},
   "outputs": [],
   "source": [
    "## BC Tet\n",
    "gp_Tet = gp.read_file(Tet_path)\n",
    "df_tet = import_riv(grid,gp_Tet)  \n",
    "df_tet[\"xc\"],df_tet[\"yc\"] = get_cellcenters(grid,df_tet.cellids)\n",
    "df_tet[\"head\"] = np.zeros([df_tet.shape[0]])\n",
    "\n",
    "# us and ds heads\n",
    "df_tet[\"head\"].iloc[0] = 180\n",
    "df_tet[\"head\"].iloc[-1] = 0.1\n",
    "\n",
    "# interpolation of the heads btw ups,stations and ds\n",
    "linInt_Dfcol(df_tet,col=\"head\")\n",
    "\n",
    "#drop cellids which are already constant heads\n",
    "for cellid in df_tet.cellids:\n",
    "    if cellid in lst_chd:\n",
    "        df_tet = df_tet.drop(df_tet[df_tet[\"cellids\"] == cellid].index)\n",
    "    if cellid not in lst_domain:\n",
    "        df_tet = df_tet.drop(df_tet[df_tet[\"cellids\"]== cellid].index)\n",
    "\n",
    "df_tet = df_tet.reset_index()\n",
    "H_riv = df_tet[\"head\"]\n",
    "# create the stress package\n",
    "Tet_chd=[]; o =-1;\n",
    "for x in df_tet.cellids:\n",
    "    o = o + 1\n",
    "    Tet_chd.append((x,H_riv[o]))"
   ]
  },
  {
   "cell_type": "code",
   "execution_count": 264,
   "metadata": {},
   "outputs": [
    {
     "name": "stderr",
     "output_type": "stream",
     "text": [
      "C:\\Users\\schorppl\\AppData\\Local\\Continuum\\anaconda3\\lib\\site-packages\\pandas\\core\\frame.py:7123: FutureWarning: Sorting because non-concatenation axis is not aligned. A future version\n",
      "of pandas will change to not sort by default.\n",
      "\n",
      "To accept the future behavior, pass 'sort=False'.\n",
      "\n",
      "To retain the current behavior and silence the warning, pass 'sort=True'.\n",
      "\n",
      "  sort=sort,\n"
     ]
    }
   ],
   "source": [
    "gp_Tet = gp.read_file(Tet_path)\n",
    "df_tet = import_riv(grid,gp_Tet)  \n",
    "df_tet[\"xc\"],df_tet[\"yc\"] = get_cellcenters(grid,df_tet.cellids)\n",
    "df_tet[\"head\"] = np.zeros([df_tet.shape[0]])"
   ]
  },
  {
   "cell_type": "code",
   "execution_count": 197,
   "metadata": {},
   "outputs": [],
   "source": [
    "## BC Reart\n",
    "gp_riv = gp.read_file(Rea_path)\n",
    "df_riv = import_riv(grid,gp_riv) # extract cellids from the river, in order with associated lengths   \n",
    "\n",
    "# assign heads along the river\n",
    "df_riv[\"head\"] = lin_interp(df_riv.lengths,100,-10)\n",
    "\n",
    "# drop some cells\n",
    "for cellid in df_riv.cellids:\n",
    "    if (cellid in lst_chd) | (cellid in etangs_chd):\n",
    "        df_riv = df_riv.drop(df_riv[df_riv[\"cellids\"] == cellid].index)\n",
    "    if cellid not in lst_domain:\n",
    "        df_riv = df_riv.drop(df_riv[df_riv[\"cellids\"]== cellid].index)\n",
    "\n",
    "\n",
    "df_riv= df_riv.reset_index()\n",
    "H_riv = df_riv[\"head\"]\n",
    "# create the stress package\n",
    "Rea_chd=[]; o =-1;\n",
    "for x in df_riv.cellids:\n",
    "    o = o + 1\n",
    "    Rea_chd.append((x,H_riv[o]))"
   ]
  },
  {
   "cell_type": "code",
   "execution_count": 198,
   "metadata": {},
   "outputs": [],
   "source": [
    "#BC Tech\n",
    "gp_riv = gp.read_file(Tech_path)\n",
    "df_riv = import_riv(grid,gp_riv) # extract cellids from the river, in order with associated lengths   \n",
    "\n",
    "# assign heads along the river\n",
    "df_riv[\"head\"] = lin_interp(df_riv.lengths,125,0)\n",
    "\n",
    "# drop some cells\n",
    "for cellid in df_riv.cellids:\n",
    "    if (cellid in lst_chd) | (cellid in etangs_chd):\n",
    "        df_riv = df_riv.drop(df_riv[df_riv[\"cellids\"] == cellid].index)\n",
    "    if cellid not in lst_domain:\n",
    "        df_riv = df_riv.drop(df_riv[df_riv[\"cellids\"]== cellid].index)\n",
    "\n",
    "df_riv = df_riv.reset_index()\n",
    "H_riv = df_riv[\"head\"]\n",
    "# create the stress package\n",
    "Tech_chd=[]; o =-1;\n",
    "for x in df_riv.cellids:\n",
    "    o = o + 1\n",
    "    Tech_chd.append((x,H_riv[o]))"
   ]
  },
  {
   "cell_type": "code",
   "execution_count": 254,
   "metadata": {},
   "outputs": [],
   "source": [
    "# basic modules\n",
    "sim = fp.mf6.MFSimulation(sim_name='theis_mf6', version='mf6', exe_name=exe_name, \n",
    "                             sim_ws=model_dir)\n",
    "gwf = fp.mf6.ModflowGwf(sim, modelname=model_name,\n",
    "                           model_nam_file='{}.nam'.format(model_name))\n",
    "dis = fp.mf6.ModflowGwfdis(gwf, nlay=nlay, nrow=nrow, ncol=ncol,\n",
    "                              delr=delr, delc=delc,\n",
    "                              top=top, botm=botm,xorigin=x0,yorigin=y0,idomain=idomain)\n",
    "\n",
    "tdis = fp.mf6.ModflowTdis(sim, time_units='SECONDS',perioddata=[[1.0, 1, 1.]])\n",
    "ims  = fp.mf6.ModflowIms(sim, print_option='SUMMARY', complexity='simple')\n",
    "\n",
    "# initial conditions\n",
    "ic   = fp.mf6.ModflowGwfic(gwf)\n",
    "\n",
    "# nodeflowproperty\n",
    "kh = 1e-4\n",
    "npf  = fp.mf6.ModflowGwfnpf(gwf, icelltype=0, k=kh, save_flows=True,save_specific_discharge=True)\n",
    "\n",
    "# recharge\n",
    "mm = 80\n",
    "rch  = fp.mf6.ModflowGwfrcha(gwf, recharge = mm/1000/365/86400)\n",
    "\n",
    "# output control\n",
    "oc   = fp.mf6.ModflowGwfoc(gwf,budget_filerecord='{}.cbc'.format(model_name),\n",
    "                            head_filerecord='{}.hds'.format(model_name),\n",
    "                            saverecord=[('HEAD', 'LAST'),\n",
    "                                        ('BUDGET', 'ALL')],\n",
    "                            printrecord=[('HEAD', 'LAST'),\n",
    "                                         ('BUDGET', 'ALL')])\n",
    "\n",
    "# constant heads packages\n",
    "chd = fp.mf6.modflow.mfgwfchd.ModflowGwfchd(gwf, pname='sea', filename=\"sea.chd\", maxbound=len(chd_lst), \n",
    "                                               stress_period_data={0: chd_lst}, save_flows=True)\n",
    "\n",
    "etangs = fp.mf6.modflow.mfgwfchd.ModflowGwfchd(gwf, pname='eta', filename=\"eta.chd\", maxbound=len(et_chd_lst), \n",
    "                                               stress_period_data={0: et_chd_lst}, save_flows=True)\n",
    "\n",
    "Riv1 = fp.mf6.modflow.mfgwfchd.ModflowGwfchd(gwf, pname='agy', filename=\"agy.chd\", maxbound=len(Agy_chd), \n",
    "                                               stress_period_data={0: Agy_chd}, save_flows=True)\n",
    "\n",
    "Riv2 = fp.mf6.modflow.mfgwfchd.ModflowGwfchd(gwf, pname='Tet', filename=\"Tet.chd\", maxbound=len(Tet_chd), \n",
    "                                               stress_period_data={0: Tet_chd}, save_flows=True)\n",
    "\n",
    "Riv3 = fp.mf6.modflow.mfgwfchd.ModflowGwfchd(gwf, pname='Rea', filename=\"Rea.chd\", maxbound=len(Rea_chd), \n",
    "                                               stress_period_data={0: Rea_chd}, save_flows=True)\n",
    "\n",
    "Riv4 = fp.mf6.modflow.mfgwfchd.ModflowGwfchd(gwf, pname='Tech', filename=\"Tech.chd\", maxbound=len(Tech_chd), \n",
    "                                               stress_period_data={0: Tech_chd}, save_flows=True)"
   ]
  },
  {
   "cell_type": "code",
   "execution_count": 255,
   "metadata": {},
   "outputs": [
    {
     "data": {
      "text/plain": [
       "Text(0.5, 1.0, 'Layer 1: Constant Head Cells')"
      ]
     },
     "execution_count": 255,
     "metadata": {},
     "output_type": "execute_result"
    },
    {
     "data": {
      "image/png": "[encoded data removed]",
      "text/plain": [
       "<Figure size 432x288 with 1 Axes>"
      ]
     },
     "metadata": {
      "needs_background": "light"
     },
     "output_type": "display_data"
    }
   ],
   "source": [
    "# vizualize the BC cells\n",
    "iper = 0\n",
    "ibd = np.ones((nlay, nrow, ncol), dtype=np.int)\n",
    "\n",
    "ra = chd.stress_period_data.get_data(key=iper)\n",
    "rb = Riv1.stress_period_data.get_data(key=iper)\n",
    "rc = Riv2.stress_period_data.get_data(key=iper)\n",
    "rd = Riv3.stress_period_data.get_data(key=iper)\n",
    "re = etangs.stress_period_data.get_data(key=iper)\n",
    "rf = Riv4.stress_period_data.get_data(key=iper)\n",
    "\n",
    "for k, i, j in ra['cellid']:\n",
    "    ibd[k, i, j] = -1\n",
    "    \n",
    "for k, i, j in rb['cellid']:\n",
    "    ibd[k, i, j] = -1\n",
    "\n",
    "for k, i, j in rc['cellid']:\n",
    "    ibd[k, i, j] = -1\n",
    "\n",
    "for k, i, j in rd['cellid']:\n",
    "    ibd[k, i, j] = -1\n",
    "\n",
    "for k, i, j in re['cellid']:\n",
    "    ibd[k, i, j] = -1\n",
    "\n",
    "for k, i, j in rf['cellid']:\n",
    "    ibd[k, i, j] = -1\n",
    "\n",
    "ilay = 0\n",
    "plt.imshow(ibd[ilay, :, :], interpolation='none')\n",
    "plt.title('Layer {}: Constant Head Cells'.format(ilay + 1))"
   ]
  },
  {
   "cell_type": "code",
   "execution_count": 256,
   "metadata": {},
   "outputs": [
    {
     "name": "stdout",
     "output_type": "stream",
     "text": [
      "writing simulation...\n",
      "  writing simulation name file...\n",
      "  writing simulation tdis package...\n",
      "  writing ims package ims_-1...\n",
      "  writing model first_2D...\n",
      "    writing model name file...\n",
      "    writing package dis...\n",
      "    writing package ic...\n",
      "    writing package npf...\n",
      "    writing package rcha...\n",
      "    writing package oc...\n",
      "    writing package sea...\n",
      "    writing package eta...\n",
      "    writing package agy...\n",
      "    writing package tet...\n",
      "    writing package rea...\n",
      "    writing package tech...\n"
     ]
    }
   ],
   "source": [
    "sim.write_simulation()"
   ]
  },
  {
   "cell_type": "code",
   "execution_count": 257,
   "metadata": {
    "scrolled": false
   },
   "outputs": [
    {
     "name": "stdout",
     "output_type": "stream",
     "text": [
      "FloPy is using the following  executable to run the model: ../../exe/mf6.exe\n",
      "                                   MODFLOW 6\n",
      "                U.S. GEOLOGICAL SURVEY MODULAR HYDROLOGIC MODEL\n",
      "                            VERSION 6.0.4 03/13/2019\n",
      "\n",
      "   MODFLOW 6 compiled Mar 21 2019 15:37:31 with IFORT compiler (ver. 19.0.0)\n",
      "\n",
      "This software has been approved for release by the U.S. Geological \n",
      "Survey (USGS). Although the software has been subjected to rigorous \n",
      "review, the USGS reserves the right to update the software as needed \n",
      "pursuant to further analysis and review. No warranty, expressed or \n",
      "implied, is made by the USGS or the U.S. Government as to the \n",
      "functionality of the software and related material nor shall the \n",
      "fact of release constitute any such warranty. Furthermore, the \n",
      "software is released on condition that neither the USGS nor the U.S. \n",
      "Government shall be held liable for any damages resulting from its \n",
      "authorized or unauthorized use. Also refer to the USGS Water \n",
      "Resources Software User Rights Notice for complete use, copyright, \n",
      "and distribution information.\n",
      "\n",
      " Run start date and time (yyyy/mm/dd hh:mm:ss): 2020/03/10 15:24:17\n",
      "\n",
      " Writing simulation list file: mfsim.lst\n",
      " Using Simulation name file: mfsim.nam\n",
      " Solving:  Stress period:     1    Time step:     1\n",
      " Run end date and time (yyyy/mm/dd hh:mm:ss): 2020/03/10 15:24:17\n",
      " Elapsed run time:  0.465 Seconds\n",
      "\n",
      " Normal termination of simulation.\n"
     ]
    },
    {
     "data": {
      "text/plain": [
       "(True, [])"
      ]
     },
     "execution_count": 257,
     "metadata": {},
     "output_type": "execute_result"
    }
   ],
   "source": [
    "sim.run_simulation()"
   ]
  },
  {
   "cell_type": "code",
   "execution_count": 258,
   "metadata": {},
   "outputs": [],
   "source": [
    "# retrieve heads and spdis \n",
    "head = get_heads(model_name,model_dir)\n",
    "spdis = get_spdis(model_name,model_dir)"
   ]
  },
  {
   "cell_type": "code",
   "execution_count": 259,
   "metadata": {},
   "outputs": [
    {
     "data": {
      "text/plain": [
       "<matplotlib.collections.PathCollection at 0x21184869248>"
      ]
     },
     "execution_count": 259,
     "metadata": {},
     "output_type": "execute_result"
    },
    {
     "data": {
      "image/png": "[encoded data removed]",
      "text/plain": [
       "<Figure size 1440x1440 with 2 Axes>"
      ]
     },
     "metadata": {
      "needs_background": "light"
     },
     "output_type": "display_data"
    }
   ],
   "source": [
    "# make a plot\n",
    "fig = plt.figure(figsize=(20,20))\n",
    "ax  = plt.subplot(1, 1, 1, aspect='equal')\n",
    "ml = fp.plot.PlotMapView(model=gwf)\n",
    "\n",
    "#hmesh=ml.plot_ibound()\n",
    "hmesh=ml.plot_array(head,masked_values=[1e30],cmap=\"viridis\")\n",
    "\n",
    "#ml.plot_specific_discharge(spdis[0],color=\"w\",width=0.0030)\n",
    "ml.plot_bc(\"sea\",color=\"b\")\n",
    "ml.plot_bc(\"Tet\",color=\"g\",alpha=0.5)\n",
    "ml.plot_bc(\"Rea\",color=\"g\",alpha=0.5)\n",
    "ml.plot_bc(\"Agy\",color=\"g\",alpha=0.5)\n",
    "ml.plot_bc(\"Tech\",color=\"g\",alpha=0.5)\n",
    "ml.plot_bc(\"eta\",color=\"b\",alpha=0.5)\n",
    "ax.tick_params(labelsize=25)\n",
    "ax.tick_params(axis=\"y\",direction=\"in\", pad=-120)\n",
    "\n",
    "g = plt.colorbar(hmesh)\n",
    "#hmesh.set_clim((0,140))\n",
    "g.set_label(\"Head [m]\",fontsize=35)\n",
    "g.ax.tick_params(labelsize=35)\n",
    "\n",
    "plt.scatter(663915,6173486,c=\"r\")\n"
   ]
  },
  {
   "cell_type": "code",
   "execution_count": null,
   "metadata": {},
   "outputs": [],
   "source": [
    "bdfile=[]\n",
    "for file in os.listdir(model_dir):\n",
    "    if file.endswith(\".chd\"):\n",
    "        bdfile.append(os.path.splitext(file)[0])"
   ]
  },
  {
   "cell_type": "code",
   "execution_count": null,
   "metadata": {},
   "outputs": [],
   "source": [
    "fig = plt.figure(figsize=(20,20))\n",
    "ax  = plt.subplot(1, 1, 1, aspect='equal')\n",
    "ml = fp.plot.PlotMapView(model=gwf)\n",
    "\n",
    "hmesh=ml.contour_array(head,levels=np.linspace(0,140,15),cmap=\"jet\")\n",
    "\n",
    "ml.plot_bc(\"Tet\",color=\"g\",alpha=0.5)\n",
    "ml.plot_bc(\"Rea\",color=\"g\",alpha=0.5)\n",
    "ml.plot_bc(\"Agy\",color=\"g\",alpha=0.5)\n",
    "ml.plot_bc(\"Tech\",color=\"g\",alpha=0.5)\n",
    "ml.plot_bc(\"eta\",color=\"b\",alpha=0.5)\n",
    "\n",
    "g=plt.colorbar(hmesh)\n",
    "g.ax.tick_params(labelsize=35)\n",
    "g.set_label(\"Head [m]\",fontsize=35)\n",
    "ax.tick_params(labelsize=25)\n",
    "ax.tick_params(axis=\"y\",direction=\"in\", pad=-120)"
   ]
  },
  {
   "cell_type": "code",
   "execution_count": null,
   "metadata": {},
   "outputs": [],
   "source": [
    "# Total Budget\n",
    "lstBudgetfile = \"{}.lst\".format(model_name)\n",
    "fname = os.path.join(model_dir,lstBudgetfile)\n",
    "Budgetobj = fp.utils.Mf6ListBudget(fname)"
   ]
  },
  {
   "cell_type": "code",
   "execution_count": null,
   "metadata": {
    "scrolled": true
   },
   "outputs": [],
   "source": [
    "for i in Budgetobj.entries:\n",
    "    if i != \"PERCENT_DISCREPANCY\":\n",
    "        print(\"{} : {} m3/s\".format(i,Budgetobj.get_budget(names=i)[0][0][-1]))"
   ]
  }
 ],
 "metadata": {
  "kernelspec": {
   "display_name": "Python 3",
   "language": "python",
   "name": "python3"
  },
  "language_info": {
   "codemirror_mode": {
    "name": "ipython",
    "version": 3
   },
   "file_extension": ".py",
   "mimetype": "text/x-python",
   "name": "python",
   "nbconvert_exporter": "python",
   "pygments_lexer": "ipython3",
   "version": "3.7.4"
  }
 },
 "nbformat": 4,
 "nbformat_minor": 2
}
