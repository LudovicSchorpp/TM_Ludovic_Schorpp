{
 "cells": [
  {
   "cell_type": "code",
   "execution_count": 1,
   "metadata": {},
   "outputs": [
    {
     "name": "stdout",
     "output_type": "stream",
     "text": [
      "flopy is installed in C:\\Users\\schorppl\\AppData\\Local\\Continuum\\anaconda3\\lib\\site-packages\\flopy\n"
     ]
    }
   ],
   "source": [
    "import flopy as fp\n",
    "import numpy as np\n",
    "import geopandas as gp\n",
    "import pandas as pd\n",
    "import os\n",
    "import sys\n",
    "import matplotlib.pyplot as plt\n",
    "from flopy.utils.gridintersect import GridIntersect\n",
    "from flopy.utils import Raster\n",
    "import shapely\n",
    "from shapely.geometry import *\n",
    "from scipy.optimize import minimize\n",
    "\n",
    "\n",
    "# hand made functions\n",
    "sys.path.append(\"../../modules\")\n",
    "from Rouss import *\n",
    "\n",
    "sys.path.append(\"../../Model_val/upscalling/\")\n",
    "from upscalling_functions import *"
   ]
  },
  {
   "cell_type": "code",
   "execution_count": 2,
   "metadata": {},
   "outputs": [],
   "source": [
    "model_dir = \"working\"\n",
    "model_name = \"first_2D\"\n",
    "exe_name=\"../../exe/mf6\""
   ]
  },
  {
   "cell_type": "code",
   "execution_count": 3,
   "metadata": {},
   "outputs": [],
   "source": [
    "# some paths (mnt + rivers)\n",
    "MNT_path=\"../../data/surfaces_geoter_decoup/TOPO (inf 0 en mer).asc\"\n",
    "Agly_path= \"../../data/Fleuves/Agly_ludo.shp\" # path to Agly\n",
    "Tet_path= \"../../data/Fleuves/Tet_ludo.shp\"\n",
    "Rea_path = \"../../data/Fleuves/Reart_ludo.shp\"\n",
    "Tech_path = \"../../data/Fleuves/Tech_ludo.shp\"\n",
    "Bol_path = \"../../data/Fleuves/Boules_ludo.shp\"\n",
    "Cant_path = \"../../data/Fleuves/Cant_ludo.shp\""
   ]
  },
  {
   "cell_type": "code",
   "execution_count": 4,
   "metadata": {},
   "outputs": [],
   "source": [
    "top,BOT,idomain,delr,delc = read_pickle(\"working/export_dis\")"
   ]
  },
  {
   "cell_type": "code",
   "execution_count": 5,
   "metadata": {},
   "outputs": [
    {
     "data": {
      "text/plain": [
       "23.161384140800003"
      ]
     },
     "execution_count": 5,
     "metadata": {},
     "output_type": "execute_result"
    }
   ],
   "source": [
    "# estimate total volume of the aquifer\n",
    "thk = top-BOT\n",
    "thk[thk==50]=None\n",
    "thk[:,130:]=None\n",
    "\n",
    "# volume total\n",
    "0.2*np.nansum(thk*300*300)/1000/1000/1000"
   ]
  },
  {
   "cell_type": "code",
   "execution_count": 6,
   "metadata": {},
   "outputs": [],
   "source": [
    "#spatial parameters + grid\n",
    "x0,x1,y0,y1 = Raster.load(MNT_path).bounds\n",
    "\n",
    "ncol = idomain.shape[1]\n",
    "nrow = idomain.shape[0]\n",
    "nlay = 1\n",
    "grid = fp.discretization.StructuredGrid(delc,delr,xoff=x0,yoff=y0) # create a grid identical to the dis package, will be used\n",
    "                                                                   # to pre-process data\n",
    "ix = GridIntersect(grid)"
   ]
  },
  {
   "cell_type": "code",
   "execution_count": 7,
   "metadata": {},
   "outputs": [],
   "source": [
    "# Do a list of all active cells\n",
    "lst_domain = []\n",
    "for ilay in range(nlay):\n",
    "    for irow in range(nrow):\n",
    "        for icol in range(ncol):\n",
    "            if idomain[irow,icol] == 1: # if cell is active --> store it in lst_domain\n",
    "                lst_domain.append((ilay,irow,icol))\n",
    "                \n",
    "idomain = idomain.reshape(nrow*ncol)"
   ]
  },
  {
   "cell_type": "code",
   "execution_count": 8,
   "metadata": {},
   "outputs": [],
   "source": [
    "# BC sea\n",
    "# import the shapefile that correspond to the BC\n",
    "BCsea_path = \"../../data/shp/sea_bc_extended.shp\"\n",
    "BC_sea = gp.read_file(BCsea_path)\n",
    "\n",
    "# extract cellids from the BC at the sea and make these cells active (idomain_active=True)\n",
    "lst_chd = gp2cellids(grid,BC_sea,idomain,idomain_active=True,type=\"polygon\")\n",
    "\n",
    "# attribute a constant head at all the cells in the lst_chd\n",
    "CHD = 0.1; chd_lst=[];\n",
    "for x in lst_chd:\n",
    "    chd_lst.append((x,CHD))"
   ]
  },
  {
   "cell_type": "code",
   "execution_count": 9,
   "metadata": {},
   "outputs": [],
   "source": [
    "# BC etangs\n",
    "BCetangs_path = \"../../data/shp/Surface_hydro/SURFACE_HYDROGRAPHIQUE.SHP\"\n",
    "Bcet = gp.read_file(BCetangs_path)\n",
    "etangs = Bcet[(Bcet[\"TOPONYME\"]==\"étang de canet\") | (Bcet[\"TOPONYME\"]==\"étang de leucate\")] # merge two ponds\n",
    "\n",
    "# extract cellids from the BC \n",
    "etangs_chd = gp2cellids(grid,etangs.dissolve(by=\"NATURE\"),idomain)\n",
    "\n",
    "# create a list suited for the drn package\n",
    "elev = 0; et_lst=[];\n",
    "for x in etangs_chd:\n",
    "    et_lst.append((x,elev,1)) #(cellid, drn elev, conductance)"
   ]
  },
  {
   "cell_type": "code",
   "execution_count": 10,
   "metadata": {},
   "outputs": [],
   "source": [
    "# recharge\n",
    "rch_path=\"../../data/recharge/recharge_p.tif\" # path to rch\n",
    "rch_path_2050 = \"../../data/changements_clim/rast_rch_2050.tif\"\n",
    "rch_path_2080 = \"../../data/changements_clim/rast_rch_2080.tif\"\n",
    "\n",
    "## select recharge (0 : today, 1 : 2050, 2 : 2080)\n",
    "i = 0\n",
    "if i == 1:\n",
    "    rch_path = rch_path_2050\n",
    "if i == 2:\n",
    "    rch_path = rch_path_2080\n",
    "\n",
    "rcha = rspl_rast(rch_path,grid) # resample raster to grid\n",
    "rcha[rcha<0]=np.mean(rcha[rcha>0]) # replace negative values by the mean\n",
    "\n",
    "idomain = idomain.reshape(nrow,ncol)\n",
    "rcha[idomain!=1]=0 # remove some rch\n",
    "for cell in etangs_chd: # remove rch in sea and ponds\n",
    "    rcha[cell[1],cell[2]]=0\n",
    "for cell in lst_chd:\n",
    "    rcha[cell[1],cell[2]]=0\n",
    "    \n",
    "rcha = liss_mob(rcha,5)# moving average\n",
    "\n",
    "idomain = idomain.reshape(nrow*ncol)"
   ]
  },
  {
   "cell_type": "code",
   "execution_count": 11,
   "metadata": {},
   "outputs": [],
   "source": [
    "#import rivers with this incredible function :) (quite slow btw)\n",
    "\n",
    "#BC Agly\n",
    "Agy_chd = Complete_riv(Agly_path,\"../../data/Fleuves/stations_agly.csv\",us=28,ds=0.1,lst_chd=lst_chd,\n",
    "                       lst_domain=lst_domain,grid=grid)\n",
    "# BC Tet\n",
    "Tet_chd = Complete_riv(Tet_path,\"../../data/Fleuves/stations_tet2.csv\",us=180,ds=0.1,lst_chd=lst_chd,\n",
    "                       lst_domain=lst_domain,grid=grid)\n",
    "#BC Boul\n",
    "Bol_chd = Complete_riv(Bol_path,\"../../data/Fleuves/stations_bol.csv\",us=180,ds=0.1,lst_chd=lst_chd,\n",
    "                       lst_domain=lst_domain,grid=grid)\n",
    "## BC Reart\n",
    "Rea_chd = Complete_riv(Rea_path,\"../../data/Fleuves/stations_reart.csv\",us=130,ds=0,lst_chd=lst_chd,\n",
    "                       lst_domain=lst_domain,grid=grid)\n",
    "## BC Cant\n",
    "Cant_chd = Complete_riv(Cant_path,\"../../data/Fleuves/stations_cant.csv\",us=135,ds=0.1,lst_chd=lst_chd,\n",
    "                       lst_domain=lst_domain,grid=grid)\n",
    "# BC Tech\n",
    "Tech_chd = Complete_riv(Tech_path,\"../../data/Fleuves/stations_tech.csv\",us=170,ds=0.1,lst_chd=lst_chd,\n",
    "                       lst_domain=lst_domain,grid=grid)"
   ]
  },
  {
   "cell_type": "code",
   "execution_count": 12,
   "metadata": {},
   "outputs": [],
   "source": [
    "# change chd list in a riv list style\n",
    "lst_riv_chd=[Agy_chd,Tech_chd,Cant_chd,Rea_chd,Tet_chd,Bol_chd]\n",
    "cond = [0.005,0.005,0.005,0.005,0.005,0.005]\n",
    "\n",
    "for iriv in range(len(lst_riv_chd)):\n",
    "    chd2riv(lst_riv_chd[iriv],cond[iriv],2)"
   ]
  },
  {
   "cell_type": "code",
   "execution_count": 13,
   "metadata": {},
   "outputs": [],
   "source": [
    "# AEP extraction\n",
    "path = \"../../data/prélèvements/donnees_sandra/SynthèseSLanini_data_Prelevements_1987-2018.shp\"\n",
    "V_col = \"VOL_2013\" # which column contain extraction infos\n",
    "GDB = gp.read_file(path)\n",
    "GDB = GDB[(GDB[\"USAGES\"] != \"IRRIGATION\") & (GDB[\"geometry\"] != None)] # remove extraction for Irrigation and where no coordinates are provided\n",
    "layer = 0 # on which layer\n",
    "\n",
    "stress_data_well = importWells(GDB,grid,lst_domain,V_col=V_col,layer=layer)"
   ]
  },
  {
   "cell_type": "code",
   "execution_count": 14,
   "metadata": {},
   "outputs": [],
   "source": [
    "# recharge irrig\n",
    "irr_path = \"../../data/recharge/rast_irr.asc\"\n",
    "irr = rspl_rast(irr_path,grid)\n",
    "irr[irr<0]=0\n",
    "\n",
    "#apply coefficient (btw 0.8 and 2)\n",
    "coeff = 1\n",
    "irr *= coeff\n",
    "\n",
    "irr *= 1/1000/365/86400\n",
    "irr_a = irr"
   ]
  },
  {
   "cell_type": "code",
   "execution_count": 15,
   "metadata": {},
   "outputs": [],
   "source": [
    "# prélèvements agricoles\n",
    "path_Q = \"../../data/prélèvements/prlvm_agri_Q.asc\"\n",
    "path_P = \"../../data/prélèvements/prlvm_agri_P.asc\"\n",
    "p_agri_Q = rspl_rast(path_Q,grid)\n",
    "p_agri_P = rspl_rast(path_P,grid)\n",
    "p_agri_Q *= 1.25 # 20 % loss\n",
    "p_agri_P *= 1.25 # 20 % loss\n",
    "p_agri = p_agri_Q+p_agri_P\n",
    "\n",
    "# make a list for rch package\n",
    "p_agr=[]\n",
    "\n",
    "for icell in lst_domain:\n",
    "    irow = icell[1]\n",
    "    icol = icell[2]\n",
    "    if p_agri[irow,icol] != 0:\n",
    "        p_agr.append(((icell),p_agri[irow,icol]/1000/365/86400))"
   ]
  },
  {
   "cell_type": "code",
   "execution_count": 16,
   "metadata": {},
   "outputs": [
    {
     "data": {
      "text/plain": [
       "<matplotlib.image.AxesImage at 0x2cee42c00c8>"
      ]
     },
     "execution_count": 16,
     "metadata": {},
     "output_type": "execute_result"
    },
    {
     "data": {
      "image/png": "[encoded data removed]",
      "text/plain": [
       "<Figure size 432x288 with 1 Axes>"
      ]
     },
     "metadata": {
      "needs_background": "light"
     },
     "output_type": "display_data"
    }
   ],
   "source": [
    "plt.imshow(p_agri)"
   ]
  },
  {
   "cell_type": "code",
   "execution_count": 17,
   "metadata": {},
   "outputs": [],
   "source": [
    "# permeability\n",
    "\n",
    "### Really slow, grid intersect should be avoided with big polygon --> gridgen is better ###\n",
    "\n",
    "# initialize arrays that will define the position of the formations\n",
    "idomainQ_rec = np.zeros([nrow*ncol])\n",
    "idomainQ_a = np.zeros([nrow*ncol])\n",
    "idomainPlio = np.zeros([nrow*ncol])\n",
    "\n",
    "pathQr = \"../../data/shp/entités/Alluv_rec.shp\" # shapefile of the Quaternary formations\n",
    "pathQa = \"../../data/shp/entités/Alluv_anc.shp\" #...\n",
    "pathP = \"../../data/shp/entités/Pliocene.shp\"\n",
    "lstIDQ_rec = gp2cellids(grid,gp.read_file(pathQr),idomainQ_rec,areas=10) #create the domains of each shp\n",
    "lstIDQ_anc = gp2cellids(grid,gp.read_file(pathQa),idomainQ_a,areas=10) \n",
    "lstIDQPlio = gp2cellids(grid,gp.read_file(pathP),idomainPlio,areas=10)"
   ]
  },
  {
   "cell_type": "code",
   "execution_count": 60,
   "metadata": {},
   "outputs": [],
   "source": [
    "# define k, different for each lithology\n",
    "kh = 1e-5 # general k\n",
    "kQr = 6.7e-5 # k for recent Quaternary\n",
    "kQa = 1.24e-4 # k for ancient Quaternary\n",
    "kp = 1.7e-5 # k for pliocene\n",
    "\n",
    "pos_zones = np.zeros([nlay,nrow,ncol])\n",
    "k = np.ones([nlay*nrow*ncol])*kh # vector containing the permeability array(layer,nrow,ncol)\n",
    "k[idomainPlio==1] = kp\n",
    "k[idomainQ_rec==1] = kQr\n",
    "k[idomainQ_a==1] = kQa\n",
    "\n",
    "k = k.reshape(nlay,nrow,ncol)\n",
    "add_zone = 1 # add_zone = 1 to add the 2 conductivity zones\n",
    "if add_zone == 1:\n",
    "    \n",
    "\n",
    "    ###### zone sud peu perméable\n",
    "    z1 = [(689e3,616e4),(695e3,616.3e4),(700e3,616.3e4),(700e3,615.2e4),(689e3,615.2e4)]\n",
    "    layer = 0\n",
    "    kn = 2.12e-5\n",
    "    k_zones (k,z1,layer,kn,ix) # change k with new kn value in the z1 zone at layer indicates, ix is the gridintersect object\n",
    "    k_zones(pos_zones,z1,layer,1,ix)\n",
    "\n",
    "    #### permeabilité de la zone Villeneuve\n",
    "    x0_d,y0_d,x1_d,y1_d = 690e3,616.5e4,700e3,617.3e4\n",
    "    zv = [(x0_d,y0_d),(x0_d,y1_d),(x1_d,y1_d),(x1_d,y0_d)]\n",
    "    layer = 0\n",
    "    kn = 5.69e-6\n",
    "    k_zones(k,zv,layer,kn,ix)\n",
    "    k_zones(pos_zones,zv,layer,2,ix)\n",
    "\n",
    "# store k in an external file\n",
    "np.savetxt(os.path.join(model_dir,\"k.txt\"),k[0])"
   ]
  },
  {
   "cell_type": "code",
   "execution_count": 21,
   "metadata": {},
   "outputs": [
    {
     "name": "stderr",
     "output_type": "stream",
     "text": [
      "C:\\Users\\emmal\\Anaconda3\\lib\\site-packages\\xlrd\\xlsx.py:266: PendingDeprecationWarning: This method will be removed in future versions.  Use 'tree.iter()' or 'list(tree.iter())' instead.\n",
      "  for elem in self.tree.iter() if Element_has_iter else self.tree.getiterator():\n",
      "C:\\Users\\emmal\\Anaconda3\\lib\\site-packages\\xlrd\\xlsx.py:312: PendingDeprecationWarning: This method will be removed in future versions.  Use 'tree.iter()' or 'list(tree.iter())' instead.\n",
      "  for elem in self.tree.iter() if Element_has_iter else self.tree.getiterator():\n",
      "C:\\Users\\emmal\\Anaconda3\\lib\\site-packages\\xlrd\\xlsx.py:266: PendingDeprecationWarning: This method will be removed in future versions.  Use 'tree.iter()' or 'list(tree.iter())' instead.\n",
      "  for elem in self.tree.iter() if Element_has_iter else self.tree.getiterator():\n"
     ]
    }
   ],
   "source": [
    "# control piezos\n",
    "piez_path=\"../../data/piezos/pz_hydriad.xlsx\"\n",
    "\n",
    "#import the data using this function (path,modelgrid, sheetname of the data,piezometric level column, x and y coor (in L93 !))\n",
    "Control_pz = importControlPz(piez_path,grid,sheetName=\"2012\",np_col=\"NP_Avril2013\",x_col=\"x\",y_col=\"y\")"
   ]
  },
  {
   "cell_type": "code",
   "execution_count": 22,
   "metadata": {},
   "outputs": [],
   "source": [
    "# Corbières\n",
    "layer = 0\n",
    "BDcells = cellidBD(idomain.reshape(nlay,nrow,ncol),layer)\n",
    "poly = Polygon([(685e3,618.7e4),(685e3,619.5e4),(696e3,619.5e4),(696e3,618.7e4)])\n",
    "\n",
    "Corb_spd = []\n",
    "Corb_lst = []\n",
    "flux = 0.2\n",
    "res = ix.intersect_polygon(poly)\n",
    "for cellid in res.cellids:\n",
    "    cell = (layer,cellid[0],cellid[1])\n",
    "    if cell in BDcells:\n",
    "        Corb_lst.append(cell)\n",
    "n_cells = len(Corb_lst)\n",
    "\n",
    "for cell in Corb_lst:\n",
    "    Corb_spd.append((cell,flux/n_cells))"
   ]
  },
  {
   "cell_type": "code",
   "execution_count": 23,
   "metadata": {},
   "outputs": [],
   "source": [
    "## Thuir\n",
    "layer = 0\n",
    "poly = Polygon([(674e3,616.8e4),(674e3,617.4e4),(678e3,617.4e4),(678e3,616.8e4)])\n",
    "\n",
    "plio_chd = []\n",
    "for cellid in ix.intersect_polygon(poly).cellids:\n",
    "    cell = (layer,cellid[0],cellid[1])\n",
    "    if cell in BDcells:\n",
    "        plio_chd.append((cell,120))"
   ]
  },
  {
   "cell_type": "code",
   "execution_count": 61,
   "metadata": {},
   "outputs": [],
   "source": [
    "# basic modules\n",
    "sim = fp.mf6.MFSimulation(sim_name='first2D_mf6', version='mf6', exe_name=exe_name, \n",
    "                         sim_ws=model_dir)\n",
    "gwf = fp.mf6.ModflowGwf(sim, modelname=model_name,\n",
    "                           model_nam_file='{}.nam'.format(model_name))\n",
    "dis = fp.mf6.ModflowGwfdis(gwf, nlay=nlay, nrow=nrow, ncol=ncol,\n",
    "                              delr=delr, delc=delc,\n",
    "                              top=top, botm=BOT,xorigin=x0,yorigin=y0,idomain=idomain)\n",
    "tdis = fp.mf6.ModflowTdis(sim, time_units='SECONDS',perioddata=[[1.0, 1, 1.]])\n",
    "ims  = fp.mf6.ModflowIms(sim, print_option='SUMMARY', complexity='simple')\n",
    "\n",
    "# initial conditions\n",
    "ic   = fp.mf6.ModflowGwfic(gwf,strt=BOT+1)\n",
    "\n",
    "# output control\n",
    "oc   = fp.mf6.ModflowGwfoc(gwf,budget_filerecord='{}.cbc'.format(model_name),\n",
    "                            head_filerecord='{}.hds'.format(model_name),\n",
    "                            saverecord=[('HEAD', 'LAST'),\n",
    "                                        ('BUDGET', 'ALL')],\n",
    "                            printrecord=[('BUDGET', 'ALL')])\n",
    "\n",
    "# nodeflowproperty\n",
    "npf  = fp.mf6.ModflowGwfnpf(gwf, icelltype=0, k=[\"k.txt\"], save_flows=True,save_specific_discharge=True)\n",
    "\n",
    "# recharge\n",
    "rch  = fp.mf6.ModflowGwfrcha(gwf, recharge = rcha/1000/365/86400,save_flows=True)\n",
    "   \n",
    "p_ag = fp.mf6.ModflowGwfrch(gwf,pname=\"p_ag\",filename=\"p_ag.rch\",maxbound=len(p_agr),stress_period_data={0 : p_agr},save_flows=True)\n",
    "\n",
    "irr = fp.mf6.ModflowGwfrcha(gwf,pname=\"irr\",filename=\"irr.rch\",recharge=irr_a,save_flows=True)\n",
    "\n",
    "# well package\n",
    "wel = fp.mf6.ModflowGwfwel(gwf, pname=\"wel\",filename=\"wel.wel\",\n",
    "                           stress_period_data=stress_data_well, maxbound=len(stress_data_well),save_flows=True)\n",
    "\n",
    "#Corb\n",
    "Corb = fp.mf6.ModflowGwfwel(gwf,pname=\"Corb\",filename=\"Corb.wel\",maxbound=len(Corb_spd),\n",
    "                            stress_period_data=Corb_spd,save_flows=True)\n",
    "\n",
    "#Thuir\n",
    "thuir = fp.mf6.modflow.mfgwfchd.ModflowGwfchd(gwf, pname='thuir', filename=\"thuir.chd\", maxbound=len(plio_chd), \n",
    "                                                       stress_period_data={0: plio_chd}, save_flows=True)\n",
    "\n",
    "# constant heads packages\n",
    "chd = fp.mf6.modflow.mfgwfchd.ModflowGwfchd(gwf, pname='sea', filename=\"sea.chd\", maxbound=len(chd_lst), \n",
    "                                               stress_period_data={0: chd_lst}, save_flows=True)\n",
    "\n",
    "#rivers\n",
    "etangs = fp.mf6.modflow.ModflowGwfdrn(gwf, pname='eta', filename=\"eta.drn\", maxbound=len(et_lst), \n",
    "                                               stress_period_data={0: et_lst}, save_flows=True)\n",
    "\n",
    "Riv1 = fp.mf6.modflow.mfgwfriv.ModflowGwfriv(gwf, pname='agy', filename=\"agy.chd\", maxbound=len(Agy_chd), \n",
    "                                              stress_period_data={0: Agy_chd}, save_flows=True)\n",
    "\n",
    "Riv2 = fp.mf6.modflow.mfgwfriv.ModflowGwfriv(gwf, pname='Tet', filename=\"Tet.chd\", maxbound=len(Tet_chd), \n",
    "                                               stress_period_data={0: Tet_chd}, save_flows=True)\n",
    "\n",
    "Riv3 = fp.mf6.modflow.mfgwfriv.ModflowGwfriv(gwf, pname='Rea', filename=\"Rea.chd\", maxbound=len(Rea_chd), \n",
    "                                               stress_period_data={0: Rea_chd}, save_flows=True)\n",
    "\n",
    "Riv6 = fp.mf6.modflow.mfgwfriv.ModflowGwfriv(gwf, pname='Cant', filename=\"Cant.chd\", maxbound=len(Cant_chd), \n",
    "                                               stress_period_data={0: Cant_chd}, save_flows=True)\n",
    "\n",
    "Riv4 = fp.mf6.modflow.mfgwfriv.ModflowGwfriv(gwf, pname='Tech', filename=\"Tech.chd\", maxbound=len(Tech_chd), \n",
    "                                               stress_period_data={0: Tech_chd}, save_flows=True)\n",
    "\n",
    "Riv5 = fp.mf6.modflow.mfgwfriv.ModflowGwfriv(gwf, pname='Bol', filename=\"Bol.chd\", maxbound=len(Bol_chd), \n",
    "                                               stress_period_data={0: Bol_chd}, save_flows=True)"
   ]
  },
  {
   "cell_type": "code",
   "execution_count": 62,
   "metadata": {},
   "outputs": [
    {
     "name": "stdout",
     "output_type": "stream",
     "text": [
      "writing simulation...\n",
      "  writing simulation name file...\n",
      "  writing simulation tdis package...\n",
      "  writing ims package ims_-1...\n",
      "  writing model first_2D...\n",
      "    writing model name file...\n",
      "    writing package dis...\n",
      "    writing package ic...\n",
      "    writing package oc...\n",
      "    writing package npf...\n",
      "    writing package rcha...\n",
      "    writing package p_ag...\n",
      "    writing package irr...\n",
      "    writing package wel...\n",
      "    writing package corb...\n",
      "    writing package thuir...\n",
      "    writing package sea...\n",
      "    writing package eta...\n",
      "    writing package agy...\n",
      "    writing package tet...\n",
      "    writing package rea...\n",
      "    writing package cant...\n",
      "    writing package tech...\n",
      "    writing package bol...\n",
      "FloPy is using the following  executable to run the model: ../../exe/mf6.exe\n",
      "                                   MODFLOW 6\n",
      "                U.S. GEOLOGICAL SURVEY MODULAR HYDROLOGIC MODEL\n",
      "                            VERSION 6.0.4 03/13/2019\n",
      "\n",
      "   MODFLOW 6 compiled Mar 21 2019 15:37:31 with IFORT compiler (ver. 19.0.0)\n",
      "\n",
      "This software has been approved for release by the U.S. Geological \n",
      "Survey (USGS). Although the software has been subjected to rigorous \n",
      "review, the USGS reserves the right to update the software as needed \n",
      "pursuant to further analysis and review. No warranty, expressed or \n",
      "implied, is made by the USGS or the U.S. Government as to the \n",
      "functionality of the software and related material nor shall the \n",
      "fact of release constitute any such warranty. Furthermore, the \n",
      "software is released on condition that neither the USGS nor the U.S. \n",
      "Government shall be held liable for any damages resulting from its \n",
      "authorized or unauthorized use. Also refer to the USGS Water \n",
      "Resources Software User Rights Notice for complete use, copyright, \n",
      "and distribution information.\n",
      "\n",
      " Run start date and time (yyyy/mm/dd hh:mm:ss): 2020/08/08 13:50:59\n",
      "\n",
      " Writing simulation list file: mfsim.lst\n",
      " Using Simulation name file: mfsim.nam\n",
      " Solving:  Stress period:     1    Time step:     1\n",
      " Run end date and time (yyyy/mm/dd hh:mm:ss): 2020/08/08 13:51:00\n",
      " Elapsed run time:  0.844 Seconds\n",
      "\n",
      " Normal termination of simulation.\n"
     ]
    },
    {
     "data": {
      "text/plain": [
       "(True, [])"
      ]
     },
     "execution_count": 62,
     "metadata": {},
     "output_type": "execute_result"
    }
   ],
   "source": [
    "sim.write_simulation()\n",
    "sim.run_simulation()"
   ]
  },
  {
   "cell_type": "code",
   "execution_count": 3,
   "metadata": {},
   "outputs": [],
   "source": [
    "# retrieve heads and spdis \n",
    "head = get_heads(model_name,model_dir)\n",
    "spdis = get_spdis(model_name,model_dir)\n",
    "\n",
    "# retrieve the chd package name\n",
    "bdfile=[]\n",
    "for file in os.listdir(model_dir):\n",
    "    if file.endswith(\".chd\"):\n",
    "        bdfile.append(os.path.splitext(file)[0])\n",
    "    "
   ]
  },
  {
   "cell_type": "code",
   "execution_count": 4,
   "metadata": {},
   "outputs": [
    {
     "ename": "NameError",
     "evalue": "name 'ml' is not defined",
     "output_type": "error",
     "traceback": [
      "\u001b[1;31m---------------------------------------------------------------------------\u001b[0m",
      "\u001b[1;31mNameError\u001b[0m                                 Traceback (most recent call last)",
      "\u001b[1;32m<ipython-input-4-80a5f8e875ee>\u001b[0m in \u001b[0;36m<module>\u001b[1;34m\u001b[0m\n\u001b[0;32m      5\u001b[0m \u001b[0max2\u001b[0m \u001b[1;33m=\u001b[0m \u001b[0mfig\u001b[0m\u001b[1;33m.\u001b[0m\u001b[0madd_subplot\u001b[0m\u001b[1;33m(\u001b[0m\u001b[0mgrid\u001b[0m\u001b[1;33m[\u001b[0m\u001b[1;36m3\u001b[0m\u001b[1;33m:\u001b[0m\u001b[1;33m,\u001b[0m\u001b[1;33m:\u001b[0m\u001b[1;33m]\u001b[0m\u001b[1;33m)\u001b[0m \u001b[1;31m# cross section plot\u001b[0m\u001b[1;33m\u001b[0m\u001b[1;33m\u001b[0m\u001b[0m\n\u001b[0;32m      6\u001b[0m \u001b[1;33m\u001b[0m\u001b[0m\n\u001b[1;32m----> 7\u001b[1;33m \u001b[0mhmesh\u001b[0m\u001b[1;33m=\u001b[0m\u001b[0mml\u001b[0m\u001b[1;33m.\u001b[0m\u001b[0mplot_array\u001b[0m\u001b[1;33m(\u001b[0m\u001b[0mhead\u001b[0m\u001b[1;33m,\u001b[0m\u001b[0mmasked_values\u001b[0m\u001b[1;33m=\u001b[0m\u001b[1;33m[\u001b[0m\u001b[1;36m0\u001b[0m\u001b[1;33m,\u001b[0m\u001b[1;36m1e30\u001b[0m\u001b[1;33m]\u001b[0m\u001b[1;33m,\u001b[0m\u001b[0mcmap\u001b[0m\u001b[1;33m=\u001b[0m\u001b[1;34m\"viridis\"\u001b[0m\u001b[1;33m,\u001b[0m\u001b[0max\u001b[0m\u001b[1;33m=\u001b[0m\u001b[0max1\u001b[0m\u001b[1;33m)\u001b[0m\u001b[1;33m\u001b[0m\u001b[1;33m\u001b[0m\u001b[0m\n\u001b[0m\u001b[0;32m      8\u001b[0m \u001b[0mhmesh\u001b[0m\u001b[1;33m.\u001b[0m\u001b[0mset_clim\u001b[0m\u001b[1;33m(\u001b[0m\u001b[1;36m0\u001b[0m\u001b[1;33m,\u001b[0m\u001b[1;36m180\u001b[0m\u001b[1;33m)\u001b[0m\u001b[1;33m\u001b[0m\u001b[1;33m\u001b[0m\u001b[0m\n\u001b[0;32m      9\u001b[0m \u001b[1;31m#ml.plot_specific_discharge(spdis[0],color=\"w\",width=0.0050)\u001b[0m\u001b[1;33m\u001b[0m\u001b[1;33m\u001b[0m\u001b[1;33m\u001b[0m\u001b[0m\n",
      "\u001b[1;31mNameError\u001b[0m: name 'ml' is not defined"
     ]
    },
    {
     "data": {
      "image/png": "[encoded data removed]",
      "text/plain": [
       "<Figure size 1080x1080 with 2 Axes>"
      ]
     },
     "metadata": {
      "needs_background": "light"
     },
     "output_type": "display_data"
    }
   ],
   "source": [
    "fig = plt.figure(figsize=(15, 15))\n",
    "grid = plt.GridSpec(4, 4, hspace=0.2, wspace=0.2)\n",
    "\n",
    "layer= 0\n",
    "ml = fp.plot.PlotMapView(model=sim.gwf,layer=layer)\n",
    "\n",
    "ax1 = fig.add_subplot(grid[0:3,:],aspect=\"equal\") # head plot\n",
    "ax2 = fig.add_subplot(grid[3:,:]) # cross section plot\n",
    "\n",
    "hmesh=ml.plot_array(head,masked_values=[0,1e30],cmap=\"viridis\",ax=ax1)\n",
    "hmesh.set_clim(0,180)\n",
    "#ml.plot_specific_discharge(spdis[0],color=\"w\",width=0.0050)\n",
    "cont=ml.contour_array(head,masked_values=[0,1e30],levels=np.linspace(0,170,18),colors=\"k\",ax=ax1)\n",
    "plt.clabel(cont,fmt=\"%1i\")\n",
    "\n",
    "# plot bc\n",
    "for bc in bdfile:\n",
    "    if bc == (\"sea\") or bc== (\"eta\"):\n",
    "        ml.plot_bc(bc,color=\"b\",alpha=0.5,ax=ax1)\n",
    "    if bc == (\"thuir\"):\n",
    "        ml.plot_bc(bc,color=\"k\",ax=ax1)\n",
    "    if bc == (\"thuir\"):\n",
    "        ml.plot_bc(bc,color=\"k\",ax=ax1)\n",
    "    else : \n",
    "        ml.plot_bc(bc,color=\"lightblue\",alpha=0.5,ax=ax1)\n",
    "ml.plot_bc(\"wel\",ax=ax1) # plot the wells  \n",
    "ml.plot_bc(\"Corb\",ax=ax1,color=\"green\") # plot the wells \n",
    "\n",
    "# plot Cross-section on head map\n",
    "row = 130\n",
    "x = [x0,x1]\n",
    "y = [y1-(row+.5)*delc,y1-(row+.5)*delc]\n",
    "ax1.plot(x,y,\"k\",linewidth=3)\n",
    "\n",
    "ax1.tick_params(labelsize=15)\n",
    "ax1.grid()\n",
    "\n",
    "# Cross section\n",
    "x=fp.plot.PlotCrossSection(gwf,line={\"row\" :row})\n",
    "arr=x.plot_array(head,masked_values=[1e30],head=head,ax=ax2)\n",
    "#plt.colorbar(arr)\n",
    "arr.set_clim(0,170)\n",
    "x.plot_ibound()\n",
    "x.plot_grid()\n",
    "ax2.set_ylim(-400,220)\n",
    "ax2.set_xlim(1.3e4,6e4)\n",
    "\n",
    "\n",
    "cbaxes = fig.add_axes([0.95, 0.15, 0.03, 0.8]) \n",
    "cb = plt.colorbar(arr, cax = cbaxes)  "
   ]
  },
  {
   "cell_type": "code",
   "execution_count": 145,
   "metadata": {},
   "outputs": [
    {
     "data": {
      "image/png": "[encoded data removed]",
      "text/plain": [
       "<Figure size 1080x2016 with 7 Axes>"
      ]
     },
     "metadata": {
      "needs_background": "light"
     },
     "output_type": "display_data"
    }
   ],
   "source": [
    "## pleins de cross sections horizontales\n",
    "\n",
    "n=7 # nombre de cross à faire\n",
    "fig,ax = plt.subplots(n,1,figsize=(15,4*n))\n",
    "# Cross section\n",
    "row = 30\n",
    "for axi in ax:\n",
    "    x=fp.plot.PlotCrossSection(gwf,line={\"row\" :row})\n",
    "    arr=x.plot_array(head,masked_values=[1e30],head=head,ax=axi)\n",
    "    #plt.colorbar(arr)\n",
    "    arr.set_clim(0,170)\n",
    "    x.plot_ibound(ax=axi)\n",
    "    x.plot_grid(ax=axi)\n",
    "    axi.set_ylim(-400,220)\n",
    "    #axi.set_xlim(1.3e4,6e4)\n",
    "    row+=150/n"
   ]
  },
  {
   "cell_type": "code",
   "execution_count": 66,
   "metadata": {},
   "outputs": [
    {
     "data": {
      "text/plain": [
       "Text(0, 0.5, 'm3/s')"
      ]
     },
     "execution_count": 66,
     "metadata": {},
     "output_type": "execute_result"
    },
    {
     "data": {
      "image/png": "[encoded data removed]",
      "text/plain": [
       "<Figure size 576x324 with 1 Axes>"
      ]
     },
     "metadata": {
      "needs_background": "light"
     },
     "output_type": "display_data"
    }
   ],
   "source": [
    "fig,ax = plt.subplots(figsize=(8,4.5))\n",
    "Budget = get_Total_Budget(model_name,model_dir)\n",
    "Budget.set_index(\"Pack\").plot(kind=\"bar\",ax=ax)\n",
    "ax.text(2.55,2.5,\"TOTAL IN: {} m$^3$/s\".format(Budget.sum()[\"IN\"]));\n",
    "ax.text(2.55,2.3,\"TOTAL OUT: {} m$^3$/s\".format(Budget.sum()[\"OUT\"]));\n",
    "ax.set_ylabel(\"m3/s\")"
   ]
  },
  {
   "cell_type": "code",
   "execution_count": 67,
   "metadata": {},
   "outputs": [
    {
     "data": {
      "text/plain": [
       "(0, 200)"
      ]
     },
     "execution_count": 67,
     "metadata": {},
     "output_type": "execute_result"
    },
    {
     "data": {
      "image/png": "[encoded data removed]",
      "text/plain": [
       "<Figure size 576x576 with 1 Axes>"
      ]
     },
     "metadata": {
      "needs_background": "light"
     },
     "output_type": "display_data"
    }
   ],
   "source": [
    "# retrieve heads and spdis \n",
    "fig = plt.figure(figsize=(8,8))\n",
    "\n",
    "head = get_heads(model_name,model_dir)\n",
    "head[head>1000]=None\n",
    "\n",
    "plt.scatter(Control_pz[Control_pz!=0],\n",
    "            head[0][Control_pz!=0],s=5)\n",
    "plt.plot(np.arange(-10,200),np.arange(-10,200),\"k\")\n",
    "plt.xlabel(\"measured head [m]\")\n",
    "plt.ylabel(\"simulated head [m]\")\n",
    "plt.title(\"fit measured vs simulated\")\n",
    "plt.xlim(0,200)\n",
    "plt.ylim(0,200)"
   ]
  },
  {
   "cell_type": "code",
   "execution_count": 68,
   "metadata": {},
   "outputs": [
    {
     "data": {
      "text/plain": [
       "<matplotlib.legend.Legend at 0x2cee4337308>"
      ]
     },
     "execution_count": 68,
     "metadata": {},
     "output_type": "execute_result"
    },
    {
     "data": {
      "image/png": "[encoded data removed]",
      "text/plain": [
       "<Figure size 864x504 with 1 Axes>"
      ]
     },
     "metadata": {
      "needs_background": "light"
     },
     "output_type": "display_data"
    }
   ],
   "source": [
    "#residuals\n",
    "fig = plt.figure(figsize=(12,7))\n",
    "plt.plot((Control_pz[Control_pz!=0]),(head[0][Control_pz!=0]-Control_pz[Control_pz!=0]),\".\")\n",
    "\n",
    "xfit = np.arange(-10,200)\n",
    "yfit = np.zeros([210])\n",
    "dyfit = 5\n",
    "plt.fill_between(xfit, yfit - dyfit, yfit + dyfit,\n",
    "                 color='gray', alpha=0.3,label=\"error ± 5m\")\n",
    "plt.plot(xfit,yfit,\"k\")\n",
    "plt.xlim(-5,200)\n",
    "plt.ylim(-20,20)\n",
    "plt.title(\"Residuals\")\n",
    "plt.xlabel(\"Simulated head\")\n",
    "plt.legend()"
   ]
  },
  {
   "cell_type": "code",
   "execution_count": 69,
   "metadata": {
    "scrolled": true
   },
   "outputs": [
    {
     "name": "stdout",
     "output_type": "stream",
     "text": [
      "Misfit : 4.077627783502295 m \n",
      "RMSE : 7.077738125873709\n",
      "phi : 6211.702745327339\n"
     ]
    }
   ],
   "source": [
    "Misfit = np.abs((Control_pz[Control_pz!=0] - head[0][Control_pz!=0]))\n",
    "print(\"Misfit : {} m \".format(np.nanmean(Misfit)))\n",
    "\n",
    "Misfit2 = (np.nansum((((Control_pz[Control_pz!=0] - head[0][Control_pz!=0])**2)/Control_pz[Control_pz!=0].shape[0])))**0.5\n",
    "print(\"RMSE : {}\".format(Misfit2))\n",
    "\n",
    "phi = np.nansum((Control_pz[Control_pz!=0] - head[0][Control_pz!=0])**2)\n",
    "print(\"phi : {}\".format(phi))"
   ]
  },
  {
   "cell_type": "code",
   "execution_count": null,
   "metadata": {},
   "outputs": [],
   "source": [
    "def Misfit(kh):\n",
    "    \n",
    "    fp.mf6.mfpackage.MFPackage(gwf,package_type=\"npf\").remove()# remove pre-existing npf package\n",
    "    \n",
    "    k = np.ones([nrow*ncol])*1e-5 # vector containing the permeability array(layer,nrow,ncol)\n",
    "    k[idomainPlio==1] = kh[0]\n",
    "    k[idomainQ_rec==1] = kh[1]\n",
    "    k[idomainQ_a==1] = kh[2]\n",
    "    \n",
    "#     k = k.reshape(nlay,nrow,ncol)\n",
    "#     ###### zone sud peu perméable\n",
    "#     z1 = [(689e3,616e4),(695e3,616.3e4),(700e3,616.3e4),(700e3,615.2e4),(689e3,615.2e4)]\n",
    "#     layer = 0\n",
    "#     kn = kh[3]\n",
    "#     k_zones (k,z1,layer,kn,ix) # change k with new kn value in the z1 zone at layer indicates, ix is the gridintersect object\n",
    "\n",
    "#     #### permeabilité de la zone Villeneuve\n",
    "#     x0_d,y0_d,x1_d,y1_d = 690e3,616.5e4,700e3,617.3e4\n",
    "#     zv = [(x0_d,y0_d),(x0_d,y1_d),(x1_d,y1_d),(x1_d,y0_d)]\n",
    "#     layer = 0\n",
    "#     kn = kh[4]\n",
    "#     k_zones(k,zv,layer,kn,ix)\n",
    "    \n",
    "    npf  = fp.mf6.ModflowGwfnpf(gwf, icelltype=0, k=k) # create the new npf package\n",
    "    npf.write() # write it\n",
    "    if sim.run_simulation(silent = True): # And RUN !\n",
    "        head = get_heads(model_name,model_dir)\n",
    "        head[head>1000]=None\n",
    "    \n",
    "    return np.nanmean(np.abs((Control_pz[Control_pz!=0] - head[0][Control_pz!=0])))"
   ]
  },
  {
   "cell_type": "code",
   "execution_count": null,
   "metadata": {},
   "outputs": [],
   "source": [
    "#res = minimize(Misfit,(1.76e-5,1.4e-4,1.1e-4,1e-5,4.2e-6), method = 'Nelder-Mead')"
   ]
  },
  {
   "cell_type": "code",
   "execution_count": null,
   "metadata": {},
   "outputs": [],
   "source": []
  }
 ],
 "metadata": {
  "kernelspec": {
   "display_name": "Python 3",
   "language": "python",
   "name": "python3"
  },
  "language_info": {
   "codemirror_mode": {
    "name": "ipython",
    "version": 3
   },
   "file_extension": ".py",
   "mimetype": "text/x-python",
   "name": "python",
   "nbconvert_exporter": "python",
   "pygments_lexer": "ipython3",
   "version": "3.7.4"
  }
 },
 "nbformat": 4,
 "nbformat_minor": 2
}
