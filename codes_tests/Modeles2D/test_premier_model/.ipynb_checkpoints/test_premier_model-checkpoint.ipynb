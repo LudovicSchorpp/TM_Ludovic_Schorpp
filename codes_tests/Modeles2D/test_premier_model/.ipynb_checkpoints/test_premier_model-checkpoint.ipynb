{
 "cells": [
  {
   "cell_type": "code",
   "execution_count": 1,
   "metadata": {},
   "outputs": [
    {
     "name": "stdout",
     "output_type": "stream",
     "text": [
      "flopy is installed in C:\\Users\\schorppl\\AppData\\Local\\Continuum\\anaconda3\\lib\\site-packages\\flopy\n"
     ]
    }
   ],
   "source": [
    "import flopy as fp\n",
    "import numpy as np\n",
    "import geopandas as gp\n",
    "import pandas as pd\n",
    "import os\n",
    "from osgeo import ogr\n",
    "import gdal\n",
    "import matplotlib.pyplot as plt\n",
    "from flopy.utils.gridgen import Gridgen \n",
    "from flopy.utils.gridintersect import GridIntersect\n",
    "from flopy.utils import Raster\n",
    "import shapely\n",
    "from shapely.geometry import Polygon, Point, LineString, MultiLineString, MultiPoint, MultiPolygon,shape\n",
    "from shapely.strtree import STRtree  \n",
    "\n",
    "# hand made functions\n",
    "from Rouss1 import Imreduction, gp2idomain, gp2cellids,cellidBD, get_heads, get_spdis, get_MNTbbox, import_riv\n",
    "from Rouss1 import inter_lst,get_cellcenters"
   ]
  },
  {
   "cell_type": "code",
   "execution_count": 2,
   "metadata": {},
   "outputs": [],
   "source": [
    "model_dir = \"workingDis\"\n",
    "model_name=\"dis_test\"\n",
    "exe_name=\"../../exe/mf6\""
   ]
  },
  {
   "cell_type": "code",
   "execution_count": 4,
   "metadata": {},
   "outputs": [],
   "source": [
    "R_path=\"../data/limiteModeleRoussillon_poly.shp\" # path to the shp of the aquifer\n",
    "MNT_path= \"../data/MNT/MNT_50.tif\"\n",
    "Agly_path=\"../data/Fleuves/Agly_ludo.shp\" # path to Agly\n",
    "Tet_path=\"../data/Fleuves/Tet_ludo.shp\"\n",
    "\n",
    "# get x0,y0,y1 and x1 from the DEM\n",
    "x0,y0,x1,y1 = get_MNTbbox(MNT_path)"
   ]
  },
  {
   "cell_type": "code",
   "execution_count": 5,
   "metadata": {},
   "outputs": [],
   "source": [
    "#spatial parameters\n",
    "Lx = x1-x0\n",
    "Ly = y1-y0\n",
    "nlay = 1\n",
    "ncol = 150\n",
    "nrow = 150\n",
    "delr = np.ones(ncol)*(Lx/ncol)\n",
    "delc = np.ones(nrow)*(Ly/nrow)\n",
    "botm = -50\n",
    "top = 10. # if no mnt is provided\n",
    "idomain = np.zeros((nrow*ncol))"
   ]
  },
  {
   "cell_type": "code",
   "execution_count": 6,
   "metadata": {
    "scrolled": false
   },
   "outputs": [
    {
     "data": {
      "text/plain": [
       "\"\\nfrom PIL import Image\\nim = Image.open(MNT_path) # add path to MNT.tif\\nimar = np.array(im) # create an array\\nimar[imar==0]=None # None where it's nodata\\n\\ntop = Imreduction(imar,nrow,ncol)\\n\""
      ]
     },
     "execution_count": 6,
     "metadata": {},
     "output_type": "execute_result"
    }
   ],
   "source": [
    "# import a mnt and extract topography data --> add it to top of the cells\n",
    "\n",
    "\"\"\"\n",
    "from PIL import Image\n",
    "im = Image.open(MNT_path) # add path to MNT.tif\n",
    "imar = np.array(im) # create an array\n",
    "imar[imar==0]=None # None where it's nodata\n",
    "\n",
    "top = Imreduction(imar,nrow,ncol)\n",
    "\"\"\""
   ]
  },
  {
   "cell_type": "code",
   "execution_count": 7,
   "metadata": {},
   "outputs": [
    {
     "ename": "ImportError",
     "evalue": "Raster().load(): error importing rasterio - try \"pip install rasterio\"",
     "output_type": "error",
     "traceback": [
      "\u001b[1;31m---------------------------------------------------------------------------\u001b[0m",
      "\u001b[1;31mImportError\u001b[0m                               Traceback (most recent call last)",
      "\u001b[1;32m<ipython-input-7-c740a167cbd0>\u001b[0m in \u001b[0;36m<module>\u001b[1;34m\u001b[0m\n\u001b[1;32m----> 1\u001b[1;33m \u001b[0mMNT\u001b[0m \u001b[1;33m=\u001b[0m \u001b[0mRaster\u001b[0m\u001b[1;33m.\u001b[0m\u001b[0mload\u001b[0m\u001b[1;33m(\u001b[0m\u001b[0mMNT_path\u001b[0m\u001b[1;33m)\u001b[0m\u001b[1;33m\u001b[0m\u001b[1;33m\u001b[0m\u001b[0m\n\u001b[0m\u001b[0;32m      2\u001b[0m \u001b[0mgrid\u001b[0m \u001b[1;33m=\u001b[0m \u001b[0mfp\u001b[0m\u001b[1;33m.\u001b[0m\u001b[0mdiscretization\u001b[0m\u001b[1;33m.\u001b[0m\u001b[0mStructuredGrid\u001b[0m\u001b[1;33m(\u001b[0m\u001b[0mdelc\u001b[0m\u001b[1;33m,\u001b[0m\u001b[0mdelr\u001b[0m\u001b[1;33m,\u001b[0m\u001b[0mxoff\u001b[0m\u001b[1;33m=\u001b[0m\u001b[0mx0\u001b[0m\u001b[1;33m,\u001b[0m\u001b[0myoff\u001b[0m\u001b[1;33m=\u001b[0m\u001b[0my0\u001b[0m\u001b[1;33m)\u001b[0m\u001b[1;33m\u001b[0m\u001b[1;33m\u001b[0m\u001b[0m\n\u001b[0;32m      3\u001b[0m \u001b[1;33m\u001b[0m\u001b[0m\n\u001b[0;32m      4\u001b[0m top = dem_data = MNT.resample_to_grid(grid.xcellcenters,\n\u001b[0;32m      5\u001b[0m                                 \u001b[0mgrid\u001b[0m\u001b[1;33m.\u001b[0m\u001b[0mycellcenters\u001b[0m\u001b[1;33m,\u001b[0m\u001b[1;33m\u001b[0m\u001b[1;33m\u001b[0m\u001b[0m\n",
      "\u001b[1;32m~\\AppData\\Local\\Continuum\\anaconda3\\lib\\site-packages\\flopy\\utils\\rasters.py\u001b[0m in \u001b[0;36mload\u001b[1;34m(raster)\u001b[0m\n\u001b[0;32m    737\u001b[0m             \u001b[0mmsg\u001b[0m \u001b[1;33m=\u001b[0m \u001b[1;34m'Raster().load(): error '\u001b[0m \u001b[1;33m+\u001b[0m\u001b[0;31m \u001b[0m\u001b[0;31m\\\u001b[0m\u001b[1;33m\u001b[0m\u001b[1;33m\u001b[0m\u001b[0m\n\u001b[0;32m    738\u001b[0m                   \u001b[1;34m'importing rasterio - try \"pip install rasterio\"'\u001b[0m\u001b[1;33m\u001b[0m\u001b[1;33m\u001b[0m\u001b[0m\n\u001b[1;32m--> 739\u001b[1;33m             \u001b[1;32mraise\u001b[0m \u001b[0mImportError\u001b[0m\u001b[1;33m(\u001b[0m\u001b[0mmsg\u001b[0m\u001b[1;33m)\u001b[0m\u001b[1;33m\u001b[0m\u001b[1;33m\u001b[0m\u001b[0m\n\u001b[0m\u001b[0;32m    740\u001b[0m \u001b[1;33m\u001b[0m\u001b[0m\n\u001b[0;32m    741\u001b[0m         \u001b[0mdataset\u001b[0m \u001b[1;33m=\u001b[0m \u001b[0mrasterio\u001b[0m\u001b[1;33m.\u001b[0m\u001b[0mopen\u001b[0m\u001b[1;33m(\u001b[0m\u001b[0mraster\u001b[0m\u001b[1;33m)\u001b[0m\u001b[1;33m\u001b[0m\u001b[1;33m\u001b[0m\u001b[0m\n",
      "\u001b[1;31mImportError\u001b[0m: Raster().load(): error importing rasterio - try \"pip install rasterio\""
     ]
    }
   ],
   "source": [
    "MNT = Raster.load(MNT_path)\n",
    "grid = fp.discretization.StructuredGrid(delc,delr,xoff=x0,yoff=y0)\n",
    "\n",
    "top = dem_data = MNT.resample_to_grid(grid.xcellcenters,\n",
    "                                grid.ycellcenters,\n",
    "                                band = MNT.bands[0],\n",
    "                                method=\"nearest\")"
   ]
  },
  {
   "cell_type": "code",
   "execution_count": null,
   "metadata": {},
   "outputs": [],
   "source": [
    "R = gp.read_file(R_path) # import shapefile with geopandas\n",
    "\n",
    "#cells inside the aquifer become active and return the lst of the cellids\n",
    "lst_domain = gp2idomain(R,grid,idomain,area=0)"
   ]
  },
  {
   "cell_type": "code",
   "execution_count": null,
   "metadata": {},
   "outputs": [],
   "source": [
    "### BC sea\n",
    "\n",
    "# import the shapefile that correspond to the BC\n",
    "BCsea_path = \"../data/Sea_BC_L93.shp\"\n",
    "BC_sea = gp.read_file(BCsea_path)\n",
    "\n",
    "# extract cellids from the BC at the sea and make these cells active\n",
    "lst_chd = gp2cellids(grid,BC_sea,idomain,type=\"line\")\n",
    "# attribute a constant head at all the cells in the lst_chd\n",
    "CHD = 0; chd_lst=[];\n",
    "for x in lst_chd:\n",
    "    chd_lst.append((x,CHD))\n",
    "chd_lst"
   ]
  },
  {
   "cell_type": "code",
   "execution_count": null,
   "metadata": {},
   "outputs": [],
   "source": [
    "#BC Agly\n",
    "BC_Agly = gp.read_file(Agly_path)\n",
    "df_agy = import_riv(grid,BC_Agly)\n",
    "df_agy"
   ]
  },
  {
   "cell_type": "code",
   "execution_count": null,
   "metadata": {},
   "outputs": [],
   "source": [
    "#drop cellids which are already constant head\n",
    "a = inter_lst(df_agy.cellids, lst_chd)\n",
    "for i in range (len(a)):\n",
    "    df_agy = df_agy.drop(df_agy[df_agy[\"cellids\"] == a[0]].index)\n",
    "\n",
    "\n",
    "# assign heads along the river\n",
    "lst_Agy_long = np.array(df_agy.lengths) # make an array\n",
    "H_us = 30 # head up stream\n",
    "H_ds = 0 # head down stream\n",
    "dh_dl = (H_ds-H_us)/lst_Agy_long.sum() #slope of the head along the river (linear interpolation)\n",
    "\n",
    "H_riv = np.zeros(lst_Agy_long.shape[0], dtype=np.float) # initiate an array for the head in the river\n",
    "\n",
    "for idx in range(lst_Agy_long.shape[0]): # loop for calculating the heads (can also be used for interpolate the botm of the river)\n",
    "    if idx == 0:\n",
    "        len_cum = 0.5 * lst_Agy_long[0]\n",
    "    else:\n",
    "        len_cum += 0.5 * (lst_Agy_long[idx-1]+lst_Agy_long[idx])\n",
    "    H_riv[idx] = H_us + len_cum * dh_dl\n",
    "\n",
    "\n",
    "Agy_chd=[]; o =-1;\n",
    "for x in df_agy.cellids:\n",
    "    o = o + 1\n",
    "    Agy_chd.append((x,H_riv[o]))"
   ]
  },
  {
   "cell_type": "code",
   "execution_count": null,
   "metadata": {},
   "outputs": [],
   "source": [
    "# BC Tet\n",
    "gp_Tet = gp.read_file(Tet_path)\n",
    "df_tet = import_riv(grid,gp_Tet)\n",
    "df_tet.head()\n",
    "\n",
    "#drop cellids which are already constant heads\n",
    "a = inter_lst(df_tet.cellids, lst_chd)\n",
    "for i in range (len(a)):\n",
    "    df_tet = df_tet.drop(df_tet[df_tet[\"cellids\"] == a[i]].index)\n",
    "\n",
    "\n",
    "# assign heads along the river\n",
    "lst_riv_long = np.array(df_tet.lengths) # make an array\n",
    "H_us = 150 # head up stream\n",
    "H_ds = 0 # head down stream\n",
    "dh_dl = (H_ds-H_us)/lst_riv_long.sum() #slope of the head along the river (linear interpolation)\n",
    "\n",
    "H_riv = np.zeros(lst_riv_long.shape[0], dtype=np.float) # initiate an array for the head in the river\n",
    "\n",
    "for idx in range(lst_riv_long.shape[0]): # loop for calculating the heads (can also be used for interpolate the botm of the river)\n",
    "    if idx == 0:\n",
    "        len_cum = 0.5 * lst_riv_long[0]\n",
    "    else:\n",
    "        len_cum += 0.5 * (lst_riv_long[idx-1]+lst_riv_long[idx])\n",
    "    H_riv[idx] = H_us + len_cum * dh_dl\n",
    "\n",
    "\n",
    "Tet_chd=[]; o =-1;\n",
    "for x in df_tet.cellids:\n",
    "    o = o + 1\n",
    "    Tet_chd.append((x,H_riv[o]))\n",
    "\n"
   ]
  },
  {
   "cell_type": "code",
   "execution_count": null,
   "metadata": {},
   "outputs": [],
   "source": [
    "# basic modules\n",
    "sim = fp.mf6.MFSimulation(sim_name='theis_mf6', version='mf6', exe_name=exe_name, \n",
    "                             sim_ws=model_dir)\n",
    "gwf = fp.mf6.ModflowGwf(sim, modelname=model_name,\n",
    "                           model_nam_file='{}.nam'.format(model_name))\n",
    "dis = fp.mf6.ModflowGwfdis(gwf, nlay=nlay, nrow=nrow, ncol=ncol,\n",
    "                              delr=delr, delc=delc,\n",
    "                              top=top, botm=botm,xorigin=x0,yorigin=y0,idomain=idomain)\n",
    "\n",
    "tdis = fp.mf6.ModflowTdis(sim, time_units='SECONDS',perioddata=[[1.0, 1, 1.]])\n",
    "ims  = fp.mf6.ModflowIms(sim, print_option='SUMMARY', complexity='simple')\n",
    "\n",
    "# initial conditions\n",
    "ic   = fp.mf6.ModflowGwfic(gwf)\n",
    "\n",
    "# nodeflowproperty\n",
    "kh = 1e-4\n",
    "npf  = fp.mf6.ModflowGwfnpf(gwf, icelltype=0, k=kh, save_flows=True,save_specific_discharge=True)\n",
    "\n",
    "#recharge\n",
    "mm = 100\n",
    "rch  = fp.mf6.ModflowGwfrcha(gwf, recharge = mm/1000/365/86400)\n",
    "\n",
    "# output control\n",
    "headfile = '{}.hds'.format(model_name)\n",
    "oc   = fp.mf6.ModflowGwfoc(gwf,budget_filerecord='{}.cbc'.format(model_name),\n",
    "                            head_filerecord='{}.hds'.format(model_name),\n",
    "                            saverecord=[('HEAD', 'LAST'),\n",
    "                                        ('BUDGET', 'LAST')],\n",
    "                            printrecord=[('HEAD', 'LAST'),\n",
    "                                         ('BUDGET', 'LAST')])\n",
    "\n",
    "# constant heads package\n",
    "chd = fp.mf6.modflow.mfgwfchd.ModflowGwfchd(gwf, pname='chd', filename=\"sea.chd\", maxbound=len(chd_lst), \n",
    "                                               stress_period_data={0: chd_lst}, save_flows=True)\n",
    "\n",
    "Riv1 = fp.mf6.modflow.mfgwfchd.ModflowGwfchd(gwf, pname='agy', filename=\"agy.chd\", maxbound=len(Agy_chd), \n",
    "                                               stress_period_data={0: Agy_chd}, save_flows=True)\n",
    "\n",
    "Riv2 = fp.mf6.modflow.mfgwfchd.ModflowGwfchd(gwf, pname='Tet', filename=\"Tet.chd\", maxbound=len(Tet_chd), \n",
    "                                               stress_period_data={0: Tet_chd}, save_flows=True)"
   ]
  },
  {
   "cell_type": "code",
   "execution_count": null,
   "metadata": {},
   "outputs": [],
   "source": [
    "# vizualize the BC cells\n",
    "iper = 0\n",
    "ibd = np.ones((nlay, nrow, ncol), dtype=np.int)\n",
    "\n",
    "ra = chd.stress_period_data.get_data(key=iper)\n",
    "rb = Riv1.stress_period_data.get_data(key=iper)\n",
    "rc = Riv2.stress_period_data.get_data(key=iper)\n",
    "\n",
    "for k, i, j in ra['cellid']:\n",
    "    ibd[k, i, j] = -1\n",
    "    \n",
    "for k, i, j in rb['cellid']:\n",
    "    ibd[k, i, j] = -1\n",
    "\n",
    "for k, i, j in rc['cellid']:\n",
    "    ibd[k, i, j] = -1\n",
    "\n",
    "ilay = 0\n",
    "plt.imshow(ibd[ilay, :, :], interpolation='none')\n",
    "plt.title('Layer {}: Constant Head Cells'.format(ilay + 1))"
   ]
  },
  {
   "cell_type": "code",
   "execution_count": null,
   "metadata": {},
   "outputs": [],
   "source": [
    "sim.write_simulation()"
   ]
  },
  {
   "cell_type": "code",
   "execution_count": null,
   "metadata": {
    "scrolled": true
   },
   "outputs": [],
   "source": [
    "sim.run_simulation()"
   ]
  },
  {
   "cell_type": "code",
   "execution_count": null,
   "metadata": {},
   "outputs": [],
   "source": [
    "# retrieve heads and spdis \n",
    "head=get_heads(model_name,model_dir)\n",
    "spdis = get_spdis(model_name,model_dir)"
   ]
  },
  {
   "cell_type": "code",
   "execution_count": null,
   "metadata": {},
   "outputs": [],
   "source": [
    "# make a plot\n",
    "\n",
    "fig = plt.figure(figsize=(15,15))\n",
    "ax  = plt.subplot(1, 1, 1, aspect='equal')\n",
    "ml = fp.plot.PlotMapView(model=gwf)\n",
    "\n",
    "#hmesh=ml.plot_ibound()\n",
    "hmesh=ml.plot_array(head,masked_values=[1e30],cmap=\"viridis\")\n",
    "#ml.plot_specific_discharge(spdis[0],color=\"w\",width=0.0030)\n",
    "ml.plot_bc(\"chd\",color=\"b\")\n",
    "ml.plot_bc(\"Tet\",color=\"g\")\n",
    "riv2 = ml.plot_bc(\"Agy\")\n",
    "g=plt.colorbar(hmesh)\n",
    "hmesh.set_clim((0,120))\n",
    "g.set_label(\"Head [m]\")"
   ]
  },
  {
   "cell_type": "code",
   "execution_count": null,
   "metadata": {},
   "outputs": [],
   "source": [
    "fig = plt.figure(figsize=(8, 8))\n",
    "ax = fig.add_subplot(aspect='equal')\n",
    "\n",
    "mm = fp.plot.PlotMapView(model=gwf)\n",
    "#mm.plot_grid()\n",
    "mm.plot_array(dis.idomain.array,alpha=0.5)\n",
    "fp.plot.plot_shapefile(BCsea_path,ax=ax,edgecolor=\"r\",facecolor=\"none\",linewidth=4)\n",
    "fp.plot.plot_shapefile(R_path,ax=ax,facecolor=\"Red\",alpha=0.5)\n",
    "fp.plot.plot_shapefile(Agly_path,ax=ax,facecolor=\"none\")\n",
    "fp.plot.plot_shapefile(Tet_path,ax=ax,facecolor=\"none\")"
   ]
  },
  {
   "cell_type": "code",
   "execution_count": null,
   "metadata": {},
   "outputs": [],
   "source": [
    "dis.plot()"
   ]
  },
  {
   "cell_type": "code",
   "execution_count": null,
   "metadata": {},
   "outputs": [],
   "source": []
  }
 ],
 "metadata": {
  "kernelspec": {
   "display_name": "Python 3",
   "language": "python",
   "name": "python3"
  },
  "language_info": {
   "codemirror_mode": {
    "name": "ipython",
    "version": 3
   },
   "file_extension": ".py",
   "mimetype": "text/x-python",
   "name": "python",
   "nbconvert_exporter": "python",
   "pygments_lexer": "ipython3",
   "version": "3.7.4"
  }
 },
 "nbformat": 4,
 "nbformat_minor": 2
}
