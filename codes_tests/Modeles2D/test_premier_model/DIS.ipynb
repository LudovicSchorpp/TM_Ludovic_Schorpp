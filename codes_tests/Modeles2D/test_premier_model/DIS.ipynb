{
 "cells": [
  {
   "cell_type": "code",
   "execution_count": 1,
   "metadata": {},
   "outputs": [
    {
     "name": "stdout",
     "output_type": "stream",
     "text": [
      "flopy is installed in C:\\Users\\emmal\\Anaconda3\\lib\\site-packages\\flopy\n"
     ]
    }
   ],
   "source": [
    "import flopy as fp\n",
    "import numpy as np\n",
    "import geopandas as gp\n",
    "import pandas as pd\n",
    "import os\n",
    "from osgeo import ogr\n",
    "from osgeo import gdal\n",
    "from osgeo import gdal_array\n",
    "from osgeo import osr\n",
    "import matplotlib.pyplot as plt\n",
    "from flopy.utils.gridgen import Gridgen \n",
    "from flopy.utils.gridintersect import GridIntersect\n",
    "from flopy.utils import Raster\n",
    "import shapely\n",
    "from shapely.geometry import Polygon, Point, LineString, MultiLineString, MultiPoint, MultiPolygon,shape\n",
    "from shapely.strtree import STRtree  \n",
    "import glob\n",
    "import sys\n",
    "\n",
    "sys.path.append(\"../../modules\")\n",
    "# hand made functions\n",
    "from Rouss1 import *\n",
    "from Rouss2 import *\n",
    "\n",
    "sys.path.append(\"../../Model_val/upscalling/\")\n",
    "from upscalling_functions import *"
   ]
  },
  {
   "cell_type": "code",
   "execution_count": 2,
   "metadata": {},
   "outputs": [],
   "source": [
    "#geo parameters\n",
    "MNT_path = \"../../data/surfaces_geoter/TOPO (inf_0 en mer).ASC\"\n",
    "x0,y0,x1,y1 = get_MNTbbox(MNT_path)\n",
    "\n",
    "#Z\n",
    "nlay = 5\n",
    "\n",
    "#X\n",
    "x_seashore = 705e3\n",
    "Lx_1 = x_seashore-x0\n",
    "Lx_2 = x1 - x_seashore\n",
    "res_1 = 300\n",
    "res_2 = 600\n",
    "ncol1 = int(Lx_1/res_1)\n",
    "ncol2 = int(Lx_2/res_2)\n",
    "ncol = ncol1+ncol2\n",
    "\n",
    "delr = np.ones(ncol)*res_1\n",
    "delr[ncol1:ncol1+1] *=1.5\n",
    "delr[ncol1+1:] *= 2\n",
    "\n",
    "\n",
    "#Y\n",
    "Ly = y1-y0\n",
    "res = 300\n",
    "nrow = int(Ly/res)\n",
    "delc = np.ones(nrow)*res\n",
    "\n",
    "grid = fp.discretization.StructuredGrid(delc,delr,xoff=x0,yoff=y0) # create a grid identical to the dis package, will be used\n",
    "                                                                   # to pre-process data\n",
    "idomain=np.zeros([nrow*ncol])"
   ]
  },
  {
   "cell_type": "code",
   "execution_count": 3,
   "metadata": {},
   "outputs": [],
   "source": [
    "# load top data\n",
    "MNT = Raster.load(MNT_path)\n",
    "\n",
    "grid = fp.discretization.StructuredGrid(delc,delr,xoff=x0,yoff=y0) # create a grid identical to the dis package, will be used\n",
    "                                                                 # to pre-process data\n",
    "\n",
    "top = MNT.resample_to_grid(grid.xcellcenters,\n",
    "                                grid.ycellcenters,\n",
    "                                band = MNT.bands[0],\n",
    "                                method=\"nearest\")"
   ]
  },
  {
   "cell_type": "code",
   "execution_count": 4,
   "metadata": {},
   "outputs": [],
   "source": [
    "# load botom based on the differents surfaces\n",
    "folder_path = \"../../data/surfaces_geoter/\"\n",
    "surfaces = []\n",
    "for file in glob.glob(os.path.join(folder_path, '*.asc')):\n",
    "    Rast = Raster.load(file)\n",
    "    surfaces.append(Rast.resample_to_grid(grid.xcellcenters,\n",
    "                                grid.ycellcenters,\n",
    "                                band = Rast.bands[0],\n",
    "                                method=\"nearest\"))\n",
    "Q = surfaces[2]\n",
    "PC = surfaces[0]\n",
    "PMS = surfaces[1]\n",
    "BOT = PMS.copy()\n",
    "BOT[PMS==-9999] = PC[PMS==-9999]\n",
    "BOT[PC==-9999] = Q[PC==-9999]\n",
    "BOT[BOT==-9999] = top[BOT==-9999] - 50\n",
    "\n",
    "BOT[(top-BOT)<=10] = top[(top-BOT)<=10] - 10 # minimum of 10 m thickness to avoid bug and numerical issues"
   ]
  },
  {
   "cell_type": "code",
   "execution_count": 5,
   "metadata": {},
   "outputs": [],
   "source": [
    "# Define the domain\n",
    "R_path = \"../../data/shp/limiteModeleRoussillon_ext_poly.shp\"\n",
    "R = gp.read_file(R_path) # import shapefile with geopandas\n",
    "\n",
    "# cells inside the aquifer become active and return the lst of the cellids\n",
    "lst_domain = gp2idomain(R,grid,idomain,area=0) # all the cells of the model"
   ]
  },
  {
   "cell_type": "code",
   "execution_count": 6,
   "metadata": {},
   "outputs": [],
   "source": [
    "idomain = idomain.reshape(nrow,ncol)"
   ]
  },
  {
   "cell_type": "code",
   "execution_count": 7,
   "metadata": {},
   "outputs": [],
   "source": [
    "write_pickle(\"working/export_dis\",[top,BOT,idomain,delr,delc])"
   ]
  }
 ],
 "metadata": {
  "kernelspec": {
   "display_name": "Python 3",
   "language": "python",
   "name": "python3"
  },
  "language_info": {
   "codemirror_mode": {
    "name": "ipython",
    "version": 3
   },
   "file_extension": ".py",
   "mimetype": "text/x-python",
   "name": "python",
   "nbconvert_exporter": "python",
   "pygments_lexer": "ipython3",
   "version": "3.7.4"
  }
 },
 "nbformat": 4,
 "nbformat_minor": 2
}
