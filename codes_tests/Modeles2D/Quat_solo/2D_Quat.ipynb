{
 "cells": [
  {
   "cell_type": "code",
   "execution_count": 1,
   "metadata": {},
   "outputs": [
    {
     "name": "stdout",
     "output_type": "stream",
     "text": [
      "flopy is installed in C:\\Users\\schorppl\\AppData\\Local\\Continuum\\anaconda3\\lib\\site-packages\\flopy\n"
     ]
    }
   ],
   "source": [
    "import flopy as fp\n",
    "import numpy as np\n",
    "import geopandas as gp\n",
    "import pandas as pd\n",
    "import os\n",
    "from osgeo import ogr\n",
    "import gdal\n",
    "import matplotlib.pyplot as plt\n",
    "from flopy.utils.gridgen import Gridgen \n",
    "from flopy.utils.gridintersect import GridIntersect\n",
    "from flopy.utils import Raster\n",
    "import shapely\n",
    "from shapely.geometry import Polygon, Point, LineString, MultiLineString, MultiPoint, MultiPolygon,shape\n",
    "from shapely.strtree import STRtree  \n",
    "import glob\n",
    "\n",
    "from Rouss1 import gp2idomain, gp2cellids, get_heads, get_spdis, get_MNTbbox, import_riv\n",
    "from Rouss1 import inter_lst,get_cellcenters, lin_interp"
   ]
  },
  {
   "cell_type": "code",
   "execution_count": 2,
   "metadata": {},
   "outputs": [],
   "source": [
    "model_dir = \"working\"\n",
    "model_name = \"2D_Q\"\n",
    "exe_name= \"../../exe/mf6\""
   ]
  },
  {
   "cell_type": "code",
   "execution_count": 3,
   "metadata": {},
   "outputs": [],
   "source": [
    "R_path=\"../data/limiteQ2.shp\" # path to the shp of the aquifer\n",
    "\n",
    "\n",
    "MNT_path= \"../../data/txt_couches/s1_mnt.txt\"\n",
    "sub_path = \"../../data/txt_couches/s2_ToitPlioC_MurQuat.txt\"\n",
    "\n",
    "Agly_path= \"../data/Fleuves/Agly_ludo.shp\" # path to Agly\n",
    "Tet_path= \"../data/Fleuves/Tet_ludo.shp\"\n",
    "Rea_path = \"../data/Fleuves/Reart_ludo.shp\"\n",
    "Tech_path = \"../data/Fleuves/Tech_ludo.shp\"\n",
    "\n",
    "BCflux_path = \"../data/flux_lim/Flux_limite_QUAT1961_63.grd\""
   ]
  },
  {
   "cell_type": "code",
   "execution_count": 4,
   "metadata": {},
   "outputs": [],
   "source": [
    "def load_flux_bc(path,g):\n",
    "    \n",
    "    \"\"\"\n",
    "    resample a raster file to a new resolution given a certain grid, made to import the bc flux map\n",
    "    \"\"\"\n",
    "    Qlim = Raster.load(path)\n",
    "    x0,x1,y0,y1 = Qlim.bounds\n",
    "    values = Qlim.get_array(1)\n",
    "    #values[values==-999]=None\n",
    "    nrow,ncol = values.shape\n",
    "    Lx = x1-x0\n",
    "    Ly = y1-y0\n",
    "    dx = Lx/ncol\n",
    "    dy = Ly/nrow\n",
    "    area = dx*dy\n",
    "    \n",
    "    Qlim_resample=Qlim.resample_to_grid(grid.xcellcenters,\n",
    "                                grid.ycellcenters,\n",
    "                                band = Qlim.bands[0],\n",
    "                                method=\"nearest\")\n",
    "    \n",
    "    Qlim_resample[Qlim_resample==-999]=None\n",
    "    return Qlim_resample/area"
   ]
  },
  {
   "cell_type": "code",
   "execution_count": 5,
   "metadata": {},
   "outputs": [],
   "source": [
    "def linInt_Dfcol(df,weight=\"lengths\",col=\"head\",null=0):\n",
    "    \n",
    "    \"\"\"\n",
    "    function that linearly interpolates the values in a column btwn certains given values, a null value is indicated by 0\n",
    "    this function needs the lin_interp function, a weighting factor must be provided and a column in the df.\n",
    "    \"\"\"\n",
    "    \n",
    "    new_heads=np.zeros([df.shape[0]])\n",
    "    for i in np.arange(df[df[col]!=null].index.shape[0]-1):\n",
    "        idx1 = df[df[col]!=null].index[i]\n",
    "        idx2 = df[df[col]!=null].index[i+1]\n",
    "        new_heads[idx1:idx2+1] = lin_interp(df[weight][idx1:idx2+1],df[col][idx1],df[col][idx2])\n",
    "        \n",
    "    df[col]=new_heads"
   ]
  },
  {
   "cell_type": "code",
   "execution_count": 6,
   "metadata": {},
   "outputs": [],
   "source": [
    "x0,y0,x1,y1 = get_MNTbbox(MNT_path)\n",
    "x1 -= 2e4;x0 -= 2000\n",
    "\n",
    "Lx = x1-x0\n",
    "Ly = y1-y0\n",
    "nlay = 1\n",
    "ncol = nrow = 100\n",
    "delr = np.ones(ncol)*(Lx/ncol)\n",
    "delc = np.ones(nrow)*(Ly/nrow)\n",
    "top = 10. # if no mnt is provided\n",
    "idomain = np.zeros((nrow*ncol))"
   ]
  },
  {
   "cell_type": "code",
   "execution_count": 155,
   "metadata": {},
   "outputs": [],
   "source": [
    "# resample the top and botm data\n",
    "grid = fp.discretization.StructuredGrid(delc,delr,xoff=x0,yoff=y0)\n",
    "\n",
    "MNT = Raster.load(MNT_path)\n",
    "top = MNT.resample_to_grid(grid.xcellcenters,\n",
    "                                grid.ycellcenters,\n",
    "                                band = MNT.bands[0],\n",
    "                                method=\"nearest\")\n",
    "\n",
    "BOT = Raster.load(sub_path)\n",
    "botm = BOT.resample_to_grid(grid.xcellcenters,\n",
    "                                grid.ycellcenters,\n",
    "                                band = BOT.bands[0],\n",
    "                                method=\"nearest\")\n"
   ]
  },
  {
   "cell_type": "code",
   "execution_count": 8,
   "metadata": {},
   "outputs": [],
   "source": [
    "R = gp.read_file(R_path) # import shapefile with geopandas\n",
    "\n",
    "#cells inside the aquifer become active and return the lst of the cellids\n",
    "lst_domain = gp2idomain(R,grid,idomain,area=0) # all the cells of the model"
   ]
  },
  {
   "cell_type": "code",
   "execution_count": 9,
   "metadata": {},
   "outputs": [],
   "source": [
    "#recharge\n",
    "rcha=[]\n",
    "rch_areas = Raster.load(\"../data/recharge/rast_peff.tif\")\n",
    "rcha = rch_areas.resample_to_grid(grid.xcellcenters,\n",
    "                            grid.ycellcenters,\n",
    "                            band = rch_areas.bands[0],\n",
    "                            method=\"nearest\")\n",
    "\n",
    "rcha[rcha==0]=np.mean(rcha[rcha!=0])\n",
    "coeff = 0.5 # part de pluie qui s'infiltre\n",
    "rcha *= coeff"
   ]
  },
  {
   "cell_type": "code",
   "execution_count": 10,
   "metadata": {},
   "outputs": [],
   "source": [
    "# flux at boundaries\n",
    "Q_bc=load_flux_bc(BCflux_path,grid)\n",
    "Q_bc[np.isnan(Q_bc)]=0"
   ]
  },
  {
   "cell_type": "code",
   "execution_count": 11,
   "metadata": {},
   "outputs": [],
   "source": [
    "### BC sea\n",
    "\n",
    "# import the shapefile that correspond to the BC\n",
    "BCsea_path = \"../data/Sea_BC_L93.shp\"\n",
    "BC_sea = gp.read_file(BCsea_path)\n",
    "\n",
    "# extract cellids from the BC at the sea and make these cells active\n",
    "lst_chd = gp2cellids(grid,BC_sea,idomain,type=\"line\")\n",
    "\n",
    "# attribute a constant head at all the cells in the lst_chd\n",
    "CHD = 0; chd_lst=[];\n",
    "for x in lst_chd:\n",
    "    chd_lst.append((x,CHD))"
   ]
  },
  {
   "cell_type": "code",
   "execution_count": 12,
   "metadata": {},
   "outputs": [],
   "source": [
    "# BC etangs\n",
    "BCetangs_path = \"../../data/shp/Surface_hydro/SURFACE_HYDROGRAPHIQUE.shp\"\n",
    "Bcet = gp.read_file(BCetangs_path)\n",
    "etangs = Bcet[(Bcet[\"TOPONYME\"]==\"étang de canet\") | (Bcet[\"TOPONYME\"]==\"étang de leucate\")]\n",
    "\n",
    "# extract cellids from the BC \n",
    "etangs_chd = gp2cellids(grid,etangs.dissolve(by=\"NATURE\"),idomain,areas=10)\n",
    "\n",
    "# attribute a constant head\n",
    "CHD = 0; et_chd_lst=[];\n",
    "for x in etangs_chd:\n",
    "    et_chd_lst.append((x,CHD))"
   ]
  },
  {
   "cell_type": "code",
   "execution_count": 56,
   "metadata": {},
   "outputs": [
    {
     "name": "stderr",
     "output_type": "stream",
     "text": [
      "C:\\Users\\schorppl\\AppData\\Local\\Continuum\\anaconda3\\lib\\site-packages\\pandas\\core\\frame.py:7123: FutureWarning: Sorting because non-concatenation axis is not aligned. A future version\n",
      "of pandas will change to not sort by default.\n",
      "\n",
      "To accept the future behavior, pass 'sort=False'.\n",
      "\n",
      "To retain the current behavior and silence the warning, pass 'sort=True'.\n",
      "\n",
      "  sort=sort,\n",
      "C:\\Users\\schorppl\\AppData\\Local\\Continuum\\anaconda3\\lib\\site-packages\\ipykernel_launcher.py:10: SettingWithCopyWarning: \n",
      "A value is trying to be set on a copy of a slice from a DataFrame\n",
      "\n",
      "See the caveats in the documentation: http://pandas.pydata.org/pandas-docs/stable/user_guide/indexing.html#returning-a-view-versus-a-copy\n",
      "  # Remove the CWD from sys.path while we load stuff.\n",
      "C:\\Users\\schorppl\\AppData\\Local\\Continuum\\anaconda3\\lib\\site-packages\\pandas\\core\\indexing.py:205: SettingWithCopyWarning: \n",
      "A value is trying to be set on a copy of a slice from a DataFrame\n",
      "\n",
      "See the caveats in the documentation: http://pandas.pydata.org/pandas-docs/stable/user_guide/indexing.html#returning-a-view-versus-a-copy\n",
      "  self._setitem_with_indexer(indexer, value)\n"
     ]
    }
   ],
   "source": [
    "# BC Agly\n",
    "BC_Agly = gp.read_file(Agly_path) # read shp, linestring from ups to dws\n",
    "df_agy = import_riv(grid,BC_Agly) # extract cellids intersected + lengths in each cells\n",
    "df_agy[\"xc\"],df_agy[\"yc\"] = get_cellcenters(grid,df_agy.cellids)\n",
    "df_agy[\"head\"] = np.zeros([df_agy.shape[0]])\n",
    "\n",
    "# station(s) and assignement of heads\n",
    "xs = 691850.9; ys = 6185873.7; elev = 11.39\n",
    "dist = ((df_agy[\"xc\"] - xs)**2 + (df_agy[\"yc\"] - ys)**2)**0.5\n",
    "df_agy[\"head\"][dist==np.min(dist)] = elev + 1\n",
    "\n",
    "# us and ds heads\n",
    "df_agy[\"head\"].iloc[0] = 28\n",
    "df_agy[\"head\"].iloc[-1] = 0.1\n",
    "\n",
    "# interpolation of the heads btw ups,stations and ds\n",
    "linInt_Dfcol(df_agy,col=\"head\")\n",
    "\n",
    "#drop cellids which are already constant head\n",
    "a = inter_lst(df_agy.cellids, lst_chd)\n",
    "for i in range (len(a)):\n",
    "    df_agy = df_agy.drop(df_agy[df_agy[\"cellids\"] == a[i]].index)\n",
    "\n",
    "# create the stress package\n",
    "H_riv = df_agy[\"head\"]\n",
    "Agy_chd=[]; o =-1;\n",
    "for x in df_agy.cellids:\n",
    "    o = o + 1\n",
    "    Agy_chd.append((x,H_riv[o]))"
   ]
  },
  {
   "cell_type": "code",
   "execution_count": 13,
   "metadata": {},
   "outputs": [
    {
     "name": "stderr",
     "output_type": "stream",
     "text": [
      "C:\\Users\\schorppl\\AppData\\Local\\Continuum\\anaconda3\\lib\\site-packages\\pandas\\core\\frame.py:7123: FutureWarning: Sorting because non-concatenation axis is not aligned. A future version\n",
      "of pandas will change to not sort by default.\n",
      "\n",
      "To accept the future behavior, pass 'sort=False'.\n",
      "\n",
      "To retain the current behavior and silence the warning, pass 'sort=True'.\n",
      "\n",
      "  sort=sort,\n",
      "C:\\Users\\schorppl\\AppData\\Local\\Continuum\\anaconda3\\lib\\site-packages\\pandas\\core\\indexing.py:205: SettingWithCopyWarning: \n",
      "A value is trying to be set on a copy of a slice from a DataFrame\n",
      "\n",
      "See the caveats in the documentation: http://pandas.pydata.org/pandas-docs/stable/user_guide/indexing.html#returning-a-view-versus-a-copy\n",
      "  self._setitem_with_indexer(indexer, value)\n",
      "C:\\Users\\schorppl\\AppData\\Local\\Continuum\\anaconda3\\lib\\site-packages\\ipykernel_launcher.py:17: SettingWithCopyWarning: \n",
      "A value is trying to be set on a copy of a slice from a DataFrame\n",
      "\n",
      "See the caveats in the documentation: http://pandas.pydata.org/pandas-docs/stable/user_guide/indexing.html#returning-a-view-versus-a-copy\n"
     ]
    }
   ],
   "source": [
    "## BC Tet\n",
    "gp_Tet = gp.read_file(Tet_path)\n",
    "df_tet = import_riv(grid,gp_Tet)  \n",
    "df_tet[\"xc\"],df_tet[\"yc\"] = get_cellcenters(grid,df_tet.cellids)\n",
    "df_tet[\"head\"] = np.zeros([df_tet.shape[0]])\n",
    "\n",
    "# us and ds heads\n",
    "df_tet[\"head\"].iloc[-1] = 0.1\n",
    "\n",
    "#add the head of the stations\n",
    "Tet_stations=pd.read_csv(\"../data/stations_tet.csv\",sep=\";\") # import the stations in a df\n",
    "for i in Tet_stations.index: # attribute a head value to the closest point of the the station\n",
    "    xs = Tet_stations.loc[i].x\n",
    "    ys = Tet_stations.loc[i].y\n",
    "    elev = Tet_stations.loc[i].elev\n",
    "    dist = ((df_tet[\"xc\"] - xs)**2 + (df_tet[\"yc\"] - ys)**2)**0.5\n",
    "    df_tet[\"head\"][dist==np.min(dist)] = elev + 1\n",
    "\n",
    "# interpolation of the heads btw ups,stations and ds\n",
    "linInt_Dfcol(df_tet,col=\"head\")\n",
    "\n",
    "#drop cellids which are already constant heads\n",
    "for cellid in df_tet.cellids:\n",
    "    if cellid in lst_chd:\n",
    "        df_tet = df_tet.drop(df_tet[df_tet[\"cellids\"] == cellid].index)\n",
    "    if cellid not in lst_domain:\n",
    "        df_tet = df_tet.drop(df_tet[df_tet[\"cellids\"]== cellid].index)\n",
    "\n",
    "df_tet = df_tet.reset_index()\n",
    "H_riv = df_tet[\"head\"]\n",
    "# create the stress package\n",
    "Tet_chd=[]; o =-1;\n",
    "for x in df_tet.cellids:\n",
    "    o = o + 1\n",
    "    Tet_chd.append((x,H_riv[o]))"
   ]
  },
  {
   "cell_type": "code",
   "execution_count": 40,
   "metadata": {},
   "outputs": [
    {
     "name": "stderr",
     "output_type": "stream",
     "text": [
      "C:\\Users\\schorppl\\AppData\\Local\\Continuum\\anaconda3\\lib\\site-packages\\pandas\\core\\frame.py:7123: FutureWarning: Sorting because non-concatenation axis is not aligned. A future version\n",
      "of pandas will change to not sort by default.\n",
      "\n",
      "To accept the future behavior, pass 'sort=False'.\n",
      "\n",
      "To retain the current behavior and silence the warning, pass 'sort=True'.\n",
      "\n",
      "  sort=sort,\n",
      "C:\\Users\\schorppl\\AppData\\Local\\Continuum\\anaconda3\\lib\\site-packages\\pandas\\core\\indexing.py:205: SettingWithCopyWarning: \n",
      "A value is trying to be set on a copy of a slice from a DataFrame\n",
      "\n",
      "See the caveats in the documentation: http://pandas.pydata.org/pandas-docs/stable/user_guide/indexing.html#returning-a-view-versus-a-copy\n",
      "  self._setitem_with_indexer(indexer, value)\n",
      "C:\\Users\\schorppl\\AppData\\Local\\Continuum\\anaconda3\\lib\\site-packages\\ipykernel_launcher.py:17: SettingWithCopyWarning: \n",
      "A value is trying to be set on a copy of a slice from a DataFrame\n",
      "\n",
      "See the caveats in the documentation: http://pandas.pydata.org/pandas-docs/stable/user_guide/indexing.html#returning-a-view-versus-a-copy\n"
     ]
    }
   ],
   "source": [
    "#BC Tech\n",
    "gp_riv = gp.read_file(Tech_path)\n",
    "df_riv = import_riv(grid,gp_riv) # extract cellids from the river, in order with associated lengths   \n",
    "df_riv[\"xc\"],df_riv[\"yc\"] = get_cellcenters(grid,df_riv.cellids)\n",
    "df_riv[\"head\"] = np.zeros([df_riv.shape[0]])\n",
    "\n",
    "# ds heads\n",
    "df_riv[\"head\"].iloc[-1] = 0.1\n",
    "\n",
    "#add the head of the stations\n",
    "Tech_stations=pd.read_csv(\"../data/stations_tech.csv\",sep=\";\") # import the stations in a df\n",
    "for i in Tech_stations.index: # attribute a head value to the closest point of the the station\n",
    "    xs = Tech_stations.loc[i].x\n",
    "    ys = Tech_stations.loc[i].y\n",
    "    elev = Tech_stations.loc[i].elev\n",
    "    dist = ((df_riv[\"xc\"] - xs)**2 + (df_riv[\"yc\"] - ys)**2)**0.5\n",
    "    df_riv[\"head\"][dist==np.min(dist)] = elev + 1 #issue warning ? but works\n",
    "\n",
    "# interpolation of the heads btw ups,stations and ds\n",
    "linInt_Dfcol(df_riv,col=\"head\")\n",
    "\n",
    "# assign heads along the river\n",
    "# df_riv[\"head\"] = lin_interp(df_riv.lengths,125,0)\n",
    "\n",
    "# drop some cells\n",
    "for cellid in df_riv.cellids:\n",
    "    if (cellid in lst_chd) | (cellid in etangs_chd):\n",
    "        df_riv = df_riv.drop(df_riv[df_riv[\"cellids\"] == cellid].index)\n",
    "    if cellid not in lst_domain:\n",
    "        df_riv = df_riv.drop(df_riv[df_riv[\"cellids\"]== cellid].index)\n",
    "\n",
    "df_riv = df_riv.reset_index()\n",
    "H_riv = df_riv[\"head\"]\n",
    "# create the stress package\n",
    "Tech_chd=[]; o =-1;\n",
    "for x in df_riv.cellids:\n",
    "    o = o + 1\n",
    "    Tech_chd.append((x,H_riv[o]))"
   ]
  },
  {
   "cell_type": "code",
   "execution_count": 218,
   "metadata": {},
   "outputs": [],
   "source": [
    "## conductivity\n",
    "\n",
    "path = \"../../data/transmissivités/TQuat_mai2018_RGF93_L93_emprise.tif\"\n",
    "TQ = Raster.load(path)\n",
    "\n",
    "T_Q = TQ.resample_to_grid(grid.xcellcenters,\n",
    "                            grid.ycellcenters,\n",
    "                            band = TQ.bands[0],\n",
    "                            method=\"nearest\")\n",
    "\n",
    "T_Q[T_Q==0]=1e-3"
   ]
  },
  {
   "cell_type": "code",
   "execution_count": 234,
   "metadata": {},
   "outputs": [],
   "source": [
    "sim = fp.mf6.MFSimulation(sim_name='theis_mf6', version='mf6', exe_name=exe_name, \n",
    "                             sim_ws=model_dir)\n",
    "gwf = fp.mf6.ModflowGwf(sim, modelname=model_name,\n",
    "                           model_nam_file='{}.nam'.format(model_name))\n",
    "\n",
    "\n",
    "top[top==-9999]=1\n",
    "top[(top-botm)<=0]=botm[(top-botm)<=0]+0.1\n",
    "botm[botm==-9999]=-100\n",
    "dis = fp.mf6.ModflowGwfdis(gwf, nlay=nlay, nrow=nrow, ncol=ncol,\n",
    "                              delr=delr, delc=delc,\n",
    "                              top=top, botm=botm,xorigin=x0,yorigin=y0,idomain=idomain)\n",
    "\n",
    "tdis = fp.mf6.ModflowTdis(sim, time_units='SECONDS',perioddata=[[1.0, 1, 1.]])\n",
    "ims  = fp.mf6.ModflowIms(sim, print_option='SUMMARY', complexity='simple')\n",
    "\n",
    "# initial conditions\n",
    "ic   = fp.mf6.ModflowGwfic(gwf,strt=botm)\n",
    "\n",
    "# nodeflowproperty\n",
    "kh = T_Q/10\n",
    "npf  = fp.mf6.ModflowGwfnpf(gwf, icelltype=0, k=kh, save_flows=True,save_specific_discharge=True)\n",
    "\n",
    "# recharge\n",
    "\n",
    "rch  = fp.mf6.ModflowGwfrcha(gwf, recharge = 0*Q_bc+(rcha/1000/365/86400))\n",
    "\n",
    "# output control\n",
    "oc   = fp.mf6.ModflowGwfoc(gwf,budget_filerecord='{}.cbc'.format(model_name),\n",
    "                            head_filerecord='{}.hds'.format(model_name),\n",
    "                            saverecord=[('HEAD', 'LAST'),\n",
    "                                        ('BUDGET', 'ALL')],\n",
    "                            printrecord=[('HEAD', 'LAST'),\n",
    "                                         ('BUDGET', 'ALL')])\n",
    "\n",
    "# constant heads packages\n",
    "chd = fp.mf6.modflow.mfgwfchd.ModflowGwfchd(gwf, pname='sea', filename=\"sea.chd\", maxbound=len(chd_lst), \n",
    "                                               stress_period_data={0: chd_lst}, save_flows=True)\n",
    "\n",
    "etangs = fp.mf6.modflow.mfgwfchd.ModflowGwfchd(gwf, pname='eta', filename=\"eta.chd\", maxbound=len(et_chd_lst), \n",
    "                                               stress_period_data={0: et_chd_lst}, save_flows=True)\n",
    "\n",
    "\n",
    "Agly = fp.mf6.modflow.mfgwfchd.ModflowGwfchd(gwf, pname='agy', filename=\"agy.chd\", maxbound=len(Agy_chd), \n",
    "                                              stress_period_data={0: Agy_chd}, save_flows=True)\n",
    "Tet = fp.mf6.modflow.mfgwfchd.ModflowGwfchd(gwf, pname='Tet', filename=\"Tet.chd\", maxbound=len(Tet_chd), \n",
    "                                               stress_period_data={0: Tet_chd}, save_flows=True)\n",
    "Tech = fp.mf6.modflow.mfgwfchd.ModflowGwfchd(gwf, pname='Tech', filename=\"Tech.chd\", maxbound=len(Tech_chd), \n",
    "                                               stress_period_data={0: Tech_chd}, save_flows=True)"
   ]
  },
  {
   "cell_type": "code",
   "execution_count": 235,
   "metadata": {},
   "outputs": [
    {
     "name": "stdout",
     "output_type": "stream",
     "text": [
      "writing simulation...\n",
      "  writing simulation name file...\n",
      "  writing simulation tdis package...\n",
      "  writing ims package ims_-1...\n",
      "  writing model 2D_Q...\n",
      "    writing model name file...\n",
      "    writing package dis...\n",
      "    writing package ic...\n",
      "    writing package npf...\n",
      "    writing package rcha...\n",
      "    writing package oc...\n",
      "    writing package sea...\n",
      "    writing package eta...\n",
      "    writing package agy...\n",
      "    writing package tet...\n",
      "    writing package tech...\n",
      "FloPy is using the following  executable to run the model: ../../exe/mf6.exe\n",
      "                                   MODFLOW 6\n",
      "                U.S. GEOLOGICAL SURVEY MODULAR HYDROLOGIC MODEL\n",
      "                            VERSION 6.0.4 03/13/2019\n",
      "\n",
      "   MODFLOW 6 compiled Mar 21 2019 15:37:31 with IFORT compiler (ver. 19.0.0)\n",
      "\n",
      "This software has been approved for release by the U.S. Geological \n",
      "Survey (USGS). Although the software has been subjected to rigorous \n",
      "review, the USGS reserves the right to update the software as needed \n",
      "pursuant to further analysis and review. No warranty, expressed or \n",
      "implied, is made by the USGS or the U.S. Government as to the \n",
      "functionality of the software and related material nor shall the \n",
      "fact of release constitute any such warranty. Furthermore, the \n",
      "software is released on condition that neither the USGS nor the U.S. \n",
      "Government shall be held liable for any damages resulting from its \n",
      "authorized or unauthorized use. Also refer to the USGS Water \n",
      "Resources Software User Rights Notice for complete use, copyright, \n",
      "and distribution information.\n",
      "\n",
      " Run start date and time (yyyy/mm/dd hh:mm:ss): 2020/03/12 14:59:08\n",
      "\n",
      " Writing simulation list file: mfsim.lst\n",
      " Using Simulation name file: mfsim.nam\n",
      " Solving:  Stress period:     1    Time step:     1\n",
      " Run end date and time (yyyy/mm/dd hh:mm:ss): 2020/03/12 14:59:08\n",
      " Elapsed run time:  0.579 Seconds\n",
      "\n",
      " Normal termination of simulation.\n"
     ]
    },
    {
     "data": {
      "text/plain": [
       "(True, [])"
      ]
     },
     "execution_count": 235,
     "metadata": {},
     "output_type": "execute_result"
    }
   ],
   "source": [
    "sim.write_simulation()\n",
    "sim.run_simulation()"
   ]
  },
  {
   "cell_type": "code",
   "execution_count": 236,
   "metadata": {},
   "outputs": [],
   "source": [
    "# retrieve heads and spdis \n",
    "head = get_heads(model_name,model_dir)\n",
    "spdis = get_spdis(model_name,model_dir)"
   ]
  },
  {
   "cell_type": "code",
   "execution_count": 237,
   "metadata": {},
   "outputs": [
    {
     "data": {
      "image/png": "[encoded data removed]",
      "text/plain": [
       "<Figure size 1080x1080 with 3 Axes>"
      ]
     },
     "metadata": {
      "needs_background": "light"
     },
     "output_type": "display_data"
    }
   ],
   "source": [
    "# make a plot\n",
    "fig = plt.figure(figsize=(15,15))\n",
    "ax  = plt.subplot(1, 1, 1, aspect='equal')\n",
    "ml = fp.plot.PlotMapView(model=gwf)\n",
    "\n",
    "#hmesh=ml.plot_ibound()\n",
    "hmesh=ml.plot_array(head,masked_values=[1e30],cmap=\"viridis\")\n",
    "cont=ml.contour_array(head,masked_values=[1e30],levels=np.linspace(0,170,18),cmap=\"jet\")\n",
    "#ml.plot_specific_discharge(spdis[0],color=\"w\",width=0.0050)\n",
    "\n",
    "ml.plot_bc(\"sea\",color=\"b\")\n",
    "ml.plot_bc(\"eta\",color=\"b\",alpha=0.5)\n",
    "ml.plot_bc(\"Tet\",color=\"b\")\n",
    "ml.plot_bc(\"agy\",color=\"b\")\n",
    "ml.plot_bc(\"tech\",color=\"b\")\n",
    "\n",
    "ax.tick_params(labelsize=15)\n",
    "\n",
    "h = plt.colorbar(cont)\n",
    "g = plt.colorbar(hmesh)\n",
    "g.set_label(\"Head [m]\",fontsize=15)\n",
    "g.ax.tick_params(labelsize=15)\n",
    "plt.grid()"
   ]
  },
  {
   "cell_type": "code",
   "execution_count": 238,
   "metadata": {},
   "outputs": [
    {
     "data": {
      "image/png": "[encoded data removed]",
      "text/plain": [
       "<Figure size 432x288 with 1 Axes>"
      ]
     },
     "metadata": {
      "needs_background": "light"
     },
     "output_type": "display_data"
    }
   ],
   "source": [
    "a=plt.imshow(top-head[0])\n",
    "a.set_clim(0,1)"
   ]
  },
  {
   "cell_type": "code",
   "execution_count": 239,
   "metadata": {},
   "outputs": [
    {
     "data": {
      "image/png": "[encoded data removed]",
      "text/plain": [
       "<Figure size 1440x1080 with 1 Axes>"
      ]
     },
     "metadata": {
      "needs_background": "light"
     },
     "output_type": "display_data"
    }
   ],
   "source": [
    "fig = plt.figure(figsize=(20, 15))\n",
    "ax = fig.add_subplot(2, 1, 1)\n",
    "\n",
    "xsect = fp.plot.PlotCrossSection(model=gwf, line={'row': 52})\n",
    "patches = xsect.plot_ibound()\n",
    "patches = xsect.plot_bc(\"sea\",color=\"b\")\n",
    "csa = xsect.plot_array(head, masked_values=[1e30], head=head, alpha=0.5)\n",
    "linecollection = xsect.plot_grid()"
   ]
  },
  {
   "cell_type": "code",
   "execution_count": null,
   "metadata": {},
   "outputs": [],
   "source": []
  }
 ],
 "metadata": {
  "kernelspec": {
   "display_name": "Python 3",
   "language": "python",
   "name": "python3"
  },
  "language_info": {
   "codemirror_mode": {
    "name": "ipython",
    "version": 3
   },
   "file_extension": ".py",
   "mimetype": "text/x-python",
   "name": "python",
   "nbconvert_exporter": "python",
   "pygments_lexer": "ipython3",
   "version": "3.7.4"
  }
 },
 "nbformat": 4,
 "nbformat_minor": 2
}
