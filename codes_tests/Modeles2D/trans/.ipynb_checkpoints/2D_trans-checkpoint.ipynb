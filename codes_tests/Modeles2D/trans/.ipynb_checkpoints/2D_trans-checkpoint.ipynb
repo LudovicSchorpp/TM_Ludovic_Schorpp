{
 "cells": [
  {
   "cell_type": "code",
   "execution_count": 1,
   "metadata": {},
   "outputs": [
    {
     "name": "stdout",
     "output_type": "stream",
     "text": [
      "flopy is installed in C:\\Users\\emmal\\Anaconda3\\lib\\site-packages\\flopy\n"
     ]
    }
   ],
   "source": [
    "import flopy as fp\n",
    "import numpy as np\n",
    "import geopandas as gp\n",
    "import pandas as pd\n",
    "import os\n",
    "from osgeo import ogr\n",
    "from osgeo import gdal\n",
    "from osgeo import gdal_array\n",
    "from osgeo import osr\n",
    "import matplotlib.pyplot as plt\n",
    "from flopy.utils.gridgen import Gridgen \n",
    "from flopy.utils.gridintersect import GridIntersect\n",
    "from flopy.utils import Raster\n",
    "import shapely\n",
    "from shapely.geometry import Polygon, Point, LineString, MultiLineString, MultiPoint, MultiPolygon,shape\n",
    "from shapely.strtree import STRtree  \n",
    "import glob\n",
    "import sys\n",
    "\n",
    "sys.path.append(\"../../modules\")\n",
    "# hand made functions\n",
    "from Rouss1 import *\n",
    "from Rouss2 import *"
   ]
  },
  {
   "cell_type": "code",
   "execution_count": 2,
   "metadata": {},
   "outputs": [],
   "source": [
    "model_dir = \"workspace\"\n",
    "model_name = \"2D_trans\"\n",
    "exe_name=\"../../exe/mf6\""
   ]
  },
  {
   "cell_type": "code",
   "execution_count": 3,
   "metadata": {},
   "outputs": [],
   "source": [
    "R_path=\"../../data/shp/limiteModeleRoussillon_poly.shp\" # path to the shp of the aquifer\n",
    "MNT_path= \"../../data/MNT/MNT_50.tif\"\n",
    "MNT20_path = \"../../data/MNT/MNT_20.tif\"\n",
    "Agly_path= \"../../data/Fleuves/Agly_ludo.shp\" # path to Agly\n",
    "Tet_path= \"../../data/Fleuves/Tet_ludo.shp\"\n",
    "Rea_path = \"../../data/Fleuves/Reart_ludo.shp\"\n",
    "Tech_path = \"../../data/Fleuves/Tech_ludo.shp\"\n",
    "Bol_path = \"../../data/Fleuves/Boules_ludo.shp\"\n",
    "Cant_path = \"../../data/Fleuves/Cant_ludo.shp\""
   ]
  },
  {
   "cell_type": "code",
   "execution_count": 8,
   "metadata": {},
   "outputs": [],
   "source": [
    "#spatial parameters\n",
    "\n",
    "# get x0,y0,y1 and x1 from the DEM\n",
    "x0,y0,x1,y1 = get_MNTbbox(MNT_path)\n",
    "x1 += 1000\n",
    "\n",
    "Lx = x1-x0\n",
    "Ly = y1-y0\n",
    "nlay = 1\n",
    "res = 300\n",
    "ncol = int(Lx/res)\n",
    "nrow = int(Ly/res)\n",
    "delr = np.ones(ncol)*res\n",
    "delc = np.ones(nrow)*res\n",
    "\n",
    "idomain = np.zeros((nrow*ncol))"
   ]
  },
  {
   "cell_type": "code",
   "execution_count": 12,
   "metadata": {},
   "outputs": [],
   "source": [
    "MNT = Raster.load(MNT_path)\n",
    "\n",
    "grid = fp.discretization.StructuredGrid(delc,delr,xoff=x0,yoff=y0) # create a grid identical to the dis package, will be used\n",
    "                                                                 # to pre-process data\n",
    "\n",
    "top = MNT.resample_to_grid(grid.xcellcenters,\n",
    "                                grid.ycellcenters,\n",
    "                                band = MNT.bands[0],\n",
    "                                method=\"nearest\")"
   ]
  },
  {
   "cell_type": "code",
   "execution_count": 13,
   "metadata": {},
   "outputs": [],
   "source": [
    "# load botom based on the differents surfaces\n",
    "folder_path = \"../../data/txt_couches_nouv\"\n",
    "surfaces = []\n",
    "for file in glob.glob(os.path.join(folder_path, '*.txt')):\n",
    "    Rast = Raster.load(file)\n",
    "    surfaces.append(Rast.resample_to_grid(grid.xcellcenters,\n",
    "                                grid.ycellcenters,\n",
    "                                band = Rast.bands[0],\n",
    "                                method=\"nearest\"))\n",
    "Q = surfaces[1]\n",
    "PC = surfaces[2]\n",
    "PMS = surfaces[3]\n",
    "BOT = PMS.copy()\n",
    "BOT[PMS==-9999] = PC[PMS==-9999]\n",
    "BOT[PC==-9999] = Q[PC==-9999]\n",
    "BOT[BOT==-9999] = top[BOT==-9999] - 50\n",
    "\n",
    "BOT[(top-BOT)<=10] = top[(top-BOT)<=10] - 10 # minimum of 10 m thickness to avoid bug and numerical issues"
   ]
  },
  {
   "cell_type": "code",
   "execution_count": 15,
   "metadata": {},
   "outputs": [],
   "source": [
    "# Define the domain\n",
    "R = gp.read_file(R_path) # import shapefile with geopandas\n",
    "\n",
    "# cells inside the aquifer become active and return the lst of the cellids\n",
    "lst_domain = gp2idomain(R,grid,idomain,area=0) # all the cells of the model"
   ]
  },
  {
   "cell_type": "code",
   "execution_count": 77,
   "metadata": {},
   "outputs": [],
   "source": [
    "# recharge areas\n",
    "path = \"../../data/recharge/rast_peff2.tif\"\n",
    "rcha = import_rch(path,grid)"
   ]
  },
  {
   "cell_type": "code",
   "execution_count": 126,
   "metadata": {},
   "outputs": [],
   "source": [
    "# coeff rch months\n",
    "# coeff based on Perpignan's Precipitations \n",
    "P = np.array([50,45,43.5,56,50,28.3,17.1,32,47.3,90,59,54.4]) # P by month\n",
    "coeff = 12*P/P.sum()\n",
    "\n",
    "# Transient recharge\n",
    "fac = 1/(1000*365*86400) # transfo from mm/y to m/s\n",
    "dic_rch = {}\n",
    "dic_rch[0] = rcha*fac\n",
    "icoff = 0\n",
    "for iper in  range(nper-1):\n",
    "    if iper > 12:\n",
    "        icoff = 0\n",
    "    dic_rch[iper+1] = rcha*coeff[icoff]*fac"
   ]
  },
  {
   "cell_type": "code",
   "execution_count": 96,
   "metadata": {},
   "outputs": [],
   "source": [
    "# BC sea\n",
    "# import the shapefile that correspond to the BC\n",
    "BCsea_path = \"../../data/shp/Sea_BC_L93.shp\"\n",
    "BC_sea = gp.read_file(BCsea_path)\n",
    "\n",
    "# extract cellids from the BC at the sea and make these cells active\n",
    "lst_chd = gp2cellids(grid,BC_sea,idomain,type=\"line\")\n",
    "\n",
    "# attribute a constant head at all the cells in the lst_chd\n",
    "CHD = 0; chd_lst=[];\n",
    "for x in lst_chd:\n",
    "    chd_lst.append((x,CHD))"
   ]
  },
  {
   "cell_type": "code",
   "execution_count": 97,
   "metadata": {},
   "outputs": [],
   "source": [
    "# BC etangs\n",
    "BCetangs_path = \"../../data/shp/Surface_hydro/SURFACE_HYDROGRAPHIQUE.SHP\"\n",
    "Bcet = gp.read_file(BCetangs_path)\n",
    "etangs = Bcet[(Bcet[\"TOPONYME\"]==\"étang de canet\") | (Bcet[\"TOPONYME\"]==\"étang de leucate\")]\n",
    "\n",
    "# extract cellids from the BC \n",
    "etangs_chd = gp2cellids(grid,etangs.dissolve(by=\"NATURE\"),idomain)\n",
    "\n",
    "# attribute a constant head\n",
    "CHD = 0; et_chd_lst=[];\n",
    "for x in etangs_chd:\n",
    "    et_chd_lst.append((x,CHD))\n",
    "    lst_chd.append(x)"
   ]
  },
  {
   "cell_type": "code",
   "execution_count": 98,
   "metadata": {},
   "outputs": [
    {
     "name": "stderr",
     "output_type": "stream",
     "text": [
      "C:\\Users\\emmal\\Anaconda3\\lib\\site-packages\\pandas\\core\\frame.py:7123: FutureWarning: Sorting because non-concatenation axis is not aligned. A future version\n",
      "of pandas will change to not sort by default.\n",
      "\n",
      "To accept the future behavior, pass 'sort=False'.\n",
      "\n",
      "To retain the current behavior and silence the warning, pass 'sort=True'.\n",
      "\n",
      "  sort=sort,\n"
     ]
    }
   ],
   "source": [
    "# BC rivers\n",
    "Agy_chd = Complete_riv(Agly_path,\"../../data/Fleuves/stations_agly.csv\",us=28,ds=0.1,lst_chd=lst_chd,\n",
    "                       lst_domain=lst_domain,grid=grid)\n",
    "Tet_chd = Complete_riv(Tet_path,\"../../data/Fleuves/stations_tet2.csv\",us=180,ds=0.1,lst_chd=lst_chd,\n",
    "                       lst_domain=lst_domain,grid=grid)\n",
    "Bol_chd = Complete_riv(Bol_path,\"../../data/Fleuves/stations_bol.csv\",us=180,ds=0.1,lst_chd=lst_chd,\n",
    "                       lst_domain=lst_domain,grid=grid)\n",
    "Rea_chd = Complete_riv(Rea_path,\"../../data/Fleuves/stations_reart.csv\",us=130,ds=0,lst_chd=lst_chd,\n",
    "                       lst_domain=lst_domain,grid=grid)\n",
    "Cant_chd = Complete_riv(Cant_path,\"../../data/Fleuves/stations_cant.csv\",us=135,ds=0.1,lst_chd=lst_chd,\n",
    "                       lst_domain=lst_domain,grid=grid)\n",
    "Tech_chd = Complete_riv(Tech_path,\"../../data/Fleuves/stations_tech.csv\",us=170,ds=0.1,lst_chd=lst_chd,\n",
    "                       lst_domain=lst_domain,grid=grid)"
   ]
  },
  {
   "cell_type": "code",
   "execution_count": 23,
   "metadata": {},
   "outputs": [],
   "source": [
    "# permeability\n",
    "\n",
    "# initialize arrays that will define the position of the formations\n",
    "idomainQ_rec = np.zeros([nrow*ncol])\n",
    "idomainQ_a = np.zeros([nrow*ncol])\n",
    "idomainPlio = np.zeros([nrow*ncol])\n",
    "\n",
    "pathQr = \"../../data/shp/entités/Alluv_rec.shp\" # shapefile of the Quaternary formations\n",
    "pathQa = \"../../data/shp/entités/Alluv_anc.shp\" #...\n",
    "pathP = \"../../data/shp/entités/Pliocene.shp\"\n",
    "lstIDQ_rec = gp2idomain(gp.read_file(pathQr),grid,idomainQ_rec,area=10) #create the domains of each shp\n",
    "lstIDQ_anc = gp2idomain(gp.read_file(pathQa),grid,idomainQ_a,area=10) \n",
    "lstIDQPlio = gp2idomain(gp.read_file(pathP),grid,idomainPlio,area=10)"
   ]
  },
  {
   "cell_type": "code",
   "execution_count": 24,
   "metadata": {},
   "outputs": [],
   "source": [
    "# define k, different for each lithology\n",
    "kh = 1e-4 # general k\n",
    "kQr = 4e-5 # k for recent Quaternary\n",
    "kQa = 2.6e-5 # k for ancient Quaternary\n",
    "kp = 1e-5 # k for pliocene\n",
    "\n",
    "k = np.ones([nrow*ncol])*kh # vector containing the permeability array(layer,nrow,ncol)\n",
    "k[idomainPlio==1] = kp\n",
    "k[idomainQ_rec==1] = kQr\n",
    "k[idomainQ_a==1] = kQa"
   ]
  },
  {
   "cell_type": "code",
   "execution_count": 132,
   "metadata": {},
   "outputs": [],
   "source": [
    "# basic modules\n",
    "\n",
    "sim = fp.mf6.MFSimulation(sim_name='first2D_mf6', version='mf6', exe_name=exe_name, \n",
    "                         sim_ws=model_dir)\n",
    "gwf = fp.mf6.ModflowGwf(sim, modelname=model_name,\n",
    "                           model_nam_file='{}.nam'.format(model_name))\n",
    "dis = fp.mf6.ModflowGwfdis(gwf, nlay=nlay, nrow=nrow, ncol=ncol,\n",
    "                              delr=delr, delc=delc,\n",
    "                              top=top, botm=BOT,xorigin=x0,yorigin=y0,idomain=idomain)\n",
    "\n",
    "### tdis\n",
    "perioddata=[[1.0,1,1.]]\n",
    "nper = 2\n",
    "perlen = 86400*30\n",
    "nstep = 30\n",
    "for i in range(nper-1):\n",
    "    perioddata.append([perlen,nstep,1])\n",
    "\n",
    "tdis = fp.mf6.ModflowTdis(sim, time_units='SECONDS',perioddata=perioddata,nper=nper)\n",
    "###\n",
    "\n",
    "#solver\n",
    "ims  = fp.mf6.ModflowIms(sim, print_option='SUMMARY', complexity='moderate')\n",
    "\n",
    "# initial conditions\n",
    "ic   = fp.mf6.ModflowGwfic(gwf,strt=BOT+1)\n",
    "\n",
    "# output control\n",
    "oc   = fp.mf6.ModflowGwfoc(gwf,budget_filerecord='{}.cbc'.format(model_name),\n",
    "                            head_filerecord='{}.hds'.format(model_name),\n",
    "                            saverecord=[('HEAD', 'ALL'),\n",
    "                                        ('BUDGET', 'ALL')],\n",
    "                            printrecord=[('HEAD', 'LAST'),\n",
    "                                         ('BUDGET', 'ALL')])\n",
    "\n",
    "# nodeflowproperty\n",
    "npf  = fp.mf6.ModflowGwfnpf(gwf, icelltype=0, k=k, save_flows=True,save_specific_discharge=True)\n",
    "\n",
    "\n",
    "# storage package\n",
    "sy = 0.2\n",
    "ss = 0.001\n",
    "sto = fp.mf6.ModflowGwfsto(gwf, pname='sto', save_flows=True, iconvert=1, \n",
    "                              ss=ss, sy=sy, steady_state={0:True},\n",
    "                              transient={1:True}) \n",
    "\n",
    "# recharge\n",
    "rch  = fp.mf6.ModflowGwfrcha(gwf, recharge = dic_rch)\n",
    "   \n",
    "# constant heads packages\n",
    "chd = fp.mf6.modflow.mfgwfchd.ModflowGwfchd(gwf, pname='sea', filename=\"sea.chd\", maxbound=len(chd_lst), \n",
    "                                               stress_period_data={0: chd_lst}, save_flows=True)\n",
    "\n",
    "etangs = fp.mf6.modflow.mfgwfchd.ModflowGwfchd(gwf, pname='eta', filename=\"eta.chd\", maxbound=len(et_chd_lst), \n",
    "                                               stress_period_data={0: et_chd_lst}, save_flows=True)\n",
    "\n",
    "Riv1 = fp.mf6.modflow.mfgwfchd.ModflowGwfchd(gwf, pname='agy', filename=\"agy.chd\", maxbound=len(Agy_chd), \n",
    "                                              stress_period_data={0: Agy_chd}, save_flows=True)\n",
    "\n",
    "Riv2 = fp.mf6.modflow.mfgwfchd.ModflowGwfchd(gwf, pname='Tet', filename=\"Tet.chd\", maxbound=len(Tet_chd), \n",
    "                                               stress_period_data={0: Tet_chd}, save_flows=True)\n",
    "\n",
    "Riv3 = fp.mf6.modflow.mfgwfchd.ModflowGwfchd(gwf, pname='Rea', filename=\"Rea.chd\", maxbound=len(Rea_chd), \n",
    "                                               stress_period_data={0: Rea_chd}, save_flows=True)\n",
    "\n",
    "Riv6 = fp.mf6.modflow.mfgwfchd.ModflowGwfchd(gwf, pname='Cant', filename=\"Cant.chd\", maxbound=len(Cant_chd), \n",
    "                                               stress_period_data={0: Cant_chd}, save_flows=True)\n",
    "\n",
    "Riv4 = fp.mf6.modflow.mfgwfchd.ModflowGwfchd(gwf, pname='Tech', filename=\"Tech.chd\", maxbound=len(Tech_chd), \n",
    "                                               stress_period_data={0: Tech_chd}, save_flows=True)\n",
    "\n",
    "Riv5 = fp.mf6.modflow.mfgwfchd.ModflowGwfchd(gwf, pname='Bol', filename=\"Bol.chd\", maxbound=len(Bol_chd), \n",
    "                                               stress_period_data={0: Bol_chd}, save_flows=True)"
   ]
  },
  {
   "cell_type": "code",
   "execution_count": 133,
   "metadata": {},
   "outputs": [
    {
     "name": "stdout",
     "output_type": "stream",
     "text": [
      "writing simulation...\n",
      "  writing simulation name file...\n",
      "  writing simulation tdis package...\n",
      "  writing ims package ims_-1...\n",
      "  writing model 2D_trans...\n",
      "    writing model name file...\n",
      "    writing package dis...\n",
      "    writing package ic...\n",
      "    writing package oc...\n",
      "    writing package npf...\n",
      "    writing package sto...\n",
      "    writing package rcha...\n",
      "    writing package sea...\n",
      "    writing package eta...\n",
      "    writing package agy...\n",
      "    writing package tet...\n",
      "    writing package rea...\n",
      "    writing package cant...\n",
      "    writing package tech...\n",
      "    writing package bol...\n",
      "FloPy is using the following  executable to run the model: ../../exe/mf6.exe\n",
      "                                   MODFLOW 6\n",
      "                U.S. GEOLOGICAL SURVEY MODULAR HYDROLOGIC MODEL\n",
      "                            VERSION 6.0.4 03/13/2019\n",
      "\n",
      "   MODFLOW 6 compiled Mar 21 2019 15:37:31 with IFORT compiler (ver. 19.0.0)\n",
      "\n",
      "This software has been approved for release by the U.S. Geological \n",
      "Survey (USGS). Although the software has been subjected to rigorous \n",
      "review, the USGS reserves the right to update the software as needed \n",
      "pursuant to further analysis and review. No warranty, expressed or \n",
      "implied, is made by the USGS or the U.S. Government as to the \n",
      "functionality of the software and related material nor shall the \n",
      "fact of release constitute any such warranty. Furthermore, the \n",
      "software is released on condition that neither the USGS nor the U.S. \n",
      "Government shall be held liable for any damages resulting from its \n",
      "authorized or unauthorized use. Also refer to the USGS Water \n",
      "Resources Software User Rights Notice for complete use, copyright, \n",
      "and distribution information.\n",
      "\n",
      " Run start date and time (yyyy/mm/dd hh:mm:ss): 2020/04/21 15:03:00\n",
      "\n",
      " Writing simulation list file: mfsim.lst\n",
      " Using Simulation name file: mfsim.nam\n",
      " Solving:  Stress period:     1    Time step:     1\n",
      " Solving:  Stress period:     2    Time step:     1\n",
      " Solving:  Stress period:     2    Time step:     2\n",
      " Solving:  Stress period:     2    Time step:     3\n",
      " Solving:  Stress period:     2    Time step:     4\n",
      " Solving:  Stress period:     2    Time step:     5\n",
      " Solving:  Stress period:     2    Time step:     6\n",
      " Solving:  Stress period:     2    Time step:     7\n",
      " Solving:  Stress period:     2    Time step:     8\n",
      " Solving:  Stress period:     2    Time step:     9\n",
      " Solving:  Stress period:     2    Time step:    10\n",
      " Solving:  Stress period:     2    Time step:    11\n",
      " Solving:  Stress period:     2    Time step:    12\n",
      " Solving:  Stress period:     2    Time step:    13\n",
      " Solving:  Stress period:     2    Time step:    14\n",
      " Solving:  Stress period:     2    Time step:    15\n",
      " Solving:  Stress period:     2    Time step:    16\n",
      " Solving:  Stress period:     2    Time step:    17\n",
      " Solving:  Stress period:     2    Time step:    18\n",
      " Solving:  Stress period:     2    Time step:    19\n",
      " Solving:  Stress period:     2    Time step:    20\n",
      " Solving:  Stress period:     2    Time step:    21\n",
      " Solving:  Stress period:     2    Time step:    22\n",
      " Solving:  Stress period:     2    Time step:    23\n",
      " Solving:  Stress period:     2    Time step:    24\n",
      " Solving:  Stress period:     2    Time step:    25\n",
      " Solving:  Stress period:     2    Time step:    26\n",
      " Solving:  Stress period:     2    Time step:    27\n",
      " Solving:  Stress period:     2    Time step:    28\n",
      " Solving:  Stress period:     2    Time step:    29\n",
      " Solving:  Stress period:     2    Time step:    30\n",
      " Run end date and time (yyyy/mm/dd hh:mm:ss): 2020/04/21 15:03:02\n",
      " Elapsed run time:  1.924 Seconds\n",
      "\n",
      " Normal termination of simulation.\n"
     ]
    },
    {
     "data": {
      "text/plain": [
       "(True, [])"
      ]
     },
     "execution_count": 133,
     "metadata": {},
     "output_type": "execute_result"
    }
   ],
   "source": [
    "sim.write_simulation()\n",
    "sim.run_simulation()"
   ]
  },
  {
   "cell_type": "code",
   "execution_count": 134,
   "metadata": {},
   "outputs": [],
   "source": [
    "hds = get_heads(model_name,model_dir,obj=True)"
   ]
  },
  {
   "cell_type": "code",
   "execution_count": 135,
   "metadata": {},
   "outputs": [
    {
     "data": {
      "image/png": "[encoded data removed]",
      "text/plain": [
       "<Figure size 432x288 with 1 Axes>"
      ]
     },
     "metadata": {
      "needs_background": "light"
     },
     "output_type": "display_data"
    }
   ],
   "source": [
    "i=0\n",
    "for it in hds.get_kstpkper():\n",
    "    head2 = hds.get_data(kstpkper=it)\n",
    "    i+=1\n",
    "    plt.scatter(i,head2[0,70,100])"
   ]
  },
  {
   "cell_type": "code",
   "execution_count": null,
   "metadata": {},
   "outputs": [],
   "source": []
  }
 ],
 "metadata": {
  "kernelspec": {
   "display_name": "Python 3",
   "language": "python",
   "name": "python3"
  },
  "language_info": {
   "codemirror_mode": {
    "name": "ipython",
    "version": 3
   },
   "file_extension": ".py",
   "mimetype": "text/x-python",
   "name": "python",
   "nbconvert_exporter": "python",
   "pygments_lexer": "ipython3",
   "version": "3.7.4"
  }
 },
 "nbformat": 4,
 "nbformat_minor": 2
}
