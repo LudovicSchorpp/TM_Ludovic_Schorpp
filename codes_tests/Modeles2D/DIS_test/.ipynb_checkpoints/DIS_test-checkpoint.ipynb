{
 "cells": [
  {
   "cell_type": "code",
   "execution_count": 1,
   "metadata": {},
   "outputs": [
    {
     "name": "stdout",
     "output_type": "stream",
     "text": [
      "flopy is installed in C:\\Users\\emmal\\Anaconda3\\lib\\site-packages\\flopy\n"
     ]
    }
   ],
   "source": [
    "import flopy as fp\n",
    "import numpy as np\n",
    "import geopandas as gp\n",
    "import pandas as pd\n",
    "import matplotlib.pyplot as plt\n",
    "from flopy.utils.gridgen import Gridgen \n",
    "import shapely\n",
    "from flopy.utils.gridintersect import GridIntersect"
   ]
  },
  {
   "cell_type": "code",
   "execution_count": 2,
   "metadata": {},
   "outputs": [],
   "source": [
    "model_dir = \"workingDis\"\n",
    "model_name=\"dis_test\"\n",
    "exe_name=\"../../exe.mf6\""
   ]
  },
  {
   "cell_type": "code",
   "execution_count": 3,
   "metadata": {},
   "outputs": [],
   "source": [
    "def Imreduction (imar, nrow, ncol):\n",
    "    \n",
    "    \"\"\"\n",
    "    This function reduce the dimensionality of an image.\n",
    "    An array of the image must be provided by the user, same for the number of row and col of the new image\n",
    "    No data should be specified as \"None\" type\n",
    "    return a new array\n",
    "    \"\"\"\n",
    "    \n",
    "    #first define the ratio between the given and the desired resolution in x and y\n",
    "    facR=imar.shape[0]/nrow\n",
    "    facC=imar.shape[1]/ncol\n",
    "    \n",
    "    # go through the entire grid (nrow,ncol) and use the mean of all the values in the array image\n",
    "    # in a specific cell of the grid (i,o)\n",
    "    new_imar=[]\n",
    "    for i in range(nrow):\n",
    "        for o in range(ncol):\n",
    "            new_val=np.nanmean(imar[np.round(i*facR).astype(int):np.round(i*facR+facR).astype(int),\n",
    "                                    np.round(o*facC).astype(int):np.round(o*facC+facC).astype(int)])\n",
    "            new_imar.append(new_val)\n",
    "    \n",
    "    # create an array of the new image array\n",
    "    new_imar = np.array(new_imar)\n",
    "    return np.array(pd.DataFrame(new_imar.reshape(nrow,ncol)).fillna(0))"
   ]
  },
  {
   "cell_type": "code",
   "execution_count": 4,
   "metadata": {},
   "outputs": [],
   "source": [
    "def gp2idomain (gp,grid,idomain,area=3):\n",
    "    \n",
    "    '''\n",
    "    This function attribute active values to cells given a certain geopandas object and a grid (flopy.discretization) with idomain\n",
    "    the tolerance is a value that determine at which level a cell will be counted as intersected by the polygon \n",
    "    (3 for example mean that only cells that have 1/3 of their area intersected by the polygon will be accounted)\n",
    "    '''\n",
    "    \n",
    "    ix = GridIntersect(grid)\n",
    "    \n",
    "    if area == 0:\n",
    "        result = ix.intersect_polygon(gp.geometry[0])\n",
    "    \n",
    "    if area >= 1:\n",
    "        result = ix.intersect_polygon(gp.geometry[0])\n",
    "        result = result[result.areas>(np.max(result.areas)/area)]\n",
    "    \n",
    "        \n",
    "    \n",
    "    for irow, icol in result.cellids:\n",
    "        idomain[irow*nrow+icol]=1\n",
    "        \n",
    "    return idomain"
   ]
  },
  {
   "cell_type": "code",
   "execution_count": 5,
   "metadata": {},
   "outputs": [],
   "source": [
    "def gp2cellids (grid, gp, type = \"polygon\",layer=0):\n",
    "    \"\"\"\n",
    "    this function extract the cellids of the intersection between a geopandas object and a grid \n",
    "    \"\"\"\n",
    "    \n",
    "    ix = GridIntersect(grid)\n",
    "    if type == \"polygon\":\n",
    "        result = ix.intersect_polygon(gp.geometry[0])\n",
    "        result = result[result.areas>(np.max(result.areas)/3)] # only take into account cells that have a least 1/3 intersected by the polygon\n",
    "        \n",
    "    if type == \"line\" :\n",
    "        result = ix.intersect_linestring(gp.geometry[0].boundary)\n",
    "\n",
    "    lst=[];\n",
    "    for irow, icol in result.cellids:\n",
    "        lst.append(((layer,irow,icol)))\n",
    "    return lst"
   ]
  },
  {
   "cell_type": "code",
   "execution_count": 37,
   "metadata": {},
   "outputs": [],
   "source": [
    "def cellidBD(lst_in, layer=0):   \n",
    "    \"\"\"\n",
    "    extract the cellids at the boundary of the domain at a given layer\n",
    "    \"\"\"\n",
    "    lst_bc=[]\n",
    "    lst_in2=np.array(lst_in)\n",
    "    for i in range(len(lst_in)):\n",
    "        xl=lst_in[i][1]\n",
    "        yl=lst_in[i][2]\n",
    "        rec = (xl,yl)\n",
    "        recx1 = (layer,xl+1,yl)\n",
    "        recx_1= (layer,xl-1,yl)\n",
    "        recy1 = (layer,xl,yl+1)\n",
    "        recy_1= (layer,xl,yl-1)\n",
    "        voisins = [recx1,recx_1,recy1,recy_1];\n",
    "        for k in voisins:\n",
    "            mask = (lst_in2==k)[:,1]*(lst_in2==k)[:,2]\n",
    "            if lst_in2[mask].size == 0:\n",
    "                lst_bc.append(rec)\n",
    "                break # if it finds a neighbour that is not in the list --> stores it and break !\n",
    "                \n",
    "    lst_bc2 = np.array(lst_bc)\n",
    "    lst_bc=[]\n",
    "    for x,y in lst_bc2:\n",
    "        a = (layer,x,y) # (layer,row,col)\n",
    "        lst_bc.append(a)\n",
    "    return lst_bc"
   ]
  },
  {
   "cell_type": "code",
   "execution_count": 7,
   "metadata": {},
   "outputs": [],
   "source": [
    "#spatial parameters\n",
    "\n",
    "x0 = 660000 # left min\n",
    "x1 = 705000 # right max\n",
    "Lx = x1-x0\n",
    "y0 = 6150000 # bottom min\n",
    "y1 = 6205000 # top max\n",
    "Ly = y1-y0\n",
    "nlay = 1\n",
    "ncol = 50\n",
    "nrow = 50\n",
    "delr = np.ones(ncol)*(Lx/ncol)\n",
    "delc = np.ones(nrow)*(Ly/nrow)\n",
    "botm = -50\n",
    "top=10.\n",
    "idomain = np.zeros((nrow*ncol))\n",
    "\n",
    "R_path=\"../data/limiteModeleRoussillon_poly.shp\" # path to the shp of the aquifer"
   ]
  },
  {
   "cell_type": "code",
   "execution_count": null,
   "metadata": {
    "scrolled": false
   },
   "outputs": [],
   "source": [
    "# import a mnt and extract topography data\n",
    "\n",
    "from PIL import Image\n",
    "im = Image.open(\"../../../../../TRAVAIL DE MASTER/data/MNT_demo_5m.tif\") # add path to MNT.tif\n",
    "imar = np.array(im) # create an array\n",
    "imar[imar==0]=None # None where it's nodata\n",
    "\n",
    "top = Imreduction(imar,nrow,ncol)"
   ]
  },
  {
   "cell_type": "code",
   "execution_count": 8,
   "metadata": {},
   "outputs": [],
   "source": [
    "R = gp.read_file(R_path) # import shapefile with geopandas\n",
    "grid = fp.discretization.StructuredGrid(delc,delr,xoff=x0,yoff=y0)\n",
    "\n",
    "#cells inside the aquifer become active\n",
    "idomain = gp2idomain(R,grid,idomain,area=3)"
   ]
  },
  {
   "cell_type": "code",
   "execution_count": 9,
   "metadata": {},
   "outputs": [],
   "source": [
    "# basic modules\n",
    "sim = fp.mf6.MFSimulation(sim_name='theis_mf6', version='mf6', exe_name=exe_name, \n",
    "                             sim_ws=model_dir)\n",
    "gwf = fp.mf6.ModflowGwf(sim, modelname=model_name,\n",
    "                           model_nam_file='{}.nam'.format(model_name))\n",
    "dis = fp.mf6.ModflowGwfdis(gwf, nlay=nlay, nrow=nrow, ncol=ncol,\n",
    "                              delr=delr, delc=delc,\n",
    "                              top=top, botm=botm,xorigin=x0,yorigin=y0,idomain=idomain)\n",
    "tdis = fp.mf6.ModflowTdis(sim, time_units='DAYS',perioddata=[[1.0, 1, 1.]])\n",
    "ims  = fp.mf6.ModflowIms(sim, print_option='SUMMARY', complexity='simple')"
   ]
  },
  {
   "cell_type": "code",
   "execution_count": 10,
   "metadata": {},
   "outputs": [],
   "source": [
    "# initial conditions\n",
    "ic   = fp.mf6.ModflowGwfic(gwf)"
   ]
  },
  {
   "cell_type": "code",
   "execution_count": 11,
   "metadata": {},
   "outputs": [],
   "source": [
    "# nodeflowproperty\n",
    "kh = 1e-4\n",
    "npf  = fp.mf6.ModflowGwfnpf(gwf, k=kh, save_flows=True)"
   ]
  },
  {
   "cell_type": "code",
   "execution_count": 40,
   "metadata": {},
   "outputs": [],
   "source": [
    "# let's have some BC !\n",
    "# first extract BC cellids\n",
    "lst_cellids = gp2cellids(grid,R,layer=0) # get cellids of every cells in the poly\n",
    "cellidsBD = cellidBD(lst_cellids,layer=0) # get only BC cellids\n",
    "\n",
    "# add zone of BC...\n",
    "\n"
   ]
  },
  {
   "cell_type": "code",
   "execution_count": 59,
   "metadata": {},
   "outputs": [
    {
     "data": {
      "text/plain": [
       "<matplotlib.collections.QuadMesh at 0x1ffb67e5588>"
      ]
     },
     "execution_count": 59,
     "metadata": {},
     "output_type": "execute_result"
    },
    {
     "data": {
      "image/png": "[encoded data removed]",
      "text/plain": [
       "<Figure size 576x576 with 1 Axes>"
      ]
     },
     "metadata": {
      "needs_background": "light"
     },
     "output_type": "display_data"
    }
   ],
   "source": [
    "fig = plt.figure(figsize=(8, 8))\n",
    "ax = fig.add_subplot(aspect='equal')\n",
    "\n",
    "mm = fp.plot.PlotMapView(model=gwf)\n",
    "mm.plot_grid()\n",
    "fp.plot.plot_shapefile(R_path,ax=ax,facecolor=\"Red\",alpha=0.6)\n",
    "mm.plot_array(dis.idomain.array,alpha=0.4)"
   ]
  },
  {
   "cell_type": "code",
   "execution_count": 63,
   "metadata": {},
   "outputs": [
    {
     "data": {
      "text/plain": [
       "[(0, 1, 46),\n",
       " (0, 1, 47),\n",
       " (0, 1, 48),\n",
       " (0, 2, 46),\n",
       " (0, 2, 49),\n",
       " (0, 3, 47),\n",
       " (0, 3, 49),\n",
       " (0, 4, 48),\n",
       " (0, 4, 49),\n",
       " (0, 5, 45),\n",
       " (0, 5, 46),\n",
       " (0, 5, 47),\n",
       " (0, 5, 48),\n",
       " (0, 6, 44),\n",
       " (0, 6, 48),\n",
       " (0, 7, 44),\n",
       " (0, 7, 48),\n",
       " (0, 8, 41),\n",
       " (0, 8, 42),\n",
       " (0, 8, 43),\n",
       " (0, 8, 48),\n",
       " (0, 9, 38),\n",
       " (0, 9, 39),\n",
       " (0, 9, 40),\n",
       " (0, 9, 48),\n",
       " (0, 10, 37),\n",
       " (0, 10, 48),\n",
       " (0, 11, 36),\n",
       " (0, 11, 47),\n",
       " (0, 12, 36),\n",
       " (0, 12, 47),\n",
       " (0, 13, 30),\n",
       " (0, 13, 31),\n",
       " (0, 13, 32),\n",
       " (0, 13, 33),\n",
       " (0, 13, 34),\n",
       " (0, 13, 35),\n",
       " (0, 13, 47),\n",
       " (0, 14, 30),\n",
       " (0, 14, 47),\n",
       " (0, 15, 30),\n",
       " (0, 15, 47),\n",
       " (0, 16, 29),\n",
       " (0, 16, 47),\n",
       " (0, 17, 28),\n",
       " (0, 17, 47),\n",
       " (0, 18, 27),\n",
       " (0, 18, 47),\n",
       " (0, 19, 24),\n",
       " (0, 19, 25),\n",
       " (0, 19, 26),\n",
       " (0, 19, 47),\n",
       " (0, 20, 25),\n",
       " (0, 20, 47),\n",
       " (0, 21, 24),\n",
       " (0, 21, 47),\n",
       " (0, 22, 20),\n",
       " (0, 22, 21),\n",
       " (0, 22, 22),\n",
       " (0, 22, 23),\n",
       " (0, 22, 47),\n",
       " (0, 23, 15),\n",
       " (0, 23, 16),\n",
       " (0, 23, 17),\n",
       " (0, 23, 18),\n",
       " (0, 23, 19),\n",
       " (0, 23, 47),\n",
       " (0, 24, 13),\n",
       " (0, 24, 14),\n",
       " (0, 24, 47),\n",
       " (0, 25, 11),\n",
       " (0, 25, 12),\n",
       " (0, 25, 47),\n",
       " (0, 26, 9),\n",
       " (0, 26, 10),\n",
       " (0, 26, 47),\n",
       " (0, 27, 8),\n",
       " (0, 27, 47),\n",
       " (0, 28, 6),\n",
       " (0, 28, 7),\n",
       " (0, 28, 9),\n",
       " (0, 28, 10),\n",
       " (0, 28, 12),\n",
       " (0, 28, 13),\n",
       " (0, 28, 14),\n",
       " (0, 28, 15),\n",
       " (0, 28, 16),\n",
       " (0, 28, 47),\n",
       " (0, 29, 5),\n",
       " (0, 29, 6),\n",
       " (0, 29, 7),\n",
       " (0, 29, 8),\n",
       " (0, 29, 11),\n",
       " (0, 29, 17),\n",
       " (0, 29, 47),\n",
       " (0, 30, 17),\n",
       " (0, 30, 18),\n",
       " (0, 30, 19),\n",
       " (0, 30, 47),\n",
       " (0, 31, 20),\n",
       " (0, 31, 47),\n",
       " (0, 32, 21),\n",
       " (0, 32, 47),\n",
       " (0, 33, 20),\n",
       " (0, 33, 47),\n",
       " (0, 34, 20),\n",
       " (0, 34, 48),\n",
       " (0, 35, 20),\n",
       " (0, 35, 48),\n",
       " (0, 36, 20),\n",
       " (0, 36, 48),\n",
       " (0, 37, 21),\n",
       " (0, 37, 48),\n",
       " (0, 38, 22),\n",
       " (0, 38, 48),\n",
       " (0, 39, 23),\n",
       " (0, 39, 48),\n",
       " (0, 40, 23),\n",
       " (0, 40, 31),\n",
       " (0, 40, 47),\n",
       " (0, 40, 48),\n",
       " (0, 41, 23),\n",
       " (0, 41, 29),\n",
       " (0, 41, 30),\n",
       " (0, 41, 32),\n",
       " (0, 41, 41),\n",
       " (0, 41, 42),\n",
       " (0, 41, 43),\n",
       " (0, 41, 44),\n",
       " (0, 41, 45),\n",
       " (0, 41, 46),\n",
       " (0, 41, 49),\n",
       " (0, 42, 22),\n",
       " (0, 42, 28),\n",
       " (0, 42, 33),\n",
       " (0, 42, 34),\n",
       " (0, 42, 35),\n",
       " (0, 42, 36),\n",
       " (0, 42, 37),\n",
       " (0, 42, 38),\n",
       " (0, 42, 39),\n",
       " (0, 42, 40),\n",
       " (0, 43, 21),\n",
       " (0, 43, 27),\n",
       " (0, 44, 20),\n",
       " (0, 44, 23),\n",
       " (0, 44, 27),\n",
       " (0, 45, 21),\n",
       " (0, 45, 22),\n",
       " (0, 45, 24),\n",
       " (0, 45, 26),\n",
       " (0, 46, 22),\n",
       " (0, 46, 24),\n",
       " (0, 46, 25)]"
      ]
     },
     "execution_count": 63,
     "metadata": {},
     "output_type": "execute_result"
    }
   ],
   "source": [
    "cellidsBD"
   ]
  },
  {
   "cell_type": "code",
   "execution_count": null,
   "metadata": {},
   "outputs": [],
   "source": []
  },
  {
   "cell_type": "code",
   "execution_count": null,
   "metadata": {},
   "outputs": [],
   "source": []
  }
 ],
 "metadata": {
  "kernelspec": {
   "display_name": "Python 3",
   "language": "python",
   "name": "python3"
  },
  "language_info": {
   "codemirror_mode": {
    "name": "ipython",
    "version": 3
   },
   "file_extension": ".py",
   "mimetype": "text/x-python",
   "name": "python",
   "nbconvert_exporter": "python",
   "pygments_lexer": "ipython3",
   "version": "3.7.4"
  }
 },
 "nbformat": 4,
 "nbformat_minor": 2
}
