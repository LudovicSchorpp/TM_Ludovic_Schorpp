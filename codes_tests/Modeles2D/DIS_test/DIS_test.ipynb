{
 "cells": [
  {
   "cell_type": "code",
   "execution_count": 136,
   "metadata": {},
   "outputs": [],
   "source": [
    "import flopy as fp\n",
    "import numpy as np\n",
    "import geopandas as gp\n",
    "import pandas as pd\n",
    "import os\n",
    "import matplotlib.pyplot as plt\n",
    "from flopy.utils.gridgen import Gridgen \n",
    "import shapely\n",
    "from flopy.utils.gridintersect import GridIntersect\n",
    "import shapely\n",
    "from shapely.geometry import Polygon, Point, LineString, MultiLineString, MultiPoint, MultiPolygon\n",
    "from shapely.strtree import STRtree  "
   ]
  },
  {
   "cell_type": "code",
   "execution_count": 137,
   "metadata": {},
   "outputs": [],
   "source": [
    "model_dir = \"workingDis\"\n",
    "model_name=\"dis_test\"\n",
    "exe_name=\"../../exe/mf6\""
   ]
  },
  {
   "cell_type": "code",
   "execution_count": 138,
   "metadata": {},
   "outputs": [],
   "source": [
    "def Imreduction (imar, nrow, ncol):\n",
    "    \n",
    "    \"\"\"\n",
    "    This function reduce the dimensionality of an image.\n",
    "    An array of the image must be provided by the user, same for the number of row and col of the new image\n",
    "    No data should be specified as \"None\" type\n",
    "    return a new array\n",
    "    \"\"\"\n",
    "    \n",
    "    #first define the ratio between the given and the desired resolution in x and y\n",
    "    facR=imar.shape[0]/nrow\n",
    "    facC=imar.shape[1]/ncol\n",
    "    \n",
    "    # go through the entire grid (nrow,ncol) and use the mean of all the values in the array image\n",
    "    # in a specific cell of the grid (i,o)\n",
    "    new_imar=[]\n",
    "    for i in range(nrow):\n",
    "        for o in range(ncol):\n",
    "            new_val=np.nanmean(imar[np.round(i*facR).astype(int):np.round(i*facR+facR).astype(int),\n",
    "                                    np.round(o*facC).astype(int):np.round(o*facC+facC).astype(int)])\n",
    "            new_imar.append(new_val)\n",
    "    \n",
    "    # create an array of the new image array\n",
    "    new_imar = np.array(new_imar)\n",
    "    return np.array(pd.DataFrame(new_imar.reshape(nrow,ncol)).fillna(0))"
   ]
  },
  {
   "cell_type": "code",
   "execution_count": 139,
   "metadata": {},
   "outputs": [],
   "source": [
    "def gp2idomain (gp,grid,idomain,area=3):\n",
    "    \n",
    "    '''\n",
    "    This function attribute active values to cells given a certain geopandas object and a grid (flopy.discretization) with idomain\n",
    "    the tolerance is a value that determine at which level a cell will be counted as intersected by the polygon \n",
    "    (3 for example mean that only cells that have 1/3 of their area intersected by the polygon will be accounted)\n",
    "    '''\n",
    "    \n",
    "    ix = GridIntersect(grid)\n",
    "    \n",
    "    if area == 0:\n",
    "        result = ix.intersect_polygon(gp.geometry[0])\n",
    "    \n",
    "    if area >= 1:\n",
    "        result = ix.intersect_polygon(gp.geometry[0])\n",
    "        result = result[result.areas>(np.max(result.areas)/area)]\n",
    "    \n",
    "    for irow, icol in result.cellids:\n",
    "        idomain[irow*nrow+icol]=1\n",
    "        \n",
    "    return idomain"
   ]
  },
  {
   "cell_type": "code",
   "execution_count": 140,
   "metadata": {},
   "outputs": [],
   "source": [
    "def gp2cellids (grid, gp, type = \"polygon\",layer=0):\n",
    "    \"\"\"\n",
    "    this function extract the cellids of the intersection between a geopandas object and a grid \n",
    "    \"\"\"\n",
    "    \n",
    "    ix = GridIntersect(grid)\n",
    "    if type == \"polygon\":\n",
    "        result = ix.intersect_polygon(gp.geometry[0])\n",
    "        #result = result[result.areas>(np.max(result.areas)/3)] # only take into account cells that have a least 1/3 intersected by the polygon\n",
    "        \n",
    "    if type == \"line\" :\n",
    "        result = ix.intersect_linestring(gp.geometry[0].boundary)\n",
    "\n",
    "    lst=[];\n",
    "    for irow, icol in result.cellids:\n",
    "        lst.append(((layer,irow,icol)))\n",
    "    return lst"
   ]
  },
  {
   "cell_type": "code",
   "execution_count": 141,
   "metadata": {},
   "outputs": [],
   "source": [
    "def cellidBD(lst_in, layer=0):   \n",
    "    \"\"\"\n",
    "    extract the cellids at the boundary of the domain at a given layer\n",
    "    \"\"\"\n",
    "    lst_bc=[]\n",
    "    lst_in2=np.array(lst_in)\n",
    "    for i in range(len(lst_in)):\n",
    "        xl=lst_in[i][1]\n",
    "        yl=lst_in[i][2]\n",
    "        rec = (xl,yl)\n",
    "        recx1 = (layer,xl+1,yl)\n",
    "        recx_1= (layer,xl-1,yl)\n",
    "        recy1 = (layer,xl,yl+1)\n",
    "        recy_1= (layer,xl,yl-1)\n",
    "        voisins = [recx1,recx_1,recy1,recy_1];\n",
    "        for k in voisins:\n",
    "            mask = (lst_in2==k)[:,1]*(lst_in2==k)[:,2]\n",
    "            if lst_in2[mask].size == 0:\n",
    "                lst_bc.append(rec)\n",
    "                break # if it finds a neighbour that is not in the list --> stores it and break !\n",
    "                \n",
    "    lst_bc2 = np.array(lst_bc)\n",
    "    lst_bc=[]\n",
    "    for x,y in lst_bc2:\n",
    "        a = (layer,x,y) # (layer,row,col)\n",
    "        lst_bc.append(a)\n",
    "    return lst_bc"
   ]
  },
  {
   "cell_type": "code",
   "execution_count": 142,
   "metadata": {},
   "outputs": [],
   "source": [
    "def get_heads(model_name,workspace):\n",
    "    \"\"\"\n",
    "    Function that return the heads from the headfile\n",
    "    \"\"\"\n",
    "    headfile = '{}.hds'.format(model_name)\n",
    "    fname = os.path.join(workspace,headfile)    \n",
    "    hdobj = fp.utils.HeadFile(fname, precision='double')  \n",
    "    head  = hdobj.get_data()\n",
    "    return head"
   ]
  },
  {
   "cell_type": "code",
   "execution_count": 143,
   "metadata": {},
   "outputs": [],
   "source": [
    "#spatial parameters\n",
    "\n",
    "x0 = 660000 # left min\n",
    "x1 = 705000 # right max\n",
    "Lx = x1-x0\n",
    "y0 = 6150000 # bottom min\n",
    "y1 = 6205000 # top max\n",
    "Ly = y1-y0\n",
    "nlay = 1\n",
    "ncol = 30\n",
    "nrow = 30\n",
    "delr = np.ones(ncol)*(Lx/ncol)\n",
    "delc = np.ones(nrow)*(Ly/nrow)\n",
    "botm = -100\n",
    "top = 10.\n",
    "idomain = np.zeros((nrow*ncol))\n",
    "\n",
    "R_path=\"../data/limiteModeleRoussillon_poly.shp\" # path to the shp of the aquifer"
   ]
  },
  {
   "cell_type": "code",
   "execution_count": 144,
   "metadata": {
    "scrolled": false
   },
   "outputs": [],
   "source": [
    "# import a mnt and extract topography data --> add it to top of the cells\n",
    "\n",
    "from PIL import Image\n",
    "im = Image.open(\"../../../../../TRAVAIL DE MASTER/data/MNT_demo_5m.tif\") # add path to MNT.tif\n",
    "imar = np.array(im) # create an array\n",
    "imar[imar==0]=None # None where it's nodata\n",
    "\n",
    "top = Imreduction(imar,nrow,ncol)"
   ]
  },
  {
   "cell_type": "code",
   "execution_count": 145,
   "metadata": {},
   "outputs": [],
   "source": [
    "R = gp.read_file(R_path) # import shapefile with geopandas\n",
    "grid = fp.discretization.StructuredGrid(delc,delr,xoff=x0,yoff=y0)\n",
    "\n",
    "#cells inside the aquifer become active\n",
    "idomain = gp2idomain(R,grid,idomain,area=0)"
   ]
  },
  {
   "cell_type": "code",
   "execution_count": 146,
   "metadata": {},
   "outputs": [],
   "source": [
    "# let's have some BC !\n",
    "# first extract BC cellids with these \"hand-made\" functions\n",
    "lst_cellids = gp2cellids(grid,R,layer=0) # get cellids of every cells in the poly\n",
    "cellidsBD = cellidBD(lst_cellids,layer=0) # get only BC cellids"
   ]
  },
  {
   "cell_type": "code",
   "execution_count": 147,
   "metadata": {},
   "outputs": [],
   "source": [
    "# import the shapefile that correspond to the BC\n",
    "BC_path = \"../data/Sea_BC_L93.shp\"\n",
    "BC_sea = gp.read_file(BC_path)"
   ]
  },
  {
   "cell_type": "code",
   "execution_count": 148,
   "metadata": {},
   "outputs": [],
   "source": [
    "# do the intersection btw the line (shp) of the BC and the grid and extract cellids\n",
    "ix = GridIntersect(grid)\n",
    "result = ix.intersect_linestring(BC_sea.geometry[0])\n",
    "lst_chd=[];layer=0;\n",
    "for irow,icol in result.cellids:\n",
    "    lst_chd.append(((layer,irow,icol)))  "
   ]
  },
  {
   "cell_type": "code",
   "execution_count": 149,
   "metadata": {},
   "outputs": [],
   "source": [
    "lst_chd = list(set(lst_chd) & set(cellidsBD))\n",
    "CHD =0; chd_lst=[];\n",
    "for x in lst_chd:\n",
    "    chd_lst.append((x,CHD))"
   ]
  },
  {
   "cell_type": "code",
   "execution_count": 150,
   "metadata": {},
   "outputs": [],
   "source": [
    "# basic modules\n",
    "sim = fp.mf6.MFSimulation(sim_name='theis_mf6', version='mf6', exe_name=exe_name, \n",
    "                             sim_ws=model_dir)\n",
    "gwf = fp.mf6.ModflowGwf(sim, modelname=model_name,\n",
    "                           model_nam_file='{}.nam'.format(model_name))\n",
    "dis = fp.mf6.ModflowGwfdis(gwf, nlay=nlay, nrow=nrow, ncol=ncol,\n",
    "                              delr=delr, delc=delc,\n",
    "                              top=top, botm=botm,xorigin=x0,yorigin=y0,idomain=idomain)\n",
    "tdis = fp.mf6.ModflowTdis(sim, time_units='DAYS',perioddata=[[1.0, 1, 1.]])\n",
    "ims  = fp.mf6.ModflowIms(sim, print_option='SUMMARY', complexity='simple')\n",
    "\n",
    "# initial conditions\n",
    "ic   = fp.mf6.ModflowGwfic(gwf)\n",
    "\n",
    "# nodeflowproperty\n",
    "kh = 1e-4\n",
    "npf  = fp.mf6.ModflowGwfnpf(gwf, k=kh, save_flows=True)\n",
    "\n",
    "#recharge\n",
    "mm = 100\n",
    "rch  = fp.mf6.ModflowGwfrcha(gwf, recharge = mm/1000/365/86400)\n",
    "\n",
    "# output control\n",
    "headfile = '{}.hds'.format(model_name)\n",
    "oc   = fp.mf6.ModflowGwfoc(gwf,budget_filerecord='{}.cbc'.format(model_name),\n",
    "                            head_filerecord='{}.hds'.format(model_name),\n",
    "                            saverecord=[('HEAD', 'LAST'),\n",
    "                                        ('BUDGET', 'LAST')],\n",
    "                            printrecord=[('HEAD', 'LAST'),\n",
    "                                         ('BUDGET', 'LAST')])"
   ]
  },
  {
   "cell_type": "code",
   "execution_count": 151,
   "metadata": {
    "scrolled": false
   },
   "outputs": [],
   "source": [
    "# constant heads package\n",
    "chd = fp.mf6.modflow.mfgwfchd.ModflowGwfchd(gwf, pname='chd', maxbound=len(chd_lst), \n",
    "                                               stress_period_data=chd_lst, save_flows=True)"
   ]
  },
  {
   "cell_type": "code",
   "execution_count": 152,
   "metadata": {},
   "outputs": [
    {
     "data": {
      "text/plain": [
       "Text(0.5, 1.0, 'Layer 1: Constant Head Cells')"
      ]
     },
     "execution_count": 152,
     "metadata": {},
     "output_type": "execute_result"
    },
    {
     "data": {
      "image/png": "[encoded data removed]",
      "text/plain": [
       "<Figure size 432x288 with 1 Axes>"
      ]
     },
     "metadata": {
      "needs_background": "light"
     },
     "output_type": "display_data"
    }
   ],
   "source": [
    "# vizualize the BC cells\n",
    "iper = 0\n",
    "ra = chd.stress_period_data.get_data(key=iper)\n",
    "\n",
    "ibd = np.ones((nlay, nrow, ncol), dtype=np.int)\n",
    "for k, i, j in ra['cellid']:\n",
    "    ibd[k, i, j] = -1\n",
    "\n",
    "ilay = 0\n",
    "plt.imshow(ibd[ilay, :, :], interpolation='none')\n",
    "plt.title('Layer {}: Constant Head Cells'.format(ilay + 1))"
   ]
  },
  {
   "cell_type": "code",
   "execution_count": 153,
   "metadata": {},
   "outputs": [
    {
     "name": "stdout",
     "output_type": "stream",
     "text": [
      "writing simulation...\n",
      "  writing simulation name file...\n",
      "  writing simulation tdis package...\n",
      "  writing ims package ims_-1...\n",
      "  writing model dis_test...\n",
      "    writing model name file...\n",
      "    writing package dis...\n",
      "    writing package ic...\n",
      "    writing package npf...\n",
      "    writing package rcha...\n",
      "    writing package oc...\n",
      "    writing package chd...\n"
     ]
    }
   ],
   "source": [
    "sim.write_simulation()"
   ]
  },
  {
   "cell_type": "code",
   "execution_count": 154,
   "metadata": {},
   "outputs": [
    {
     "name": "stdout",
     "output_type": "stream",
     "text": [
      "FloPy is using the following  executable to run the model: ../../exe/mf6.exe\n",
      "                                   MODFLOW 6\n",
      "                U.S. GEOLOGICAL SURVEY MODULAR HYDROLOGIC MODEL\n",
      "                            VERSION 6.0.4 03/13/2019\n",
      "\n",
      "   MODFLOW 6 compiled Mar 21 2019 15:37:31 with IFORT compiler (ver. 19.0.0)\n",
      "\n",
      "This software has been approved for release by the U.S. Geological \n",
      "Survey (USGS). Although the software has been subjected to rigorous \n",
      "review, the USGS reserves the right to update the software as needed \n",
      "pursuant to further analysis and review. No warranty, expressed or \n",
      "implied, is made by the USGS or the U.S. Government as to the \n",
      "functionality of the software and related material nor shall the \n",
      "fact of release constitute any such warranty. Furthermore, the \n",
      "software is released on condition that neither the USGS nor the U.S. \n",
      "Government shall be held liable for any damages resulting from its \n",
      "authorized or unauthorized use. Also refer to the USGS Water \n",
      "Resources Software User Rights Notice for complete use, copyright, \n",
      "and distribution information.\n",
      "\n",
      " Run start date and time (yyyy/mm/dd hh:mm:ss): 2020/02/06 15:49:25\n",
      "\n",
      " Writing simulation list file: mfsim.lst\n",
      " Using Simulation name file: mfsim.nam\n",
      " Solving:  Stress period:     1    Time step:     1\n",
      " Run end date and time (yyyy/mm/dd hh:mm:ss): 2020/02/06 15:49:25\n",
      " Elapsed run time:  0.157 Seconds\n",
      "\n",
      " Normal termination of simulation.\n"
     ]
    },
    {
     "data": {
      "text/plain": [
       "(True, [])"
      ]
     },
     "execution_count": 154,
     "metadata": {},
     "output_type": "execute_result"
    }
   ],
   "source": [
    "sim.run_simulation()"
   ]
  },
  {
   "cell_type": "code",
   "execution_count": 155,
   "metadata": {},
   "outputs": [],
   "source": [
    "# retrieve heads using a function\n",
    "h=get_heads(model_name,model_dir)"
   ]
  },
  {
   "cell_type": "code",
   "execution_count": 156,
   "metadata": {},
   "outputs": [
    {
     "data": {
      "text/plain": [
       "<matplotlib.colorbar.Colorbar at 0x210a444c6c8>"
      ]
     },
     "execution_count": 156,
     "metadata": {},
     "output_type": "execute_result"
    },
    {
     "data": {
      "image/png": "[encoded data removed]",
      "text/plain": [
       "<Figure size 360x360 with 2 Axes>"
      ]
     },
     "metadata": {
      "needs_background": "light"
     },
     "output_type": "display_data"
    }
   ],
   "source": [
    "# make a plot\n",
    "\n",
    "fig = plt.figure(figsize=(5,5))\n",
    "ax  = plt.subplot(1, 1, 1, aspect='equal')\n",
    "ml = fp.plot.PlotMapView(model=gwf)\n",
    "#hmesh=ml.plot_ibound()\n",
    "hmesh=ml.plot_array(head,masked_values=[1e30],cmap=\"viridis\")\n",
    "ml.plot_bc(\"CHD\",color=\"r\")\n",
    "plt.colorbar(hmesh)"
   ]
  },
  {
   "cell_type": "code",
   "execution_count": 157,
   "metadata": {},
   "outputs": [
    {
     "data": {
      "text/plain": [
       "<matplotlib.collections.PatchCollection at 0x210a46a0448>"
      ]
     },
     "execution_count": 157,
     "metadata": {},
     "output_type": "execute_result"
    },
    {
     "data": {
      "image/png": "[encoded data removed]",
      "text/plain": [
       "<Figure size 576x576 with 1 Axes>"
      ]
     },
     "metadata": {
      "needs_background": "light"
     },
     "output_type": "display_data"
    }
   ],
   "source": [
    "fig = plt.figure(figsize=(8, 8))\n",
    "ax = fig.add_subplot(aspect='equal')\n",
    "\n",
    "mm = fp.plot.PlotMapView(model=gwf)\n",
    "#mm.plot_grid()\n",
    "fp.plot.plot_shapefile(R_path,ax=ax,facecolor=\"Red\",alpha=0.5)\n",
    "mm.plot_array(dis.idomain.array,alpha=0.4)\n",
    "fp.plot.plot_shapefile(BC_path,ax=ax,edgecolor=\"w\",facecolor=\"none\",linewidth=4)"
   ]
  },
  {
   "cell_type": "code",
   "execution_count": null,
   "metadata": {},
   "outputs": [],
   "source": []
  }
 ],
 "metadata": {
  "kernelspec": {
   "display_name": "Python 3",
   "language": "python",
   "name": "python3"
  },
  "language_info": {
   "codemirror_mode": {
    "name": "ipython",
    "version": 3
   },
   "file_extension": ".py",
   "mimetype": "text/x-python",
   "name": "python",
   "nbconvert_exporter": "python",
   "pygments_lexer": "ipython3",
   "version": "3.7.4"
  }
 },
 "nbformat": 4,
 "nbformat_minor": 2
}
