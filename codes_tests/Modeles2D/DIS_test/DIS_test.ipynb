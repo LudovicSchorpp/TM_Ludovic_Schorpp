{
 "cells": [
  {
   "cell_type": "code",
   "execution_count": 8,
   "metadata": {},
   "outputs": [],
   "source": [
    "import flopy as fp\n",
    "import numpy as np\n",
    "import geopandas as gp\n",
    "import pandas as pd\n",
    "import matplotlib.pyplot as plt\n",
    "from flopy.utils.gridgen import Gridgen \n",
    "import shapely\n",
    "from flopy.utils.gridintersect import GridIntersect"
   ]
  },
  {
   "cell_type": "code",
   "execution_count": 4,
   "metadata": {},
   "outputs": [],
   "source": [
    "model_dir = \"workingDis\"\n",
    "model_name=\"dis_test\"\n",
    "exe_name=\"../../exe.mf6\""
   ]
  },
  {
   "cell_type": "code",
   "execution_count": 49,
   "metadata": {},
   "outputs": [],
   "source": [
    "def Imreduction (imar, nrow, ncol):\n",
    "    \n",
    "    \"\"\"\n",
    "    This function reduce the dimensionality of an image.\n",
    "    An array of the image must be provided by the user, same for the number of row and col of the new image\n",
    "    No data should be specified as \"None\" type\n",
    "    return a new array\n",
    "    \"\"\"\n",
    "    \n",
    "    #first define the ratio between the given and the desired resolution in x and y\n",
    "    facR=imar.shape[0]/nrow\n",
    "    facC=imar.shape[1]/ncol\n",
    "    \n",
    "    # go through the entire grid (nrow,ncol) and use the mean of all the values in the array image\n",
    "    # in a specific cell of the grid (i,o)\n",
    "    new_imar=[]\n",
    "    for i in range(nrow):\n",
    "        for o in range(ncol):\n",
    "            new_val=np.nanmean(imar[np.round(i*facR).astype(int):np.round(i*facR+facR).astype(int),\n",
    "                                    np.round(o*facC).astype(int):np.round(o*facC+facC).astype(int)])\n",
    "            new_imar.append(new_val)\n",
    "    \n",
    "    # create an array of the new image array\n",
    "    new_imar = np.array(new_imar)\n",
    "    return np.array(pd.DataFrame(new_imar.reshape(nrow,ncol)).fillna(0))"
   ]
  },
  {
   "cell_type": "code",
   "execution_count": 79,
   "metadata": {},
   "outputs": [],
   "source": [
    "def gp2idomain (gp,grid,idomain,area=3):\n",
    "    \n",
    "    '''\n",
    "    This function attribute active values to cells given a certain geopandas object and a grid (flopy.discretization) with idomain\n",
    "    the tolerance is a value that determine at which level a cell will be counted as intersected by the polygon \n",
    "    (3 for example mean that only cells that have 1/3 of their area intersected by the polygon will be accounted)\n",
    "    '''\n",
    "    \n",
    "    ix = GridIntersect(grid)\n",
    "    \n",
    "    if area == 0:\n",
    "        result = ix.intersect_polygon(gp.geometry[0])\n",
    "    \n",
    "    if area >= 1:\n",
    "        result = ix.intersect_polygon(gp.geometry[0])\n",
    "        result = result[result.areas>(np.max(result.areas)/area)]\n",
    "    \n",
    "        \n",
    "    \n",
    "    for irow, icol in result2.cellids:\n",
    "        idomain[irow*nrow+icol]=1\n",
    "        \n",
    "    return idomain"
   ]
  },
  {
   "cell_type": "code",
   "execution_count": null,
   "metadata": {},
   "outputs": [],
   "source": []
  },
  {
   "cell_type": "code",
   "execution_count": null,
   "metadata": {},
   "outputs": [],
   "source": []
  },
  {
   "cell_type": "code",
   "execution_count": 6,
   "metadata": {},
   "outputs": [],
   "source": [
    "#spatial parameters\n",
    "\n",
    "x0 = 660000 # left min\n",
    "x1 = 705000 # right max\n",
    "Lx = x1-x0\n",
    "y0 = 6150000 # bottom min\n",
    "y1 = 6205000 # top max\n",
    "Ly = y1-y0\n",
    "nlay = 1\n",
    "ncol = 50\n",
    "nrow = 50\n",
    "delr = np.ones(ncol)*(Lx/ncol)\n",
    "delc = np.ones(nrow)*(Ly/nrow)\n",
    "botm = -50\n",
    "idomain = np.zeros((nrow*ncol))\n",
    "\n",
    "R_path=\"../data/limiteModeleRoussillon_poly.shp\" # path to the shp of the aquifer"
   ]
  },
  {
   "cell_type": "code",
   "execution_count": 80,
   "metadata": {
    "scrolled": false
   },
   "outputs": [],
   "source": [
    "# import a mnt and extract topography data\n",
    "\n",
    "from PIL import Image\n",
    "im = Image.open(\"../../../../../TRAVAIL DE MASTER/data/MNT_demo_5m.tif\") # add path to MNT.tif\n",
    "imar = np.array(im)\n",
    "imar[imar==0]=None\n",
    "\n",
    "top = Imreduction(imar,nrow,ncol)"
   ]
  },
  {
   "cell_type": "code",
   "execution_count": 81,
   "metadata": {},
   "outputs": [],
   "source": [
    "#cells inside the aquifer become active\n",
    "\n",
    "R = gp.read_file(R_path) # import shapefile with geopandas\n",
    "grid = fp.discretization.StructuredGrid(delc,delr,xoff=x0,yoff=y0)\n",
    "\n",
    "idomain = gp2idomain(R,grid,idomain,area=3)"
   ]
  },
  {
   "cell_type": "code",
   "execution_count": 85,
   "metadata": {},
   "outputs": [],
   "source": [
    "# basic modules\n",
    "sim = fp.mf6.MFSimulation(sim_name='theis_mf6', version='mf6', exe_name=exe_name, \n",
    "                             sim_ws=model_dir)\n",
    "gwf = fp.mf6.ModflowGwf(sim, modelname=model_name,\n",
    "                           model_nam_file='{}.nam'.format(model_name))\n",
    "dis = fp.mf6.ModflowGwfdis(gwf, nlay=nlay, nrow=nrow, ncol=ncol,\n",
    "                              delr=delr, delc=delc,\n",
    "                              top=top, botm=botm,xorigin=x0,yorigin=y0,idomain=idomain)\n",
    "tdis = fp.mf6.ModflowTdis(sim, time_units='DAYS',perioddata=[[1.0, 1, 1.]])\n",
    "ims  = fp.mf6.ModflowIms(sim, print_option='SUMMARY', complexity='simple')"
   ]
  },
  {
   "cell_type": "code",
   "execution_count": 88,
   "metadata": {},
   "outputs": [],
   "source": [
    "# initial conditions\n",
    "ic   = fp.mf6.ModflowGwfic(gwf)"
   ]
  },
  {
   "cell_type": "code",
   "execution_count": 93,
   "metadata": {},
   "outputs": [],
   "source": [
    "# nodeflowproperty\n",
    "kh = 1e-4\n",
    "npf  = fp.mf6.ModflowGwfnpf(gwf, k=kh, save_specific_discharge=True,save_flows=True)"
   ]
  },
  {
   "cell_type": "code",
   "execution_count": null,
   "metadata": {},
   "outputs": [],
   "source": []
  }
 ],
 "metadata": {
  "kernelspec": {
   "display_name": "Python 3",
   "language": "python",
   "name": "python3"
  },
  "language_info": {
   "codemirror_mode": {
    "name": "ipython",
    "version": 3
   },
   "file_extension": ".py",
   "mimetype": "text/x-python",
   "name": "python",
   "nbconvert_exporter": "python",
   "pygments_lexer": "ipython3",
   "version": "3.7.4"
  }
 },
 "nbformat": 4,
 "nbformat_minor": 2
}
