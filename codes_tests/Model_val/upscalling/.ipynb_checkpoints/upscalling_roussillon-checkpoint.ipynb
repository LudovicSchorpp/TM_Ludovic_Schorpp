{
 "cells": [
  {
   "cell_type": "markdown",
   "metadata": {},
   "source": [
    "# Simple upscalling test for inversion with flopy \n",
    "Valentin Dall'alba 03/2020"
   ]
  },
  {
   "cell_type": "code",
   "execution_count": 1,
   "metadata": {},
   "outputs": [],
   "source": [
    "import pickle\n",
    "import matplotlib.pyplot as plt\n",
    "import numpy as np"
   ]
  },
  {
   "cell_type": "markdown",
   "metadata": {},
   "source": [
    "### Some functions"
   ]
  },
  {
   "cell_type": "code",
   "execution_count": 2,
   "metadata": {},
   "outputs": [],
   "source": [
    "def read_pickle(path):\n",
    "    '''\n",
    "    function to read a pickle file\n",
    "    '''\n",
    "    \n",
    "    with open(path, 'rb')as file:\n",
    "        f_read = pickle.load(file)\n",
    "    \n",
    "    return f_read\n",
    "\n",
    "def write_pickle(path, file):\n",
    "    '''\n",
    "    function to write picke file\n",
    "    '''\n",
    "    \n",
    "    with open(path,'wb')as f:\n",
    "        pickle.dump(file, f, pickle.HIGHEST_PROTOCOL)\n",
    "        "
   ]
  },
  {
   "cell_type": "code",
   "execution_count": 3,
   "metadata": {},
   "outputs": [],
   "source": [
    "def assign_k(simu, facies_list, k_list):\n",
    "    '''\n",
    "    Function to assign permeability values to categ simulation.\n",
    "    \n",
    "    -------\n",
    "    Input : \n",
    "    simu = np array from the simulation (ny,nx)\n",
    "    facies_list = list of the categ facies number [0,1,2..]\n",
    "    k_list = list of the permeability values for each facies [1e-2,1e-4...]\n",
    "    \n",
    "    -------\n",
    "    Output:\n",
    "    simu_k : np array (ny,nx) with the permeability values assigned\n",
    "    '''\n",
    "    \n",
    "    simu_k = np.copy(simu)\n",
    "    \n",
    "    for f,k in zip(facies_list, k_list):\n",
    "        \n",
    "        krd = np.random.random(simu_k.shape)*k\n",
    "        simu_k[simu_k==f] = krd[simu_k==f]\n",
    "    \n",
    "    return simu_k"
   ]
  },
  {
   "cell_type": "code",
   "execution_count": 4,
   "metadata": {},
   "outputs": [],
   "source": [
    "def create_mask(grid):\n",
    "    '''\n",
    "    Create a mask from a define grid\n",
    "    return a binary mask: 0 outside, 1 inside\n",
    "    '''\n",
    "    mask = np.ones(grid.shape)\n",
    "    mask[np.isnan(grid)] = 0\n",
    "    \n",
    "    return mask"
   ]
  },
  {
   "cell_type": "code",
   "execution_count": 5,
   "metadata": {},
   "outputs": [],
   "source": [
    "def up_simple_mean_array(arr, sx, sy, sx_up=1, sy_up=1):\n",
    "    '''\n",
    "    Function to upscall a np array (ny,nx) to a defined output resolution.\n",
    "    \n",
    "    -------\n",
    "    Input:\n",
    "    sx, sy : Dimension of the cells of the input grid.\n",
    "    sx_up, sy_up : Dimension of the output upscalled cells.\n",
    "    \n",
    "    -------\n",
    "    Output:\n",
    "    array (ny,nx), upscalled grid with simple means.\n",
    "    '''\n",
    "    \n",
    "    nx, ny = arr.shape[1], arr.shape[0]\n",
    "    nx_up, ny_up = nx*sx/sx_up, ny*sy/sy_up\n",
    "    sx_up, sy_up = sx_up, sy_up\n",
    "    \n",
    "    values = np.copy(arr) #[ny,nx]\n",
    "    \n",
    "    while nx_up/int(nx_up)!= 1.0:\n",
    "        add_h  = np.full((values.shape[0],1), np.nan)\n",
    "        values = np.hstack((values,add_h))\n",
    "        nx     = values.shape[1]\n",
    "        nx_up  = nx*sx/sx_up\n",
    "\n",
    "    while ny_up/int(ny_up)!= 1.0:\n",
    "        add_v  = np.full((1,values.shape[1]), np.nan) \n",
    "        values = np.vstack((values,add_v)) \n",
    "        ny     = values.shape[0]\n",
    "        ny_up  = ny*sy/sy_up\n",
    "    \n",
    "    #Groups\n",
    "    coord_x = np.arange(sx/2,nx*sx+sx/2,sx)\n",
    "    coord_y = np.arange(sy/2,ny*sy+sy/2,sy)\n",
    "    coords  = np.array([[co_x, co_y] for co_y in coord_y for co_x in coord_x])\n",
    "    \n",
    "    p_x = [int(np.trunc(cx/sx_up)) for cx in coords[:,0]]\n",
    "    p_y = [int(np.trunc((cy/sy_up))*nx) for cy in coords[:,1]]\n",
    "    p = np.array([[px+py] for px,py in zip(p_x,p_y)])\n",
    "    \n",
    "    groups = {}\n",
    "    for i,pos in enumerate(p):\n",
    "        if pos[0] in groups.keys():\n",
    "            groups[pos[0]].append(i)\n",
    "        else:\n",
    "            groups[pos[0]] = []\n",
    "            groups[pos[0]].append(i)\n",
    "\n",
    "    #Means\n",
    "    means = up_mean(groups, values, nx_up, ny_up)    \n",
    "    print('The shape of the ouptut grid is {}'.format(means.shape))\n",
    "    \n",
    "    return means"
   ]
  },
  {
   "cell_type": "code",
   "execution_count": 6,
   "metadata": {},
   "outputs": [],
   "source": [
    "def up_mean(groups, values, nx_up, ny_up):\n",
    "    '''\n",
    "    To perform a simple mean operation during upscalling.\n",
    "    Used for the up_simple_mean_array function.\n",
    "    '''\n",
    "    \n",
    "    means = np.full((int(nx_up*ny_up)),np.nan)\n",
    "    \n",
    "    for i, key in enumerate(groups.keys()):\n",
    "        val_group = [values.flatten()[cell] for cell in groups[key]]\n",
    "        means[i]  = (np.nanmean(val_group))\n",
    "        \n",
    "    return np.reshape(means,(int(ny_up),int(nx_up)))"
   ]
  },
  {
   "cell_type": "markdown",
   "metadata": {},
   "source": [
    "### Import the simulation \n",
    "2D MPS simulations\n",
    "\n",
    "nx, ny = 409, 512  \n",
    "ox = 664328.1865  \n",
    "oy = 6153000.2413  \n",
    "sx, sy = 100, 100"
   ]
  },
  {
   "cell_type": "code",
   "execution_count": 7,
   "metadata": {},
   "outputs": [],
   "source": [
    "pathsimu = 'simu_np.pickle'"
   ]
  },
  {
   "cell_type": "code",
   "execution_count": 8,
   "metadata": {},
   "outputs": [
    {
     "data": {
      "text/plain": [
       "(512, 409)"
      ]
     },
     "execution_count": 8,
     "metadata": {},
     "output_type": "execute_result"
    }
   ],
   "source": [
    "simu = read_pickle(pathsimu)\n",
    "#simu = simu.val[0,0]\n",
    "simu.shape"
   ]
  },
  {
   "cell_type": "code",
   "execution_count": 9,
   "metadata": {},
   "outputs": [
    {
     "data": {
      "image/png": "[encoded data removed]",
      "text/plain": [
       "<Figure size 432x288 with 1 Axes>"
      ]
     },
     "metadata": {
      "needs_background": "light"
     },
     "output_type": "display_data"
    }
   ],
   "source": [
    "plt.imshow(simu, origin='lower',cmap='viridis')\n",
    "plt.show()"
   ]
  },
  {
   "cell_type": "markdown",
   "metadata": {},
   "source": [
    "### Assign facies properties"
   ]
  },
  {
   "cell_type": "markdown",
   "metadata": {},
   "source": [
    "The simulation is composed of 5 facies:  \n",
    "0 = plaine innondation  \n",
    "1 = rivière en tresse  \n",
    "2 = rivière en méandre  \n",
    "3 = crevasse splay  \n",
    "4 = cone alluvial  \n",
    "5 = levee  "
   ]
  },
  {
   "cell_type": "code",
   "execution_count": 10,
   "metadata": {},
   "outputs": [],
   "source": [
    "facies_list = [0,1,2,3,4,5]\n",
    "k_list      = [1e-7,1e-4,1e-3,1e-4,5e-3,1e-6]\n",
    "simu_k      = assign_k(simu, facies_list, k_list)"
   ]
  },
  {
   "cell_type": "code",
   "execution_count": 11,
   "metadata": {},
   "outputs": [
    {
     "data": {
      "text/plain": [
       "<matplotlib.image.AxesImage at 0x20766124908>"
      ]
     },
     "execution_count": 11,
     "metadata": {},
     "output_type": "execute_result"
    },
    {
     "data": {
      "image/png": "[encoded data removed]",
      "text/plain": [
       "<Figure size 432x288 with 1 Axes>"
      ]
     },
     "metadata": {
      "needs_background": "light"
     },
     "output_type": "display_data"
    }
   ],
   "source": [
    "plt.imshow(simu_k, origin='lower',cmap='viridis')"
   ]
  },
  {
   "cell_type": "markdown",
   "metadata": {},
   "source": [
    "### Upscalling to the flopy grid resolution"
   ]
  },
  {
   "cell_type": "code",
   "execution_count": 12,
   "metadata": {},
   "outputs": [
    {
     "name": "stderr",
     "output_type": "stream",
     "text": [
      "C:\\Users\\emmal\\Anaconda3\\lib\\site-packages\\ipykernel_launcher.py:11: RuntimeWarning: Mean of empty slice\n",
      "  # This is added back by InteractiveShellApp.init_path()\n"
     ]
    },
    {
     "name": "stdout",
     "output_type": "stream",
     "text": [
      "The shape of the ouptut grid is (128, 103)\n"
     ]
    }
   ],
   "source": [
    "sx = 100\n",
    "sy = 100\n",
    "sx_up = 400\n",
    "sy_up = 400\n",
    "simu_up = up_simple_mean_array(simu_k, sx, sy, sx_up = sx_up, sy_up = sy_up)"
   ]
  },
  {
   "cell_type": "code",
   "execution_count": 13,
   "metadata": {},
   "outputs": [
    {
     "data": {
      "text/plain": [
       "<matplotlib.image.AxesImage at 0x20762984ec8>"
      ]
     },
     "execution_count": 13,
     "metadata": {},
     "output_type": "execute_result"
    },
    {
     "data": {
      "image/png": "[encoded data removed]",
      "text/plain": [
       "<Figure size 432x288 with 1 Axes>"
      ]
     },
     "metadata": {
      "needs_background": "light"
     },
     "output_type": "display_data"
    }
   ],
   "source": [
    "plt.imshow(simu_up,origin='lower')"
   ]
  },
  {
   "cell_type": "markdown",
   "metadata": {},
   "source": [
    "### Once upscalled we can create a mask for the active cell (1) and non-active cell (0) for the new resolution"
   ]
  },
  {
   "cell_type": "code",
   "execution_count": 14,
   "metadata": {},
   "outputs": [],
   "source": [
    "mask = create_mask(simu_up)"
   ]
  },
  {
   "cell_type": "code",
   "execution_count": 15,
   "metadata": {},
   "outputs": [
    {
     "data": {
      "text/plain": [
       "<matplotlib.colorbar.Colorbar at 0x20767f4c4c8>"
      ]
     },
     "execution_count": 15,
     "metadata": {},
     "output_type": "execute_result"
    },
    {
     "data": {
      "image/png": "[encoded data removed]",
      "text/plain": [
       "<Figure size 432x288 with 2 Axes>"
      ]
     },
     "metadata": {
      "needs_background": "light"
     },
     "output_type": "display_data"
    }
   ],
   "source": [
    "plt.imshow(mask, origin='lower')\n",
    "plt.colorbar()"
   ]
  },
  {
   "cell_type": "markdown",
   "metadata": {},
   "source": [
    "### We can export the grid and mask"
   ]
  },
  {
   "cell_type": "code",
   "execution_count": 16,
   "metadata": {},
   "outputs": [],
   "source": [
    "write_pickle('export_up.pickle',[simu_up, mask])"
   ]
  },
  {
   "cell_type": "markdown",
   "metadata": {},
   "source": [
    "### To do"
   ]
  },
  {
   "cell_type": "markdown",
   "metadata": {},
   "source": [
    "Je pense qu'il faut maintenant automatiser l'import dans le script flopy le champ de permeabilité upscaller et le mask pour définir qu'elles sont les cellules actives ou non. (fichier export_up.pickle)  \n",
    "Ensuite on run la simulation.  \n",
    "On compare les résultats. On calcul un indice que l'on va chercher à minimiser.  \n",
    "On modifie les valeurs de perméabilités de la simu, on re-upscalle les valeurs et on recommence la simu...  "
   ]
  }
 ],
 "metadata": {
  "kernelspec": {
   "display_name": "Python 3",
   "language": "python",
   "name": "python3"
  },
  "language_info": {
   "codemirror_mode": {
    "name": "ipython",
    "version": 3
   },
   "file_extension": ".py",
   "mimetype": "text/x-python",
   "name": "python",
   "nbconvert_exporter": "python",
   "pygments_lexer": "ipython3",
   "version": "3.7.4"
  }
 },
 "nbformat": 4,
 "nbformat_minor": 4
}
