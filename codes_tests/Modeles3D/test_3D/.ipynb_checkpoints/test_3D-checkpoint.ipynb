{
 "cells": [
  {
   "cell_type": "code",
   "execution_count": 1,
   "metadata": {},
   "outputs": [
    {
     "name": "stdout",
     "output_type": "stream",
     "text": [
      "flopy is installed in C:\\Users\\emmal\\Anaconda3\\lib\\site-packages\\flopy\n"
     ]
    }
   ],
   "source": [
    "import flopy as fp\n",
    "import numpy as np\n",
    "import geopandas as gp\n",
    "import pandas as pd\n",
    "import pickle\n",
    "import os\n",
    "import sys\n",
    "from osgeo import ogr\n",
    "from osgeo import gdal\n",
    "from osgeo import gdal_array\n",
    "from osgeo import osr\n",
    "import matplotlib.pyplot as plt\n",
    "from flopy.utils.gridgen import Gridgen \n",
    "from flopy.utils.gridintersect import GridIntersect\n",
    "from flopy.utils import Raster\n",
    "import shapely\n",
    "from scipy.optimize import minimize\n",
    "from shapely.geometry import Polygon, Point, LineString, MultiLineString, MultiPoint, MultiPolygon,shape\n",
    "from shapely.strtree import STRtree  \n",
    "import glob\n",
    "import time\n",
    "\n",
    "\n",
    "from Rouss3D import *\n",
    "sys.path.insert(1, '../../Modeles2D/test_premier_model/')\n",
    "# hand made functions\n",
    "from Rouss1 import *\n",
    "from Rouss2 import *"
   ]
  },
  {
   "cell_type": "code",
   "execution_count": 2,
   "metadata": {},
   "outputs": [],
   "source": [
    "model_dir = \"working\"\n",
    "model_name = \"test_3D\"\n",
    "exe_name= \"../../exe/mf6\""
   ]
  },
  {
   "cell_type": "code",
   "execution_count": 3,
   "metadata": {},
   "outputs": [],
   "source": [
    "R_path=\"../../data/shp/limiteModeleRoussillon_poly.shp\" # path to the shp of the aquifer\n",
    "\n",
    "#rivers paths\n",
    "Agly_path = \"../../data/Fleuves/Agly_ludo.shp\" # path to Agly\n",
    "Tet_path = \"../../data/Fleuves/Tet_ludo.shp\"\n",
    "Rea_path = \"../../data/Fleuves/Reart_ludo.shp\"\n",
    "Tech_path = \"../../data/Fleuves/Tech_ludo.shp\"\n",
    "Bol_path = \"../../data/Fleuves/Boules_ludo.shp\"\n",
    "Cant_path = \"../../data/Fleuves/Cant_ludo.shp\"\n",
    "\n",
    "#stations paths\n",
    "Agly_stations = \"../../data/Fleuves/stations_agly.csv\" \n",
    "Tet_stations = \"../../data/Fleuves/stations_tet2.csv\"\n",
    "Rea_stations = \"../../data/Fleuves/stations_reart.csv\"\n",
    "Tech_stations = \"../../data/Fleuves/stations_tech.csv\"\n",
    "Bol_stations = \"../../data/Fleuves/stations_bol.csv\"\n",
    "Cant_stations = \"../../data/Fleuves/stations_cant.csv\"\n",
    "\n",
    "#MPS and up\n"
   ]
  },
  {
   "cell_type": "code",
   "execution_count": 4,
   "metadata": {},
   "outputs": [],
   "source": [
    "MNT_path = \"../../data/MNT/MNT_50.tif\"\n",
    "x0,y0,x1,y1 = get_MNTbbox(MNT_path)\n",
    "\n",
    "Lx = x1-x0\n",
    "Ly = y1-y0\n",
    "nlay = 3\n",
    "res = 300\n",
    "\n",
    "ncol = int(Lx/res)\n",
    "nrow = int(Ly/res)\n",
    "\n",
    "delr = np.ones(ncol)*res\n",
    "delc = np.ones(nrow)*res\n",
    "\n",
    "idomain = np.zeros((nrow*ncol))"
   ]
  },
  {
   "cell_type": "code",
   "execution_count": 58,
   "metadata": {},
   "outputs": [],
   "source": [
    "grid = fp.discretization.StructuredGrid(delc,delr,xoff=x0,yoff=y0) # create a grid identical to the dis package, will be used\n",
    "                                                                 # to pre-process data"
   ]
  },
  {
   "cell_type": "code",
   "execution_count": 59,
   "metadata": {},
   "outputs": [],
   "source": [
    "# load botom based on the differents surfaces\n",
    "folder_path = \"../../data/txt_couches_nouv\"\n",
    "surfaces = []\n",
    "for file in glob.glob(os.path.join(folder_path, '*.txt')):\n",
    "    Rast = Raster.load(file)\n",
    "    surfaces.append(Rast.resample_to_grid(grid.xcellcenters,\n",
    "                                grid.ycellcenters,\n",
    "                                band = Rast.bands[0],\n",
    "                                method=\"nearest\"))\n",
    "    \n",
    "top = surfaces[0]\n",
    "Q = surfaces[1]\n",
    "PC = surfaces[2]\n",
    "PMS = surfaces[3]"
   ]
  },
  {
   "cell_type": "code",
   "execution_count": null,
   "metadata": {},
   "outputs": [],
   "source": [
    "def active_dom(surf,grid):\n",
    "    \n",
    "    \"\"\"\n",
    "    return a idomain for active zones, base on surfaces\n",
    "    \"\"\"\n",
    "    idomainQ = np.zeros([grid.nrow,grid.ncol])\n",
    "    idomainQ[surf != -9999] = 1\n",
    "    return idomainQ"
   ]
  },
  {
   "cell_type": "code",
   "execution_count": 39,
   "metadata": {},
   "outputs": [],
   "source": [
    "#domain\n",
    "idomain = np.zeros([nlay,nrow,ncol])\n",
    "\n",
    "for ilay in range(nlay):\n",
    "    idomain[ilay] = active_dom(surfaces[ilay+1],grid)"
   ]
  },
  {
   "cell_type": "code",
   "execution_count": 40,
   "metadata": {},
   "outputs": [],
   "source": [
    "#surfaces\n",
    "botm = np.zeros([nlay,nrow,ncol])\n",
    "\n",
    "bot_surf = top.copy() # a list that will contain infos about the bottom of a surface, update at each loop\n",
    "for ilay in range(nlay):\n",
    "    \n",
    "    bot_surf -= 1 # --> bot_surf - 1\n",
    "    bot_surf[idomain[ilay] == 1] = surfaces[ilay+1][idomain[ilay] == 1] # where idomain for ilay is active --> bot_surf take the value of the surface\n",
    "\n",
    "    botm[ilay] = bot_surf\n",
    "\n",
    "# change top of cells with negative thickness\n",
    "for ilay in range(nlay-1):\n",
    "    botm[ilay][botm[ilay]<botm[ilay+1]] +=5"
   ]
  },
  {
   "cell_type": "code",
   "execution_count": 41,
   "metadata": {},
   "outputs": [],
   "source": [
    "lst_domain = []\n",
    "for ilay in range(nlay):\n",
    "    for irow in range(nrow):\n",
    "        for icol in range(ncol):\n",
    "            if idomain[ilay,irow,icol] == 1:\n",
    "                lst_domain.append((ilay,irow,icol))\n"
   ]
  },
  {
   "cell_type": "code",
   "execution_count": 72,
   "metadata": {},
   "outputs": [],
   "source": [
    "def up_act_cell(idomain):\n",
    "    \"\"\"\n",
    "    return the uppermosts cells from a 3D list idomain (1: active)\n",
    "    idomain : shape (nlay,nrow,ncol)\n",
    "    \n",
    "    \"\"\"\n",
    "    lst_dom_act=[]\n",
    "    nlay = idomain.shape[0]\n",
    "    nrow = idomain.shape[1]\n",
    "    ncol = idomain.shape[2]\n",
    "\n",
    "    for irow in range(nrow):\n",
    "        for icol in range(ncol):\n",
    "            for ilay in range(nlay):\n",
    "                idx = (ilay,irow,icol)\n",
    "                if idomain[idx] == 1:\n",
    "                    lst_dom_act.append((ilay,irow,icol))\n",
    "                    break\n",
    "    return lst_dom_act"
   ]
  },
  {
   "cell_type": "code",
   "execution_count": 74,
   "metadata": {},
   "outputs": [],
   "source": [
    "#uppermost active cell\n",
    "Up_cells_act = up_act_cell(idomain)"
   ]
  },
  {
   "cell_type": "code",
   "execution_count": 11,
   "metadata": {},
   "outputs": [],
   "source": [
    "# BC sea\n",
    "# import the shapefile that correspond to the BC\n",
    "BCsea_path = \"../../data/shp/Sea_BC_L93.shp\"\n",
    "BC_sea = gp.read_file(BCsea_path)\n",
    "\n",
    "# extract cellids from the BC at the sea and make these cells active\n",
    "lst_chd = gp2cellids3D(grid,BC_sea,idomain,type=\"line\")\n",
    "\n",
    "# attribute a constant head at all the cells in the lst_chd\n",
    "CHD = 0; chd_lst=[];\n",
    "for x in lst_chd:\n",
    "    chd_lst.append((x,CHD))"
   ]
  },
  {
   "cell_type": "code",
   "execution_count": 12,
   "metadata": {},
   "outputs": [],
   "source": [
    "# BC etangs\n",
    "BCetangs_path = \"../../data/shp/Surface_hydro/SURFACE_HYDROGRAPHIQUE.shp\"\n",
    "Bcet = gp.read_file(BCetangs_path)\n",
    "etangs = Bcet[(Bcet[\"TOPONYME\"]==\"étang de canet\") | (Bcet[\"TOPONYME\"]==\"étang de leucate\")]\n",
    "\n",
    "# extract cellids from the BC \n",
    "etangs_chd = gp2cellids3D(grid,etangs.dissolve(by=\"NATURE\"),idomain)\n",
    "\n",
    "# attribute a constant head\n",
    "CHD = 0; et_chd_lst=[];\n",
    "for x in etangs_chd:\n",
    "    et_chd_lst.append((x,CHD))\n",
    "    lst_chd.append(x)"
   ]
  },
  {
   "cell_type": "code",
   "execution_count": null,
   "metadata": {},
   "outputs": [],
   "source": []
  }
 ],
 "metadata": {
  "kernelspec": {
   "display_name": "Python 3",
   "language": "python",
   "name": "python3"
  },
  "language_info": {
   "codemirror_mode": {
    "name": "ipython",
    "version": 3
   },
   "file_extension": ".py",
   "mimetype": "text/x-python",
   "name": "python",
   "nbconvert_exporter": "python",
   "pygments_lexer": "ipython3",
   "version": "3.7.4"
  }
 },
 "nbformat": 4,
 "nbformat_minor": 2
}
