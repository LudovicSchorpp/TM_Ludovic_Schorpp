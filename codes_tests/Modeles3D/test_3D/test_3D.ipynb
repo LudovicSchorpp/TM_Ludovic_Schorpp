{
 "cells": [
  {
   "cell_type": "code",
   "execution_count": 42,
   "metadata": {},
   "outputs": [],
   "source": [
    "import flopy as fp\n",
    "import numpy as np\n",
    "import geopandas as gp\n",
    "import pandas as pd\n",
    "import pickle\n",
    "import os\n",
    "import sys\n",
    "from osgeo import ogr\n",
    "from osgeo import gdal\n",
    "from osgeo import gdal_array\n",
    "from osgeo import osr\n",
    "import matplotlib.pyplot as plt\n",
    "from flopy.utils.gridgen import Gridgen \n",
    "from flopy.utils.gridintersect import GridIntersect\n",
    "from flopy.utils import Raster\n",
    "import shapely\n",
    "from scipy.optimize import minimize\n",
    "from shapely.geometry import Polygon, Point, LineString, MultiLineString, MultiPoint, MultiPolygon,shape\n",
    "from shapely.strtree import STRtree  \n",
    "import glob\n",
    "import time\n",
    "import shutil\n",
    "\n",
    "\n",
    "sys.path.insert(1, '../../modules')\n",
    "# hand made functions\n",
    "from Rouss1 import *\n",
    "from Rouss2 import *\n",
    "from Rouss3D import *\n",
    "from ZoneBudget_ludo import *\n",
    "\n",
    "sys.path.insert(1,\"../../Model_val/upscalling/\")\n",
    "from upscalling_functions import*"
   ]
  },
  {
   "cell_type": "code",
   "execution_count": 3,
   "metadata": {},
   "outputs": [],
   "source": [
    "model_dir = \"working\"\n",
    "model_name = \"test_3D\"\n",
    "exe_name= \"../../exe/mf6\""
   ]
  },
  {
   "cell_type": "code",
   "execution_count": 4,
   "metadata": {},
   "outputs": [],
   "source": [
    "R_path=\"../../data/shp/limiteModeleRoussillon_poly.shp\" # path to the shp of the aquifer\n",
    "\n",
    "#rivers paths\n",
    "Agly_path = \"../../data/Fleuves/Agly_ludo.shp\" # path to Agly\n",
    "Tet_path = \"../../data/Fleuves/Tet_ludo.shp\"\n",
    "Rea_path = \"../../data/Fleuves/Reart_ludo.shp\"\n",
    "Tech_path = \"../../data/Fleuves/Tech_ludo.shp\"\n",
    "Bol_path = \"../../data/Fleuves/Boules_ludo.shp\"\n",
    "Cant_path = \"../../data/Fleuves/Cant_ludo.shp\"\n",
    "\n",
    "#stations paths\n",
    "Agly_stations = \"../../data/Fleuves/stations_agly.csv\" \n",
    "Tet_stations = \"../../data/Fleuves/stations_tet2.csv\"\n",
    "Rea_stations = \"../../data/Fleuves/stations_reart.csv\"\n",
    "Tech_stations = \"../../data/Fleuves/stations_tech.csv\"\n",
    "Bol_stations = \"../../data/Fleuves/stations_bol.csv\"\n",
    "Cant_stations = \"../../data/Fleuves/stations_cant.csv\""
   ]
  },
  {
   "cell_type": "code",
   "execution_count": 5,
   "metadata": {},
   "outputs": [],
   "source": [
    "# load dis infos\n",
    "top,botm,idomain = read_pickle(os.path.join(model_dir,\"export_dis3D\"))"
   ]
  },
  {
   "cell_type": "code",
   "execution_count": 6,
   "metadata": {},
   "outputs": [],
   "source": [
    "#spatial parameters\n",
    "\n",
    "MNT_path = \"../../data/surfaces_geoter/TOPO  (0 en mer).ASC\"\n",
    "x0,y0,x1,y1 = get_MNTbbox(MNT_path)\n",
    "\n",
    "nlay = idomain.shape[0]\n",
    "ncol = idomain.shape[2]\n",
    "nrow = idomain.shape[1]\n",
    "res = 300\n",
    "\n",
    "delr = np.ones(ncol)*res\n",
    "delc = np.ones(nrow)*res\n",
    "\n",
    "grid = fp.discretization.StructuredGrid(delc,delr,xoff=x0,yoff=y0) # create a grid identical to the dis package, will be used\n",
    "                                                                   # to pre-process data"
   ]
  },
  {
   "cell_type": "code",
   "execution_count": 7,
   "metadata": {},
   "outputs": [
    {
     "data": {
      "text/plain": [
       "<matplotlib.image.AxesImage at 0x1c49fce15c8>"
      ]
     },
     "execution_count": 7,
     "metadata": {},
     "output_type": "execute_result"
    },
    {
     "data": {
      "image/png": "[encoded data removed]",
      "text/plain": [
       "<Figure size 432x288 with 1 Axes>"
      ]
     },
     "metadata": {
      "needs_background": "light"
     },
     "output_type": "display_data"
    }
   ],
   "source": [
    "# a little plot\n",
    "#idomain[idomain==0]=None\n",
    "plt.imshow(idomain[1],alpha=0.4,cmap=\"bone\")\n",
    "plt.imshow(idomain[2],alpha=0.4,cmap=\"hot\")\n",
    "plt.imshow(idomain[0],alpha=0.4,cmap=\"winter\")"
   ]
  },
  {
   "cell_type": "code",
   "execution_count": 8,
   "metadata": {},
   "outputs": [],
   "source": [
    "# Do a list of all active cells\n",
    "lst_domain = []\n",
    "for ilay in range(nlay):\n",
    "    for irow in range(nrow):\n",
    "        for icol in range(ncol):\n",
    "            if idomain[ilay,irow,icol] == 1:\n",
    "                lst_domain.append((ilay,irow,icol))\n"
   ]
  },
  {
   "cell_type": "code",
   "execution_count": 9,
   "metadata": {},
   "outputs": [],
   "source": [
    "#uppermost active cell\n",
    "Up_cells_act = up_act_cell(idomain)"
   ]
  },
  {
   "cell_type": "code",
   "execution_count": 10,
   "metadata": {},
   "outputs": [],
   "source": [
    "# BC sea\n",
    "# import the shapefile that correspond to the BC\n",
    "BCsea_path = \"../../data/shp/sea_bc_extended.shp\"\n",
    "BC_sea = gp.read_file(BCsea_path)\n",
    "\n",
    "# extract cellids from the BC at the sea and make these cells active\n",
    "lst_chd = gp2cellids3D(grid,BC_sea,idomain,type=\"polygon\",idomain_active=True)\n",
    "\n",
    "# attribute a constant head at all the cells in the lst_chd\n",
    "chd_lst=[];\n",
    "for x in lst_chd:\n",
    "    chd_lst.append((x,-0.025*top[x[1],x[2]]))\n",
    "    #chd_lst.append((x,0.1))"
   ]
  },
  {
   "cell_type": "code",
   "execution_count": 11,
   "metadata": {},
   "outputs": [],
   "source": [
    "# BC etangs\n",
    "BCetangs_path = \"../../data/shp/Surface_hydro/SURFACE_HYDROGRAPHIQUE.shp\"\n",
    "Bcet = gp.read_file(BCetangs_path)\n",
    "etangs = Bcet[(Bcet[\"TOPONYME\"]==\"étang de canet\") | (Bcet[\"TOPONYME\"]==\"étang de leucate\")]\n",
    "\n",
    "# extract cellids from the BC \n",
    "etangs_chd = gp2cellids3D(grid,etangs.dissolve(by=\"NATURE\"),idomain,idomain_active=True)\n",
    "\n",
    "# attribute a constant head\n",
    "elev = 0.1; et_drn_lst=[];\n",
    "for x in etangs_chd:\n",
    "    et_drn_lst.append((x,elev,1))"
   ]
  },
  {
   "cell_type": "code",
   "execution_count": 12,
   "metadata": {},
   "outputs": [
    {
     "name": "stderr",
     "output_type": "stream",
     "text": [
      "C:\\Users\\emmal\\Anaconda3\\lib\\site-packages\\pandas\\core\\frame.py:7123: FutureWarning: Sorting because non-concatenation axis is not aligned. A future version\n",
      "of pandas will change to not sort by default.\n",
      "\n",
      "To accept the future behavior, pass 'sort=False'.\n",
      "\n",
      "To retain the current behavior and silence the warning, pass 'sort=True'.\n",
      "\n",
      "  sort=sort,\n"
     ]
    }
   ],
   "source": [
    "Agy_chd = Complete_riv(Agly_path,Agly_stations,28,0.1,lst_chd=lst_chd,lst_domain=lst_domain,grid=grid)\n",
    "Tech_chd = Complete_riv(Tech_path,Tech_stations,180,0.1,lst_chd=lst_chd,lst_domain=lst_domain,grid=grid)\n",
    "Cant_chd = Complete_riv(Cant_path,Cant_stations,140,0.1,lst_chd=lst_chd,lst_domain=lst_domain,grid=grid)\n",
    "Rea_chd = Complete_riv(Rea_path,Rea_stations,100,0.1,lst_chd=lst_chd,lst_domain=lst_domain,grid=grid)\n",
    "Tet_chd = Complete_riv(Tet_path,Tet_stations,180,0.1,lst_chd=lst_chd,lst_domain=lst_domain,grid=grid)\n",
    "Bol_chd = Complete_riv(Bol_path,Bol_stations,180,0.1,lst_chd=lst_chd,lst_domain=lst_domain,grid=grid)\n",
    "\n",
    "lst_riv_chd=[Agy_chd,Tech_chd,Cant_chd,Rea_chd,Tet_chd,Bol_chd]\n",
    "cond = [0.01,0.01,0.01,0.01,0.01,0.01]\n",
    "\n",
    "for iriv in range(len(lst_riv_chd)):\n",
    "    chd2riv(lst_riv_chd[iriv],cond[iriv],2)"
   ]
  },
  {
   "cell_type": "code",
   "execution_count": 13,
   "metadata": {},
   "outputs": [],
   "source": [
    "# extraction\n",
    "path = \"../../data/prélèvements/BD_FORAGES_SMNPR/SMNPRV2.shp\"\n",
    "\n",
    "stress_data_well = importWells3D(path,grid,lst_domain,fac=1/365/86400,V_col=\"V_A_AEMRC\", geol_col=\"NAPPE_CAPT\",\n",
    "                                 geol_layer=[\"PLIOCENE\",\"QUATERNAIRE\"],layer_num=[[2,3],0])"
   ]
  },
  {
   "cell_type": "code",
   "execution_count": 14,
   "metadata": {},
   "outputs": [],
   "source": [
    "#permea\n",
    "k = np.array([7.62e-04,0.25e-8,2.3e-05,2.8e-05])"
   ]
  },
  {
   "cell_type": "code",
   "execution_count": 15,
   "metadata": {},
   "outputs": [
    {
     "name": "stderr",
     "output_type": "stream",
     "text": [
      "C:\\Users\\emmal\\Anaconda3\\lib\\site-packages\\xlrd\\xlsx.py:266: PendingDeprecationWarning: This method will be removed in future versions.  Use 'tree.iter()' or 'list(tree.iter())' instead.\n",
      "  for elem in self.tree.iter() if Element_has_iter else self.tree.getiterator():\n",
      "C:\\Users\\emmal\\Anaconda3\\lib\\site-packages\\xlrd\\xlsx.py:312: PendingDeprecationWarning: This method will be removed in future versions.  Use 'tree.iter()' or 'list(tree.iter())' instead.\n",
      "  for elem in self.tree.iter() if Element_has_iter else self.tree.getiterator():\n",
      "C:\\Users\\emmal\\Anaconda3\\lib\\site-packages\\xlrd\\xlsx.py:266: PendingDeprecationWarning: This method will be removed in future versions.  Use 'tree.iter()' or 'list(tree.iter())' instead.\n",
      "  for elem in self.tree.iter() if Element_has_iter else self.tree.getiterator():\n"
     ]
    }
   ],
   "source": [
    "# control piezos\n",
    "piez_path=\"../../data/piezos/pz_hydriad.xlsx\"\n",
    "\n",
    "#import the data using ImportControlPz3D (path,modelgrid, sheetname of the data,piezometric level column, x and y coor (in L93 !))\n",
    "geol_layer = [\"Quaternaire\",\"Pliocène\"]\n",
    "geol_col = \"AquifèreCapté\"\n",
    "Control_Pz = ImportControlPz3D(piez_path,sheet_name=\"2012\",geol_layer=geol_layer,layer_num=[0,2],geol_col=geol_col,\n",
    "                               grid=grid,nlay=nlay,np_col = \"NP_Avril2013\")"
   ]
  },
  {
   "cell_type": "code",
   "execution_count": 16,
   "metadata": {},
   "outputs": [],
   "source": [
    "#recharge\n",
    "rch_path = \"../../data/recharge/rast_peff2.tif\"\n",
    "rcha = import_rch(rch_path,grid)\n",
    "\n",
    "rch_lst=[]\n",
    "for icell in Up_cells_act:\n",
    "    irow = icell[1]\n",
    "    icol = icell[2]\n",
    "    rch_lst.append(((icell),rcha[irow,icol]/1000/365/86400))"
   ]
  },
  {
   "cell_type": "code",
   "execution_count": 17,
   "metadata": {},
   "outputs": [],
   "source": [
    "## Thuir\n",
    "BDcells = cellidBD(idomain,layer=2)\n",
    "\n",
    "ix = GridIntersect(grid)\n",
    "poly = Polygon([(674e3,616.8e4),(674e3,617.4e4),(678e3,617.4e4),(678e3,616.8e4)])\n",
    "layer = 2\n",
    "plio_chd = []\n",
    "for cellid in ix.intersect_polygon(poly).cellids:\n",
    "    cell = (layer,cellid[0],cellid[1])\n",
    "    if cell in BDcells:\n",
    "        plio_chd.append((cell,120))"
   ]
  },
  {
   "cell_type": "code",
   "execution_count": 18,
   "metadata": {},
   "outputs": [],
   "source": [
    "# Corbières\n",
    "BDcells = cellidBD(idomain,layer=0)\n",
    "poly = Polygon([(685e3,618.7e4),(685e3,619.5e4),(696e3,619.5e4),(696e3,618.7e4)])\n",
    "layer = 0\n",
    "Corb_spd = []\n",
    "Corb_lst = []\n",
    "flux = 0.2\n",
    "res = ix.intersect_polygon(poly)\n",
    "for cellid in res.cellids:\n",
    "    cell = (layer,cellid[0],cellid[1])\n",
    "    if cell in BDcells:\n",
    "        Corb_lst.append(cell)\n",
    "n_cells = len(Corb_lst)\n",
    "\n",
    "for cell in Corb_lst:\n",
    "    Corb_spd.append((cell,flux/n_cells))"
   ]
  },
  {
   "cell_type": "code",
   "execution_count": 19,
   "metadata": {},
   "outputs": [],
   "source": [
    "# basic modules\n",
    "sim = fp.mf6.MFSimulation(sim_name='first3D_mf6', version='mf6', exe_name=exe_name, \n",
    "                         sim_ws=model_dir)\n",
    "gwf = fp.mf6.ModflowGwf(sim, modelname=model_name,\n",
    "                           model_nam_file='{}.nam'.format(model_name))\n",
    "dis = fp.mf6.ModflowGwfdis(gwf, nlay=nlay, nrow=nrow, ncol=ncol,\n",
    "                              delr=delr, delc=delc,\n",
    "                              top=top, botm=botm,xorigin=x0,yorigin=y0,idomain=idomain)\n",
    "\n",
    "tdis = fp.mf6.ModflowTdis(sim, time_units='SECONDS',perioddata=[[1.0, 1, 1.]])\n",
    "ims  = fp.mf6.ModflowIms(sim, print_option='SUMMARY', complexity=\"simple\")\n",
    "\n",
    "# initial conditions\n",
    "ic   = fp.mf6.ModflowGwfic(gwf,strt=botm+1)\n",
    "\n",
    "# output control\n",
    "oc   = fp.mf6.ModflowGwfoc(gwf,budget_filerecord='{}.cbc'.format(model_name),\n",
    "                            head_filerecord='{}.hds'.format(model_name),\n",
    "                            saverecord=[('HEAD', 'LAST'),\n",
    "                                        ('BUDGET', 'LAST')],\n",
    "                            printrecord=[('BUDGET', 'ALL')])\n",
    "\n",
    "# nodeflowproperty\n",
    "npf  = fp.mf6.ModflowGwfnpf(gwf, icelltype=0, k=k,save_flows=True)\n",
    "\n",
    "#well\n",
    "wel = fp.mf6.ModflowGwfwel(gwf,pname=\"wel\",maxbound=len(stress_data_well),\n",
    "                           stress_period_data=stress_data_well,save_flows=True)\n",
    "\n",
    "# recharge\n",
    "rch = fp.mf6.ModflowGwfrch(gwf,pname = \"rch\",maxbound=len(rch_lst),stress_period_data=rch_lst,save_flows=True)\n",
    "\n",
    "#Corbières\n",
    "Corb = fp.mf6.ModflowGwfwel(gwf,pname=\"Corb\",filename=\"Corb.wel\",maxbound=len(Corb_spd),\n",
    "                            stress_period_data=Corb_spd,save_flows=True)\n",
    "\n",
    "#constant heads\n",
    "chd = fp.mf6.modflow.mfgwfchd.ModflowGwfchd(gwf, pname='sea', filename=\"sea.chd\", maxbound=len(chd_lst), \n",
    "                                               stress_period_data={0: chd_lst}, save_flows=True)\n",
    "\n",
    "thuir = fp.mf6.modflow.mfgwfchd.ModflowGwfchd(gwf, pname='thuir', filename=\"thuir.chd\", maxbound=len(plio_chd), \n",
    "                                                       stress_period_data={0: plio_chd}, save_flows=True)\n",
    "\n",
    "#etangs\n",
    "etangs = fp.mf6.modflow.mfgwfdrn.ModflowGwfdrn(gwf,pname=\"eta\",filename=\"eta.drn\",maxbound=len(et_drn_lst),\n",
    "                                              stress_period_data=et_drn_lst,save_flows=True)\n",
    "\n",
    "#rivers\n",
    "Agly = fp.mf6.modflow.mfgwfriv.ModflowGwfriv(gwf,pname=\"agly\",filename=\"agly.riv\",maxbound=len(Agy_chd),\n",
    "                                                stress_period_data={0: Agy_chd}, save_flows=True)\n",
    "\n",
    "Riv2 = fp.mf6.modflow.mfgwfriv.ModflowGwfriv(gwf, pname='Tet', filename=\"Tet.riv\", maxbound=len(Tet_chd), \n",
    "                                               stress_period_data={0: Tet_chd}, save_flows=True)\n",
    "\n",
    "Riv3 = fp.mf6.modflow.mfgwfriv.ModflowGwfriv(gwf, pname='Rea', filename=\"Rea.riv\", maxbound=len(Rea_chd), \n",
    "                                               stress_period_data={0: Rea_chd}, save_flows=True)\n",
    "\n",
    "Riv6 = fp.mf6.modflow.mfgwfriv.ModflowGwfriv(gwf, pname='Cant', filename=\"Cant.riv\", maxbound=len(Cant_chd), \n",
    "                                               stress_period_data={0: Cant_chd}, save_flows=True)\n",
    "\n",
    "Riv4 = fp.mf6.modflow.mfgwfriv.ModflowGwfriv(gwf, pname='Tech', filename=\"Tech.riv\", maxbound=len(Tech_chd), \n",
    "                                               stress_period_data={0: Tech_chd}, save_flows=True)\n",
    "\n",
    "Riv5 = fp.mf6.modflow.mfgwfriv.ModflowGwfriv(gwf, pname='Bol', filename=\"Bol.riv\", maxbound=len(Bol_chd), \n",
    "                                               stress_period_data={0: Bol_chd}, save_flows=True)\n"
   ]
  },
  {
   "cell_type": "code",
   "execution_count": 20,
   "metadata": {
    "scrolled": false
   },
   "outputs": [
    {
     "name": "stdout",
     "output_type": "stream",
     "text": [
      "writing simulation...\n",
      "  writing simulation name file...\n",
      "  writing simulation tdis package...\n",
      "  writing ims package ims_-1...\n",
      "  writing model test_3D...\n",
      "    writing model name file...\n",
      "    writing package dis...\n",
      "    writing package ic...\n",
      "    writing package oc...\n",
      "    writing package npf...\n",
      "    writing package wel...\n",
      "    writing package rch...\n",
      "    writing package corb...\n",
      "    writing package sea...\n",
      "    writing package eta...\n",
      "    writing package thuir...\n",
      "    writing package agly...\n",
      "    writing package tet...\n",
      "    writing package rea...\n",
      "    writing package cant...\n",
      "    writing package tech...\n",
      "    writing package bol...\n",
      "FloPy is using the following  executable to run the model: ../../exe/mf6.exe\n",
      "                                   MODFLOW 6\n",
      "                U.S. GEOLOGICAL SURVEY MODULAR HYDROLOGIC MODEL\n",
      "                            VERSION 6.0.4 03/13/2019\n",
      "\n",
      "   MODFLOW 6 compiled Mar 21 2019 15:37:31 with IFORT compiler (ver. 19.0.0)\n",
      "\n",
      "This software has been approved for release by the U.S. Geological \n",
      "Survey (USGS). Although the software has been subjected to rigorous \n",
      "review, the USGS reserves the right to update the software as needed \n",
      "pursuant to further analysis and review. No warranty, expressed or \n",
      "implied, is made by the USGS or the U.S. Government as to the \n",
      "functionality of the software and related material nor shall the \n",
      "fact of release constitute any such warranty. Furthermore, the \n",
      "software is released on condition that neither the USGS nor the U.S. \n",
      "Government shall be held liable for any damages resulting from its \n",
      "authorized or unauthorized use. Also refer to the USGS Water \n",
      "Resources Software User Rights Notice for complete use, copyright, \n",
      "and distribution information.\n",
      "\n",
      " Run start date and time (yyyy/mm/dd hh:mm:ss): 2020/05/08 19:33:27\n",
      "\n",
      " Writing simulation list file: mfsim.lst\n",
      " Using Simulation name file: mfsim.nam\n",
      " Solving:  Stress period:     1    Time step:     1\n",
      " Run end date and time (yyyy/mm/dd hh:mm:ss): 2020/05/08 19:33:29\n",
      " Elapsed run time:  2.468 Seconds\n",
      "\n",
      " Normal termination of simulation.\n"
     ]
    },
    {
     "data": {
      "text/plain": [
       "(True, [])"
      ]
     },
     "execution_count": 20,
     "metadata": {},
     "output_type": "execute_result"
    }
   ],
   "source": [
    "sim.write_simulation()\n",
    "sim.run_simulation()"
   ]
  },
  {
   "cell_type": "code",
   "execution_count": 22,
   "metadata": {},
   "outputs": [],
   "source": [
    "# retrieve the chd package name\n",
    "bdfile=[]\n",
    "for file in os.listdir(model_dir):\n",
    "    if file.endswith(\".chd\"):\n",
    "        bdfile.append(os.path.splitext(file)[0])\n",
    "\n",
    "rivfiles=[]\n",
    "for file in os.listdir(model_dir):\n",
    "    if file.endswith(\".riv\"):\n",
    "        rivfiles.append(os.path.splitext(file)[0])"
   ]
  },
  {
   "cell_type": "code",
   "execution_count": 38,
   "metadata": {},
   "outputs": [
    {
     "data": {
      "image/png": "[encoded data removed]",
      "text/plain": [
       "<Figure size 1224x1080 with 2 Axes>"
      ]
     },
     "metadata": {
      "needs_background": "light"
     },
     "output_type": "display_data"
    }
   ],
   "source": [
    "# retrieve heads and spdis \n",
    "head = get_heads(model_name,model_dir)\n",
    "#spdis = get_spdis(model_name,model_dir)\n",
    "\n",
    "# make a plot\n",
    "fig = plt.figure(figsize=(17,15))\n",
    "layer = 2\n",
    "ax  = plt.subplot(1, 1,1, aspect='equal')\n",
    "ml = fp.plot.PlotMapView(model=gwf,layer=layer)\n",
    "\n",
    "hmesh=ml.plot_array(head[layer],masked_values=[0,1e30],cmap=\"viridis\")\n",
    "hmesh.set_clim(0,170)\n",
    "cont=ml.contour_array(head[layer],masked_values=[0,1e30],levels=np.linspace(0,170,18),cmap=\"jet\")\n",
    "\n",
    "# plot bc\n",
    "ml.plot_bc(\"sea\",color=\"b\",alpha=0.5)\n",
    "\n",
    "for riv in rivfiles:\n",
    "    ml.plot_bc(riv,color=\"lightblue\",alpha=0.5)\n",
    "\n",
    "ml.plot_bc(\"eta\",color=\"b\",alpha=0.5)\n",
    "ml.plot_bc(\"wel\")\n",
    "ml.plot_bc(\"Corb\")\n",
    "# plot Cross-section\n",
    "row = 60\n",
    "x = [x0,x1]\n",
    "y = [y1-(row+.5)*delc,y1-(row+.5)*delc]\n",
    "ax.plot(x,y,\"k\",linewidth=3)\n",
    "\n",
    "\n",
    "ax.tick_params(labelsize=15)\n",
    "\n",
    "g = plt.colorbar(cont)\n",
    "g.set_label(\"Head [m]\",fontsize=15)\n",
    "g.ax.tick_params(labelsize=15)\n",
    "\n",
    "ax.grid()"
   ]
  },
  {
   "cell_type": "code",
   "execution_count": 39,
   "metadata": {},
   "outputs": [
    {
     "data": {
      "text/plain": [
       "<matplotlib.collections.PatchCollection at 0x1c4a90802c8>"
      ]
     },
     "execution_count": 39,
     "metadata": {},
     "output_type": "execute_result"
    },
    {
     "data": {
      "image/png": "[encoded data removed]",
      "text/plain": [
       "<Figure size 2160x576 with 2 Axes>"
      ]
     },
     "metadata": {
      "needs_background": "light"
     },
     "output_type": "display_data"
    }
   ],
   "source": [
    "fig,ax = plt.subplots(figsize=(30,8))\n",
    "x=fp.plot.PlotCrossSection(gwf,line={\"row\" :row})\n",
    "\n",
    "arr=x.plot_array(head,masked_values=[1e30],head=head)\n",
    "plt.colorbar(arr)\n",
    "arr.set_clim(0,170)\n",
    "x.plot_ibound()\n",
    "x.plot_grid()\n",
    "ax.set_ylim(-300,400)\n",
    "x.plot_bc(\"sea\")"
   ]
  },
  {
   "cell_type": "code",
   "execution_count": 40,
   "metadata": {},
   "outputs": [
    {
     "name": "stdout",
     "output_type": "stream",
     "text": [
      "TOTAL IN: 4.9699478 m3/s\n",
      "TOTAL OUT: 4.969607999999999 m3/s\n"
     ]
    },
    {
     "data": {
      "image/png": "[encoded data removed]",
      "text/plain": [
       "<Figure size 576x288 with 1 Axes>"
      ]
     },
     "metadata": {
      "needs_background": "light"
     },
     "output_type": "display_data"
    }
   ],
   "source": [
    "#total budget\n",
    "fig,ax = plt.subplots(figsize=(8,4))\n",
    "Budget = get_Total_Budget(model_name,model_dir)\n",
    "Budget.set_index(\"Pack\").plot(kind=\"bar\",ax=ax)\n",
    "print(\"TOTAL IN: {} m3/s\".format(Budget.sum()[\"IN\"]));\n",
    "print(\"TOTAL OUT: {} m3/s\".format(Budget.sum()[\"OUT\"]));"
   ]
  },
  {
   "cell_type": "code",
   "execution_count": 41,
   "metadata": {},
   "outputs": [
    {
     "name": "stdout",
     "output_type": "stream",
     "text": [
      "Misfit : 4.1220156604455935 m \n"
     ]
    },
    {
     "data": {
      "text/plain": [
       "<matplotlib.colorbar.Colorbar at 0x1c4aa21da48>"
      ]
     },
     "execution_count": 41,
     "metadata": {},
     "output_type": "execute_result"
    },
    {
     "data": {
      "image/png": "[encoded data removed]",
      "text/plain": [
       "<Figure size 1080x360 with 2 Axes>"
      ]
     },
     "metadata": {
      "needs_background": "light"
     },
     "output_type": "display_data"
    }
   ],
   "source": [
    "##make different color for each layer\n",
    "color = np.ones([nlay,nrow,ncol])\n",
    "color[0] = 1 # Q\n",
    "color[2] = 2 # P\n",
    "color = color.reshape(nlay*nrow*ncol)\n",
    "##\n",
    "\n",
    "Control_pz = Control_Pz.reshape(nlay*nrow*ncol)\n",
    "head = head.reshape(nlay*nrow*ncol)\n",
    "head[head>1000]=None\n",
    "\n",
    "fig=plt.figure(figsize=(15,5))\n",
    "plt.scatter(Control_pz[Control_pz!=0],\n",
    "            head[Control_pz!=0],s=4,c = color[Control_pz!=0],cmap=\"viridis\")\n",
    "\n",
    "plt.plot(np.arange(180),np.arange(180),\"k\")\n",
    "plt.xlabel(\"measured head [m]\")\n",
    "plt.ylabel(\"simulated head [m]\")\n",
    "plt.title(\"fit measured vs simulated\")\n",
    "Misfit = np.abs((Control_pz[Control_pz!=0] - head[Control_pz!=0]))\n",
    "print(\"Misfit : {} m \".format(np.nanmean(Misfit)))\n",
    "plt.colorbar()"
   ]
  },
  {
   "cell_type": "code",
   "execution_count": 32,
   "metadata": {},
   "outputs": [
    {
     "data": {
      "image/png": "[encoded data removed]",
      "text/plain": [
       "<Figure size 1008x1008 with 2 Axes>"
      ]
     },
     "metadata": {
      "needs_background": "light"
     },
     "output_type": "display_data"
    }
   ],
   "source": [
    "head[Control_pz==0]=None\n",
    "fig,ax=plt.subplots(figsize=(14,14))\n",
    "a=plt.imshow((Control_pz - head).reshape(nlay,nrow,ncol)[0],extent=[x0,x1,y0,y1],cmap=\"jet_r\")\n",
    "plt.title(\"Differences measured heads vs simulated heads\")\n",
    "plt.xlim(x0,x1-2.7e4)\n",
    "plt.colorbar()\n",
    "plt.grid()\n",
    "ecart = 10\n",
    "a.set_clim(-ecart,ecart)"
   ]
  },
  {
   "cell_type": "code",
   "execution_count": 31,
   "metadata": {},
   "outputs": [],
   "source": [
    "def Misfit(kh):\n",
    "    \n",
    "    fp.mf6.mfpackage.MFPackage(gwf,package_type=\"npf\").remove()# remove pre-existing npf package\n",
    "    \n",
    "    K = np.ones([nlay,nrow,ncol])\n",
    "    K[0] = kh[0]\n",
    "    K[1] = 0.25e-8\n",
    "    K[2] = kh[1]\n",
    "    K[3] = kh[2]\n",
    "    npf  = fp.mf6.ModflowGwfnpf(gwf, icelltype=0, k=K) # create the new npf package\n",
    "    npf.write()\n",
    "    \n",
    "    if sim.run_simulation(silent = True): # And RUN !\n",
    "        head = get_heads(model_name,model_dir)\n",
    "        head[head>1000]=None\n",
    "        head = head.reshape(nlay*nrow*ncol)\n",
    "        \n",
    "    return np.nanmean(np.abs((Control_pz[Control_pz!=0] - head[Control_pz!=0])))"
   ]
  },
  {
   "cell_type": "code",
   "execution_count": 168,
   "metadata": {},
   "outputs": [
    {
     "data": {
      "text/plain": [
       " final_simplex: (array([[1.19152723e-03, 4.43561720e-07, 8.64822410e-05],\n",
       "       [1.18988880e-03, 4.46042151e-07, 8.73041316e-05],\n",
       "       [1.18768236e-03, 4.43373094e-07, 8.71530727e-05],\n",
       "       [1.18286480e-03, 4.41163678e-07, 8.60928551e-05]]), array([4.26825552, 4.26828343, 4.26832406, 4.26833089]))\n",
       "           fun: 4.268255519509753\n",
       "       message: 'Optimization terminated successfully.'\n",
       "          nfev: 161\n",
       "           nit: 89\n",
       "        status: 0\n",
       "       success: True\n",
       "             x: array([1.19152723e-03, 4.43561720e-07, 8.64822410e-05])"
      ]
     },
     "execution_count": 168,
     "metadata": {},
     "output_type": "execute_result"
    }
   ],
   "source": [
    "#minimize(Misfit,[4e-4,3e-6,2e-4],method=\"Nelder-Mead\")"
   ]
  },
  {
   "cell_type": "markdown",
   "metadata": {},
   "source": [
    "### budget by zones (in progress...)"
   ]
  },
  {
   "cell_type": "code",
   "execution_count": 43,
   "metadata": {},
   "outputs": [],
   "source": [
    "cbc = get_cbc(model_name,model_dir)\n",
    "\n",
    "fname = os.path.join(model_dir, '{}.dis.grb'.format(model_name))\n",
    "bgf = fp.utils.mfgrdfile.MfGrdFile(fname)\n",
    "ia = bgf._datadict['IA'] - 1\n",
    "ja = bgf._datadict['JA'] - 1"
   ]
  },
  {
   "cell_type": "code",
   "execution_count": 55,
   "metadata": {},
   "outputs": [],
   "source": [
    "#create the zones\n",
    "a = np.array([1,2,3,4])\n",
    "a = a[np.newaxis,np.newaxis,:]\n",
    "zones = np.ones([nlay,nrow,ncol])*a.T\n",
    "zones[idomain==0]=0"
   ]
  },
  {
   "cell_type": "code",
   "execution_count": 58,
   "metadata": {},
   "outputs": [],
   "source": [
    "#number of zones\n",
    "nzones = get_nzones(zones)"
   ]
  },
  {
   "cell_type": "code",
   "execution_count": 59,
   "metadata": {},
   "outputs": [],
   "source": [
    "# get intercells interzones position\n",
    "df_pos = get_dfpos(zones,ia,ja)"
   ]
  },
  {
   "cell_type": "code",
   "execution_count": 60,
   "metadata": {},
   "outputs": [],
   "source": [
    "FluxZZ = flow_zz(cbc,df_pos,zones,kstpkper=(0,0))"
   ]
  },
  {
   "cell_type": "code",
   "execution_count": 61,
   "metadata": {
    "scrolled": false
   },
   "outputs": [],
   "source": [
    "# total budgets for 1st stress period\n",
    "DF_pack = flow_pack(cbc,zones)\n",
    "\n",
    "#append the two dataframes\n",
    "df_zz = pd.DataFrame(FluxZZ)\n",
    "col = np.zeros(nzones*2,dtype=int) # use same columns name because pd concat is stupid\n",
    "df_zz.columns=col\n",
    "\n",
    "DF_Budg = pd.concat([DF_pack,df_zz])# Union <3"
   ]
  },
  {
   "cell_type": "code",
   "execution_count": 62,
   "metadata": {},
   "outputs": [],
   "source": [
    "#index for the dataframe\n",
    "pack_list = index_pack(cbc,zones,1)"
   ]
  },
  {
   "cell_type": "code",
   "execution_count": 63,
   "metadata": {},
   "outputs": [],
   "source": [
    "#create index, multicol, and have fun\n",
    "lst_z=[]\n",
    "for z in range(1,nzones+1):\n",
    "    lst_z.append(\"zone {}\".format(z))\n",
    "columns = pd.MultiIndex.from_product([lst_z, ['FROM', 'TO']]) \n",
    "index = pack_list\n",
    "DF_Budg = pd.DataFrame(DF_Budg.values,index=index,columns=columns)"
   ]
  },
  {
   "cell_type": "code",
   "execution_count": 64,
   "metadata": {},
   "outputs": [],
   "source": [
    "# remove excedent budget from sea\n",
    "mask = DF_Budg.loc[\"SEA\"]!=0\n",
    "DF_Budg.loc[\"SEA\"][mask] = DF_Budg.loc[\"SEA\"][mask]-DF_Budg.loc[\"SEA\"][mask].min()"
   ]
  },
  {
   "cell_type": "code",
   "execution_count": 53,
   "metadata": {},
   "outputs": [],
   "source": [
    "#plots\n",
    "\n",
    "if os.path.exists('pictures'):\n",
    "    shutil.rmtree('pictures')\n",
    "os.makedirs(\"pictures\")\n",
    "\n",
    "z_list = DF_Budg.index[-nzones:]\n",
    "I_O_list = [\"TO\",\"FROM\"]\n",
    "\n",
    "\n",
    "for z in z_list:\n",
    "    for IN_OUT in I_O_list:\n",
    "        fig,ax = plt.subplots(figsize=(9,9))\n",
    "        labels = DF_Budg[DF_Budg[z][IN_OUT]!=0].index\n",
    "        data = DF_Budg[z][IN_OUT][DF_Budg[z][IN_OUT]!=0].values\n",
    "        data_pourc = DF_Budg[z][IN_OUT][DF_Budg[z][IN_OUT]!=0]/DF_Budg[z][IN_OUT][DF_Budg[z][IN_OUT]!=0].sum()\n",
    "        \n",
    "        wedges, texts,pct = ax.pie(data_pourc.values,pctdistance=0.8,\n",
    "                                   wedgeprops=dict(width=0.5),autopct='%1.1f%%', startangle=0)\n",
    "\n",
    "        bbox_props = dict(boxstyle=\"square,pad=0.3\", fc=\"w\", ec=\"k\", lw=0)\n",
    "        kw = dict(arrowprops=dict(arrowstyle=\"<-\"),\n",
    "                  bbox=bbox_props, zorder=0, va=\"center\")\n",
    "        xt = -5\n",
    "        yt = -5\n",
    "        ### arrows\n",
    "        for i, p in enumerate(wedges):\n",
    "            xta = xt\n",
    "            yta = yt\n",
    "            ang = (p.theta2 - p.theta1)/2. + p.theta1\n",
    "            y = np.sin(np.deg2rad(ang))\n",
    "            x = np.cos(np.deg2rad(ang))\n",
    "            xt = 1.3*np.sign(x)\n",
    "            yt = 1.2*y\n",
    "            if xt != xt:\n",
    "                while((yta-yt)**2)< 0.01:\n",
    "                    if yt >= yta:\n",
    "                        yt += 0.01\n",
    "                    else:\n",
    "                        yt -= 0.01\n",
    "            horizontalalignment = {-1: \"right\", 1: \"left\"}[int(np.sign(x))]\n",
    "            connectionstyle = \"angle,angleA=0,angleB={}\".format(ang)\n",
    "            kw[\"arrowprops\"].update({\"connectionstyle\": connectionstyle})\n",
    "            annote = np.round(data[i],2)\n",
    "            ax.annotate(annote, xy=(x, y), xytext=(xt,yt),\n",
    "                        horizontalalignment=horizontalalignment, **kw)\n",
    "        ###\n",
    "\n",
    "        ax.set_title(\"{} : {}\".format(z,IN_OUT))\n",
    "        ax.set_position([0.1,0.1,0.5,0.7])\n",
    "        ax.legend(wedges,labels,bbox_to_anchor=(1.5, 1))\n",
    "        ax.text(-0.33,0,\"TOTAL : {} m$^3/$s\".format(np.round(data.sum(),3)))\n",
    "        fig.savefig('pictures/{}_{}.png'.format(z,IN_OUT))\n",
    "        plt.close()\n"
   ]
  },
  {
   "cell_type": "code",
   "execution_count": 54,
   "metadata": {},
   "outputs": [
    {
     "data": {
      "text/html": [
       "<div>\n",
       "<style scoped>\n",
       "    .dataframe tbody tr th:only-of-type {\n",
       "        vertical-align: middle;\n",
       "    }\n",
       "\n",
       "    .dataframe tbody tr th {\n",
       "        vertical-align: top;\n",
       "    }\n",
       "\n",
       "    .dataframe thead tr th {\n",
       "        text-align: left;\n",
       "    }\n",
       "</style>\n",
       "<table border=\"1\" class=\"dataframe\">\n",
       "  <thead>\n",
       "    <tr>\n",
       "      <th></th>\n",
       "      <th colspan=\"2\" halign=\"left\">zone 1</th>\n",
       "      <th colspan=\"2\" halign=\"left\">zone 2</th>\n",
       "      <th colspan=\"2\" halign=\"left\">zone 3</th>\n",
       "      <th colspan=\"2\" halign=\"left\">zone 4</th>\n",
       "    </tr>\n",
       "    <tr>\n",
       "      <th></th>\n",
       "      <th>FROM</th>\n",
       "      <th>TO</th>\n",
       "      <th>FROM</th>\n",
       "      <th>TO</th>\n",
       "      <th>FROM</th>\n",
       "      <th>TO</th>\n",
       "      <th>FROM</th>\n",
       "      <th>TO</th>\n",
       "    </tr>\n",
       "  </thead>\n",
       "  <tbody>\n",
       "    <tr>\n",
       "      <td>WEL</td>\n",
       "      <td>/</td>\n",
       "      <td>0.498326</td>\n",
       "      <td>/</td>\n",
       "      <td>/</td>\n",
       "      <td>/</td>\n",
       "      <td>0.498805</td>\n",
       "      <td>/</td>\n",
       "      <td>0.503805</td>\n",
       "    </tr>\n",
       "    <tr>\n",
       "      <td>COR</td>\n",
       "      <td>0.2</td>\n",
       "      <td>/</td>\n",
       "      <td>/</td>\n",
       "      <td>/</td>\n",
       "      <td>/</td>\n",
       "      <td>/</td>\n",
       "      <td>/</td>\n",
       "      <td>/</td>\n",
       "    </tr>\n",
       "    <tr>\n",
       "      <td>ETA</td>\n",
       "      <td>/</td>\n",
       "      <td>0.754888</td>\n",
       "      <td>/</td>\n",
       "      <td>/</td>\n",
       "      <td>/</td>\n",
       "      <td>/</td>\n",
       "      <td>/</td>\n",
       "      <td>/</td>\n",
       "    </tr>\n",
       "    <tr>\n",
       "      <td>AGL</td>\n",
       "      <td>0.00506776</td>\n",
       "      <td>0.28675</td>\n",
       "      <td>/</td>\n",
       "      <td>/</td>\n",
       "      <td>/</td>\n",
       "      <td>/</td>\n",
       "      <td>/</td>\n",
       "      <td>/</td>\n",
       "    </tr>\n",
       "    <tr>\n",
       "      <td>TET</td>\n",
       "      <td>0.129011</td>\n",
       "      <td>1.05039</td>\n",
       "      <td>/</td>\n",
       "      <td>/</td>\n",
       "      <td>/</td>\n",
       "      <td>0.0135793</td>\n",
       "      <td>/</td>\n",
       "      <td>/</td>\n",
       "    </tr>\n",
       "    <tr>\n",
       "      <td>REA</td>\n",
       "      <td>0.0901971</td>\n",
       "      <td>0.127265</td>\n",
       "      <td>/</td>\n",
       "      <td>/</td>\n",
       "      <td>0.0814939</td>\n",
       "      <td>0.104608</td>\n",
       "      <td>/</td>\n",
       "      <td>/</td>\n",
       "    </tr>\n",
       "    <tr>\n",
       "      <td>CAN</td>\n",
       "      <td>/</td>\n",
       "      <td>/</td>\n",
       "      <td>/</td>\n",
       "      <td>/</td>\n",
       "      <td>0.169523</td>\n",
       "      <td>0.126242</td>\n",
       "      <td>/</td>\n",
       "      <td>/</td>\n",
       "    </tr>\n",
       "    <tr>\n",
       "      <td>TEC</td>\n",
       "      <td>0.0875677</td>\n",
       "      <td>0.268123</td>\n",
       "      <td>/</td>\n",
       "      <td>/</td>\n",
       "      <td>/</td>\n",
       "      <td>/</td>\n",
       "      <td>/</td>\n",
       "      <td>/</td>\n",
       "    </tr>\n",
       "    <tr>\n",
       "      <td>BOL</td>\n",
       "      <td>0.481317</td>\n",
       "      <td>0.00780796</td>\n",
       "      <td>/</td>\n",
       "      <td>/</td>\n",
       "      <td>/</td>\n",
       "      <td>/</td>\n",
       "      <td>/</td>\n",
       "      <td>/</td>\n",
       "    </tr>\n",
       "    <tr>\n",
       "      <td>RCH</td>\n",
       "      <td>2.35873</td>\n",
       "      <td>/</td>\n",
       "      <td>/</td>\n",
       "      <td>/</td>\n",
       "      <td>0.982685</td>\n",
       "      <td>/</td>\n",
       "      <td>0.0284641</td>\n",
       "      <td>/</td>\n",
       "    </tr>\n",
       "    <tr>\n",
       "      <td>SEA</td>\n",
       "      <td>/</td>\n",
       "      <td>0.665881</td>\n",
       "      <td>/</td>\n",
       "      <td>/</td>\n",
       "      <td>/</td>\n",
       "      <td>/</td>\n",
       "      <td>/</td>\n",
       "      <td>/</td>\n",
       "    </tr>\n",
       "    <tr>\n",
       "      <td>THU</td>\n",
       "      <td>/</td>\n",
       "      <td>/</td>\n",
       "      <td>/</td>\n",
       "      <td>/</td>\n",
       "      <td>0.292847</td>\n",
       "      <td>/</td>\n",
       "      <td>/</td>\n",
       "      <td>/</td>\n",
       "    </tr>\n",
       "    <tr>\n",
       "      <td>zone 1</td>\n",
       "      <td>/</td>\n",
       "      <td>/</td>\n",
       "      <td>0.498152</td>\n",
       "      <td>0.80568</td>\n",
       "      <td>/</td>\n",
       "      <td>/</td>\n",
       "      <td>/</td>\n",
       "      <td>/</td>\n",
       "    </tr>\n",
       "    <tr>\n",
       "      <td>zone 2</td>\n",
       "      <td>0.80568</td>\n",
       "      <td>0.498152</td>\n",
       "      <td>/</td>\n",
       "      <td>/</td>\n",
       "      <td>0.479254</td>\n",
       "      <td>0.681278</td>\n",
       "      <td>0.0188948</td>\n",
       "      <td>0.124398</td>\n",
       "    </tr>\n",
       "    <tr>\n",
       "      <td>zone 3</td>\n",
       "      <td>/</td>\n",
       "      <td>/</td>\n",
       "      <td>0.681278</td>\n",
       "      <td>0.479254</td>\n",
       "      <td>/</td>\n",
       "      <td>/</td>\n",
       "      <td>1.14556</td>\n",
       "      <td>0.564154</td>\n",
       "    </tr>\n",
       "    <tr>\n",
       "      <td>zone 4</td>\n",
       "      <td>/</td>\n",
       "      <td>/</td>\n",
       "      <td>0.124398</td>\n",
       "      <td>0.0188948</td>\n",
       "      <td>0.564154</td>\n",
       "      <td>1.14556</td>\n",
       "      <td>/</td>\n",
       "      <td>/</td>\n",
       "    </tr>\n",
       "  </tbody>\n",
       "</table>\n",
       "</div>"
      ],
      "text/plain": [
       "            zone 1                zone 2                zone 3             \\\n",
       "              FROM          TO      FROM         TO       FROM         TO   \n",
       "WEL              /    0.498326         /          /          /   0.498805   \n",
       "COR            0.2           /         /          /          /          /   \n",
       "ETA              /    0.754888         /          /          /          /   \n",
       "AGL     0.00506776     0.28675         /          /          /          /   \n",
       "TET       0.129011     1.05039         /          /          /  0.0135793   \n",
       "REA      0.0901971    0.127265         /          /  0.0814939   0.104608   \n",
       "CAN              /           /         /          /   0.169523   0.126242   \n",
       "TEC      0.0875677    0.268123         /          /          /          /   \n",
       "BOL       0.481317  0.00780796         /          /          /          /   \n",
       "RCH        2.35873           /         /          /   0.982685          /   \n",
       "SEA              /    0.665881         /          /          /          /   \n",
       "THU              /           /         /          /   0.292847          /   \n",
       "zone 1           /           /  0.498152    0.80568          /          /   \n",
       "zone 2     0.80568    0.498152         /          /   0.479254   0.681278   \n",
       "zone 3           /           /  0.681278   0.479254          /          /   \n",
       "zone 4           /           /  0.124398  0.0188948   0.564154    1.14556   \n",
       "\n",
       "           zone 4            \n",
       "             FROM        TO  \n",
       "WEL             /  0.503805  \n",
       "COR             /         /  \n",
       "ETA             /         /  \n",
       "AGL             /         /  \n",
       "TET             /         /  \n",
       "REA             /         /  \n",
       "CAN             /         /  \n",
       "TEC             /         /  \n",
       "BOL             /         /  \n",
       "RCH     0.0284641         /  \n",
       "SEA             /         /  \n",
       "THU             /         /  \n",
       "zone 1          /         /  \n",
       "zone 2  0.0188948  0.124398  \n",
       "zone 3    1.14556  0.564154  \n",
       "zone 4          /         /  "
      ]
     },
     "execution_count": 54,
     "metadata": {},
     "output_type": "execute_result"
    }
   ],
   "source": [
    "DF_Budg.replace(0,\"/\")"
   ]
  },
  {
   "cell_type": "code",
   "execution_count": null,
   "metadata": {},
   "outputs": [],
   "source": []
  }
 ],
 "metadata": {
  "kernelspec": {
   "display_name": "Python 3",
   "language": "python",
   "name": "python3"
  },
  "language_info": {
   "codemirror_mode": {
    "name": "ipython",
    "version": 3
   },
   "file_extension": ".py",
   "mimetype": "text/x-python",
   "name": "python",
   "nbconvert_exporter": "python",
   "pygments_lexer": "ipython3",
   "version": "3.7.4"
  }
 },
 "nbformat": 4,
 "nbformat_minor": 2
}
