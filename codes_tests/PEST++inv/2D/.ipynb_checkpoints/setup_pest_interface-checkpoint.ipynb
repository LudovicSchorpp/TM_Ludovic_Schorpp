{
 "cells": [
  {
   "cell_type": "code",
   "execution_count": 1,
   "metadata": {},
   "outputs": [
    {
     "name": "stdout",
     "output_type": "stream",
     "text": [
      "flopy is installed in C:\\Users\\emmal\\Anaconda3\\lib\\site-packages\\flopy\n"
     ]
    }
   ],
   "source": [
    "import pyemu\n",
    "import numpy as np\n",
    "import matplotlib.pyplot as plt\n",
    "import pandas as pd\n",
    "import flopy as fp\n",
    "from flopy.utils.reference import SpatialReference\n",
    "import os\n",
    "import sys\n",
    "\n",
    "sys.path.append(\"../../modules\")\n",
    "# hand made functions\n",
    "from Rouss import *"
   ]
  },
  {
   "cell_type": "code",
   "execution_count": 2,
   "metadata": {},
   "outputs": [],
   "source": [
    "ws = \"workspace\"\n",
    "m_n_i = \"pest_2d_r\"\n",
    "m_n = \"pest_2D_R\"\n",
    "\n",
    "case = \"2D_test\""
   ]
  },
  {
   "cell_type": "code",
   "execution_count": 3,
   "metadata": {},
   "outputs": [
    {
     "name": "stdout",
     "output_type": "stream",
     "text": [
      "loading simulation...\n",
      "  loading simulation name file...\n",
      "  loading tdis package...\n",
      "  loading model gwf6...\n",
      "    loading package dis...\n",
      "    loading package ic...\n",
      "    loading package oc...\n",
      "    loading package obs...\n",
      "    loading package npf...\n",
      "    loading package rch...\n",
      "    loading package rch...\n",
      "    loading package rch...\n",
      "    loading package wel...\n",
      "    loading package wel...\n",
      "    loading package chd...\n",
      "    loading package chd...\n",
      "    loading package drn...\n",
      "    loading package riv...\n",
      "    loading package riv...\n",
      "    loading package riv...\n",
      "    loading package riv...\n",
      "    loading package riv...\n",
      "    loading package riv...\n",
      "  loading ims package pest_2d_r...\n"
     ]
    }
   ],
   "source": [
    "sim = fp.mf6.MFSimulation.load(sim_ws=ws)\n",
    "m = sim.get_model(m_n_i)"
   ]
  },
  {
   "cell_type": "code",
   "execution_count": 4,
   "metadata": {},
   "outputs": [
    {
     "data": {
      "text/plain": [
       "xul:664525; yul:6207475; rotation:0; proj4_str:None; units:meters; lenuni:2; length_multiplier:1.0"
      ]
     },
     "execution_count": 4,
     "metadata": {},
     "output_type": "execute_result"
    }
   ],
   "source": [
    "sr = SpatialReference(delr=m.dis.delr.array, delc=m.dis.delc.array, xll=m.dis.xorigin.array, yll=m.dis.yorigin.array)\n",
    "sr"
   ]
  },
  {
   "cell_type": "code",
   "execution_count": 5,
   "metadata": {},
   "outputs": [
    {
     "name": "stdout",
     "output_type": "stream",
     "text": [
      "2020-06-29 22:43:42.800770 starting: opening PstFrom.log for logging\n",
      "2020-06-29 22:43:42.800770 starting PstFrom process\n",
      "2020-06-29 22:43:42.808795 starting: setting up dirs\n",
      "2020-06-29 22:43:42.810821 starting: removing existing new_d 'template'\n",
      "2020-06-29 22:43:42.838982 finished: removing existing new_d 'template' took: 0:00:00.028161\n",
      "2020-06-29 22:43:42.838982 starting: copying original_d 'workspace' to new_d 'template'\n",
      "2020-06-29 22:43:42.921457 finished: copying original_d 'workspace' to new_d 'template' took: 0:00:00.082475\n",
      "2020-06-29 22:43:42.929482 finished: setting up dirs took: 0:00:00.120687\n"
     ]
    }
   ],
   "source": [
    "# empty pst object\n",
    "template_ws = \"template\"\n",
    "pf = pyemu.prototypes.PstFrom(original_d=ws, new_d=template_ws,\n",
    "                 remove_existing=True,\n",
    "                 longnames=True, spatial_reference=sr,\n",
    "                 zero_based=False)"
   ]
  },
  {
   "cell_type": "code",
   "execution_count": 6,
   "metadata": {},
   "outputs": [
    {
     "name": "stdout",
     "output_type": "stream",
     "text": [
      "2020-06-29 22:43:42.959731 starting: adding observations from tabular output file\n",
      "2020-06-29 22:43:42.961842 starting: reading list template\\heads2.csv\n",
      "2020-06-29 22:43:42.971910 finished: reading list template\\heads2.csv took: 0:00:00.010068\n",
      "2020-06-29 22:43:42.971910 starting: building insfile for tabular output file heads2.csv\n",
      "2020-06-29 22:43:43.002146 finished: building insfile for tabular output file heads2.csv took: 0:00:00.030236\n",
      "2020-06-29 22:43:43.002146 starting: adding observation from instruction file 'template\\heads2.csv.ins'\n",
      "2020-06-29 22:43:43.022296 finished: adding observation from instruction file 'template\\heads2.csv.ins' took: 0:00:00.020150\n",
      "2020-06-29 22:43:43.022296 finished: adding observations from tabular output file took: 0:00:00.062565\n"
     ]
    }
   ],
   "source": [
    "#add observation\n",
    "df = pd.read_csv(os.path.join(template_ws,\"heads2.csv\"),index_col=0)\n",
    "\n",
    "hds_df = pf.add_observations(\"heads2.csv\",insfile=\"heads2.csv.ins\",index_cols=\"time\",\n",
    "                use_cols=list(df.columns.values),prefix=\"hds\",obsgp=False)"
   ]
  },
  {
   "cell_type": "code",
   "execution_count": 7,
   "metadata": {},
   "outputs": [
    {
     "name": "stdout",
     "output_type": "stream",
     "text": [
      "noptmax:30, npar_adj:0, nnz_obs:122\n"
     ]
    },
    {
     "data": {
      "text/plain": [
       "<pyemu.pst.pst_handler.Pst at 0x13cfc933308>"
      ]
     },
     "execution_count": 7,
     "metadata": {},
     "output_type": "execute_result"
    }
   ],
   "source": [
    "pf.build_pst(\"{}.pst\".format(case))"
   ]
  },
  {
   "cell_type": "code",
   "execution_count": 8,
   "metadata": {},
   "outputs": [
    {
     "name": "stdout",
     "output_type": "stream",
     "text": [
      "spatial variogram\n"
     ]
    },
    {
     "data": {
      "image/png": "[encoded data removed]",
      "text/plain": [
       "<Figure size 576x288 with 1 Axes>"
      ]
     },
     "metadata": {
      "needs_background": "light"
     },
     "output_type": "display_data"
    }
   ],
   "source": [
    "v = pyemu.geostats.ExpVario(contribution=1.0,a=1000)\n",
    "grid_gs = pyemu.geostats.GeoStruct(variograms=v, transform='log')\n",
    "\n",
    "fig = plt.figure(figsize=(8,4))\n",
    "grid_gs.plot()\n",
    "print(\"spatial variogram\")"
   ]
  },
  {
   "cell_type": "code",
   "execution_count": 9,
   "metadata": {},
   "outputs": [
    {
     "data": {
      "text/plain": [
       "<matplotlib.image.AxesImage at 0x13cfde43148>"
      ]
     },
     "execution_count": 9,
     "metadata": {},
     "output_type": "execute_result"
    },
    {
     "data": {
      "image/png": "[encoded data removed]",
      "text/plain": [
       "<Figure size 432x288 with 1 Axes>"
      ]
     },
     "metadata": {
      "needs_background": "light"
     },
     "output_type": "display_data"
    }
   ],
   "source": [
    "za = m.dis.idomain.array[0]\n",
    "za[:,130:]=0\n",
    "plt.imshow(za)"
   ]
  },
  {
   "cell_type": "code",
   "execution_count": 10,
   "metadata": {
    "scrolled": true
   },
   "outputs": [
    {
     "name": "stdout",
     "output_type": "stream",
     "text": [
      "2020-06-29 22:43:44.260741 starting: adding pilotpoint type multiplier style parameters for file(s) ['k.txt']\n",
      "2020-06-29 22:43:44.260741 starting: loading array template\\k.txt\n",
      "2020-06-29 22:43:44.341270 finished: loading array template\\k.txt took: 0:00:00.080529\n",
      "2020-06-29 22:43:44.341270 loaded array 'k.txt' of shape (182, 183)\n",
      "2020-06-29 22:43:44.431876 starting: writing array-based template file 'kp_inst0_pilotpoint.csv.tpl'\n",
      "2020-06-29 22:43:44.431876 starting: setting up pilot point parameters\n",
      "2020-06-29 22:43:44.431876 No spatial reference (containing cell spacing) passed.\n",
      "2020-06-29 22:43:44.431876 OK - using spatial reference in parent object.\n",
      "2020-06-29 22:43:44.854793 46 pilot point parameters created\n",
      "2020-06-29 22:43:44.862844 pilot point 'pargp':kp_inst:0\n",
      "2020-06-29 22:43:44.862844 finished: setting up pilot point parameters took: 0:00:00.430968\n",
      "2020-06-29 22:43:44.874907 starting: calculating factors for pargp=kp_inst:0\n",
      "2020-06-29 22:43:44.882951 saving krige variance file:template\\kp_inst0pp.var.dat\n",
      "2020-06-29 22:43:44.882951 saving krige factors file:template\\kp_inst0pp.fac\n",
      "starting interp point loop for 33306 points\n",
      "starting 0\n",
      "starting 1\n",
      "starting 2\n",
      "starting 3\n",
      "starting 4\n",
      "starting 5\n",
      "starting 6\n",
      "starting 7\n",
      "starting 8\n",
      "starting 9\n",
      "took 78.955927 seconds\n",
      "2020-06-29 22:45:05.124368 finished: calculating factors for pargp=kp_inst:0 took: 0:01:20.249461\n",
      "2020-06-29 22:45:05.124368 starting: writing array-based template file 'kp_inst0pp.dat.tpl'\n",
      "2020-06-29 22:45:05.141508 starting: adding parameters for file(s) ['k.txt']\n"
     ]
    }
   ],
   "source": [
    "pf.add_parameters(filenames=\"k.txt\",par_type=\"pilotpoint\",pp_space=14,zone_array=za,\n",
    "                   par_name_base=\"kp\",pargp=\"hp\",\n",
    "                   upper_bound=100,lower_bound=0.01,ult_ubound=1e-3,ult_lbound=1e-6,geostruct=grid_gs)"
   ]
  },
  {
   "cell_type": "code",
   "execution_count": null,
   "metadata": {},
   "outputs": [],
   "source": []
  }
 ],
 "metadata": {
  "kernelspec": {
   "display_name": "Python 3",
   "language": "python",
   "name": "python3"
  },
  "language_info": {
   "codemirror_mode": {
    "name": "ipython",
    "version": 3
   },
   "file_extension": ".py",
   "mimetype": "text/x-python",
   "name": "python",
   "nbconvert_exporter": "python",
   "pygments_lexer": "ipython3",
   "version": "3.7.4"
  }
 },
 "nbformat": 4,
 "nbformat_minor": 2
}
