{
 "cells": [
  {
   "cell_type": "code",
   "execution_count": 1,
   "metadata": {},
   "outputs": [
    {
     "name": "stdout",
     "output_type": "stream",
     "text": [
      "flopy is installed in C:\\Users\\schorppl\\AppData\\Local\\Continuum\\anaconda3\\lib\\site-packages\\flopy\n"
     ]
    }
   ],
   "source": [
    "import pyemu\n",
    "import numpy as np\n",
    "import matplotlib.pyplot as plt\n",
    "import pandas as pd\n",
    "import flopy as fp\n",
    "from flopy.utils.reference import SpatialReference\n",
    "import os\n",
    "import sys\n",
    "\n",
    "sys.path.append(\"../../modules\")\n",
    "# hand made functions\n",
    "from Rouss import *"
   ]
  },
  {
   "cell_type": "code",
   "execution_count": 2,
   "metadata": {},
   "outputs": [],
   "source": [
    "ws = \"workspace\"\n",
    "m_n_i = \"pest_2d_r\"\n",
    "m_n = \"pest_2D_R\"\n",
    "\n",
    "case = \"2D_test\""
   ]
  },
  {
   "cell_type": "code",
   "execution_count": 3,
   "metadata": {},
   "outputs": [
    {
     "name": "stdout",
     "output_type": "stream",
     "text": [
      "loading simulation...\n",
      "  loading simulation name file...\n",
      "  loading tdis package...\n",
      "  loading model gwf6...\n",
      "    loading package dis...\n",
      "    loading package ic...\n",
      "    loading package oc...\n",
      "    loading package obs...\n",
      "    loading package npf...\n",
      "    loading package rch...\n",
      "    loading package rch...\n",
      "    loading package rch...\n",
      "    loading package wel...\n",
      "    loading package wel...\n",
      "    loading package chd...\n",
      "    loading package chd...\n",
      "    loading package drn...\n",
      "    loading package riv...\n",
      "    loading package riv...\n",
      "    loading package riv...\n",
      "    loading package riv...\n",
      "    loading package riv...\n",
      "    loading package riv...\n",
      "  loading ims package pest_2d_r...\n"
     ]
    }
   ],
   "source": [
    "sim = fp.mf6.MFSimulation.load(sim_ws=ws)\n",
    "m = sim.get_model(m_n_i)"
   ]
  },
  {
   "cell_type": "code",
   "execution_count": 4,
   "metadata": {},
   "outputs": [
    {
     "data": {
      "text/plain": [
       "xul:664525; yul:6207475; rotation:0; proj4_str:None; units:meters; lenuni:2; length_multiplier:1.0"
      ]
     },
     "execution_count": 4,
     "metadata": {},
     "output_type": "execute_result"
    }
   ],
   "source": [
    "sr = SpatialReference(delr=m.dis.delr.array, delc=m.dis.delc.array, xll=m.dis.xorigin.array, yll=m.dis.yorigin.array)\n",
    "sr"
   ]
  },
  {
   "cell_type": "code",
   "execution_count": 5,
   "metadata": {},
   "outputs": [
    {
     "name": "stdout",
     "output_type": "stream",
     "text": [
      "2020-06-30 09:24:58.356420 starting: opening PstFrom.log for logging\n",
      "2020-06-30 09:24:58.356420 starting PstFrom process\n",
      "2020-06-30 09:24:58.356420 starting: setting up dirs\n",
      "2020-06-30 09:24:58.366463 starting: removing existing new_d 'template'\n",
      "2020-06-30 09:24:59.406339 finished: removing existing new_d 'template' took: 0:00:01.039876\n",
      "2020-06-30 09:24:59.406339 starting: copying original_d 'workspace' to new_d 'template'\n",
      "2020-06-30 09:25:01.036618 finished: copying original_d 'workspace' to new_d 'template' took: 0:00:01.630279\n",
      "2020-06-30 09:25:01.046455 finished: setting up dirs took: 0:00:02.690035\n"
     ]
    }
   ],
   "source": [
    "# empty pst object\n",
    "template_ws = \"template\"\n",
    "pf = pyemu.prototypes.PstFrom(original_d=ws, new_d=template_ws,\n",
    "                 remove_existing=True,\n",
    "                 longnames=True, spatial_reference=sr,\n",
    "                 zero_based=False)"
   ]
  },
  {
   "cell_type": "code",
   "execution_count": 7,
   "metadata": {},
   "outputs": [
    {
     "name": "stdout",
     "output_type": "stream",
     "text": [
      "2020-06-30 09:25:36.740830 starting: adding observations from tabular output file\n",
      "2020-06-30 09:25:36.740830 starting: reading list template\\heads.csv\n",
      "2020-06-30 09:25:36.746378 finished: reading list template\\heads.csv took: 0:00:00.005548\n",
      "2020-06-30 09:25:36.756518 starting: building insfile for tabular output file heads.csv\n",
      "2020-06-30 09:25:36.776448 finished: building insfile for tabular output file heads.csv took: 0:00:00.019930\n",
      "2020-06-30 09:25:36.776448 starting: adding observation from instruction file 'template\\heads.csv.ins'\n",
      "2020-06-30 09:25:36.806374 finished: adding observation from instruction file 'template\\heads.csv.ins' took: 0:00:00.029926\n",
      "2020-06-30 09:25:36.806374 finished: adding observations from tabular output file took: 0:00:00.065544\n"
     ]
    }
   ],
   "source": [
    "#add observation\n",
    "df = pd.read_csv(os.path.join(template_ws,\"heads.csv\"),index_col=0)\n",
    "\n",
    "hds_df = pf.add_observations(\"heads.csv\",insfile=\"heads.csv.ins\",index_cols=\"time\",\n",
    "                use_cols=list(df.columns.values),prefix=\"hds\",obsgp=False)"
   ]
  },
  {
   "cell_type": "code",
   "execution_count": 8,
   "metadata": {},
   "outputs": [
    {
     "name": "stdout",
     "output_type": "stream",
     "text": [
      "noptmax:30, npar_adj:0, nnz_obs:122\n"
     ]
    },
    {
     "data": {
      "text/plain": [
       "<pyemu.pst.pst_handler.Pst at 0x22b73121588>"
      ]
     },
     "execution_count": 8,
     "metadata": {},
     "output_type": "execute_result"
    }
   ],
   "source": [
    "pf.build_pst(\"{}.pst\".format(case))"
   ]
  },
  {
   "cell_type": "code",
   "execution_count": 9,
   "metadata": {},
   "outputs": [
    {
     "name": "stdout",
     "output_type": "stream",
     "text": [
      "spatial variogram\n"
     ]
    },
    {
     "data": {
      "image/png": "[encoded data removed]",
      "text/plain": [
       "<Figure size 576x288 with 1 Axes>"
      ]
     },
     "metadata": {
      "needs_background": "light"
     },
     "output_type": "display_data"
    }
   ],
   "source": [
    "v = pyemu.geostats.ExpVario(contribution=1.0,a=5000)\n",
    "grid_gs = pyemu.geostats.GeoStruct(variograms=v, transform='log')\n",
    "\n",
    "fig = plt.figure(figsize=(8,4))\n",
    "grid_gs.plot()\n",
    "print(\"spatial variogram\")"
   ]
  },
  {
   "cell_type": "code",
   "execution_count": 10,
   "metadata": {},
   "outputs": [
    {
     "data": {
      "text/plain": [
       "<matplotlib.image.AxesImage at 0x22b7360ad48>"
      ]
     },
     "execution_count": 10,
     "metadata": {},
     "output_type": "execute_result"
    },
    {
     "data": {
      "image/png": "[encoded data removed]",
      "text/plain": [
       "<Figure size 432x288 with 1 Axes>"
      ]
     },
     "metadata": {
      "needs_background": "light"
     },
     "output_type": "display_data"
    }
   ],
   "source": [
    "za = m.dis.idomain.array[0] # zone array for pp\n",
    "za[:,130:]=0\n",
    "plt.imshow(za)"
   ]
  },
  {
   "cell_type": "code",
   "execution_count": 11,
   "metadata": {
    "scrolled": true
   },
   "outputs": [
    {
     "name": "stdout",
     "output_type": "stream",
     "text": [
      "2020-06-30 09:25:53.456054 starting: adding pilotpoint type multiplier style parameters for file(s) ['k.txt']\n",
      "2020-06-30 09:25:53.456054 starting: loading array template\\k.txt\n",
      "2020-06-30 09:25:53.586388 finished: loading array template\\k.txt took: 0:00:00.130334\n",
      "2020-06-30 09:25:53.586388 loaded array 'k.txt' of shape (182, 183)\n",
      "2020-06-30 09:25:53.746248 starting: writing array-based template file 'kp_inst0_pilotpoint.csv.tpl'\n",
      "2020-06-30 09:25:53.746248 starting: setting up pilot point parameters\n",
      "2020-06-30 09:25:53.746248 No spatial reference (containing cell spacing) passed.\n",
      "2020-06-30 09:25:53.746248 OK - using spatial reference in parent object.\n",
      "2020-06-30 09:25:54.146042 95 pilot point parameters created\n",
      "2020-06-30 09:25:54.146042 pilot point 'pargp':kp_inst:0\n",
      "2020-06-30 09:25:54.146042 finished: setting up pilot point parameters took: 0:00:00.399794\n",
      "2020-06-30 09:25:54.166474 starting: calculating factors for pargp=kp_inst:0\n",
      "2020-06-30 09:25:54.176279 saving krige variance file:template\\kp_inst0pp.var.dat\n",
      "2020-06-30 09:25:54.176279 saving krige factors file:template\\kp_inst0pp.fac\n",
      "starting interp point loop for 33306 points\n",
      "starting 0\n",
      "starting 1\n",
      "starting 2\n",
      "starting 3\n",
      "starting 4\n",
      "starting 5\n",
      "starting 6\n",
      "starting 7\n",
      "starting 8\n",
      "starting 9\n",
      "took 67.513786 seconds\n",
      "2020-06-30 09:27:03.434956 finished: calculating factors for pargp=kp_inst:0 took: 0:01:09.268482\n",
      "2020-06-30 09:27:03.434956 starting: writing array-based template file 'kp_inst0pp.dat.tpl'\n",
      "2020-06-30 09:27:03.469902 starting: adding parameters for file(s) ['k.txt']\n"
     ]
    }
   ],
   "source": [
    "pf.add_parameters(filenames=\"k.txt\",par_type=\"pilotpoint\",pp_space=10,zone_array=za,\n",
    "                   par_name_base=\"kp\",pargp=\"hp\",\n",
    "                   upper_bound=100,lower_bound=0.05,ult_ubound=1e-3,ult_lbound=5e-7,geostruct=grid_gs)"
   ]
  },
  {
   "cell_type": "code",
   "execution_count": 12,
   "metadata": {},
   "outputs": [
    {
     "name": "stdout",
     "output_type": "stream",
     "text": [
      "noptmax:30, npar_adj:95, nnz_obs:122\n"
     ]
    },
    {
     "data": {
      "text/plain": [
       "<pyemu.pst.pst_handler.Pst at 0x22b7369e748>"
      ]
     },
     "execution_count": 12,
     "metadata": {},
     "output_type": "execute_result"
    }
   ],
   "source": [
    "pf.build_pst(\"{}.pst\".format(case))"
   ]
  },
  {
   "cell_type": "code",
   "execution_count": 13,
   "metadata": {},
   "outputs": [
    {
     "name": "stdout",
     "output_type": "stream",
     "text": [
      "noptmax:30, npar_adj:95, nnz_obs:122\n",
      "2020-06-30 09:27:04.335135 forward_run line:pyemu.os_utils.run(r'..\\..\\..\\exe\\mf6')\n",
      "\n"
     ]
    },
    {
     "data": {
      "text/plain": [
       "<pyemu.pst.pst_handler.Pst at 0x22b71b06788>"
      ]
     },
     "execution_count": 13,
     "metadata": {},
     "output_type": "execute_result"
    }
   ],
   "source": [
    "# add run model command\n",
    "pf.mod_sys_cmds.append(\"..\\..\\..\\exe\\mf6\")\n",
    "pf.build_pst(\"{}.pst\".format(case))"
   ]
  },
  {
   "cell_type": "code",
   "execution_count": 14,
   "metadata": {},
   "outputs": [],
   "source": [
    "#Rewrite ins file because Pyemu isn't smart enough\n",
    "file = \"template/heads.csv.ins\"\n",
    "fileout = \"template/heads2.csv.ins\"\n",
    "with open(file) as f:\n",
    "    with open(fileout,\"w\") as fout:\n",
    "        for i,line in enumerate(f):\n",
    "            if i < 2:\n",
    "                fout.write(line)\n",
    "            if i > 1:\n",
    "                for o,split in enumerate(line.split(\"w\")):\n",
    "                    if o == 1:\n",
    "                        fout.write(\"~,~\")\n",
    "                    fout.write(split)\n",
    "                        \n",
    "from shutil import copyfile\n",
    "copyfile(fileout, file) # copy \n",
    "os.remove(fileout) # delete tmp file"
   ]
  },
  {
   "cell_type": "code",
   "execution_count": 15,
   "metadata": {},
   "outputs": [
    {
     "name": "stdout",
     "output_type": "stream",
     "text": [
      "noptmax:30, npar_adj:95, nnz_obs:122\n",
      "2020-06-30 09:27:04.994853 WARNING: sys_cmd 'pyemu.os_utils.run(r'..\\..\\..\\exe\\mf6')\n",
      "' already in sys cmds, skipping...\n",
      "2020-06-30 09:27:05.014867 starting: building prior covariance matrix\n",
      "2020-06-30 09:27:05.035192 saving prior covariance matrix to file template\\2D_test.prior.cov\n",
      "2020-06-30 09:27:05.075206 finished: building prior covariance matrix took: 0:00:00.060339\n"
     ]
    },
    {
     "data": {
      "text/plain": [
       "<matplotlib.colorbar.Colorbar at 0x22b71c04f88>"
      ]
     },
     "execution_count": 15,
     "metadata": {},
     "output_type": "execute_result"
    },
    {
     "data": {
      "image/png": "[encoded data removed]",
      "text/plain": [
       "<Figure size 504x504 with 2 Axes>"
      ]
     },
     "metadata": {
      "needs_background": "light"
     },
     "output_type": "display_data"
    }
   ],
   "source": [
    "pst = pf.build_pst(\"{}.pst\".format(case))\n",
    "cov = pf.build_prior()\n",
    "x = cov.x.copy()\n",
    "x[x==0.0] = np.NaN\n",
    "fig,ax = plt.subplots(1,1,figsize=(7,7))\n",
    "g = ax.imshow(x)\n",
    "plt.colorbar(g)"
   ]
  },
  {
   "cell_type": "code",
   "execution_count": 21,
   "metadata": {},
   "outputs": [
    {
     "name": "stdout",
     "output_type": "stream",
     "text": [
      "noptmax:-1, npar_adj:95, nnz_obs:122\n"
     ]
    }
   ],
   "source": [
    "t_d = \"template\"\n",
    "m_d = \"master_glm\"\n",
    "\n",
    "pst.control_data.noptmax = -1 # FOR JACOBIAN\n",
    "pst.write(os.path.join(t_d,\"{}.pst\".format(case)))"
   ]
  },
  {
   "cell_type": "code",
   "execution_count": 19,
   "metadata": {},
   "outputs": [],
   "source": [
    "# pyemu.os_utils.run(\"..\\..\\pestpp-glm.exe {}\".format(case),cwd=\"template\")"
   ]
  },
  {
   "cell_type": "code",
   "execution_count": 23,
   "metadata": {},
   "outputs": [
    {
     "ename": "Exception",
     "evalue": "pst_rel_path not found from worker_dir",
     "output_type": "error",
     "traceback": [
      "\u001b[1;31m---------------------------------------------------------------------------\u001b[0m",
      "\u001b[1;31mException\u001b[0m                                 Traceback (most recent call last)",
      "\u001b[1;32m<ipython-input-23-51fff2d3115c>\u001b[0m in \u001b[0;36m<module>\u001b[1;34m\u001b[0m\n\u001b[0;32m      1\u001b[0m \u001b[1;31m# LET'S FILL JACOBIAN WITH n WORKERS !\u001b[0m\u001b[1;33m\u001b[0m\u001b[1;33m\u001b[0m\u001b[1;33m\u001b[0m\u001b[0m\n\u001b[1;32m----> 2\u001b[1;33m \u001b[0mpyemu\u001b[0m\u001b[1;33m.\u001b[0m\u001b[0mos_utils\u001b[0m\u001b[1;33m.\u001b[0m\u001b[0mstart_workers\u001b[0m\u001b[1;33m(\u001b[0m\u001b[0mt_d\u001b[0m\u001b[1;33m,\u001b[0m\u001b[1;34m\"pestpp-glm.exe\"\u001b[0m\u001b[1;33m,\u001b[0m\u001b[1;34m\"{}\"\u001b[0m\u001b[1;33m.\u001b[0m\u001b[0mformat\u001b[0m\u001b[1;33m(\u001b[0m\u001b[0mcase\u001b[0m\u001b[1;33m)\u001b[0m\u001b[1;33m,\u001b[0m\u001b[0mnum_workers\u001b[0m\u001b[1;33m=\u001b[0m\u001b[1;36m5\u001b[0m\u001b[1;33m,\u001b[0m\u001b[0mworker_root\u001b[0m\u001b[1;33m=\u001b[0m\u001b[1;34m\".\"\u001b[0m\u001b[1;33m,\u001b[0m\u001b[0mmaster_dir\u001b[0m\u001b[1;33m=\u001b[0m\u001b[0mm_d\u001b[0m\u001b[1;33m)\u001b[0m\u001b[1;33m\u001b[0m\u001b[1;33m\u001b[0m\u001b[0m\n\u001b[0m",
      "\u001b[1;32m~\\AppData\\Local\\Continuum\\anaconda3\\lib\\site-packages\\pyemu\\utils\\os_utils.py\u001b[0m in \u001b[0;36mstart_workers\u001b[1;34m(worker_dir, exe_rel_path, pst_rel_path, num_workers, worker_root, port, rel_path, local, cleanup, master_dir, verbose, silent_master, reuse_master)\u001b[0m\n\u001b[0;32m    206\u001b[0m     \u001b[1;32melse\u001b[0m\u001b[1;33m:\u001b[0m\u001b[1;33m\u001b[0m\u001b[1;33m\u001b[0m\u001b[0m\n\u001b[0;32m    207\u001b[0m         \u001b[1;32mif\u001b[0m \u001b[1;32mnot\u001b[0m \u001b[0mos\u001b[0m\u001b[1;33m.\u001b[0m\u001b[0mpath\u001b[0m\u001b[1;33m.\u001b[0m\u001b[0mexists\u001b[0m\u001b[1;33m(\u001b[0m\u001b[0mos\u001b[0m\u001b[1;33m.\u001b[0m\u001b[0mpath\u001b[0m\u001b[1;33m.\u001b[0m\u001b[0mjoin\u001b[0m\u001b[1;33m(\u001b[0m\u001b[0mworker_dir\u001b[0m\u001b[1;33m,\u001b[0m\u001b[0mpst_rel_path\u001b[0m\u001b[1;33m)\u001b[0m\u001b[1;33m)\u001b[0m\u001b[1;33m:\u001b[0m\u001b[1;33m\u001b[0m\u001b[1;33m\u001b[0m\u001b[0m\n\u001b[1;32m--> 208\u001b[1;33m             \u001b[1;32mraise\u001b[0m \u001b[0mException\u001b[0m\u001b[1;33m(\u001b[0m\u001b[1;34m\"pst_rel_path not found from worker_dir\"\u001b[0m\u001b[1;33m)\u001b[0m\u001b[1;33m\u001b[0m\u001b[1;33m\u001b[0m\u001b[0m\n\u001b[0m\u001b[0;32m    209\u001b[0m     \u001b[1;32mif\u001b[0m \u001b[0mlocal\u001b[0m\u001b[1;33m:\u001b[0m\u001b[1;33m\u001b[0m\u001b[1;33m\u001b[0m\u001b[0m\n\u001b[0;32m    210\u001b[0m         \u001b[0mhostname\u001b[0m \u001b[1;33m=\u001b[0m \u001b[1;34m\"localhost\"\u001b[0m\u001b[1;33m\u001b[0m\u001b[1;33m\u001b[0m\u001b[0m\n",
      "\u001b[1;31mException\u001b[0m: pst_rel_path not found from worker_dir"
     ]
    }
   ],
   "source": [
    "# LET'S FILL JACOBIAN WITH n WORKERS !\n",
    "pyemu.os_utils.start_workers(t_d,\"../../pestpp-glm.exe\",\"{}.pst\".format(case),num_workers=5,worker_root=\".\",master_dir=m_d)"
   ]
  },
  {
   "cell_type": "code",
   "execution_count": null,
   "metadata": {},
   "outputs": [],
   "source": []
  },
  {
   "cell_type": "code",
   "execution_count": null,
   "metadata": {},
   "outputs": [],
   "source": []
  }
 ],
 "metadata": {
  "kernelspec": {
   "display_name": "Python 3",
   "language": "python",
   "name": "python3"
  },
  "language_info": {
   "codemirror_mode": {
    "name": "ipython",
    "version": 3
   },
   "file_extension": ".py",
   "mimetype": "text/x-python",
   "name": "python",
   "nbconvert_exporter": "python",
   "pygments_lexer": "ipython3",
   "version": "3.7.4"
  }
 },
 "nbformat": 4,
 "nbformat_minor": 2
}
