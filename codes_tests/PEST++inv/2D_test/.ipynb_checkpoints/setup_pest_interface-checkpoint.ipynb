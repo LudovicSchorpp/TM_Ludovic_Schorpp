{
 "cells": [
  {
   "cell_type": "code",
   "execution_count": 39,
   "metadata": {},
   "outputs": [],
   "source": [
    "import pyemu\n",
    "import numpy as np\n",
    "import matplotlib.pyplot as plt\n",
    "import pandas as pd\n",
    "import flopy as fp\n",
    "from flopy.utils.reference import SpatialReference\n",
    "import os\n",
    "import sys\n",
    "from shutil import copyfile\n",
    "import fileinput\n",
    "\n",
    "sys.path.append(\"../../modules\")\n",
    "# hand made functions\n",
    "from Rouss import *"
   ]
  },
  {
   "cell_type": "code",
   "execution_count": 40,
   "metadata": {},
   "outputs": [],
   "source": [
    "ws = \"workspace\"\n",
    "m_n_i = \"pest_2d_r\"\n",
    "m_n = \"pest_2D_R\"\n",
    "\n",
    "case = \"2D_test\""
   ]
  },
  {
   "cell_type": "code",
   "execution_count": 41,
   "metadata": {},
   "outputs": [
    {
     "name": "stdout",
     "output_type": "stream",
     "text": [
      "loading simulation...\n",
      "  loading simulation name file...\n",
      "  loading tdis package...\n",
      "  loading model gwf6...\n",
      "    loading package dis...\n",
      "    loading package ic...\n",
      "    loading package oc...\n",
      "    loading package obs...\n",
      "WARNING: Block header for block \"continuous\" is not a unique block header ('pest_2d_r', 'obs', 'continuous')\n",
      "    loading package npf...\n",
      "    loading package rch...\n",
      "    loading package rch...\n",
      "    loading package rch...\n",
      "    loading package wel...\n",
      "    loading package wel...\n",
      "    loading package chd...\n",
      "    loading package chd...\n",
      "    loading package drn...\n",
      "    loading package riv...\n",
      "    loading package riv...\n",
      "    loading package riv...\n",
      "    loading package riv...\n",
      "    loading package riv...\n",
      "    loading package riv...\n",
      "  loading ims package pest_2d_r...\n"
     ]
    }
   ],
   "source": [
    "sim = fp.mf6.MFSimulation.load(sim_ws=ws)\n",
    "m = sim.get_model(m_n_i)"
   ]
  },
  {
   "cell_type": "code",
   "execution_count": 42,
   "metadata": {},
   "outputs": [
    {
     "data": {
      "text/plain": [
       "xul:664525; yul:6207475; rotation:0; proj4_str:None; units:meters; lenuni:2; length_multiplier:1.0"
      ]
     },
     "execution_count": 42,
     "metadata": {},
     "output_type": "execute_result"
    }
   ],
   "source": [
    "sr = SpatialReference(delr=m.dis.delr.array, delc=m.dis.delc.array, xll=m.dis.xorigin.array, yll=m.dis.yorigin.array)\n",
    "sr"
   ]
  },
  {
   "cell_type": "code",
   "execution_count": 43,
   "metadata": {},
   "outputs": [
    {
     "name": "stdout",
     "output_type": "stream",
     "text": [
      "2020-07-29 14:02:17.219731 starting: opening PstFrom.log for logging\n",
      "2020-07-29 14:02:17.219731 starting PstFrom process\n",
      "2020-07-29 14:02:17.230091 starting: setting up dirs\n",
      "2020-07-29 14:02:17.230091 starting: removing existing new_d 'template'\n",
      "2020-07-29 14:02:18.019655 finished: removing existing new_d 'template' took: 0:00:00.789564\n",
      "2020-07-29 14:02:18.019655 starting: copying original_d 'workspace' to new_d 'template'\n",
      "2020-07-29 14:02:19.829830 finished: copying original_d 'workspace' to new_d 'template' took: 0:00:01.810175\n",
      "2020-07-29 14:02:20.150058 finished: setting up dirs took: 0:00:02.919967\n"
     ]
    }
   ],
   "source": [
    "# empty pst object\n",
    "template_ws = \"template\"\n",
    "pf = pyemu.prototypes.PstFrom(original_d=ws, new_d=template_ws,\n",
    "                 remove_existing=True,\n",
    "                 longnames=True, spatial_reference=sr,\n",
    "                 zero_based=False)"
   ]
  },
  {
   "cell_type": "code",
   "execution_count": 44,
   "metadata": {},
   "outputs": [
    {
     "name": "stdout",
     "output_type": "stream",
     "text": [
      "2020-07-29 14:02:20.180165 starting: adding observations from tabular output file\n",
      "2020-07-29 14:02:20.180165 starting: reading list template\\heads.csv\n",
      "2020-07-29 14:02:20.189948 finished: reading list template\\heads.csv took: 0:00:00.009783\n",
      "2020-07-29 14:02:20.189948 starting: building insfile for tabular output file heads.csv\n",
      "2020-07-29 14:02:20.219824 finished: building insfile for tabular output file heads.csv took: 0:00:00.029876\n",
      "2020-07-29 14:02:20.219824 starting: adding observation from instruction file 'template\\heads.csv.ins'\n",
      "2020-07-29 14:02:20.239679 finished: adding observation from instruction file 'template\\heads.csv.ins' took: 0:00:00.019855\n",
      "2020-07-29 14:02:20.239679 finished: adding observations from tabular output file took: 0:00:00.059514\n",
      "2020-07-29 14:02:20.260129 starting: adding observations from tabular output file\n",
      "2020-07-29 14:02:20.260129 starting: reading list template\\heads_pcmap.csv\n",
      "2020-07-29 14:02:20.269719 finished: reading list template\\heads_pcmap.csv took: 0:00:00.009590\n",
      "2020-07-29 14:02:20.269719 starting: building insfile for tabular output file heads_pcmap.csv\n",
      "2020-07-29 14:02:20.309829 finished: building insfile for tabular output file heads_pcmap.csv took: 0:00:00.040110\n",
      "2020-07-29 14:02:20.309829 starting: adding observation from instruction file 'template\\heads_pcmap.csv.ins'\n",
      "2020-07-29 14:02:20.349769 finished: adding observation from instruction file 'template\\heads_pcmap.csv.ins' took: 0:00:00.039940\n",
      "2020-07-29 14:02:20.349769 finished: adding observations from tabular output file took: 0:00:00.089640\n"
     ]
    }
   ],
   "source": [
    "#add observation\n",
    "df = pd.read_csv(os.path.join(template_ws,\"heads.csv\"),index_col=0)\n",
    "\n",
    "hds_df = pf.add_observations(\"heads.csv\",insfile=\"heads.csv.ins\",index_cols=\"time\",\n",
    "                use_cols=list(df.columns.values),prefix=\"hds\",obsgp=False)\n",
    "\n",
    "file = \"heads_pcmap.csv\"\n",
    "df = pd.read_csv(os.path.join(template_ws,file),index_col=0)\n",
    "hds_df = pf.add_observations(file,insfile=\"{}.ins\".format(file),index_cols=\"time\",\n",
    "                use_cols=list(df.columns.values),prefix=\"pcmap\",obsgp=True)"
   ]
  },
  {
   "cell_type": "code",
   "execution_count": 45,
   "metadata": {},
   "outputs": [
    {
     "name": "stdout",
     "output_type": "stream",
     "text": [
      "noptmax:30, npar_adj:0, nnz_obs:322\n"
     ]
    },
    {
     "data": {
      "text/plain": [
       "<pyemu.pst.pst_handler.Pst at 0x201b839d348>"
      ]
     },
     "execution_count": 45,
     "metadata": {},
     "output_type": "execute_result"
    }
   ],
   "source": [
    "pf.build_pst(\"{}.pst\".format(case))"
   ]
  },
  {
   "cell_type": "code",
   "execution_count": 46,
   "metadata": {},
   "outputs": [
    {
     "name": "stdout",
     "output_type": "stream",
     "text": [
      "spatial variogram\n"
     ]
    },
    {
     "data": {
      "image/png": "[encoded data removed]",
      "text/plain": [
       "<Figure size 576x288 with 1 Axes>"
      ]
     },
     "metadata": {
      "needs_background": "light"
     },
     "output_type": "display_data"
    }
   ],
   "source": [
    "v = pyemu.geostats.GauVario(contribution=0.4,a=5000)\n",
    "grid_gs = pyemu.geostats.GeoStruct(variograms=v, transform='log')\n",
    "\n",
    "fig = plt.figure(figsize=(8,4))\n",
    "grid_gs.plot()\n",
    "print(\"spatial variogram\")"
   ]
  },
  {
   "cell_type": "code",
   "execution_count": 47,
   "metadata": {},
   "outputs": [
    {
     "data": {
      "text/plain": [
       "<matplotlib.image.AxesImage at 0x201b8a05308>"
      ]
     },
     "execution_count": 47,
     "metadata": {},
     "output_type": "execute_result"
    },
    {
     "data": {
      "image/png": "[encoded data removed]",
      "text/plain": [
       "<Figure size 432x288 with 1 Axes>"
      ]
     },
     "metadata": {
      "needs_background": "light"
     },
     "output_type": "display_data"
    }
   ],
   "source": [
    "za = m.dis.idomain.array[0] # zone array for pp\n",
    "za[:,140:]=0\n",
    "plt.imshow(za)"
   ]
  },
  {
   "cell_type": "code",
   "execution_count": 48,
   "metadata": {
    "scrolled": true
   },
   "outputs": [
    {
     "name": "stdout",
     "output_type": "stream",
     "text": [
      "2020-07-29 14:02:21.049977 starting: adding pilotpoint type multiplier style parameters for file(s) ['k.txt']\n",
      "2020-07-29 14:02:21.049977 starting: loading array template\\k.txt\n",
      "2020-07-29 14:02:21.400074 finished: loading array template\\k.txt took: 0:00:00.350097\n",
      "2020-07-29 14:02:21.400074 loaded array 'k.txt' of shape (182, 183)\n",
      "2020-07-29 14:02:21.540160 starting: writing array-based template file 'kp_inst0_pilotpoint.csv.tpl'\n",
      "2020-07-29 14:02:21.540160 starting: setting up pilot point parameters\n",
      "2020-07-29 14:02:21.540160 No spatial reference (containing cell spacing) passed.\n",
      "2020-07-29 14:02:21.549721 OK - using spatial reference in parent object.\n",
      "2020-07-29 14:02:22.019745 147 pilot point parameters created\n",
      "2020-07-29 14:02:22.019745 pilot point 'pargp':kp_inst:0\n",
      "2020-07-29 14:02:22.019745 finished: setting up pilot point parameters took: 0:00:00.479585\n",
      "2020-07-29 14:02:22.049803 starting: calculating factors for pargp=kp_inst:0\n",
      "2020-07-29 14:02:22.049803 saving krige variance file:template\\kp_inst0pp.var.dat\n",
      "2020-07-29 14:02:22.049803 saving krige factors file:template\\kp_inst0pp.fac\n",
      "starting interp point loop for 33306 points\n",
      "starting 0\n",
      "starting 1\n",
      "starting 2\n",
      "starting 3\n",
      "starting 4\n",
      "starting 5\n",
      "starting 6\n",
      "starting 7\n",
      "starting 8\n",
      "starting 9\n",
      "took 65.130285 seconds\n",
      "2020-07-29 14:03:28.911417 finished: calculating factors for pargp=kp_inst:0 took: 0:01:06.861614\n",
      "2020-07-29 14:03:28.911417 starting: writing array-based template file 'kp_inst0pp.dat.tpl'\n",
      "2020-07-29 14:03:28.919999 starting: adding parameters for file(s) ['k.txt']\n"
     ]
    }
   ],
   "source": [
    "pf.add_parameters(filenames=\"k.txt\",par_type=\"pilotpoint\",pp_space=9,zone_array=za,\n",
    "                   par_name_base=\"kp\",pargp=\"hp\",\n",
    "                   upper_bound=100,lower_bound=0.05,ult_ubound=1e-3,ult_lbound=5e-7,geostruct=grid_gs)"
   ]
  },
  {
   "cell_type": "code",
   "execution_count": 49,
   "metadata": {},
   "outputs": [
    {
     "name": "stdout",
     "output_type": "stream",
     "text": [
      "2020-07-29 14:03:29.030126 starting: adding zone type multiplier style parameters for file(s) ['irr.txt']\n",
      "2020-07-29 14:03:29.030126 starting: loading array template\\irr.txt\n",
      "2020-07-29 14:03:29.150044 finished: loading array template\\irr.txt took: 0:00:00.119918\n",
      "2020-07-29 14:03:29.150044 loaded array 'irr.txt' of shape (182, 183)\n",
      "2020-07-29 14:03:29.370231 starting: writing array-based template file 'irr_inst0_zone.csv.tpl'\n",
      "2020-07-29 14:03:29.370231 starting: writing template file irr_inst0_zone.csv.tpl for ['irr_inst:0']\n",
      "2020-07-29 14:03:29.559910 finished: writing template file irr_inst0_zone.csv.tpl for ['irr_inst:0'] took: 0:00:00.189679\n",
      "2020-07-29 14:03:29.559910 finished: writing array-based template file 'irr_inst0_zone.csv.tpl' took: 0:00:00.189679\n",
      "2020-07-29 14:03:29.581126 starting: adding parameters for file(s) ['irr.txt']\n"
     ]
    },
    {
     "data": {
      "image/png": "[encoded data removed]",
      "text/plain": [
       "<Figure size 432x288 with 1 Axes>"
      ]
     },
     "metadata": {
      "needs_background": "light"
     },
     "output_type": "display_data"
    }
   ],
   "source": [
    "#irri\n",
    "zi = np.loadtxt(os.path.join(ws,\"zone_irr.txt\"))\n",
    "plt.imshow(zi)\n",
    "pf.add_parameters(filenames=\"irr.txt\",par_type=\"zone\",zone_array=zi,\n",
    "                   par_name_base=\"irr\",pargp=\"irr\",\n",
    "                   upper_bound=2,lower_bound=0.8)"
   ]
  },
  {
   "cell_type": "code",
   "execution_count": 50,
   "metadata": {},
   "outputs": [
    {
     "name": "stderr",
     "output_type": "stream",
     "text": [
      "C:\\Users\\schorppl\\AppData\\Local\\Continuum\\anaconda3\\lib\\site-packages\\pyemu\\prototypes\\pst_from.py:472: FutureWarning: Sorting because non-concatenation axis is not aligned. A future version\n",
      "of pandas will change to not sort by default.\n",
      "\n",
      "To accept the future behavior, pass 'sort=False'.\n",
      "\n",
      "To retain the current behavior and silence the warning, pass 'sort=True'.\n",
      "\n",
      "  par_data = pd.concat(self.par_dfs).loc[:, par_data_cols]\n",
      "C:\\Users\\schorppl\\AppData\\Local\\Continuum\\anaconda3\\lib\\site-packages\\pyemu\\prototypes\\pst_from.py:127: FutureWarning: Sorting because non-concatenation axis is not aligned. A future version\n",
      "of pandas will change to not sort by default.\n",
      "\n",
      "To accept the future behavior, pass 'sort=False'.\n",
      "\n",
      "To retain the current behavior and silence the warning, pass 'sort=True'.\n",
      "\n",
      "  ignore_index=True)\n"
     ]
    },
    {
     "name": "stdout",
     "output_type": "stream",
     "text": [
      "noptmax:30, npar_adj:161, nnz_obs:322\n"
     ]
    },
    {
     "data": {
      "text/plain": [
       "<pyemu.pst.pst_handler.Pst at 0x201b9253688>"
      ]
     },
     "execution_count": 50,
     "metadata": {},
     "output_type": "execute_result"
    }
   ],
   "source": [
    "pf.build_pst(\"{}.pst\".format(case))"
   ]
  },
  {
   "cell_type": "code",
   "execution_count": 51,
   "metadata": {},
   "outputs": [],
   "source": [
    "rivers = [riv for riv in os.listdir(template_ws) if riv.endswith(\"riv\")]\n",
    "\n",
    "def riv_tpl(rivers,tmp_ws):\n",
    "    for riv in rivers:\n",
    "        riv_file = os.path.join(tmp_ws,riv)\n",
    "        tpl_file = riv_file+\".tpl\"\n",
    "        copyfile(riv_file, tpl_file)\n",
    "        \n",
    "        with fileinput.FileInput(tpl_file, inplace=True) as file:\n",
    "            for line in file:\n",
    "                print(line.replace(\"    0.00500000   \", \"~    c_{}     ~\".format(riv.split(\".\")[0])), end='')\n",
    "        with open(tpl_file, 'r+') as f:\n",
    "            content = f.read()\n",
    "            line = \"ptf ~\"\n",
    "            f.seek(0, 0)\n",
    "            f.write(line.rstrip('\\r\\n') + \"\\n\" + content)\n",
    "        \n",
    "        #add parameter to control file\n",
    "        dic = {\"parnme\":\"c_{}\".format(riv.split(\".\")[0]),\n",
    "              \"parval1\": 0.005,\n",
    "               \"pargp\": \"cond\",\n",
    "               \"tpl_filename\": tpl_file,\n",
    "               'input_filename':riv_file,\n",
    "               \"partype\" : \"constant\",\n",
    "               \"partrans\" : \"log\",\n",
    "               \"parubnd\" : 0.01,\n",
    "               \"parlbnd\" : 0.001,\n",
    "               \"parchglim\" : \"factor\",\n",
    "               \"scale\" : 1.0,\n",
    "               \"dercom\" : 1,\n",
    "               \"offset\" : 0.0} \n",
    "        a = pd.DataFrame(dic,index=[\"c_{}\".format(riv.split(\".\")[0])])\n",
    "        pf.par_dfs[0] = pf.par_dfs[0].append(a,sort=False)\n",
    "        \n",
    "        pf.tpl_filenames.append(riv+\".tpl\")\n",
    "        pf.input_filenames.append(riv)\n",
    "        \n",
    "riv_tpl(rivers,template_ws)"
   ]
  },
  {
   "cell_type": "code",
   "execution_count": 52,
   "metadata": {},
   "outputs": [
    {
     "name": "stdout",
     "output_type": "stream",
     "text": [
      "noptmax:30, npar_adj:167, nnz_obs:322\n"
     ]
    },
    {
     "data": {
      "text/plain": [
       "<pyemu.pst.pst_handler.Pst at 0x201b9162148>"
      ]
     },
     "execution_count": 52,
     "metadata": {},
     "output_type": "execute_result"
    }
   ],
   "source": [
    "pf.build_pst(\"{}.pst\".format(case))"
   ]
  },
  {
   "cell_type": "code",
   "execution_count": 53,
   "metadata": {},
   "outputs": [
    {
     "name": "stdout",
     "output_type": "stream",
     "text": [
      "noptmax:30, npar_adj:167, nnz_obs:322\n",
      "2020-07-29 14:03:31.160437 forward_run line:pyemu.os_utils.run(r'..\\..\\..\\exe\\mf6')\n",
      "\n"
     ]
    },
    {
     "data": {
      "text/plain": [
       "<pyemu.pst.pst_handler.Pst at 0x201b35a4a88>"
      ]
     },
     "execution_count": 53,
     "metadata": {},
     "output_type": "execute_result"
    }
   ],
   "source": [
    "# add run model command\n",
    "pf.mod_sys_cmds.append(\"..\\..\\..\\exe\\mf6\")\n",
    "pf.build_pst(\"{}.pst\".format(case))"
   ]
  },
  {
   "cell_type": "code",
   "execution_count": 54,
   "metadata": {},
   "outputs": [],
   "source": [
    "def chInsfle(file):\n",
    "    \n",
    "    \"\"\"\n",
    "    change a ins file create with PstFrom (only for a model with 1 stress period)\n",
    "    in the right format to be used by PEST\n",
    "    \"\"\"\n",
    "    \n",
    "    fileout = \"tmp\"\n",
    "    with open(file) as f:\n",
    "        with open(fileout,\"w\") as fout:\n",
    "            for i,line in enumerate(f):\n",
    "                if i < 2:\n",
    "                    fout.write(line)\n",
    "                if i > 1:\n",
    "                    for o,split in enumerate(line.split(\"w\")):\n",
    "                        if o == 1:\n",
    "                            fout.write(\"~,~\")\n",
    "                        fout.write(split)\n",
    "                        \n",
    "    from shutil import copyfile\n",
    "    copyfile(fileout, file) # copy \n",
    "    os.remove(fileout) # delete tmp file\n",
    "\n",
    "chInsfle(\"template/heads.csv.ins\")\n",
    "chInsfle(\"template/heads_pcmap.csv.ins\")\n",
    "\n",
    "pf.obs_dfs[0].obgnme = \"real_obs\"\n",
    "pf.obs_dfs[1].obgnme = \"obs_pcmap\""
   ]
  },
  {
   "cell_type": "code",
   "execution_count": 55,
   "metadata": {},
   "outputs": [
    {
     "name": "stdout",
     "output_type": "stream",
     "text": [
      "noptmax:30, npar_adj:167, nnz_obs:322\n",
      "2020-07-29 14:03:31.630244 WARNING: sys_cmd 'pyemu.os_utils.run(r'..\\..\\..\\exe\\mf6')\n",
      "' already in sys cmds, skipping...\n",
      "2020-07-29 14:03:31.650035 starting: building prior covariance matrix\n",
      "2020-07-29 14:03:31.689996 saving prior covariance matrix to file template\\2D_test.prior.cov\n",
      "2020-07-29 14:03:31.770060 finished: building prior covariance matrix took: 0:00:00.120025\n"
     ]
    },
    {
     "name": "stderr",
     "output_type": "stream",
     "text": [
      "C:\\Users\\schorppl\\AppData\\Local\\Continuum\\anaconda3\\lib\\site-packages\\pyemu\\utils\\helpers.py:248: UserWarning: geostatistical_prior_builder() warning: geostruct sill != 1.0, user beware!\n",
      "  warnings.warn(\"geostatistical_prior_builder() warning: geostruct sill != 1.0, user beware!\")\n"
     ]
    },
    {
     "data": {
      "text/plain": [
       "<matplotlib.colorbar.Colorbar at 0x201b7ba4d08>"
      ]
     },
     "execution_count": 55,
     "metadata": {},
     "output_type": "execute_result"
    },
    {
     "data": {
      "image/png": "[encoded data removed]",
      "text/plain": [
       "<Figure size 504x504 with 2 Axes>"
      ]
     },
     "metadata": {
      "needs_background": "light"
     },
     "output_type": "display_data"
    }
   ],
   "source": [
    "pst = pf.build_pst(\"{}.pst\".format(case))\n",
    "cov = pf.build_prior()\n",
    "x = cov.x.copy()\n",
    "x[x==0.0] = np.NaN\n",
    "fig,ax = plt.subplots(1,1,figsize=(7,7))\n",
    "g = ax.imshow(x)\n",
    "plt.colorbar(g)"
   ]
  },
  {
   "cell_type": "code",
   "execution_count": 113,
   "metadata": {},
   "outputs": [
    {
     "data": {
      "text/plain": [
       "<matplotlib.image.AxesImage at 0x201b8880088>"
      ]
     },
     "execution_count": 113,
     "metadata": {},
     "output_type": "execute_result"
    },
    {
     "data": {
      "image/png": "[encoded data removed]",
      "text/plain": [
       "<Figure size 432x288 with 1 Axes>"
      ]
     },
     "metadata": {
      "needs_background": "light"
     },
     "output_type": "display_data"
    }
   ],
   "source": [
    "#setup zero order tikho (preferred value regularization)\n",
    "pyemu.helpers.zero_order_tikhonov(pst)\n",
    "pst.prior_information.iloc[153:,-1]=0 # only regularization on pilot points\n",
    "\n",
    "# change the k file to have something homogeneous, except on pilot points, this value will be the preferred value\n",
    "nrow,ncol = np.loadtxt(\"template/k.txt\").shape\n",
    "k = np.ones([nrow,ncol])*1e-5\n",
    "mask = (pst.parameter_data[pst.parameter_data[\"pargp\"]==\"kp_inst:0\"].i.values.astype(int),\n",
    "  pst.parameter_data[pst.parameter_data[\"pargp\"]==\"kp_inst:0\"].j.values.astype(int))\n",
    "k[mask] = np.loadtxt(\"template/k.txt\")[mask]\n",
    "plt.imshow(k)"
   ]
  },
  {
   "cell_type": "code",
   "execution_count": null,
   "metadata": {},
   "outputs": [],
   "source": [
    "t_d = \"template\"\n",
    "m_d = \"master_glm\"\n",
    "\n",
    "pst.control_data.noptmax = -1 # FOR JACOBIAN\n",
    "pst.write(os.path.join(t_d,\"{}.pst\".format(case)))"
   ]
  },
  {
   "cell_type": "code",
   "execution_count": null,
   "metadata": {},
   "outputs": [],
   "source": [
    "pst.parameter_data"
   ]
  },
  {
   "cell_type": "code",
   "execution_count": 43,
   "metadata": {},
   "outputs": [],
   "source": [
    "# pyemu.os_utils.run(\"..\\..\\pestpp-glm.exe {}\".format(case),cwd=\"template\")"
   ]
  },
  {
   "cell_type": "code",
   "execution_count": 34,
   "metadata": {},
   "outputs": [],
   "source": [
    "# LET'S FILL JACOBIAN WITH n WORKERS !\n",
    "pyemu.os_utils.start_workers(t_d,\"../../pestpp-glm.exe\",\"{}.pst\".format(case),num_workers=5,worker_root=\".\",master_dir=m_d)"
   ]
  },
  {
   "cell_type": "code",
   "execution_count": 114,
   "metadata": {},
   "outputs": [
    {
     "name": "stdout",
     "output_type": "stream",
     "text": [
      "noptmax:6, npar_adj:167, nnz_obs:322\n"
     ]
    }
   ],
   "source": [
    "t_d =\"master_glm\"\n",
    "case = \"2D_test\"\n",
    "pst = pyemu.Pst(os.path.join(t_d,\"{}.pst\".format(case)))\n",
    "pst.control_data.noptmax = 6 # number of iterations (should be set to a great value (50))\n",
    "pst.control_data.nphistp = 6\n",
    "pst.pestpp_options[\"n_iter_base\"] = -1\n",
    "pst.pestpp_options[\"n_iter_super\"] = 4\n",
    "pst.pestpp_options[\"glm_num_reals\"] = 50 # how many draws\n",
    "pst.pestpp_options[\"parcov\"] = \"{}.prior.cov\".format(case)\n",
    "pst.pestpp_options[\"base_jacobian\"] = \"{}.jcb\".format(case)\n",
    "pst.write(os.path.join(t_d,\"{}.pst\".format(case)))"
   ]
  },
  {
   "cell_type": "code",
   "execution_count": null,
   "metadata": {},
   "outputs": [],
   "source": [
    "# DO the inversion\n",
    "m_d = \"master_glm_run\"\n",
    "pyemu.os_utils.start_workers(t_d,\"../../pestpp-glm.exe\",\"{}.pst\".format(case),num_workers=8,worker_root=\".\",\n",
    "                             master_dir=m_d)"
   ]
  },
  {
   "cell_type": "code",
   "execution_count": null,
   "metadata": {},
   "outputs": [],
   "source": []
  }
 ],
 "metadata": {
  "kernelspec": {
   "display_name": "Python 3",
   "language": "python",
   "name": "python3"
  },
  "language_info": {
   "codemirror_mode": {
    "name": "ipython",
    "version": 3
   },
   "file_extension": ".py",
   "mimetype": "text/x-python",
   "name": "python",
   "nbconvert_exporter": "python",
   "pygments_lexer": "ipython3",
   "version": "3.7.4"
  }
 },
 "nbformat": 4,
 "nbformat_minor": 2
}
