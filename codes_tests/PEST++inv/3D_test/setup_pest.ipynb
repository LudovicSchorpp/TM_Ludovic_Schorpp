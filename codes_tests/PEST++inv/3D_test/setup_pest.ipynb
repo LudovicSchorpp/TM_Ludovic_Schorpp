{
 "cells": [
  {
   "cell_type": "code",
   "execution_count": 1,
   "metadata": {},
   "outputs": [
    {
     "name": "stdout",
     "output_type": "stream",
     "text": [
      "flopy is installed in C:\\Users\\emmal\\Anaconda3\\lib\\site-packages\\flopy\n"
     ]
    }
   ],
   "source": [
    "import pyemu\n",
    "import numpy as np\n",
    "import matplotlib.pyplot as plt\n",
    "import pandas as pd\n",
    "import flopy as fp\n",
    "from flopy.utils.reference import SpatialReference\n",
    "import os\n",
    "import sys\n",
    "from shutil import copyfile\n",
    "import fileinput\n",
    "\n",
    "sys.path.append(\"../../modules\")\n",
    "# hand made functions\n",
    "from Rouss import *"
   ]
  },
  {
   "cell_type": "code",
   "execution_count": 2,
   "metadata": {},
   "outputs": [],
   "source": [
    "ws = \"workspace\"\n",
    "m_n_i = \"pest_3d_r\"\n",
    "m_n = \"pest_3D_R\"\n",
    "\n",
    "case = \"3D_test\""
   ]
  },
  {
   "cell_type": "code",
   "execution_count": 3,
   "metadata": {},
   "outputs": [
    {
     "name": "stdout",
     "output_type": "stream",
     "text": [
      "loading simulation...\n",
      "  loading simulation name file...\n",
      "  loading tdis package...\n",
      "  loading model gwf6...\n",
      "    loading package dis...\n",
      "    loading package ic...\n",
      "    loading package oc...\n",
      "    loading package npf...\n",
      "    loading package wel...\n",
      "    loading package rch...\n",
      "    loading package rch...\n",
      "    loading package rch...\n",
      "    loading package wel...\n",
      "    loading package chd...\n",
      "    loading package chd...\n",
      "    loading package drn...\n",
      "    loading package riv...\n",
      "    loading package riv...\n",
      "    loading package riv...\n",
      "    loading package riv...\n",
      "    loading package riv...\n",
      "    loading package riv...\n",
      "    loading package obs...\n",
      "WARNING: Block header for block \"continuous\" is not a unique block header ('pest_3d_r', 'obs', 'continuous')\n",
      "WARNING: Block header for block \"continuous\" is not a unique block header ('pest_3d_r', 'obs', 'continuous')\n",
      "WARNING: Block header for block \"continuous\" is not a unique block header ('pest_3d_r', 'obs', 'continuous')\n",
      "  loading ims package pest_3d_r...\n"
     ]
    }
   ],
   "source": [
    "sim = fp.mf6.MFSimulation.load(sim_ws=ws)\n",
    "m = sim.get_model(m_n_i)"
   ]
  },
  {
   "cell_type": "code",
   "execution_count": 4,
   "metadata": {},
   "outputs": [
    {
     "data": {
      "text/plain": [
       "xul:664525; yul:6207475; rotation:0; proj4_str:None; units:meters; lenuni:2; length_multiplier:1.0"
      ]
     },
     "execution_count": 4,
     "metadata": {},
     "output_type": "execute_result"
    }
   ],
   "source": [
    "sr = SpatialReference(delr=m.dis.delr.array, delc=m.dis.delc.array, xll=m.dis.xorigin.array, yll=m.dis.yorigin.array)\n",
    "sr"
   ]
  },
  {
   "cell_type": "code",
   "execution_count": 5,
   "metadata": {},
   "outputs": [
    {
     "name": "stdout",
     "output_type": "stream",
     "text": [
      "2020-08-05 13:16:09.563866 starting: opening PstFrom.log for logging\n",
      "2020-08-05 13:16:09.564867 starting PstFrom process\n",
      "2020-08-05 13:16:09.568867 starting: setting up dirs\n",
      "2020-08-05 13:16:09.568867 starting: removing existing new_d 'template'\n",
      "2020-08-05 13:16:09.694863 finished: removing existing new_d 'template' took: 0:00:00.125996\n",
      "2020-08-05 13:16:09.694863 starting: copying original_d 'workspace' to new_d 'template'\n",
      "2020-08-05 13:16:10.080851 finished: copying original_d 'workspace' to new_d 'template' took: 0:00:00.385988\n",
      "2020-08-05 13:16:10.082851 finished: setting up dirs took: 0:00:00.513984\n"
     ]
    }
   ],
   "source": [
    "# empty pst object\n",
    "template_ws = \"template\"\n",
    "pf = pyemu.prototypes.PstFrom(original_d=ws, new_d=template_ws,\n",
    "                 remove_existing=True,\n",
    "                 longnames=True, spatial_reference=sr,\n",
    "                 zero_based=False)"
   ]
  },
  {
   "cell_type": "code",
   "execution_count": 6,
   "metadata": {
    "scrolled": true
   },
   "outputs": [
    {
     "name": "stdout",
     "output_type": "stream",
     "text": [
      "2020-08-05 13:16:10.142849 starting: adding observations from tabular output file\n",
      "2020-08-05 13:16:10.143849 starting: reading list template\\heads_q.csv\n",
      "2020-08-05 13:16:10.155848 finished: reading list template\\heads_q.csv took: 0:00:00.011999\n",
      "2020-08-05 13:16:10.156849 starting: building insfile for tabular output file heads_q.csv\n",
      "2020-08-05 13:16:10.243846 finished: building insfile for tabular output file heads_q.csv took: 0:00:00.086997\n",
      "2020-08-05 13:16:10.244845 starting: adding observation from instruction file 'template\\heads_q.csv.ins'\n",
      "2020-08-05 13:16:10.269846 finished: adding observation from instruction file 'template\\heads_q.csv.ins' took: 0:00:00.025001\n",
      "2020-08-05 13:16:10.274844 finished: adding observations from tabular output file took: 0:00:00.131995\n",
      "2020-08-05 13:16:10.286844 starting: adding observations from tabular output file\n",
      "2020-08-05 13:16:10.286844 starting: reading list template\\heads_pc.csv\n",
      "2020-08-05 13:16:10.294844 finished: reading list template\\heads_pc.csv took: 0:00:00.008000\n",
      "2020-08-05 13:16:10.295845 starting: building insfile for tabular output file heads_pc.csv\n",
      "2020-08-05 13:16:10.323845 finished: building insfile for tabular output file heads_pc.csv took: 0:00:00.028000\n",
      "2020-08-05 13:16:10.324844 starting: adding observation from instruction file 'template\\heads_pc.csv.ins'\n",
      "2020-08-05 13:16:10.345843 finished: adding observation from instruction file 'template\\heads_pc.csv.ins' took: 0:00:00.020999\n",
      "2020-08-05 13:16:10.350843 finished: adding observations from tabular output file took: 0:00:00.063999\n",
      "2020-08-05 13:16:10.377842 starting: adding observations from tabular output file\n",
      "2020-08-05 13:16:10.378842 starting: reading list template\\heads_map_q.csv\n",
      "2020-08-05 13:16:10.400842 finished: reading list template\\heads_map_q.csv took: 0:00:00.022000\n",
      "2020-08-05 13:16:10.401842 starting: building insfile for tabular output file heads_map_q.csv\n",
      "2020-08-05 13:16:10.455839 finished: building insfile for tabular output file heads_map_q.csv took: 0:00:00.053997\n",
      "2020-08-05 13:16:10.456839 starting: adding observation from instruction file 'template\\heads_map_q.csv.ins'\n",
      "2020-08-05 13:16:10.535837 finished: adding observation from instruction file 'template\\heads_map_q.csv.ins' took: 0:00:00.078998\n",
      "2020-08-05 13:16:10.540839 finished: adding observations from tabular output file took: 0:00:00.162997\n"
     ]
    }
   ],
   "source": [
    "#add observation\n",
    "#Quat\n",
    "df = pd.read_csv(os.path.join(template_ws,\"heads_q.csv\"),index_col=0)\n",
    "hds_df = pf.add_observations(\"heads_q.csv\",insfile=\"heads_q.csv.ins\",index_cols=\"time\",\n",
    "                use_cols=list(df.columns.values),prefix=\"quat\",obsgp=True)\n",
    "#P\n",
    "df = pd.read_csv(os.path.join(template_ws,\"heads_pc.csv\"),index_col=0)\n",
    "hds_df = pf.add_observations(\"heads_pc.csv\",insfile=\"heads_pc.csv.ins\",index_cols=\"time\",\n",
    "                use_cols=list(df.columns.values),prefix=\"pc\",obsgp=True)\n",
    "\n",
    "#Q map\n",
    "file = \"heads_map_q.csv\"\n",
    "df = pd.read_csv(os.path.join(template_ws,file),index_col=0)\n",
    "hds_df = pf.add_observations(file,insfile=\"{}.ins\".format(file),index_cols=\"time\",\n",
    "                use_cols=list(df.columns.values),prefix=\"qmap\",obsgp=True)\n",
    "\n",
    "#P map\n",
    "# file = \"heads_map_p.csv\"\n",
    "# df = pd.read_csv(os.path.join(template_ws,file),index_col=0)\n",
    "# hds_df = pf.add_observations(file,insfile=\"{}.ins\".format(file),index_cols=\"time\",\n",
    "#                 use_cols=list(df.columns.values),prefix=\"Pmap\",obsgp=True)\n",
    "\n",
    "#pf.obs_dfs[2].weight = 0.5 # set a weaker weigth to these points"
   ]
  },
  {
   "cell_type": "code",
   "execution_count": 7,
   "metadata": {},
   "outputs": [
    {
     "name": "stdout",
     "output_type": "stream",
     "text": [
      "2020-08-05 13:16:10.584836 starting: adding observations from tabular output file\n",
      "2020-08-05 13:16:10.585835 starting: reading list template\\heads_map_p.csv\n",
      "2020-08-05 13:16:10.609835 finished: reading list template\\heads_map_p.csv took: 0:00:00.024000\n",
      "2020-08-05 13:16:10.610835 starting: building insfile for tabular output file heads_map_p.csv\n",
      "2020-08-05 13:16:10.654833 finished: building insfile for tabular output file heads_map_p.csv took: 0:00:00.043998\n",
      "2020-08-05 13:16:10.655834 starting: adding observation from instruction file 'template\\heads_map_p.csv.ins'\n",
      "2020-08-05 13:16:10.694832 finished: adding observation from instruction file 'template\\heads_map_p.csv.ins' took: 0:00:00.038998\n",
      "2020-08-05 13:16:10.699832 finished: adding observations from tabular output file took: 0:00:00.114996\n"
     ]
    }
   ],
   "source": [
    "#P map\n",
    "file = \"heads_map_p.csv\"\n",
    "df = pd.read_csv(os.path.join(template_ws,file),index_col=0)\n",
    "hds_df = pf.add_observations(file,insfile=\"{}.ins\".format(file),index_cols=\"time\",\n",
    "                use_cols=list(df.columns.values),prefix=\"pmap\",obsgp=True)"
   ]
  },
  {
   "cell_type": "code",
   "execution_count": 8,
   "metadata": {},
   "outputs": [],
   "source": [
    "def chInsfle(file):\n",
    "    \n",
    "    \"\"\"\n",
    "    change a ins file create with PstFrom (only for a model with 1 stress period)\n",
    "    in the right format to be used by PEST\n",
    "    \"\"\"\n",
    "    \n",
    "    fileout = \"tmp\"\n",
    "    with open(file) as f:\n",
    "        with open(fileout,\"w\") as fout:\n",
    "            for i,line in enumerate(f):\n",
    "                if i < 2:\n",
    "                    fout.write(line)\n",
    "                if i > 1:\n",
    "                    for o,split in enumerate(line.split(\"w\")):\n",
    "                        if o == 1:\n",
    "                            fout.write(\"~,~\")\n",
    "                        fout.write(split)\n",
    "                        \n",
    "    from shutil import copyfile\n",
    "    copyfile(fileout, file) # copy \n",
    "    os.remove(fileout) # delete tmp file\n",
    "\n",
    "chInsfle(\"template/heads_pc.csv.ins\")\n",
    "chInsfle(\"template/heads_q.csv.ins\")\n",
    "chInsfle(\"template/heads_map_q.csv.ins\")\n",
    "chInsfle(\"template/heads_map_p.csv.ins\")\n",
    "\n",
    "pf.obs_dfs[0].obgnme = \"Quat\"\n",
    "pf.obs_dfs[1].obgnme = \"Pc\"\n",
    "pf.obs_dfs[2].obgnme = \"Qmap\"\n",
    "pf.obs_dfs[3].obgnme = \"Pmap\""
   ]
  },
  {
   "cell_type": "code",
   "execution_count": 9,
   "metadata": {},
   "outputs": [
    {
     "name": "stdout",
     "output_type": "stream",
     "text": [
      "noptmax:30, npar_adj:0, nnz_obs:522\n"
     ]
    },
    {
     "data": {
      "text/plain": [
       "<pyemu.pst.pst_handler.Pst at 0x2015bf4c088>"
      ]
     },
     "execution_count": 9,
     "metadata": {},
     "output_type": "execute_result"
    }
   ],
   "source": [
    "pf.build_pst(\"{}.pst\".format(case))"
   ]
  },
  {
   "cell_type": "markdown",
   "metadata": {},
   "source": [
    "### Parameters"
   ]
  },
  {
   "cell_type": "code",
   "execution_count": 10,
   "metadata": {},
   "outputs": [
    {
     "name": "stderr",
     "output_type": "stream",
     "text": [
      "C:\\Users\\emmal\\Anaconda3\\lib\\site-packages\\pyemu\\utils\\geostats.py:244: MatplotlibDeprecationWarning: Adding an axes using the same arguments as a previous axes currently reuses the earlier instance.  In a future version, a new instance will always be created and returned.  Meanwhile, this warning can be suppressed, and the future behavior ensured, by passing a unique label to each axes instance.\n",
      "  ax = plt.subplot(111)\n"
     ]
    },
    {
     "data": {
      "text/plain": [
       "<matplotlib.legend.Legend at 0x2015bf78cc8>"
      ]
     },
     "execution_count": 10,
     "metadata": {},
     "output_type": "execute_result"
    },
    {
     "data": {
      "image/png": "[encoded data removed]",
      "text/plain": [
       "<Figure size 576x288 with 1 Axes>"
      ]
     },
     "metadata": {
      "needs_background": "light"
     },
     "output_type": "display_data"
    }
   ],
   "source": [
    "fig,ax = plt.subplots(figsize=(8,4))\n",
    "\n",
    "#q\n",
    "vq1 = pyemu.geostats.GauVario(a=4000,contribution=0.4)\n",
    "vq2 = pyemu.geostats.ExpVario(a=4000,contribution=0.4)\n",
    "grid_q1 = pyemu.geostats.GeoStruct(variograms=vq1, transform='log')\n",
    "grid_q2 = pyemu.geostats.GeoStruct(variograms=vq2,nugget=0.06 , transform='log')\n",
    "b=grid_q1.plot()\n",
    "b=grid_q2.plot()\n",
    "\n",
    "#pc\n",
    "vp1 = pyemu.geostats.GauVario(a=5000,contribution=0.5)\n",
    "vp2 = pyemu.geostats.ExpVario(a=5000,contribution=0.5)\n",
    "grid_pc1 = pyemu.geostats.GeoStruct(variograms=vp1, transform='log')\n",
    "grid_pc2 = pyemu.geostats.GeoStruct(variograms=vp2, transform='log')\n",
    "a=grid_pc1.plot()\n",
    "a=grid_pc2.plot()\n",
    "\n",
    "a.set_title(\"Spatial vario Q vs PC\")\n",
    "plt.legend([\"QGau\",\"Qexp\",\"PCGau\",\"PCexp\"])"
   ]
  },
  {
   "cell_type": "code",
   "execution_count": 11,
   "metadata": {},
   "outputs": [
    {
     "name": "stdout",
     "output_type": "stream",
     "text": [
      "2020-08-05 13:16:12.468778 starting: adding pilotpoint type multiplier style parameters for file(s) ['kq.txt']\n",
      "2020-08-05 13:16:12.469777 starting: loading array template\\kq.txt\n",
      "2020-08-05 13:16:12.564774 finished: loading array template\\kq.txt took: 0:00:00.094997\n",
      "2020-08-05 13:16:12.564774 loaded array 'kq.txt' of shape (182, 183)\n",
      "2020-08-05 13:16:12.975761 starting: writing array-based template file 'kp_q_inst0_pilotpoint.csv.tpl'\n",
      "2020-08-05 13:16:12.976761 starting: setting up pilot point parameters\n",
      "2020-08-05 13:16:12.976761 No spatial reference (containing cell spacing) passed.\n",
      "2020-08-05 13:16:12.976761 OK - using spatial reference in parent object.\n",
      "2020-08-05 13:16:13.755737 113 pilot point parameters created\n",
      "2020-08-05 13:16:13.757737 pilot point 'pargp':kp_q_inst:0\n",
      "2020-08-05 13:16:13.757737 finished: setting up pilot point parameters took: 0:00:00.780976\n",
      "2020-08-05 13:16:13.832735 starting: calculating factors for pargp=kp_q_inst:0\n",
      "2020-08-05 13:16:13.832735 saving krige variance file:template\\kp_q_inst0pp.var.dat\n",
      "2020-08-05 13:16:13.833735 saving krige factors file:template\\kp_q_inst0pp.fac\n",
      "starting interp point loop for 33306 points\n",
      "starting 0\n",
      "starting 1\n",
      "starting 2\n",
      "starting 3\n",
      "starting 4\n",
      "starting 5\n",
      "starting 6\n",
      "starting 7\n",
      "starting 8\n",
      "starting 9\n",
      "took 98.311913 seconds\n",
      "2020-08-05 13:17:53.985591 finished: calculating factors for pargp=kp_q_inst:0 took: 0:01:40.152856\n",
      "2020-08-05 13:17:53.986591 starting: writing array-based template file 'kp_q_inst0pp.dat.tpl'\n",
      "2020-08-05 13:17:54.101589 starting: adding parameters for file(s) ['kq.txt']\n"
     ]
    }
   ],
   "source": [
    "## pp quat\n",
    "zq = m.dis.idomain.array[1] # zone array for pp\n",
    "zq[:,140:]=0\n",
    "zq[zq<0]=0\n",
    "#plt.imshow(zq)\n",
    "pf.add_parameters(filenames=\"kq.txt\",par_type=\"pilotpoint\",pp_space=9,zone_array=zq,\n",
    "                   par_name_base=\"kp_q\",pargp=\"pp_q\",\n",
    "                   upper_bound=3,lower_bound=0.005,ult_ubound=6e-3,ult_lbound=1e-5,geostruct=grid_q1)"
   ]
  },
  {
   "cell_type": "code",
   "execution_count": 12,
   "metadata": {},
   "outputs": [
    {
     "name": "stdout",
     "output_type": "stream",
     "text": [
      "2020-08-05 13:17:54.141587 starting: adding pilotpoint type multiplier style parameters for file(s) ['kpc.txt']\n",
      "2020-08-05 13:17:54.142587 starting: loading array template\\kpc.txt\n",
      "2020-08-05 13:17:54.234584 finished: loading array template\\kpc.txt took: 0:00:00.091997\n",
      "2020-08-05 13:17:54.235584 loaded array 'kpc.txt' of shape (182, 183)\n",
      "2020-08-05 13:17:54.325581 starting: writing array-based template file 'kp_pc_inst0_pilotpoint.csv.tpl'\n",
      "2020-08-05 13:17:54.326581 starting: setting up pilot point parameters\n",
      "2020-08-05 13:17:54.326581 No spatial reference (containing cell spacing) passed.\n",
      "2020-08-05 13:17:54.327581 OK - using spatial reference in parent object.\n",
      "2020-08-05 13:17:55.215556 139 pilot point parameters created\n",
      "2020-08-05 13:17:55.216554 pilot point 'pargp':kp_pc_inst:0\n",
      "2020-08-05 13:17:55.217553 finished: setting up pilot point parameters took: 0:00:00.890972\n",
      "2020-08-05 13:17:55.275551 starting: calculating factors for pargp=kp_pc_inst:0\n",
      "2020-08-05 13:17:55.275551 saving krige variance file:template\\kp_pc_inst0pp.var.dat\n",
      "2020-08-05 13:17:55.276552 saving krige factors file:template\\kp_pc_inst0pp.fac\n",
      "starting interp point loop for 33306 points\n",
      "starting 0\n",
      "starting 1\n",
      "starting 2\n",
      "starting 3\n",
      "starting 4\n",
      "starting 5\n",
      "starting 6\n",
      "starting 7\n",
      "starting 8\n",
      "starting 9\n",
      "took 95.420056 seconds\n",
      "2020-08-05 13:19:32.747544 finished: calculating factors for pargp=kp_pc_inst:0 took: 0:01:37.471993\n",
      "2020-08-05 13:19:32.749546 starting: writing array-based template file 'kp_pc_inst0pp.dat.tpl'\n",
      "2020-08-05 13:19:32.771544 starting: adding parameters for file(s) ['kpc.txt']\n"
     ]
    }
   ],
   "source": [
    "## pp pc\n",
    "zpc = m.dis.idomain.array[3] # zone array for pp\n",
    "zpc[:,140:]=0\n",
    "zpc[zpc<0]=0\n",
    "#plt.imshow(zpc)\n",
    "\n",
    "pf.add_parameters(filenames=\"kpc.txt\",par_type=\"pilotpoint\",pp_space=9,zone_array=zpc,\n",
    "                   par_name_base=\"kp_pc\",pargp=\"pp_pc\",\n",
    "                   upper_bound=50,lower_bound=0.05,ult_ubound=5e-4,ult_lbound=5e-7,geostruct=grid_pc1)"
   ]
  },
  {
   "cell_type": "code",
   "execution_count": 13,
   "metadata": {},
   "outputs": [
    {
     "name": "stdout",
     "output_type": "stream",
     "text": [
      "2020-08-05 13:19:32.901540 starting: adding zone type multiplier style parameters for file(s) ['irr.txt']\n",
      "2020-08-05 13:19:32.902540 starting: loading array template\\irr.txt\n",
      "2020-08-05 13:19:32.967538 finished: loading array template\\irr.txt took: 0:00:00.064998\n",
      "2020-08-05 13:19:32.968538 loaded array 'irr.txt' of shape (182, 183)\n",
      "2020-08-05 13:19:33.031536 starting: writing array-based template file 'irr_inst0_zone.csv.tpl'\n",
      "2020-08-05 13:19:33.032536 starting: writing template file irr_inst0_zone.csv.tpl for ['irr_inst:0']\n",
      "2020-08-05 13:19:33.222529 finished: writing template file irr_inst0_zone.csv.tpl for ['irr_inst:0'] took: 0:00:00.189993\n",
      "2020-08-05 13:19:33.223529 finished: writing array-based template file 'irr_inst0_zone.csv.tpl' took: 0:00:00.191993\n",
      "2020-08-05 13:19:33.255530 starting: adding parameters for file(s) ['irr.txt']\n"
     ]
    },
    {
     "data": {
      "image/png": "[encoded data removed]",
      "text/plain": [
       "<Figure size 432x288 with 1 Axes>"
      ]
     },
     "metadata": {
      "needs_background": "light"
     },
     "output_type": "display_data"
    }
   ],
   "source": [
    "#irri\n",
    "zi = np.loadtxt(os.path.join(ws,\"zone_irr.txt\"))\n",
    "plt.imshow(zi)\n",
    "pf.add_parameters(filenames=\"irr.txt\",par_type=\"zone\",zone_array=zi,\n",
    "                   par_name_base=\"irr\",pargp=\"irr\",\n",
    "                   upper_bound=2,lower_bound=0.8)"
   ]
  },
  {
   "cell_type": "code",
   "execution_count": 14,
   "metadata": {
    "scrolled": true
   },
   "outputs": [
    {
     "name": "stdout",
     "output_type": "stream",
     "text": [
      "2020-08-05 13:19:33.601519 starting: adding constant type multiplier style parameters for file(s) ['kep.txt']\n",
      "2020-08-05 13:19:33.603519 starting: loading array template\\kep.txt\n",
      "2020-08-05 13:19:33.689516 finished: loading array template\\kep.txt took: 0:00:00.085997\n",
      "2020-08-05 13:19:33.689516 loaded array 'kep.txt' of shape (182, 183)\n",
      "2020-08-05 13:19:33.785513 starting: writing array-based template file 'ep_inst0_constant.csv.tpl'\n",
      "2020-08-05 13:19:33.786513 starting: writing template file ep_inst0_constant.csv.tpl for ['ep_inst:0']\n",
      "2020-08-05 13:19:34.194500 finished: writing template file ep_inst0_constant.csv.tpl for ['ep_inst:0'] took: 0:00:00.407987\n",
      "2020-08-05 13:19:34.196500 finished: writing array-based template file 'ep_inst0_constant.csv.tpl' took: 0:00:00.410987\n",
      "2020-08-05 13:19:34.297498 starting: adding parameters for file(s) ['kep.txt']\n",
      "2020-08-05 13:19:34.299497 starting: adding constant type multiplier style parameters for file(s) ['kpms.txt']\n",
      "2020-08-05 13:19:34.299497 starting: loading array template\\kpms.txt\n",
      "2020-08-05 13:19:34.388493 finished: loading array template\\kpms.txt took: 0:00:00.088996\n",
      "2020-08-05 13:19:34.389494 loaded array 'kpms.txt' of shape (182, 183)\n",
      "2020-08-05 13:19:34.477491 starting: writing array-based template file 'pms_inst0_constant.csv.tpl'\n",
      "2020-08-05 13:19:34.478491 starting: writing template file pms_inst0_constant.csv.tpl for ['pms_inst:0']\n",
      "2020-08-05 13:19:34.897478 finished: writing template file pms_inst0_constant.csv.tpl for ['pms_inst:0'] took: 0:00:00.418987\n",
      "2020-08-05 13:19:34.898478 finished: writing array-based template file 'pms_inst0_constant.csv.tpl' took: 0:00:00.420987\n",
      "2020-08-05 13:19:35.004475 starting: adding parameters for file(s) ['kpms.txt']\n",
      "2020-08-05 13:19:35.004475 starting: adding constant type multiplier style parameters for file(s) ['kqm.txt']\n",
      "2020-08-05 13:19:35.005475 starting: loading array template\\kqm.txt\n",
      "2020-08-05 13:19:35.088472 finished: loading array template\\kqm.txt took: 0:00:00.082997\n",
      "2020-08-05 13:19:35.089474 loaded array 'kqm.txt' of shape (182, 183)\n",
      "2020-08-05 13:19:35.178469 starting: writing array-based template file 'qm_inst0_constant.csv.tpl'\n",
      "2020-08-05 13:19:35.178469 starting: writing template file qm_inst0_constant.csv.tpl for ['qm_inst:0']\n",
      "2020-08-05 13:19:35.585456 finished: writing template file qm_inst0_constant.csv.tpl for ['qm_inst:0'] took: 0:00:00.406987\n",
      "2020-08-05 13:19:35.586457 finished: writing array-based template file 'qm_inst0_constant.csv.tpl' took: 0:00:00.407988\n",
      "2020-08-05 13:19:35.691454 starting: adding parameters for file(s) ['kqm.txt']\n"
     ]
    }
   ],
   "source": [
    "# kpms and kep\n",
    "pf.add_parameters(filenames=\"kep.txt\",par_type=\"constant\",\n",
    "                    par_name_base=\"ep\",pargp=\"ep\",\n",
    "                    upper_bound=30,lower_bound=0.1)\n",
    "pf.add_parameters(filenames=\"kpms.txt\",par_type=\"constant\",\n",
    "                 par_name_base=\"pms\",pargp=\"pms\",upper_bound=30,lower_bound=0.05)\n",
    "\n",
    "pf.add_parameters(filenames=\"kqm.txt\",par_type=\"constant\",\n",
    "                 par_name_base=\"qm\",pargp=\"qm\",upper_bound=10,lower_bound=0.01)"
   ]
  },
  {
   "cell_type": "markdown",
   "metadata": {},
   "source": [
    "### rivers"
   ]
  },
  {
   "cell_type": "code",
   "execution_count": 15,
   "metadata": {},
   "outputs": [],
   "source": [
    "rivers = [riv for riv in os.listdir(template_ws) if riv.endswith(\"riv\")]"
   ]
  },
  {
   "cell_type": "code",
   "execution_count": 16,
   "metadata": {},
   "outputs": [],
   "source": [
    "def riv_tpl(rivers,tmp_ws):\n",
    "    for riv in rivers:\n",
    "        riv_file = os.path.join(tmp_ws,riv)\n",
    "        tpl_file = riv_file+\".tpl\"\n",
    "        copyfile(riv_file, tpl_file)\n",
    "        \n",
    "        with fileinput.FileInput(tpl_file, inplace=True) as file:\n",
    "            for line in file:\n",
    "                print(line.replace(\"    0.00500000   \", \"~    c_{}     ~\".format(riv.split(\".\")[0])), end='')\n",
    "        with open(tpl_file, 'r+') as f:\n",
    "            content = f.read()\n",
    "            line = \"ptf ~\"\n",
    "            f.seek(0, 0)\n",
    "            f.write(line.rstrip('\\r\\n') + \"\\n\" + content)\n",
    "        \n",
    "        #add parameter to control file\n",
    "        dic = {\"parnme\":\"c_{}\".format(riv.split(\".\")[0]),\n",
    "              \"parval1\": 0.005,\n",
    "               \"pargp\": \"cond\",\n",
    "               \"tpl_filename\": tpl_file,\n",
    "               'input_filename':riv_file,\n",
    "               \"partype\" : \"constant\",\n",
    "               \"partrans\" : \"log\",\n",
    "               \"parubnd\" : 0.01,\n",
    "               \"parlbnd\" : 0.001,\n",
    "               \"parchglim\" : \"factor\",\n",
    "               \"scale\" : 1.0,\n",
    "               \"dercom\" : 1,\n",
    "               \"offset\" : 0.0} \n",
    "        a = pd.DataFrame(dic,index=[\"c_{}\".format(riv.split(\".\")[0])])\n",
    "        pf.par_dfs[0] = pf.par_dfs[0].append(a,sort=False)\n",
    "        \n",
    "        pf.tpl_filenames.append(riv+\".tpl\")\n",
    "        pf.input_filenames.append(riv)"
   ]
  },
  {
   "cell_type": "code",
   "execution_count": 17,
   "metadata": {},
   "outputs": [],
   "source": [
    "riv_tpl(rivers,template_ws)"
   ]
  },
  {
   "cell_type": "code",
   "execution_count": 18,
   "metadata": {},
   "outputs": [
    {
     "name": "stderr",
     "output_type": "stream",
     "text": [
      "C:\\Users\\emmal\\Anaconda3\\lib\\site-packages\\pyemu\\prototypes\\pst_from.py:472: FutureWarning: Sorting because non-concatenation axis is not aligned. A future version\n",
      "of pandas will change to not sort by default.\n",
      "\n",
      "To accept the future behavior, pass 'sort=False'.\n",
      "\n",
      "To retain the current behavior and silence the warning, pass 'sort=True'.\n",
      "\n",
      "  par_data = pd.concat(self.par_dfs).loc[:, par_data_cols]\n",
      "C:\\Users\\emmal\\Anaconda3\\lib\\site-packages\\pyemu\\prototypes\\pst_from.py:127: FutureWarning: Sorting because non-concatenation axis is not aligned. A future version\n",
      "of pandas will change to not sort by default.\n",
      "\n",
      "To accept the future behavior, pass 'sort=False'.\n",
      "\n",
      "To retain the current behavior and silence the warning, pass 'sort=True'.\n",
      "\n",
      "  ignore_index=True)\n"
     ]
    },
    {
     "name": "stdout",
     "output_type": "stream",
     "text": [
      "noptmax:30, npar_adj:275, nnz_obs:522\n"
     ]
    },
    {
     "data": {
      "text/plain": [
       "<pyemu.pst.pst_handler.Pst at 0x2015d886c48>"
      ]
     },
     "execution_count": 18,
     "metadata": {},
     "output_type": "execute_result"
    }
   ],
   "source": [
    "pf.build_pst(\"{}.pst\".format(case))"
   ]
  },
  {
   "cell_type": "code",
   "execution_count": 19,
   "metadata": {},
   "outputs": [
    {
     "name": "stdout",
     "output_type": "stream",
     "text": [
      "noptmax:30, npar_adj:275, nnz_obs:522\n",
      "2020-08-05 13:19:37.182412 forward_run line:pyemu.os_utils.run(r'..\\..\\..\\exe\\mf6')\n",
      "\n"
     ]
    }
   ],
   "source": [
    "# add run model command\n",
    "pf.mod_sys_cmds.append(\"..\\..\\..\\exe\\mf6\")\n",
    "pst = pf.build_pst(\"{}.pst\".format(case))"
   ]
  },
  {
   "cell_type": "code",
   "execution_count": 20,
   "metadata": {},
   "outputs": [
    {
     "name": "stdout",
     "output_type": "stream",
     "text": [
      "2020-08-05 13:19:37.235406 starting: building prior covariance matrix\n",
      "2020-08-05 13:19:37.419400 saving prior covariance matrix to file template\\3D_test.prior.cov\n"
     ]
    },
    {
     "name": "stderr",
     "output_type": "stream",
     "text": [
      "C:\\Users\\emmal\\Anaconda3\\lib\\site-packages\\pyemu\\utils\\helpers.py:248: UserWarning: geostatistical_prior_builder() warning: geostruct sill != 1.0, user beware!\n",
      "  warnings.warn(\"geostatistical_prior_builder() warning: geostruct sill != 1.0, user beware!\")\n"
     ]
    },
    {
     "name": "stdout",
     "output_type": "stream",
     "text": [
      "2020-08-05 13:19:37.535397 finished: building prior covariance matrix took: 0:00:00.299991\n"
     ]
    },
    {
     "data": {
      "text/plain": [
       "<matplotlib.colorbar.Colorbar at 0x2015db17c08>"
      ]
     },
     "execution_count": 20,
     "metadata": {},
     "output_type": "execute_result"
    },
    {
     "data": {
      "image/png": "[encoded data removed]",
      "text/plain": [
       "<Figure size 504x504 with 2 Axes>"
      ]
     },
     "metadata": {
      "needs_background": "light"
     },
     "output_type": "display_data"
    }
   ],
   "source": [
    "cov = pf.build_prior()\n",
    "x = cov.x.copy()\n",
    "x[x==0.0] = np.NaN\n",
    "fig,ax = plt.subplots(1,1,figsize=(7,7))\n",
    "g = ax.imshow(x)\n",
    "plt.colorbar(g)"
   ]
  },
  {
   "cell_type": "markdown",
   "metadata": {},
   "source": [
    "### Tikhonov"
   ]
  },
  {
   "cell_type": "code",
   "execution_count": 21,
   "metadata": {},
   "outputs": [
    {
     "name": "stdout",
     "output_type": "stream",
     "text": [
      "getting CC matrix\n",
      "processing\n"
     ]
    },
    {
     "data": {
      "text/html": [
       "<div>\n",
       "<style scoped>\n",
       "    .dataframe tbody tr th:only-of-type {\n",
       "        vertical-align: middle;\n",
       "    }\n",
       "\n",
       "    .dataframe tbody tr th {\n",
       "        vertical-align: top;\n",
       "    }\n",
       "\n",
       "    .dataframe thead th {\n",
       "        text-align: right;\n",
       "    }\n",
       "</style>\n",
       "<table border=\"1\" class=\"dataframe\">\n",
       "  <thead>\n",
       "    <tr style=\"text-align: right;\">\n",
       "      <th></th>\n",
       "      <th>pilbl</th>\n",
       "      <th>equation</th>\n",
       "      <th>obgnme</th>\n",
       "      <th>weight</th>\n",
       "    </tr>\n",
       "    <tr>\n",
       "      <th>pilbl</th>\n",
       "      <th></th>\n",
       "      <th></th>\n",
       "      <th></th>\n",
       "      <th></th>\n",
       "    </tr>\n",
       "  </thead>\n",
       "  <tbody>\n",
       "    <tr>\n",
       "      <td>pcc_1</td>\n",
       "      <td>pcc_1</td>\n",
       "      <td>1.0 * log(kp_q_inst:0_i:4_j:139) - 1.0 * log(kp_q_inst:0_i:13_j:139) = 0.0</td>\n",
       "      <td>regul_cc</td>\n",
       "      <td>0.634052</td>\n",
       "    </tr>\n",
       "    <tr>\n",
       "      <td>pcc_2</td>\n",
       "      <td>pcc_2</td>\n",
       "      <td>1.0 * log(kp_q_inst:0_i:4_j:139) - 1.0 * log(kp_q_inst:0_i:22_j:139) = 0.0</td>\n",
       "      <td>regul_cc</td>\n",
       "      <td>0.161621</td>\n",
       "    </tr>\n",
       "    <tr>\n",
       "      <td>pcc_3</td>\n",
       "      <td>pcc_3</td>\n",
       "      <td>1.0 * log(kp_q_inst:0_i:4_j:139) - 1.0 * log(kp_q_inst:0_i:31_j:130) = 0.0</td>\n",
       "      <td>regul_cc</td>\n",
       "      <td>0.005499</td>\n",
       "    </tr>\n",
       "    <tr>\n",
       "      <td>pcc_4</td>\n",
       "      <td>pcc_4</td>\n",
       "      <td>1.0 * log(kp_q_inst:0_i:4_j:139) - 1.0 * log(kp_q_inst:0_i:31_j:139) = 0.0</td>\n",
       "      <td>regul_cc</td>\n",
       "      <td>0.016562</td>\n",
       "    </tr>\n",
       "    <tr>\n",
       "      <td>pcc_5</td>\n",
       "      <td>pcc_5</td>\n",
       "      <td>1.0 * log(kp_q_inst:0_i:13_j:139) - 1.0 * log(kp_q_inst:0_i:22_j:139) = 0.0</td>\n",
       "      <td>regul_cc</td>\n",
       "      <td>0.634052</td>\n",
       "    </tr>\n",
       "    <tr>\n",
       "      <td>...</td>\n",
       "      <td>...</td>\n",
       "      <td>...</td>\n",
       "      <td>...</td>\n",
       "      <td>...</td>\n",
       "    </tr>\n",
       "    <tr>\n",
       "      <td>pcc_4204</td>\n",
       "      <td>pcc_4204</td>\n",
       "      <td>1.0 * log(kp_pc_inst:0_i:157_j:121) - 1.0 * log(kp_pc_inst:0_i:157_j:139) = 0.0</td>\n",
       "      <td>regul_cc</td>\n",
       "      <td>0.148912</td>\n",
       "    </tr>\n",
       "    <tr>\n",
       "      <td>pcc_4205</td>\n",
       "      <td>pcc_4205</td>\n",
       "      <td>1.0 * log(kp_pc_inst:0_i:157_j:121) - 1.0 * log(kp_pc_inst:0_i:166_j:103) = 0.0</td>\n",
       "      <td>regul_cc</td>\n",
       "      <td>0.232701</td>\n",
       "    </tr>\n",
       "    <tr>\n",
       "      <td>pcc_4206</td>\n",
       "      <td>pcc_4206</td>\n",
       "      <td>1.0 * log(kp_pc_inst:0_i:157_j:130) - 1.0 * log(kp_pc_inst:0_i:157_j:139) = 0.0</td>\n",
       "      <td>regul_cc</td>\n",
       "      <td>0.493812</td>\n",
       "    </tr>\n",
       "    <tr>\n",
       "      <td>pcc_4207</td>\n",
       "      <td>pcc_4207</td>\n",
       "      <td>1.0 * log(kp_pc_inst:0_i:157_j:130) - 1.0 * log(kp_pc_inst:0_i:166_j:103) = 0.0</td>\n",
       "      <td>regul_cc</td>\n",
       "      <td>0.054150</td>\n",
       "    </tr>\n",
       "    <tr>\n",
       "      <td>pcc_4208</td>\n",
       "      <td>pcc_4208</td>\n",
       "      <td>1.0 * log(kp_pc_inst:0_i:157_j:139) - 1.0 * log(kp_pc_inst:0_i:166_j:103) = 0.0</td>\n",
       "      <td>regul_cc</td>\n",
       "      <td>0.001759</td>\n",
       "    </tr>\n",
       "  </tbody>\n",
       "</table>\n",
       "<p>4208 rows × 4 columns</p>\n",
       "</div>"
      ],
      "text/plain": [
       "             pilbl  \\\n",
       "pilbl                \n",
       "pcc_1        pcc_1   \n",
       "pcc_2        pcc_2   \n",
       "pcc_3        pcc_3   \n",
       "pcc_4        pcc_4   \n",
       "pcc_5        pcc_5   \n",
       "...            ...   \n",
       "pcc_4204  pcc_4204   \n",
       "pcc_4205  pcc_4205   \n",
       "pcc_4206  pcc_4206   \n",
       "pcc_4207  pcc_4207   \n",
       "pcc_4208  pcc_4208   \n",
       "\n",
       "                                                                                 equation  \\\n",
       "pilbl                                                                                       \n",
       "pcc_1          1.0 * log(kp_q_inst:0_i:4_j:139) - 1.0 * log(kp_q_inst:0_i:13_j:139) = 0.0   \n",
       "pcc_2          1.0 * log(kp_q_inst:0_i:4_j:139) - 1.0 * log(kp_q_inst:0_i:22_j:139) = 0.0   \n",
       "pcc_3          1.0 * log(kp_q_inst:0_i:4_j:139) - 1.0 * log(kp_q_inst:0_i:31_j:130) = 0.0   \n",
       "pcc_4          1.0 * log(kp_q_inst:0_i:4_j:139) - 1.0 * log(kp_q_inst:0_i:31_j:139) = 0.0   \n",
       "pcc_5         1.0 * log(kp_q_inst:0_i:13_j:139) - 1.0 * log(kp_q_inst:0_i:22_j:139) = 0.0   \n",
       "...                                                                                   ...   \n",
       "pcc_4204  1.0 * log(kp_pc_inst:0_i:157_j:121) - 1.0 * log(kp_pc_inst:0_i:157_j:139) = 0.0   \n",
       "pcc_4205  1.0 * log(kp_pc_inst:0_i:157_j:121) - 1.0 * log(kp_pc_inst:0_i:166_j:103) = 0.0   \n",
       "pcc_4206  1.0 * log(kp_pc_inst:0_i:157_j:130) - 1.0 * log(kp_pc_inst:0_i:157_j:139) = 0.0   \n",
       "pcc_4207  1.0 * log(kp_pc_inst:0_i:157_j:130) - 1.0 * log(kp_pc_inst:0_i:166_j:103) = 0.0   \n",
       "pcc_4208  1.0 * log(kp_pc_inst:0_i:157_j:139) - 1.0 * log(kp_pc_inst:0_i:166_j:103) = 0.0   \n",
       "\n",
       "            obgnme    weight  \n",
       "pilbl                         \n",
       "pcc_1     regul_cc  0.634052  \n",
       "pcc_2     regul_cc  0.161621  \n",
       "pcc_3     regul_cc  0.005499  \n",
       "pcc_4     regul_cc  0.016562  \n",
       "pcc_5     regul_cc  0.634052  \n",
       "...            ...       ...  \n",
       "pcc_4204  regul_cc  0.148912  \n",
       "pcc_4205  regul_cc  0.232701  \n",
       "pcc_4206  regul_cc  0.493812  \n",
       "pcc_4207  regul_cc  0.054150  \n",
       "pcc_4208  regul_cc  0.001759  \n",
       "\n",
       "[4208 rows x 4 columns]"
      ]
     },
     "execution_count": 21,
     "metadata": {},
     "output_type": "execute_result"
    }
   ],
   "source": [
    "\n",
    "#setup first order tikho (preferred value regularization)\n",
    "pyemu.helpers.first_order_pearson_tikhonov(pst,cov)\n",
    "\n",
    "pst.prior_information"
   ]
  },
  {
   "cell_type": "code",
   "execution_count": 26,
   "metadata": {},
   "outputs": [
    {
     "name": "stdout",
     "output_type": "stream",
     "text": [
      "noptmax:-1, npar_adj:275, nnz_obs:522\n"
     ]
    }
   ],
   "source": [
    "pst.control_data.noptmax = -1 # FOR JACOBIAN\n",
    "pst.write(os.path.join(template_ws,\"{}.pst\".format(case)))"
   ]
  },
  {
   "cell_type": "code",
   "execution_count": 25,
   "metadata": {},
   "outputs": [],
   "source": [
    "#pyemu.os_utils.run(\"..\\..\\pestpp-glm.exe {}\".format(case),cwd=\"template\")"
   ]
  },
  {
   "cell_type": "code",
   "execution_count": 27,
   "metadata": {},
   "outputs": [],
   "source": [
    "m_d = \"master_glm\"\n",
    "\n",
    "pyemu.os_utils.start_workers(template_ws,\"../../pestpp-glm.exe\",\"{}.pst\".format(case),num_workers=10,worker_root=\".\",master_dir=m_d)"
   ]
  },
  {
   "cell_type": "code",
   "execution_count": 28,
   "metadata": {},
   "outputs": [
    {
     "name": "stdout",
     "output_type": "stream",
     "text": [
      "noptmax:8, npar_adj:275, nnz_obs:522\n"
     ]
    }
   ],
   "source": [
    "t_d =\"master_glm\"\n",
    "case = \"3D_test\"\n",
    "pst = pyemu.Pst(os.path.join(t_d,\"{}.pst\".format(case)))\n",
    "pst.write_par_summary_table(filename=\"none\")\n",
    "\n",
    "#pst.svd_data.eigthresh = 5e-7\n",
    "pst.control_data.noptmax = 8 # number of iterations (should be set to a great value (50))\n",
    "pst.control_data.nphistp = 8\n",
    "pst.pestpp_options[\"n_iter_base\"] = -1\n",
    "pst.pestpp_options[\"n_iter_super\"] = 3\n",
    "pst.pestpp_options[\"glm_num_reals\"] = 50 # how many draws\n",
    "pst.pestpp_options[\"parcov\"] = \"{}.prior.cov\".format(case)\n",
    "pst.pestpp_options[\"base_jacobian\"] = \"{}.jcb\".format(case)\n",
    "pst.write(os.path.join(t_d,\"{}.pst\".format(case)))\n",
    "\n",
    "# DO the inversion\n",
    "m_d = \"master_glm_run\"\n",
    "pyemu.os_utils.start_workers(t_d,\"../../pestpp-glm.exe\",\"{}.pst\".format(case),num_workers=10,worker_root=\".\",\n",
    "                             master_dir=m_d)"
   ]
  },
  {
   "cell_type": "code",
   "execution_count": null,
   "metadata": {},
   "outputs": [],
   "source": []
  },
  {
   "cell_type": "code",
   "execution_count": null,
   "metadata": {},
   "outputs": [],
   "source": []
  }
 ],
 "metadata": {
  "kernelspec": {
   "display_name": "Python 3",
   "language": "python",
   "name": "python3"
  },
  "language_info": {
   "codemirror_mode": {
    "name": "ipython",
    "version": 3
   },
   "file_extension": ".py",
   "mimetype": "text/x-python",
   "name": "python",
   "nbconvert_exporter": "python",
   "pygments_lexer": "ipython3",
   "version": "3.7.4"
  }
 },
 "nbformat": 4,
 "nbformat_minor": 2
}
