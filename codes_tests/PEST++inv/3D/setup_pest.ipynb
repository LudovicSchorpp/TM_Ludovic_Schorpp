{
 "cells": [
  {
   "cell_type": "code",
   "execution_count": 2,
   "metadata": {},
   "outputs": [],
   "source": [
    "import pyemu\n",
    "import numpy as np\n",
    "import matplotlib.pyplot as plt\n",
    "import pandas as pd\n",
    "import flopy as fp\n",
    "from flopy.utils.reference import SpatialReference\n",
    "import os\n",
    "import sys\n",
    "from shutil import copyfile\n",
    "import fileinput\n",
    "\n",
    "sys.path.append(\"../../modules\")\n",
    "# hand made functions\n",
    "from Rouss import *"
   ]
  },
  {
   "cell_type": "code",
   "execution_count": 3,
   "metadata": {},
   "outputs": [],
   "source": [
    "ws = \"workspace\"\n",
    "m_n_i = \"pest_3d_r\"\n",
    "m_n = \"pest_3D_R\"\n",
    "\n",
    "case = \"3D_test\""
   ]
  },
  {
   "cell_type": "code",
   "execution_count": 4,
   "metadata": {},
   "outputs": [
    {
     "name": "stdout",
     "output_type": "stream",
     "text": [
      "loading simulation...\n",
      "  loading simulation name file...\n",
      "  loading tdis package...\n",
      "  loading model gwf6...\n",
      "    loading package dis...\n",
      "    loading package ic...\n",
      "    loading package oc...\n",
      "    loading package npf...\n",
      "    loading package wel...\n",
      "    loading package rch...\n",
      "    loading package rch...\n",
      "    loading package rch...\n",
      "    loading package wel...\n",
      "    loading package chd...\n",
      "    loading package chd...\n",
      "    loading package drn...\n",
      "    loading package riv...\n",
      "    loading package riv...\n",
      "    loading package riv...\n",
      "    loading package riv...\n",
      "    loading package riv...\n",
      "    loading package riv...\n",
      "    loading package obs...\n",
      "WARNING: Block header for block \"continuous\" is not a unique block header ('pest_3d_r', 'obs', 'continuous')\n",
      "WARNING: Block header for block \"continuous\" is not a unique block header ('pest_3d_r', 'obs', 'continuous')\n",
      "  loading ims package pest_3d_r...\n"
     ]
    }
   ],
   "source": [
    "sim = fp.mf6.MFSimulation.load(sim_ws=ws)\n",
    "m = sim.get_model(m_n_i)"
   ]
  },
  {
   "cell_type": "code",
   "execution_count": 5,
   "metadata": {},
   "outputs": [
    {
     "data": {
      "text/plain": [
       "xul:664525; yul:6207475; rotation:0; proj4_str:None; units:meters; lenuni:2; length_multiplier:1.0"
      ]
     },
     "execution_count": 5,
     "metadata": {},
     "output_type": "execute_result"
    }
   ],
   "source": [
    "sr = SpatialReference(delr=m.dis.delr.array, delc=m.dis.delc.array, xll=m.dis.xorigin.array, yll=m.dis.yorigin.array)\n",
    "sr"
   ]
  },
  {
   "cell_type": "code",
   "execution_count": 6,
   "metadata": {},
   "outputs": [
    {
     "name": "stdout",
     "output_type": "stream",
     "text": [
      "2020-07-19 13:22:22.697937 starting: opening PstFrom.log for logging\n",
      "2020-07-19 13:22:22.697937 starting PstFrom process\n",
      "2020-07-19 13:22:22.700938 starting: setting up dirs\n",
      "2020-07-19 13:22:22.701936 starting: removing existing new_d 'template'\n",
      "2020-07-19 13:22:22.736936 finished: removing existing new_d 'template' took: 0:00:00.035000\n",
      "2020-07-19 13:22:22.736936 starting: copying original_d 'workspace' to new_d 'template'\n",
      "2020-07-19 13:22:22.866932 finished: copying original_d 'workspace' to new_d 'template' took: 0:00:00.129996\n",
      "2020-07-19 13:22:22.868932 finished: setting up dirs took: 0:00:00.167994\n"
     ]
    }
   ],
   "source": [
    "# empty pst object\n",
    "template_ws = \"template\"\n",
    "pf = pyemu.prototypes.PstFrom(original_d=ws, new_d=template_ws,\n",
    "                 remove_existing=True,\n",
    "                 longnames=True, spatial_reference=sr,\n",
    "                 zero_based=False)"
   ]
  },
  {
   "cell_type": "code",
   "execution_count": 7,
   "metadata": {
    "scrolled": false
   },
   "outputs": [
    {
     "name": "stdout",
     "output_type": "stream",
     "text": [
      "2020-07-19 13:22:22.900930 starting: adding observations from tabular output file\n",
      "2020-07-19 13:22:22.900930 starting: reading list template\\heads_q.csv\n",
      "2020-07-19 13:22:22.909930 finished: reading list template\\heads_q.csv took: 0:00:00.009000\n",
      "2020-07-19 13:22:22.910930 starting: building insfile for tabular output file heads_q.csv\n",
      "2020-07-19 13:22:22.935929 finished: building insfile for tabular output file heads_q.csv took: 0:00:00.024999\n",
      "2020-07-19 13:22:22.936930 starting: adding observation from instruction file 'template\\heads_q.csv.ins'\n",
      "2020-07-19 13:22:22.956928 finished: adding observation from instruction file 'template\\heads_q.csv.ins' took: 0:00:00.019998\n",
      "2020-07-19 13:22:22.959928 finished: adding observations from tabular output file took: 0:00:00.058998\n",
      "2020-07-19 13:22:22.967928 starting: adding observations from tabular output file\n",
      "2020-07-19 13:22:22.968928 starting: reading list template\\heads_pc.csv\n",
      "2020-07-19 13:22:22.975928 finished: reading list template\\heads_pc.csv took: 0:00:00.007000\n",
      "2020-07-19 13:22:22.976930 starting: building insfile for tabular output file heads_pc.csv\n",
      "2020-07-19 13:22:22.996927 finished: building insfile for tabular output file heads_pc.csv took: 0:00:00.019997\n",
      "2020-07-19 13:22:22.997929 starting: adding observation from instruction file 'template\\heads_pc.csv.ins'\n",
      "2020-07-19 13:22:23.014927 finished: adding observation from instruction file 'template\\heads_pc.csv.ins' took: 0:00:00.016998\n",
      "2020-07-19 13:22:23.018927 finished: adding observations from tabular output file took: 0:00:00.050999\n",
      "2020-07-19 13:22:23.030928 starting: adding observations from tabular output file\n",
      "2020-07-19 13:22:23.031927 starting: reading list template\\heads_map_q.csv\n",
      "2020-07-19 13:22:23.042926 finished: reading list template\\heads_map_q.csv took: 0:00:00.010999\n",
      "2020-07-19 13:22:23.043926 starting: building insfile for tabular output file heads_map_q.csv\n",
      "2020-07-19 13:22:23.068925 finished: building insfile for tabular output file heads_map_q.csv took: 0:00:00.024999\n",
      "2020-07-19 13:22:23.069926 starting: adding observation from instruction file 'template\\heads_map_q.csv.ins'\n",
      "2020-07-19 13:22:23.092924 finished: adding observation from instruction file 'template\\heads_map_q.csv.ins' took: 0:00:00.022998\n",
      "2020-07-19 13:22:23.096925 finished: adding observations from tabular output file took: 0:00:00.065997\n"
     ]
    }
   ],
   "source": [
    "#add observation\n",
    "#Quat\n",
    "df = pd.read_csv(os.path.join(template_ws,\"heads_q.csv\"),index_col=0)\n",
    "hds_df = pf.add_observations(\"heads_q.csv\",insfile=\"heads_q.csv.ins\",index_cols=\"time\",\n",
    "                use_cols=list(df.columns.values),prefix=\"quat\",obsgp=True)\n",
    "#P\n",
    "df = pd.read_csv(os.path.join(template_ws,\"heads_pc.csv\"),index_col=0)\n",
    "hds_df = pf.add_observations(\"heads_pc.csv\",insfile=\"heads_pc.csv.ins\",index_cols=\"time\",\n",
    "                use_cols=list(df.columns.values),prefix=\"pc\",obsgp=True)\n",
    "\n",
    "#Q map\n",
    "file = \"heads_map_q.csv\"\n",
    "df = pd.read_csv(os.path.join(template_ws,file),index_col=0)\n",
    "hds_df = pf.add_observations(file,insfile=\"{}.ins\".format(file),index_cols=\"time\",\n",
    "                use_cols=list(df.columns.values),prefix=\"qmap\",obsgp=True)\n",
    "\n",
    "pf.obs_dfs[2].weight = 0.5 # set a weaker weigth to these points"
   ]
  },
  {
   "cell_type": "code",
   "execution_count": 8,
   "metadata": {},
   "outputs": [],
   "source": [
    "def chInsfle(file):\n",
    "    \n",
    "    \"\"\"\n",
    "    change a ins file create with PstFrom (only for a model with 1 stress period)\n",
    "    in the right format to be used by PEST\n",
    "    \"\"\"\n",
    "    \n",
    "    fileout = \"tmp\"\n",
    "    with open(file) as f:\n",
    "        with open(fileout,\"w\") as fout:\n",
    "            for i,line in enumerate(f):\n",
    "                if i < 2:\n",
    "                    fout.write(line)\n",
    "                if i > 1:\n",
    "                    for o,split in enumerate(line.split(\"w\")):\n",
    "                        if o == 1:\n",
    "                            fout.write(\"~,~\")\n",
    "                        fout.write(split)\n",
    "                        \n",
    "    from shutil import copyfile\n",
    "    copyfile(fileout, file) # copy \n",
    "    os.remove(fileout) # delete tmp file\n",
    "\n",
    "chInsfle(\"template/heads_pc.csv.ins\")\n",
    "chInsfle(\"template/heads_q.csv.ins\")\n",
    "chInsfle(\"template/heads_map_q.csv.ins\")\n",
    "\n",
    "pf.obs_dfs[0].obgnme = \"Quat\"\n",
    "pf.obs_dfs[1].obgnme = \"Pc\"\n",
    "pf.obs_dfs[2].obgnme = \"Qmap\""
   ]
  },
  {
   "cell_type": "code",
   "execution_count": 9,
   "metadata": {},
   "outputs": [
    {
     "name": "stdout",
     "output_type": "stream",
     "text": [
      "noptmax:30, npar_adj:0, nnz_obs:222\n"
     ]
    },
    {
     "data": {
      "text/plain": [
       "<pyemu.pst.pst_handler.Pst at 0x29f73fe05c8>"
      ]
     },
     "execution_count": 9,
     "metadata": {},
     "output_type": "execute_result"
    }
   ],
   "source": [
    "pf.build_pst(\"{}.pst\".format(case))"
   ]
  },
  {
   "cell_type": "markdown",
   "metadata": {},
   "source": [
    "### Parameters"
   ]
  },
  {
   "cell_type": "code",
   "execution_count": 10,
   "metadata": {},
   "outputs": [
    {
     "name": "stderr",
     "output_type": "stream",
     "text": [
      "C:\\Users\\emmal\\Anaconda3\\lib\\site-packages\\pyemu\\utils\\geostats.py:244: MatplotlibDeprecationWarning: Adding an axes using the same arguments as a previous axes currently reuses the earlier instance.  In a future version, a new instance will always be created and returned.  Meanwhile, this warning can be suppressed, and the future behavior ensured, by passing a unique label to each axes instance.\n",
      "  ax = plt.subplot(111)\n"
     ]
    },
    {
     "data": {
      "text/plain": [
       "<matplotlib.legend.Legend at 0x29f729babc8>"
      ]
     },
     "execution_count": 10,
     "metadata": {},
     "output_type": "execute_result"
    },
    {
     "data": {
      "image/png": "[encoded data removed]",
      "text/plain": [
       "<Figure size 576x288 with 1 Axes>"
      ]
     },
     "metadata": {
      "needs_background": "light"
     },
     "output_type": "display_data"
    }
   ],
   "source": [
    "fig,ax = plt.subplots(figsize=(8,4))\n",
    "\n",
    "#q\n",
    "vq1 = pyemu.geostats.GauVario(a=1350,contribution=0.485)\n",
    "vq2 = pyemu.geostats.ExpVario(a=1350,contribution=0.485)\n",
    "grid_q1 = pyemu.geostats.GeoStruct(variograms=vq1, transform='log')\n",
    "grid_q2 = pyemu.geostats.GeoStruct(variograms=vq2,nugget=0.06 , transform='log')\n",
    "b=grid_q1.plot()\n",
    "b=grid_q2.plot()\n",
    "\n",
    "#pc\n",
    "vp2 = pyemu.geostats.ExpVario(a=4000/1.5,contribution=0.205)\n",
    "vp1 = pyemu.geostats.GauVario(a=4000,contribution=0.205)\n",
    "grid_pc2 = pyemu.geostats.GeoStruct(variograms=vp1, transform='log')\n",
    "grid_pc1 = pyemu.geostats.GeoStruct(variograms=vp2, transform='log')\n",
    "a=grid_pc1.plot()\n",
    "a=grid_pc2.plot()\n",
    "\n",
    "a.set_title(\"Spatial vario Q vs PC\")\n",
    "plt.legend([\"QGau\",\"Qexp\",\"PCexp\",\"PCGau\"])"
   ]
  },
  {
   "cell_type": "code",
   "execution_count": 11,
   "metadata": {},
   "outputs": [
    {
     "name": "stdout",
     "output_type": "stream",
     "text": [
      "2020-07-19 13:22:24.173892 starting: adding pilotpoint type multiplier style parameters for file(s) ['kq.txt']\n",
      "2020-07-19 13:22:24.178891 starting: loading array template\\kq.txt\n",
      "2020-07-19 13:22:24.248889 finished: loading array template\\kq.txt took: 0:00:00.069998\n",
      "2020-07-19 13:22:24.249889 loaded array 'kq.txt' of shape (182, 183)\n",
      "2020-07-19 13:22:24.331887 starting: writing array-based template file 'kp_q_inst0_pilotpoint.csv.tpl'\n",
      "2020-07-19 13:22:24.332886 starting: setting up pilot point parameters\n",
      "2020-07-19 13:22:24.333886 No spatial reference (containing cell spacing) passed.\n",
      "2020-07-19 13:22:24.333886 OK - using spatial reference in parent object.\n",
      "2020-07-19 13:22:25.534849 224 pilot point parameters created\n",
      "2020-07-19 13:22:25.536854 pilot point 'pargp':kp_q_inst:0\n",
      "2020-07-19 13:22:25.536854 finished: setting up pilot point parameters took: 0:00:01.203968\n",
      "2020-07-19 13:22:25.617846 starting: calculating factors for pargp=kp_q_inst:0\n",
      "2020-07-19 13:22:25.618846 saving krige variance file:template\\kp_q_inst0pp.var.dat\n",
      "2020-07-19 13:22:25.619847 saving krige factors file:template\\kp_q_inst0pp.fac\n",
      "starting interp point loop for 33306 points\n",
      "starting 0\n",
      "starting 1\n",
      "starting 2\n",
      "starting 3\n",
      "starting 4\n",
      "starting 5\n",
      "starting 6\n",
      "starting 7\n",
      "starting 8\n",
      "starting 9\n",
      "took 76.07463 seconds\n",
      "2020-07-19 13:23:43.264428 finished: calculating factors for pargp=kp_q_inst:0 took: 0:01:17.646582\n",
      "2020-07-19 13:23:43.265430 starting: writing array-based template file 'kp_q_inst0pp.dat.tpl'\n",
      "2020-07-19 13:23:43.287432 starting: adding parameters for file(s) ['kq.txt']\n"
     ]
    }
   ],
   "source": [
    "## pp quat\n",
    "zq = m.dis.idomain.array[1] # zone array for pp\n",
    "zq[:,140:]=0\n",
    "zq[zq<0]=0\n",
    "#plt.imshow(zq)\n",
    "pf.add_parameters(filenames=\"kq.txt\",par_type=\"pilotpoint\",pp_space=6,zone_array=zq,\n",
    "                   par_name_base=\"kp_q\",pargp=\"pp_q\",\n",
    "                   upper_bound=5,lower_bound=0.005,ult_ubound=5e-3,ult_lbound=1e-5,geostruct=grid_q2)"
   ]
  },
  {
   "cell_type": "code",
   "execution_count": 12,
   "metadata": {},
   "outputs": [
    {
     "name": "stdout",
     "output_type": "stream",
     "text": [
      "2020-07-19 13:23:43.322428 starting: adding pilotpoint type multiplier style parameters for file(s) ['kpc.txt']\n",
      "2020-07-19 13:23:43.323428 starting: loading array template\\kpc.txt\n",
      "2020-07-19 13:23:43.392426 finished: loading array template\\kpc.txt took: 0:00:00.068998\n",
      "2020-07-19 13:23:43.392426 loaded array 'kpc.txt' of shape (182, 183)\n",
      "2020-07-19 13:23:43.471424 starting: writing array-based template file 'kp_pc_inst0_pilotpoint.csv.tpl'\n",
      "2020-07-19 13:23:43.472424 starting: setting up pilot point parameters\n",
      "2020-07-19 13:23:43.473422 No spatial reference (containing cell spacing) passed.\n",
      "2020-07-19 13:23:43.473422 OK - using spatial reference in parent object.\n",
      "2020-07-19 13:23:44.970376 293 pilot point parameters created\n",
      "2020-07-19 13:23:44.972376 pilot point 'pargp':kp_pc_inst:0\n",
      "2020-07-19 13:23:44.972376 finished: setting up pilot point parameters took: 0:00:01.499952\n",
      "2020-07-19 13:23:45.072373 starting: calculating factors for pargp=kp_pc_inst:0\n",
      "2020-07-19 13:23:45.073372 saving krige variance file:template\\kp_pc_inst0pp.var.dat\n",
      "2020-07-19 13:23:45.073372 saving krige factors file:template\\kp_pc_inst0pp.fac\n",
      "starting interp point loop for 33306 points\n",
      "starting 0\n",
      "starting 1\n",
      "starting 2\n",
      "starting 3\n",
      "starting 4\n",
      "starting 5\n",
      "starting 6\n",
      "starting 7\n",
      "starting 8\n",
      "starting 9\n",
      "took 81.855453 seconds\n",
      "2020-07-19 13:25:09.329750 finished: calculating factors for pargp=kp_pc_inst:0 took: 0:01:24.257377\n",
      "2020-07-19 13:25:09.330751 starting: writing array-based template file 'kp_pc_inst0pp.dat.tpl'\n",
      "2020-07-19 13:25:09.355749 starting: adding parameters for file(s) ['kpc.txt']\n"
     ]
    }
   ],
   "source": [
    "## pp pc\n",
    "zpc = m.dis.idomain.array[3] # zone array for pp\n",
    "zpc[:,140:]=0\n",
    "zpc[zpc<0]=0\n",
    "#plt.imshow(zpc)\n",
    "\n",
    "pf.add_parameters(filenames=\"kpc.txt\",par_type=\"pilotpoint\",pp_space=6,zone_array=zpc,\n",
    "                   par_name_base=\"kp_pc\",pargp=\"pp_pc\",\n",
    "                   upper_bound=30,lower_bound=0.1,ult_ubound=1e-3,ult_lbound=1e-6,geostruct=grid_pc2)"
   ]
  },
  {
   "cell_type": "code",
   "execution_count": 13,
   "metadata": {},
   "outputs": [
    {
     "name": "stdout",
     "output_type": "stream",
     "text": [
      "2020-07-19 13:25:09.457746 starting: adding zone type multiplier style parameters for file(s) ['irr.txt']\n",
      "2020-07-19 13:25:09.458746 starting: loading array template\\irr.txt\n",
      "2020-07-19 13:25:09.511744 finished: loading array template\\irr.txt took: 0:00:00.052998\n",
      "2020-07-19 13:25:09.511744 loaded array 'irr.txt' of shape (182, 183)\n",
      "2020-07-19 13:25:09.567742 starting: writing array-based template file 'irr_inst0_zone.csv.tpl'\n",
      "2020-07-19 13:25:09.568743 starting: writing template file irr_inst0_zone.csv.tpl for ['irr_inst:0']\n",
      "2020-07-19 13:25:09.724737 finished: writing template file irr_inst0_zone.csv.tpl for ['irr_inst:0'] took: 0:00:00.155994\n",
      "2020-07-19 13:25:09.725738 finished: writing array-based template file 'irr_inst0_zone.csv.tpl' took: 0:00:00.157996\n",
      "2020-07-19 13:25:09.749738 starting: adding parameters for file(s) ['irr.txt']\n"
     ]
    },
    {
     "data": {
      "image/png": "[encoded data removed]",
      "text/plain": [
       "<Figure size 432x288 with 1 Axes>"
      ]
     },
     "metadata": {
      "needs_background": "light"
     },
     "output_type": "display_data"
    }
   ],
   "source": [
    "#irri\n",
    "zi = np.loadtxt(os.path.join(ws,\"zone_irr.txt\"))\n",
    "plt.imshow(zi)\n",
    "pf.add_parameters(filenames=\"irr.txt\",par_type=\"zone\",zone_array=zi,\n",
    "                   par_name_base=\"irr\",pargp=\"irr\",\n",
    "                   upper_bound=2,lower_bound=0.8)"
   ]
  },
  {
   "cell_type": "code",
   "execution_count": 14,
   "metadata": {},
   "outputs": [
    {
     "name": "stdout",
     "output_type": "stream",
     "text": [
      "2020-07-19 13:25:09.988730 starting: adding constant type multiplier style parameters for file(s) ['kep.txt']\n",
      "2020-07-19 13:25:09.989729 starting: loading array template\\kep.txt\n",
      "2020-07-19 13:25:10.056727 finished: loading array template\\kep.txt took: 0:00:00.066998\n",
      "2020-07-19 13:25:10.057728 loaded array 'kep.txt' of shape (182, 183)\n",
      "2020-07-19 13:25:10.134727 starting: writing array-based template file 'ep_inst0_constant.csv.tpl'\n",
      "2020-07-19 13:25:10.135725 starting: writing template file ep_inst0_constant.csv.tpl for ['ep_inst:0']\n",
      "2020-07-19 13:25:10.490713 finished: writing template file ep_inst0_constant.csv.tpl for ['ep_inst:0'] took: 0:00:00.354988\n",
      "2020-07-19 13:25:10.490713 finished: writing array-based template file 'ep_inst0_constant.csv.tpl' took: 0:00:00.355986\n",
      "2020-07-19 13:25:10.585710 starting: adding parameters for file(s) ['kep.txt']\n",
      "2020-07-19 13:25:10.586710 starting: adding constant type multiplier style parameters for file(s) ['kpms.txt']\n",
      "2020-07-19 13:25:10.586710 starting: loading array template\\kpms.txt\n",
      "2020-07-19 13:25:10.655708 finished: loading array template\\kpms.txt took: 0:00:00.068998\n",
      "2020-07-19 13:25:10.656708 loaded array 'kpms.txt' of shape (182, 183)\n",
      "2020-07-19 13:25:10.731706 starting: writing array-based template file 'pms_inst0_constant.csv.tpl'\n",
      "2020-07-19 13:25:10.732706 starting: writing template file pms_inst0_constant.csv.tpl for ['pms_inst:0']\n",
      "2020-07-19 13:25:11.082695 finished: writing template file pms_inst0_constant.csv.tpl for ['pms_inst:0'] took: 0:00:00.349989\n",
      "2020-07-19 13:25:11.083695 finished: writing array-based template file 'pms_inst0_constant.csv.tpl' took: 0:00:00.351989\n",
      "2020-07-19 13:25:11.181692 starting: adding parameters for file(s) ['kpms.txt']\n"
     ]
    }
   ],
   "source": [
    "# kpms and kep\n",
    "pf.add_parameters(filenames=\"kep.txt\",par_type=\"constant\",\n",
    "                   par_name_base=\"ep\",pargp=\"ep\",\n",
    "                   upper_bound=10,lower_bound=0.1)\n",
    "pf.add_parameters(filenames=\"kpms.txt\",par_type=\"constant\",\n",
    "                 par_name_base=\"pms\",pargp=\"pms\",upper_bound=30,lower_bound=0.1)"
   ]
  },
  {
   "cell_type": "markdown",
   "metadata": {},
   "source": [
    "### rivers"
   ]
  },
  {
   "cell_type": "code",
   "execution_count": 15,
   "metadata": {},
   "outputs": [],
   "source": [
    "rivers = [riv for riv in os.listdir(template_ws) if riv.endswith(\"riv\")]"
   ]
  },
  {
   "cell_type": "code",
   "execution_count": 16,
   "metadata": {},
   "outputs": [],
   "source": [
    "def riv_tpl(rivers,tmp_ws):\n",
    "    for riv in rivers:\n",
    "        riv_file = os.path.join(tmp_ws,riv)\n",
    "        tpl_file = riv_file+\".tpl\"\n",
    "        copyfile(riv_file, tpl_file)\n",
    "        \n",
    "        with fileinput.FileInput(tpl_file, inplace=True) as file:\n",
    "            for line in file:\n",
    "                print(line.replace(\"    0.00500000   \", \"~    c_{}     ~\".format(riv.split(\".\")[0])), end='')\n",
    "        with open(tpl_file, 'r+') as f:\n",
    "            content = f.read()\n",
    "            line = \"ptf ~\"\n",
    "            f.seek(0, 0)\n",
    "            f.write(line.rstrip('\\r\\n') + \"\\n\" + content)\n",
    "        \n",
    "        #add parameter to control file\n",
    "        dic = {\"parnme\":\"c_{}\".format(riv.split(\".\")[0]),\n",
    "              \"parval1\": 0.005,\n",
    "               \"pargp\": \"cond\",\n",
    "               \"tpl_filename\": tpl_file,\n",
    "               'input_filename':riv_file,\n",
    "               \"partype\" : \"constant\",\n",
    "               \"partrans\" : \"log\",\n",
    "               \"parubnd\" : 0.01,\n",
    "               \"parlbnd\" : 0.001,\n",
    "               \"parchglim\" : \"factor\",\n",
    "               \"scale\" : 1.0,\n",
    "               \"dercom\" : 1,\n",
    "               \"offset\" : 0.0} \n",
    "        a = pd.DataFrame(dic,index=[\"c_{}\".format(riv.split(\".\")[0])])\n",
    "        pf.par_dfs[0] = pf.par_dfs[0].append(a,sort=False)\n",
    "        \n",
    "        pf.tpl_filenames.append(riv+\".tpl\")\n",
    "        pf.input_filenames.append(riv)"
   ]
  },
  {
   "cell_type": "code",
   "execution_count": 17,
   "metadata": {},
   "outputs": [],
   "source": [
    "riv_tpl(rivers,template_ws)"
   ]
  },
  {
   "cell_type": "code",
   "execution_count": 18,
   "metadata": {},
   "outputs": [
    {
     "name": "stderr",
     "output_type": "stream",
     "text": [
      "C:\\Users\\emmal\\Anaconda3\\lib\\site-packages\\pyemu\\prototypes\\pst_from.py:472: FutureWarning: Sorting because non-concatenation axis is not aligned. A future version\n",
      "of pandas will change to not sort by default.\n",
      "\n",
      "To accept the future behavior, pass 'sort=False'.\n",
      "\n",
      "To retain the current behavior and silence the warning, pass 'sort=True'.\n",
      "\n",
      "  par_data = pd.concat(self.par_dfs).loc[:, par_data_cols]\n",
      "C:\\Users\\emmal\\Anaconda3\\lib\\site-packages\\pyemu\\prototypes\\pst_from.py:127: FutureWarning: Sorting because non-concatenation axis is not aligned. A future version\n",
      "of pandas will change to not sort by default.\n",
      "\n",
      "To accept the future behavior, pass 'sort=False'.\n",
      "\n",
      "To retain the current behavior and silence the warning, pass 'sort=True'.\n",
      "\n",
      "  ignore_index=True)\n"
     ]
    },
    {
     "name": "stdout",
     "output_type": "stream",
     "text": [
      "noptmax:30, npar_adj:539, nnz_obs:222\n"
     ]
    },
    {
     "data": {
      "text/plain": [
       "<pyemu.pst.pst_handler.Pst at 0x29f73f5c348>"
      ]
     },
     "execution_count": 18,
     "metadata": {},
     "output_type": "execute_result"
    }
   ],
   "source": [
    "pf.build_pst(\"{}.pst\".format(case))"
   ]
  },
  {
   "cell_type": "code",
   "execution_count": 19,
   "metadata": {},
   "outputs": [
    {
     "name": "stdout",
     "output_type": "stream",
     "text": [
      "noptmax:30, npar_adj:539, nnz_obs:222\n",
      "2020-07-19 13:25:12.421655 forward_run line:pyemu.os_utils.run(r'..\\..\\..\\exe\\mf6')\n",
      "\n"
     ]
    }
   ],
   "source": [
    "# add run model command\n",
    "pf.mod_sys_cmds.append(\"..\\..\\..\\exe\\mf6\")\n",
    "pst = pf.build_pst(\"{}.pst\".format(case))"
   ]
  },
  {
   "cell_type": "code",
   "execution_count": 20,
   "metadata": {},
   "outputs": [
    {
     "name": "stdout",
     "output_type": "stream",
     "text": [
      "2020-07-19 13:25:12.466651 starting: building prior covariance matrix\n"
     ]
    },
    {
     "name": "stderr",
     "output_type": "stream",
     "text": [
      "C:\\Users\\emmal\\Anaconda3\\lib\\site-packages\\pyemu\\utils\\helpers.py:248: UserWarning: geostatistical_prior_builder() warning: geostruct sill != 1.0, user beware!\n",
      "  warnings.warn(\"geostatistical_prior_builder() warning: geostruct sill != 1.0, user beware!\")\n"
     ]
    },
    {
     "name": "stdout",
     "output_type": "stream",
     "text": [
      "2020-07-19 13:25:12.699644 saving prior covariance matrix to file template\\3D_test.prior.cov\n",
      "2020-07-19 13:25:13.030635 finished: building prior covariance matrix took: 0:00:00.563984\n"
     ]
    },
    {
     "data": {
      "text/plain": [
       "<matplotlib.colorbar.Colorbar at 0x29f76a1d088>"
      ]
     },
     "execution_count": 20,
     "metadata": {},
     "output_type": "execute_result"
    },
    {
     "data": {
      "image/png": "[encoded data removed]",
      "text/plain": [
       "<Figure size 504x504 with 2 Axes>"
      ]
     },
     "metadata": {
      "needs_background": "light"
     },
     "output_type": "display_data"
    }
   ],
   "source": [
    "cov = pf.build_prior()\n",
    "x = cov.x.copy()\n",
    "x[x==0.0] = np.NaN\n",
    "fig,ax = plt.subplots(1,1,figsize=(7,7))\n",
    "g = ax.imshow(x)\n",
    "plt.colorbar(g)"
   ]
  },
  {
   "cell_type": "code",
   "execution_count": 21,
   "metadata": {},
   "outputs": [
    {
     "name": "stdout",
     "output_type": "stream",
     "text": [
      "noptmax:-1, npar_adj:539, nnz_obs:222\n"
     ]
    }
   ],
   "source": [
    "pst.control_data.noptmax = -1 # FOR JACOBIAN\n",
    "pst.write(os.path.join(template_ws,\"{}.pst\".format(case)))"
   ]
  },
  {
   "cell_type": "code",
   "execution_count": 22,
   "metadata": {},
   "outputs": [],
   "source": [
    "#pyemu.os_utils.run(\"..\\..\\pestpp-glm.exe {}\".format(case),cwd=\"template\")"
   ]
  },
  {
   "cell_type": "code",
   "execution_count": 24,
   "metadata": {},
   "outputs": [],
   "source": [
    "m_d = \"master_glm\"\n",
    "\n",
    "pyemu.os_utils.start_workers(template_ws,\"../../pestpp-glm.exe\",\"{}.pst\".format(case),num_workers=10,worker_root=\".\",master_dir=m_d)"
   ]
  },
  {
   "cell_type": "code",
   "execution_count": 25,
   "metadata": {},
   "outputs": [
    {
     "name": "stdout",
     "output_type": "stream",
     "text": [
      "noptmax:7, npar_adj:539, nnz_obs:222\n"
     ]
    }
   ],
   "source": [
    "t_d =\"master_glm\"\n",
    "case = \"3D_test\"\n",
    "pst = pyemu.Pst(os.path.join(t_d,\"{}.pst\".format(case)))\n",
    "pst.write_par_summary_table(filename=\"none\")\n",
    "\n",
    "pst.svd_data.eigthresh = 5e-7\n",
    "pst.control_data.noptmax = 7 # number of iterations (should be set to a great value (50))\n",
    "pst.pestpp_options[\"n_iter_base\"] = -1\n",
    "pst.pestpp_options[\"n_iter_super\"] = 4\n",
    "pst.pestpp_options[\"glm_num_reals\"] = 50 # how many draws\n",
    "pst.pestpp_options[\"parcov\"] = \"{}.prior.cov\".format(case)\n",
    "pst.pestpp_options[\"base_jacobian\"] = \"{}.jcb\".format(case)\n",
    "pst.write(os.path.join(t_d,\"{}.pst\".format(case)))\n",
    "\n",
    "# DO the inversion\n",
    "m_d = \"master_glm_run\"\n",
    "pyemu.os_utils.start_workers(t_d,\"../../pestpp-glm.exe\",\"{}.pst\".format(case),num_workers=10,worker_root=\".\",\n",
    "                             master_dir=m_d)"
   ]
  },
  {
   "cell_type": "code",
   "execution_count": null,
   "metadata": {},
   "outputs": [],
   "source": []
  }
 ],
 "metadata": {
  "kernelspec": {
   "display_name": "Python 3",
   "language": "python",
   "name": "python3"
  },
  "language_info": {
   "codemirror_mode": {
    "name": "ipython",
    "version": 3
   },
   "file_extension": ".py",
   "mimetype": "text/x-python",
   "name": "python",
   "nbconvert_exporter": "python",
   "pygments_lexer": "ipython3",
   "version": "3.7.4"
  }
 },
 "nbformat": 4,
 "nbformat_minor": 2
}
