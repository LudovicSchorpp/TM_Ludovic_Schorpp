{
 "cells": [
  {
   "cell_type": "code",
   "execution_count": 1,
   "metadata": {},
   "outputs": [
    {
     "name": "stdout",
     "output_type": "stream",
     "text": [
      "flopy is installed in C:\\Users\\emmal\\Anaconda3\\lib\\site-packages\\flopy\n"
     ]
    }
   ],
   "source": [
    "import pyemu\n",
    "import numpy as np\n",
    "import matplotlib.pyplot as plt\n",
    "import pandas as pd\n",
    "import flopy as fp\n",
    "from flopy.utils.reference import SpatialReference\n",
    "import os\n",
    "import sys\n",
    "from shutil import copyfile\n",
    "import fileinput\n",
    "\n",
    "sys.path.append(\"../../modules\")\n",
    "# hand made functions\n",
    "from Rouss import *"
   ]
  },
  {
   "cell_type": "code",
   "execution_count": 2,
   "metadata": {},
   "outputs": [],
   "source": [
    "ws = \"workspace\"\n",
    "m_n_i = \"pest_3d_r\"\n",
    "m_n = \"pest_3D_R\"\n",
    "\n",
    "case = \"3D_test\""
   ]
  },
  {
   "cell_type": "code",
   "execution_count": 3,
   "metadata": {},
   "outputs": [
    {
     "name": "stdout",
     "output_type": "stream",
     "text": [
      "loading simulation...\n",
      "  loading simulation name file...\n",
      "  loading tdis package...\n",
      "  loading model gwf6...\n",
      "    loading package dis...\n",
      "    loading package ic...\n",
      "    loading package oc...\n",
      "    loading package npf...\n",
      "    loading package wel...\n",
      "    loading package rch...\n",
      "    loading package rch...\n",
      "    loading package rch...\n",
      "    loading package wel...\n",
      "    loading package chd...\n",
      "    loading package chd...\n",
      "    loading package drn...\n",
      "    loading package riv...\n",
      "    loading package riv...\n",
      "    loading package riv...\n",
      "    loading package riv...\n",
      "    loading package riv...\n",
      "    loading package riv...\n",
      "    loading package obs...\n",
      "WARNING: Block header for block \"continuous\" is not a unique block header ('pest_3d_r', 'obs', 'continuous')\n",
      "  loading ims package pest_3d_r...\n"
     ]
    }
   ],
   "source": [
    "sim = fp.mf6.MFSimulation.load(sim_ws=ws)\n",
    "m = sim.get_model(m_n_i)"
   ]
  },
  {
   "cell_type": "code",
   "execution_count": 4,
   "metadata": {},
   "outputs": [
    {
     "data": {
      "text/plain": [
       "xul:664525; yul:6207475; rotation:0; proj4_str:None; units:meters; lenuni:2; length_multiplier:1.0"
      ]
     },
     "execution_count": 4,
     "metadata": {},
     "output_type": "execute_result"
    }
   ],
   "source": [
    "sr = SpatialReference(delr=m.dis.delr.array, delc=m.dis.delc.array, xll=m.dis.xorigin.array, yll=m.dis.yorigin.array)\n",
    "sr"
   ]
  },
  {
   "cell_type": "code",
   "execution_count": 5,
   "metadata": {},
   "outputs": [
    {
     "name": "stdout",
     "output_type": "stream",
     "text": [
      "2020-07-05 15:46:36.238144 starting: opening PstFrom.log for logging\n",
      "2020-07-05 15:46:36.238144 starting PstFrom process\n",
      "2020-07-05 15:46:36.246176 starting: setting up dirs\n",
      "2020-07-05 15:46:36.248199 starting: removing existing new_d 'template'\n",
      "2020-07-05 15:46:36.276362 finished: removing existing new_d 'template' took: 0:00:00.028163\n",
      "2020-07-05 15:46:36.276362 starting: copying original_d 'workspace' to new_d 'template'\n",
      "2020-07-05 15:46:36.449669 finished: copying original_d 'workspace' to new_d 'template' took: 0:00:00.173307\n",
      "2020-07-05 15:46:36.449669 finished: setting up dirs took: 0:00:00.203493\n"
     ]
    }
   ],
   "source": [
    "# empty pst object\n",
    "template_ws = \"template\"\n",
    "pf = pyemu.prototypes.PstFrom(original_d=ws, new_d=template_ws,\n",
    "                 remove_existing=True,\n",
    "                 longnames=True, spatial_reference=sr,\n",
    "                 zero_based=False)"
   ]
  },
  {
   "cell_type": "code",
   "execution_count": 6,
   "metadata": {
    "scrolled": false
   },
   "outputs": [
    {
     "name": "stdout",
     "output_type": "stream",
     "text": [
      "2020-07-05 15:46:36.510110 starting: adding observations from tabular output file\n",
      "2020-07-05 15:46:36.510110 starting: reading list template\\heads_q.csv\n",
      "2020-07-05 15:46:36.520210 finished: reading list template\\heads_q.csv took: 0:00:00.010100\n",
      "2020-07-05 15:46:36.520210 starting: building insfile for tabular output file heads_q.csv\n",
      "2020-07-05 15:46:36.560517 finished: building insfile for tabular output file heads_q.csv took: 0:00:00.040307\n",
      "2020-07-05 15:46:36.560517 starting: adding observation from instruction file 'template\\heads_q.csv.ins'\n",
      "2020-07-05 15:46:36.590744 finished: adding observation from instruction file 'template\\heads_q.csv.ins' took: 0:00:00.030227\n",
      "2020-07-05 15:46:36.598827 finished: adding observations from tabular output file took: 0:00:00.088717\n",
      "2020-07-05 15:46:36.608883 starting: adding observations from tabular output file\n",
      "2020-07-05 15:46:36.608883 starting: reading list template\\heads_pc.csv\n",
      "2020-07-05 15:46:36.610910 finished: reading list template\\heads_pc.csv took: 0:00:00.002027\n",
      "2020-07-05 15:46:36.618960 starting: building insfile for tabular output file heads_pc.csv\n",
      "2020-07-05 15:46:36.644788 finished: building insfile for tabular output file heads_pc.csv took: 0:00:00.025828\n",
      "2020-07-05 15:46:36.646788 starting: adding observation from instruction file 'template\\heads_pc.csv.ins'\n",
      "2020-07-05 15:46:36.669997 finished: adding observation from instruction file 'template\\heads_pc.csv.ins' took: 0:00:00.023209\n",
      "2020-07-05 15:46:36.672024 finished: adding observations from tabular output file took: 0:00:00.063141\n"
     ]
    }
   ],
   "source": [
    "#add observation\n",
    "\n",
    "#Quat\n",
    "df = pd.read_csv(os.path.join(template_ws,\"heads_q.csv\"),index_col=0)\n",
    "hds_df = pf.add_observations(\"heads_q.csv\",insfile=\"heads_q.csv.ins\",index_cols=\"time\",\n",
    "                use_cols=list(df.columns.values),prefix=\"quat\",obsgp=True)\n",
    "#P\n",
    "df = pd.read_csv(os.path.join(template_ws,\"heads_pc.csv\"),index_col=0)\n",
    "hds_df = pf.add_observations(\"heads_pc.csv\",insfile=\"heads_pc.csv.ins\",index_cols=\"time\",\n",
    "                use_cols=list(df.columns.values),prefix=\"pc\",obsgp=True)"
   ]
  },
  {
   "cell_type": "code",
   "execution_count": 7,
   "metadata": {},
   "outputs": [],
   "source": [
    "def chInsfle(file):\n",
    "    \n",
    "    \"\"\"\n",
    "    change a ins file create with PstFrom (only for a model with 1 stress period)\n",
    "    in the right format to be used by PEST\n",
    "    \"\"\"\n",
    "    \n",
    "    fileout = \"tmp\"\n",
    "    with open(file) as f:\n",
    "        with open(fileout,\"w\") as fout:\n",
    "            for i,line in enumerate(f):\n",
    "                if i < 2:\n",
    "                    fout.write(line)\n",
    "                if i > 1:\n",
    "                    for o,split in enumerate(line.split(\"w\")):\n",
    "                        if o == 1:\n",
    "                            fout.write(\"~,~\")\n",
    "                        fout.write(split)\n",
    "                        \n",
    "    from shutil import copyfile\n",
    "    copyfile(fileout, file) # copy \n",
    "    os.remove(fileout) # delete tmp file\n",
    "\n",
    "chInsfle(\"template/heads_pc.csv.ins\")\n",
    "chInsfle(\"template/heads_q.csv.ins\")\n",
    "\n",
    "pf.obs_dfs[0].obgnme = \"Quat\"\n",
    "pf.obs_dfs[1].obgnme = \"Pc\""
   ]
  },
  {
   "cell_type": "code",
   "execution_count": 8,
   "metadata": {},
   "outputs": [
    {
     "name": "stdout",
     "output_type": "stream",
     "text": [
      "noptmax:30, npar_adj:0, nnz_obs:122\n"
     ]
    },
    {
     "data": {
      "text/plain": [
       "<pyemu.pst.pst_handler.Pst at 0x1edfee6b808>"
      ]
     },
     "execution_count": 8,
     "metadata": {},
     "output_type": "execute_result"
    }
   ],
   "source": [
    "pf.build_pst(\"{}.pst\".format(case))"
   ]
  },
  {
   "cell_type": "markdown",
   "metadata": {},
   "source": [
    "### Parameters"
   ]
  },
  {
   "cell_type": "code",
   "execution_count": 9,
   "metadata": {},
   "outputs": [
    {
     "name": "stderr",
     "output_type": "stream",
     "text": [
      "C:\\Users\\emmal\\Anaconda3\\lib\\site-packages\\pyemu\\utils\\geostats.py:244: MatplotlibDeprecationWarning: Adding an axes using the same arguments as a previous axes currently reuses the earlier instance.  In a future version, a new instance will always be created and returned.  Meanwhile, this warning can be suppressed, and the future behavior ensured, by passing a unique label to each axes instance.\n",
      "  ax = plt.subplot(111)\n"
     ]
    },
    {
     "data": {
      "text/plain": [
       "<matplotlib.legend.Legend at 0x1edfd56a3c8>"
      ]
     },
     "execution_count": 9,
     "metadata": {},
     "output_type": "execute_result"
    },
    {
     "data": {
      "image/png": "[encoded data removed]",
      "text/plain": [
       "<Figure size 576x288 with 1 Axes>"
      ]
     },
     "metadata": {
      "needs_background": "light"
     },
     "output_type": "display_data"
    }
   ],
   "source": [
    "fig,ax = plt.subplots(figsize=(8,4))\n",
    "\n",
    "#q\n",
    "vq = pyemu.geostats.ExpVario(a=1350,contribution=0.485)\n",
    "grid_q = pyemu.geostats.GeoStruct(variograms=vq, transform='log')\n",
    "b=grid_q.plot()\n",
    "\n",
    "#pc\n",
    "vp = pyemu.geostats.ExpVario(a=4000,contribution=0.105)\n",
    "grid_pc = pyemu.geostats.GeoStruct(variograms=vp, transform='log')\n",
    "a=grid_pc.plot()\n",
    "\n",
    "a.set_title(\"Spatial vario Q vs PC\")\n",
    "plt.legend([\"q\",\"pc\"])"
   ]
  },
  {
   "cell_type": "code",
   "execution_count": 10,
   "metadata": {},
   "outputs": [
    {
     "name": "stdout",
     "output_type": "stream",
     "text": [
      "2020-07-05 15:46:38.123654 starting: adding pilotpoint type multiplier style parameters for file(s) ['kq.txt']\n",
      "2020-07-05 15:46:38.123654 starting: loading array template\\kq.txt\n",
      "2020-07-05 15:46:38.204190 finished: loading array template\\kq.txt took: 0:00:00.080536\n",
      "2020-07-05 15:46:38.204190 loaded array 'kq.txt' of shape (182, 183)\n",
      "2020-07-05 15:46:38.294843 starting: writing array-based template file 'kp_q_inst0_pilotpoint.csv.tpl'\n",
      "2020-07-05 15:46:38.294843 starting: setting up pilot point parameters\n",
      "2020-07-05 15:46:38.294843 No spatial reference (containing cell spacing) passed.\n",
      "2020-07-05 15:46:38.294843 OK - using spatial reference in parent object.\n",
      "2020-07-05 15:46:38.848890 83 pilot point parameters created\n",
      "2020-07-05 15:46:38.848890 pilot point 'pargp':kp_q_inst:0\n",
      "2020-07-05 15:46:38.848890 finished: setting up pilot point parameters took: 0:00:00.554047\n",
      "2020-07-05 15:46:38.889158 starting: calculating factors for pargp=kp_q_inst:0\n",
      "2020-07-05 15:46:38.889158 saving krige variance file:template\\kp_q_inst0pp.var.dat\n",
      "2020-07-05 15:46:38.889158 saving krige factors file:template\\kp_q_inst0pp.fac\n",
      "starting interp point loop for 33306 points\n",
      "starting 0\n",
      "starting 1\n",
      "starting 2\n",
      "starting 3\n",
      "starting 4\n",
      "starting 5\n",
      "starting 6\n",
      "starting 7\n",
      "starting 8\n",
      "starting 9\n",
      "took 81.033261 seconds\n",
      "2020-07-05 15:48:01.169919 finished: calculating factors for pargp=kp_q_inst:0 took: 0:01:22.280761\n",
      "2020-07-05 15:48:01.169919 starting: writing array-based template file 'kp_q_inst0pp.dat.tpl'\n",
      "2020-07-05 15:48:01.292884 starting: adding parameters for file(s) ['kq.txt']\n"
     ]
    },
    {
     "data": {
      "image/png": "[encoded data removed]",
      "text/plain": [
       "<Figure size 432x288 with 1 Axes>"
      ]
     },
     "metadata": {
      "needs_background": "light"
     },
     "output_type": "display_data"
    }
   ],
   "source": [
    "## pp quat\n",
    "zq = m.dis.idomain.array[1] # zone array for pp\n",
    "zq[:,140:]=0\n",
    "zq[zq<0]=0\n",
    "plt.imshow(zq)\n",
    "\n",
    "pf.add_parameters(filenames=\"kq.txt\",par_type=\"pilotpoint\",pp_space=10,zone_array=zq,\n",
    "                   par_name_base=\"kp_q\",pargp=\"pp_q\",\n",
    "                   upper_bound=3,lower_bound=0.005,ult_ubound=5e-3,ult_lbound=1e-5,geostruct=grid_q)"
   ]
  },
  {
   "cell_type": "code",
   "execution_count": 11,
   "metadata": {},
   "outputs": [
    {
     "name": "stdout",
     "output_type": "stream",
     "text": [
      "2020-07-05 15:48:01.643503 starting: adding pilotpoint type multiplier style parameters for file(s) ['kpc.txt']\n",
      "2020-07-05 15:48:01.643503 starting: loading array template\\kpc.txt\n",
      "2020-07-05 15:48:01.716066 finished: loading array template\\kpc.txt took: 0:00:00.072563\n",
      "2020-07-05 15:48:01.716066 loaded array 'kpc.txt' of shape (182, 183)\n",
      "2020-07-05 15:48:01.794511 starting: writing array-based template file 'kp_pc_inst0_pilotpoint.csv.tpl'\n",
      "2020-07-05 15:48:01.794511 starting: setting up pilot point parameters\n",
      "2020-07-05 15:48:01.796536 No spatial reference (containing cell spacing) passed.\n",
      "2020-07-05 15:48:01.796536 OK - using spatial reference in parent object.\n",
      "2020-07-05 15:48:02.401157 110 pilot point parameters created\n",
      "2020-07-05 15:48:02.401157 pilot point 'pargp':kp_pc_inst:0\n",
      "2020-07-05 15:48:02.401157 finished: setting up pilot point parameters took: 0:00:00.606646\n",
      "2020-07-05 15:48:02.441473 starting: calculating factors for pargp=kp_pc_inst:0\n",
      "2020-07-05 15:48:02.441473 saving krige variance file:template\\kp_pc_inst0pp.var.dat\n",
      "2020-07-05 15:48:02.441473 saving krige factors file:template\\kp_pc_inst0pp.fac\n",
      "starting interp point loop for 33306 points\n",
      "starting 0\n",
      "starting 1\n",
      "starting 2\n",
      "starting 3\n",
      "starting 4\n",
      "starting 5\n",
      "starting 6\n",
      "starting 7\n",
      "starting 8\n",
      "starting 9\n",
      "took 84.013484 seconds\n",
      "2020-07-05 15:49:28.166892 finished: calculating factors for pargp=kp_pc_inst:0 took: 0:01:25.725419\n",
      "2020-07-05 15:49:28.166892 starting: writing array-based template file 'kp_pc_inst0pp.dat.tpl'\n",
      "2020-07-05 15:49:28.187045 starting: adding parameters for file(s) ['kpc.txt']\n"
     ]
    },
    {
     "data": {
      "image/png": "[encoded data removed]",
      "text/plain": [
       "<Figure size 432x288 with 1 Axes>"
      ]
     },
     "metadata": {
      "needs_background": "light"
     },
     "output_type": "display_data"
    }
   ],
   "source": [
    "## pp pc\n",
    "zpc = m.dis.idomain.array[3] # zone array for pp\n",
    "zpc[:,140:]=0\n",
    "zpc[zpc<0]=0\n",
    "plt.imshow(zpc)\n",
    "\n",
    "pf.add_parameters(filenames=\"kpc.txt\",par_type=\"pilotpoint\",pp_space=10,zone_array=zpc,\n",
    "                   par_name_base=\"kp_pc\",pargp=\"pp_pc\",\n",
    "                   upper_bound=4,lower_bound=0.001,ult_ubound=3e-4,ult_lbound=1e-6,geostruct=grid_pc)"
   ]
  },
  {
   "cell_type": "code",
   "execution_count": 12,
   "metadata": {},
   "outputs": [
    {
     "name": "stdout",
     "output_type": "stream",
     "text": [
      "2020-07-05 15:49:28.539612 starting: adding zone type multiplier style parameters for file(s) ['irr.txt']\n",
      "2020-07-05 15:49:28.539612 starting: loading array template\\irr.txt\n",
      "2020-07-05 15:49:28.597983 finished: loading array template\\irr.txt took: 0:00:00.058371\n",
      "2020-07-05 15:49:28.597983 loaded array 'irr.txt' of shape (182, 183)\n",
      "2020-07-05 15:49:28.650270 starting: writing array-based template file 'irr_inst0_zone.csv.tpl'\n",
      "2020-07-05 15:49:28.650270 starting: writing template file irr_inst0_zone.csv.tpl for ['irr_inst:0']\n",
      "2020-07-05 15:49:28.821528 finished: writing template file irr_inst0_zone.csv.tpl for ['irr_inst:0'] took: 0:00:00.171258\n",
      "2020-07-05 15:49:28.821528 finished: writing array-based template file 'irr_inst0_zone.csv.tpl' took: 0:00:00.171258\n",
      "2020-07-05 15:49:28.841679 starting: adding parameters for file(s) ['irr.txt']\n"
     ]
    },
    {
     "data": {
      "image/png": "[encoded data removed]",
      "text/plain": [
       "<Figure size 432x288 with 1 Axes>"
      ]
     },
     "metadata": {
      "needs_background": "light"
     },
     "output_type": "display_data"
    }
   ],
   "source": [
    "#irri\n",
    "zi = np.loadtxt(os.path.join(ws,\"zone_irr.txt\"))\n",
    "plt.imshow(zi)\n",
    "pf.add_parameters(filenames=\"irr.txt\",par_type=\"zone\",zone_array=zi,\n",
    "                   par_name_base=\"irr\",pargp=\"irr\",\n",
    "                   upper_bound=2,lower_bound=0.8)"
   ]
  },
  {
   "cell_type": "code",
   "execution_count": null,
   "metadata": {},
   "outputs": [],
   "source": [
    "# kpms and kep\n",
    "pf.add_parameters(filenames=\"kep.txt\",par_type=\"constant\",\n",
    "                   par_name_base=\"ep\",pargp=\"ep\",\n",
    "                   upper_bound=10,lower_bound=0.1)\n",
    "pf.add_parameters(filenames=\"kpms.txt\",par_type=\"constant\",\n",
    "                 par_name_base=\"pms\",pargp=\"pms\",upper_bound=30,lower_bound=0.1)"
   ]
  },
  {
   "cell_type": "markdown",
   "metadata": {},
   "source": [
    "### rivers"
   ]
  },
  {
   "cell_type": "code",
   "execution_count": 13,
   "metadata": {},
   "outputs": [],
   "source": [
    "rivers = [riv for riv in os.listdir(template_ws) if riv.endswith(\"riv\")]"
   ]
  },
  {
   "cell_type": "code",
   "execution_count": 14,
   "metadata": {},
   "outputs": [],
   "source": [
    "def riv_tpl(rivers,tmp_ws):\n",
    "    for riv in rivers:\n",
    "        riv_file = os.path.join(tmp_ws,riv)\n",
    "        tpl_file = riv_file+\".tpl\"\n",
    "        copyfile(riv_file, tpl_file)\n",
    "        \n",
    "        with fileinput.FileInput(tpl_file, inplace=True) as file:\n",
    "            for line in file:\n",
    "                print(line.replace(\"    0.00500000   \", \"~    c_{}     ~\".format(riv.split(\".\")[0])), end='')\n",
    "        with open(tpl_file, 'r+') as f:\n",
    "            content = f.read()\n",
    "            line = \"ptf ~\"\n",
    "            f.seek(0, 0)\n",
    "            f.write(line.rstrip('\\r\\n') + \"\\n\" + content)\n",
    "        \n",
    "        #add parameter to control file\n",
    "        dic = {\"parnme\":\"c_{}\".format(riv.split(\".\")[0]),\n",
    "              \"parval1\": 0.005,\n",
    "               \"pargp\": \"cond\",\n",
    "               \"tpl_filename\": tpl_file,\n",
    "               'input_filename':riv_file,\n",
    "               \"partype\" : \"constant\",\n",
    "               \"partrans\" : \"log\",\n",
    "               \"parubnd\" : 0.01,\n",
    "               \"parlbnd\" : 0.001,\n",
    "               \"parchglim\" : \"factor\",\n",
    "               \"scale\" : 1.0,\n",
    "               \"dercom\" : 1,\n",
    "               \"offset\" : 0.0} \n",
    "        a = pd.DataFrame(dic,index=[\"c_{}\".format(riv.split(\".\")[0])])\n",
    "        pf.par_dfs[0] = pf.par_dfs[0].append(a,sort=False)\n",
    "        \n",
    "        pf.tpl_filenames.append(riv+\".tpl\")\n",
    "        pf.input_filenames.append(riv)"
   ]
  },
  {
   "cell_type": "code",
   "execution_count": 15,
   "metadata": {},
   "outputs": [],
   "source": [
    "riv_tpl(rivers,template_ws)"
   ]
  },
  {
   "cell_type": "code",
   "execution_count": 16,
   "metadata": {},
   "outputs": [
    {
     "name": "stderr",
     "output_type": "stream",
     "text": [
      "C:\\Users\\emmal\\Anaconda3\\lib\\site-packages\\pyemu\\prototypes\\pst_from.py:472: FutureWarning: Sorting because non-concatenation axis is not aligned. A future version\n",
      "of pandas will change to not sort by default.\n",
      "\n",
      "To accept the future behavior, pass 'sort=False'.\n",
      "\n",
      "To retain the current behavior and silence the warning, pass 'sort=True'.\n",
      "\n",
      "  par_data = pd.concat(self.par_dfs).loc[:, par_data_cols]\n",
      "C:\\Users\\emmal\\Anaconda3\\lib\\site-packages\\pyemu\\prototypes\\pst_from.py:127: FutureWarning: Sorting because non-concatenation axis is not aligned. A future version\n",
      "of pandas will change to not sort by default.\n",
      "\n",
      "To accept the future behavior, pass 'sort=False'.\n",
      "\n",
      "To retain the current behavior and silence the warning, pass 'sort=True'.\n",
      "\n",
      "  ignore_index=True)\n"
     ]
    },
    {
     "name": "stdout",
     "output_type": "stream",
     "text": [
      "noptmax:30, npar_adj:213, nnz_obs:122\n"
     ]
    },
    {
     "data": {
      "text/plain": [
       "<pyemu.pst.pst_handler.Pst at 0x1ed826bcd88>"
      ]
     },
     "execution_count": 16,
     "metadata": {},
     "output_type": "execute_result"
    }
   ],
   "source": [
    "pf.build_pst(\"{}.pst\".format(case))"
   ]
  },
  {
   "cell_type": "code",
   "execution_count": 17,
   "metadata": {},
   "outputs": [
    {
     "name": "stdout",
     "output_type": "stream",
     "text": [
      "noptmax:30, npar_adj:213, nnz_obs:122\n",
      "2020-07-05 15:49:30.221997 forward_run line:pyemu.os_utils.run(r'..\\..\\..\\exe\\mf6')\n",
      "\n"
     ]
    }
   ],
   "source": [
    "# add run model command\n",
    "pf.mod_sys_cmds.append(\"..\\..\\..\\exe\\mf6\")\n",
    "pst = pf.build_pst(\"{}.pst\".format(case))"
   ]
  },
  {
   "cell_type": "code",
   "execution_count": 18,
   "metadata": {},
   "outputs": [
    {
     "name": "stdout",
     "output_type": "stream",
     "text": [
      "2020-07-05 15:49:30.282439 starting: building prior covariance matrix\n",
      "2020-07-05 15:49:30.411275 saving prior covariance matrix to file template\\3D_test.prior.cov\n",
      "2020-07-05 15:49:30.463591 finished: building prior covariance matrix took: 0:00:00.181152\n"
     ]
    },
    {
     "name": "stderr",
     "output_type": "stream",
     "text": [
      "C:\\Users\\emmal\\Anaconda3\\lib\\site-packages\\pyemu\\utils\\helpers.py:248: UserWarning: geostatistical_prior_builder() warning: geostruct sill != 1.0, user beware!\n",
      "  warnings.warn(\"geostatistical_prior_builder() warning: geostruct sill != 1.0, user beware!\")\n"
     ]
    },
    {
     "data": {
      "text/plain": [
       "<matplotlib.colorbar.Colorbar at 0x1ed805efb88>"
      ]
     },
     "execution_count": 18,
     "metadata": {},
     "output_type": "execute_result"
    },
    {
     "data": {
      "image/png": "[encoded data removed]",
      "text/plain": [
       "<Figure size 504x504 with 2 Axes>"
      ]
     },
     "metadata": {
      "needs_background": "light"
     },
     "output_type": "display_data"
    }
   ],
   "source": [
    "cov = pf.build_prior()\n",
    "x = cov.x.copy()\n",
    "x[x==0.0] = np.NaN\n",
    "fig,ax = plt.subplots(1,1,figsize=(7,7))\n",
    "g = ax.imshow(x)\n",
    "plt.colorbar(g)"
   ]
  },
  {
   "cell_type": "code",
   "execution_count": 19,
   "metadata": {},
   "outputs": [
    {
     "name": "stdout",
     "output_type": "stream",
     "text": [
      "noptmax:-1, npar_adj:213, nnz_obs:122\n"
     ]
    }
   ],
   "source": [
    "pst.control_data.noptmax = -1 # FOR JACOBIAN\n",
    "pst.write(os.path.join(template_ws,\"{}.pst\".format(case)))"
   ]
  },
  {
   "cell_type": "code",
   "execution_count": 20,
   "metadata": {},
   "outputs": [],
   "source": [
    "# pyemu.os_utils.run(\"..\\..\\pestpp-glm.exe {}\".format(case),cwd=\"template\")"
   ]
  },
  {
   "cell_type": "code",
   "execution_count": 22,
   "metadata": {},
   "outputs": [],
   "source": [
    "m_d = \"master_glm\"\n",
    "\n",
    "pyemu.os_utils.start_workers(template_ws,\"../../pestpp-glm.exe\",\"{}.pst\".format(case),num_workers=8,worker_root=\".\",master_dir=m_d)"
   ]
  },
  {
   "cell_type": "code",
   "execution_count": null,
   "metadata": {},
   "outputs": [],
   "source": []
  }
 ],
 "metadata": {
  "kernelspec": {
   "display_name": "Python 3",
   "language": "python",
   "name": "python3"
  },
  "language_info": {
   "codemirror_mode": {
    "name": "ipython",
    "version": 3
   },
   "file_extension": ".py",
   "mimetype": "text/x-python",
   "name": "python",
   "nbconvert_exporter": "python",
   "pygments_lexer": "ipython3",
   "version": "3.7.4"
  }
 },
 "nbformat": 4,
 "nbformat_minor": 2
}
