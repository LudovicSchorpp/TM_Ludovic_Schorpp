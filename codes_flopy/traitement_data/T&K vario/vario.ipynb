{
 "cells": [
  {
   "cell_type": "code",
   "execution_count": 3,
   "metadata": {},
   "outputs": [],
   "source": [
    "import numpy as np\n",
    "import matplotlib.pyplot as plt\n",
    "import pandas as pd\n",
    "import sys\n",
    "plt.rcParams['font.size']=10\n",
    "sys.path.append(\"../../modules/\")\n",
    "#import geostat as geo"
   ]
  },
  {
   "cell_type": "code",
   "execution_count": 4,
   "metadata": {},
   "outputs": [],
   "source": [
    "def create_mat(x):\n",
    "    mat = np.zeros([x.shape[0],x.shape[0]])\n",
    "    for i1,p in enumerate(x):\n",
    "        i1 = int(i1)\n",
    "        for i2,p2 in enumerate(x):\n",
    "            i2 = int(i2)\n",
    "            mat[i1,i2] = ((p[0]-p2[0])**2 + (p[1]-p2[1])**2)**0.5\n",
    "    return mat\n",
    "\n",
    "def vario_gauss(h,a,palier):\n",
    "    var = palier*(1-np.e**(-3*(h/a)**2))\n",
    "    return var\n",
    "\n",
    "def vario_exp(h,a,palier):\n",
    "    var = palier*(1-np.e**((-h/a)))\n",
    "    return var"
   ]
  },
  {
   "cell_type": "code",
   "execution_count": 17,
   "metadata": {},
   "outputs": [
    {
     "data": {
      "text/plain": [
       "3.1622776601683795"
      ]
     },
     "execution_count": 17,
     "metadata": {},
     "output_type": "execute_result"
    }
   ],
   "source": [
    "10**0.5"
   ]
  },
  {
   "cell_type": "code",
   "execution_count": 11,
   "metadata": {},
   "outputs": [
    {
     "data": {
      "text/html": [
       "<div>\n",
       "<style scoped>\n",
       "    .dataframe tbody tr th:only-of-type {\n",
       "        vertical-align: middle;\n",
       "    }\n",
       "\n",
       "    .dataframe tbody tr th {\n",
       "        vertical-align: top;\n",
       "    }\n",
       "\n",
       "    .dataframe thead th {\n",
       "        text-align: right;\n",
       "    }\n",
       "</style>\n",
       "<table border=\"1\" class=\"dataframe\">\n",
       "  <thead>\n",
       "    <tr style=\"text-align: right;\">\n",
       "      <th></th>\n",
       "      <th>X_RGF93_L93</th>\n",
       "      <th>Y_RGF93_L93</th>\n",
       "      <th>T_SCI_plio</th>\n",
       "      <th>Unnamed: 3</th>\n",
       "    </tr>\n",
       "  </thead>\n",
       "  <tbody>\n",
       "    <tr>\n",
       "      <th>0</th>\n",
       "      <td>691940.000000</td>\n",
       "      <td>6.164860e+06</td>\n",
       "      <td>0.000008</td>\n",
       "      <td>NaN</td>\n",
       "    </tr>\n",
       "    <tr>\n",
       "      <th>1</th>\n",
       "      <td>691672.000000</td>\n",
       "      <td>6.176245e+06</td>\n",
       "      <td>0.000080</td>\n",
       "      <td>NaN</td>\n",
       "    </tr>\n",
       "    <tr>\n",
       "      <th>2</th>\n",
       "      <td>688564.347144</td>\n",
       "      <td>6.186473e+06</td>\n",
       "      <td>0.000100</td>\n",
       "      <td>NaN</td>\n",
       "    </tr>\n",
       "    <tr>\n",
       "      <th>3</th>\n",
       "      <td>679061.000000</td>\n",
       "      <td>6.169710e+06</td>\n",
       "      <td>0.000100</td>\n",
       "      <td>NaN</td>\n",
       "    </tr>\n",
       "    <tr>\n",
       "      <th>4</th>\n",
       "      <td>679065.000000</td>\n",
       "      <td>6.169710e+06</td>\n",
       "      <td>0.000100</td>\n",
       "      <td>NaN</td>\n",
       "    </tr>\n",
       "    <tr>\n",
       "      <th>...</th>\n",
       "      <td>...</td>\n",
       "      <td>...</td>\n",
       "      <td>...</td>\n",
       "      <td>...</td>\n",
       "    </tr>\n",
       "    <tr>\n",
       "      <th>266</th>\n",
       "      <td>696915.300000</td>\n",
       "      <td>6.160365e+06</td>\n",
       "      <td>0.000500</td>\n",
       "      <td>NaN</td>\n",
       "    </tr>\n",
       "    <tr>\n",
       "      <th>267</th>\n",
       "      <td>683728.500000</td>\n",
       "      <td>6.159273e+06</td>\n",
       "      <td>0.001130</td>\n",
       "      <td>NaN</td>\n",
       "    </tr>\n",
       "    <tr>\n",
       "      <th>268</th>\n",
       "      <td>698277.709238</td>\n",
       "      <td>6.177218e+06</td>\n",
       "      <td>0.000620</td>\n",
       "      <td>NaN</td>\n",
       "    </tr>\n",
       "    <tr>\n",
       "      <th>269</th>\n",
       "      <td>686576.075023</td>\n",
       "      <td>6.165353e+06</td>\n",
       "      <td>0.000050</td>\n",
       "      <td>NaN</td>\n",
       "    </tr>\n",
       "    <tr>\n",
       "      <th>270</th>\n",
       "      <td>692098.053362</td>\n",
       "      <td>6.170797e+06</td>\n",
       "      <td>0.001500</td>\n",
       "      <td>NaN</td>\n",
       "    </tr>\n",
       "  </tbody>\n",
       "</table>\n",
       "<p>271 rows × 4 columns</p>\n",
       "</div>"
      ],
      "text/plain": [
       "       X_RGF93_L93   Y_RGF93_L93  T_SCI_plio  Unnamed: 3\n",
       "0    691940.000000  6.164860e+06    0.000008         NaN\n",
       "1    691672.000000  6.176245e+06    0.000080         NaN\n",
       "2    688564.347144  6.186473e+06    0.000100         NaN\n",
       "3    679061.000000  6.169710e+06    0.000100         NaN\n",
       "4    679065.000000  6.169710e+06    0.000100         NaN\n",
       "..             ...           ...         ...         ...\n",
       "266  696915.300000  6.160365e+06    0.000500         NaN\n",
       "267  683728.500000  6.159273e+06    0.001130         NaN\n",
       "268  698277.709238  6.177218e+06    0.000620         NaN\n",
       "269  686576.075023  6.165353e+06    0.000050         NaN\n",
       "270  692098.053362  6.170797e+06    0.001500         NaN\n",
       "\n",
       "[271 rows x 4 columns]"
      ]
     },
     "execution_count": 11,
     "metadata": {},
     "output_type": "execute_result"
    }
   ],
   "source": [
    "d"
   ]
  },
  {
   "cell_type": "code",
   "execution_count": 5,
   "metadata": {},
   "outputs": [
    {
     "data": {
      "text/plain": [
       "Text(0.5, 1.0, 'vario plio')"
      ]
     },
     "execution_count": 5,
     "metadata": {},
     "output_type": "execute_result"
    },
    {
     "data": {
      "image/png": "[encoded data removed]",
      "text/plain": [
       "<Figure size 432x288 with 1 Axes>"
      ]
     },
     "metadata": {
      "needs_background": "light"
     },
     "output_type": "display_data"
    }
   ],
   "source": [
    "data = \"../../data/T&K/T_plio.csv\"\n",
    "d = pd.read_csv(data,sep=\";\")\n",
    "x = d.iloc[:,[0,1]].values\n",
    "v = d.iloc[:,2]\n",
    "v = np.log10(v)\n",
    "\n",
    "mat = create_mat(x)\n",
    "\n",
    "dh = 200\n",
    "dist = 30000\n",
    "for h in range(0,dist,dh):\n",
    "    ip1,ip2 = np.where((mat < h+dh)&(mat>h))\n",
    "    val=(v[ip1].values - v[ip2].values)\n",
    "    plt.plot(h,0.5*np.var(val),\".\",color=\"k\")\n",
    "plt.plot(np.arange(0,dist,1e2),vario_gauss(np.arange(0,dist,1e2),4000,0.205),label=\"gauss\")\n",
    "plt.plot(np.arange(0,dist,1e2),0.09+vario_exp(np.arange(0,dist,1e2),4000,0.105),label=\"exp (Benoit)\")\n",
    "plt.plot(np.arange(0,dist,1e2),vario_exp(np.arange(0,dist,1e2),4000/1.5,0.20),label=\"exp (sans pép), range of cor : 4000/1.5\")\n",
    "plt.plot(np.arange(0,dist,1e2),vario_exp(np.arange(0,dist,1e2),4000,0.20),label=\"exp (sans pép), range of cor : 4000\")\n",
    "plt.legend()\n",
    "plt.title(\"vario plio\")"
   ]
  },
  {
   "cell_type": "code",
   "execution_count": 21,
   "metadata": {},
   "outputs": [
    {
     "data": {
      "text/plain": [
       "<matplotlib.legend.Legend at 0x1d9ffd69a48>"
      ]
     },
     "execution_count": 21,
     "metadata": {},
     "output_type": "execute_result"
    },
    {
     "data": {
      "image/png": "[encoded data removed]",
      "text/plain": [
       "<Figure size 432x288 with 1 Axes>"
      ]
     },
     "metadata": {
      "needs_background": "light"
     },
     "output_type": "display_data"
    }
   ],
   "source": [
    "data = \"../../data/T&K/T_Q.csv\"\n",
    "d = pd.read_csv(data,sep=\";\")\n",
    "x = d.iloc[:,[0,1]].values\n",
    "v = d.iloc[:,2]\n",
    "v = np.log10(v)\n",
    "\n",
    "# matric of distance\n",
    "mat = create_mat(x)\n",
    "\n",
    "dh = 100\n",
    "dist = 5000\n",
    "for h in range(0,dist,dh):\n",
    "    ip1,ip2 = np.where((mat < h+dh)&(mat>h))\n",
    "    val=(v[ip1].values - v[ip2].values)\n",
    "    plt.plot(h,0.5*np.var(val),\".\",color=\"k\")\n",
    "plt.plot(np.arange(0,dist,1e2),0.06+vario_gauss(np.arange(0,dist,1e2),1350,0.485),label=\"gauss\")\n",
    "plt.plot(np.arange(0,dist,1e2),0.06+vario_exp(np.arange(0,dist,1e2),1350,0.485),label=\"exp (Benoit)\")\n",
    "plt.plot(np.arange(0,dist,1e2),vario_exp(np.arange(0,dist,1e2),1350,0.485),label=\"exp (sans pép)\")\n",
    "plt.title(\"vario Q\")\n",
    "\n",
    "import pyemu\n",
    "vq2 = pyemu.geostats.ExpVario(a=1350,contribution=0.485)\n",
    "grid_q2 = pyemu.geostats.GeoStruct(variograms=vq2,nugget=0.06, transform='log')\n",
    "#grid_q1.plot()\n",
    "grid_q2.plot()\n",
    "\n",
    "plt.legend(loc=\"upper left\")"
   ]
  },
  {
   "cell_type": "code",
   "execution_count": null,
   "metadata": {},
   "outputs": [],
   "source": []
  },
  {
   "cell_type": "code",
   "execution_count": null,
   "metadata": {},
   "outputs": [],
   "source": []
  }
 ],
 "metadata": {
  "kernelspec": {
   "display_name": "Python 3",
   "language": "python",
   "name": "python3"
  },
  "language_info": {
   "codemirror_mode": {
    "name": "ipython",
    "version": 3
   },
   "file_extension": ".py",
   "mimetype": "text/x-python",
   "name": "python",
   "nbconvert_exporter": "python",
   "pygments_lexer": "ipython3",
   "version": "3.6.13"
  }
 },
 "nbformat": 4,
 "nbformat_minor": 2
}
