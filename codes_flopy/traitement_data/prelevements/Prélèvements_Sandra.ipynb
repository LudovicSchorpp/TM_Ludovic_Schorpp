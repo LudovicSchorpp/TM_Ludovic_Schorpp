{
 "cells": [
  {
   "cell_type": "code",
   "execution_count": 1,
   "metadata": {},
   "outputs": [],
   "source": [
    "import pandas as pd\n",
    "import numpy as np\n",
    "import matplotlib.pyplot as plt"
   ]
  },
  {
   "cell_type": "code",
   "execution_count": 2,
   "metadata": {},
   "outputs": [
    {
     "data": {
      "text/html": [
       "<div>\n",
       "<style scoped>\n",
       "    .dataframe tbody tr th:only-of-type {\n",
       "        vertical-align: middle;\n",
       "    }\n",
       "\n",
       "    .dataframe tbody tr th {\n",
       "        vertical-align: top;\n",
       "    }\n",
       "\n",
       "    .dataframe thead th {\n",
       "        text-align: right;\n",
       "    }\n",
       "</style>\n",
       "<table border=\"1\" class=\"dataframe\">\n",
       "  <thead>\n",
       "    <tr style=\"text-align: right;\">\n",
       "      <th></th>\n",
       "      <th>NUM_OUV_AERMC</th>\n",
       "      <th>IDENTIFIANT_BSS_2017</th>\n",
       "      <th>LIBELLE_OUVRAGE</th>\n",
       "      <th>USAGES</th>\n",
       "      <th>NAPPE_CAPTEE</th>\n",
       "      <th>X_L93</th>\n",
       "      <th>Y_L93</th>\n",
       "      <th>PROFONDEUR_(m)</th>\n",
       "      <th>VOL_1987</th>\n",
       "      <th>VOL_1988</th>\n",
       "      <th>...</th>\n",
       "      <th>QUALITE_(RE)LOCALISATION</th>\n",
       "      <th>CORRECTION_LOCALISATION</th>\n",
       "      <th>CODE_INSEE</th>\n",
       "      <th>NOM_COM_OUVRAGE</th>\n",
       "      <th>SECTEUR_EVP</th>\n",
       "      <th>#_HYDRIAD</th>\n",
       "      <th>REFERENCE_BSS</th>\n",
       "      <th>CODE_NATIONAL_ARS</th>\n",
       "      <th>CODE_CH-AGRI</th>\n",
       "      <th>REMARQUES_BD</th>\n",
       "    </tr>\n",
       "  </thead>\n",
       "  <tbody>\n",
       "    <tr>\n",
       "      <td>0</td>\n",
       "      <td>166008002.0</td>\n",
       "      <td>BSS002MUWQ</td>\n",
       "      <td>DRAIN AEP PONT DU TECH</td>\n",
       "      <td>AEP COLLECTIF</td>\n",
       "      <td>QUATERNAIRE</td>\n",
       "      <td>698700.629000</td>\n",
       "      <td>6.165002e+06</td>\n",
       "      <td>NaN</td>\n",
       "      <td>1847600.0</td>\n",
       "      <td>921400.0</td>\n",
       "      <td>...</td>\n",
       "      <td>BONNE (&lt;50m)</td>\n",
       "      <td>True</td>\n",
       "      <td>66008.0</td>\n",
       "      <td>ARGELES-SUR-MER</td>\n",
       "      <td>Bordure Côtière Sud</td>\n",
       "      <td>2970.0</td>\n",
       "      <td>10972X0150/DTECH</td>\n",
       "      <td>66000965.0</td>\n",
       "      <td>NaN</td>\n",
       "      <td>VOLUME 2010. Ancien doublon avec le #2687 =&gt; s...</td>\n",
       "    </tr>\n",
       "    <tr>\n",
       "      <td>1</td>\n",
       "      <td>166015003.0</td>\n",
       "      <td>BSS002MUAG</td>\n",
       "      <td>FORAGE AEP F2 BANYULS DELS APRES</td>\n",
       "      <td>AEP COLLECTIF</td>\n",
       "      <td>QUATERNAIRE</td>\n",
       "      <td>689767.462946</td>\n",
       "      <td>6.161253e+06</td>\n",
       "      <td>15.0</td>\n",
       "      <td>NaN</td>\n",
       "      <td>NaN</td>\n",
       "      <td>...</td>\n",
       "      <td>BONNE (&lt;50m)</td>\n",
       "      <td>False</td>\n",
       "      <td>66015.0</td>\n",
       "      <td>BANYULS-DELS-ASPRES</td>\n",
       "      <td>Vallée du Tech</td>\n",
       "      <td>92.0</td>\n",
       "      <td>10968X0066/AEP</td>\n",
       "      <td>66000112.0</td>\n",
       "      <td>NaN</td>\n",
       "      <td>Terrain stagiaire 2011 - AMBIGUITE SUR LE CODE...</td>\n",
       "    </tr>\n",
       "    <tr>\n",
       "      <td>2</td>\n",
       "      <td>166021003.0</td>\n",
       "      <td>BSS002MQWH</td>\n",
       "      <td>PUITS DANS NAPPE PRES DES VIGNES</td>\n",
       "      <td>AEP COLLECTIF</td>\n",
       "      <td>QUATERNAIRE</td>\n",
       "      <td>694106.477634</td>\n",
       "      <td>6.181531e+06</td>\n",
       "      <td>11.0</td>\n",
       "      <td>NaN</td>\n",
       "      <td>NaN</td>\n",
       "      <td>...</td>\n",
       "      <td>BONNE (&lt;50m)</td>\n",
       "      <td>False</td>\n",
       "      <td>66021.0</td>\n",
       "      <td>BOMPAS</td>\n",
       "      <td>Vallée de la Têt</td>\n",
       "      <td>39.0</td>\n",
       "      <td>10915X0171/F</td>\n",
       "      <td>66000122.0</td>\n",
       "      <td>NaN</td>\n",
       "      <td>Estimation des volumes autorisés via les volum...</td>\n",
       "    </tr>\n",
       "    <tr>\n",
       "      <td>3</td>\n",
       "      <td>166023001.0</td>\n",
       "      <td>BSS002MSTH</td>\n",
       "      <td>FORAGE AEP F2</td>\n",
       "      <td>AEP COLLECTIF</td>\n",
       "      <td>QUATERNAIRE</td>\n",
       "      <td>666373.796000</td>\n",
       "      <td>6.172867e+06</td>\n",
       "      <td>21.7</td>\n",
       "      <td>140400.0</td>\n",
       "      <td>149800.0</td>\n",
       "      <td>...</td>\n",
       "      <td>BONNE (&lt;50m)</td>\n",
       "      <td>True</td>\n",
       "      <td>66023.0</td>\n",
       "      <td>BOULETERNERE</td>\n",
       "      <td>Vallée de la Têt</td>\n",
       "      <td>109.0</td>\n",
       "      <td>10961X0012/F2</td>\n",
       "      <td>66000685.0</td>\n",
       "      <td>NaN</td>\n",
       "      <td>Volume prélevé en 2011 : 338 000 m3</td>\n",
       "    </tr>\n",
       "    <tr>\n",
       "      <td>4</td>\n",
       "      <td>166024003.0</td>\n",
       "      <td>BSS002MUAJ</td>\n",
       "      <td>LO SIECRET / PUITS DANS NAPPE LIEU-DIT LES CLA...</td>\n",
       "      <td>AEP COLLECTIF</td>\n",
       "      <td>QUATERNAIRE</td>\n",
       "      <td>685014.465743</td>\n",
       "      <td>6.157746e+06</td>\n",
       "      <td>10.0</td>\n",
       "      <td>557800.0</td>\n",
       "      <td>593200.0</td>\n",
       "      <td>...</td>\n",
       "      <td>NaN</td>\n",
       "      <td>False</td>\n",
       "      <td>66024.0</td>\n",
       "      <td>LE BOULOU</td>\n",
       "      <td>Vallée du Tech</td>\n",
       "      <td>91.0</td>\n",
       "      <td>10968X0069/SIECRE</td>\n",
       "      <td>66000131.0</td>\n",
       "      <td>NaN</td>\n",
       "      <td>NaN</td>\n",
       "    </tr>\n",
       "  </tbody>\n",
       "</table>\n",
       "<p>5 rows × 75 columns</p>\n",
       "</div>"
      ],
      "text/plain": [
       "   NUM_OUV_AERMC IDENTIFIANT_BSS_2017  \\\n",
       "0    166008002.0           BSS002MUWQ   \n",
       "1    166015003.0           BSS002MUAG   \n",
       "2    166021003.0           BSS002MQWH   \n",
       "3    166023001.0           BSS002MSTH   \n",
       "4    166024003.0           BSS002MUAJ   \n",
       "\n",
       "                                     LIBELLE_OUVRAGE         USAGES  \\\n",
       "0                             DRAIN AEP PONT DU TECH  AEP COLLECTIF   \n",
       "1                   FORAGE AEP F2 BANYULS DELS APRES  AEP COLLECTIF   \n",
       "2                   PUITS DANS NAPPE PRES DES VIGNES  AEP COLLECTIF   \n",
       "3                                      FORAGE AEP F2  AEP COLLECTIF   \n",
       "4  LO SIECRET / PUITS DANS NAPPE LIEU-DIT LES CLA...  AEP COLLECTIF   \n",
       "\n",
       "  NAPPE_CAPTEE          X_L93         Y_L93  PROFONDEUR_(m)   VOL_1987  \\\n",
       "0  QUATERNAIRE  698700.629000  6.165002e+06             NaN  1847600.0   \n",
       "1  QUATERNAIRE  689767.462946  6.161253e+06            15.0        NaN   \n",
       "2  QUATERNAIRE  694106.477634  6.181531e+06            11.0        NaN   \n",
       "3  QUATERNAIRE  666373.796000  6.172867e+06            21.7   140400.0   \n",
       "4  QUATERNAIRE  685014.465743  6.157746e+06            10.0   557800.0   \n",
       "\n",
       "   VOL_1988  ...  QUALITE_(RE)LOCALISATION  CORRECTION_LOCALISATION  \\\n",
       "0  921400.0  ...              BONNE (<50m)                     True   \n",
       "1       NaN  ...              BONNE (<50m)                    False   \n",
       "2       NaN  ...              BONNE (<50m)                    False   \n",
       "3  149800.0  ...              BONNE (<50m)                     True   \n",
       "4  593200.0  ...                       NaN                    False   \n",
       "\n",
       "   CODE_INSEE      NOM_COM_OUVRAGE          SECTEUR_EVP  #_HYDRIAD  \\\n",
       "0     66008.0      ARGELES-SUR-MER  Bordure Côtière Sud     2970.0   \n",
       "1     66015.0  BANYULS-DELS-ASPRES       Vallée du Tech       92.0   \n",
       "2     66021.0               BOMPAS     Vallée de la Têt       39.0   \n",
       "3     66023.0         BOULETERNERE     Vallée de la Têt      109.0   \n",
       "4     66024.0            LE BOULOU       Vallée du Tech       91.0   \n",
       "\n",
       "       REFERENCE_BSS  CODE_NATIONAL_ARS  CODE_CH-AGRI  \\\n",
       "0   10972X0150/DTECH         66000965.0           NaN   \n",
       "1     10968X0066/AEP         66000112.0           NaN   \n",
       "2       10915X0171/F         66000122.0           NaN   \n",
       "3      10961X0012/F2         66000685.0           NaN   \n",
       "4  10968X0069/SIECRE         66000131.0           NaN   \n",
       "\n",
       "                                        REMARQUES_BD  \n",
       "0  VOLUME 2010. Ancien doublon avec le #2687 => s...  \n",
       "1  Terrain stagiaire 2011 - AMBIGUITE SUR LE CODE...  \n",
       "2  Estimation des volumes autorisés via les volum...  \n",
       "3                Volume prélevé en 2011 : 338 000 m3  \n",
       "4                                                NaN  \n",
       "\n",
       "[5 rows x 75 columns]"
      ]
     },
     "execution_count": 2,
     "metadata": {},
     "output_type": "execute_result"
    }
   ],
   "source": [
    "data = \"../../data/prélèvements/donnees_sandra/SynthèseSLanini_data_Prelevements_1987-2018.xlsx\" # relative path to excel file\n",
    "a = pd.read_excel(data,header=2) # use panda to create a database from the excel file\n",
    "a.head()"
   ]
  },
  {
   "cell_type": "code",
   "execution_count": 3,
   "metadata": {},
   "outputs": [
    {
     "data": {
      "text/plain": [
       "Text(0, 0.5, 'Volumes annuels [m$^3$]')"
      ]
     },
     "execution_count": 3,
     "metadata": {},
     "output_type": "execute_result"
    },
    {
     "data": {
      "image/png": "[encoded data removed]",
      "text/plain": [
       "<Figure size 1080x504 with 1 Axes>"
      ]
     },
     "metadata": {
      "needs_background": "light"
     },
     "output_type": "display_data"
    }
   ],
   "source": [
    "fig,ax = plt.subplots(figsize=(15,7)) # create a fig and ax\n",
    "B = a.groupby([\"USAGES\"]).sum().loc[:,\"VOL_1987\":\"VOL_2018\"] # group data by the usage column and keep only Volume from 1987 to 2018\n",
    "B.drop(B.index[B.sum(1) == 0]).plot(kind=\"bar\",ax=ax,legend=[],title=(\"Prélèvements par usage\")) # plot\n",
    "plt.ylabel(\"Volumes annuels [m$^3$]\")"
   ]
  },
  {
   "cell_type": "code",
   "execution_count": 4,
   "metadata": {},
   "outputs": [
    {
     "data": {
      "text/plain": [
       "Text(0, 0.5, 'Volume annuel [m$^3$]')"
      ]
     },
     "execution_count": 4,
     "metadata": {},
     "output_type": "execute_result"
    },
    {
     "data": {
      "image/png": "[encoded data removed]",
      "text/plain": [
       "<Figure size 864x432 with 1 Axes>"
      ]
     },
     "metadata": {
      "needs_background": "light"
     },
     "output_type": "display_data"
    }
   ],
   "source": [
    "fig = plt.figure(figsize=(12,6))\n",
    "a.loc[:,\"VOL_1987\":\"VOL_2018\"].sum().plot(kind=\"bar\") # sum volume by year\n",
    "plt.title(\"Prélèvements totaux par année\")\n",
    "plt.xlabel(\"Annee\")\n",
    "plt.ylabel(\"Volume annuel [m$^3$]\")"
   ]
  },
  {
   "cell_type": "code",
   "execution_count": null,
   "metadata": {},
   "outputs": [],
   "source": []
  }
 ],
 "metadata": {
  "kernelspec": {
   "display_name": "Python 3",
   "language": "python",
   "name": "python3"
  },
  "language_info": {
   "codemirror_mode": {
    "name": "ipython",
    "version": 3
   },
   "file_extension": ".py",
   "mimetype": "text/x-python",
   "name": "python",
   "nbconvert_exporter": "python",
   "pygments_lexer": "ipython3",
   "version": "3.7.4"
  }
 },
 "nbformat": 4,
 "nbformat_minor": 2
}
