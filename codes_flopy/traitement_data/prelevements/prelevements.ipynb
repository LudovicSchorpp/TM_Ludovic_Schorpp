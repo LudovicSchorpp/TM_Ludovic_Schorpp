{
 "cells": [
  {
   "cell_type": "code",
   "execution_count": 1,
   "metadata": {},
   "outputs": [],
   "source": [
    "import pandas as pd\n",
    "import numpy as np\n",
    "import geopandas as gpd\n",
    "import matplotlib.pyplot as plt"
   ]
  },
  {
   "cell_type": "code",
   "execution_count": 2,
   "metadata": {},
   "outputs": [],
   "source": [
    "path = \"../../data/prélèvements/BD_FORAGES_SMNPR/BD_FORAGES.shp\"\n",
    "prlv = gpd.read_file(path)"
   ]
  },
  {
   "cell_type": "code",
   "execution_count": 3,
   "metadata": {},
   "outputs": [],
   "source": [
    "#prlv.loc[prlv[\"ETAT\"].isnull(),[\"ETAT\"]]=\"EXPLOITÉ\"\n",
    "prlv.drop(prlv[prlv[\"X_L93\"].isnull()].index,inplace=True)"
   ]
  },
  {
   "cell_type": "code",
   "execution_count": 4,
   "metadata": {},
   "outputs": [
    {
     "data": {
      "text/plain": [
       "39950241.0"
      ]
     },
     "execution_count": 4,
     "metadata": {},
     "output_type": "execute_result"
    }
   ],
   "source": [
    "prlv[\"V_AN_DDT\"].sum()"
   ]
  },
  {
   "cell_type": "code",
   "execution_count": 5,
   "metadata": {},
   "outputs": [
    {
     "data": {
      "text/plain": [
       "76725871.0"
      ]
     },
     "execution_count": 5,
     "metadata": {},
     "output_type": "execute_result"
    }
   ],
   "source": [
    "prlv[\"V_AN_ARS\"].sum()"
   ]
  },
  {
   "cell_type": "code",
   "execution_count": 6,
   "metadata": {},
   "outputs": [
    {
     "data": {
      "text/plain": [
       "5439549.0"
      ]
     },
     "execution_count": 6,
     "metadata": {},
     "output_type": "execute_result"
    }
   ],
   "source": [
    "prlv[\"V_AN_CA\"].sum()"
   ]
  },
  {
   "cell_type": "code",
   "execution_count": 7,
   "metadata": {},
   "outputs": [
    {
     "data": {
      "text/plain": [
       "<matplotlib.axes._subplots.AxesSubplot at 0x1ea1bddc088>"
      ]
     },
     "execution_count": 7,
     "metadata": {},
     "output_type": "execute_result"
    },
    {
     "data": {
      "image/png": "[encoded data removed]",
      "text/plain": [
       "<Figure size 432x288 with 1 Axes>"
      ]
     },
     "metadata": {
      "needs_background": "light"
     },
     "output_type": "display_data"
    }
   ],
   "source": [
    "prlv.groupby([\"ETAT\"]).sum().loc[:,\"V_JOUR_DDT\":\"V_AN_ARS\"].plot(kind=\"bar\")"
   ]
  },
  {
   "cell_type": "code",
   "execution_count": 8,
   "metadata": {},
   "outputs": [
    {
     "data": {
      "text/html": [
       "<div>\n",
       "<style scoped>\n",
       "    .dataframe tbody tr th:only-of-type {\n",
       "        vertical-align: middle;\n",
       "    }\n",
       "\n",
       "    .dataframe tbody tr th {\n",
       "        vertical-align: top;\n",
       "    }\n",
       "\n",
       "    .dataframe thead th {\n",
       "        text-align: right;\n",
       "    }\n",
       "</style>\n",
       "<table border=\"1\" class=\"dataframe\">\n",
       "  <thead>\n",
       "    <tr style=\"text-align: right;\">\n",
       "      <th></th>\n",
       "      <th>V_JOUR_DDT</th>\n",
       "      <th>V_MOIS_DDT</th>\n",
       "      <th>V_AN_DDT</th>\n",
       "      <th>V_JOUR_CA</th>\n",
       "      <th>V_AN_CA</th>\n",
       "      <th>Q_M3H_ARS</th>\n",
       "      <th>V_JOUR_ARS</th>\n",
       "      <th>V_AN_ARS</th>\n",
       "    </tr>\n",
       "    <tr>\n",
       "      <th>USAGES</th>\n",
       "      <th></th>\n",
       "      <th></th>\n",
       "      <th></th>\n",
       "      <th></th>\n",
       "      <th></th>\n",
       "      <th></th>\n",
       "      <th></th>\n",
       "      <th></th>\n",
       "    </tr>\n",
       "  </thead>\n",
       "  <tbody>\n",
       "    <tr>\n",
       "      <td>AEP COLLECTIF</td>\n",
       "      <td>92760.0</td>\n",
       "      <td>408665.0</td>\n",
       "      <td>26539382.0</td>\n",
       "      <td>0.0</td>\n",
       "      <td>0.0</td>\n",
       "      <td>124604.0</td>\n",
       "      <td>207355.0</td>\n",
       "      <td>75684575.0</td>\n",
       "    </tr>\n",
       "    <tr>\n",
       "      <td>IRRIGATION</td>\n",
       "      <td>110659.0</td>\n",
       "      <td>52589.0</td>\n",
       "      <td>5549513.0</td>\n",
       "      <td>129749.0</td>\n",
       "      <td>5409427.0</td>\n",
       "      <td>0.0</td>\n",
       "      <td>0.0</td>\n",
       "      <td>0.0</td>\n",
       "    </tr>\n",
       "  </tbody>\n",
       "</table>\n",
       "</div>"
      ],
      "text/plain": [
       "               V_JOUR_DDT  V_MOIS_DDT    V_AN_DDT  V_JOUR_CA    V_AN_CA  \\\n",
       "USAGES                                                                    \n",
       "AEP COLLECTIF     92760.0    408665.0  26539382.0        0.0        0.0   \n",
       "IRRIGATION       110659.0     52589.0   5549513.0   129749.0  5409427.0   \n",
       "\n",
       "               Q_M3H_ARS  V_JOUR_ARS    V_AN_ARS  \n",
       "USAGES                                            \n",
       "AEP COLLECTIF   124604.0    207355.0  75684575.0  \n",
       "IRRIGATION           0.0         0.0         0.0  "
      ]
     },
     "execution_count": 8,
     "metadata": {},
     "output_type": "execute_result"
    }
   ],
   "source": [
    "prlv.groupby([\"USAGES\"]).sum().loc[[\"AEP COLLECTIF\",\"IRRIGATION\"],\"V_JOUR_DDT\":\"V_AN_ARS\"]"
   ]
  },
  {
   "cell_type": "code",
   "execution_count": 9,
   "metadata": {},
   "outputs": [],
   "source": [
    "path = \"../../data/prélèvements/prlvm_brl/Prlvm_brl_Rou.shp\"\n",
    "prlv2=gpd.read_file(path)"
   ]
  }
 ],
 "metadata": {
  "kernelspec": {
   "display_name": "Python 3",
   "language": "python",
   "name": "python3"
  },
  "language_info": {
   "codemirror_mode": {
    "name": "ipython",
    "version": 3
   },
   "file_extension": ".py",
   "mimetype": "text/x-python",
   "name": "python",
   "nbconvert_exporter": "python",
   "pygments_lexer": "ipython3",
   "version": "3.7.4"
  }
 },
 "nbformat": 4,
 "nbformat_minor": 2
}
