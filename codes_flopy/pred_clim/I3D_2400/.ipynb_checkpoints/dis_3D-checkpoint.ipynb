{
 "cells": [
  {
   "cell_type": "code",
   "execution_count": 1,
   "metadata": {},
   "outputs": [
    {
     "name": "stdout",
     "output_type": "stream",
     "text": [
      "flopy is installed in C:\\Users\\emmal\\Anaconda3\\lib\\site-packages\\flopy\n"
     ]
    }
   ],
   "source": [
    "import flopy as fp\n",
    "import numpy as np\n",
    "import geopandas as gp\n",
    "import pandas as pd\n",
    "import pickle\n",
    "import os\n",
    "import sys\n",
    "from osgeo import ogr\n",
    "from osgeo import gdal\n",
    "from osgeo import gdal_array\n",
    "from osgeo import osr\n",
    "import matplotlib.pyplot as plt\n",
    "from flopy.utils.gridgen import Gridgen \n",
    "from flopy.utils.gridintersect import GridIntersect\n",
    "from flopy.utils import Raster\n",
    "import shapely\n",
    "from scipy.optimize import minimize\n",
    "from shapely.geometry import Polygon, Point, LineString, MultiLineString, MultiPoint, MultiPolygon,shape\n",
    "from shapely.strtree import STRtree  \n",
    "import glob\n",
    "import time\n",
    "\n",
    "\n",
    "sys.path.insert(1, '../../modules')\n",
    "# hand made functions\n",
    "from Rouss import *\n",
    "from Rouss3D import *\n",
    "from dis_flopy import *\n",
    "\n",
    "sys.path.insert(1,\"../../Model_val/upscalling/\")\n",
    "from upscalling_functions import*"
   ]
  },
  {
   "cell_type": "code",
   "execution_count": 2,
   "metadata": {},
   "outputs": [],
   "source": [
    "#geo parameters\n",
    "MNT_path = \"../../data/surfaces_geoter_decoup/TOPO (inf 0 en mer).asc\"\n",
    "x0,x1,y0,y1 = Raster.load(MNT_path).bounds\n",
    "\n",
    "#Z\n",
    "nlay = 5\n",
    "\n",
    "#X\n",
    "x_seashore = 705e3\n",
    "Lx_1 = x_seashore-x0\n",
    "Lx_2 = x1 - x_seashore\n",
    "res_1 = 300\n",
    "res_2 = 600\n",
    "ncol1 = int(Lx_1/res_1)\n",
    "ncol2 = int(Lx_2/res_2)\n",
    "ncol = ncol1+ncol2\n",
    "\n",
    "delr = np.ones(ncol)*res_1\n",
    "delr[ncol1:ncol1+1] *=1.5\n",
    "delr[ncol1+1:] *= 2\n",
    "\n",
    "\n",
    "#Y\n",
    "Ly = y1-y0\n",
    "res = 300\n",
    "nrow = int(Ly/res)\n",
    "delc = np.ones(nrow)*res\n",
    "\n",
    "grid = fp.discretization.StructuredGrid(delc,delr,xoff=x0,yoff=y0) # create a grid identical to the dis package, will be used\n",
    "                                                                   # to pre-process data"
   ]
  },
  {
   "cell_type": "code",
   "execution_count": 3,
   "metadata": {},
   "outputs": [],
   "source": [
    "# load differents surfaces\n",
    "\n",
    "top = \"../../data/surfaces_geoter_decoup/TOPO (inf 0 en mer).asc\"\n",
    "surfQ  = \"../../data/surfaces_geoter_decoup/Mur QUAT.asc\"\n",
    "surfPC = \"../../data/surfaces_geoter_decoup/Mur PC.asc\"\n",
    "surfPMS = \"../../data/surfaces_geoter_decoup/Mur PMS.asc\"\n",
    "\n",
    "files_surf = [top,surfQ,surfPC,surfPMS]\n",
    "surfaces=[]\n",
    "for file in files_surf:\n",
    "    Rast = Raster.load(file)\n",
    "    surfaces.append(Rast.resample_to_grid(grid.xcellcenters,\n",
    "                                grid.ycellcenters,\n",
    "                                band = Rast.bands[0],\n",
    "                                method=\"nearest\"))\n",
    "\n",
    "top = surfaces[0]\n",
    "Q = surfaces[1]\n",
    "PC = surfaces[2]\n",
    "PMS = surfaces[3]\n",
    "surfaces.insert(2,Q)"
   ]
  },
  {
   "cell_type": "code",
   "execution_count": 4,
   "metadata": {},
   "outputs": [],
   "source": [
    "#domain\n",
    "idomain = np.zeros([nlay,nrow,ncol])\n",
    "\n",
    "for ilay in range(nlay-1):\n",
    "    idomain[ilay+1] = active_dom(surfaces[ilay+1],grid)"
   ]
  },
  {
   "cell_type": "code",
   "execution_count": null,
   "metadata": {},
   "outputs": [],
   "source": [
    "shp_Q = \"../../data/shp/entités/Q_ext_2.shp\"\n",
    "idomain[0:3]=0\n",
    "gp2cellids3D(grid,gp.read_file(shp_Q),idomain,layer=1);\n",
    "idomain[2] = idomain[1]"
   ]
  },
  {
   "cell_type": "code",
   "execution_count": null,
   "metadata": {},
   "outputs": [],
   "source": [
    "#layer 0\n",
    "shp = \"../../data/shp/sea_bc_extended.shp\"\n",
    "gp2cellids3D(grid,gp.read_file(shp),idomain,layer=0);"
   ]
  },
  {
   "cell_type": "code",
   "execution_count": null,
   "metadata": {},
   "outputs": [],
   "source": [
    "# pseudo active cells\n",
    "for ilay in range(nlay-2):\n",
    "    for irow in range(nrow):\n",
    "        for icol in range(ncol):\n",
    "            icell = idomain[:,irow,icol]\n",
    "            if (icell[:ilay+1]==1).any() & (icell[ilay+2:]==1).any() & (icell[ilay+1] == 0):\n",
    "                idomain[ilay+1,irow,icol] = - 1"
   ]
  },
  {
   "cell_type": "code",
   "execution_count": null,
   "metadata": {},
   "outputs": [],
   "source": [
    "fig = plt.figure(figsize=(12,8))\n",
    "fig.subplots_adjust(hspace=0.2, wspace=0.2)\n",
    "for i in range(1,nlay+1):\n",
    "    ax = fig.add_subplot(2, 3, i)\n",
    "    g=ax.imshow(idomain[i-1])\n",
    "    plt.title(\"idomain layer {}\".format(i))"
   ]
  },
  {
   "cell_type": "code",
   "execution_count": null,
   "metadata": {},
   "outputs": [],
   "source": [
    "#surfaces and botom\n",
    "botm = np.zeros([nlay,nrow,ncol])\n",
    "\n",
    "bot_surf = top.copy() # a list that will contain infos about the bottom of a surface, update at each loop\n",
    "for ilay in range(nlay):\n",
    "   \n",
    "    bot_surf[idomain[ilay] != 1] -= 0.1 # not in a the domain, 0.1 m of thickness\n",
    "\n",
    "    if ilay == 2:\n",
    "        bot_surf[idomain[ilay] == 1] = botm[1][idomain[ilay] == 1] - 2\n",
    "    if ilay == 0:\n",
    "        bot_surf[idomain[ilay] == 1] -= 2\n",
    "    else:\n",
    "        bot_surf[idomain[ilay] == 1] = surfaces[ilay][idomain[ilay] == 1] # where idomain for ilay is active --> bot_surf take the values of the surface\n",
    "\n",
    "    botm[ilay] = bot_surf"
   ]
  },
  {
   "cell_type": "code",
   "execution_count": null,
   "metadata": {},
   "outputs": [],
   "source": [
    "while np.array(check_thk(top,botm)).any():\n",
    "    MinThick(idomain,botm,top,min_ep_act=2,min_ep_inact=0.1)\n",
    "check_thk(top,botm) # should be false"
   ]
  },
  {
   "cell_type": "code",
   "execution_count": null,
   "metadata": {},
   "outputs": [],
   "source": [
    "#botm[botm<-1000]=0\n",
    "#top[top<-1000]=10"
   ]
  },
  {
   "cell_type": "code",
   "execution_count": null,
   "metadata": {},
   "outputs": [],
   "source": [
    "fig = plt.figure(figsize=(20,12))\n",
    "fig.subplots_adjust(hspace=0.2, wspace=0.1)\n",
    "\n",
    "ax = fig.add_subplot(2, 3, 1)\n",
    "a = ax.imshow(top-botm[0])\n",
    "a.set_clim(-1,60)\n",
    "plt.title(\"thickness layer 0\")\n",
    "for i in range(1,botm.shape[0]):\n",
    "    ax = fig.add_subplot(2, 3, i+1)\n",
    "    a = ax.imshow(botm[i-1]-botm[i])\n",
    "    a.set_clim(-1,60)\n",
    "    plt.title(\"thickness layer {}\".format(i))\n",
    "\n",
    "plt.colorbar(a)"
   ]
  },
  {
   "cell_type": "code",
   "execution_count": null,
   "metadata": {},
   "outputs": [],
   "source": [
    "path = \"working\"\n",
    "try:\n",
    "    os.mkdir(path)\n",
    "write_pickle(\"working/export_dis3D\",[top,botm,idomain,delr,delc])"
   ]
  }
 ],
 "metadata": {
  "kernelspec": {
   "display_name": "Python 3",
   "language": "python",
   "name": "python3"
  },
  "language_info": {
   "codemirror_mode": {
    "name": "ipython",
    "version": 3
   },
   "file_extension": ".py",
   "mimetype": "text/x-python",
   "name": "python",
   "nbconvert_exporter": "python",
   "pygments_lexer": "ipython3",
   "version": "3.7.4"
  }
 },
 "nbformat": 4,
 "nbformat_minor": 2
}
