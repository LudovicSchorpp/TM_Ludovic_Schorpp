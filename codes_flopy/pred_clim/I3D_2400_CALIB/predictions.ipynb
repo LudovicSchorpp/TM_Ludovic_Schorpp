{
 "cells": [
  {
   "cell_type": "code",
   "execution_count": 11,
   "metadata": {},
   "outputs": [],
   "source": [
    "import flopy as fp\n",
    "import shutil\n",
    "import os"
   ]
  },
  {
   "cell_type": "code",
   "execution_count": 12,
   "metadata": {},
   "outputs": [
    {
     "name": "stdout",
     "output_type": "stream",
     "text": [
      "loading simulation...\n",
      "  loading simulation name file...\n",
      "  loading tdis package...\n",
      "  loading model gwf6...\n",
      "    loading package dis...\n",
      "    loading package ic...\n",
      "    loading package oc...\n",
      "    loading package npf...\n",
      "    loading package wel...\n",
      "    loading package rch...\n",
      "    loading package rch...\n",
      "    loading package rch...\n",
      "    loading package wel...\n",
      "    loading package chd...\n",
      "    loading package chd...\n",
      "    loading package drn...\n",
      "    loading package riv...\n",
      "    loading package riv...\n",
      "    loading package riv...\n",
      "    loading package riv...\n",
      "    loading package riv...\n",
      "    loading package riv...\n",
      "    loading package obs...\n",
      "WARNING: Block header for block \"continuous\" is not a unique block header ('pest_3d_r', 'obs', 'continuous')\n",
      "WARNING: Block header for block \"continuous\" is not a unique block header ('pest_3d_r', 'obs', 'continuous')\n",
      "WARNING: Block header for block \"continuous\" is not a unique block header ('pest_3d_r', 'obs', 'continuous')\n",
      "  loading ims package pest_3d_r...\n"
     ]
    }
   ],
   "source": [
    "sim_name = \"pest_3D_R\"\n",
    "org = \"org_model\"\n",
    "ws = \"workspace\"\n",
    "\n",
    "if ws not in os.listdir():\n",
    "    shutil.copytree(org,ws)\n",
    "sim = fp.mf6.MFSimulation.load(sim_name,sim_ws=ws)"
   ]
  },
  {
   "cell_type": "code",
   "execution_count": null,
   "metadata": {},
   "outputs": [],
   "source": []
  },
  {
   "cell_type": "code",
   "execution_count": null,
   "metadata": {},
   "outputs": [],
   "source": []
  },
  {
   "cell_type": "code",
   "execution_count": null,
   "metadata": {},
   "outputs": [],
   "source": []
  },
  {
   "cell_type": "code",
   "execution_count": null,
   "metadata": {},
   "outputs": [],
   "source": []
  },
  {
   "cell_type": "code",
   "execution_count": null,
   "metadata": {},
   "outputs": [],
   "source": []
  }
 ],
 "metadata": {
  "kernelspec": {
   "display_name": "Python 3",
   "language": "python",
   "name": "python3"
  },
  "language_info": {
   "codemirror_mode": {
    "name": "ipython",
    "version": 3
   },
   "file_extension": ".py",
   "mimetype": "text/x-python",
   "name": "python",
   "nbconvert_exporter": "python",
   "pygments_lexer": "ipython3",
   "version": "3.7.4"
  }
 },
 "nbformat": 4,
 "nbformat_minor": 2
}
