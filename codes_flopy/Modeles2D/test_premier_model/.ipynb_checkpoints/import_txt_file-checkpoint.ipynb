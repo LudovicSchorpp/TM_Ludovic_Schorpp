{
 "cells": [
  {
   "cell_type": "code",
   "execution_count": 3,
   "metadata": {},
   "outputs": [
    {
     "name": "stdout",
     "output_type": "stream",
     "text": [
      "flopy is installed in C:\\Users\\schorppl\\AppData\\Local\\Continuum\\anaconda3\\lib\\site-packages\\flopy\n"
     ]
    }
   ],
   "source": [
    "import flopy as fp\n",
    "import numpy as np\n",
    "import geopandas as gp\n",
    "import pandas as pd\n",
    "import os\n",
    "from osgeo import ogr\n",
    "import gdal\n",
    "import matplotlib.pyplot as plt\n",
    "from flopy.utils.gridgen import Gridgen \n",
    "from flopy.utils.gridintersect import GridIntersect\n",
    "import shapely\n",
    "from shapely.geometry import Polygon, Point, LineString, MultiLineString, MultiPoint, MultiPolygon,shape\n",
    "from shapely.strtree import STRtree  \n",
    "\n",
    "# hand made functions\n",
    "from Rouss1 import Imreduction, gp2idomain, gp2cellids,cellidBD, get_heads, get_spdis, get_MNTbbox, inter_lst\n",
    "from Rouss1 import import_riv, get_cellcenters"
   ]
  },
  {
   "cell_type": "code",
   "execution_count": 21,
   "metadata": {},
   "outputs": [],
   "source": [
    "model_dir = \"workingDis\"\n",
    "model_name=\"dis_test\"\n",
    "exe_name=\"../../exe/mf6\"\n",
    "R_path=\"../data/limiteModeleRoussillon_poly.shp\" # path to the shp of the aquifer\n",
    "Agly_path=\"../data/Fleuves/Agly_ludo.shp\" # path to Agly\n",
    "Txt_path = \"../../data/txt_couches/mnt.txt\" # mnt in txt\n",
    "MNT_path= \"../../../../../MNT_demo_5m.tif\"\n"
   ]
  },
  {
   "cell_type": "code",
   "execution_count": 60,
   "metadata": {},
   "outputs": [],
   "source": [
    "import codecs\n",
    "with codecs.open(Txt_path, 'r', encoding='utf-8',\n",
    "                 errors='ignore') as fdata:\n",
    "    a = pd.read_csv(fdata,sep=\"\\t\",header=None)"
   ]
  },
  {
   "cell_type": "code",
   "execution_count": null,
   "metadata": {},
   "outputs": [],
   "source": []
  }
 ],
 "metadata": {
  "kernelspec": {
   "display_name": "Python 3",
   "language": "python",
   "name": "python3"
  },
  "language_info": {
   "codemirror_mode": {
    "name": "ipython",
    "version": 3
   },
   "file_extension": ".py",
   "mimetype": "text/x-python",
   "name": "python",
   "nbconvert_exporter": "python",
   "pygments_lexer": "ipython3",
   "version": "3.7.4"
  }
 },
 "nbformat": 4,
 "nbformat_minor": 2
}
