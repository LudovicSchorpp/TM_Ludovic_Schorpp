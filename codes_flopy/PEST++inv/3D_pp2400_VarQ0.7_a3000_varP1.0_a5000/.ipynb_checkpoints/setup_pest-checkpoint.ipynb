{
 "cells": [
  {
   "cell_type": "code",
   "execution_count": 21,
   "metadata": {},
   "outputs": [],
   "source": [
    "import pyemu\n",
    "import numpy as np\n",
    "import matplotlib.pyplot as plt\n",
    "import pandas as pd\n",
    "import flopy as fp\n",
    "from flopy.utils.reference import SpatialReference\n",
    "import os\n",
    "import sys\n",
    "from shutil import copyfile\n",
    "import fileinput\n",
    "\n",
    "sys.path.append(\"../../modules\")\n",
    "# hand made functions\n",
    "from Rouss import *"
   ]
  },
  {
   "cell_type": "code",
   "execution_count": 22,
   "metadata": {},
   "outputs": [],
   "source": [
    "ws = \"workspace\"\n",
    "m_n_i = \"pest_3d_r\"\n",
    "m_n = \"pest_3D_R\"\n",
    "\n",
    "case = \"3D_test\""
   ]
  },
  {
   "cell_type": "code",
   "execution_count": 23,
   "metadata": {},
   "outputs": [
    {
     "name": "stdout",
     "output_type": "stream",
     "text": [
      "loading simulation...\n",
      "  loading simulation name file...\n",
      "  loading tdis package...\n",
      "  loading model gwf6...\n",
      "    loading package dis...\n",
      "    loading package ic...\n",
      "    loading package oc...\n",
      "    loading package npf...\n",
      "    loading package wel...\n",
      "    loading package rch...\n",
      "    loading package rch...\n",
      "    loading package rch...\n",
      "    loading package wel...\n",
      "    loading package chd...\n",
      "    loading package chd...\n",
      "    loading package drn...\n",
      "    loading package riv...\n",
      "    loading package riv...\n",
      "    loading package riv...\n",
      "    loading package riv...\n",
      "    loading package riv...\n",
      "    loading package riv...\n",
      "    loading package obs...\n",
      "WARNING: Block header for block \"continuous\" is not a unique block header ('pest_3d_r', 'obs', 'continuous')\n",
      "WARNING: Block header for block \"continuous\" is not a unique block header ('pest_3d_r', 'obs', 'continuous')\n",
      "WARNING: Block header for block \"continuous\" is not a unique block header ('pest_3d_r', 'obs', 'continuous')\n",
      "  loading ims package pest_3d_r...\n"
     ]
    }
   ],
   "source": [
    "sim = fp.mf6.MFSimulation.load(sim_ws=ws)\n",
    "m = sim.get_model(m_n_i)"
   ]
  },
  {
   "cell_type": "code",
   "execution_count": 24,
   "metadata": {},
   "outputs": [
    {
     "data": {
      "text/plain": [
       "xul:664525; yul:6207475; rotation:0; proj4_str:None; units:meters; lenuni:2; length_multiplier:1.0"
      ]
     },
     "execution_count": 24,
     "metadata": {},
     "output_type": "execute_result"
    }
   ],
   "source": [
    "sr = SpatialReference(delr=m.dis.delr.array, delc=m.dis.delc.array, xll=m.dis.xorigin.array, yll=m.dis.yorigin.array)\n",
    "sr"
   ]
  },
  {
   "cell_type": "code",
   "execution_count": 25,
   "metadata": {},
   "outputs": [
    {
     "name": "stdout",
     "output_type": "stream",
     "text": [
      "2021-08-05 17:17:31.477005 starting: opening PstFrom.log for logging\n",
      "2021-08-05 17:17:31.478005 starting PstFrom process\n",
      "2021-08-05 17:17:31.481301 starting: setting up dirs\n",
      "2021-08-05 17:17:31.483085 starting: removing existing new_d 'template'\n",
      "2021-08-05 17:17:31.530754 finished: removing existing new_d 'template' took: 0:00:00.047669\n",
      "2021-08-05 17:17:31.531916 starting: copying original_d 'workspace' to new_d 'template'\n",
      "2021-08-05 17:17:31.731294 finished: copying original_d 'workspace' to new_d 'template' took: 0:00:00.199378\n",
      "2021-08-05 17:17:31.733972 finished: setting up dirs took: 0:00:00.252671\n"
     ]
    }
   ],
   "source": [
    "# empty pst object\n",
    "template_ws = \"template\"\n",
    "pf = pyemu.utils.PstFrom(original_d=ws, new_d=template_ws,\n",
    "                 remove_existing=True,\n",
    "                 longnames=True, spatial_reference=sr,\n",
    "                 zero_based=False)"
   ]
  },
  {
   "cell_type": "code",
   "execution_count": 26,
   "metadata": {
    "scrolled": true
   },
   "outputs": [
    {
     "name": "stdout",
     "output_type": "stream",
     "text": [
      "2021-08-05 17:17:31.786946 starting: adding observations from tabular output file\n",
      "2021-08-05 17:17:31.787861 starting: reading list template\\heads_q.csv\n",
      "2021-08-05 17:17:31.805481 finished: reading list template\\heads_q.csv took: 0:00:00.017620\n",
      "2021-08-05 17:17:31.806416 starting: building insfile for tabular output file heads_q.csv\n",
      "2021-08-05 17:17:31.830385 finished: building insfile for tabular output file heads_q.csv took: 0:00:00.023969\n",
      "2021-08-05 17:17:31.831387 starting: adding observation from instruction file 'template\\heads_q.csv.ins'\n",
      "2021-08-05 17:17:31.855558 finished: adding observation from instruction file 'template\\heads_q.csv.ins' took: 0:00:00.024171\n",
      "2021-08-05 17:17:31.859154 finished: adding observations from tabular output file took: 0:00:00.072208\n",
      "2021-08-05 17:17:31.872154 starting: adding observations from tabular output file\n",
      "2021-08-05 17:17:31.873769 starting: reading list template\\heads_pc.csv\n",
      "2021-08-05 17:17:31.888874 finished: reading list template\\heads_pc.csv took: 0:00:00.015105\n",
      "2021-08-05 17:17:31.889252 starting: building insfile for tabular output file heads_pc.csv\n",
      "2021-08-05 17:17:31.910090 finished: building insfile for tabular output file heads_pc.csv took: 0:00:00.020838\n",
      "2021-08-05 17:17:31.911101 starting: adding observation from instruction file 'template\\heads_pc.csv.ins'\n",
      "2021-08-05 17:17:31.930082 finished: adding observation from instruction file 'template\\heads_pc.csv.ins' took: 0:00:00.018981\n",
      "2021-08-05 17:17:31.935061 finished: adding observations from tabular output file took: 0:00:00.062907\n",
      "2021-08-05 17:17:31.973209 starting: adding observations from tabular output file\n",
      "2021-08-05 17:17:31.975179 starting: reading list template\\heads_map_q.csv\n",
      "2021-08-05 17:17:32.010354 finished: reading list template\\heads_map_q.csv took: 0:00:00.035175\n",
      "2021-08-05 17:17:32.011430 starting: building insfile for tabular output file heads_map_q.csv\n",
      "2021-08-05 17:17:32.036762 finished: building insfile for tabular output file heads_map_q.csv took: 0:00:00.025332\n",
      "2021-08-05 17:17:32.037762 starting: adding observation from instruction file 'template\\heads_map_q.csv.ins'\n",
      "2021-08-05 17:17:32.073279 finished: adding observation from instruction file 'template\\heads_map_q.csv.ins' took: 0:00:00.035517\n",
      "2021-08-05 17:17:32.078464 finished: adding observations from tabular output file took: 0:00:00.105255\n"
     ]
    }
   ],
   "source": [
    "#add observation\n",
    "#Quat\n",
    "df = pd.read_csv(os.path.join(template_ws,\"heads_q.csv\"),index_col=0)\n",
    "hds_df = pf.add_observations(\"heads_q.csv\",insfile=\"heads_q.csv.ins\",index_cols=\"time\",\n",
    "                use_cols=list(df.columns.values),prefix=\"quat\",obsgp=True)\n",
    "#P\n",
    "df = pd.read_csv(os.path.join(template_ws,\"heads_pc.csv\"),index_col=0)\n",
    "hds_df = pf.add_observations(\"heads_pc.csv\",insfile=\"heads_pc.csv.ins\",index_cols=\"time\",\n",
    "                use_cols=list(df.columns.values),prefix=\"pc\",obsgp=True)\n",
    "\n",
    "#Q map\n",
    "file = \"heads_map_q.csv\"\n",
    "df = pd.read_csv(os.path.join(template_ws,file),index_col=0)\n",
    "hds_df = pf.add_observations(file,insfile=\"{}.ins\".format(file),index_cols=\"time\",\n",
    "                use_cols=list(df.columns.values),prefix=\"qmap\",obsgp=True)\n",
    "\n",
    "#P map\n",
    "# file = \"heads_map_p.csv\"\n",
    "# df = pd.read_csv(os.path.join(template_ws,file),index_col=0)\n",
    "# hds_df = pf.add_observations(file,insfile=\"{}.ins\".format(file),index_cols=\"time\",\n",
    "#                 use_cols=list(df.columns.values),prefix=\"Pmap\",obsgp=True)\n",
    "\n",
    "#pf.obs_dfs[2].weight = 0.5 # set a weaker weigth to these points"
   ]
  },
  {
   "cell_type": "code",
   "execution_count": 27,
   "metadata": {},
   "outputs": [
    {
     "name": "stdout",
     "output_type": "stream",
     "text": [
      "2021-08-05 17:17:32.143554 starting: adding observations from tabular output file\n",
      "2021-08-05 17:17:32.144899 starting: reading list template\\heads_map_p.csv\n",
      "2021-08-05 17:17:32.183905 finished: reading list template\\heads_map_p.csv took: 0:00:00.039006\n",
      "2021-08-05 17:17:32.185213 starting: building insfile for tabular output file heads_map_p.csv\n",
      "2021-08-05 17:17:32.210244 finished: building insfile for tabular output file heads_map_p.csv took: 0:00:00.025031\n",
      "2021-08-05 17:17:32.211322 starting: adding observation from instruction file 'template\\heads_map_p.csv.ins'\n",
      "2021-08-05 17:17:32.244861 finished: adding observation from instruction file 'template\\heads_map_p.csv.ins' took: 0:00:00.033539\n",
      "2021-08-05 17:17:32.249889 finished: adding observations from tabular output file took: 0:00:00.106335\n"
     ]
    }
   ],
   "source": [
    "#P map\n",
    "file = \"heads_map_p.csv\"\n",
    "df = pd.read_csv(os.path.join(template_ws,file),index_col=0)\n",
    "hds_df = pf.add_observations(file,insfile=\"{}.ins\".format(file),index_cols=\"time\",\n",
    "                use_cols=list(df.columns.values),prefix=\"pmap\",obsgp=True)"
   ]
  },
  {
   "cell_type": "code",
   "execution_count": 28,
   "metadata": {},
   "outputs": [],
   "source": [
    "def chInsfle(file):\n",
    "    \n",
    "    \"\"\"\n",
    "    change a ins file create with PstFrom (only for a model with 1 stress period)\n",
    "    in the right format to be used by PEST\n",
    "    \"\"\"\n",
    "    \n",
    "    fileout = \"tmp\"\n",
    "    with open(file) as f:\n",
    "        with open(fileout,\"w\") as fout:\n",
    "            for i,line in enumerate(f):\n",
    "                if i < 2:\n",
    "                    fout.write(line)\n",
    "                if i > 1:\n",
    "                    for o,split in enumerate(line.split(\"w\")):\n",
    "                        if o == 1:\n",
    "                            fout.write(\"~,~\")\n",
    "                        fout.write(split)\n",
    "                        \n",
    "    from shutil import copyfile\n",
    "    copyfile(fileout, file) # copy \n",
    "    os.remove(fileout) # delete tmp file\n",
    "\n",
    "chInsfle(\"template/heads_pc.csv.ins\")\n",
    "chInsfle(\"template/heads_q.csv.ins\")\n",
    "chInsfle(\"template/heads_map_q.csv.ins\")\n",
    "chInsfle(\"template/heads_map_p.csv.ins\")\n",
    "\n",
    "pf.obs_dfs[0].obgnme = \"Quat\"\n",
    "pf.obs_dfs[1].obgnme = \"Pc\"\n",
    "pf.obs_dfs[2].obgnme = \"Qmap\"\n",
    "pf.obs_dfs[3].obgnme = \"Pmap\""
   ]
  },
  {
   "cell_type": "code",
   "execution_count": 29,
   "metadata": {},
   "outputs": [
    {
     "name": "stdout",
     "output_type": "stream",
     "text": [
      "noptmax:30, npar_adj:0, nnz_obs:522\n"
     ]
    },
    {
     "data": {
      "text/plain": [
       "<pyemu.pst.pst_handler.Pst at 0x23c28913588>"
      ]
     },
     "execution_count": 29,
     "metadata": {},
     "output_type": "execute_result"
    }
   ],
   "source": [
    "pf.build_pst(\"{}.pst\".format(case))"
   ]
  },
  {
   "cell_type": "markdown",
   "metadata": {},
   "source": [
    "### Parameters"
   ]
  },
  {
   "cell_type": "code",
   "execution_count": 30,
   "metadata": {},
   "outputs": [
    {
     "name": "stderr",
     "output_type": "stream",
     "text": [
      "c:\\users\\ludovic\\anaconda3\\envs\\hydro\\lib\\site-packages\\pyemu\\utils\\geostats.py:248: MatplotlibDeprecationWarning: Adding an axes using the same arguments as a previous axes currently reuses the earlier instance.  In a future version, a new instance will always be created and returned.  Meanwhile, this warning can be suppressed, and the future behavior ensured, by passing a unique label to each axes instance.\n",
      "  ax = plt.subplot(111)\n",
      "c:\\users\\ludovic\\anaconda3\\envs\\hydro\\lib\\site-packages\\pyemu\\utils\\geostats.py:248: MatplotlibDeprecationWarning: Adding an axes using the same arguments as a previous axes currently reuses the earlier instance.  In a future version, a new instance will always be created and returned.  Meanwhile, this warning can be suppressed, and the future behavior ensured, by passing a unique label to each axes instance.\n",
      "  ax = plt.subplot(111)\n",
      "c:\\users\\ludovic\\anaconda3\\envs\\hydro\\lib\\site-packages\\pyemu\\utils\\geostats.py:248: MatplotlibDeprecationWarning: Adding an axes using the same arguments as a previous axes currently reuses the earlier instance.  In a future version, a new instance will always be created and returned.  Meanwhile, this warning can be suppressed, and the future behavior ensured, by passing a unique label to each axes instance.\n",
      "  ax = plt.subplot(111)\n"
     ]
    },
    {
     "data": {
      "text/plain": [
       "<matplotlib.legend.Legend at 0x23c287e3208>"
      ]
     },
     "execution_count": 30,
     "metadata": {},
     "output_type": "execute_result"
    },
    {
     "data": {
      "image/png": "[encoded data removed]",
      "text/plain": [
       "<Figure size 576x288 with 1 Axes>"
      ]
     },
     "metadata": {
      "needs_background": "light"
     },
     "output_type": "display_data"
    }
   ],
   "source": [
    "fig,ax = plt.subplots(figsize=(8,4))\n",
    "\n",
    "#q\n",
    "vq1 = pyemu.geostats.GauVario(a=4000,contribution=0.7)\n",
    "vq2 = pyemu.geostats.ExpVario(a=4000,contribution=0.7)\n",
    "grid_q1 = pyemu.geostats.GeoStruct(variograms=vq1, transform='log')\n",
    "grid_q2 = pyemu.geostats.GeoStruct(variograms=vq2,nugget=0.06 , transform='log')\n",
    "b=grid_q1.plot()\n",
    "b=grid_q2.plot()\n",
    "\n",
    "#pc\n",
    "vp1 = pyemu.geostats.GauVario(a=5000,contribution=1)\n",
    "vp2 = pyemu.geostats.ExpVario(a=5000,contribution=1)\n",
    "grid_pc1 = pyemu.geostats.GeoStruct(variograms=vp1, transform='log')\n",
    "grid_pc2 = pyemu.geostats.GeoStruct(variograms=vp2, transform='log')\n",
    "a=grid_pc1.plot()\n",
    "a=grid_pc2.plot()\n",
    "\n",
    "a.set_title(\"Spatial vario Q vs PC\")\n",
    "plt.legend([\"QGau\",\"Qexp\",\"PCGau\",\"PCexp\"])"
   ]
  },
  {
   "cell_type": "code",
   "execution_count": 31,
   "metadata": {},
   "outputs": [
    {
     "name": "stdout",
     "output_type": "stream",
     "text": [
      "2021-08-05 17:17:33.088208 starting: adding pilotpoint type multiplier style parameters for file(s) ['kq.txt']\n",
      "2021-08-05 17:17:33.089395 starting: loading array template\\kq.txt\n",
      "2021-08-05 17:17:33.189357 finished: loading array template\\kq.txt took: 0:00:00.099962\n",
      "2021-08-05 17:17:33.190382 loaded array 'kq.txt' of shape (182, 183)\n",
      "2021-08-05 17:17:33.264633 starting: writing array-based template file 'kp_q_inst0_pilotpoint.csv.tpl'\n",
      "2021-08-05 17:17:33.265647 starting: setting up pilot point parameters\n",
      "2021-08-05 17:17:33.266624 No spatial reference (containing cell spacing) passed.\n",
      "2021-08-05 17:17:33.266624 OK - using spatial reference in parent object.\n",
      "2021-08-05 17:17:33.954437 118 pilot point parameters created\n",
      "2021-08-05 17:17:33.956251 pilot point 'pargp':kp_q_inst:0\n",
      "2021-08-05 17:17:33.956251 finished: setting up pilot point parameters took: 0:00:00.690604\n",
      "2021-08-05 17:17:34.042449 starting: calculating factors for pargp=kp_q_inst:0\n",
      "2021-08-05 17:17:34.043522 saving krige variance file:template\\kp_q_inst0pp.var.dat\n",
      "2021-08-05 17:17:34.044698 saving krige factors file:template\\kp_q_inst0pp.fac\n",
      "starting interp point loop for 33306 points\n",
      "starting 0\n",
      "starting 1\n",
      "starting 2\n",
      "starting 3\n",
      "starting 4\n",
      "starting 5\n",
      "starting 6\n",
      "starting 7\n",
      "starting 8\n",
      "starting 9\n"
     ]
    },
    {
     "name": "stderr",
     "output_type": "stream",
     "text": [
      "c:\\users\\ludovic\\anaconda3\\envs\\hydro\\lib\\site-packages\\numpy\\core\\_asarray.py:83: VisibleDeprecationWarning: Creating an ndarray from ragged nested sequences (which is a list-or-tuple of lists-or-tuples-or ndarrays with different lengths or shapes) is deprecated. If you meant to do this, you must specify 'dtype=object' when creating the ndarray\n",
      "  return array(a, dtype, copy=False, order=order)\n"
     ]
    },
    {
     "name": "stdout",
     "output_type": "stream",
     "text": [
      "took 123.545746 seconds\n",
      "2021-08-05 17:19:39.182029 finished: calculating factors for pargp=kp_q_inst:0 took: 0:02:05.139580\n",
      "2021-08-05 17:19:39.183031 starting: writing array-based template file 'kp_q_inst0pp.dat.tpl'\n",
      "2021-08-05 17:19:39.212638 finished: adding pilotpoint type multiplier style parameters for file(s) ['kq.txt'] took: 0:02:06.124430\n"
     ]
    }
   ],
   "source": [
    "## pp quat\n",
    "zq = m.dis.idomain.array[1] # zone array for pp\n",
    "zq[:,140:]=0\n",
    "zq[zq<0]=0\n",
    "#plt.imshow(zq)\n",
    "pf.add_parameters(filenames=\"kq.txt\",par_type=\"pilotpoint\",pp_space=8,zone_array=zq,\n",
    "                   par_name_base=\"kp_q\",pargp=\"pp_q\",\n",
    "                   upper_bound=3,lower_bound=0.005,ult_ubound=6e-3,ult_lbound=1e-5,geostruct=grid_q1)"
   ]
  },
  {
   "cell_type": "code",
   "execution_count": null,
   "metadata": {},
   "outputs": [],
   "source": []
  },
  {
   "cell_type": "code",
   "execution_count": 32,
   "metadata": {},
   "outputs": [
    {
     "name": "stdout",
     "output_type": "stream",
     "text": [
      "2021-08-05 17:19:39.272043 starting: adding pilotpoint type multiplier style parameters for file(s) ['kpc.txt']\n",
      "2021-08-05 17:19:39.273042 starting: loading array template\\kpc.txt\n",
      "2021-08-05 17:19:39.425683 finished: loading array template\\kpc.txt took: 0:00:00.152641\n",
      "2021-08-05 17:19:39.427598 loaded array 'kpc.txt' of shape (182, 183)\n",
      "2021-08-05 17:19:39.534408 starting: writing array-based template file 'kp_pc_inst0_pilotpoint.csv.tpl'\n",
      "2021-08-05 17:19:39.536402 starting: setting up pilot point parameters\n",
      "2021-08-05 17:19:39.536402 No spatial reference (containing cell spacing) passed.\n",
      "2021-08-05 17:19:39.537413 OK - using spatial reference in parent object.\n",
      "2021-08-05 17:19:40.515015 162 pilot point parameters created\n",
      "2021-08-05 17:19:40.516012 pilot point 'pargp':kp_pc_inst:0\n",
      "2021-08-05 17:19:40.517003 finished: setting up pilot point parameters took: 0:00:00.980601\n",
      "2021-08-05 17:19:40.622482 starting: calculating factors for pargp=kp_pc_inst:0\n",
      "2021-08-05 17:19:40.623547 saving krige variance file:template\\kp_pc_inst0pp.var.dat\n",
      "2021-08-05 17:19:40.623547 saving krige factors file:template\\kp_pc_inst0pp.fac\n",
      "starting interp point loop for 33306 points\n",
      "starting 0\n",
      "starting 1\n",
      "starting 2\n",
      "starting 3\n",
      "starting 4\n",
      "starting 5\n",
      "starting 6\n",
      "starting 7\n",
      "starting 8\n",
      "starting 9\n"
     ]
    },
    {
     "name": "stderr",
     "output_type": "stream",
     "text": [
      "c:\\users\\ludovic\\anaconda3\\envs\\hydro\\lib\\site-packages\\numpy\\core\\_asarray.py:83: VisibleDeprecationWarning: Creating an ndarray from ragged nested sequences (which is a list-or-tuple of lists-or-tuples-or ndarrays with different lengths or shapes) is deprecated. If you meant to do this, you must specify 'dtype=object' when creating the ndarray\n",
      "  return array(a, dtype, copy=False, order=order)\n"
     ]
    },
    {
     "name": "stdout",
     "output_type": "stream",
     "text": [
      "took 127.614271 seconds\n",
      "2021-08-05 17:21:50.744098 finished: calculating factors for pargp=kp_pc_inst:0 took: 0:02:10.121616\n",
      "2021-08-05 17:21:50.746090 starting: writing array-based template file 'kp_pc_inst0pp.dat.tpl'\n",
      "2021-08-05 17:21:50.781122 finished: adding pilotpoint type multiplier style parameters for file(s) ['kpc.txt'] took: 0:02:11.509079\n"
     ]
    }
   ],
   "source": [
    "## pp pc\n",
    "zpc = m.dis.idomain.array[3] # zone array for pp\n",
    "zpc[:,140:]=0\n",
    "zpc[zpc<0]=0\n",
    "#plt.imshow(zpc)\n",
    "\n",
    "pf.add_parameters(filenames=\"kpc.txt\",par_type=\"pilotpoint\",pp_space=8,zone_array=zpc,\n",
    "                   par_name_base=\"kp_pc\",pargp=\"pp_pc\",\n",
    "                   upper_bound=50,lower_bound=0.05,ult_ubound=5e-4,ult_lbound=5e-7,geostruct=grid_pc1)"
   ]
  },
  {
   "cell_type": "code",
   "execution_count": 33,
   "metadata": {},
   "outputs": [
    {
     "name": "stdout",
     "output_type": "stream",
     "text": [
      "2021-08-05 17:21:51.019867 starting: adding zone type multiplier style parameters for file(s) ['irr.txt']\n",
      "2021-08-05 17:21:51.021069 starting: loading array template\\irr.txt\n",
      "2021-08-05 17:21:51.136819 finished: loading array template\\irr.txt took: 0:00:00.115750\n",
      "2021-08-05 17:21:51.137317 loaded array 'irr.txt' of shape (182, 183)\n",
      "2021-08-05 17:21:51.220646 starting: writing array-based template file 'irr_inst0_zone.csv.tpl'\n",
      "2021-08-05 17:21:51.222482 starting: writing template file irr_inst0_zone.csv.tpl for ['irr_inst:0']\n",
      "2021-08-05 17:21:51.488608 finished: writing template file irr_inst0_zone.csv.tpl for ['irr_inst:0'] took: 0:00:00.266126\n",
      "2021-08-05 17:21:51.489592 finished: writing array-based template file 'irr_inst0_zone.csv.tpl' took: 0:00:00.268946\n",
      "2021-08-05 17:21:51.525090 finished: adding zone type multiplier style parameters for file(s) ['irr.txt'] took: 0:00:00.505223\n"
     ]
    },
    {
     "data": {
      "image/png": "[encoded data removed]",
      "text/plain": [
       "<Figure size 432x288 with 1 Axes>"
      ]
     },
     "metadata": {
      "needs_background": "light"
     },
     "output_type": "display_data"
    }
   ],
   "source": [
    "#irri\n",
    "zi = np.loadtxt(os.path.join(ws,\"zone_irr.txt\"))\n",
    "plt.imshow(zi)\n",
    "pf.add_parameters(filenames=\"irr.txt\",par_type=\"zone\",zone_array=zi,\n",
    "                   par_name_base=\"irr\",pargp=\"irr\",\n",
    "                   upper_bound=2,lower_bound=0.8)"
   ]
  },
  {
   "cell_type": "code",
   "execution_count": 34,
   "metadata": {
    "scrolled": true
   },
   "outputs": [
    {
     "name": "stdout",
     "output_type": "stream",
     "text": [
      "2021-08-05 17:21:51.788747 starting: adding constant type multiplier style parameters for file(s) ['kep.txt']\n",
      "2021-08-05 17:21:51.789043 starting: loading array template\\kep.txt\n",
      "2021-08-05 17:21:51.884953 finished: loading array template\\kep.txt took: 0:00:00.095910\n",
      "2021-08-05 17:21:51.885967 loaded array 'kep.txt' of shape (182, 183)\n",
      "2021-08-05 17:21:51.971762 starting: writing array-based template file 'ep_inst0_constant.csv.tpl'\n",
      "2021-08-05 17:21:51.972780 starting: writing template file ep_inst0_constant.csv.tpl for ['ep_inst:0']\n",
      "2021-08-05 17:21:52.376012 finished: writing template file ep_inst0_constant.csv.tpl for ['ep_inst:0'] took: 0:00:00.403232\n",
      "2021-08-05 17:21:52.376976 finished: writing array-based template file 'ep_inst0_constant.csv.tpl' took: 0:00:00.405214\n",
      "2021-08-05 17:21:52.481051 finished: adding constant type multiplier style parameters for file(s) ['kep.txt'] took: 0:00:00.692304\n",
      "2021-08-05 17:21:52.482976 starting: adding constant type multiplier style parameters for file(s) ['kpms.txt']\n",
      "2021-08-05 17:21:52.483971 starting: loading array template\\kpms.txt\n",
      "2021-08-05 17:21:52.587893 finished: loading array template\\kpms.txt took: 0:00:00.103922\n",
      "2021-08-05 17:21:52.588891 loaded array 'kpms.txt' of shape (182, 183)\n",
      "2021-08-05 17:21:52.666801 starting: writing array-based template file 'pms_inst0_constant.csv.tpl'\n",
      "2021-08-05 17:21:52.667795 starting: writing template file pms_inst0_constant.csv.tpl for ['pms_inst:0']\n",
      "2021-08-05 17:21:53.093889 finished: writing template file pms_inst0_constant.csv.tpl for ['pms_inst:0'] took: 0:00:00.426094\n",
      "2021-08-05 17:21:53.094928 finished: writing array-based template file 'pms_inst0_constant.csv.tpl' took: 0:00:00.428127\n",
      "2021-08-05 17:21:53.197566 finished: adding constant type multiplier style parameters for file(s) ['kpms.txt'] took: 0:00:00.714590\n",
      "2021-08-05 17:21:53.198526 starting: adding constant type multiplier style parameters for file(s) ['kqm.txt']\n",
      "2021-08-05 17:21:53.199522 starting: loading array template\\kqm.txt\n",
      "2021-08-05 17:21:53.299085 finished: loading array template\\kqm.txt took: 0:00:00.099563\n",
      "2021-08-05 17:21:53.300038 loaded array 'kqm.txt' of shape (182, 183)\n",
      "2021-08-05 17:21:53.380513 starting: writing array-based template file 'qm_inst0_constant.csv.tpl'\n",
      "2021-08-05 17:21:53.381515 starting: writing template file qm_inst0_constant.csv.tpl for ['qm_inst:0']\n",
      "2021-08-05 17:21:53.812177 finished: writing template file qm_inst0_constant.csv.tpl for ['qm_inst:0'] took: 0:00:00.430662\n",
      "2021-08-05 17:21:53.813204 finished: writing array-based template file 'qm_inst0_constant.csv.tpl' took: 0:00:00.432691\n",
      "2021-08-05 17:21:53.926113 finished: adding constant type multiplier style parameters for file(s) ['kqm.txt'] took: 0:00:00.727587\n"
     ]
    }
   ],
   "source": [
    "# kpms and kep\n",
    "pf.add_parameters(filenames=\"kep.txt\",par_type=\"constant\",\n",
    "                    par_name_base=\"ep\",pargp=\"ep\",\n",
    "                    upper_bound=30,lower_bound=0.1)\n",
    "pf.add_parameters(filenames=\"kpms.txt\",par_type=\"constant\",\n",
    "                 par_name_base=\"pms\",pargp=\"pms\",upper_bound=30,lower_bound=0.05)\n",
    "\n",
    "pf.add_parameters(filenames=\"kqm.txt\",par_type=\"constant\",\n",
    "                 par_name_base=\"qm\",pargp=\"qm\",upper_bound=10,lower_bound=0.01)"
   ]
  },
  {
   "cell_type": "markdown",
   "metadata": {},
   "source": [
    "### rivers"
   ]
  },
  {
   "cell_type": "code",
   "execution_count": 35,
   "metadata": {},
   "outputs": [],
   "source": [
    "rivers = [riv for riv in os.listdir(template_ws) if riv.endswith(\"riv\")]"
   ]
  },
  {
   "cell_type": "code",
   "execution_count": 36,
   "metadata": {},
   "outputs": [],
   "source": [
    "def riv_tpl(rivers,tmp_ws):\n",
    "    for riv in rivers:\n",
    "        riv_file = os.path.join(tmp_ws,riv)\n",
    "        tpl_file = riv_file+\".tpl\"\n",
    "        copyfile(riv_file, tpl_file)\n",
    "        \n",
    "        with fileinput.FileInput(tpl_file, inplace=True) as file:\n",
    "            for line in file:\n",
    "                print(line.replace(\"    0.00500000   \", \"~    c_{}     ~\".format(riv.split(\".\")[0])), end='')\n",
    "        with open(tpl_file, 'r+') as f:\n",
    "            content = f.read()\n",
    "            line = \"ptf ~\"\n",
    "            f.seek(0, 0)\n",
    "            f.write(line.rstrip('\\r\\n') + \"\\n\" + content)\n",
    "        \n",
    "        #add parameter to control file\n",
    "        dic = {\"parnme\":\"c_{}\".format(riv.split(\".\")[0]),\n",
    "              \"parval1\": 0.005,\n",
    "               \"pargp\": \"cond\",\n",
    "               \"tpl_filename\": tpl_file,\n",
    "               'input_filename':riv_file,\n",
    "               \"partype\" : \"constant\",\n",
    "               \"partrans\" : \"log\",\n",
    "               \"parubnd\" : 0.1,\n",
    "               \"parlbnd\" : 0.0001,\n",
    "               \"parchglim\" : \"factor\",\n",
    "               \"scale\" : 1.0,\n",
    "               \"dercom\" : 1,\n",
    "               \"offset\" : 0.0} \n",
    "        a = pd.DataFrame(dic,index=[\"c_{}\".format(riv.split(\".\")[0])])\n",
    "        pf.par_dfs[0] = pf.par_dfs[0].append(a,sort=False)\n",
    "        \n",
    "        pf.tpl_filenames.append(riv+\".tpl\")\n",
    "        pf.input_filenames.append(riv)"
   ]
  },
  {
   "cell_type": "code",
   "execution_count": 37,
   "metadata": {},
   "outputs": [],
   "source": [
    "riv_tpl(rivers,template_ws)"
   ]
  },
  {
   "cell_type": "code",
   "execution_count": 38,
   "metadata": {},
   "outputs": [
    {
     "name": "stdout",
     "output_type": "stream",
     "text": [
      "noptmax:30, npar_adj:303, nnz_obs:522\n"
     ]
    },
    {
     "data": {
      "text/plain": [
       "<pyemu.pst.pst_handler.Pst at 0x23c28d55630>"
      ]
     },
     "execution_count": 38,
     "metadata": {},
     "output_type": "execute_result"
    }
   ],
   "source": [
    "pf.build_pst(\"{}.pst\".format(case))"
   ]
  },
  {
   "cell_type": "code",
   "execution_count": 39,
   "metadata": {},
   "outputs": [
    {
     "name": "stdout",
     "output_type": "stream",
     "text": [
      "noptmax:30, npar_adj:303, nnz_obs:522\n",
      "2021-08-05 17:21:55.402488 forward_run line:pyemu.os_utils.run(r'..\\..\\..\\exe\\mf6')\n",
      "\n"
     ]
    }
   ],
   "source": [
    "# add run model command\n",
    "pf.mod_sys_cmds.append(\"..\\..\\..\\exe\\mf6\")\n",
    "pst = pf.build_pst(\"{}.pst\".format(case))"
   ]
  },
  {
   "cell_type": "code",
   "execution_count": 40,
   "metadata": {},
   "outputs": [
    {
     "name": "stdout",
     "output_type": "stream",
     "text": [
      "2021-08-05 17:23:43.184150 starting: building prior covariance matrix\n",
      "2021-08-05 17:23:43.352818 saving prior covariance matrix to file template\\3D_test.prior.cov\n"
     ]
    },
    {
     "name": "stderr",
     "output_type": "stream",
     "text": [
      "c:\\users\\ludovic\\anaconda3\\envs\\hydro\\lib\\site-packages\\pyemu\\utils\\helpers.py:275: UserWarning: geostatistical_prior_builder() warning: geostruct sill != 1.0, user beware!\n",
      "  \"geostatistical_prior_builder() warning: geostruct sill != 1.0, user beware!\"\n"
     ]
    },
    {
     "name": "stdout",
     "output_type": "stream",
     "text": [
      "2021-08-05 17:23:43.481817 finished: building prior covariance matrix took: 0:00:00.297667\n"
     ]
    },
    {
     "data": {
      "text/plain": [
       "<matplotlib.colorbar.Colorbar at 0x23c2a241ac8>"
      ]
     },
     "execution_count": 40,
     "metadata": {},
     "output_type": "execute_result"
    },
    {
     "data": {
      "image/png": "[encoded data removed]",
      "text/plain": [
       "<Figure size 504x504 with 2 Axes>"
      ]
     },
     "metadata": {
      "needs_background": "light"
     },
     "output_type": "display_data"
    }
   ],
   "source": [
    "cov = pf.build_prior()\n",
    "x = cov.x.copy()\n",
    "x[x==0.0] = np.NaN\n",
    "fig,ax = plt.subplots(1,1,figsize=(7,7))\n",
    "g = ax.imshow(x)\n",
    "plt.colorbar(g)"
   ]
  },
  {
   "cell_type": "markdown",
   "metadata": {},
   "source": [
    "### Tikhonov"
   ]
  },
  {
   "cell_type": "code",
   "execution_count": 41,
   "metadata": {},
   "outputs": [
    {
     "data": {
      "text/html": [
       "<div>\n",
       "<style scoped>\n",
       "    .dataframe tbody tr th:only-of-type {\n",
       "        vertical-align: middle;\n",
       "    }\n",
       "\n",
       "    .dataframe tbody tr th {\n",
       "        vertical-align: top;\n",
       "    }\n",
       "\n",
       "    .dataframe thead th {\n",
       "        text-align: right;\n",
       "    }\n",
       "</style>\n",
       "<table border=\"1\" class=\"dataframe\">\n",
       "  <thead>\n",
       "    <tr style=\"text-align: right;\">\n",
       "      <th></th>\n",
       "      <th>pilbl</th>\n",
       "      <th>equation</th>\n",
       "      <th>obgnme</th>\n",
       "      <th>weight</th>\n",
       "    </tr>\n",
       "    <tr>\n",
       "      <th>pilbl</th>\n",
       "      <th></th>\n",
       "      <th></th>\n",
       "      <th></th>\n",
       "      <th></th>\n",
       "    </tr>\n",
       "  </thead>\n",
       "  <tbody>\n",
       "    <tr>\n",
       "      <th>kp_q_inst:0_i:28_j:124</th>\n",
       "      <td>kp_q_inst:0_i:28_j:124</td>\n",
       "      <td>1.0 * log(kp_q_inst:0_i:28_j:124) =   0.000000E+00</td>\n",
       "      <td>regulkp_q_in</td>\n",
       "      <td>0.359952</td>\n",
       "    </tr>\n",
       "    <tr>\n",
       "      <th>kp_q_inst:0_i:28_j:132</th>\n",
       "      <td>kp_q_inst:0_i:28_j:132</td>\n",
       "      <td>1.0 * log(kp_q_inst:0_i:28_j:132) =   0.000000E+00</td>\n",
       "      <td>regulkp_q_in</td>\n",
       "      <td>0.359952</td>\n",
       "    </tr>\n",
       "    <tr>\n",
       "      <th>kp_q_inst:0_i:36_j:116</th>\n",
       "      <td>kp_q_inst:0_i:36_j:116</td>\n",
       "      <td>1.0 * log(kp_q_inst:0_i:36_j:116) =   0.000000E+00</td>\n",
       "      <td>regulkp_q_in</td>\n",
       "      <td>0.359952</td>\n",
       "    </tr>\n",
       "    <tr>\n",
       "      <th>kp_q_inst:0_i:36_j:124</th>\n",
       "      <td>kp_q_inst:0_i:36_j:124</td>\n",
       "      <td>1.0 * log(kp_q_inst:0_i:36_j:124) =   0.000000E+00</td>\n",
       "      <td>regulkp_q_in</td>\n",
       "      <td>0.359952</td>\n",
       "    </tr>\n",
       "    <tr>\n",
       "      <th>kp_q_inst:0_i:36_j:132</th>\n",
       "      <td>kp_q_inst:0_i:36_j:132</td>\n",
       "      <td>1.0 * log(kp_q_inst:0_i:36_j:132) =   0.000000E+00</td>\n",
       "      <td>regulkp_q_in</td>\n",
       "      <td>0.359952</td>\n",
       "    </tr>\n",
       "    <tr>\n",
       "      <th>...</th>\n",
       "      <td>...</td>\n",
       "      <td>...</td>\n",
       "      <td>...</td>\n",
       "      <td>...</td>\n",
       "    </tr>\n",
       "    <tr>\n",
       "      <th>multiplier_irr_inst:0_zone:11.0</th>\n",
       "      <td>multiplier_irr_inst:0_zone:11.0</td>\n",
       "      <td>1.0 * log(multiplier_irr_inst:0_zone:11.0) =   0.000000E+00</td>\n",
       "      <td>regulirr__mu</td>\n",
       "      <td>2.512942</td>\n",
       "    </tr>\n",
       "    <tr>\n",
       "      <th>multiplier_irr_inst:0_zone:6.0</th>\n",
       "      <td>multiplier_irr_inst:0_zone:6.0</td>\n",
       "      <td>1.0 * log(multiplier_irr_inst:0_zone:6.0) =   0.000000E+00</td>\n",
       "      <td>regulirr__mu</td>\n",
       "      <td>2.512942</td>\n",
       "    </tr>\n",
       "    <tr>\n",
       "      <th>multiplier_const_ep_inst:0</th>\n",
       "      <td>multiplier_const_ep_inst:0</td>\n",
       "      <td>1.0 * log(multiplier_const_ep_inst:0) =   0.000000E+00</td>\n",
       "      <td>regulep__mul</td>\n",
       "      <td>0.403694</td>\n",
       "    </tr>\n",
       "    <tr>\n",
       "      <th>multiplier_const_pms_inst:0</th>\n",
       "      <td>multiplier_const_pms_inst:0</td>\n",
       "      <td>1.0 * log(multiplier_const_pms_inst:0) =   0.000000E+00</td>\n",
       "      <td>regulpms__mu</td>\n",
       "      <td>0.359952</td>\n",
       "    </tr>\n",
       "    <tr>\n",
       "      <th>multiplier_const_qm_inst:0</th>\n",
       "      <td>multiplier_const_qm_inst:0</td>\n",
       "      <td>1.0 * log(multiplier_const_qm_inst:0) =   0.000000E+00</td>\n",
       "      <td>regulqm__mul</td>\n",
       "      <td>0.333333</td>\n",
       "    </tr>\n",
       "  </tbody>\n",
       "</table>\n",
       "<p>303 rows × 4 columns</p>\n",
       "</div>"
      ],
      "text/plain": [
       "                                                           pilbl  \\\n",
       "pilbl                                                              \n",
       "kp_q_inst:0_i:28_j:124                    kp_q_inst:0_i:28_j:124   \n",
       "kp_q_inst:0_i:28_j:132                    kp_q_inst:0_i:28_j:132   \n",
       "kp_q_inst:0_i:36_j:116                    kp_q_inst:0_i:36_j:116   \n",
       "kp_q_inst:0_i:36_j:124                    kp_q_inst:0_i:36_j:124   \n",
       "kp_q_inst:0_i:36_j:132                    kp_q_inst:0_i:36_j:132   \n",
       "...                                                          ...   \n",
       "multiplier_irr_inst:0_zone:11.0  multiplier_irr_inst:0_zone:11.0   \n",
       "multiplier_irr_inst:0_zone:6.0    multiplier_irr_inst:0_zone:6.0   \n",
       "multiplier_const_ep_inst:0            multiplier_const_ep_inst:0   \n",
       "multiplier_const_pms_inst:0          multiplier_const_pms_inst:0   \n",
       "multiplier_const_qm_inst:0            multiplier_const_qm_inst:0   \n",
       "\n",
       "                                                                                    equation  \\\n",
       "pilbl                                                                                          \n",
       "kp_q_inst:0_i:28_j:124                    1.0 * log(kp_q_inst:0_i:28_j:124) =   0.000000E+00   \n",
       "kp_q_inst:0_i:28_j:132                    1.0 * log(kp_q_inst:0_i:28_j:132) =   0.000000E+00   \n",
       "kp_q_inst:0_i:36_j:116                    1.0 * log(kp_q_inst:0_i:36_j:116) =   0.000000E+00   \n",
       "kp_q_inst:0_i:36_j:124                    1.0 * log(kp_q_inst:0_i:36_j:124) =   0.000000E+00   \n",
       "kp_q_inst:0_i:36_j:132                    1.0 * log(kp_q_inst:0_i:36_j:132) =   0.000000E+00   \n",
       "...                                                                                      ...   \n",
       "multiplier_irr_inst:0_zone:11.0  1.0 * log(multiplier_irr_inst:0_zone:11.0) =   0.000000E+00   \n",
       "multiplier_irr_inst:0_zone:6.0    1.0 * log(multiplier_irr_inst:0_zone:6.0) =   0.000000E+00   \n",
       "multiplier_const_ep_inst:0            1.0 * log(multiplier_const_ep_inst:0) =   0.000000E+00   \n",
       "multiplier_const_pms_inst:0          1.0 * log(multiplier_const_pms_inst:0) =   0.000000E+00   \n",
       "multiplier_const_qm_inst:0            1.0 * log(multiplier_const_qm_inst:0) =   0.000000E+00   \n",
       "\n",
       "                                       obgnme    weight  \n",
       "pilbl                                                    \n",
       "kp_q_inst:0_i:28_j:124           regulkp_q_in  0.359952  \n",
       "kp_q_inst:0_i:28_j:132           regulkp_q_in  0.359952  \n",
       "kp_q_inst:0_i:36_j:116           regulkp_q_in  0.359952  \n",
       "kp_q_inst:0_i:36_j:124           regulkp_q_in  0.359952  \n",
       "kp_q_inst:0_i:36_j:132           regulkp_q_in  0.359952  \n",
       "...                                       ...       ...  \n",
       "multiplier_irr_inst:0_zone:11.0  regulirr__mu  2.512942  \n",
       "multiplier_irr_inst:0_zone:6.0   regulirr__mu  2.512942  \n",
       "multiplier_const_ep_inst:0       regulep__mul  0.403694  \n",
       "multiplier_const_pms_inst:0      regulpms__mu  0.359952  \n",
       "multiplier_const_qm_inst:0       regulqm__mul  0.333333  \n",
       "\n",
       "[303 rows x 4 columns]"
      ]
     },
     "execution_count": 41,
     "metadata": {},
     "output_type": "execute_result"
    }
   ],
   "source": [
    "# I  will add a zero order thikonov (preferred value) and initial values needs to be appropriate\n",
    "# I extract reference k from the 2D model already manually calibrated with minimize and calculate the ratio with the inversion k (setup in the setup_flopy notebook)\n",
    "# Each pp will have an initial value\n",
    "\n",
    "### quat\n",
    "ref_k = np.loadtxt(\"../../Modeles3D/test_3D/working/kq.txt\")\n",
    "inv_k = np.loadtxt(\"workspace/kq.txt\")\n",
    "\n",
    "mask = (pst.parameter_data[pst.parameter_data[\"pargp\"]==\"kp_q_inst:0\"].i.values.astype(int),\n",
    "  pst.parameter_data[pst.parameter_data[\"pargp\"]==\"kp_q_inst:0\"].j.values.astype(int))\n",
    "parval = (ref_k/inv_k)[mask] \n",
    "\n",
    "pst.parameter_data.loc[pst.parameter_data[\"pargp\"]==\"kp_q_inst:0\",\"parval1\"] = parval\n",
    "\n",
    "### plio\n",
    "ref_k = np.loadtxt(\"../../Modeles3D/test_3D/working/kpc.txt\")\n",
    "inv_k = np.loadtxt(\"workspace/kpc.txt\")\n",
    "\n",
    "mask = (pst.parameter_data[pst.parameter_data[\"pargp\"]==\"kp_pc_inst:0\"].i.values.astype(int),\n",
    "  pst.parameter_data[pst.parameter_data[\"pargp\"]==\"kp_pc_inst:0\"].j.values.astype(int))\n",
    "parval = (ref_k/inv_k)[mask] \n",
    "\n",
    "pst.parameter_data.loc[pst.parameter_data[\"pargp\"]==\"kp_pc_inst:0\",\"parval1\"] = parval\n",
    "\n",
    "#setup zero order tikho (preferred value regularization)\n",
    "pyemu.helpers.zero_order_tikhonov(pst)\n",
    "\n",
    "pst.prior_information.loc[:,\"weight\"] *= 10"
   ]
  },
  {
   "cell_type": "code",
   "execution_count": 53,
   "metadata": {},
   "outputs": [],
   "source": [
    "mask = pst.observation_data[\"obgnme\"] == \"Pmap\"\n",
    "pst.observation_data.loc[mask,\"weight\"] /=2\n",
    "\n",
    "mask = pst.observation_data[\"obgnme\"] == \"Qmap\"\n",
    "pst.observation_data.loc[mask,\"weight\"] /=2"
   ]
  },
  {
   "cell_type": "code",
   "execution_count": 55,
   "metadata": {},
   "outputs": [
    {
     "name": "stdout",
     "output_type": "stream",
     "text": [
      "noptmax:0, npar_adj:303, nnz_obs:522\n"
     ]
    },
    {
     "name": "stderr",
     "output_type": "stream",
     "text": [
      "c:\\users\\ludovic\\anaconda3\\envs\\hydro\\lib\\site-packages\\pandas\\core\\indexing.py:1596: SettingWithCopyWarning: \n",
      "A value is trying to be set on a copy of a slice from a DataFrame.\n",
      "Try using .loc[row_indexer,col_indexer] = value instead\n",
      "\n",
      "See the caveats in the documentation: https://pandas.pydata.org/pandas-docs/stable/user_guide/indexing.html#returning-a-view-versus-a-copy\n",
      "  self.obj[key] = _infer_fill_value(value)\n",
      "c:\\users\\ludovic\\anaconda3\\envs\\hydro\\lib\\site-packages\\pandas\\core\\indexing.py:1743: SettingWithCopyWarning: \n",
      "A value is trying to be set on a copy of a slice from a DataFrame.\n",
      "Try using .loc[row_indexer,col_indexer] = value instead\n",
      "\n",
      "See the caveats in the documentation: https://pandas.pydata.org/pandas-docs/stable/user_guide/indexing.html#returning-a-view-versus-a-copy\n",
      "  isetter(ilocs[0], value)\n"
     ]
    }
   ],
   "source": [
    "pst.control_data.noptmax = 0 # FOR JACOBIAN\n",
    "pst.write(os.path.join(template_ws,\"{}.pst\".format(case)))"
   ]
  },
  {
   "cell_type": "code",
   "execution_count": 60,
   "metadata": {},
   "outputs": [
    {
     "ename": "AssertionError",
     "evalue": "phimlim not found in attributes",
     "output_type": "error",
     "traceback": [
      "\u001b[1;31m---------------------------------------------------------------------------\u001b[0m",
      "\u001b[1;31mAssertionError\u001b[0m                            Traceback (most recent call last)",
      "\u001b[1;32m<ipython-input-60-1602c0e539bd>\u001b[0m in \u001b[0;36m<module>\u001b[1;34m\u001b[0m\n\u001b[1;32m----> 1\u001b[1;33m \u001b[0mpst\u001b[0m\u001b[1;33m.\u001b[0m\u001b[0mcontrol_data\u001b[0m\u001b[1;33m.\u001b[0m\u001b[0mphimlim\u001b[0m\u001b[1;33m\u001b[0m\u001b[1;33m\u001b[0m\u001b[0m\n\u001b[0m",
      "\u001b[1;32mc:\\users\\ludovic\\anaconda3\\envs\\hydro\\lib\\site-packages\\pyemu\\pst\\pst_controldata.py\u001b[0m in \u001b[0;36m__getattr__\u001b[1;34m(self, item)\u001b[0m\n\u001b[0;32m    255\u001b[0m         \u001b[1;32mif\u001b[0m \u001b[0mitem\u001b[0m \u001b[1;33m==\u001b[0m \u001b[1;34m\"_df\"\u001b[0m\u001b[1;33m:\u001b[0m\u001b[1;33m\u001b[0m\u001b[1;33m\u001b[0m\u001b[0m\n\u001b[0;32m    256\u001b[0m             \u001b[1;32mreturn\u001b[0m \u001b[0mself\u001b[0m\u001b[1;33m.\u001b[0m\u001b[0m_df\u001b[0m\u001b[1;33m.\u001b[0m\u001b[0mcopy\u001b[0m\u001b[1;33m(\u001b[0m\u001b[1;33m)\u001b[0m\u001b[1;33m\u001b[0m\u001b[1;33m\u001b[0m\u001b[0m\n\u001b[1;32m--> 257\u001b[1;33m         \u001b[1;32massert\u001b[0m \u001b[0mitem\u001b[0m \u001b[1;32min\u001b[0m \u001b[0mself\u001b[0m\u001b[1;33m.\u001b[0m\u001b[0m_df\u001b[0m\u001b[1;33m.\u001b[0m\u001b[0mindex\u001b[0m\u001b[1;33m,\u001b[0m \u001b[0mstr\u001b[0m\u001b[1;33m(\u001b[0m\u001b[0mitem\u001b[0m\u001b[1;33m)\u001b[0m \u001b[1;33m+\u001b[0m \u001b[1;34m\" not found in attributes\"\u001b[0m\u001b[1;33m\u001b[0m\u001b[1;33m\u001b[0m\u001b[0m\n\u001b[0m\u001b[0;32m    258\u001b[0m         \u001b[1;32mreturn\u001b[0m \u001b[0mself\u001b[0m\u001b[1;33m.\u001b[0m\u001b[0m_df\u001b[0m\u001b[1;33m.\u001b[0m\u001b[0mloc\u001b[0m\u001b[1;33m[\u001b[0m\u001b[0mitem\u001b[0m\u001b[1;33m,\u001b[0m \u001b[1;34m\"value\"\u001b[0m\u001b[1;33m]\u001b[0m\u001b[1;33m\u001b[0m\u001b[1;33m\u001b[0m\u001b[0m\n\u001b[0;32m    259\u001b[0m \u001b[1;33m\u001b[0m\u001b[0m\n",
      "\u001b[1;31mAssertionError\u001b[0m: phimlim not found in attributes"
     ]
    }
   ],
   "source": []
  },
  {
   "cell_type": "code",
   "execution_count": 56,
   "metadata": {},
   "outputs": [],
   "source": [
    "pyemu.os_utils.run(\"..\\..\\pestpp-glm.exe {}\".format(case),cwd=\"template\")"
   ]
  },
  {
   "cell_type": "code",
   "execution_count": 27,
   "metadata": {},
   "outputs": [],
   "source": [
    "m_d = \"master_glm\"\n",
    "\n",
    "pyemu.os_utils.start_workers(template_ws,\"../../pestpp-glm.exe\",\"{}.pst\".format(case),num_workers=10,worker_root=\".\",master_dir=m_d)"
   ]
  },
  {
   "cell_type": "code",
   "execution_count": 28,
   "metadata": {},
   "outputs": [
    {
     "name": "stdout",
     "output_type": "stream",
     "text": [
      "noptmax:8, npar_adj:275, nnz_obs:522\n"
     ]
    }
   ],
   "source": [
    "t_d =\"master_glm\"\n",
    "case = \"3D_test\"\n",
    "pst = pyemu.Pst(os.path.join(t_d,\"{}.pst\".format(case)))\n",
    "pst.write_par_summary_table(filename=\"none\")\n",
    "\n",
    "#pst.svd_data.eigthresh = 5e-7\n",
    "pst.control_data.noptmax = 8 # number of iterations (should be set to a great value (50))\n",
    "pst.control_data.nphistp = 8\n",
    "pst.pestpp_options[\"n_iter_base\"] = -1\n",
    "pst.pestpp_options[\"n_iter_super\"] = 3\n",
    "pst.pestpp_options[\"glm_num_reals\"] = 100 # how many draws\n",
    "pst.pestpp_options[\"parcov\"] = \"{}.prior.cov\".format(case)\n",
    "pst.pestpp_options[\"base_jacobian\"] = \"{}.jcb\".format(case)\n",
    "pst.write(os.path.join(t_d,\"{}.pst\".format(case)))\n",
    "\n",
    "# DO the inversion\n",
    "m_d = \"master_glm_run\"\n",
    "pyemu.os_utils.start_workers(t_d,\"../../pestpp-glm.exe\",\"{}.pst\".format(case),num_workers=10,worker_root=\".\",\n",
    "                             master_dir=m_d)"
   ]
  },
  {
   "cell_type": "code",
   "execution_count": null,
   "metadata": {},
   "outputs": [],
   "source": []
  },
  {
   "cell_type": "code",
   "execution_count": null,
   "metadata": {},
   "outputs": [],
   "source": []
  }
 ],
 "metadata": {
  "kernelspec": {
   "display_name": "Python 3",
   "language": "python",
   "name": "python3"
  },
  "language_info": {
   "codemirror_mode": {
    "name": "ipython",
    "version": 3
   },
   "file_extension": ".py",
   "mimetype": "text/x-python",
   "name": "python",
   "nbconvert_exporter": "python",
   "pygments_lexer": "ipython3",
   "version": "3.6.13"
  }
 },
 "nbformat": 4,
 "nbformat_minor": 2
}
