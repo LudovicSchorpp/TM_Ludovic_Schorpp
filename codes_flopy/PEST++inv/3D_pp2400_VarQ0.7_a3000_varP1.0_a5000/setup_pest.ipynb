{
 "cells": [
  {
   "cell_type": "code",
   "execution_count": 1,
   "metadata": {},
   "outputs": [
    {
     "name": "stdout",
     "output_type": "stream",
     "text": [
      "flopy is installed in C:\\Users\\emmal\\Anaconda3\\envs\\LS\\lib\\site-packages\\flopy\n"
     ]
    }
   ],
   "source": [
    "import pyemu\n",
    "import numpy as np\n",
    "import matplotlib.pyplot as plt\n",
    "import pandas as pd\n",
    "import flopy as fp\n",
    "from flopy.utils.reference import SpatialReference\n",
    "import os\n",
    "import sys\n",
    "from shutil import copyfile\n",
    "import fileinput\n",
    "\n",
    "sys.path.append(\"../../modules\")\n",
    "# hand made functions\n",
    "from Rouss import *"
   ]
  },
  {
   "cell_type": "code",
   "execution_count": 2,
   "metadata": {},
   "outputs": [],
   "source": [
    "ws = \"workspace\"\n",
    "m_n_i = \"pest_3d_r\"\n",
    "m_n = \"pest_3D_R\"\n",
    "\n",
    "case = \"3D_test\""
   ]
  },
  {
   "cell_type": "code",
   "execution_count": 3,
   "metadata": {},
   "outputs": [
    {
     "name": "stdout",
     "output_type": "stream",
     "text": [
      "loading simulation...\n",
      "  loading simulation name file...\n",
      "  loading tdis package...\n",
      "  loading model gwf6...\n",
      "    loading package dis...\n",
      "    loading package ic...\n",
      "    loading package oc...\n",
      "    loading package npf...\n",
      "    loading package wel...\n",
      "    loading package rch...\n",
      "    loading package rch...\n",
      "    loading package rch...\n",
      "    loading package wel...\n",
      "    loading package chd...\n",
      "    loading package chd...\n",
      "    loading package drn...\n",
      "    loading package riv...\n",
      "    loading package riv...\n",
      "    loading package riv...\n",
      "    loading package riv...\n",
      "    loading package riv...\n",
      "    loading package riv...\n",
      "    loading package obs...\n",
      "WARNING: Block header for block \"continuous\" is not a unique block header ('pest_3d_r', 'obs', 'continuous')\n",
      "WARNING: Block header for block \"continuous\" is not a unique block header ('pest_3d_r', 'obs', 'continuous')\n",
      "WARNING: Block header for block \"continuous\" is not a unique block header ('pest_3d_r', 'obs', 'continuous')\n",
      "  loading ims package pest_3d_r...\n"
     ]
    }
   ],
   "source": [
    "sim = fp.mf6.MFSimulation.load(sim_ws=ws)\n",
    "m = sim.get_model(m_n_i)"
   ]
  },
  {
   "cell_type": "code",
   "execution_count": 4,
   "metadata": {},
   "outputs": [
    {
     "data": {
      "text/plain": [
       "xul:664525; yul:6207475; rotation:0; proj4_str:None; units:meters; lenuni:2; length_multiplier:1.0"
      ]
     },
     "execution_count": 4,
     "metadata": {},
     "output_type": "execute_result"
    }
   ],
   "source": [
    "sr = SpatialReference(delr=m.dis.delr.array, delc=m.dis.delc.array, xll=m.dis.xorigin.array, yll=m.dis.yorigin.array)\n",
    "sr"
   ]
  },
  {
   "cell_type": "code",
   "execution_count": 5,
   "metadata": {},
   "outputs": [
    {
     "name": "stdout",
     "output_type": "stream",
     "text": [
      "2021-08-05 18:22:53.739225 starting: opening PstFrom.log for logging\n",
      "2021-08-05 18:22:53.739225 starting PstFrom process\n",
      "2021-08-05 18:22:53.740225 starting: setting up dirs\n",
      "2021-08-05 18:22:53.740225 starting: removing existing new_d 'template'\n",
      "2021-08-05 18:22:53.768250 finished: removing existing new_d 'template' took: 0:00:00.028025\n",
      "2021-08-05 18:22:53.768250 starting: copying original_d 'workspace' to new_d 'template'\n",
      "2021-08-05 18:22:53.855330 finished: copying original_d 'workspace' to new_d 'template' took: 0:00:00.087080\n",
      "2021-08-05 18:22:53.856332 finished: setting up dirs took: 0:00:00.116107\n"
     ]
    }
   ],
   "source": [
    "# empty pst object\n",
    "template_ws = \"template\"\n",
    "pf = pyemu.utils.PstFrom(original_d=ws, new_d=template_ws,\n",
    "                 remove_existing=True,\n",
    "                 longnames=True, spatial_reference=sr,\n",
    "                 zero_based=False)"
   ]
  },
  {
   "cell_type": "code",
   "execution_count": 6,
   "metadata": {
    "scrolled": true
   },
   "outputs": [
    {
     "name": "stdout",
     "output_type": "stream",
     "text": [
      "2021-08-05 18:22:53.880352 starting: adding observations from tabular output file\n",
      "2021-08-05 18:22:53.880352 starting: reading list template\\heads_q.csv\n",
      "2021-08-05 18:22:53.884357 finished: reading list template\\heads_q.csv took: 0:00:00.004005\n",
      "2021-08-05 18:22:53.885357 starting: building insfile for tabular output file heads_q.csv\n",
      "2021-08-05 18:22:53.895366 finished: building insfile for tabular output file heads_q.csv took: 0:00:00.010009\n",
      "2021-08-05 18:22:53.896367 starting: adding observation from instruction file 'template\\heads_q.csv.ins'\n",
      "2021-08-05 18:22:53.908378 finished: adding observation from instruction file 'template\\heads_q.csv.ins' took: 0:00:00.012011\n",
      "2021-08-05 18:22:53.909379 finished: adding observations from tabular output file took: 0:00:00.029027\n",
      "2021-08-05 18:22:53.918387 starting: adding observations from tabular output file\n",
      "2021-08-05 18:22:53.918387 starting: reading list template\\heads_pc.csv\n",
      "2021-08-05 18:22:53.921391 finished: reading list template\\heads_pc.csv took: 0:00:00.003004\n",
      "2021-08-05 18:22:53.921391 starting: building insfile for tabular output file heads_pc.csv\n",
      "2021-08-05 18:22:53.928396 finished: building insfile for tabular output file heads_pc.csv took: 0:00:00.007005\n",
      "2021-08-05 18:22:53.929397 starting: adding observation from instruction file 'template\\heads_pc.csv.ins'\n",
      "2021-08-05 18:22:53.940407 finished: adding observation from instruction file 'template\\heads_pc.csv.ins' took: 0:00:00.011010\n",
      "2021-08-05 18:22:53.941408 finished: adding observations from tabular output file took: 0:00:00.023021\n",
      "2021-08-05 18:22:53.952419 starting: adding observations from tabular output file\n",
      "2021-08-05 18:22:53.952419 starting: reading list template\\heads_map_q.csv\n",
      "2021-08-05 18:22:53.960426 finished: reading list template\\heads_map_q.csv took: 0:00:00.008007\n",
      "2021-08-05 18:22:53.961427 starting: building insfile for tabular output file heads_map_q.csv\n",
      "2021-08-05 18:22:53.968434 finished: building insfile for tabular output file heads_map_q.csv took: 0:00:00.007007\n",
      "2021-08-05 18:22:53.969435 starting: adding observation from instruction file 'template\\heads_map_q.csv.ins'\n",
      "2021-08-05 18:22:53.986450 finished: adding observation from instruction file 'template\\heads_map_q.csv.ins' took: 0:00:00.017015\n",
      "2021-08-05 18:22:53.987451 finished: adding observations from tabular output file took: 0:00:00.035032\n"
     ]
    }
   ],
   "source": [
    "#add observation\n",
    "#Quat\n",
    "df = pd.read_csv(os.path.join(template_ws,\"heads_q.csv\"),index_col=0)\n",
    "hds_df = pf.add_observations(\"heads_q.csv\",insfile=\"heads_q.csv.ins\",index_cols=\"time\",\n",
    "                use_cols=list(df.columns.values),prefix=\"quat\",obsgp=True)\n",
    "#P\n",
    "df = pd.read_csv(os.path.join(template_ws,\"heads_pc.csv\"),index_col=0)\n",
    "hds_df = pf.add_observations(\"heads_pc.csv\",insfile=\"heads_pc.csv.ins\",index_cols=\"time\",\n",
    "                use_cols=list(df.columns.values),prefix=\"pc\",obsgp=True)\n",
    "\n",
    "#Q map\n",
    "file = \"heads_map_q.csv\"\n",
    "df = pd.read_csv(os.path.join(template_ws,file),index_col=0)\n",
    "hds_df = pf.add_observations(file,insfile=\"{}.ins\".format(file),index_cols=\"time\",\n",
    "                use_cols=list(df.columns.values),prefix=\"qmap\",obsgp=True)\n",
    "\n",
    "#P map\n",
    "# file = \"heads_map_p.csv\"\n",
    "# df = pd.read_csv(os.path.join(template_ws,file),index_col=0)\n",
    "# hds_df = pf.add_observations(file,insfile=\"{}.ins\".format(file),index_cols=\"time\",\n",
    "#                 use_cols=list(df.columns.values),prefix=\"Pmap\",obsgp=True)\n",
    "\n",
    "#pf.obs_dfs[2].weight = 0.5 # set a weaker weigth to these points"
   ]
  },
  {
   "cell_type": "code",
   "execution_count": 7,
   "metadata": {},
   "outputs": [
    {
     "name": "stdout",
     "output_type": "stream",
     "text": [
      "2021-08-05 18:22:54.007470 starting: adding observations from tabular output file\n",
      "2021-08-05 18:22:54.007470 starting: reading list template\\heads_map_p.csv\n",
      "2021-08-05 18:22:54.017477 finished: reading list template\\heads_map_p.csv took: 0:00:00.010007\n",
      "2021-08-05 18:22:54.017477 starting: building insfile for tabular output file heads_map_p.csv\n",
      "2021-08-05 18:22:54.026487 finished: building insfile for tabular output file heads_map_p.csv took: 0:00:00.009010\n",
      "2021-08-05 18:22:54.026487 starting: adding observation from instruction file 'template\\heads_map_p.csv.ins'\n",
      "2021-08-05 18:22:54.043502 finished: adding observation from instruction file 'template\\heads_map_p.csv.ins' took: 0:00:00.017015\n",
      "2021-08-05 18:22:54.044503 finished: adding observations from tabular output file took: 0:00:00.037033\n"
     ]
    }
   ],
   "source": [
    "#P map\n",
    "file = \"heads_map_p.csv\"\n",
    "df = pd.read_csv(os.path.join(template_ws,file),index_col=0)\n",
    "hds_df = pf.add_observations(file,insfile=\"{}.ins\".format(file),index_cols=\"time\",\n",
    "                use_cols=list(df.columns.values),prefix=\"pmap\",obsgp=True)"
   ]
  },
  {
   "cell_type": "code",
   "execution_count": 8,
   "metadata": {},
   "outputs": [],
   "source": [
    "def chInsfle(file):\n",
    "    \n",
    "    \"\"\"\n",
    "    change a ins file create with PstFrom (only for a model with 1 stress period)\n",
    "    in the right format to be used by PEST\n",
    "    \"\"\"\n",
    "    \n",
    "    fileout = \"tmp\"\n",
    "    with open(file) as f:\n",
    "        with open(fileout,\"w\") as fout:\n",
    "            for i,line in enumerate(f):\n",
    "                if i < 2:\n",
    "                    fout.write(line)\n",
    "                if i > 1:\n",
    "                    for o,split in enumerate(line.split(\"w\")):\n",
    "                        if o == 1:\n",
    "                            fout.write(\"~,~\")\n",
    "                        fout.write(split)\n",
    "                        \n",
    "    from shutil import copyfile\n",
    "    copyfile(fileout, file) # copy \n",
    "    os.remove(fileout) # delete tmp file\n",
    "\n",
    "chInsfle(\"template/heads_pc.csv.ins\")\n",
    "chInsfle(\"template/heads_q.csv.ins\")\n",
    "chInsfle(\"template/heads_map_q.csv.ins\")\n",
    "chInsfle(\"template/heads_map_p.csv.ins\")\n",
    "\n",
    "pf.obs_dfs[0].obgnme = \"Quat\"\n",
    "pf.obs_dfs[1].obgnme = \"Pc\"\n",
    "pf.obs_dfs[2].obgnme = \"Qmap\"\n",
    "pf.obs_dfs[3].obgnme = \"Pmap\""
   ]
  },
  {
   "cell_type": "code",
   "execution_count": 9,
   "metadata": {},
   "outputs": [
    {
     "name": "stdout",
     "output_type": "stream",
     "text": [
      "noptmax:30, npar_adj:0, nnz_obs:522\n"
     ]
    },
    {
     "data": {
      "text/plain": [
       "<pyemu.pst.pst_handler.Pst at 0x1ff4f6cfc88>"
      ]
     },
     "execution_count": 9,
     "metadata": {},
     "output_type": "execute_result"
    }
   ],
   "source": [
    "pf.build_pst(\"{}.pst\".format(case))"
   ]
  },
  {
   "cell_type": "markdown",
   "metadata": {},
   "source": [
    "### Parameters"
   ]
  },
  {
   "cell_type": "code",
   "execution_count": 10,
   "metadata": {},
   "outputs": [
    {
     "name": "stderr",
     "output_type": "stream",
     "text": [
      "C:\\Users\\emmal\\Anaconda3\\envs\\LS\\lib\\site-packages\\pyemu\\utils\\geostats.py:248: MatplotlibDeprecationWarning: Adding an axes using the same arguments as a previous axes currently reuses the earlier instance.  In a future version, a new instance will always be created and returned.  Meanwhile, this warning can be suppressed, and the future behavior ensured, by passing a unique label to each axes instance.\n",
      "  ax = plt.subplot(111)\n"
     ]
    },
    {
     "data": {
      "text/plain": [
       "<matplotlib.legend.Legend at 0x1ff4f64be08>"
      ]
     },
     "execution_count": 10,
     "metadata": {},
     "output_type": "execute_result"
    },
    {
     "data": {
      "image/png": "[encoded data removed]",
      "text/plain": [
       "<Figure size 576x288 with 1 Axes>"
      ]
     },
     "metadata": {
      "needs_background": "light"
     },
     "output_type": "display_data"
    }
   ],
   "source": [
    "fig,ax = plt.subplots(figsize=(8,4))\n",
    "\n",
    "#q\n",
    "vq1 = pyemu.geostats.GauVario(a=4000,contribution=0.7)\n",
    "vq2 = pyemu.geostats.ExpVario(a=4000,contribution=0.7)\n",
    "grid_q1 = pyemu.geostats.GeoStruct(variograms=vq1, transform='log')\n",
    "grid_q2 = pyemu.geostats.GeoStruct(variograms=vq2,nugget=0.06 , transform='log')\n",
    "b=grid_q1.plot()\n",
    "b=grid_q2.plot()\n",
    "\n",
    "#pc\n",
    "vp1 = pyemu.geostats.GauVario(a=5000,contribution=1)\n",
    "vp2 = pyemu.geostats.ExpVario(a=5000,contribution=1)\n",
    "grid_pc1 = pyemu.geostats.GeoStruct(variograms=vp1, transform='log')\n",
    "grid_pc2 = pyemu.geostats.GeoStruct(variograms=vp2, transform='log')\n",
    "a=grid_pc1.plot()\n",
    "a=grid_pc2.plot()\n",
    "\n",
    "a.set_title(\"Spatial vario Q vs PC\")\n",
    "plt.legend([\"QGau\",\"Qexp\",\"PCGau\",\"PCexp\"])"
   ]
  },
  {
   "cell_type": "code",
   "execution_count": 11,
   "metadata": {},
   "outputs": [
    {
     "name": "stdout",
     "output_type": "stream",
     "text": [
      "2021-08-05 18:22:54.513873 starting: adding pilotpoint type multiplier style parameters for file(s) ['kq.txt']\n",
      "2021-08-05 18:22:54.513873 starting: loading array template\\kq.txt\n",
      "2021-08-05 18:22:54.547904 finished: loading array template\\kq.txt took: 0:00:00.034031\n",
      "2021-08-05 18:22:54.547904 loaded array 'kq.txt' of shape (182, 183)\n",
      "2021-08-05 18:22:54.578933 starting: writing array-based template file 'kp_q_inst0_pilotpoint.csv.tpl'\n",
      "2021-08-05 18:22:54.578933 starting: setting up pilot point parameters\n",
      "2021-08-05 18:22:54.578933 No spatial reference (containing cell spacing) passed.\n",
      "2021-08-05 18:22:54.579933 OK - using spatial reference in parent object.\n",
      "2021-08-05 18:22:54.809142 118 pilot point parameters created\n",
      "2021-08-05 18:22:54.809142 pilot point 'pargp':kp_q_inst:0\n",
      "2021-08-05 18:22:54.810142 finished: setting up pilot point parameters took: 0:00:00.231209\n",
      "2021-08-05 18:22:54.826157 starting: calculating factors for pargp=kp_q_inst:0\n",
      "2021-08-05 18:22:54.826157 saving krige variance file:template\\kp_q_inst0pp.var.dat\n",
      "2021-08-05 18:22:54.826157 saving krige factors file:template\\kp_q_inst0pp.fac\n",
      "starting interp point loop for 33306 points\n",
      "starting 0\n",
      "starting 1\n",
      "starting 2\n",
      "starting 3\n",
      "starting 4\n",
      "starting 5\n",
      "starting 6\n",
      "starting 7\n",
      "starting 8\n",
      "starting 9\n",
      "took 23.289878 seconds\n",
      "2021-08-05 18:23:18.622872 finished: calculating factors for pargp=kp_q_inst:0 took: 0:00:23.796715\n",
      "2021-08-05 18:23:18.622872 starting: writing array-based template file 'kp_q_inst0pp.dat.tpl'\n",
      "2021-08-05 18:23:18.631880 finished: adding pilotpoint type multiplier style parameters for file(s) ['kq.txt'] took: 0:00:24.118007\n"
     ]
    }
   ],
   "source": [
    "## pp quat\n",
    "zq = m.dis.idomain.array[1] # zone array for pp\n",
    "zq[:,140:]=0\n",
    "zq[zq<0]=0\n",
    "#plt.imshow(zq)\n",
    "pf.add_parameters(filenames=\"kq.txt\",par_type=\"pilotpoint\",pp_space=8,zone_array=zq,\n",
    "                   par_name_base=\"kp_q\",pargp=\"pp_q\",\n",
    "                   upper_bound=3,lower_bound=0.005,ult_ubound=6e-3,ult_lbound=1e-5,geostruct=grid_q1)"
   ]
  },
  {
   "cell_type": "code",
   "execution_count": 12,
   "metadata": {},
   "outputs": [
    {
     "name": "stdout",
     "output_type": "stream",
     "text": [
      "2021-08-05 18:23:18.649897 starting: adding pilotpoint type multiplier style parameters for file(s) ['kpc.txt']\n",
      "2021-08-05 18:23:18.650897 starting: loading array template\\kpc.txt\n",
      "2021-08-05 18:23:18.684928 finished: loading array template\\kpc.txt took: 0:00:00.034031\n",
      "2021-08-05 18:23:18.684928 loaded array 'kpc.txt' of shape (182, 183)\n",
      "2021-08-05 18:23:18.717958 starting: writing array-based template file 'kp_pc_inst0_pilotpoint.csv.tpl'\n",
      "2021-08-05 18:23:18.717958 starting: setting up pilot point parameters\n",
      "2021-08-05 18:23:18.718959 No spatial reference (containing cell spacing) passed.\n",
      "2021-08-05 18:23:18.718959 OK - using spatial reference in parent object.\n",
      "2021-08-05 18:23:19.009223 162 pilot point parameters created\n",
      "2021-08-05 18:23:19.010225 pilot point 'pargp':kp_pc_inst:0\n",
      "2021-08-05 18:23:19.010225 finished: setting up pilot point parameters took: 0:00:00.292267\n",
      "2021-08-05 18:23:19.031243 starting: calculating factors for pargp=kp_pc_inst:0\n",
      "2021-08-05 18:23:19.032244 saving krige variance file:template\\kp_pc_inst0pp.var.dat\n",
      "2021-08-05 18:23:19.032244 saving krige factors file:template\\kp_pc_inst0pp.fac\n",
      "starting interp point loop for 33306 points\n",
      "starting 0\n",
      "starting 1\n",
      "starting 2\n",
      "starting 3\n",
      "starting 4\n",
      "starting 5\n",
      "starting 6\n",
      "starting 7\n",
      "starting 8\n",
      "starting 9\n",
      "took 23.699199 seconds\n",
      "2021-08-05 18:23:43.451101 finished: calculating factors for pargp=kp_pc_inst:0 took: 0:00:24.419858\n",
      "2021-08-05 18:23:43.451101 starting: writing array-based template file 'kp_pc_inst0pp.dat.tpl'\n",
      "2021-08-05 18:23:43.458107 finished: adding pilotpoint type multiplier style parameters for file(s) ['kpc.txt'] took: 0:00:24.808210\n"
     ]
    }
   ],
   "source": [
    "## pp pc\n",
    "zpc = m.dis.idomain.array[3] # zone array for pp\n",
    "zpc[:,140:]=0\n",
    "zpc[zpc<0]=0\n",
    "#plt.imshow(zpc)\n",
    "\n",
    "pf.add_parameters(filenames=\"kpc.txt\",par_type=\"pilotpoint\",pp_space=8,zone_array=zpc,\n",
    "                   par_name_base=\"kp_pc\",pargp=\"pp_pc\",\n",
    "                   upper_bound=50,lower_bound=0.05,ult_ubound=5e-4,ult_lbound=5e-7,geostruct=grid_pc1)"
   ]
  },
  {
   "cell_type": "code",
   "execution_count": 13,
   "metadata": {},
   "outputs": [
    {
     "name": "stdout",
     "output_type": "stream",
     "text": [
      "2021-08-05 18:23:43.516680 starting: adding zone type multiplier style parameters for file(s) ['irr.txt']\n",
      "2021-08-05 18:23:43.516680 starting: loading array template\\irr.txt\n",
      "2021-08-05 18:23:43.542704 finished: loading array template\\irr.txt took: 0:00:00.026024\n",
      "2021-08-05 18:23:43.542704 loaded array 'irr.txt' of shape (182, 183)\n",
      "2021-08-05 18:23:43.566725 starting: writing array-based template file 'irr_inst0_zone.csv.tpl'\n",
      "2021-08-05 18:23:43.566725 starting: writing template file irr_inst0_zone.csv.tpl for ['irr_inst:0']\n",
      "2021-08-05 18:23:43.630783 finished: writing template file irr_inst0_zone.csv.tpl for ['irr_inst:0'] took: 0:00:00.064058\n",
      "2021-08-05 18:23:43.631785 finished: writing array-based template file 'irr_inst0_zone.csv.tpl' took: 0:00:00.065060\n",
      "2021-08-05 18:23:43.641793 finished: adding zone type multiplier style parameters for file(s) ['irr.txt'] took: 0:00:00.125113\n"
     ]
    },
    {
     "data": {
      "image/png": "[encoded data removed]",
      "text/plain": [
       "<Figure size 432x288 with 1 Axes>"
      ]
     },
     "metadata": {
      "needs_background": "light"
     },
     "output_type": "display_data"
    }
   ],
   "source": [
    "#irri\n",
    "zi = np.loadtxt(os.path.join(ws,\"zone_irr.txt\"))\n",
    "plt.imshow(zi)\n",
    "pf.add_parameters(filenames=\"irr.txt\",par_type=\"zone\",zone_array=zi,\n",
    "                   par_name_base=\"irr\",pargp=\"irr\",\n",
    "                   upper_bound=2,lower_bound=0.8)"
   ]
  },
  {
   "cell_type": "code",
   "execution_count": 14,
   "metadata": {
    "scrolled": true
   },
   "outputs": [
    {
     "name": "stdout",
     "output_type": "stream",
     "text": [
      "2021-08-05 18:23:43.727873 starting: adding constant type multiplier style parameters for file(s) ['kep.txt']\n",
      "2021-08-05 18:23:43.727873 starting: loading array template\\kep.txt\n",
      "2021-08-05 18:23:43.760902 finished: loading array template\\kep.txt took: 0:00:00.033029\n",
      "2021-08-05 18:23:43.760902 loaded array 'kep.txt' of shape (182, 183)\n",
      "2021-08-05 18:23:43.793932 starting: writing array-based template file 'ep_inst0_constant.csv.tpl'\n",
      "2021-08-05 18:23:43.793932 starting: writing template file ep_inst0_constant.csv.tpl for ['ep_inst:0']\n",
      "2021-08-05 18:23:43.925051 finished: writing template file ep_inst0_constant.csv.tpl for ['ep_inst:0'] took: 0:00:00.131119\n",
      "2021-08-05 18:23:43.926054 finished: writing array-based template file 'ep_inst0_constant.csv.tpl' took: 0:00:00.132122\n",
      "2021-08-05 18:23:43.960083 finished: adding constant type multiplier style parameters for file(s) ['kep.txt'] took: 0:00:00.232210\n",
      "2021-08-05 18:23:43.960083 starting: adding constant type multiplier style parameters for file(s) ['kpms.txt']\n",
      "2021-08-05 18:23:43.961084 starting: loading array template\\kpms.txt\n",
      "2021-08-05 18:23:43.994114 finished: loading array template\\kpms.txt took: 0:00:00.033030\n",
      "2021-08-05 18:23:43.994114 loaded array 'kpms.txt' of shape (182, 183)\n",
      "2021-08-05 18:23:44.027144 starting: writing array-based template file 'pms_inst0_constant.csv.tpl'\n",
      "2021-08-05 18:23:44.027144 starting: writing template file pms_inst0_constant.csv.tpl for ['pms_inst:0']\n",
      "2021-08-05 18:23:44.163268 finished: writing template file pms_inst0_constant.csv.tpl for ['pms_inst:0'] took: 0:00:00.136124\n",
      "2021-08-05 18:23:44.163268 finished: writing array-based template file 'pms_inst0_constant.csv.tpl' took: 0:00:00.136124\n",
      "2021-08-05 18:23:44.198300 finished: adding constant type multiplier style parameters for file(s) ['kpms.txt'] took: 0:00:00.238217\n",
      "2021-08-05 18:23:44.198300 starting: adding constant type multiplier style parameters for file(s) ['kqm.txt']\n",
      "2021-08-05 18:23:44.198300 starting: loading array template\\kqm.txt\n",
      "2021-08-05 18:23:44.271366 finished: loading array template\\kqm.txt took: 0:00:00.073066\n",
      "2021-08-05 18:23:44.271366 loaded array 'kqm.txt' of shape (182, 183)\n",
      "2021-08-05 18:23:44.307399 starting: writing array-based template file 'qm_inst0_constant.csv.tpl'\n",
      "2021-08-05 18:23:44.308401 starting: writing template file qm_inst0_constant.csv.tpl for ['qm_inst:0']\n",
      "2021-08-05 18:23:44.441521 finished: writing template file qm_inst0_constant.csv.tpl for ['qm_inst:0'] took: 0:00:00.133120\n",
      "2021-08-05 18:23:44.441521 finished: writing array-based template file 'qm_inst0_constant.csv.tpl' took: 0:00:00.134122\n",
      "2021-08-05 18:23:44.475552 finished: adding constant type multiplier style parameters for file(s) ['kqm.txt'] took: 0:00:00.277252\n"
     ]
    }
   ],
   "source": [
    "# kpms and kep\n",
    "pf.add_parameters(filenames=\"kep.txt\",par_type=\"constant\",\n",
    "                    par_name_base=\"ep\",pargp=\"ep\",\n",
    "                    upper_bound=30,lower_bound=0.1)\n",
    "pf.add_parameters(filenames=\"kpms.txt\",par_type=\"constant\",\n",
    "                 par_name_base=\"pms\",pargp=\"pms\",upper_bound=30,lower_bound=0.05)\n",
    "\n",
    "pf.add_parameters(filenames=\"kqm.txt\",par_type=\"constant\",\n",
    "                 par_name_base=\"qm\",pargp=\"qm\",upper_bound=10,lower_bound=0.01)"
   ]
  },
  {
   "cell_type": "markdown",
   "metadata": {},
   "source": [
    "### rivers"
   ]
  },
  {
   "cell_type": "code",
   "execution_count": 15,
   "metadata": {},
   "outputs": [],
   "source": [
    "rivers = [riv for riv in os.listdir(template_ws) if riv.endswith(\"riv\")]"
   ]
  },
  {
   "cell_type": "code",
   "execution_count": 16,
   "metadata": {},
   "outputs": [],
   "source": [
    "def riv_tpl(rivers,tmp_ws):\n",
    "    for riv in rivers:\n",
    "        riv_file = os.path.join(tmp_ws,riv)\n",
    "        tpl_file = riv_file+\".tpl\"\n",
    "        copyfile(riv_file, tpl_file)\n",
    "        \n",
    "        with fileinput.FileInput(tpl_file, inplace=True) as file:\n",
    "            for line in file:\n",
    "                print(line.replace(\"    0.00500000   \", \"~    c_{}     ~\".format(riv.split(\".\")[0])), end='')\n",
    "        with open(tpl_file, 'r+') as f:\n",
    "            content = f.read()\n",
    "            line = \"ptf ~\"\n",
    "            f.seek(0, 0)\n",
    "            f.write(line.rstrip('\\r\\n') + \"\\n\" + content)\n",
    "        \n",
    "        #add parameter to control file\n",
    "        dic = {\"parnme\":\"c_{}\".format(riv.split(\".\")[0]),\n",
    "              \"parval1\": 0.005,\n",
    "               \"pargp\": \"cond\",\n",
    "               \"tpl_filename\": tpl_file,\n",
    "               'input_filename':riv_file,\n",
    "               \"partype\" : \"constant\",\n",
    "               \"partrans\" : \"log\",\n",
    "               \"parubnd\" : 0.1,\n",
    "               \"parlbnd\" : 0.0001,\n",
    "               \"parchglim\" : \"factor\",\n",
    "               \"scale\" : 1.0,\n",
    "               \"dercom\" : 1,\n",
    "               \"offset\" : 0.0} \n",
    "        a = pd.DataFrame(dic,index=[\"c_{}\".format(riv.split(\".\")[0])])\n",
    "        pf.par_dfs[0] = pf.par_dfs[0].append(a,sort=False)\n",
    "        \n",
    "        pf.tpl_filenames.append(riv+\".tpl\")\n",
    "        pf.input_filenames.append(riv)"
   ]
  },
  {
   "cell_type": "code",
   "execution_count": 17,
   "metadata": {},
   "outputs": [],
   "source": [
    "riv_tpl(rivers,template_ws)"
   ]
  },
  {
   "cell_type": "code",
   "execution_count": 18,
   "metadata": {},
   "outputs": [
    {
     "name": "stdout",
     "output_type": "stream",
     "text": [
      "noptmax:30, npar_adj:303, nnz_obs:522\n"
     ]
    },
    {
     "name": "stderr",
     "output_type": "stream",
     "text": [
      "C:\\Users\\emmal\\Anaconda3\\envs\\LS\\lib\\site-packages\\pyemu\\utils\\pst_from.py:539: FutureWarning: Sorting because non-concatenation axis is not aligned. A future version\n",
      "of pandas will change to not sort by default.\n",
      "\n",
      "To accept the future behavior, pass 'sort=False'.\n",
      "\n",
      "To retain the current behavior and silence the warning, pass 'sort=True'.\n",
      "\n",
      "  par_data = pd.concat(self.par_dfs).loc[:, par_data_cols]\n",
      "C:\\Users\\emmal\\Anaconda3\\envs\\LS\\lib\\site-packages\\pyemu\\utils\\pst_from.py:138: FutureWarning: Sorting because non-concatenation axis is not aligned. A future version\n",
      "of pandas will change to not sort by default.\n",
      "\n",
      "To accept the future behavior, pass 'sort=False'.\n",
      "\n",
      "To retain the current behavior and silence the warning, pass 'sort=True'.\n",
      "\n",
      "  pr = pd.concat(self._parfile_relations, ignore_index=True)\n"
     ]
    },
    {
     "data": {
      "text/plain": [
       "<pyemu.pst.pst_handler.Pst at 0x1ff50cdc488>"
      ]
     },
     "execution_count": 18,
     "metadata": {},
     "output_type": "execute_result"
    }
   ],
   "source": [
    "pf.build_pst(\"{}.pst\".format(case))"
   ]
  },
  {
   "cell_type": "code",
   "execution_count": 19,
   "metadata": {},
   "outputs": [
    {
     "name": "stdout",
     "output_type": "stream",
     "text": [
      "noptmax:30, npar_adj:303, nnz_obs:522\n",
      "2021-08-05 18:23:45.025315 forward_run line:pyemu.os_utils.run(r'..\\..\\..\\exe\\mf6')\n",
      "\n"
     ]
    }
   ],
   "source": [
    "# add run model command\n",
    "pf.mod_sys_cmds.append(\"..\\..\\..\\exe\\mf6\")\n",
    "pst = pf.build_pst(\"{}.pst\".format(case))"
   ]
  },
  {
   "cell_type": "code",
   "execution_count": 20,
   "metadata": {},
   "outputs": [
    {
     "name": "stdout",
     "output_type": "stream",
     "text": [
      "2021-08-05 18:23:45.051342 starting: building prior covariance matrix\n",
      "2021-08-05 18:23:45.110277 saving prior covariance matrix to file template\\3D_test.prior.cov\n",
      "2021-08-05 18:23:45.165327 finished: building prior covariance matrix took: 0:00:00.113985\n"
     ]
    },
    {
     "name": "stderr",
     "output_type": "stream",
     "text": [
      "C:\\Users\\emmal\\Anaconda3\\envs\\LS\\lib\\site-packages\\pyemu\\utils\\helpers.py:275: UserWarning: geostatistical_prior_builder() warning: geostruct sill != 1.0, user beware!\n",
      "  \"geostatistical_prior_builder() warning: geostruct sill != 1.0, user beware!\"\n"
     ]
    },
    {
     "data": {
      "text/plain": [
       "<matplotlib.colorbar.Colorbar at 0x1ff5345f388>"
      ]
     },
     "execution_count": 20,
     "metadata": {},
     "output_type": "execute_result"
    },
    {
     "data": {
      "image/png": "[encoded data removed]",
      "text/plain": [
       "<Figure size 504x504 with 2 Axes>"
      ]
     },
     "metadata": {
      "needs_background": "light"
     },
     "output_type": "display_data"
    }
   ],
   "source": [
    "cov = pf.build_prior()\n",
    "x = cov.x.copy()\n",
    "x[x==0.0] = np.NaN\n",
    "fig,ax = plt.subplots(1,1,figsize=(7,7))\n",
    "g = ax.imshow(x)\n",
    "plt.colorbar(g)"
   ]
  },
  {
   "cell_type": "markdown",
   "metadata": {},
   "source": [
    "### Tikhonov"
   ]
  },
  {
   "cell_type": "code",
   "execution_count": 38,
   "metadata": {},
   "outputs": [],
   "source": [
    "# I  will add a zero order thikonov (preferred value) and initial values needs to be appropriate\n",
    "# I extract reference k from the 2D model already manually calibrated with minimize and calculate the ratio with the inversion k (setup in the setup_flopy notebook)\n",
    "# Each pp will have an initial value\n",
    "\n",
    "### quat\n",
    "ref_k = np.loadtxt(\"../../Modeles3D/test_3D/working/kq.txt\")\n",
    "inv_k = np.loadtxt(\"workspace/kq.txt\")\n",
    "\n",
    "mask = (pst.parameter_data[pst.parameter_data[\"pargp\"]==\"kp_q_inst:0\"].i.values.astype(int),\n",
    "  pst.parameter_data[pst.parameter_data[\"pargp\"]==\"kp_q_inst:0\"].j.values.astype(int))\n",
    "parval = (ref_k/inv_k)[mask] \n",
    "\n",
    "pst.parameter_data.loc[pst.parameter_data[\"pargp\"]==\"kp_q_inst:0\",\"parval1\"] = parval\n",
    "\n",
    "### plio\n",
    "ref_k = np.loadtxt(\"../../Modeles3D/test_3D/working/kpc.txt\")\n",
    "inv_k = np.loadtxt(\"workspace/kpc.txt\")\n",
    "\n",
    "mask = (pst.parameter_data[pst.parameter_data[\"pargp\"]==\"kp_pc_inst:0\"].i.values.astype(int),\n",
    "  pst.parameter_data[pst.parameter_data[\"pargp\"]==\"kp_pc_inst:0\"].j.values.astype(int))\n",
    "parval = (ref_k/inv_k)[mask] \n",
    "\n",
    "pst.parameter_data.loc[pst.parameter_data[\"pargp\"]==\"kp_pc_inst:0\",\"parval1\"] = parval\n",
    "\n",
    "#setup zero order tikho (preferred value regularization)\n",
    "pyemu.helpers.zero_order_tikhonov(pst)\n",
    "\n",
    "pst.prior_information.loc[:,\"weight\"] *= 10"
   ]
  },
  {
   "cell_type": "code",
   "execution_count": 45,
   "metadata": {},
   "outputs": [],
   "source": [
    "mask = pst.observation_data[\"obgnme\"] == \"Pmap\"\n",
    "pst.observation_data.loc[mask,\"weight\"] *=2\n",
    "\n",
    "mask = pst.observation_data[\"obgnme\"] == \"Qmap\"\n",
    "pst.observation_data.loc[mask,\"weight\"] *=2"
   ]
  },
  {
   "cell_type": "code",
   "execution_count": 51,
   "metadata": {},
   "outputs": [
    {
     "name": "stdout",
     "output_type": "stream",
     "text": [
      "noptmax:-1, npar_adj:303, nnz_obs:522\n"
     ]
    }
   ],
   "source": [
    "pst.control_data.noptmax = -1 # FOR JACOBIAN\n",
    "pst.write(os.path.join(template_ws,\"{}.pst\".format(case)))"
   ]
  },
  {
   "cell_type": "code",
   "execution_count": 49,
   "metadata": {},
   "outputs": [
    {
     "data": {
      "text/html": [
       "<div>\n",
       "<style scoped>\n",
       "    .dataframe tbody tr th:only-of-type {\n",
       "        vertical-align: middle;\n",
       "    }\n",
       "\n",
       "    .dataframe tbody tr th {\n",
       "        vertical-align: top;\n",
       "    }\n",
       "\n",
       "    .dataframe thead th {\n",
       "        text-align: right;\n",
       "    }\n",
       "</style>\n",
       "<table border=\"1\" class=\"dataframe\">\n",
       "  <thead>\n",
       "    <tr style=\"text-align: right;\">\n",
       "      <th></th>\n",
       "      <th>pilbl</th>\n",
       "      <th>equation</th>\n",
       "      <th>obgnme</th>\n",
       "      <th>weight</th>\n",
       "      <th>names</th>\n",
       "    </tr>\n",
       "    <tr>\n",
       "      <th>pilbl</th>\n",
       "      <th></th>\n",
       "      <th></th>\n",
       "      <th></th>\n",
       "      <th></th>\n",
       "      <th></th>\n",
       "    </tr>\n",
       "  </thead>\n",
       "  <tbody>\n",
       "    <tr>\n",
       "      <td>c_agly</td>\n",
       "      <td>c_agly</td>\n",
       "      <td>1.0 * log(c_agly) =  -2.301030E+00</td>\n",
       "      <td>regulcond</td>\n",
       "      <td>3.333333</td>\n",
       "      <td>[c_agly]</td>\n",
       "    </tr>\n",
       "  </tbody>\n",
       "</table>\n",
       "</div>"
      ],
      "text/plain": [
       "         pilbl                            equation     obgnme    weight  \\\n",
       "pilbl                                                                     \n",
       "c_agly  c_agly  1.0 * log(c_agly) =  -2.301030E+00  regulcond  3.333333   \n",
       "\n",
       "           names  \n",
       "pilbl             \n",
       "c_agly  [c_agly]  "
      ]
     },
     "execution_count": 49,
     "metadata": {},
     "output_type": "execute_result"
    }
   ],
   "source": [
    "pst.prior_information[pst.prior_information.obgnme== 'regulcond']"
   ]
  },
  {
   "cell_type": "code",
   "execution_count": 50,
   "metadata": {},
   "outputs": [],
   "source": [
    "#pyemu.os_utils.run(\"..\\..\\pestpp-glm.exe {}\".format(case),cwd=\"template\")"
   ]
  },
  {
   "cell_type": "code",
   "execution_count": 52,
   "metadata": {},
   "outputs": [],
   "source": [
    "m_d = \"master_glm\"\n",
    "pyemu.os_utils.start_workers(template_ws,\"../../pestpp-glm.exe\",\"{}.pst\".format(case),num_workers=14,worker_root=\".\",master_dir=m_d)"
   ]
  },
  {
   "cell_type": "code",
   "execution_count": 67,
   "metadata": {},
   "outputs": [
    {
     "name": "stdout",
     "output_type": "stream",
     "text": [
      "noptmax:9, npar_adj:303, nnz_obs:522\n"
     ]
    }
   ],
   "source": [
    "t_d =\"master_glm\"\n",
    "case = \"3D_test\"\n",
    "pst = pyemu.Pst(os.path.join(t_d,\"{}.pst\".format(case)))\n",
    "pst.write_par_summary_table(filename=\"none\")\n",
    "\n",
    "#pst.svd_data.eigthresh = 5e-7\n",
    "pst.control_data.noptmax = 9 # number of iterations (should be set to a great value (50))\n",
    "pst.control_data.nphistp = 9\n",
    "pst.pestpp_options = {}\n",
    "pst.pestpp_options[\"n_iter_base\"] = -1\n",
    "pst.pestpp_options[\"n_iter_super\"] = 3\n",
    "pst.pestpp_options[\"glm_num_reals\"] = 50 # how many draws\n",
    "pst.pestpp_options[\"parcov\"] = \"{}.prior.cov\".format(case)\n",
    "pst.pestpp_options[\"base_jacobian\"] = \"{}.jcb\".format(case)\n",
    "pst.write(os.path.join(t_d,\"{}.pst\".format(case)))\n",
    "\n"
   ]
  },
  {
   "cell_type": "code",
   "execution_count": 68,
   "metadata": {},
   "outputs": [],
   "source": [
    "# DO the inversion\n",
    "m_d = \"master_glm_run\"\n",
    "pyemu.os_utils.start_workers(t_d,\"../../pestpp-glm.exe\",\"{}.pst\".format(case),num_workers=14,worker_root=\".\",\n",
    "                             master_dir=m_d)"
   ]
  },
  {
   "cell_type": "code",
   "execution_count": 62,
   "metadata": {},
   "outputs": [
    {
     "data": {
      "text/plain": [
       "1.05e-10"
      ]
     },
     "execution_count": 62,
     "metadata": {},
     "output_type": "execute_result"
    }
   ],
   "source": [
    "pst.reg_data.phimaccept"
   ]
  },
  {
   "cell_type": "code",
   "execution_count": 64,
   "metadata": {},
   "outputs": [
    {
     "data": {
      "text/plain": [
       "<pyemu.pst.pst_controldata.RegData at 0x1ff54f77cc8>"
      ]
     },
     "execution_count": 64,
     "metadata": {},
     "output_type": "execute_result"
    }
   ],
   "source": [
    "pst.reg_data."
   ]
  },
  {
   "cell_type": "code",
   "execution_count": null,
   "metadata": {},
   "outputs": [],
   "source": []
  }
 ],
 "metadata": {
  "kernelspec": {
   "display_name": "Python 3",
   "language": "python",
   "name": "python3"
  },
  "language_info": {
   "codemirror_mode": {
    "name": "ipython",
    "version": 3
   },
   "file_extension": ".py",
   "mimetype": "text/x-python",
   "name": "python",
   "nbconvert_exporter": "python",
   "pygments_lexer": "ipython3",
   "version": "3.7.4"
  }
 },
 "nbformat": 4,
 "nbformat_minor": 2
}
