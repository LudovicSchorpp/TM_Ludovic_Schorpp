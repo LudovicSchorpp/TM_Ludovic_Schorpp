{
 "cells": [
  {
   "cell_type": "code",
   "execution_count": 1,
   "metadata": {},
   "outputs": [
    {
     "name": "stdout",
     "output_type": "stream",
     "text": [
      "flopy is installed in C:\\Users\\emmal\\Anaconda3\\lib\\site-packages\\flopy\n"
     ]
    }
   ],
   "source": [
    "import pyemu\n",
    "import numpy as np\n",
    "import matplotlib.pyplot as plt\n",
    "import pandas as pd\n",
    "import flopy as fp\n",
    "from flopy.utils.reference import SpatialReference\n",
    "import os\n",
    "import sys\n",
    "from shutil import copyfile\n",
    "import fileinput\n",
    "\n",
    "sys.path.append(\"../../modules\")\n",
    "# hand made functions\n",
    "from Rouss import *"
   ]
  },
  {
   "cell_type": "code",
   "execution_count": 2,
   "metadata": {},
   "outputs": [],
   "source": [
    "ws = \"workspace\"\n",
    "m_n_i = \"pest_3d_r\"\n",
    "m_n = \"pest_3D_R\"\n",
    "\n",
    "case = \"3D_test\""
   ]
  },
  {
   "cell_type": "code",
   "execution_count": 3,
   "metadata": {},
   "outputs": [
    {
     "name": "stdout",
     "output_type": "stream",
     "text": [
      "loading simulation...\n",
      "  loading simulation name file...\n",
      "  loading tdis package...\n",
      "  loading model gwf6...\n",
      "    loading package dis...\n",
      "    loading package ic...\n",
      "    loading package oc...\n",
      "    loading package npf...\n",
      "    loading package wel...\n",
      "    loading package rch...\n",
      "    loading package rch...\n",
      "    loading package rch...\n",
      "    loading package wel...\n",
      "    loading package chd...\n",
      "    loading package chd...\n",
      "    loading package drn...\n",
      "    loading package riv...\n",
      "    loading package riv...\n",
      "    loading package riv...\n",
      "    loading package riv...\n",
      "    loading package riv...\n",
      "    loading package riv...\n",
      "    loading package obs...\n",
      "WARNING: Block header for block \"continuous\" is not a unique block header ('pest_3d_r', 'obs', 'continuous')\n",
      "WARNING: Block header for block \"continuous\" is not a unique block header ('pest_3d_r', 'obs', 'continuous')\n",
      "WARNING: Block header for block \"continuous\" is not a unique block header ('pest_3d_r', 'obs', 'continuous')\n",
      "  loading ims package pest_3d_r...\n"
     ]
    }
   ],
   "source": [
    "sim = fp.mf6.MFSimulation.load(sim_ws=ws)\n",
    "m = sim.get_model(m_n_i)"
   ]
  },
  {
   "cell_type": "code",
   "execution_count": 4,
   "metadata": {},
   "outputs": [
    {
     "data": {
      "text/plain": [
       "xul:664525; yul:6207475; rotation:0; proj4_str:None; units:meters; lenuni:2; length_multiplier:1.0"
      ]
     },
     "execution_count": 4,
     "metadata": {},
     "output_type": "execute_result"
    }
   ],
   "source": [
    "sr = SpatialReference(delr=m.dis.delr.array, delc=m.dis.delc.array, xll=m.dis.xorigin.array, yll=m.dis.yorigin.array)\n",
    "sr"
   ]
  },
  {
   "cell_type": "code",
   "execution_count": 5,
   "metadata": {},
   "outputs": [
    {
     "name": "stdout",
     "output_type": "stream",
     "text": [
      "2020-08-03 16:16:50.473606 starting: opening PstFrom.log for logging\n",
      "2020-08-03 16:16:50.473606 starting PstFrom process\n",
      "2020-08-03 16:16:50.481637 starting: setting up dirs\n",
      "2020-08-03 16:16:50.481637 starting: removing existing new_d 'template'\n",
      "2020-08-03 16:16:50.552099 finished: removing existing new_d 'template' took: 0:00:00.070462\n",
      "2020-08-03 16:16:50.552099 starting: copying original_d 'workspace' to new_d 'template'\n",
      "2020-08-03 16:16:50.715206 finished: copying original_d 'workspace' to new_d 'template' took: 0:00:00.163107\n",
      "2020-08-03 16:16:50.715206 finished: setting up dirs took: 0:00:00.233569\n"
     ]
    }
   ],
   "source": [
    "# empty pst object\n",
    "template_ws = \"template\"\n",
    "pf = pyemu.prototypes.PstFrom(original_d=ws, new_d=template_ws,\n",
    "                 remove_existing=True,\n",
    "                 longnames=True, spatial_reference=sr,\n",
    "                 zero_based=False)"
   ]
  },
  {
   "cell_type": "code",
   "execution_count": 6,
   "metadata": {
    "scrolled": true
   },
   "outputs": [
    {
     "name": "stdout",
     "output_type": "stream",
     "text": [
      "2020-08-03 16:16:50.775636 starting: adding observations from tabular output file\n",
      "2020-08-03 16:16:50.775636 starting: reading list template\\heads_q.csv\n",
      "2020-08-03 16:16:50.785696 finished: reading list template\\heads_q.csv took: 0:00:00.010060\n",
      "2020-08-03 16:16:50.785696 starting: building insfile for tabular output file heads_q.csv\n",
      "2020-08-03 16:16:50.856191 finished: building insfile for tabular output file heads_q.csv took: 0:00:00.070495\n",
      "2020-08-03 16:16:50.856191 starting: adding observation from instruction file 'template\\heads_q.csv.ins'\n",
      "2020-08-03 16:16:50.884332 finished: adding observation from instruction file 'template\\heads_q.csv.ins' took: 0:00:00.028141\n",
      "2020-08-03 16:16:50.886357 finished: adding observations from tabular output file took: 0:00:00.110721\n",
      "2020-08-03 16:16:50.896427 starting: adding observations from tabular output file\n",
      "2020-08-03 16:16:50.896427 starting: reading list template\\heads_pc.csv\n",
      "2020-08-03 16:16:50.906478 finished: reading list template\\heads_pc.csv took: 0:00:00.010051\n",
      "2020-08-03 16:16:50.906478 starting: building insfile for tabular output file heads_pc.csv\n",
      "2020-08-03 16:16:50.936696 finished: building insfile for tabular output file heads_pc.csv took: 0:00:00.030218\n",
      "2020-08-03 16:16:50.936696 starting: adding observation from instruction file 'template\\heads_pc.csv.ins'\n",
      "2020-08-03 16:16:50.959265 finished: adding observation from instruction file 'template\\heads_pc.csv.ins' took: 0:00:00.022569\n",
      "2020-08-03 16:16:50.963265 finished: adding observations from tabular output file took: 0:00:00.066838\n",
      "2020-08-03 16:16:50.985568 starting: adding observations from tabular output file\n",
      "2020-08-03 16:16:50.987591 starting: reading list template\\heads_map_q.csv\n",
      "2020-08-03 16:16:51.007721 finished: reading list template\\heads_map_q.csv took: 0:00:00.020130\n",
      "2020-08-03 16:16:51.007721 starting: building insfile for tabular output file heads_map_q.csv\n",
      "2020-08-03 16:16:51.045977 finished: building insfile for tabular output file heads_map_q.csv took: 0:00:00.038256\n",
      "2020-08-03 16:16:51.048001 starting: adding observation from instruction file 'template\\heads_map_q.csv.ins'\n",
      "2020-08-03 16:16:51.078211 finished: adding observation from instruction file 'template\\heads_map_q.csv.ins' took: 0:00:00.030210\n",
      "2020-08-03 16:16:51.088254 finished: adding observations from tabular output file took: 0:00:00.102686\n"
     ]
    }
   ],
   "source": [
    "#add observation\n",
    "#Quat\n",
    "df = pd.read_csv(os.path.join(template_ws,\"heads_q.csv\"),index_col=0)\n",
    "hds_df = pf.add_observations(\"heads_q.csv\",insfile=\"heads_q.csv.ins\",index_cols=\"time\",\n",
    "                use_cols=list(df.columns.values),prefix=\"quat\",obsgp=True)\n",
    "#P\n",
    "df = pd.read_csv(os.path.join(template_ws,\"heads_pc.csv\"),index_col=0)\n",
    "hds_df = pf.add_observations(\"heads_pc.csv\",insfile=\"heads_pc.csv.ins\",index_cols=\"time\",\n",
    "                use_cols=list(df.columns.values),prefix=\"pc\",obsgp=True)\n",
    "\n",
    "#Q map\n",
    "file = \"heads_map_q.csv\"\n",
    "df = pd.read_csv(os.path.join(template_ws,file),index_col=0)\n",
    "hds_df = pf.add_observations(file,insfile=\"{}.ins\".format(file),index_cols=\"time\",\n",
    "                use_cols=list(df.columns.values),prefix=\"qmap\",obsgp=True)\n",
    "\n",
    "#P map\n",
    "# file = \"heads_map_p.csv\"\n",
    "# df = pd.read_csv(os.path.join(template_ws,file),index_col=0)\n",
    "# hds_df = pf.add_observations(file,insfile=\"{}.ins\".format(file),index_cols=\"time\",\n",
    "#                 use_cols=list(df.columns.values),prefix=\"Pmap\",obsgp=True)\n",
    "\n",
    "#pf.obs_dfs[2].weight = 0.5 # set a weaker weigth to these points"
   ]
  },
  {
   "cell_type": "code",
   "execution_count": 7,
   "metadata": {},
   "outputs": [
    {
     "name": "stdout",
     "output_type": "stream",
     "text": [
      "2020-08-03 16:16:51.128839 starting: adding observations from tabular output file\n",
      "2020-08-03 16:16:51.128839 starting: reading list template\\heads_map_p.csv\n",
      "2020-08-03 16:16:51.148954 finished: reading list template\\heads_map_p.csv took: 0:00:00.020115\n",
      "2020-08-03 16:16:51.148954 starting: building insfile for tabular output file heads_map_p.csv\n",
      "2020-08-03 16:16:51.189221 finished: building insfile for tabular output file heads_map_p.csv took: 0:00:00.040267\n",
      "2020-08-03 16:16:51.189221 starting: adding observation from instruction file 'template\\heads_map_p.csv.ins'\n",
      "2020-08-03 16:16:51.229467 finished: adding observation from instruction file 'template\\heads_map_p.csv.ins' took: 0:00:00.040246\n"
     ]
    },
    {
     "ename": "KeyError",
     "evalue": "\"None of [Index(['pmap_usecol:pmap_1_101_78_time:1.0',\\n       'pmap_usecol:pmap_1_102_23_time:1.0',\\n       'pmap_usecol:pmap_1_102_57_time:1.0',\\n       'pmap_usecol:pmap_1_102_64_time:1.0',\\n       'pmap_usecol:pmap_1_103_55_time:1.0',\\n       'pmap_usecol:pmap_1_104_16_time:1.0',\\n       'pmap_usecol:pmap_1_104_19_time:1.0',\\n       'pmap_usecol:pmap_1_104_63_time:1.0',\\n       'pmap_usecol:pmap_1_105_107_time:1.0',\\n       'pmap_usecol:pmap_1_106_32_time:1.0',\\n       ...\\n       'pmap_usecol:pmap_1_95_59.1_time:1.0',\\n       'pmap_usecol:pmap_1_95_59_time:1.0',\\n       'pmap_usecol:pmap_1_95_64_time:1.0',\\n       'pmap_usecol:pmap_1_97_106_time:1.0',\\n       'pmap_usecol:pmap_1_97_109_time:1.0',\\n       'pmap_usecol:pmap_1_98_38_time:1.0',\\n       'pmap_usecol:pmap_1_98_70_time:1.0',\\n       'pmap_usecol:pmap_1_98_86_time:1.0',\\n       'pmap_usecol:pmap_1_99_105_time:1.0',\\n       'pmap_usecol:pmap_1_99_123_time:1.0'],\\n      dtype='object', length=200)] are in the [index]\"",
     "output_type": "error",
     "traceback": [
      "\u001b[1;31m---------------------------------------------------------------------------\u001b[0m",
      "\u001b[1;31mKeyError\u001b[0m                                  Traceback (most recent call last)",
      "\u001b[1;32m<ipython-input-7-c656a70332c4>\u001b[0m in \u001b[0;36m<module>\u001b[1;34m\u001b[0m\n\u001b[0;32m      3\u001b[0m \u001b[0mdf\u001b[0m \u001b[1;33m=\u001b[0m \u001b[0mpd\u001b[0m\u001b[1;33m.\u001b[0m\u001b[0mread_csv\u001b[0m\u001b[1;33m(\u001b[0m\u001b[0mos\u001b[0m\u001b[1;33m.\u001b[0m\u001b[0mpath\u001b[0m\u001b[1;33m.\u001b[0m\u001b[0mjoin\u001b[0m\u001b[1;33m(\u001b[0m\u001b[0mtemplate_ws\u001b[0m\u001b[1;33m,\u001b[0m\u001b[0mfile\u001b[0m\u001b[1;33m)\u001b[0m\u001b[1;33m,\u001b[0m\u001b[0mindex_col\u001b[0m\u001b[1;33m=\u001b[0m\u001b[1;36m0\u001b[0m\u001b[1;33m)\u001b[0m\u001b[1;33m\u001b[0m\u001b[1;33m\u001b[0m\u001b[0m\n\u001b[0;32m      4\u001b[0m hds_df = pf.add_observations(file,insfile=\"{}.ins\".format(file),index_cols=\"time\",\n\u001b[1;32m----> 5\u001b[1;33m                 use_cols=list(df.columns.values),prefix=\"Pmap\",obsgp=True)\n\u001b[0m",
      "\u001b[1;32m~\\Anaconda3\\lib\\site-packages\\pyemu\\prototypes\\pst_from.py\u001b[0m in \u001b[0;36madd_observations\u001b[1;34m(self, filename, insfile, index_cols, use_cols, use_rows, prefix, ofile_skip, ofile_sep, rebuild_pst, obsgp)\u001b[0m\n\u001b[0;32m    775\u001b[0m                 ins_file=insfile, out_file=os.path.join(self.new_d, filename))\n\u001b[0;32m    776\u001b[0m             \u001b[1;32mif\u001b[0m \u001b[1;34m'obgnme'\u001b[0m \u001b[1;32min\u001b[0m \u001b[0mdf_ins\u001b[0m\u001b[1;33m.\u001b[0m\u001b[0mcolumns\u001b[0m\u001b[1;33m:\u001b[0m\u001b[1;33m\u001b[0m\u001b[1;33m\u001b[0m\u001b[0m\n\u001b[1;32m--> 777\u001b[1;33m                 \u001b[0mnew_obs\u001b[0m\u001b[1;33m.\u001b[0m\u001b[0mloc\u001b[0m\u001b[1;33m[\u001b[0m\u001b[1;33m:\u001b[0m\u001b[1;33m,\u001b[0m \u001b[1;34m'obgnme'\u001b[0m\u001b[1;33m]\u001b[0m \u001b[1;33m=\u001b[0m \u001b[0mdf_ins\u001b[0m\u001b[1;33m.\u001b[0m\u001b[0mloc\u001b[0m\u001b[1;33m[\u001b[0m\u001b[0mnew_obs\u001b[0m\u001b[1;33m.\u001b[0m\u001b[0mindex\u001b[0m\u001b[1;33m,\u001b[0m \u001b[1;34m'obgnme'\u001b[0m\u001b[1;33m]\u001b[0m\u001b[1;33m\u001b[0m\u001b[1;33m\u001b[0m\u001b[0m\n\u001b[0m\u001b[0;32m    778\u001b[0m             \u001b[0mnew_obs_l\u001b[0m\u001b[1;33m.\u001b[0m\u001b[0mappend\u001b[0m\u001b[1;33m(\u001b[0m\u001b[0mnew_obs\u001b[0m\u001b[1;33m)\u001b[0m\u001b[1;33m\u001b[0m\u001b[1;33m\u001b[0m\u001b[0m\n\u001b[0;32m    779\u001b[0m         \u001b[0mnew_obs\u001b[0m \u001b[1;33m=\u001b[0m \u001b[0mpd\u001b[0m\u001b[1;33m.\u001b[0m\u001b[0mconcat\u001b[0m\u001b[1;33m(\u001b[0m\u001b[0mnew_obs_l\u001b[0m\u001b[1;33m)\u001b[0m\u001b[1;33m\u001b[0m\u001b[1;33m\u001b[0m\u001b[0m\n",
      "\u001b[1;32m~\\Anaconda3\\lib\\site-packages\\pandas\\core\\indexing.py\u001b[0m in \u001b[0;36m__getitem__\u001b[1;34m(self, key)\u001b[0m\n\u001b[0;32m   1416\u001b[0m                 \u001b[1;32mexcept\u001b[0m \u001b[1;33m(\u001b[0m\u001b[0mKeyError\u001b[0m\u001b[1;33m,\u001b[0m \u001b[0mIndexError\u001b[0m\u001b[1;33m,\u001b[0m \u001b[0mAttributeError\u001b[0m\u001b[1;33m)\u001b[0m\u001b[1;33m:\u001b[0m\u001b[1;33m\u001b[0m\u001b[1;33m\u001b[0m\u001b[0m\n\u001b[0;32m   1417\u001b[0m                     \u001b[1;32mpass\u001b[0m\u001b[1;33m\u001b[0m\u001b[1;33m\u001b[0m\u001b[0m\n\u001b[1;32m-> 1418\u001b[1;33m             \u001b[1;32mreturn\u001b[0m \u001b[0mself\u001b[0m\u001b[1;33m.\u001b[0m\u001b[0m_getitem_tuple\u001b[0m\u001b[1;33m(\u001b[0m\u001b[0mkey\u001b[0m\u001b[1;33m)\u001b[0m\u001b[1;33m\u001b[0m\u001b[1;33m\u001b[0m\u001b[0m\n\u001b[0m\u001b[0;32m   1419\u001b[0m         \u001b[1;32melse\u001b[0m\u001b[1;33m:\u001b[0m\u001b[1;33m\u001b[0m\u001b[1;33m\u001b[0m\u001b[0m\n\u001b[0;32m   1420\u001b[0m             \u001b[1;31m# we by definition only have the 0th axis\u001b[0m\u001b[1;33m\u001b[0m\u001b[1;33m\u001b[0m\u001b[1;33m\u001b[0m\u001b[0m\n",
      "\u001b[1;32m~\\Anaconda3\\lib\\site-packages\\pandas\\core\\indexing.py\u001b[0m in \u001b[0;36m_getitem_tuple\u001b[1;34m(self, tup)\u001b[0m\n\u001b[0;32m    803\u001b[0m     \u001b[1;32mdef\u001b[0m \u001b[0m_getitem_tuple\u001b[0m\u001b[1;33m(\u001b[0m\u001b[0mself\u001b[0m\u001b[1;33m,\u001b[0m \u001b[0mtup\u001b[0m\u001b[1;33m)\u001b[0m\u001b[1;33m:\u001b[0m\u001b[1;33m\u001b[0m\u001b[1;33m\u001b[0m\u001b[0m\n\u001b[0;32m    804\u001b[0m         \u001b[1;32mtry\u001b[0m\u001b[1;33m:\u001b[0m\u001b[1;33m\u001b[0m\u001b[1;33m\u001b[0m\u001b[0m\n\u001b[1;32m--> 805\u001b[1;33m             \u001b[1;32mreturn\u001b[0m \u001b[0mself\u001b[0m\u001b[1;33m.\u001b[0m\u001b[0m_getitem_lowerdim\u001b[0m\u001b[1;33m(\u001b[0m\u001b[0mtup\u001b[0m\u001b[1;33m)\u001b[0m\u001b[1;33m\u001b[0m\u001b[1;33m\u001b[0m\u001b[0m\n\u001b[0m\u001b[0;32m    806\u001b[0m         \u001b[1;32mexcept\u001b[0m \u001b[0mIndexingError\u001b[0m\u001b[1;33m:\u001b[0m\u001b[1;33m\u001b[0m\u001b[1;33m\u001b[0m\u001b[0m\n\u001b[0;32m    807\u001b[0m             \u001b[1;32mpass\u001b[0m\u001b[1;33m\u001b[0m\u001b[1;33m\u001b[0m\u001b[0m\n",
      "\u001b[1;32m~\\Anaconda3\\lib\\site-packages\\pandas\\core\\indexing.py\u001b[0m in \u001b[0;36m_getitem_lowerdim\u001b[1;34m(self, tup)\u001b[0m\n\u001b[0;32m    959\u001b[0m                     \u001b[1;32mreturn\u001b[0m \u001b[0msection\u001b[0m\u001b[1;33m\u001b[0m\u001b[1;33m\u001b[0m\u001b[0m\n\u001b[0;32m    960\u001b[0m                 \u001b[1;31m# This is an elided recursive call to iloc/loc/etc'\u001b[0m\u001b[1;33m\u001b[0m\u001b[1;33m\u001b[0m\u001b[1;33m\u001b[0m\u001b[0m\n\u001b[1;32m--> 961\u001b[1;33m                 \u001b[1;32mreturn\u001b[0m \u001b[0mgetattr\u001b[0m\u001b[1;33m(\u001b[0m\u001b[0msection\u001b[0m\u001b[1;33m,\u001b[0m \u001b[0mself\u001b[0m\u001b[1;33m.\u001b[0m\u001b[0mname\u001b[0m\u001b[1;33m)\u001b[0m\u001b[1;33m[\u001b[0m\u001b[0mnew_key\u001b[0m\u001b[1;33m]\u001b[0m\u001b[1;33m\u001b[0m\u001b[1;33m\u001b[0m\u001b[0m\n\u001b[0m\u001b[0;32m    962\u001b[0m \u001b[1;33m\u001b[0m\u001b[0m\n\u001b[0;32m    963\u001b[0m         \u001b[1;32mraise\u001b[0m \u001b[0mIndexingError\u001b[0m\u001b[1;33m(\u001b[0m\u001b[1;34m\"not applicable\"\u001b[0m\u001b[1;33m)\u001b[0m\u001b[1;33m\u001b[0m\u001b[1;33m\u001b[0m\u001b[0m\n",
      "\u001b[1;32m~\\Anaconda3\\lib\\site-packages\\pandas\\core\\indexing.py\u001b[0m in \u001b[0;36m__getitem__\u001b[1;34m(self, key)\u001b[0m\n\u001b[0;32m   1422\u001b[0m \u001b[1;33m\u001b[0m\u001b[0m\n\u001b[0;32m   1423\u001b[0m             \u001b[0mmaybe_callable\u001b[0m \u001b[1;33m=\u001b[0m \u001b[0mcom\u001b[0m\u001b[1;33m.\u001b[0m\u001b[0mapply_if_callable\u001b[0m\u001b[1;33m(\u001b[0m\u001b[0mkey\u001b[0m\u001b[1;33m,\u001b[0m \u001b[0mself\u001b[0m\u001b[1;33m.\u001b[0m\u001b[0mobj\u001b[0m\u001b[1;33m)\u001b[0m\u001b[1;33m\u001b[0m\u001b[1;33m\u001b[0m\u001b[0m\n\u001b[1;32m-> 1424\u001b[1;33m             \u001b[1;32mreturn\u001b[0m \u001b[0mself\u001b[0m\u001b[1;33m.\u001b[0m\u001b[0m_getitem_axis\u001b[0m\u001b[1;33m(\u001b[0m\u001b[0mmaybe_callable\u001b[0m\u001b[1;33m,\u001b[0m \u001b[0maxis\u001b[0m\u001b[1;33m=\u001b[0m\u001b[0maxis\u001b[0m\u001b[1;33m)\u001b[0m\u001b[1;33m\u001b[0m\u001b[1;33m\u001b[0m\u001b[0m\n\u001b[0m\u001b[0;32m   1425\u001b[0m \u001b[1;33m\u001b[0m\u001b[0m\n\u001b[0;32m   1426\u001b[0m     \u001b[1;32mdef\u001b[0m \u001b[0m_is_scalar_access\u001b[0m\u001b[1;33m(\u001b[0m\u001b[0mself\u001b[0m\u001b[1;33m,\u001b[0m \u001b[0mkey\u001b[0m\u001b[1;33m:\u001b[0m \u001b[0mTuple\u001b[0m\u001b[1;33m)\u001b[0m\u001b[1;33m:\u001b[0m\u001b[1;33m\u001b[0m\u001b[1;33m\u001b[0m\u001b[0m\n",
      "\u001b[1;32m~\\Anaconda3\\lib\\site-packages\\pandas\\core\\indexing.py\u001b[0m in \u001b[0;36m_getitem_axis\u001b[1;34m(self, key, axis)\u001b[0m\n\u001b[0;32m   1837\u001b[0m                     \u001b[1;32mraise\u001b[0m \u001b[0mValueError\u001b[0m\u001b[1;33m(\u001b[0m\u001b[1;34m\"Cannot index with multidimensional key\"\u001b[0m\u001b[1;33m)\u001b[0m\u001b[1;33m\u001b[0m\u001b[1;33m\u001b[0m\u001b[0m\n\u001b[0;32m   1838\u001b[0m \u001b[1;33m\u001b[0m\u001b[0m\n\u001b[1;32m-> 1839\u001b[1;33m                 \u001b[1;32mreturn\u001b[0m \u001b[0mself\u001b[0m\u001b[1;33m.\u001b[0m\u001b[0m_getitem_iterable\u001b[0m\u001b[1;33m(\u001b[0m\u001b[0mkey\u001b[0m\u001b[1;33m,\u001b[0m \u001b[0maxis\u001b[0m\u001b[1;33m=\u001b[0m\u001b[0maxis\u001b[0m\u001b[1;33m)\u001b[0m\u001b[1;33m\u001b[0m\u001b[1;33m\u001b[0m\u001b[0m\n\u001b[0m\u001b[0;32m   1840\u001b[0m \u001b[1;33m\u001b[0m\u001b[0m\n\u001b[0;32m   1841\u001b[0m             \u001b[1;31m# nested tuple slicing\u001b[0m\u001b[1;33m\u001b[0m\u001b[1;33m\u001b[0m\u001b[1;33m\u001b[0m\u001b[0m\n",
      "\u001b[1;32m~\\Anaconda3\\lib\\site-packages\\pandas\\core\\indexing.py\u001b[0m in \u001b[0;36m_getitem_iterable\u001b[1;34m(self, key, axis)\u001b[0m\n\u001b[0;32m   1131\u001b[0m         \u001b[1;32melse\u001b[0m\u001b[1;33m:\u001b[0m\u001b[1;33m\u001b[0m\u001b[1;33m\u001b[0m\u001b[0m\n\u001b[0;32m   1132\u001b[0m             \u001b[1;31m# A collection of keys\u001b[0m\u001b[1;33m\u001b[0m\u001b[1;33m\u001b[0m\u001b[1;33m\u001b[0m\u001b[0m\n\u001b[1;32m-> 1133\u001b[1;33m             \u001b[0mkeyarr\u001b[0m\u001b[1;33m,\u001b[0m \u001b[0mindexer\u001b[0m \u001b[1;33m=\u001b[0m \u001b[0mself\u001b[0m\u001b[1;33m.\u001b[0m\u001b[0m_get_listlike_indexer\u001b[0m\u001b[1;33m(\u001b[0m\u001b[0mkey\u001b[0m\u001b[1;33m,\u001b[0m \u001b[0maxis\u001b[0m\u001b[1;33m,\u001b[0m \u001b[0mraise_missing\u001b[0m\u001b[1;33m=\u001b[0m\u001b[1;32mFalse\u001b[0m\u001b[1;33m)\u001b[0m\u001b[1;33m\u001b[0m\u001b[1;33m\u001b[0m\u001b[0m\n\u001b[0m\u001b[0;32m   1134\u001b[0m             return self.obj._reindex_with_indexers(\n\u001b[0;32m   1135\u001b[0m                 \u001b[1;33m{\u001b[0m\u001b[0maxis\u001b[0m\u001b[1;33m:\u001b[0m \u001b[1;33m[\u001b[0m\u001b[0mkeyarr\u001b[0m\u001b[1;33m,\u001b[0m \u001b[0mindexer\u001b[0m\u001b[1;33m]\u001b[0m\u001b[1;33m}\u001b[0m\u001b[1;33m,\u001b[0m \u001b[0mcopy\u001b[0m\u001b[1;33m=\u001b[0m\u001b[1;32mTrue\u001b[0m\u001b[1;33m,\u001b[0m \u001b[0mallow_dups\u001b[0m\u001b[1;33m=\u001b[0m\u001b[1;32mTrue\u001b[0m\u001b[1;33m\u001b[0m\u001b[1;33m\u001b[0m\u001b[0m\n",
      "\u001b[1;32m~\\Anaconda3\\lib\\site-packages\\pandas\\core\\indexing.py\u001b[0m in \u001b[0;36m_get_listlike_indexer\u001b[1;34m(self, key, axis, raise_missing)\u001b[0m\n\u001b[0;32m   1090\u001b[0m \u001b[1;33m\u001b[0m\u001b[0m\n\u001b[0;32m   1091\u001b[0m         self._validate_read_indexer(\n\u001b[1;32m-> 1092\u001b[1;33m             \u001b[0mkeyarr\u001b[0m\u001b[1;33m,\u001b[0m \u001b[0mindexer\u001b[0m\u001b[1;33m,\u001b[0m \u001b[0mo\u001b[0m\u001b[1;33m.\u001b[0m\u001b[0m_get_axis_number\u001b[0m\u001b[1;33m(\u001b[0m\u001b[0maxis\u001b[0m\u001b[1;33m)\u001b[0m\u001b[1;33m,\u001b[0m \u001b[0mraise_missing\u001b[0m\u001b[1;33m=\u001b[0m\u001b[0mraise_missing\u001b[0m\u001b[1;33m\u001b[0m\u001b[1;33m\u001b[0m\u001b[0m\n\u001b[0m\u001b[0;32m   1093\u001b[0m         )\n\u001b[0;32m   1094\u001b[0m         \u001b[1;32mreturn\u001b[0m \u001b[0mkeyarr\u001b[0m\u001b[1;33m,\u001b[0m \u001b[0mindexer\u001b[0m\u001b[1;33m\u001b[0m\u001b[1;33m\u001b[0m\u001b[0m\n",
      "\u001b[1;32m~\\Anaconda3\\lib\\site-packages\\pandas\\core\\indexing.py\u001b[0m in \u001b[0;36m_validate_read_indexer\u001b[1;34m(self, key, indexer, axis, raise_missing)\u001b[0m\n\u001b[0;32m   1175\u001b[0m                 raise KeyError(\n\u001b[0;32m   1176\u001b[0m                     \"None of [{key}] are in the [{axis}]\".format(\n\u001b[1;32m-> 1177\u001b[1;33m                         \u001b[0mkey\u001b[0m\u001b[1;33m=\u001b[0m\u001b[0mkey\u001b[0m\u001b[1;33m,\u001b[0m \u001b[0maxis\u001b[0m\u001b[1;33m=\u001b[0m\u001b[0mself\u001b[0m\u001b[1;33m.\u001b[0m\u001b[0mobj\u001b[0m\u001b[1;33m.\u001b[0m\u001b[0m_get_axis_name\u001b[0m\u001b[1;33m(\u001b[0m\u001b[0maxis\u001b[0m\u001b[1;33m)\u001b[0m\u001b[1;33m\u001b[0m\u001b[1;33m\u001b[0m\u001b[0m\n\u001b[0m\u001b[0;32m   1178\u001b[0m                     )\n\u001b[0;32m   1179\u001b[0m                 )\n",
      "\u001b[1;31mKeyError\u001b[0m: \"None of [Index(['pmap_usecol:pmap_1_101_78_time:1.0',\\n       'pmap_usecol:pmap_1_102_23_time:1.0',\\n       'pmap_usecol:pmap_1_102_57_time:1.0',\\n       'pmap_usecol:pmap_1_102_64_time:1.0',\\n       'pmap_usecol:pmap_1_103_55_time:1.0',\\n       'pmap_usecol:pmap_1_104_16_time:1.0',\\n       'pmap_usecol:pmap_1_104_19_time:1.0',\\n       'pmap_usecol:pmap_1_104_63_time:1.0',\\n       'pmap_usecol:pmap_1_105_107_time:1.0',\\n       'pmap_usecol:pmap_1_106_32_time:1.0',\\n       ...\\n       'pmap_usecol:pmap_1_95_59.1_time:1.0',\\n       'pmap_usecol:pmap_1_95_59_time:1.0',\\n       'pmap_usecol:pmap_1_95_64_time:1.0',\\n       'pmap_usecol:pmap_1_97_106_time:1.0',\\n       'pmap_usecol:pmap_1_97_109_time:1.0',\\n       'pmap_usecol:pmap_1_98_38_time:1.0',\\n       'pmap_usecol:pmap_1_98_70_time:1.0',\\n       'pmap_usecol:pmap_1_98_86_time:1.0',\\n       'pmap_usecol:pmap_1_99_105_time:1.0',\\n       'pmap_usecol:pmap_1_99_123_time:1.0'],\\n      dtype='object', length=200)] are in the [index]\""
     ]
    }
   ],
   "source": [
    "#P map\n",
    "file = \"heads_map_p.csv\"\n",
    "df = pd.read_csv(os.path.join(template_ws,file),index_col=0)\n",
    "hds_df = pf.add_observations(file,insfile=\"{}.ins\".format(file),index_cols=\"time\",\n",
    "                use_cols=list(df.columns.values),prefix=\"Pmap\",obsgp=True)"
   ]
  },
  {
   "cell_type": "code",
   "execution_count": 10,
   "metadata": {},
   "outputs": [],
   "source": [
    "def chInsfle(file):\n",
    "    \n",
    "    \"\"\"\n",
    "    change a ins file create with PstFrom (only for a model with 1 stress period)\n",
    "    in the right format to be used by PEST\n",
    "    \"\"\"\n",
    "    \n",
    "    fileout = \"tmp\"\n",
    "    with open(file) as f:\n",
    "        with open(fileout,\"w\") as fout:\n",
    "            for i,line in enumerate(f):\n",
    "                if i < 2:\n",
    "                    fout.write(line)\n",
    "                if i > 1:\n",
    "                    for o,split in enumerate(line.split(\"w\")):\n",
    "                        if o == 1:\n",
    "                            fout.write(\"~,~\")\n",
    "                        fout.write(split)\n",
    "                        \n",
    "    from shutil import copyfile\n",
    "    copyfile(fileout, file) # copy \n",
    "    os.remove(fileout) # delete tmp file\n",
    "\n",
    "chInsfle(\"template/heads_pc.csv.ins\")\n",
    "chInsfle(\"template/heads_q.csv.ins\")\n",
    "chInsfle(\"template/heads_map_q.csv.ins\")\n",
    "chInsfle(\"template/heads_map_p.csv.ins\")\n",
    "\n",
    "pf.obs_dfs[0].obgnme = \"Quat\"\n",
    "pf.obs_dfs[1].obgnme = \"Pc\"\n",
    "pf.obs_dfs[2].obgnme = \"Qmap\"\n",
    "pf.obs_dfs[3].obgnme = \"Pmap\""
   ]
  },
  {
   "cell_type": "code",
   "execution_count": 11,
   "metadata": {},
   "outputs": [
    {
     "name": "stdout",
     "output_type": "stream",
     "text": [
      "noptmax:30, npar_adj:0, nnz_obs:522\n"
     ]
    },
    {
     "data": {
      "text/plain": [
       "<pyemu.pst.pst_handler.Pst at 0x1d7cec75348>"
      ]
     },
     "execution_count": 11,
     "metadata": {},
     "output_type": "execute_result"
    }
   ],
   "source": [
    "pf.build_pst(\"{}.pst\".format(case))"
   ]
  },
  {
   "cell_type": "markdown",
   "metadata": {},
   "source": [
    "### Parameters"
   ]
  },
  {
   "cell_type": "code",
   "execution_count": 12,
   "metadata": {},
   "outputs": [
    {
     "name": "stderr",
     "output_type": "stream",
     "text": [
      "C:\\Users\\emmal\\Anaconda3\\lib\\site-packages\\pyemu\\utils\\geostats.py:244: MatplotlibDeprecationWarning: Adding an axes using the same arguments as a previous axes currently reuses the earlier instance.  In a future version, a new instance will always be created and returned.  Meanwhile, this warning can be suppressed, and the future behavior ensured, by passing a unique label to each axes instance.\n",
      "  ax = plt.subplot(111)\n"
     ]
    },
    {
     "data": {
      "text/plain": [
       "<matplotlib.legend.Legend at 0x1d7d104c808>"
      ]
     },
     "execution_count": 12,
     "metadata": {},
     "output_type": "execute_result"
    },
    {
     "data": {
      "image/png": "[encoded data removed]",
      "text/plain": [
       "<Figure size 576x288 with 1 Axes>"
      ]
     },
     "metadata": {
      "needs_background": "light"
     },
     "output_type": "display_data"
    }
   ],
   "source": [
    "fig,ax = plt.subplots(figsize=(8,4))\n",
    "\n",
    "#q\n",
    "vq1 = pyemu.geostats.GauVario(a=3000,contribution=0.4)\n",
    "vq2 = pyemu.geostats.ExpVario(a=3000,contribution=0.4)\n",
    "grid_q1 = pyemu.geostats.GeoStruct(variograms=vq1, transform='log')\n",
    "grid_q2 = pyemu.geostats.GeoStruct(variograms=vq2,nugget=0.06 , transform='log')\n",
    "b=grid_q1.plot()\n",
    "b=grid_q2.plot()\n",
    "\n",
    "#pc\n",
    "vp1 = pyemu.geostats.GauVario(a=5000,contribution=0.4)\n",
    "vp2 = pyemu.geostats.ExpVario(a=5000,contribution=0.4)\n",
    "grid_pc1 = pyemu.geostats.GeoStruct(variograms=vp1, transform='log')\n",
    "grid_pc2 = pyemu.geostats.GeoStruct(variograms=vp2, transform='log')\n",
    "a=grid_pc1.plot()\n",
    "a=grid_pc2.plot()\n",
    "\n",
    "a.set_title(\"Spatial vario Q vs PC\")\n",
    "plt.legend([\"QGau\",\"Qexp\",\"PCGau\",\"PCexp\"])"
   ]
  },
  {
   "cell_type": "code",
   "execution_count": 13,
   "metadata": {},
   "outputs": [
    {
     "name": "stdout",
     "output_type": "stream",
     "text": [
      "2020-08-03 16:17:26.564780 starting: adding pilotpoint type multiplier style parameters for file(s) ['kq.txt']\n",
      "2020-08-03 16:17:26.564780 starting: loading array template\\kq.txt\n",
      "2020-08-03 16:17:26.635286 finished: loading array template\\kq.txt took: 0:00:00.070506\n",
      "2020-08-03 16:17:26.643312 loaded array 'kq.txt' of shape (182, 183)\n",
      "2020-08-03 16:17:26.733964 starting: writing array-based template file 'kp_q_inst0_pilotpoint.csv.tpl'\n",
      "2020-08-03 16:17:26.733964 starting: setting up pilot point parameters\n",
      "2020-08-03 16:17:26.733964 No spatial reference (containing cell spacing) passed.\n",
      "2020-08-03 16:17:26.733964 OK - using spatial reference in parent object.\n",
      "2020-08-03 16:17:27.502609 118 pilot point parameters created\n",
      "2020-08-03 16:17:27.502609 pilot point 'pargp':kp_q_inst:0\n",
      "2020-08-03 16:17:27.502609 finished: setting up pilot point parameters took: 0:00:00.768645\n",
      "2020-08-03 16:17:27.558433 starting: calculating factors for pargp=kp_q_inst:0\n",
      "2020-08-03 16:17:27.559436 saving krige variance file:template\\kp_q_inst0pp.var.dat\n",
      "2020-08-03 16:17:27.559436 saving krige factors file:template\\kp_q_inst0pp.fac\n",
      "starting interp point loop for 33306 points\n",
      "starting 0\n",
      "starting 1\n",
      "starting 2\n",
      "starting 3\n",
      "starting 4\n",
      "starting 5\n",
      "starting 6\n",
      "starting 7\n",
      "starting 8\n",
      "starting 9\n",
      "took 86.376671 seconds\n",
      "2020-08-03 16:18:55.571467 finished: calculating factors for pargp=kp_q_inst:0 took: 0:01:28.013034\n",
      "2020-08-03 16:18:55.571467 starting: writing array-based template file 'kp_q_inst0pp.dat.tpl'\n",
      "2020-08-03 16:18:55.691972 starting: adding parameters for file(s) ['kq.txt']\n"
     ]
    }
   ],
   "source": [
    "## pp quat\n",
    "zq = m.dis.idomain.array[1] # zone array for pp\n",
    "zq[:,140:]=0\n",
    "zq[zq<0]=0\n",
    "#plt.imshow(zq)\n",
    "pf.add_parameters(filenames=\"kq.txt\",par_type=\"pilotpoint\",pp_space=8,zone_array=zq,\n",
    "                   par_name_base=\"kp_q\",pargp=\"pp_q\",\n",
    "                   upper_bound=3,lower_bound=0.005,ult_ubound=6e-3,ult_lbound=1e-5,geostruct=grid_q1)"
   ]
  },
  {
   "cell_type": "code",
   "execution_count": 14,
   "metadata": {},
   "outputs": [
    {
     "name": "stdout",
     "output_type": "stream",
     "text": [
      "2020-08-03 16:18:55.752405 starting: adding pilotpoint type multiplier style parameters for file(s) ['kpc.txt']\n",
      "2020-08-03 16:18:55.765042 starting: loading array template\\kpc.txt\n",
      "2020-08-03 16:18:55.851041 finished: loading array template\\kpc.txt took: 0:00:00.085999\n",
      "2020-08-03 16:18:55.852041 loaded array 'kpc.txt' of shape (182, 183)\n",
      "2020-08-03 16:18:55.976036 starting: writing array-based template file 'kp_pc_inst0_pilotpoint.csv.tpl'\n",
      "2020-08-03 16:18:55.977036 starting: setting up pilot point parameters\n",
      "2020-08-03 16:18:55.978035 No spatial reference (containing cell spacing) passed.\n",
      "2020-08-03 16:18:55.979036 OK - using spatial reference in parent object.\n",
      "2020-08-03 16:18:57.112709 162 pilot point parameters created\n",
      "2020-08-03 16:18:57.113707 pilot point 'pargp':kp_pc_inst:0\n",
      "2020-08-03 16:18:57.114708 finished: setting up pilot point parameters took: 0:00:01.137672\n",
      "2020-08-03 16:18:57.191478 starting: calculating factors for pargp=kp_pc_inst:0\n",
      "2020-08-03 16:18:57.193513 saving krige variance file:template\\kp_pc_inst0pp.var.dat\n",
      "2020-08-03 16:18:57.193513 saving krige factors file:template\\kp_pc_inst0pp.fac\n",
      "starting interp point loop for 33306 points\n",
      "starting 0\n",
      "starting 1\n",
      "starting 2\n",
      "starting 3\n",
      "starting 4\n",
      "starting 5\n",
      "starting 6\n",
      "starting 7\n",
      "starting 8\n",
      "starting 9\n",
      "took 90.673739 seconds\n",
      "2020-08-03 16:20:29.937947 finished: calculating factors for pargp=kp_pc_inst:0 took: 0:01:32.746469\n",
      "2020-08-03 16:20:29.937947 starting: writing array-based template file 'kp_pc_inst0pp.dat.tpl'\n",
      "2020-08-03 16:20:29.958056 starting: adding parameters for file(s) ['kpc.txt']\n"
     ]
    }
   ],
   "source": [
    "## pp pc\n",
    "zpc = m.dis.idomain.array[3] # zone array for pp\n",
    "zpc[:,140:]=0\n",
    "zpc[zpc<0]=0\n",
    "#plt.imshow(zpc)\n",
    "\n",
    "pf.add_parameters(filenames=\"kpc.txt\",par_type=\"pilotpoint\",pp_space=8,zone_array=zpc,\n",
    "                   par_name_base=\"kp_pc\",pargp=\"pp_pc\",\n",
    "                   upper_bound=50,lower_bound=0.05,ult_ubound=5e-4,ult_lbound=5e-7,geostruct=grid_pc1)"
   ]
  },
  {
   "cell_type": "code",
   "execution_count": 15,
   "metadata": {},
   "outputs": [
    {
     "name": "stdout",
     "output_type": "stream",
     "text": [
      "2020-08-03 16:20:30.091072 starting: adding zone type multiplier style parameters for file(s) ['irr.txt']\n",
      "2020-08-03 16:20:30.091072 starting: loading array template\\irr.txt\n",
      "2020-08-03 16:20:30.153070 finished: loading array template\\irr.txt took: 0:00:00.061998\n",
      "2020-08-03 16:20:30.154116 loaded array 'irr.txt' of shape (182, 183)\n",
      "2020-08-03 16:20:30.215067 starting: writing array-based template file 'irr_inst0_zone.csv.tpl'\n",
      "2020-08-03 16:20:30.216069 starting: writing template file irr_inst0_zone.csv.tpl for ['irr_inst:0']\n",
      "2020-08-03 16:20:30.379063 finished: writing template file irr_inst0_zone.csv.tpl for ['irr_inst:0'] took: 0:00:00.162994\n",
      "2020-08-03 16:20:30.379063 finished: writing array-based template file 'irr_inst0_zone.csv.tpl' took: 0:00:00.163996\n",
      "2020-08-03 16:20:30.410062 starting: adding parameters for file(s) ['irr.txt']\n"
     ]
    },
    {
     "data": {
      "image/png": "[encoded data removed]",
      "text/plain": [
       "<Figure size 432x288 with 1 Axes>"
      ]
     },
     "metadata": {
      "needs_background": "light"
     },
     "output_type": "display_data"
    }
   ],
   "source": [
    "#irri\n",
    "zi = np.loadtxt(os.path.join(ws,\"zone_irr.txt\"))\n",
    "plt.imshow(zi)\n",
    "pf.add_parameters(filenames=\"irr.txt\",par_type=\"zone\",zone_array=zi,\n",
    "                   par_name_base=\"irr\",pargp=\"irr\",\n",
    "                   upper_bound=2,lower_bound=0.8)"
   ]
  },
  {
   "cell_type": "code",
   "execution_count": 17,
   "metadata": {
    "scrolled": true
   },
   "outputs": [
    {
     "name": "stdout",
     "output_type": "stream",
     "text": [
      "2020-08-03 16:20:40.359978 starting: adding constant type multiplier style parameters for file(s) ['kep.txt']\n",
      "2020-08-03 16:20:40.359978 starting: loading array template\\kep.txt\n",
      "2020-08-03 16:20:40.420316 finished: loading array template\\kep.txt took: 0:00:00.060338\n",
      "2020-08-03 16:20:40.422342 loaded array 'kep.txt' of shape (182, 183)\n",
      "2020-08-03 16:20:40.493060 starting: writing array-based template file 'ep_inst0_constant.csv.tpl'\n",
      "2020-08-03 16:20:40.493060 starting: writing template file ep_inst0_constant.csv.tpl for ['ep_inst:0']\n",
      "2020-08-03 16:20:40.833340 finished: writing template file ep_inst0_constant.csv.tpl for ['ep_inst:0'] took: 0:00:00.340280\n",
      "2020-08-03 16:20:40.833340 finished: writing array-based template file 'ep_inst0_constant.csv.tpl' took: 0:00:00.340280\n",
      "2020-08-03 16:20:40.925957 starting: adding parameters for file(s) ['kep.txt']\n",
      "2020-08-03 16:20:40.934000 starting: adding constant type multiplier style parameters for file(s) ['kpms.txt']\n",
      "2020-08-03 16:20:40.934000 starting: loading array template\\kpms.txt\n",
      "2020-08-03 16:20:41.001390 finished: loading array template\\kpms.txt took: 0:00:00.067390\n",
      "2020-08-03 16:20:41.001390 loaded array 'kpms.txt' of shape (182, 183)\n",
      "2020-08-03 16:20:41.078013 starting: writing array-based template file 'pms_inst0_constant.csv.tpl'\n",
      "2020-08-03 16:20:41.078013 starting: writing template file pms_inst0_constant.csv.tpl for ['pms_inst:0']\n",
      "2020-08-03 16:20:41.428817 finished: writing template file pms_inst0_constant.csv.tpl for ['pms_inst:0'] took: 0:00:00.350804\n",
      "2020-08-03 16:20:41.430836 finished: writing array-based template file 'pms_inst0_constant.csv.tpl' took: 0:00:00.352823\n",
      "2020-08-03 16:20:41.531578 starting: adding parameters for file(s) ['kpms.txt']\n",
      "2020-08-03 16:20:41.531578 starting: adding constant type multiplier style parameters for file(s) ['kqm.txt']\n",
      "2020-08-03 16:20:41.531578 starting: loading array template\\kqm.txt\n",
      "2020-08-03 16:20:41.602013 finished: loading array template\\kqm.txt took: 0:00:00.070435\n",
      "2020-08-03 16:20:41.602013 loaded array 'kqm.txt' of shape (182, 183)\n",
      "2020-08-03 16:20:41.682667 starting: writing array-based template file 'qm_inst0_constant.csv.tpl'\n",
      "2020-08-03 16:20:41.682667 starting: writing template file qm_inst0_constant.csv.tpl for ['qm_inst:0']\n",
      "2020-08-03 16:20:42.034836 finished: writing template file qm_inst0_constant.csv.tpl for ['qm_inst:0'] took: 0:00:00.352169\n",
      "2020-08-03 16:20:42.042889 finished: writing array-based template file 'qm_inst0_constant.csv.tpl' took: 0:00:00.360222\n",
      "2020-08-03 16:20:42.136340 starting: adding parameters for file(s) ['kqm.txt']\n"
     ]
    }
   ],
   "source": [
    "# kpms and kep\n",
    "pf.add_parameters(filenames=\"kep.txt\",par_type=\"constant\",\n",
    "                    par_name_base=\"ep\",pargp=\"ep\",\n",
    "                    upper_bound=30,lower_bound=0.1)\n",
    "pf.add_parameters(filenames=\"kpms.txt\",par_type=\"constant\",\n",
    "                 par_name_base=\"pms\",pargp=\"pms\",upper_bound=30,lower_bound=0.05)\n",
    "\n",
    "pf.add_parameters(filenames=\"kqm.txt\",par_type=\"constant\",\n",
    "                 par_name_base=\"qm\",pargp=\"qm\",upper_bound=10,lower_bound=0.01)"
   ]
  },
  {
   "cell_type": "markdown",
   "metadata": {},
   "source": [
    "### rivers"
   ]
  },
  {
   "cell_type": "code",
   "execution_count": 18,
   "metadata": {},
   "outputs": [],
   "source": [
    "rivers = [riv for riv in os.listdir(template_ws) if riv.endswith(\"riv\")]"
   ]
  },
  {
   "cell_type": "code",
   "execution_count": 19,
   "metadata": {},
   "outputs": [],
   "source": [
    "def riv_tpl(rivers,tmp_ws):\n",
    "    for riv in rivers:\n",
    "        riv_file = os.path.join(tmp_ws,riv)\n",
    "        tpl_file = riv_file+\".tpl\"\n",
    "        copyfile(riv_file, tpl_file)\n",
    "        \n",
    "        with fileinput.FileInput(tpl_file, inplace=True) as file:\n",
    "            for line in file:\n",
    "                print(line.replace(\"    0.00500000   \", \"~    c_{}     ~\".format(riv.split(\".\")[0])), end='')\n",
    "        with open(tpl_file, 'r+') as f:\n",
    "            content = f.read()\n",
    "            line = \"ptf ~\"\n",
    "            f.seek(0, 0)\n",
    "            f.write(line.rstrip('\\r\\n') + \"\\n\" + content)\n",
    "        \n",
    "        #add parameter to control file\n",
    "        dic = {\"parnme\":\"c_{}\".format(riv.split(\".\")[0]),\n",
    "              \"parval1\": 0.005,\n",
    "               \"pargp\": \"cond\",\n",
    "               \"tpl_filename\": tpl_file,\n",
    "               'input_filename':riv_file,\n",
    "               \"partype\" : \"constant\",\n",
    "               \"partrans\" : \"log\",\n",
    "               \"parubnd\" : 0.01,\n",
    "               \"parlbnd\" : 0.001,\n",
    "               \"parchglim\" : \"factor\",\n",
    "               \"scale\" : 1.0,\n",
    "               \"dercom\" : 1,\n",
    "               \"offset\" : 0.0} \n",
    "        a = pd.DataFrame(dic,index=[\"c_{}\".format(riv.split(\".\")[0])])\n",
    "        pf.par_dfs[0] = pf.par_dfs[0].append(a,sort=False)\n",
    "        \n",
    "        pf.tpl_filenames.append(riv+\".tpl\")\n",
    "        pf.input_filenames.append(riv)"
   ]
  },
  {
   "cell_type": "code",
   "execution_count": 20,
   "metadata": {},
   "outputs": [],
   "source": [
    "riv_tpl(rivers,template_ws)"
   ]
  },
  {
   "cell_type": "code",
   "execution_count": 21,
   "metadata": {},
   "outputs": [
    {
     "name": "stderr",
     "output_type": "stream",
     "text": [
      "C:\\Users\\emmal\\Anaconda3\\lib\\site-packages\\pyemu\\prototypes\\pst_from.py:472: FutureWarning: Sorting because non-concatenation axis is not aligned. A future version\n",
      "of pandas will change to not sort by default.\n",
      "\n",
      "To accept the future behavior, pass 'sort=False'.\n",
      "\n",
      "To retain the current behavior and silence the warning, pass 'sort=True'.\n",
      "\n",
      "  par_data = pd.concat(self.par_dfs).loc[:, par_data_cols]\n",
      "C:\\Users\\emmal\\Anaconda3\\lib\\site-packages\\pyemu\\prototypes\\pst_from.py:127: FutureWarning: Sorting because non-concatenation axis is not aligned. A future version\n",
      "of pandas will change to not sort by default.\n",
      "\n",
      "To accept the future behavior, pass 'sort=False'.\n",
      "\n",
      "To retain the current behavior and silence the warning, pass 'sort=True'.\n",
      "\n",
      "  ignore_index=True)\n"
     ]
    },
    {
     "name": "stdout",
     "output_type": "stream",
     "text": [
      "noptmax:30, npar_adj:303, nnz_obs:522\n"
     ]
    },
    {
     "data": {
      "text/plain": [
       "<pyemu.pst.pst_handler.Pst at 0x1d7d12d7388>"
      ]
     },
     "execution_count": 21,
     "metadata": {},
     "output_type": "execute_result"
    }
   ],
   "source": [
    "pf.build_pst(\"{}.pst\".format(case))"
   ]
  },
  {
   "cell_type": "code",
   "execution_count": 22,
   "metadata": {},
   "outputs": [
    {
     "name": "stdout",
     "output_type": "stream",
     "text": [
      "noptmax:30, npar_adj:303, nnz_obs:522\n",
      "2020-08-03 16:20:47.065681 forward_run line:pyemu.os_utils.run(r'..\\..\\..\\exe\\mf6')\n",
      "\n"
     ]
    }
   ],
   "source": [
    "# add run model command\n",
    "pf.mod_sys_cmds.append(\"..\\..\\..\\exe\\mf6\")\n",
    "pst = pf.build_pst(\"{}.pst\".format(case))"
   ]
  },
  {
   "cell_type": "code",
   "execution_count": 23,
   "metadata": {},
   "outputs": [
    {
     "name": "stdout",
     "output_type": "stream",
     "text": [
      "2020-08-03 16:20:47.731728 starting: building prior covariance matrix\n",
      "2020-08-03 16:20:47.941426 saving prior covariance matrix to file template\\3D_test.prior.cov\n"
     ]
    },
    {
     "name": "stderr",
     "output_type": "stream",
     "text": [
      "C:\\Users\\emmal\\Anaconda3\\lib\\site-packages\\pyemu\\utils\\helpers.py:248: UserWarning: geostatistical_prior_builder() warning: geostruct sill != 1.0, user beware!\n",
      "  warnings.warn(\"geostatistical_prior_builder() warning: geostruct sill != 1.0, user beware!\")\n"
     ]
    },
    {
     "name": "stdout",
     "output_type": "stream",
     "text": [
      "2020-08-03 16:20:48.043980 finished: building prior covariance matrix took: 0:00:00.312252\n"
     ]
    },
    {
     "data": {
      "text/plain": [
       "<matplotlib.colorbar.Colorbar at 0x1d7d14ee988>"
      ]
     },
     "execution_count": 23,
     "metadata": {},
     "output_type": "execute_result"
    },
    {
     "data": {
      "image/png": "[encoded data removed]",
      "text/plain": [
       "<Figure size 504x504 with 2 Axes>"
      ]
     },
     "metadata": {
      "needs_background": "light"
     },
     "output_type": "display_data"
    }
   ],
   "source": [
    "cov = pf.build_prior()\n",
    "x = cov.x.copy()\n",
    "x[x==0.0] = np.NaN\n",
    "fig,ax = plt.subplots(1,1,figsize=(7,7))\n",
    "g = ax.imshow(x)\n",
    "plt.colorbar(g)"
   ]
  },
  {
   "cell_type": "markdown",
   "metadata": {},
   "source": [
    "### Tikhonov"
   ]
  },
  {
   "cell_type": "code",
   "execution_count": 37,
   "metadata": {},
   "outputs": [],
   "source": [
    "# I  will add a zero order thikonov (preferred value) and initial values needs to be appropriate\n",
    "# I extract reference k from the 2D model already manually calibrated with minimize and calculate the ratio with the inversion k (setup in the setup_flopy notebook)\n",
    "# Each pp will have an initial value\n",
    "\n",
    "\n",
    "### quat\n",
    "ref_k = np.loadtxt(\"../../Modeles3D/test_3D/working/kq.txt\")\n",
    "inv_k = np.loadtxt(\"workspace/kq.txt\")\n",
    "\n",
    "mask = (pst.parameter_data[pst.parameter_data[\"pargp\"]==\"kp_q_inst:0\"].i.values.astype(int),\n",
    "  pst.parameter_data[pst.parameter_data[\"pargp\"]==\"kp_q_inst:0\"].j.values.astype(int))\n",
    "parval = (ref_k/inv_k)[mask] \n",
    "\n",
    "pst.parameter_data.loc[pst.parameter_data[\"pargp\"]==\"kp_q_inst:0\",\"parval1\"] = parval\n",
    "\n",
    "### plio\n",
    "ref_k = np.loadtxt(\"../../Modeles3D/test_3D/working/kpc.txt\")\n",
    "inv_k = np.loadtxt(\"workspace/kpc.txt\")\n",
    "\n",
    "mask = (pst.parameter_data[pst.parameter_data[\"pargp\"]==\"kp_pc_inst:0\"].i.values.astype(int),\n",
    "  pst.parameter_data[pst.parameter_data[\"pargp\"]==\"kp_pc_inst:0\"].j.values.astype(int))\n",
    "parval = (ref_k/inv_k)[mask] \n",
    "\n",
    "pst.parameter_data.loc[pst.parameter_data[\"pargp\"]==\"kp_pc_inst:0\",\"parval1\"] = parval\n",
    "\n",
    "#setup zero order tikho (preferred value regularization)\n",
    "pyemu.helpers.zero_order_tikhonov(pst)\n",
    "\n",
    "pst.prior_information.iloc[286:,-1]=0"
   ]
  },
  {
   "cell_type": "code",
   "execution_count": 39,
   "metadata": {},
   "outputs": [
    {
     "name": "stdout",
     "output_type": "stream",
     "text": [
      "noptmax:-1, npar_adj:303, nnz_obs:522\n"
     ]
    }
   ],
   "source": [
    "pst.control_data.noptmax = -1 # FOR JACOBIAN\n",
    "pst.write(os.path.join(template_ws,\"{}.pst\".format(case)))"
   ]
  },
  {
   "cell_type": "code",
   "execution_count": 40,
   "metadata": {},
   "outputs": [],
   "source": [
    "#pyemu.os_utils.run(\"..\\..\\pestpp-glm.exe {}\".format(case),cwd=\"template\")"
   ]
  },
  {
   "cell_type": "code",
   "execution_count": 41,
   "metadata": {},
   "outputs": [],
   "source": [
    "m_d = \"master_glm\"\n",
    "\n",
    "pyemu.os_utils.start_workers(template_ws,\"../../pestpp-glm.exe\",\"{}.pst\".format(case),num_workers=10,worker_root=\".\",master_dir=m_d)"
   ]
  },
  {
   "cell_type": "code",
   "execution_count": 42,
   "metadata": {},
   "outputs": [
    {
     "name": "stdout",
     "output_type": "stream",
     "text": [
      "noptmax:8, npar_adj:303, nnz_obs:522\n"
     ]
    }
   ],
   "source": [
    "t_d =\"master_glm\"\n",
    "case = \"3D_test\"\n",
    "pst = pyemu.Pst(os.path.join(t_d,\"{}.pst\".format(case)))\n",
    "pst.write_par_summary_table(filename=\"none\")\n",
    "\n",
    "#pst.svd_data.eigthresh = 5e-7\n",
    "pst.control_data.noptmax = 8 # number of iterations (should be set to a great value (50))\n",
    "pst.control_data.nphistp = 8\n",
    "pst.pestpp_options[\"n_iter_base\"] = -1\n",
    "pst.pestpp_options[\"n_iter_super\"] = 4\n",
    "pst.pestpp_options[\"glm_num_reals\"] = 50 # how many draws\n",
    "pst.pestpp_options[\"parcov\"] = \"{}.prior.cov\".format(case)\n",
    "pst.pestpp_options[\"base_jacobian\"] = \"{}.jcb\".format(case)\n",
    "pst.write(os.path.join(t_d,\"{}.pst\".format(case)))\n",
    "\n",
    "# DO the inversion\n",
    "m_d = \"master_glm_run\"\n",
    "pyemu.os_utils.start_workers(t_d,\"../../pestpp-glm.exe\",\"{}.pst\".format(case),num_workers=10,worker_root=\".\",\n",
    "                             master_dir=m_d)"
   ]
  },
  {
   "cell_type": "code",
   "execution_count": null,
   "metadata": {},
   "outputs": [],
   "source": []
  },
  {
   "cell_type": "code",
   "execution_count": null,
   "metadata": {},
   "outputs": [],
   "source": []
  }
 ],
 "metadata": {
  "kernelspec": {
   "display_name": "Python 3",
   "language": "python",
   "name": "python3"
  },
  "language_info": {
   "codemirror_mode": {
    "name": "ipython",
    "version": 3
   },
   "file_extension": ".py",
   "mimetype": "text/x-python",
   "name": "python",
   "nbconvert_exporter": "python",
   "pygments_lexer": "ipython3",
   "version": "3.6.13"
  }
 },
 "nbformat": 4,
 "nbformat_minor": 2
}
