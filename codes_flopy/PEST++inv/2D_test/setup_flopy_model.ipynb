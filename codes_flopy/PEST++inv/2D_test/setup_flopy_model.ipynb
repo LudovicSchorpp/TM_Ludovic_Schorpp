{
 "cells": [
  {
   "cell_type": "code",
   "execution_count": 2,
   "metadata": {},
   "outputs": [
    {
     "name": "stdout",
     "output_type": "stream",
     "text": [
      "flopy is installed in C:\\Users\\emmal\\Anaconda3\\lib\\site-packages\\flopy\n"
     ]
    }
   ],
   "source": [
    "import flopy as fp\n",
    "import numpy as np\n",
    "import geopandas as gp\n",
    "import pandas as pd\n",
    "import os\n",
    "import sys\n",
    "import matplotlib.pyplot as plt\n",
    "from flopy.utils.gridintersect import GridIntersect\n",
    "from flopy.utils import Raster\n",
    "import shapely\n",
    "from shapely.geometry import *\n",
    "from shutil import copyfile\n",
    "\n",
    "\n",
    "sys.path.append(\"../../modules\")\n",
    "# hand made functions\n",
    "from Rouss import *\n",
    "\n",
    "sys.path.append(\"../../Model_val/upscalling/\")\n",
    "from upscalling_functions import *"
   ]
  },
  {
   "cell_type": "code",
   "execution_count": 3,
   "metadata": {},
   "outputs": [],
   "source": [
    "model_dir = \"workspace\"\n",
    "model_name = \"pest_2D_R\"\n",
    "exe_name=\"../../exe/mf6\""
   ]
  },
  {
   "cell_type": "code",
   "execution_count": 4,
   "metadata": {},
   "outputs": [],
   "source": [
    "############# set every external variables (bcs and spatial parameters)\n",
    "\n",
    "MNT_path=\"../../data/surfaces_geoter_decoup/TOPO (inf 0 en mer).asc\"\n",
    "Agly_path= \"../../data/Fleuves/Agly_ludo.shp\" # path to Agly\n",
    "Tet_path= \"../../data/Fleuves/Tet_ludo.shp\"\n",
    "Rea_path = \"../../data/Fleuves/Reart_ludo.shp\"\n",
    "Tech_path = \"../../data/Fleuves/Tech_ludo.shp\"\n",
    "Bol_path = \"../../data/Fleuves/Boules_ludo.shp\"\n",
    "Cant_path = \"../../data/Fleuves/Cant_ludo.shp\"\n",
    "\n",
    "top,BOT,idomain,delr,delc = read_pickle(\"workspace/export_dis\") # import data from the DIS notebook\n",
    "\n",
    "### spatial parameters\n",
    "x0,x1,y0,y1 = Raster.load(MNT_path).bounds\n",
    "\n",
    "ncol = idomain.shape[1]\n",
    "nrow = idomain.shape[0]\n",
    "nlay=1\n",
    "grid = fp.discretization.StructuredGrid(delc,delr,xoff=x0,yoff=y0) # create a grid identical to the dis package, will be used\n",
    "                                                                   # to pre-process data\n",
    "ix = GridIntersect(grid)\n",
    "\n",
    "### Do a list of all active cells\n",
    "lst_domain = []\n",
    "for ilay in range(nlay):\n",
    "    for irow in range(nrow):\n",
    "        for icol in range(ncol):\n",
    "            if idomain[irow,icol] == 1:\n",
    "                lst_domain.append((ilay,irow,icol))\n",
    "idomain = idomain.reshape(nrow*ncol)\n",
    "\n",
    "### recharge from rain\n",
    "rch_path=\"../../data/recharge/recharge_p.tif\"\n",
    "rcha = rspl_rast(rch_path,grid) # resample to grid\n",
    "rcha[rcha<0]=np.mean(rcha[rcha>0]) # replace negative values by a mean\n",
    "rcha[np.abs(idomain).sum(0)==0]=0 # remove some rch\n",
    "\n",
    "### recharge irrig\n",
    "irr_path = \"../../data/recharge/rast_irr.asc\"\n",
    "irri = rspl_rast(irr_path,grid)\n",
    "irri[irri<0]=0\n",
    "irri *= 1/1000/365/86400 # from mm/yr to m/s\n",
    "np.savetxt(os.path.join(model_dir,\"irr.txt\"),irri)\n",
    "# irrigation zones\n",
    "list_val = np.unique(irri)[1:]\n",
    "irr_z=irri\n",
    "for i,ival in enumerate(list_val):\n",
    "    irr_z[irr_z==ival]=i+1\n",
    "np.savetxt(os.path.join(model_dir,\"zone_irr.txt\"),irr_z)\n",
    "\n",
    "### BC sea\n",
    "BCsea_path = \"../../data/shp/sea_bc_extended.shp\"\n",
    "BC_sea = gp.read_file(BCsea_path)\n",
    "lst_chd = gp2cellids(grid,BC_sea,idomain,type=\"polygon\") # extract cellids from the BC at the sea and make these cells active\n",
    "# attribute a constant head at all the cells in the lst_chd\n",
    "CHD = 0.1; chd_lst=[];\n",
    "for x in lst_chd:\n",
    "    chd_lst.append((x,CHD))\n",
    "\n",
    "### BC etangs\n",
    "BCetangs_path = \"../../data/shp/Surface_hydro/SURFACE_HYDROGRAPHIQUE.SHP\"\n",
    "Bcet = gp.read_file(BCetangs_path)\n",
    "etangs = Bcet[(Bcet[\"TOPONYME\"]==\"étang de canet\") | (Bcet[\"TOPONYME\"]==\"étang de leucate\")]\n",
    "# extract cellids from the BC \n",
    "etangs_chd = gp2cellids(grid,etangs.dissolve(by=\"NATURE\"),idomain)\n",
    "# attribute a constant head\n",
    "elev = 0; et_lst=[];\n",
    "for x in etangs_chd:\n",
    "    et_lst.append((x,elev,1))  \n",
    "\n",
    "#remove some rch\n",
    "idomain = idomain.reshape(nrow,ncol)\n",
    "rcha[idomain!=1]=0 # remove some rch\n",
    "for cell in etangs_chd:\n",
    "    rcha[cell[1],cell[2]]=0\n",
    "idomain = idomain.reshape(nrow*ncol)    \n",
    "    \n",
    "# BC Agly\n",
    "Agy_chd = Complete_riv(Agly_path,\"../../data/Fleuves/stations_agly.csv\",us=28,ds=0.1,lst_chd=lst_chd,lst_domain=lst_domain,grid=grid)\n",
    "# BC Tet\n",
    "Tet_chd = Complete_riv(Tet_path,\"../../data/Fleuves/stations_tet2.csv\",us=180,ds=0.1,lst_chd=lst_chd,lst_domain=lst_domain,grid=grid)\n",
    "#BC Boul\n",
    "Bol_chd = Complete_riv(Bol_path,\"../../data/Fleuves/stations_bol.csv\",us=180,ds=0.1,lst_chd=lst_chd,lst_domain=lst_domain,grid=grid)\n",
    "## BC Reart\n",
    "Rea_chd = Complete_riv(Rea_path,\"../../data/Fleuves/stations_reart.csv\",us=130,ds=0,lst_chd=lst_chd,lst_domain=lst_domain,grid=grid)\n",
    "## BC Cant\n",
    "Cant_chd = Complete_riv(Cant_path,\"../../data/Fleuves/stations_cant.csv\",us=135,ds=0.1,lst_chd=lst_chd,lst_domain=lst_domain,grid=grid)\n",
    "# BC Tech\n",
    "Tech_chd = Complete_riv(Tech_path,\"../../data/Fleuves/stations_tech.csv\",us=170,ds=0.1,lst_chd=lst_chd,lst_domain=lst_domain,grid=grid)\n",
    "\n",
    "#from chd to river\n",
    "lst_riv_chd=[Agy_chd,Tech_chd,Cant_chd,Rea_chd,Tet_chd,Bol_chd]\n",
    "cond = [0.005,0.005,0.005,0.005,0.005,0.005]\n",
    "for iriv in range(len(lst_riv_chd)):\n",
    "    chd2riv(lst_riv_chd[iriv],cond[iriv],2)\n",
    "    \n",
    "### extraction\n",
    "path = \"../../data/prélèvements/donnees_sandra/SynthèseSLanini_data_Prelevements_1987-2018.shp\"\n",
    "V_col = \"VOL_2013\"\n",
    "GDB = gp.read_file(path)\n",
    "GDB = GDB[(GDB[\"NAPPE_CAPT\"] != \"IRRIGATION\") & (GDB[\"geometry\"] != None)]\n",
    "layer = 0\n",
    "stress_data_well = importWells(GDB,grid,lst_domain,V_col=V_col,layer=layer)\n",
    "\n",
    "### prélèvements agricoles\n",
    "path = \"../../data/prélèvements/prlvm_agri.asc\"\n",
    "p_agri = rspl_rast(path,grid)\n",
    "p_agri *= 1/1000/365/86400\n",
    "p_agri *= 1.25\n",
    "\n",
    "### K\n",
    "k = np.ones([nrow,ncol])*1e-5 #base conductivity\n",
    "np.savetxt(os.path.join(model_dir,\"k.txt\"),k)\n",
    "# copyfile(\"../../Modeles2D/test_premier_model/working/k.txt\",\"workspace/k.txt\")\n",
    "\n",
    "### Corbières\n",
    "layer = 0\n",
    "BDcells = cellidBD(idomain.reshape(nlay,nrow,ncol),layer)\n",
    "poly = Polygon([(685e3,618.7e4),(685e3,619.5e4),(696e3,619.5e4),(696e3,618.7e4)])\n",
    "\n",
    "Corb_spd = []\n",
    "Corb_lst = []\n",
    "flux = 0.2 # total influx\n",
    "res = ix.intersect_polygon(poly) #intersect btw poly and grid\n",
    "for cellid in res.cellids:\n",
    "    cell = (layer,cellid[0],cellid[1])\n",
    "    if cell in BDcells:\n",
    "        Corb_lst.append(cell)\n",
    "n_cells = len(Corb_lst)\n",
    "\n",
    "for cell in Corb_lst:\n",
    "    Corb_spd.append((cell,flux/n_cells))\n",
    "    \n",
    "### Thuir\n",
    "layer = 0\n",
    "poly = Polygon([(674e3,616.8e4),(674e3,617.4e4),(678e3,617.4e4),(678e3,616.8e4)])\n",
    "\n",
    "plio_chd = []\n",
    "for cellid in ix.intersect_polygon(poly).cellids:\n",
    "    cell = (layer,cellid[0],cellid[1])\n",
    "    if cell in BDcells:\n",
    "        plio_chd.append((cell,120))"
   ]
  },
  {
   "cell_type": "code",
   "execution_count": 5,
   "metadata": {},
   "outputs": [
    {
     "name": "stderr",
     "output_type": "stream",
     "text": [
      "C:\\Users\\emmal\\Anaconda3\\lib\\site-packages\\xlrd\\xlsx.py:266: PendingDeprecationWarning: This method will be removed in future versions.  Use 'tree.iter()' or 'list(tree.iter())' instead.\n",
      "  for elem in self.tree.iter() if Element_has_iter else self.tree.getiterator():\n",
      "C:\\Users\\emmal\\Anaconda3\\lib\\site-packages\\xlrd\\xlsx.py:312: PendingDeprecationWarning: This method will be removed in future versions.  Use 'tree.iter()' or 'list(tree.iter())' instead.\n",
      "  for elem in self.tree.iter() if Element_has_iter else self.tree.getiterator():\n",
      "C:\\Users\\emmal\\Anaconda3\\lib\\site-packages\\xlrd\\xlsx.py:266: PendingDeprecationWarning: This method will be removed in future versions.  Use 'tree.iter()' or 'list(tree.iter())' instead.\n",
      "  for elem in self.tree.iter() if Element_has_iter else self.tree.getiterator():\n"
     ]
    }
   ],
   "source": [
    "####### obs\n",
    "\n",
    "# control piezos\n",
    "piez_path=\"../../data/piezos/pz_hydriad.xlsx\"\n",
    "#import the data using this function (path,modelgrid, sheetname of the data,piezometric level column, x and y coor (in L93 !))\n",
    "Control_pz = importControlPz(piez_path,grid,sheetName=\"2012\",np_col=\"NP_Avril2013\",x_col=\"x\",y_col=\"y\")\n",
    "\n",
    "il,ir,ic = np.where([Control_pz!=0]) #indice where there's an observation\n",
    "\n",
    "lst_pts=[]\n",
    "for o in range(il.shape[0]):\n",
    "    cell = (il[o],ir[o],ic[o])\n",
    "    if cell in lst_domain:\n",
    "        lst_pts.append((il[o],ir[o],ic[o]))\n",
    "    \n",
    "## carte pz\n",
    "np.random.seed(2000)\n",
    "data = \"../../data/cartes_pz/Piézo_Pliocène_1990_V2.grd\"\n",
    "carte_pz = rspl_rast(data,grid)\n",
    "carte_pz[idomain.reshape(nrow,ncol)!=1]=None\n",
    "carte_pz[:,130:]=None\n",
    "### sample points from carte_pz\n",
    "n = 200\n",
    "lst_pts_carte_pc=[]\n",
    "i_n = 0\n",
    "while i_n < n:\n",
    "    ir = np.random.randint(0,nrow)\n",
    "    ic = np.random.randint(0,ncol)\n",
    "    if ~np.isnan(carte_pz[ir,ic]) and (idomain[ir*ncol+ic]==1):\n",
    "        i_n += 1\n",
    "        lst_pts_carte_pc.append((0,ir,ic))   \n",
    "\n",
    "#obs lists\n",
    "obs_lst1=[]\n",
    "for pts in lst_pts:\n",
    "    obs_lst1.append((\"0_{}_{}\".format(pts[1],pts[2]),\"HEAD\",pts))\n",
    "    \n",
    "obs_lst_carte_pc=[]\n",
    "for pts in lst_pts_carte_pc:\n",
    "    obs_lst_carte_pc.append((\"0_{}_{}\".format(pts[1],pts[2]),\"HEAD\",pts))\n",
    "     \n",
    "obs_recarray = {('heads.csv'):obs_lst1,\n",
    "               (\"heads_pcmap.csv\"):obs_lst_carte_pc}"
   ]
  },
  {
   "cell_type": "code",
   "execution_count": 6,
   "metadata": {},
   "outputs": [
    {
     "data": {
      "image/png": "[encoded data removed]",
      "text/plain": [
       "<Figure size 432x288 with 1 Axes>"
      ]
     },
     "metadata": {
      "needs_background": "light"
     },
     "output_type": "display_data"
    }
   ],
   "source": [
    "fig = plt.figure()\n",
    "ax = fig.add_subplot()\n",
    "ax.set_aspect(\"equal\")\n",
    "for pts in lst_pts_carte_pc:\n",
    "    plt.scatter(pts[2],-pts[1],s=3,c=\"k\")"
   ]
  },
  {
   "cell_type": "code",
   "execution_count": 7,
   "metadata": {},
   "outputs": [],
   "source": [
    "######## set packages\n",
    "sim = fp.mf6.MFSimulation(sim_name=model_name, version='mf6', exe_name=exe_name, sim_ws=model_dir)\n",
    "gwf = fp.mf6.ModflowGwf(sim, modelname=model_name,model_nam_file='{}.nam'.format(model_name))\n",
    "dis = fp.mf6.ModflowGwfdis(gwf, nlay=nlay, nrow=nrow, ncol=ncol,\n",
    "                              delr=delr, delc=delc,\n",
    "                              top=top, botm=BOT,xorigin=x0,yorigin=y0,idomain=idomain)\n",
    "tdis = fp.mf6.ModflowTdis(sim, time_units='SECONDS',perioddata=[[1.0, 1, 1.]])\n",
    "ims  = fp.mf6.ModflowIms(sim, print_option='SUMMARY', complexity='simple')\n",
    "\n",
    "# initial conditions\n",
    "ic   = fp.mf6.ModflowGwfic(gwf,strt=BOT+1)\n",
    "# output control\n",
    "oc   = fp.mf6.ModflowGwfoc(gwf,budget_filerecord='{}.cbc'.format(model_name),\n",
    "                            head_filerecord='{}.hds'.format(model_name),\n",
    "                            saverecord=[('HEAD', 'LAST'),\n",
    "                                        ('BUDGET', 'ALL')],\n",
    "                            printrecord=[('BUDGET', 'ALL')])\n",
    "obs_package = fp.mf6.ModflowUtlobs(gwf, pname='head_obs', filename='{}.obs'.format(model_name), \n",
    "                                      digits=10, print_input=True,\n",
    "                                      continuous=obs_recarray)\n",
    "\n",
    "# nodeflowproperty\n",
    "npf  = fp.mf6.ModflowGwfnpf(gwf, icelltype=0, k=[\"k.txt\"], save_flows=True,save_specific_discharge=True)\n",
    "\n",
    "# recharge \n",
    "rch  = fp.mf6.ModflowGwfrcha(gwf, recharge = rcha/1000/365/86400,save_flows=True)\n",
    "\n",
    "# agriculture uptakes\n",
    "p_ag = fp.mf6.ModflowGwfrcha(gwf,pname=\"p_ag\",filename=\"p_ag.rch\",recharge = p_agri,save_flows=True)\n",
    "\n",
    "#recharge from irrigation\n",
    "irr = fp.mf6.ModflowGwfrcha(gwf,pname=\"irr\",filename=\"irr.rch\",recharge=\"irr.txt\",save_flows=True)\n",
    "\n",
    "# wells\n",
    "wel = fp.mf6.ModflowGwfwel(gwf, pname=\"wel\",filename=\"wel.wel\",\n",
    "                           stress_period_data=stress_data_well, maxbound=len(stress_data_well),save_flows=True)\n",
    "\n",
    "#Corb\n",
    "Corb = fp.mf6.ModflowGwfwel(gwf,pname=\"Corb\",filename=\"Corb.wel\",maxbound=len(Corb_spd),\n",
    "                            stress_period_data=Corb_spd,save_flows=True)\n",
    "\n",
    "#Thuir\n",
    "thuir = fp.mf6.modflow.mfgwfchd.ModflowGwfchd(gwf, pname='thuir', filename=\"thuir.chd\", maxbound=len(plio_chd), \n",
    "                                                       stress_period_data={0: plio_chd}, save_flows=True)\n",
    "\n",
    "# constant heads packages\n",
    "chd = fp.mf6.modflow.mfgwfchd.ModflowGwfchd(gwf, pname='sea', filename=\"sea.chd\", maxbound=len(chd_lst), \n",
    "                                               stress_period_data={0: chd_lst}, save_flows=True)\n",
    "\n",
    "#rivers\n",
    "etangs = fp.mf6.modflow.ModflowGwfdrn(gwf, pname='eta', filename=\"eta.drn\", maxbound=len(et_lst), \n",
    "                                               stress_period_data={0: et_lst}, save_flows=True)\n",
    "\n",
    "Riv1 = fp.mf6.modflow.mfgwfriv.ModflowGwfriv(gwf, pname='agy', filename=\"agy.riv\", maxbound=len(Agy_chd), \n",
    "                                              stress_period_data={0: Agy_chd}, save_flows=True)\n",
    "\n",
    "Riv2 = fp.mf6.modflow.mfgwfriv.ModflowGwfriv(gwf, pname='Tet', filename=\"Tet.riv\", maxbound=len(Tet_chd), \n",
    "                                               stress_period_data={0: Tet_chd}, save_flows=True)\n",
    "\n",
    "Riv3 = fp.mf6.modflow.mfgwfriv.ModflowGwfriv(gwf, pname='Rea', filename=\"Rea.riv\", maxbound=len(Rea_chd), \n",
    "                                               stress_period_data={0: Rea_chd}, save_flows=True)\n",
    "\n",
    "Riv6 = fp.mf6.modflow.mfgwfriv.ModflowGwfriv(gwf, pname='Cant', filename=\"Cant.riv\", maxbound=len(Cant_chd), \n",
    "                                               stress_period_data={0: Cant_chd}, save_flows=True)\n",
    "\n",
    "Riv4 = fp.mf6.modflow.mfgwfriv.ModflowGwfriv(gwf, pname='Tech', filename=\"Tech.riv\", maxbound=len(Tech_chd), \n",
    "                                               stress_period_data={0: Tech_chd}, save_flows=True)\n",
    "\n",
    "Riv5 = fp.mf6.modflow.mfgwfriv.ModflowGwfriv(gwf, pname='Bol', filename=\"Bol.riv\", maxbound=len(Bol_chd), \n",
    "                                               stress_period_data={0: Bol_chd}, save_flows=True)"
   ]
  },
  {
   "cell_type": "code",
   "execution_count": 8,
   "metadata": {},
   "outputs": [
    {
     "name": "stdout",
     "output_type": "stream",
     "text": [
      "writing simulation...\n",
      "  writing simulation name file...\n",
      "  writing simulation tdis package...\n",
      "  writing ims package ims_-1...\n",
      "  writing model pest_2D_R...\n",
      "    writing model name file...\n",
      "    writing package dis...\n",
      "    writing package ic...\n",
      "    writing package oc...\n",
      "    writing package head_obs...\n",
      "    writing package npf...\n",
      "    writing package rcha...\n",
      "    writing package p_ag...\n",
      "    writing package irr...\n",
      "    writing package wel...\n",
      "    writing package corb...\n",
      "    writing package thuir...\n",
      "    writing package sea...\n",
      "    writing package eta...\n",
      "    writing package agy...\n",
      "    writing package tet...\n",
      "    writing package rea...\n",
      "    writing package cant...\n",
      "    writing package tech...\n",
      "    writing package bol...\n",
      "FloPy is using the following  executable to run the model: ../../exe/mf6.exe\n",
      "                                   MODFLOW 6\n",
      "                U.S. GEOLOGICAL SURVEY MODULAR HYDROLOGIC MODEL\n",
      "                            VERSION 6.0.4 03/13/2019\n",
      "\n",
      "   MODFLOW 6 compiled Mar 21 2019 15:37:31 with IFORT compiler (ver. 19.0.0)\n",
      "\n",
      "This software has been approved for release by the U.S. Geological \n",
      "Survey (USGS). Although the software has been subjected to rigorous \n",
      "review, the USGS reserves the right to update the software as needed \n",
      "pursuant to further analysis and review. No warranty, expressed or \n",
      "implied, is made by the USGS or the U.S. Government as to the \n",
      "functionality of the software and related material nor shall the \n",
      "fact of release constitute any such warranty. Furthermore, the \n",
      "software is released on condition that neither the USGS nor the U.S. \n",
      "Government shall be held liable for any damages resulting from its \n",
      "authorized or unauthorized use. Also refer to the USGS Water \n",
      "Resources Software User Rights Notice for complete use, copyright, \n",
      "and distribution information.\n",
      "\n",
      " Run start date and time (yyyy/mm/dd hh:mm:ss): 2020/08/06 10:37:44\n",
      "\n",
      " Writing simulation list file: mfsim.lst\n",
      " Using Simulation name file: mfsim.nam\n",
      " Solving:  Stress period:     1    Time step:     1\n",
      " Run end date and time (yyyy/mm/dd hh:mm:ss): 2020/08/06 10:37:46\n",
      " Elapsed run time:  2.030 Seconds\n",
      "\n",
      " Normal termination of simulation.\n"
     ]
    },
    {
     "data": {
      "text/plain": [
       "(True, [])"
      ]
     },
     "execution_count": 8,
     "metadata": {},
     "output_type": "execute_result"
    }
   ],
   "source": [
    "sim.write_simulation()\n",
    "sim.run_simulation()"
   ]
  },
  {
   "cell_type": "code",
   "execution_count": 9,
   "metadata": {},
   "outputs": [],
   "source": [
    "head = get_heads(model_name,model_dir)"
   ]
  },
  {
   "cell_type": "code",
   "execution_count": 10,
   "metadata": {},
   "outputs": [
    {
     "data": {
      "text/plain": [
       "<matplotlib.colorbar.Colorbar at 0x2da33ab8548>"
      ]
     },
     "execution_count": 10,
     "metadata": {},
     "output_type": "execute_result"
    },
    {
     "data": {
      "image/png": "[encoded data removed]",
      "text/plain": [
       "<Figure size 432x288 with 2 Axes>"
      ]
     },
     "metadata": {
      "needs_background": "light"
     },
     "output_type": "display_data"
    }
   ],
   "source": [
    "head[head>1000] = None \n",
    "plt.imshow(head[0],vmin=0,vmax=170)\n",
    "plt.colorbar()"
   ]
  },
  {
   "cell_type": "code",
   "execution_count": 11,
   "metadata": {},
   "outputs": [],
   "source": [
    "# change observations values to real observations values\n",
    "\n",
    "file = open(os.path.join(model_dir,\"heads2.csv\"),\"w\")\n",
    "with open(os.path.join(model_dir,\"heads.csv\")) as f:\n",
    "    file.write(f.readlines()[0])\n",
    "    file.write(\"1.0000000\")\n",
    "    for i,j,k in lst_pts:\n",
    "        file.write(\",\" + str(Control_pz[j,k])) # observations from Control_pz replace obs from modflow\n",
    "file.close()\n",
    "\n",
    "#copy everything and save on head.csv\n",
    "fileout = os.path.join(model_dir,\"heads2.csv\")\n",
    "file = os.path.join(model_dir,\"heads.csv\")\n",
    "from shutil import copyfile\n",
    "copyfile(fileout, file) # copy \n",
    "os.remove(fileout) # delete tmp file\n",
    "\n",
    "\n",
    "\n",
    "file = open(os.path.join(model_dir,\"heads2.csv\"),\"w\")\n",
    "with open(os.path.join(model_dir,\"heads_pcmap.csv\")) as f:\n",
    "    file.write(f.readlines()[0])\n",
    "    file.write(\"1.0000000\")\n",
    "    for i,j,k in lst_pts_carte_pc:\n",
    "        file.write(\",\" + str(carte_pz[j,k])) # observations from carte_pz replace obs output\n",
    "file.close()\n",
    "\n",
    "#copy everything and save on head_pcmap.csv\n",
    "fileout = os.path.join(model_dir,\"heads2.csv\")\n",
    "file = os.path.join(model_dir,\"heads_pcmap.csv\")\n",
    "from shutil import copyfile\n",
    "copyfile(fileout, file) # copy \n",
    "os.remove(fileout) # delete tmp file"
   ]
  },
  {
   "cell_type": "code",
   "execution_count": null,
   "metadata": {},
   "outputs": [],
   "source": []
  },
  {
   "cell_type": "code",
   "execution_count": 20,
   "metadata": {},
   "outputs": [
    {
     "data": {
      "text/plain": [
       "Text(0.5, 1.0, 'Observations location from Piezometrics maps')"
      ]
     },
     "execution_count": 20,
     "metadata": {},
     "output_type": "execute_result"
    },
    {
     "data": {
      "image/png": "[encoded data removed]",
      "text/plain": [
       "<Figure size 720x720 with 1 Axes>"
      ]
     },
     "metadata": {
      "needs_background": "light"
     },
     "output_type": "display_data"
    }
   ],
   "source": [
    "arr=np.zeros([nrow,ncol])\n",
    "\n",
    "for i in lst_pts_carte_pc:\n",
    "    arr[i[1],i[2]]=1\n",
    "arr[arr==0]=None\n",
    "\n",
    "# plot obs\n",
    "fig = plt.figure(figsize=(10,10))\n",
    "layer = 0\n",
    "ax1  = plt.subplot(1,1,1, aspect='equal')\n",
    "ml = fp.plot.PlotMapView(model=gwf,layer=layer)\n",
    "f1 = ml.plot_array(arr,masked_values=[0],alpha=0.8)\n",
    "fp.plot.plot_shapefile(\"../../data/shp/limiteModeleRoussillon_poly.shp\",facecolor=\"none\",edgecolor=\"k\",linewidth=2)\n",
    "ax1.grid()\n",
    "\n",
    "ax1.set_xlim(x0-1e3,x1-2.3e4)\n",
    "\n",
    "import matplotlib.patches as mpatches\n",
    "#legend\n",
    "pQ = mpatches.Rectangle((0, 0), 1, 1,ec=\"grey\", fc=\"darkblue\",alpha=1)\n",
    "proxy = [pQ]\n",
    "plt.legend(proxy,[\"Points d'observations tirés de la carte P 1990\"])\n",
    "\n",
    "plt.title(\"Observations location from Piezometrics maps\")"
   ]
  },
  {
   "cell_type": "code",
   "execution_count": null,
   "metadata": {},
   "outputs": [],
   "source": []
  }
 ],
 "metadata": {
  "kernelspec": {
   "display_name": "Python 3",
   "language": "python",
   "name": "python3"
  },
  "language_info": {
   "codemirror_mode": {
    "name": "ipython",
    "version": 3
   },
   "file_extension": ".py",
   "mimetype": "text/x-python",
   "name": "python",
   "nbconvert_exporter": "python",
   "pygments_lexer": "ipython3",
   "version": "3.7.4"
  }
 },
 "nbformat": 4,
 "nbformat_minor": 2
}
